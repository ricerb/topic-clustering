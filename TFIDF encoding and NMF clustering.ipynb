{
 "cells": [
  {
   "cell_type": "code",
   "execution_count": 1,
   "metadata": {},
   "outputs": [],
   "source": [
    "import numpy as np\n",
    "import pandas as pd\n",
    "from sklearn.preprocessing import MultiLabelBinarizer\n",
    "from sklearn.feature_extraction.text import TfidfTransformer"
   ]
  },
  {
   "cell_type": "code",
   "execution_count": 2,
   "metadata": {},
   "outputs": [],
   "source": [
    "#df = pd.read_pickle('lemmatized.pkl')\n",
    "df = pd.read_pickle('nltk_stemmed.pkl')"
   ]
  },
  {
   "cell_type": "code",
   "execution_count": 3,
   "metadata": {},
   "outputs": [],
   "source": [
    "#Vectorize data stored in text\n",
    "from sklearn.feature_extraction.text import CountVectorizer\n",
    "\n",
    "df['Text_Processed_str'] = df['Text_Processed'].str.join(sep = ' ')\n",
    "\n",
    "vectorizer = CountVectorizer(analyzer='word')#, max_features=5000)\n",
    "x_counts = vectorizer.fit_transform(df['Text_Processed_str'])"
   ]
  },
  {
   "cell_type": "code",
   "execution_count": 4,
   "metadata": {},
   "outputs": [],
   "source": [
    "#Tfidf encoding\n",
    "tfidf_transformer = TfidfTransformer()\n",
    "X_train_tfidf = tfidf_transformer.fit_transform(x_counts)"
   ]
  },
  {
   "cell_type": "code",
   "execution_count": 5,
   "metadata": {},
   "outputs": [],
   "source": [
    "#NMF topic modeling\n",
    "from sklearn.decomposition import NMF, LatentDirichletAllocation\n",
    "\n",
    "no_topics = 20\n",
    "model = NMF(n_components=no_topics, random_state=1, alpha=.1, l1_ratio=.5, init='nndsvd').fit(X_train_tfidf.T)\n",
    "\n",
    "nmf = model.fit(X_train_tfidf.T)\n",
    "\n",
    "#nmf = LatentDirichletAllocation(n_components=no_topics, random_state=100).fit(X_train_tfidf.T)"
   ]
  },
  {
   "cell_type": "code",
   "execution_count": 6,
   "metadata": {},
   "outputs": [],
   "source": [
    "#Dimensionality reduction\n",
    "from sklearn.manifold import TSNE\n",
    "nmf_embedded = TSNE(n_components=2, perplexity=30).fit_transform(nmf.components_.T)"
   ]
  },
  {
   "cell_type": "code",
   "execution_count": 7,
   "metadata": {},
   "outputs": [],
   "source": [
    "#join all data back together\n",
    "reduced = pd.DataFrame(nmf_embedded)\n",
    "jdf = reduced.join(df)\n",
    "\n",
    "#Match categories to original titles\n",
    "topic_values = model.fit_transform(X_train_tfidf)\n",
    "#topic_values.shape\n",
    "#nmf.components_.shape\n",
    "jdf['category'] = topic_values.argmax(axis=1)"
   ]
  },
  {
   "cell_type": "code",
   "execution_count": 8,
   "metadata": {},
   "outputs": [],
   "source": [
    "# get top words\n",
    "def get_nmf_topics(model, n_top_words):\n",
    "    \n",
    "    #the word ids obtained need to be reverse-mapped to the words so we can print the topic names.\n",
    "    feat_names = vectorizer.get_feature_names()\n",
    "    \n",
    "    word_dict = {};\n",
    "    for i in range(no_topics):\n",
    "        \n",
    "        #for each topic, obtain the largest values, and add the words they map to into the dictionary.\n",
    "        words_ids = model.components_[i].argsort()[:-n_top_words - 1:-1]\n",
    "        words = [feat_names[key] for key in words_ids]\n",
    "        wordstring = str(\"\")\n",
    "        for word in words:\n",
    "            wordstring += word + \" \"\n",
    "        word_dict[i] = wordstring\n",
    "    \n",
    "    return pd.Series(word_dict);\n",
    "\n",
    "top_words = pd.DataFrame(get_nmf_topics(nmf, 5), columns = ['top words'])\n",
    "export = pd.merge(top_words, jdf, right_on='category', left_index=True)"
   ]
  },
  {
   "cell_type": "code",
   "execution_count": 9,
   "metadata": {},
   "outputs": [],
   "source": [
    "export.to_pickle('clustered.pkl')"
   ]
  },
  {
   "cell_type": "code",
   "execution_count": null,
   "metadata": {},
   "outputs": [],
   "source": []
  }
 ],
 "metadata": {
  "kernelspec": {
   "display_name": "Python 3",
   "language": "python",
   "name": "python3"
  },
  "language_info": {
   "codemirror_mode": {
    "name": "ipython",
    "version": 3
   },
   "file_extension": ".py",
   "mimetype": "text/x-python",
   "name": "python",
   "nbconvert_exporter": "python",
   "pygments_lexer": "ipython3",
   "version": "3.6.10"
  }
 },
 "nbformat": 4,
 "nbformat_minor": 2
}
