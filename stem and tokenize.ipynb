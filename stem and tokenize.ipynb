{
 "cells": [
  {
   "cell_type": "code",
   "execution_count": 1,
   "metadata": {},
   "outputs": [],
   "source": [
    "import pandas as pd\n",
    "import spacy"
   ]
  },
  {
   "cell_type": "code",
   "execution_count": 2,
   "metadata": {},
   "outputs": [],
   "source": [
    "df = pd.read_excel('Night Shift Work and Light at Night_ Human cancer and biomonitoring studies (2018)-refs.xlsx')\n",
    "ndf = pd.DataFrame()\n",
    "nltkdf = pd.DataFrame()"
   ]
  },
  {
   "cell_type": "code",
   "execution_count": 3,
   "metadata": {},
   "outputs": [],
   "source": [
    "ndf['Title'] = df['Title']\n",
    "#ndf['Title'] = df['Title']"
   ]
  },
  {
   "cell_type": "code",
   "execution_count": 4,
   "metadata": {},
   "outputs": [],
   "source": [
    "sp = spacy.load('en_core_web_sm')\n",
    "ndf['Title_Doc'] = ndf['Title'].apply(lambda x: sp(x))\n",
    "\n",
    "def process(sentence):\n",
    "    f_sentence = []\n",
    "    for word in sentence:\n",
    "        if word.is_stop == False:\n",
    "            f_sentence.append(word)\n",
    "            \n",
    "    p_sentence = []\n",
    "    for word in f_sentence:\n",
    "        if word.is_punct == False:\n",
    "            p_sentence.append(word)\n",
    "            \n",
    "    lem = []\n",
    "    for word in p_sentence:\n",
    "        lem.append(word.lemma_)\n",
    "        \n",
    "    return lem\n",
    "\n",
    "ndf['Title_Processed'] = ndf['Title_Doc'].apply(lambda x: process(x))"
   ]
  },
  {
   "cell_type": "code",
   "execution_count": 5,
   "metadata": {},
   "outputs": [],
   "source": [
    "ndf.to_pickle('lemmatized.pkl')"
   ]
  },
  {
   "cell_type": "code",
   "execution_count": 27,
   "metadata": {},
   "outputs": [],
   "source": [
    "from nltk.stem import PorterStemmer\n",
    "from nltk.tokenize import word_tokenize\n",
    "from nltk.corpus import stopwords\n",
    "import re\n",
    "\n",
    "stop_words = set(stopwords.words('english'))\n",
    "ps = PorterStemmer()\n",
    "\n",
    "def nltk_process(words):\n",
    "\n",
    "    tokens = word_tokenize(words)\n",
    "    stopword_filtered = [w for w in tokens if not w in stop_words]\n",
    "    \n",
    "    stemmed_words = []\n",
    "    for word in stopword_filtered:\n",
    "        stemmed_words.append(ps.stem(word))\n",
    "    \n",
    "    #remove digits and punctuation   \n",
    "    pattern = re.compile(r'[a-zA-Z]+')\n",
    "    cleaned = [x for x in stemmed_words if pattern.search(x)]\n",
    "    \n",
    "    return cleaned\n",
    "    \n",
    "    \n",
    "nltkdf['Title'] = df['Abstract'].dropna()  ###########changed to abstract\n",
    "nltkdf['Title_Processed'] = nltkdf['Title'].apply(lambda x: nltk_process(x))"
   ]
  },
  {
   "cell_type": "code",
   "execution_count": 28,
   "metadata": {},
   "outputs": [],
   "source": [
    "nltkdf.to_pickle('nltk_stemmed.pkl')"
   ]
  },
  {
   "cell_type": "code",
   "execution_count": 8,
   "metadata": {},
   "outputs": [
    {
     "data": {
      "text/html": [
       "<div>\n",
       "<style scoped>\n",
       "    .dataframe tbody tr th:only-of-type {\n",
       "        vertical-align: middle;\n",
       "    }\n",
       "\n",
       "    .dataframe tbody tr th {\n",
       "        vertical-align: top;\n",
       "    }\n",
       "\n",
       "    .dataframe thead th {\n",
       "        text-align: right;\n",
       "    }\n",
       "</style>\n",
       "<table border=\"1\" class=\"dataframe\">\n",
       "  <thead>\n",
       "    <tr style=\"text-align: right;\">\n",
       "      <th></th>\n",
       "      <th>Title</th>\n",
       "      <th>Title_Processed</th>\n",
       "    </tr>\n",
       "  </thead>\n",
       "  <tbody>\n",
       "    <tr>\n",
       "      <th>0</th>\n",
       "      <td>Working around the clock is common for many oc...</td>\n",
       "      <td>[work, around, clock, common, mani, occup, ,, ...</td>\n",
       "    </tr>\n",
       "    <tr>\n",
       "      <th>1</th>\n",
       "      <td>Fetal heart rate and fetal movements were reco...</td>\n",
       "      <td>[fetal, heart, rate, fetal, movement, record, ...</td>\n",
       "    </tr>\n",
       "    <tr>\n",
       "      <th>2</th>\n",
       "      <td>Biological rhythms are an essential component ...</td>\n",
       "      <td>[biolog, rhythm, essenti, compon, homoeostasi,...</td>\n",
       "    </tr>\n",
       "    <tr>\n",
       "      <th>3</th>\n",
       "      <td>Ten women with regular cycles volunteered in a...</td>\n",
       "      <td>[ten, women, regular, cycl, volunt, studi, rel...</td>\n",
       "    </tr>\n",
       "    <tr>\n",
       "      <th>4</th>\n",
       "      <td>Oral melatonin (MEL) can improve daytime sleep...</td>\n",
       "      <td>[oral, melatonin, (, mel, ), improv, daytim, s...</td>\n",
       "    </tr>\n",
       "  </tbody>\n",
       "</table>\n",
       "</div>"
      ],
      "text/plain": [
       "                                               Title  \\\n",
       "0  Working around the clock is common for many oc...   \n",
       "1  Fetal heart rate and fetal movements were reco...   \n",
       "2  Biological rhythms are an essential component ...   \n",
       "3  Ten women with regular cycles volunteered in a...   \n",
       "4  Oral melatonin (MEL) can improve daytime sleep...   \n",
       "\n",
       "                                     Title_Processed  \n",
       "0  [work, around, clock, common, mani, occup, ,, ...  \n",
       "1  [fetal, heart, rate, fetal, movement, record, ...  \n",
       "2  [biolog, rhythm, essenti, compon, homoeostasi,...  \n",
       "3  [ten, women, regular, cycl, volunt, studi, rel...  \n",
       "4  [oral, melatonin, (, mel, ), improv, daytim, s...  "
      ]
     },
     "execution_count": 8,
     "metadata": {},
     "output_type": "execute_result"
    }
   ],
   "source": [
    "nltkdf.head()"
   ]
  },
  {
   "cell_type": "code",
   "execution_count": null,
   "metadata": {},
   "outputs": [],
   "source": []
  }
 ],
 "metadata": {
  "kernelspec": {
   "display_name": "Python 3",
   "language": "python",
   "name": "python3"
  },
  "language_info": {
   "codemirror_mode": {
    "name": "ipython",
    "version": 3
   },
   "file_extension": ".py",
   "mimetype": "text/x-python",
   "name": "python",
   "nbconvert_exporter": "python",
   "pygments_lexer": "ipython3",
   "version": "3.7.3"
  }
 },
 "nbformat": 4,
 "nbformat_minor": 2
}
