{
 "cells": [
  {
   "cell_type": "code",
   "execution_count": 1,
   "metadata": {},
   "outputs": [],
   "source": [
    "import pandas as pd"
   ]
  },
  {
   "cell_type": "code",
   "execution_count": 2,
   "metadata": {},
   "outputs": [],
   "source": [
    "df = pd.read_excel('Night Shift Work and Light at Night_ Human cancer and biomonitoring studies (2018)-refs.xlsx')"
   ]
  },
  {
   "cell_type": "code",
   "execution_count": 3,
   "metadata": {},
   "outputs": [],
   "source": [
    "from nltk.stem import PorterStemmer\n",
    "from nltk.tokenize import word_tokenize\n",
    "from nltk.corpus import stopwords\n",
    "import re\n",
    "\n",
    "stop_words = set(stopwords.words('english'))\n",
    "ps = PorterStemmer()\n",
    "\n",
    "def nltk_process(words):\n",
    "\n",
    "    tokens = word_tokenize(words)\n",
    "    \n",
    "    stemmed_words = []\n",
    "    for word in tokens:\n",
    "        stemmed_words.append(ps.stem(word))\n",
    "    \n",
    "    stopword_filtered = [w for w in stemmed_words if w not in stop_words]\n",
    "    \n",
    "    #remove digits and punctuation   \n",
    "    pattern = re.compile(r'[a-zA-Z]+')\n",
    "    cleaned = [x for x in stopword_filtered if pattern.search(x)]\n",
    "    \n",
    "    return cleaned\n"
   ]
  },
  {
   "cell_type": "code",
   "execution_count": 5,
   "metadata": {},
   "outputs": [],
   "source": [
    "##currently set up to combine title and abstract into one field for preprocessing\n",
    "\n",
    "df['Text'] = df['Title']+df['Abstract'].astype(str)  ###########changed to abstract\n",
    "df['Text_Processed'] = df['Text'].apply(lambda x: nltk_process(x))"
   ]
  },
  {
   "cell_type": "code",
   "execution_count": 6,
   "metadata": {},
   "outputs": [],
   "source": [
    "# join everything back together for exporting\n",
    "df.iloc[:,:].to_pickle('nltk_stemmed.pkl')"
   ]
  },
  {
   "cell_type": "code",
   "execution_count": null,
   "metadata": {},
   "outputs": [],
   "source": [
    "df.head()"
   ]
  },
  {
   "cell_type": "code",
   "execution_count": null,
   "metadata": {},
   "outputs": [],
   "source": []
  }
 ],
 "metadata": {
  "kernelspec": {
   "display_name": "Python 3",
   "language": "python",
   "name": "python3"
  },
  "language_info": {
   "codemirror_mode": {
    "name": "ipython",
    "version": 3
   },
   "file_extension": ".py",
   "mimetype": "text/x-python",
   "name": "python",
   "nbconvert_exporter": "python",
   "pygments_lexer": "ipython3",
   "version": "3.6.10"
  }
 },
 "nbformat": 4,
 "nbformat_minor": 2
}
