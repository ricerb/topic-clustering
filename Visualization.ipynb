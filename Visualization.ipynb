{
 "cells": [
  {
   "cell_type": "code",
   "execution_count": 3,
   "metadata": {},
   "outputs": [
    {
     "data": {
      "text/html": [
       "<div>\n",
       "<style scoped>\n",
       "    .dataframe tbody tr th:only-of-type {\n",
       "        vertical-align: middle;\n",
       "    }\n",
       "\n",
       "    .dataframe tbody tr th {\n",
       "        vertical-align: top;\n",
       "    }\n",
       "\n",
       "    .dataframe thead th {\n",
       "        text-align: right;\n",
       "    }\n",
       "</style>\n",
       "<table border=\"1\" class=\"dataframe\">\n",
       "  <thead>\n",
       "    <tr style=\"text-align: right;\">\n",
       "      <th></th>\n",
       "      <th>0</th>\n",
       "      <th>1</th>\n",
       "      <th>2</th>\n",
       "      <th>HAWC ID</th>\n",
       "      <th>HERO ID</th>\n",
       "      <th>PubMed ID</th>\n",
       "      <th>Citation</th>\n",
       "      <th>Full Citation</th>\n",
       "      <th>Title</th>\n",
       "      <th>Authors</th>\n",
       "      <th>...</th>\n",
       "      <th>Inclusion|New|New not included</th>\n",
       "      <th>Inclusion|New|New not included|Shift work and health effects</th>\n",
       "      <th>Inclusion|New|Included in mech</th>\n",
       "      <th>Inclusion|SW or Light Qx study</th>\n",
       "      <th>Pending PDF review</th>\n",
       "      <th>Exclusion</th>\n",
       "      <th>Exclusion|Previously included</th>\n",
       "      <th>Exclusion|Foreign language</th>\n",
       "      <th>categories</th>\n",
       "      <th>top words</th>\n",
       "    </tr>\n",
       "  </thead>\n",
       "  <tbody>\n",
       "    <tr>\n",
       "      <th>0</th>\n",
       "      <td>8.704293</td>\n",
       "      <td>6.738240</td>\n",
       "      <td>0.972728</td>\n",
       "      <td>211657</td>\n",
       "      <td>NaN</td>\n",
       "      <td>NaN</td>\n",
       "      <td>Kantermann T et al. 2012</td>\n",
       "      <td>Kantermann T et al. Noisy and individual, but ...</td>\n",
       "      <td>Noisy and individual, but doable: Shift-work r...</td>\n",
       "      <td>Kantermann T et al.</td>\n",
       "      <td>...</td>\n",
       "      <td>False</td>\n",
       "      <td>False</td>\n",
       "      <td>False</td>\n",
       "      <td>False</td>\n",
       "      <td>False</td>\n",
       "      <td>False</td>\n",
       "      <td>False</td>\n",
       "      <td>False</td>\n",
       "      <td>2</td>\n",
       "      <td>MF, alzheim, autonomi, 6-sulphatoxy-melatonin,</td>\n",
       "    </tr>\n",
       "    <tr>\n",
       "      <th>1</th>\n",
       "      <td>-4.139037</td>\n",
       "      <td>-4.634757</td>\n",
       "      <td>-3.113576</td>\n",
       "      <td>216525</td>\n",
       "      <td>NaN</td>\n",
       "      <td>3038708.0</td>\n",
       "      <td>Arduini D et al. 1987</td>\n",
       "      <td>Arduini D et al. Loss of circadian rhythms of ...</td>\n",
       "      <td>Loss of circadian rhythms of fetal behaviour i...</td>\n",
       "      <td>Arduini D et al.</td>\n",
       "      <td>...</td>\n",
       "      <td>False</td>\n",
       "      <td>False</td>\n",
       "      <td>False</td>\n",
       "      <td>False</td>\n",
       "      <td>False</td>\n",
       "      <td>True</td>\n",
       "      <td>False</td>\n",
       "      <td>False</td>\n",
       "      <td>27</td>\n",
       "      <td>0.023.conclus, 14-15-hz, 6-sulftoxymelatonin, ...</td>\n",
       "    </tr>\n",
       "    <tr>\n",
       "      <th>2</th>\n",
       "      <td>7.650305</td>\n",
       "      <td>-1.856633</td>\n",
       "      <td>-3.119971</td>\n",
       "      <td>216820</td>\n",
       "      <td>NaN</td>\n",
       "      <td>9507438.0</td>\n",
       "      <td>Arendt 1998</td>\n",
       "      <td>Arendt J. Biological rhythms: the science of c...</td>\n",
       "      <td>Biological rhythms: the science of chronobiology.</td>\n",
       "      <td>Arendt J</td>\n",
       "      <td>...</td>\n",
       "      <td>False</td>\n",
       "      <td>False</td>\n",
       "      <td>False</td>\n",
       "      <td>False</td>\n",
       "      <td>False</td>\n",
       "      <td>True</td>\n",
       "      <td>False</td>\n",
       "      <td>False</td>\n",
       "      <td>5</td>\n",
       "      <td>'direct, assembl, 20e, assays.result,</td>\n",
       "    </tr>\n",
       "    <tr>\n",
       "      <th>3</th>\n",
       "      <td>-7.104928</td>\n",
       "      <td>-2.086910</td>\n",
       "      <td>-10.890368</td>\n",
       "      <td>216554</td>\n",
       "      <td>NaN</td>\n",
       "      <td>3732539.0</td>\n",
       "      <td>Armeanu, Frölich M, and Lequin 1986</td>\n",
       "      <td>Armeanu MC, Frölich M, and Lequin RM. Circadia...</td>\n",
       "      <td>Circadian rhythm of prolactin during the menst...</td>\n",
       "      <td>Armeanu MC, Frölich M, and Lequin RM</td>\n",
       "      <td>...</td>\n",
       "      <td>False</td>\n",
       "      <td>False</td>\n",
       "      <td>False</td>\n",
       "      <td>False</td>\n",
       "      <td>False</td>\n",
       "      <td>True</td>\n",
       "      <td>False</td>\n",
       "      <td>False</td>\n",
       "      <td>16</td>\n",
       "      <td>IR, 0.023.conclus, 35-day, IN,</td>\n",
       "    </tr>\n",
       "    <tr>\n",
       "      <th>4</th>\n",
       "      <td>6.411773</td>\n",
       "      <td>-4.191955</td>\n",
       "      <td>3.701956</td>\n",
       "      <td>216214</td>\n",
       "      <td>NaN</td>\n",
       "      <td>19606092.0</td>\n",
       "      <td>Aeschbach D et al. 2009</td>\n",
       "      <td>Aeschbach D et al. Use of transdermal melatoni...</td>\n",
       "      <td>Use of transdermal melatonin delivery to impro...</td>\n",
       "      <td>Aeschbach D et al.</td>\n",
       "      <td>...</td>\n",
       "      <td>False</td>\n",
       "      <td>False</td>\n",
       "      <td>False</td>\n",
       "      <td>False</td>\n",
       "      <td>False</td>\n",
       "      <td>True</td>\n",
       "      <td>False</td>\n",
       "      <td>False</td>\n",
       "      <td>6</td>\n",
       "      <td>5-androstene-3beta, 1x10, 1.7-fold, GG,</td>\n",
       "    </tr>\n",
       "    <tr>\n",
       "      <th>5</th>\n",
       "      <td>-3.276498</td>\n",
       "      <td>-4.896758</td>\n",
       "      <td>-4.370962</td>\n",
       "      <td>215884</td>\n",
       "      <td>NaN</td>\n",
       "      <td>10188140.0</td>\n",
       "      <td>Akerstedt T et al. 1999</td>\n",
       "      <td>Akerstedt T et al. A 50-Hz electromagnetic fie...</td>\n",
       "      <td>A 50-Hz electromagnetic field impairs sleep.</td>\n",
       "      <td>Akerstedt T et al.</td>\n",
       "      <td>...</td>\n",
       "      <td>False</td>\n",
       "      <td>False</td>\n",
       "      <td>False</td>\n",
       "      <td>False</td>\n",
       "      <td>False</td>\n",
       "      <td>True</td>\n",
       "      <td>False</td>\n",
       "      <td>False</td>\n",
       "      <td>27</td>\n",
       "      <td>0.023.conclus, 14-15-hz, 6-sulftoxymelatonin, ...</td>\n",
       "    </tr>\n",
       "    <tr>\n",
       "      <th>6</th>\n",
       "      <td>-4.386071</td>\n",
       "      <td>-7.382199</td>\n",
       "      <td>-4.804572</td>\n",
       "      <td>216705</td>\n",
       "      <td>NaN</td>\n",
       "      <td>7510912.0</td>\n",
       "      <td>Akimoto S, Masai M, and Shimazaki J 1994</td>\n",
       "      <td>Akimoto S, Masai M, and Shimazaki J. Relations...</td>\n",
       "      <td>Relationship between diurnal rhythm of serum t...</td>\n",
       "      <td>Akimoto S, Masai M, and Shimazaki J</td>\n",
       "      <td>...</td>\n",
       "      <td>False</td>\n",
       "      <td>False</td>\n",
       "      <td>False</td>\n",
       "      <td>False</td>\n",
       "      <td>False</td>\n",
       "      <td>True</td>\n",
       "      <td>False</td>\n",
       "      <td>False</td>\n",
       "      <td>27</td>\n",
       "      <td>0.023.conclus, 14-15-hz, 6-sulftoxymelatonin, ...</td>\n",
       "    </tr>\n",
       "    <tr>\n",
       "      <th>7</th>\n",
       "      <td>7.975543</td>\n",
       "      <td>-6.081028</td>\n",
       "      <td>-2.434402</td>\n",
       "      <td>216202</td>\n",
       "      <td>NaN</td>\n",
       "      <td>19241804.0</td>\n",
       "      <td>Anisimov 2008</td>\n",
       "      <td>Anisimov VN. [Pineal gland, biorhythms and agi...</td>\n",
       "      <td>[Pineal gland, biorhythms and aging of an orga...</td>\n",
       "      <td>Anisimov VN</td>\n",
       "      <td>...</td>\n",
       "      <td>False</td>\n",
       "      <td>False</td>\n",
       "      <td>False</td>\n",
       "      <td>False</td>\n",
       "      <td>False</td>\n",
       "      <td>True</td>\n",
       "      <td>False</td>\n",
       "      <td>False</td>\n",
       "      <td>26</td>\n",
       "      <td>1-tail, alia, 1beta, 1-week,</td>\n",
       "    </tr>\n",
       "    <tr>\n",
       "      <th>8</th>\n",
       "      <td>-8.911323</td>\n",
       "      <td>-7.151124</td>\n",
       "      <td>-8.460975</td>\n",
       "      <td>216751</td>\n",
       "      <td>NaN</td>\n",
       "      <td>8473410.0</td>\n",
       "      <td>Apter D et al. 1993</td>\n",
       "      <td>Apter D et al. Gonadotropin-releasing hormone ...</td>\n",
       "      <td>Gonadotropin-releasing hormone pulse generator...</td>\n",
       "      <td>Apter D et al.</td>\n",
       "      <td>...</td>\n",
       "      <td>False</td>\n",
       "      <td>False</td>\n",
       "      <td>False</td>\n",
       "      <td>False</td>\n",
       "      <td>False</td>\n",
       "      <td>True</td>\n",
       "      <td>False</td>\n",
       "      <td>False</td>\n",
       "      <td>27</td>\n",
       "      <td>0.023.conclus, 14-15-hz, 6-sulftoxymelatonin, ...</td>\n",
       "    </tr>\n",
       "    <tr>\n",
       "      <th>9</th>\n",
       "      <td>10.401493</td>\n",
       "      <td>-1.513929</td>\n",
       "      <td>-12.115808</td>\n",
       "      <td>216465</td>\n",
       "      <td>NaN</td>\n",
       "      <td>26059855.0</td>\n",
       "      <td>Archer and Oster H 2015</td>\n",
       "      <td>Archer SN and Oster H. How sleep and wakefulne...</td>\n",
       "      <td>How sleep and wakefulness influence circadian ...</td>\n",
       "      <td>Archer SN and Oster H</td>\n",
       "      <td>...</td>\n",
       "      <td>False</td>\n",
       "      <td>False</td>\n",
       "      <td>False</td>\n",
       "      <td>False</td>\n",
       "      <td>False</td>\n",
       "      <td>True</td>\n",
       "      <td>False</td>\n",
       "      <td>False</td>\n",
       "      <td>5</td>\n",
       "      <td>'direct, assembl, 20e, assays.result,</td>\n",
       "    </tr>\n",
       "    <tr>\n",
       "      <th>10</th>\n",
       "      <td>10.963166</td>\n",
       "      <td>5.108429</td>\n",
       "      <td>-1.116540</td>\n",
       "      <td>216083</td>\n",
       "      <td>NaN</td>\n",
       "      <td>16513724.0</td>\n",
       "      <td>Arendt 2006</td>\n",
       "      <td>Arendt J. Does melatonin improve sleep? Effica...</td>\n",
       "      <td>Does melatonin improve sleep? Efficacy of mela...</td>\n",
       "      <td>Arendt J</td>\n",
       "      <td>...</td>\n",
       "      <td>False</td>\n",
       "      <td>False</td>\n",
       "      <td>False</td>\n",
       "      <td>False</td>\n",
       "      <td>False</td>\n",
       "      <td>True</td>\n",
       "      <td>False</td>\n",
       "      <td>False</td>\n",
       "      <td>2</td>\n",
       "      <td>MF, alzheim, autonomi, 6-sulphatoxy-melatonin,</td>\n",
       "    </tr>\n",
       "    <tr>\n",
       "      <th>11</th>\n",
       "      <td>7.820950</td>\n",
       "      <td>-2.377928</td>\n",
       "      <td>-3.018709</td>\n",
       "      <td>216228</td>\n",
       "      <td>NaN</td>\n",
       "      <td>20051441.0</td>\n",
       "      <td>Arendt 2010</td>\n",
       "      <td>Arendt J. Shift work: coping with the biologic...</td>\n",
       "      <td>Shift work: coping with the biological clock.</td>\n",
       "      <td>Arendt J</td>\n",
       "      <td>...</td>\n",
       "      <td>False</td>\n",
       "      <td>False</td>\n",
       "      <td>False</td>\n",
       "      <td>False</td>\n",
       "      <td>False</td>\n",
       "      <td>True</td>\n",
       "      <td>False</td>\n",
       "      <td>False</td>\n",
       "      <td>5</td>\n",
       "      <td>'direct, assembl, 20e, assays.result,</td>\n",
       "    </tr>\n",
       "    <tr>\n",
       "      <th>12</th>\n",
       "      <td>-10.714334</td>\n",
       "      <td>-7.258170</td>\n",
       "      <td>-8.560145</td>\n",
       "      <td>216543</td>\n",
       "      <td>NaN</td>\n",
       "      <td>3462339.0</td>\n",
       "      <td>Armstrong et al. 1986</td>\n",
       "      <td>Armstrong SM et al. Synchronization of mammali...</td>\n",
       "      <td>Synchronization of mammalian circadian rhythms...</td>\n",
       "      <td>Armstrong SM et al.</td>\n",
       "      <td>...</td>\n",
       "      <td>False</td>\n",
       "      <td>False</td>\n",
       "      <td>False</td>\n",
       "      <td>False</td>\n",
       "      <td>False</td>\n",
       "      <td>True</td>\n",
       "      <td>False</td>\n",
       "      <td>False</td>\n",
       "      <td>36</td>\n",
       "      <td>/mmcp2, OS, admit, 4-vntr,</td>\n",
       "    </tr>\n",
       "    <tr>\n",
       "      <th>13</th>\n",
       "      <td>9.287507</td>\n",
       "      <td>0.421157</td>\n",
       "      <td>7.469118</td>\n",
       "      <td>216643</td>\n",
       "      <td>NaN</td>\n",
       "      <td>651285.0</td>\n",
       "      <td>Aschoff 1978</td>\n",
       "      <td>Aschoff J. [Circadian rhythms in the endocrine...</td>\n",
       "      <td>[Circadian rhythms in the endocrine system (au...</td>\n",
       "      <td>Aschoff J</td>\n",
       "      <td>...</td>\n",
       "      <td>False</td>\n",
       "      <td>False</td>\n",
       "      <td>False</td>\n",
       "      <td>False</td>\n",
       "      <td>False</td>\n",
       "      <td>True</td>\n",
       "      <td>False</td>\n",
       "      <td>False</td>\n",
       "      <td>42</td>\n",
       "      <td>2400h, 24-26-hr, 18-oh-deoxycorticosteron, 38-h,</td>\n",
       "    </tr>\n",
       "    <tr>\n",
       "      <th>14</th>\n",
       "      <td>-2.649309</td>\n",
       "      <td>-15.937960</td>\n",
       "      <td>-0.734180</td>\n",
       "      <td>216402</td>\n",
       "      <td>NaN</td>\n",
       "      <td>24345709.0</td>\n",
       "      <td>Morrissette 2013</td>\n",
       "      <td>Morrissette DA. Twisting the night away: a rev...</td>\n",
       "      <td>Twisting the night away: a review of the neuro...</td>\n",
       "      <td>Morrissette DA</td>\n",
       "      <td>...</td>\n",
       "      <td>False</td>\n",
       "      <td>False</td>\n",
       "      <td>False</td>\n",
       "      <td>False</td>\n",
       "      <td>False</td>\n",
       "      <td>True</td>\n",
       "      <td>False</td>\n",
       "      <td>False</td>\n",
       "      <td>41</td>\n",
       "      <td>advanc, afflict, 'everyth, NA,</td>\n",
       "    </tr>\n",
       "    <tr>\n",
       "      <th>15</th>\n",
       "      <td>1.359355</td>\n",
       "      <td>-4.974299</td>\n",
       "      <td>4.800281</td>\n",
       "      <td>216739</td>\n",
       "      <td>NaN</td>\n",
       "      <td>8261530.0</td>\n",
       "      <td>Folkard S, Arendt J, and Clark M 1993</td>\n",
       "      <td>Folkard S, Arendt J, and Clark M. Can melatoni...</td>\n",
       "      <td>Can melatonin improve shift workers' tolerance...</td>\n",
       "      <td>Folkard S, Arendt J, and Clark M</td>\n",
       "      <td>...</td>\n",
       "      <td>False</td>\n",
       "      <td>False</td>\n",
       "      <td>False</td>\n",
       "      <td>False</td>\n",
       "      <td>False</td>\n",
       "      <td>True</td>\n",
       "      <td>False</td>\n",
       "      <td>False</td>\n",
       "      <td>47</td>\n",
       "      <td>1ul1, anti-gonadotrop, antiag, alik,</td>\n",
       "    </tr>\n",
       "    <tr>\n",
       "      <th>16</th>\n",
       "      <td>-5.216959</td>\n",
       "      <td>-3.010350</td>\n",
       "      <td>-2.628625</td>\n",
       "      <td>215951</td>\n",
       "      <td>NaN</td>\n",
       "      <td>11541639.0</td>\n",
       "      <td>Samel A, Wegmann, and Vejvoda M 1993</td>\n",
       "      <td>Samel A, Wegmann HM, and Vejvoda M. Pre-adapta...</td>\n",
       "      <td>Pre-adaptation to shiftwork in space.</td>\n",
       "      <td>Samel A, Wegmann HM, and Vejvoda M</td>\n",
       "      <td>...</td>\n",
       "      <td>False</td>\n",
       "      <td>False</td>\n",
       "      <td>False</td>\n",
       "      <td>False</td>\n",
       "      <td>False</td>\n",
       "      <td>True</td>\n",
       "      <td>False</td>\n",
       "      <td>False</td>\n",
       "      <td>27</td>\n",
       "      <td>0.023.conclus, 14-15-hz, 6-sulftoxymelatonin, ...</td>\n",
       "    </tr>\n",
       "    <tr>\n",
       "      <th>17</th>\n",
       "      <td>9.260421</td>\n",
       "      <td>-0.821410</td>\n",
       "      <td>6.244445</td>\n",
       "      <td>216476</td>\n",
       "      <td>NaN</td>\n",
       "      <td>2627819.0</td>\n",
       "      <td>Simpson, Pauson A, and Cornélissen G 1989</td>\n",
       "      <td>Simpson HW, Pauson A, and Cornélissen G. The c...</td>\n",
       "      <td>The chronopathology of breast pre-cancer.</td>\n",
       "      <td>Simpson HW, Pauson A, and Cornélissen G</td>\n",
       "      <td>...</td>\n",
       "      <td>False</td>\n",
       "      <td>False</td>\n",
       "      <td>False</td>\n",
       "      <td>False</td>\n",
       "      <td>False</td>\n",
       "      <td>True</td>\n",
       "      <td>False</td>\n",
       "      <td>False</td>\n",
       "      <td>42</td>\n",
       "      <td>2400h, 24-26-hr, 18-oh-deoxycorticosteron, 38-h,</td>\n",
       "    </tr>\n",
       "    <tr>\n",
       "      <th>18</th>\n",
       "      <td>-5.338126</td>\n",
       "      <td>-8.361869</td>\n",
       "      <td>-7.706433</td>\n",
       "      <td>216221</td>\n",
       "      <td>NaN</td>\n",
       "      <td>19898779.0</td>\n",
       "      <td>Bittencourt et al. 2010</td>\n",
       "      <td>Bittencourt LR et al. Chronobiological disorde...</td>\n",
       "      <td>Chronobiological disorders: current and preval...</td>\n",
       "      <td>Bittencourt LR et al.</td>\n",
       "      <td>...</td>\n",
       "      <td>False</td>\n",
       "      <td>False</td>\n",
       "      <td>False</td>\n",
       "      <td>False</td>\n",
       "      <td>False</td>\n",
       "      <td>True</td>\n",
       "      <td>False</td>\n",
       "      <td>False</td>\n",
       "      <td>27</td>\n",
       "      <td>0.023.conclus, 14-15-hz, 6-sulftoxymelatonin, ...</td>\n",
       "    </tr>\n",
       "    <tr>\n",
       "      <th>19</th>\n",
       "      <td>8.223728</td>\n",
       "      <td>-2.185613</td>\n",
       "      <td>1.461281</td>\n",
       "      <td>216018</td>\n",
       "      <td>NaN</td>\n",
       "      <td>14646793.0</td>\n",
       "      <td>Brandenberger G 2003</td>\n",
       "      <td>Brandenberger G. [The ultradian rhythm of slee...</td>\n",
       "      <td>[The ultradian rhythm of sleep: diverse relati...</td>\n",
       "      <td>Brandenberger G</td>\n",
       "      <td>...</td>\n",
       "      <td>False</td>\n",
       "      <td>False</td>\n",
       "      <td>False</td>\n",
       "      <td>False</td>\n",
       "      <td>False</td>\n",
       "      <td>True</td>\n",
       "      <td>False</td>\n",
       "      <td>False</td>\n",
       "      <td>6</td>\n",
       "      <td>5-androstene-3beta, 1x10, 1.7-fold, GG,</td>\n",
       "    </tr>\n",
       "    <tr>\n",
       "      <th>20</th>\n",
       "      <td>-3.502052</td>\n",
       "      <td>-5.590790</td>\n",
       "      <td>-0.579551</td>\n",
       "      <td>216734</td>\n",
       "      <td>NaN</td>\n",
       "      <td>8153908.0</td>\n",
       "      <td>Brunner and Wirz-Justice A 1993</td>\n",
       "      <td>Brunner DP and Wirz-Justice A. [Chronobiologic...</td>\n",
       "      <td>[Chronobiological sleep disorders and their tr...</td>\n",
       "      <td>Brunner DP and Wirz-Justice A</td>\n",
       "      <td>...</td>\n",
       "      <td>False</td>\n",
       "      <td>False</td>\n",
       "      <td>False</td>\n",
       "      <td>False</td>\n",
       "      <td>False</td>\n",
       "      <td>True</td>\n",
       "      <td>False</td>\n",
       "      <td>False</td>\n",
       "      <td>27</td>\n",
       "      <td>0.023.conclus, 14-15-hz, 6-sulftoxymelatonin, ...</td>\n",
       "    </tr>\n",
       "    <tr>\n",
       "      <th>21</th>\n",
       "      <td>-4.633961</td>\n",
       "      <td>18.428192</td>\n",
       "      <td>2.658036</td>\n",
       "      <td>216821</td>\n",
       "      <td>NaN</td>\n",
       "      <td>9507745.0</td>\n",
       "      <td>Cortés-Gallegos V, Sojo Aranda I, and Gio Pela...</td>\n",
       "      <td>Cortés-Gallegos V, Sojo Aranda I, and Gio Pela...</td>\n",
       "      <td>Disturbing the light-darkness pattern reduces ...</td>\n",
       "      <td>Cortés-Gallegos V, Sojo Aranda I, and Gio Pela...</td>\n",
       "      <td>...</td>\n",
       "      <td>False</td>\n",
       "      <td>False</td>\n",
       "      <td>False</td>\n",
       "      <td>False</td>\n",
       "      <td>False</td>\n",
       "      <td>True</td>\n",
       "      <td>False</td>\n",
       "      <td>False</td>\n",
       "      <td>1</td>\n",
       "      <td>appropri, acebo, aris, assumpt,</td>\n",
       "    </tr>\n",
       "    <tr>\n",
       "      <th>22</th>\n",
       "      <td>8.024503</td>\n",
       "      <td>6.715425</td>\n",
       "      <td>-0.220909</td>\n",
       "      <td>211609</td>\n",
       "      <td>NaN</td>\n",
       "      <td>NaN</td>\n",
       "      <td>Gotay C et al. 2016</td>\n",
       "      <td>Gotay C et al. Improving sleep to reduce breas...</td>\n",
       "      <td>Improving sleep to reduce breast cancer risk i...</td>\n",
       "      <td>Gotay C et al.</td>\n",
       "      <td>...</td>\n",
       "      <td>False</td>\n",
       "      <td>False</td>\n",
       "      <td>False</td>\n",
       "      <td>False</td>\n",
       "      <td>False</td>\n",
       "      <td>True</td>\n",
       "      <td>False</td>\n",
       "      <td>False</td>\n",
       "      <td>2</td>\n",
       "      <td>MF, alzheim, autonomi, 6-sulphatoxy-melatonin,</td>\n",
       "    </tr>\n",
       "    <tr>\n",
       "      <th>23</th>\n",
       "      <td>-0.740157</td>\n",
       "      <td>7.771392</td>\n",
       "      <td>-1.794724</td>\n",
       "      <td>211631</td>\n",
       "      <td>NaN</td>\n",
       "      <td>18427693.0</td>\n",
       "      <td>Harma 2008</td>\n",
       "      <td>Harma M. Shift work among women--a century-old...</td>\n",
       "      <td>Shift work among women--a century-old health i...</td>\n",
       "      <td>Harma M</td>\n",
       "      <td>...</td>\n",
       "      <td>False</td>\n",
       "      <td>False</td>\n",
       "      <td>False</td>\n",
       "      <td>False</td>\n",
       "      <td>False</td>\n",
       "      <td>False</td>\n",
       "      <td>False</td>\n",
       "      <td>False</td>\n",
       "      <td>1</td>\n",
       "      <td>appropri, acebo, aris, assumpt,</td>\n",
       "    </tr>\n",
       "    <tr>\n",
       "      <th>24</th>\n",
       "      <td>-4.407985</td>\n",
       "      <td>11.122769</td>\n",
       "      <td>2.232980</td>\n",
       "      <td>211573</td>\n",
       "      <td>NaN</td>\n",
       "      <td>25809688.0</td>\n",
       "      <td>Erren, Morfeld P, and Gross 2015</td>\n",
       "      <td>Erren TC, Morfeld P, and Gross VJ. Night shift...</td>\n",
       "      <td>Night shift work, chronotype, and prostate can...</td>\n",
       "      <td>Erren TC, Morfeld P, and Gross VJ</td>\n",
       "      <td>...</td>\n",
       "      <td>False</td>\n",
       "      <td>False</td>\n",
       "      <td>False</td>\n",
       "      <td>False</td>\n",
       "      <td>False</td>\n",
       "      <td>False</td>\n",
       "      <td>False</td>\n",
       "      <td>False</td>\n",
       "      <td>1</td>\n",
       "      <td>appropri, acebo, aris, assumpt,</td>\n",
       "    </tr>\n",
       "    <tr>\n",
       "      <th>25</th>\n",
       "      <td>4.002875</td>\n",
       "      <td>8.022979</td>\n",
       "      <td>-0.284365</td>\n",
       "      <td>211654</td>\n",
       "      <td>NaN</td>\n",
       "      <td>NaN</td>\n",
       "      <td>Kakizaki M et al. 2008</td>\n",
       "      <td>Kakizaki M et al. Sleep duration and the risk ...</td>\n",
       "      <td>Sleep duration and the risk of prostate cancer...</td>\n",
       "      <td>Kakizaki M et al.</td>\n",
       "      <td>...</td>\n",
       "      <td>False</td>\n",
       "      <td>False</td>\n",
       "      <td>False</td>\n",
       "      <td>False</td>\n",
       "      <td>False</td>\n",
       "      <td>True</td>\n",
       "      <td>False</td>\n",
       "      <td>False</td>\n",
       "      <td>2</td>\n",
       "      <td>MF, alzheim, autonomi, 6-sulphatoxy-melatonin,</td>\n",
       "    </tr>\n",
       "    <tr>\n",
       "      <th>26</th>\n",
       "      <td>7.609098</td>\n",
       "      <td>-6.166887</td>\n",
       "      <td>-2.160924</td>\n",
       "      <td>211593</td>\n",
       "      <td>NaN</td>\n",
       "      <td>NaN</td>\n",
       "      <td>Franco 2013</td>\n",
       "      <td>Franco G. Occupation and breast cancer: Fitnes...</td>\n",
       "      <td>Occupation and breast cancer: Fitness for work...</td>\n",
       "      <td>Franco G</td>\n",
       "      <td>...</td>\n",
       "      <td>False</td>\n",
       "      <td>False</td>\n",
       "      <td>False</td>\n",
       "      <td>False</td>\n",
       "      <td>False</td>\n",
       "      <td>True</td>\n",
       "      <td>False</td>\n",
       "      <td>False</td>\n",
       "      <td>26</td>\n",
       "      <td>1-tail, alia, 1beta, 1-week,</td>\n",
       "    </tr>\n",
       "    <tr>\n",
       "      <th>27</th>\n",
       "      <td>6.322537</td>\n",
       "      <td>4.364295</td>\n",
       "      <td>-0.816142</td>\n",
       "      <td>211468</td>\n",
       "      <td>NaN</td>\n",
       "      <td>NaN</td>\n",
       "      <td>[No authors listed] 2002</td>\n",
       "      <td>Working the night shift may increase breast c...</td>\n",
       "      <td>Working the night shift may increase breast ca...</td>\n",
       "      <td>NaN</td>\n",
       "      <td>...</td>\n",
       "      <td>False</td>\n",
       "      <td>False</td>\n",
       "      <td>False</td>\n",
       "      <td>False</td>\n",
       "      <td>False</td>\n",
       "      <td>True</td>\n",
       "      <td>False</td>\n",
       "      <td>False</td>\n",
       "      <td>2</td>\n",
       "      <td>MF, alzheim, autonomi, 6-sulphatoxy-melatonin,</td>\n",
       "    </tr>\n",
       "    <tr>\n",
       "      <th>28</th>\n",
       "      <td>-4.974484</td>\n",
       "      <td>17.177860</td>\n",
       "      <td>0.007936</td>\n",
       "      <td>211471</td>\n",
       "      <td>NaN</td>\n",
       "      <td>NaN</td>\n",
       "      <td>[No authors listed] 2012</td>\n",
       "      <td>[Night shift and the risk of hormone-dependen...</td>\n",
       "      <td>[Night shift and the risk of hormone-dependent...</td>\n",
       "      <td>NaN</td>\n",
       "      <td>...</td>\n",
       "      <td>False</td>\n",
       "      <td>False</td>\n",
       "      <td>False</td>\n",
       "      <td>False</td>\n",
       "      <td>False</td>\n",
       "      <td>True</td>\n",
       "      <td>False</td>\n",
       "      <td>False</td>\n",
       "      <td>1</td>\n",
       "      <td>appropri, acebo, aris, assumpt,</td>\n",
       "    </tr>\n",
       "    <tr>\n",
       "      <th>29</th>\n",
       "      <td>6.118634</td>\n",
       "      <td>5.092704</td>\n",
       "      <td>3.486517</td>\n",
       "      <td>211479</td>\n",
       "      <td>NaN</td>\n",
       "      <td>NaN</td>\n",
       "      <td>Andersson E et al. 2007</td>\n",
       "      <td>Andersson E et al. Cohort mortality study of S...</td>\n",
       "      <td>Cohort mortality study of Swedish pulp and pap...</td>\n",
       "      <td>Andersson E et al.</td>\n",
       "      <td>...</td>\n",
       "      <td>False</td>\n",
       "      <td>False</td>\n",
       "      <td>False</td>\n",
       "      <td>False</td>\n",
       "      <td>False</td>\n",
       "      <td>True</td>\n",
       "      <td>False</td>\n",
       "      <td>False</td>\n",
       "      <td>2</td>\n",
       "      <td>MF, alzheim, autonomi, 6-sulphatoxy-melatonin,</td>\n",
       "    </tr>\n",
       "    <tr>\n",
       "      <th>...</th>\n",
       "      <td>...</td>\n",
       "      <td>...</td>\n",
       "      <td>...</td>\n",
       "      <td>...</td>\n",
       "      <td>...</td>\n",
       "      <td>...</td>\n",
       "      <td>...</td>\n",
       "      <td>...</td>\n",
       "      <td>...</td>\n",
       "      <td>...</td>\n",
       "      <td>...</td>\n",
       "      <td>...</td>\n",
       "      <td>...</td>\n",
       "      <td>...</td>\n",
       "      <td>...</td>\n",
       "      <td>...</td>\n",
       "      <td>...</td>\n",
       "      <td>...</td>\n",
       "      <td>...</td>\n",
       "      <td>...</td>\n",
       "      <td>...</td>\n",
       "    </tr>\n",
       "    <tr>\n",
       "      <th>1633</th>\n",
       "      <td>-6.043913</td>\n",
       "      <td>7.932857</td>\n",
       "      <td>-2.871851</td>\n",
       "      <td>417282</td>\n",
       "      <td>NaN</td>\n",
       "      <td>NaN</td>\n",
       "      <td>Wu M et al. 2012</td>\n",
       "      <td>Wu M et al. Experimental chronic jet lag promo...</td>\n",
       "      <td>Experimental chronic jet lag promotes growth a...</td>\n",
       "      <td>Wu M et al.</td>\n",
       "      <td>...</td>\n",
       "      <td>False</td>\n",
       "      <td>False</td>\n",
       "      <td>False</td>\n",
       "      <td>False</td>\n",
       "      <td>False</td>\n",
       "      <td>True</td>\n",
       "      <td>False</td>\n",
       "      <td>False</td>\n",
       "      <td>14</td>\n",
       "      <td>-I, approach, +/-sem, abstarct,</td>\n",
       "    </tr>\n",
       "    <tr>\n",
       "      <th>1634</th>\n",
       "      <td>-8.146344</td>\n",
       "      <td>9.013530</td>\n",
       "      <td>-5.067765</td>\n",
       "      <td>417283</td>\n",
       "      <td>NaN</td>\n",
       "      <td>NaN</td>\n",
       "      <td>Wu et al. 2010</td>\n",
       "      <td>Wu MW et al. Effects of experimental chronic j...</td>\n",
       "      <td>Effects of experimental chronic jet lag on hem...</td>\n",
       "      <td>Wu MW et al.</td>\n",
       "      <td>...</td>\n",
       "      <td>False</td>\n",
       "      <td>False</td>\n",
       "      <td>False</td>\n",
       "      <td>False</td>\n",
       "      <td>False</td>\n",
       "      <td>True</td>\n",
       "      <td>False</td>\n",
       "      <td>False</td>\n",
       "      <td>14</td>\n",
       "      <td>-I, approach, +/-sem, abstarct,</td>\n",
       "    </tr>\n",
       "    <tr>\n",
       "      <th>1635</th>\n",
       "      <td>3.887046</td>\n",
       "      <td>14.558146</td>\n",
       "      <td>7.704058</td>\n",
       "      <td>417284</td>\n",
       "      <td>NaN</td>\n",
       "      <td>NaN</td>\n",
       "      <td>Yamazaki S et al. 2000</td>\n",
       "      <td>Yamazaki S et al. Resetting central and periph...</td>\n",
       "      <td>Resetting central and peripheral circadian osc...</td>\n",
       "      <td>Yamazaki S et al.</td>\n",
       "      <td>...</td>\n",
       "      <td>False</td>\n",
       "      <td>False</td>\n",
       "      <td>False</td>\n",
       "      <td>False</td>\n",
       "      <td>False</td>\n",
       "      <td>True</td>\n",
       "      <td>False</td>\n",
       "      <td>False</td>\n",
       "      <td>9</td>\n",
       "      <td>and-accord, avow, automot, W,</td>\n",
       "    </tr>\n",
       "    <tr>\n",
       "      <th>1636</th>\n",
       "      <td>-8.964743</td>\n",
       "      <td>5.443778</td>\n",
       "      <td>-2.445039</td>\n",
       "      <td>417285</td>\n",
       "      <td>NaN</td>\n",
       "      <td>NaN</td>\n",
       "      <td>Zeitzer et al. 2000</td>\n",
       "      <td>Zeitzer JM et al. Sensitivity of the human cir...</td>\n",
       "      <td>Sensitivity of the human circadian pacemaker t...</td>\n",
       "      <td>Zeitzer JM et al.</td>\n",
       "      <td>...</td>\n",
       "      <td>False</td>\n",
       "      <td>False</td>\n",
       "      <td>False</td>\n",
       "      <td>False</td>\n",
       "      <td>False</td>\n",
       "      <td>False</td>\n",
       "      <td>False</td>\n",
       "      <td>False</td>\n",
       "      <td>1</td>\n",
       "      <td>appropri, acebo, aris, assumpt,</td>\n",
       "    </tr>\n",
       "    <tr>\n",
       "      <th>1637</th>\n",
       "      <td>-10.371795</td>\n",
       "      <td>5.111063</td>\n",
       "      <td>-0.520824</td>\n",
       "      <td>438105</td>\n",
       "      <td>NaN</td>\n",
       "      <td>NaN</td>\n",
       "      <td>Kim et al. 2016</td>\n",
       "      <td>Kim SW et al. Night shift work and inflammator...</td>\n",
       "      <td>Night shift work and inflammatory markers in m...</td>\n",
       "      <td>Kim SW et al.</td>\n",
       "      <td>...</td>\n",
       "      <td>False</td>\n",
       "      <td>False</td>\n",
       "      <td>False</td>\n",
       "      <td>False</td>\n",
       "      <td>False</td>\n",
       "      <td>False</td>\n",
       "      <td>False</td>\n",
       "      <td>False</td>\n",
       "      <td>1</td>\n",
       "      <td>appropri, acebo, aris, assumpt,</td>\n",
       "    </tr>\n",
       "    <tr>\n",
       "      <th>1638</th>\n",
       "      <td>-2.150298</td>\n",
       "      <td>15.092106</td>\n",
       "      <td>-0.729439</td>\n",
       "      <td>438119</td>\n",
       "      <td>NaN</td>\n",
       "      <td>NaN</td>\n",
       "      <td>Perrigue et al. 2013</td>\n",
       "      <td>Perrigue MM et al. Eating frequency and risk o...</td>\n",
       "      <td>Eating frequency and risk of colorectal cancer</td>\n",
       "      <td>Perrigue MM et al.</td>\n",
       "      <td>...</td>\n",
       "      <td>False</td>\n",
       "      <td>False</td>\n",
       "      <td>False</td>\n",
       "      <td>False</td>\n",
       "      <td>False</td>\n",
       "      <td>False</td>\n",
       "      <td>False</td>\n",
       "      <td>False</td>\n",
       "      <td>1</td>\n",
       "      <td>appropri, acebo, aris, assumpt,</td>\n",
       "    </tr>\n",
       "    <tr>\n",
       "      <th>1639</th>\n",
       "      <td>-1.153758</td>\n",
       "      <td>-4.195374</td>\n",
       "      <td>-7.046161</td>\n",
       "      <td>438128</td>\n",
       "      <td>NaN</td>\n",
       "      <td>NaN</td>\n",
       "      <td>Vangelova 2008</td>\n",
       "      <td>Vangelova K. The effect of shift rotation on v...</td>\n",
       "      <td>The effect of shift rotation on variations of ...</td>\n",
       "      <td>Vangelova K</td>\n",
       "      <td>...</td>\n",
       "      <td>False</td>\n",
       "      <td>False</td>\n",
       "      <td>False</td>\n",
       "      <td>False</td>\n",
       "      <td>False</td>\n",
       "      <td>False</td>\n",
       "      <td>False</td>\n",
       "      <td>False</td>\n",
       "      <td>27</td>\n",
       "      <td>0.023.conclus, 14-15-hz, 6-sulftoxymelatonin, ...</td>\n",
       "    </tr>\n",
       "    <tr>\n",
       "      <th>1640</th>\n",
       "      <td>4.870502</td>\n",
       "      <td>1.172234</td>\n",
       "      <td>4.720384</td>\n",
       "      <td>438129</td>\n",
       "      <td>NaN</td>\n",
       "      <td>NaN</td>\n",
       "      <td>Wei et al. 2004</td>\n",
       "      <td>Wei JT et al. Eating frequency and colon cance...</td>\n",
       "      <td>Eating frequency and colon cancer risk</td>\n",
       "      <td>Wei JT et al.</td>\n",
       "      <td>...</td>\n",
       "      <td>False</td>\n",
       "      <td>False</td>\n",
       "      <td>False</td>\n",
       "      <td>False</td>\n",
       "      <td>False</td>\n",
       "      <td>False</td>\n",
       "      <td>False</td>\n",
       "      <td>False</td>\n",
       "      <td>2</td>\n",
       "      <td>MF, alzheim, autonomi, 6-sulphatoxy-melatonin,</td>\n",
       "    </tr>\n",
       "    <tr>\n",
       "      <th>1641</th>\n",
       "      <td>9.613561</td>\n",
       "      <td>9.510798</td>\n",
       "      <td>-3.230438</td>\n",
       "      <td>211473</td>\n",
       "      <td>NaN</td>\n",
       "      <td>NaN</td>\n",
       "      <td>[No authors listed] 2014</td>\n",
       "      <td>Chronobiology International. Chronobiol. Int....</td>\n",
       "      <td>Chronobiology International</td>\n",
       "      <td>NaN</td>\n",
       "      <td>...</td>\n",
       "      <td>False</td>\n",
       "      <td>False</td>\n",
       "      <td>False</td>\n",
       "      <td>False</td>\n",
       "      <td>False</td>\n",
       "      <td>True</td>\n",
       "      <td>True</td>\n",
       "      <td>False</td>\n",
       "      <td>2</td>\n",
       "      <td>MF, alzheim, autonomi, 6-sulphatoxy-melatonin,</td>\n",
       "    </tr>\n",
       "    <tr>\n",
       "      <th>1642</th>\n",
       "      <td>7.782327</td>\n",
       "      <td>-0.026494</td>\n",
       "      <td>2.091042</td>\n",
       "      <td>301160</td>\n",
       "      <td>NaN</td>\n",
       "      <td>NaN</td>\n",
       "      <td>Hrushesky, Lester B, and Lannin D 1999</td>\n",
       "      <td>Hrushesky WJ, Lester B, and Lannin D. Circadia...</td>\n",
       "      <td>Circadian coordination of cancer growth and me...</td>\n",
       "      <td>Hrushesky WJ, Lester B, and Lannin D</td>\n",
       "      <td>...</td>\n",
       "      <td>False</td>\n",
       "      <td>False</td>\n",
       "      <td>False</td>\n",
       "      <td>False</td>\n",
       "      <td>False</td>\n",
       "      <td>True</td>\n",
       "      <td>True</td>\n",
       "      <td>False</td>\n",
       "      <td>2</td>\n",
       "      <td>MF, alzheim, autonomi, 6-sulphatoxy-melatonin,</td>\n",
       "    </tr>\n",
       "    <tr>\n",
       "      <th>1643</th>\n",
       "      <td>-9.787538</td>\n",
       "      <td>7.809919</td>\n",
       "      <td>-4.311620</td>\n",
       "      <td>216353</td>\n",
       "      <td>NaN</td>\n",
       "      <td>23151476.0</td>\n",
       "      <td>LeGates et al. 2012</td>\n",
       "      <td>LeGates TA et al. Aberrant light directly impa...</td>\n",
       "      <td>Aberrant light directly impairs mood and learn...</td>\n",
       "      <td>LeGates TA et al.</td>\n",
       "      <td>...</td>\n",
       "      <td>False</td>\n",
       "      <td>False</td>\n",
       "      <td>False</td>\n",
       "      <td>False</td>\n",
       "      <td>False</td>\n",
       "      <td>True</td>\n",
       "      <td>True</td>\n",
       "      <td>False</td>\n",
       "      <td>14</td>\n",
       "      <td>-I, approach, +/-sem, abstarct,</td>\n",
       "    </tr>\n",
       "    <tr>\n",
       "      <th>1644</th>\n",
       "      <td>-0.695385</td>\n",
       "      <td>5.437031</td>\n",
       "      <td>1.495201</td>\n",
       "      <td>216522</td>\n",
       "      <td>NaN</td>\n",
       "      <td>2955423.0</td>\n",
       "      <td>Robel P et al. 1987</td>\n",
       "      <td>Robel P et al. Chronobiologic dynamics of delt...</td>\n",
       "      <td>Chronobiologic dynamics of delta 5-3 beta-hydr...</td>\n",
       "      <td>Robel P et al.</td>\n",
       "      <td>...</td>\n",
       "      <td>False</td>\n",
       "      <td>False</td>\n",
       "      <td>False</td>\n",
       "      <td>False</td>\n",
       "      <td>False</td>\n",
       "      <td>True</td>\n",
       "      <td>True</td>\n",
       "      <td>False</td>\n",
       "      <td>1</td>\n",
       "      <td>appropri, acebo, aris, assumpt,</td>\n",
       "    </tr>\n",
       "    <tr>\n",
       "      <th>1645</th>\n",
       "      <td>-13.668048</td>\n",
       "      <td>4.785297</td>\n",
       "      <td>6.505412</td>\n",
       "      <td>407731</td>\n",
       "      <td>NaN</td>\n",
       "      <td>NaN</td>\n",
       "      <td>Stringham, Stringham, and O'Brien, K. J. 2017</td>\n",
       "      <td>Stringham JM, Stringham NT, and O'Brien, K. J....</td>\n",
       "      <td>Macular Carotenoid Supplementation Improves Vi...</td>\n",
       "      <td>Stringham JM, Stringham NT, and O'Brien, K. J.</td>\n",
       "      <td>...</td>\n",
       "      <td>False</td>\n",
       "      <td>False</td>\n",
       "      <td>False</td>\n",
       "      <td>False</td>\n",
       "      <td>False</td>\n",
       "      <td>False</td>\n",
       "      <td>False</td>\n",
       "      <td>False</td>\n",
       "      <td>1</td>\n",
       "      <td>appropri, acebo, aris, assumpt,</td>\n",
       "    </tr>\n",
       "    <tr>\n",
       "      <th>1646</th>\n",
       "      <td>2.148943</td>\n",
       "      <td>-10.323999</td>\n",
       "      <td>6.640683</td>\n",
       "      <td>409839</td>\n",
       "      <td>NaN</td>\n",
       "      <td>NaN</td>\n",
       "      <td>Hall, Franche, and Koehoorn M 2018</td>\n",
       "      <td>Hall AL, Franche RL, and Koehoorn M. Examining...</td>\n",
       "      <td>Examining Exposure Assessment in Shift Work Re...</td>\n",
       "      <td>Hall AL, Franche RL, and Koehoorn M</td>\n",
       "      <td>...</td>\n",
       "      <td>True</td>\n",
       "      <td>True</td>\n",
       "      <td>False</td>\n",
       "      <td>False</td>\n",
       "      <td>False</td>\n",
       "      <td>False</td>\n",
       "      <td>False</td>\n",
       "      <td>False</td>\n",
       "      <td>47</td>\n",
       "      <td>1ul1, anti-gonadotrop, antiag, alik,</td>\n",
       "    </tr>\n",
       "    <tr>\n",
       "      <th>1647</th>\n",
       "      <td>2.239323</td>\n",
       "      <td>0.898159</td>\n",
       "      <td>4.614510</td>\n",
       "      <td>301057</td>\n",
       "      <td>NaN</td>\n",
       "      <td>28140399.0</td>\n",
       "      <td>Bedrosian and Nelson 2017</td>\n",
       "      <td>Bedrosian TA and Nelson RJ. Timing of light ex...</td>\n",
       "      <td>Timing of light exposure affects mood and brai...</td>\n",
       "      <td>Bedrosian TA and Nelson RJ</td>\n",
       "      <td>...</td>\n",
       "      <td>True</td>\n",
       "      <td>False</td>\n",
       "      <td>False</td>\n",
       "      <td>False</td>\n",
       "      <td>False</td>\n",
       "      <td>False</td>\n",
       "      <td>False</td>\n",
       "      <td>False</td>\n",
       "      <td>2</td>\n",
       "      <td>MF, alzheim, autonomi, 6-sulphatoxy-melatonin,</td>\n",
       "    </tr>\n",
       "    <tr>\n",
       "      <th>1648</th>\n",
       "      <td>1.981637</td>\n",
       "      <td>-7.930293</td>\n",
       "      <td>4.345877</td>\n",
       "      <td>409828</td>\n",
       "      <td>NaN</td>\n",
       "      <td>NaN</td>\n",
       "      <td>Books C et al. 2017</td>\n",
       "      <td>Books C et al. Night Shift Work and Its Health...</td>\n",
       "      <td>Night Shift Work and Its Health Effects on Nurses</td>\n",
       "      <td>Books C et al.</td>\n",
       "      <td>...</td>\n",
       "      <td>True</td>\n",
       "      <td>False</td>\n",
       "      <td>False</td>\n",
       "      <td>False</td>\n",
       "      <td>False</td>\n",
       "      <td>False</td>\n",
       "      <td>False</td>\n",
       "      <td>False</td>\n",
       "      <td>47</td>\n",
       "      <td>1ul1, anti-gonadotrop, antiag, alik,</td>\n",
       "    </tr>\n",
       "    <tr>\n",
       "      <th>1649</th>\n",
       "      <td>-3.736972</td>\n",
       "      <td>-3.947331</td>\n",
       "      <td>-2.634075</td>\n",
       "      <td>417216</td>\n",
       "      <td>NaN</td>\n",
       "      <td>NaN</td>\n",
       "      <td>Figueiro 2017</td>\n",
       "      <td>Figueiro MG. Disruption of circadian rhythms b...</td>\n",
       "      <td>Disruption of circadian rhythms by light durin...</td>\n",
       "      <td>Figueiro MG</td>\n",
       "      <td>...</td>\n",
       "      <td>False</td>\n",
       "      <td>False</td>\n",
       "      <td>False</td>\n",
       "      <td>False</td>\n",
       "      <td>False</td>\n",
       "      <td>False</td>\n",
       "      <td>False</td>\n",
       "      <td>False</td>\n",
       "      <td>27</td>\n",
       "      <td>0.023.conclus, 14-15-hz, 6-sulftoxymelatonin, ...</td>\n",
       "    </tr>\n",
       "    <tr>\n",
       "      <th>1650</th>\n",
       "      <td>4.822619</td>\n",
       "      <td>0.626964</td>\n",
       "      <td>-4.676428</td>\n",
       "      <td>409846</td>\n",
       "      <td>NaN</td>\n",
       "      <td>NaN</td>\n",
       "      <td>Korsiak J et al. 2018</td>\n",
       "      <td>Korsiak J et al. Sleep duration as a mediator ...</td>\n",
       "      <td>Sleep duration as a mediator between an altern...</td>\n",
       "      <td>Korsiak J et al.</td>\n",
       "      <td>...</td>\n",
       "      <td>True</td>\n",
       "      <td>True</td>\n",
       "      <td>False</td>\n",
       "      <td>False</td>\n",
       "      <td>False</td>\n",
       "      <td>False</td>\n",
       "      <td>False</td>\n",
       "      <td>False</td>\n",
       "      <td>5</td>\n",
       "      <td>'direct, assembl, 20e, assays.result,</td>\n",
       "    </tr>\n",
       "    <tr>\n",
       "      <th>1651</th>\n",
       "      <td>-6.547561</td>\n",
       "      <td>2.540817</td>\n",
       "      <td>-1.663925</td>\n",
       "      <td>409849</td>\n",
       "      <td>NaN</td>\n",
       "      <td>NaN</td>\n",
       "      <td>Lin and Farkas 2018</td>\n",
       "      <td>Lin HH and Farkas ME. Altered Circadian Rhythm...</td>\n",
       "      <td>Altered Circadian Rhythms and Breast Cancer: F...</td>\n",
       "      <td>Lin HH and Farkas ME</td>\n",
       "      <td>...</td>\n",
       "      <td>False</td>\n",
       "      <td>False</td>\n",
       "      <td>False</td>\n",
       "      <td>False</td>\n",
       "      <td>False</td>\n",
       "      <td>False</td>\n",
       "      <td>False</td>\n",
       "      <td>False</td>\n",
       "      <td>18</td>\n",
       "      <td>artist, analys, abstract, averag,</td>\n",
       "    </tr>\n",
       "    <tr>\n",
       "      <th>1652</th>\n",
       "      <td>2.459685</td>\n",
       "      <td>2.990574</td>\n",
       "      <td>0.540255</td>\n",
       "      <td>417192</td>\n",
       "      <td>NaN</td>\n",
       "      <td>NaN</td>\n",
       "      <td>Brainard et al. 2001</td>\n",
       "      <td>Brainard GC et al. Action spectrum for melaton...</td>\n",
       "      <td>Action spectrum for melatonin regulation in hu...</td>\n",
       "      <td>Brainard GC et al.</td>\n",
       "      <td>...</td>\n",
       "      <td>False</td>\n",
       "      <td>False</td>\n",
       "      <td>False</td>\n",
       "      <td>False</td>\n",
       "      <td>False</td>\n",
       "      <td>False</td>\n",
       "      <td>False</td>\n",
       "      <td>False</td>\n",
       "      <td>2</td>\n",
       "      <td>MF, alzheim, autonomi, 6-sulphatoxy-melatonin,</td>\n",
       "    </tr>\n",
       "    <tr>\n",
       "      <th>1653</th>\n",
       "      <td>-7.670729</td>\n",
       "      <td>9.004049</td>\n",
       "      <td>-4.169477</td>\n",
       "      <td>409852</td>\n",
       "      <td>NaN</td>\n",
       "      <td>NaN</td>\n",
       "      <td>Min and Min 2018</td>\n",
       "      <td>Min JY and Min KB. Outdoor light at night and ...</td>\n",
       "      <td>Outdoor light at night and the prevalence of d...</td>\n",
       "      <td>Min JY and Min KB</td>\n",
       "      <td>...</td>\n",
       "      <td>True</td>\n",
       "      <td>True</td>\n",
       "      <td>False</td>\n",
       "      <td>False</td>\n",
       "      <td>False</td>\n",
       "      <td>False</td>\n",
       "      <td>False</td>\n",
       "      <td>False</td>\n",
       "      <td>14</td>\n",
       "      <td>-I, approach, +/-sem, abstarct,</td>\n",
       "    </tr>\n",
       "    <tr>\n",
       "      <th>1654</th>\n",
       "      <td>-0.550213</td>\n",
       "      <td>-3.674810</td>\n",
       "      <td>3.565643</td>\n",
       "      <td>417218</td>\n",
       "      <td>NaN</td>\n",
       "      <td>NaN</td>\n",
       "      <td>Figueiro et al. 2017</td>\n",
       "      <td>Figueiro MG et al. The impact of daytime light...</td>\n",
       "      <td>The impact of daytime light exposures on sleep...</td>\n",
       "      <td>Figueiro MG et al.</td>\n",
       "      <td>...</td>\n",
       "      <td>False</td>\n",
       "      <td>False</td>\n",
       "      <td>False</td>\n",
       "      <td>False</td>\n",
       "      <td>False</td>\n",
       "      <td>False</td>\n",
       "      <td>False</td>\n",
       "      <td>False</td>\n",
       "      <td>47</td>\n",
       "      <td>1ul1, anti-gonadotrop, antiag, alik,</td>\n",
       "    </tr>\n",
       "    <tr>\n",
       "      <th>1655</th>\n",
       "      <td>9.239051</td>\n",
       "      <td>0.404946</td>\n",
       "      <td>7.791959</td>\n",
       "      <td>417281</td>\n",
       "      <td>NaN</td>\n",
       "      <td>NaN</td>\n",
       "      <td>Wahnschaffe A et al. 2013</td>\n",
       "      <td>Wahnschaffe A et al. Out of the lab and into t...</td>\n",
       "      <td>Out of the lab and into the bathroom: evening ...</td>\n",
       "      <td>Wahnschaffe A et al.</td>\n",
       "      <td>...</td>\n",
       "      <td>False</td>\n",
       "      <td>False</td>\n",
       "      <td>False</td>\n",
       "      <td>False</td>\n",
       "      <td>False</td>\n",
       "      <td>False</td>\n",
       "      <td>False</td>\n",
       "      <td>False</td>\n",
       "      <td>42</td>\n",
       "      <td>2400h, 24-26-hr, 18-oh-deoxycorticosteron, 38-h,</td>\n",
       "    </tr>\n",
       "    <tr>\n",
       "      <th>1656</th>\n",
       "      <td>-4.341866</td>\n",
       "      <td>14.830101</td>\n",
       "      <td>0.206770</td>\n",
       "      <td>409831</td>\n",
       "      <td>NaN</td>\n",
       "      <td>NaN</td>\n",
       "      <td>de Castro et al. 2018</td>\n",
       "      <td>de Castro TB et al. Evaluation of melatonin an...</td>\n",
       "      <td>Evaluation of melatonin and AFMK levels in wom...</td>\n",
       "      <td>de Castro TB et al.</td>\n",
       "      <td>...</td>\n",
       "      <td>False</td>\n",
       "      <td>False</td>\n",
       "      <td>False</td>\n",
       "      <td>False</td>\n",
       "      <td>False</td>\n",
       "      <td>False</td>\n",
       "      <td>False</td>\n",
       "      <td>False</td>\n",
       "      <td>1</td>\n",
       "      <td>appropri, acebo, aris, assumpt,</td>\n",
       "    </tr>\n",
       "    <tr>\n",
       "      <th>1657</th>\n",
       "      <td>1.332347</td>\n",
       "      <td>1.115331</td>\n",
       "      <td>1.392130</td>\n",
       "      <td>301273</td>\n",
       "      <td>NaN</td>\n",
       "      <td>18540832.0</td>\n",
       "      <td>Reiter et al. 2007</td>\n",
       "      <td>Reiter RJ et al. Light at night, chronodisrupt...</td>\n",
       "      <td>Light at night, chronodisruption, melatonin su...</td>\n",
       "      <td>Reiter RJ et al.</td>\n",
       "      <td>...</td>\n",
       "      <td>False</td>\n",
       "      <td>False</td>\n",
       "      <td>False</td>\n",
       "      <td>False</td>\n",
       "      <td>False</td>\n",
       "      <td>False</td>\n",
       "      <td>False</td>\n",
       "      <td>False</td>\n",
       "      <td>2</td>\n",
       "      <td>MF, alzheim, autonomi, 6-sulphatoxy-melatonin,</td>\n",
       "    </tr>\n",
       "    <tr>\n",
       "      <th>1658</th>\n",
       "      <td>3.980911</td>\n",
       "      <td>4.867584</td>\n",
       "      <td>-0.606606</td>\n",
       "      <td>417277</td>\n",
       "      <td>NaN</td>\n",
       "      <td>NaN</td>\n",
       "      <td>van der Lely S et al. 2015</td>\n",
       "      <td>van der Lely S et al. Blue blocker glasses as ...</td>\n",
       "      <td>Blue blocker glasses as a countermeasure for a...</td>\n",
       "      <td>van der Lely S et al.</td>\n",
       "      <td>...</td>\n",
       "      <td>False</td>\n",
       "      <td>False</td>\n",
       "      <td>False</td>\n",
       "      <td>False</td>\n",
       "      <td>False</td>\n",
       "      <td>False</td>\n",
       "      <td>False</td>\n",
       "      <td>False</td>\n",
       "      <td>2</td>\n",
       "      <td>MF, alzheim, autonomi, 6-sulphatoxy-melatonin,</td>\n",
       "    </tr>\n",
       "    <tr>\n",
       "      <th>1659</th>\n",
       "      <td>3.663834</td>\n",
       "      <td>13.218436</td>\n",
       "      <td>6.767761</td>\n",
       "      <td>301315</td>\n",
       "      <td>NaN</td>\n",
       "      <td>NaN</td>\n",
       "      <td>Touvier M et al. 2011</td>\n",
       "      <td>Touvier M et al. Meta-analyses of vitamin D in...</td>\n",
       "      <td>Meta-analyses of vitamin D intake, 25-hydroxyv...</td>\n",
       "      <td>Touvier M et al.</td>\n",
       "      <td>...</td>\n",
       "      <td>False</td>\n",
       "      <td>False</td>\n",
       "      <td>False</td>\n",
       "      <td>False</td>\n",
       "      <td>False</td>\n",
       "      <td>False</td>\n",
       "      <td>False</td>\n",
       "      <td>False</td>\n",
       "      <td>9</td>\n",
       "      <td>and-accord, avow, automot, W,</td>\n",
       "    </tr>\n",
       "    <tr>\n",
       "      <th>1660</th>\n",
       "      <td>1.959688</td>\n",
       "      <td>14.458297</td>\n",
       "      <td>-4.024546</td>\n",
       "      <td>417264</td>\n",
       "      <td>NaN</td>\n",
       "      <td>NaN</td>\n",
       "      <td>Saksvik et al. 2011</td>\n",
       "      <td>Saksvik IB et al. Individual differences in to...</td>\n",
       "      <td>Individual differences in tolerance to shift w...</td>\n",
       "      <td>Saksvik IB et al.</td>\n",
       "      <td>...</td>\n",
       "      <td>False</td>\n",
       "      <td>False</td>\n",
       "      <td>False</td>\n",
       "      <td>False</td>\n",
       "      <td>False</td>\n",
       "      <td>False</td>\n",
       "      <td>False</td>\n",
       "      <td>False</td>\n",
       "      <td>22</td>\n",
       "      <td>b=2.3, .method, androgen, america,</td>\n",
       "    </tr>\n",
       "    <tr>\n",
       "      <th>1661</th>\n",
       "      <td>9.647365</td>\n",
       "      <td>1.378014</td>\n",
       "      <td>-5.749811</td>\n",
       "      <td>301221</td>\n",
       "      <td>NaN</td>\n",
       "      <td>NaN</td>\n",
       "      <td>Marinac et al. 2015</td>\n",
       "      <td>Marinac CR et al. Frequency and Circadian Timi...</td>\n",
       "      <td>Frequency and Circadian Timing of Eating May I...</td>\n",
       "      <td>Marinac CR et al.</td>\n",
       "      <td>...</td>\n",
       "      <td>False</td>\n",
       "      <td>False</td>\n",
       "      <td>False</td>\n",
       "      <td>False</td>\n",
       "      <td>False</td>\n",
       "      <td>False</td>\n",
       "      <td>False</td>\n",
       "      <td>False</td>\n",
       "      <td>5</td>\n",
       "      <td>'direct, assembl, 20e, assays.result,</td>\n",
       "    </tr>\n",
       "    <tr>\n",
       "      <th>1662</th>\n",
       "      <td>-3.543147</td>\n",
       "      <td>10.583159</td>\n",
       "      <td>1.030596</td>\n",
       "      <td>417199</td>\n",
       "      <td>NaN</td>\n",
       "      <td>NaN</td>\n",
       "      <td>Crowley et al. 2015</td>\n",
       "      <td>Crowley SJ et al. Increased sensitivity of the...</td>\n",
       "      <td>Increased sensitivity of the circadian system ...</td>\n",
       "      <td>Crowley SJ et al.</td>\n",
       "      <td>...</td>\n",
       "      <td>False</td>\n",
       "      <td>False</td>\n",
       "      <td>False</td>\n",
       "      <td>False</td>\n",
       "      <td>False</td>\n",
       "      <td>False</td>\n",
       "      <td>False</td>\n",
       "      <td>False</td>\n",
       "      <td>1</td>\n",
       "      <td>appropri, acebo, aris, assumpt,</td>\n",
       "    </tr>\n",
       "  </tbody>\n",
       "</table>\n",
       "<p>1663 rows × 118 columns</p>\n",
       "</div>"
      ],
      "text/plain": [
       "              0          1          2  HAWC ID  HERO ID   PubMed ID  \\\n",
       "0      8.704293   6.738240   0.972728   211657      NaN         NaN   \n",
       "1     -4.139037  -4.634757  -3.113576   216525      NaN   3038708.0   \n",
       "2      7.650305  -1.856633  -3.119971   216820      NaN   9507438.0   \n",
       "3     -7.104928  -2.086910 -10.890368   216554      NaN   3732539.0   \n",
       "4      6.411773  -4.191955   3.701956   216214      NaN  19606092.0   \n",
       "5     -3.276498  -4.896758  -4.370962   215884      NaN  10188140.0   \n",
       "6     -4.386071  -7.382199  -4.804572   216705      NaN   7510912.0   \n",
       "7      7.975543  -6.081028  -2.434402   216202      NaN  19241804.0   \n",
       "8     -8.911323  -7.151124  -8.460975   216751      NaN   8473410.0   \n",
       "9     10.401493  -1.513929 -12.115808   216465      NaN  26059855.0   \n",
       "10    10.963166   5.108429  -1.116540   216083      NaN  16513724.0   \n",
       "11     7.820950  -2.377928  -3.018709   216228      NaN  20051441.0   \n",
       "12   -10.714334  -7.258170  -8.560145   216543      NaN   3462339.0   \n",
       "13     9.287507   0.421157   7.469118   216643      NaN    651285.0   \n",
       "14    -2.649309 -15.937960  -0.734180   216402      NaN  24345709.0   \n",
       "15     1.359355  -4.974299   4.800281   216739      NaN   8261530.0   \n",
       "16    -5.216959  -3.010350  -2.628625   215951      NaN  11541639.0   \n",
       "17     9.260421  -0.821410   6.244445   216476      NaN   2627819.0   \n",
       "18    -5.338126  -8.361869  -7.706433   216221      NaN  19898779.0   \n",
       "19     8.223728  -2.185613   1.461281   216018      NaN  14646793.0   \n",
       "20    -3.502052  -5.590790  -0.579551   216734      NaN   8153908.0   \n",
       "21    -4.633961  18.428192   2.658036   216821      NaN   9507745.0   \n",
       "22     8.024503   6.715425  -0.220909   211609      NaN         NaN   \n",
       "23    -0.740157   7.771392  -1.794724   211631      NaN  18427693.0   \n",
       "24    -4.407985  11.122769   2.232980   211573      NaN  25809688.0   \n",
       "25     4.002875   8.022979  -0.284365   211654      NaN         NaN   \n",
       "26     7.609098  -6.166887  -2.160924   211593      NaN         NaN   \n",
       "27     6.322537   4.364295  -0.816142   211468      NaN         NaN   \n",
       "28    -4.974484  17.177860   0.007936   211471      NaN         NaN   \n",
       "29     6.118634   5.092704   3.486517   211479      NaN         NaN   \n",
       "...         ...        ...        ...      ...      ...         ...   \n",
       "1633  -6.043913   7.932857  -2.871851   417282      NaN         NaN   \n",
       "1634  -8.146344   9.013530  -5.067765   417283      NaN         NaN   \n",
       "1635   3.887046  14.558146   7.704058   417284      NaN         NaN   \n",
       "1636  -8.964743   5.443778  -2.445039   417285      NaN         NaN   \n",
       "1637 -10.371795   5.111063  -0.520824   438105      NaN         NaN   \n",
       "1638  -2.150298  15.092106  -0.729439   438119      NaN         NaN   \n",
       "1639  -1.153758  -4.195374  -7.046161   438128      NaN         NaN   \n",
       "1640   4.870502   1.172234   4.720384   438129      NaN         NaN   \n",
       "1641   9.613561   9.510798  -3.230438   211473      NaN         NaN   \n",
       "1642   7.782327  -0.026494   2.091042   301160      NaN         NaN   \n",
       "1643  -9.787538   7.809919  -4.311620   216353      NaN  23151476.0   \n",
       "1644  -0.695385   5.437031   1.495201   216522      NaN   2955423.0   \n",
       "1645 -13.668048   4.785297   6.505412   407731      NaN         NaN   \n",
       "1646   2.148943 -10.323999   6.640683   409839      NaN         NaN   \n",
       "1647   2.239323   0.898159   4.614510   301057      NaN  28140399.0   \n",
       "1648   1.981637  -7.930293   4.345877   409828      NaN         NaN   \n",
       "1649  -3.736972  -3.947331  -2.634075   417216      NaN         NaN   \n",
       "1650   4.822619   0.626964  -4.676428   409846      NaN         NaN   \n",
       "1651  -6.547561   2.540817  -1.663925   409849      NaN         NaN   \n",
       "1652   2.459685   2.990574   0.540255   417192      NaN         NaN   \n",
       "1653  -7.670729   9.004049  -4.169477   409852      NaN         NaN   \n",
       "1654  -0.550213  -3.674810   3.565643   417218      NaN         NaN   \n",
       "1655   9.239051   0.404946   7.791959   417281      NaN         NaN   \n",
       "1656  -4.341866  14.830101   0.206770   409831      NaN         NaN   \n",
       "1657   1.332347   1.115331   1.392130   301273      NaN  18540832.0   \n",
       "1658   3.980911   4.867584  -0.606606   417277      NaN         NaN   \n",
       "1659   3.663834  13.218436   6.767761   301315      NaN         NaN   \n",
       "1660   1.959688  14.458297  -4.024546   417264      NaN         NaN   \n",
       "1661   9.647365   1.378014  -5.749811   301221      NaN         NaN   \n",
       "1662  -3.543147  10.583159   1.030596   417199      NaN         NaN   \n",
       "\n",
       "                                               Citation  \\\n",
       "0                              Kantermann T et al. 2012   \n",
       "1                                 Arduini D et al. 1987   \n",
       "2                                           Arendt 1998   \n",
       "3                   Armeanu, Frölich M, and Lequin 1986   \n",
       "4                               Aeschbach D et al. 2009   \n",
       "5                               Akerstedt T et al. 1999   \n",
       "6              Akimoto S, Masai M, and Shimazaki J 1994   \n",
       "7                                         Anisimov 2008   \n",
       "8                                   Apter D et al. 1993   \n",
       "9                               Archer and Oster H 2015   \n",
       "10                                          Arendt 2006   \n",
       "11                                          Arendt 2010   \n",
       "12                                Armstrong et al. 1986   \n",
       "13                                         Aschoff 1978   \n",
       "14                                     Morrissette 2013   \n",
       "15                Folkard S, Arendt J, and Clark M 1993   \n",
       "16                 Samel A, Wegmann, and Vejvoda M 1993   \n",
       "17            Simpson, Pauson A, and Cornélissen G 1989   \n",
       "18                              Bittencourt et al. 2010   \n",
       "19                                 Brandenberger G 2003   \n",
       "20                      Brunner and Wirz-Justice A 1993   \n",
       "21    Cortés-Gallegos V, Sojo Aranda I, and Gio Pela...   \n",
       "22                                  Gotay C et al. 2016   \n",
       "23                                           Harma 2008   \n",
       "24                     Erren, Morfeld P, and Gross 2015   \n",
       "25                               Kakizaki M et al. 2008   \n",
       "26                                          Franco 2013   \n",
       "27                             [No authors listed] 2002   \n",
       "28                             [No authors listed] 2012   \n",
       "29                              Andersson E et al. 2007   \n",
       "...                                                 ...   \n",
       "1633                                   Wu M et al. 2012   \n",
       "1634                                     Wu et al. 2010   \n",
       "1635                             Yamazaki S et al. 2000   \n",
       "1636                                Zeitzer et al. 2000   \n",
       "1637                                    Kim et al. 2016   \n",
       "1638                               Perrigue et al. 2013   \n",
       "1639                                     Vangelova 2008   \n",
       "1640                                    Wei et al. 2004   \n",
       "1641                           [No authors listed] 2014   \n",
       "1642             Hrushesky, Lester B, and Lannin D 1999   \n",
       "1643                                LeGates et al. 2012   \n",
       "1644                                Robel P et al. 1987   \n",
       "1645      Stringham, Stringham, and O'Brien, K. J. 2017   \n",
       "1646                 Hall, Franche, and Koehoorn M 2018   \n",
       "1647                          Bedrosian and Nelson 2017   \n",
       "1648                                Books C et al. 2017   \n",
       "1649                                      Figueiro 2017   \n",
       "1650                              Korsiak J et al. 2018   \n",
       "1651                                Lin and Farkas 2018   \n",
       "1652                               Brainard et al. 2001   \n",
       "1653                                   Min and Min 2018   \n",
       "1654                               Figueiro et al. 2017   \n",
       "1655                          Wahnschaffe A et al. 2013   \n",
       "1656                              de Castro et al. 2018   \n",
       "1657                                 Reiter et al. 2007   \n",
       "1658                         van der Lely S et al. 2015   \n",
       "1659                              Touvier M et al. 2011   \n",
       "1660                                Saksvik et al. 2011   \n",
       "1661                                Marinac et al. 2015   \n",
       "1662                                Crowley et al. 2015   \n",
       "\n",
       "                                          Full Citation  \\\n",
       "0     Kantermann T et al. Noisy and individual, but ...   \n",
       "1     Arduini D et al. Loss of circadian rhythms of ...   \n",
       "2     Arendt J. Biological rhythms: the science of c...   \n",
       "3     Armeanu MC, Frölich M, and Lequin RM. Circadia...   \n",
       "4     Aeschbach D et al. Use of transdermal melatoni...   \n",
       "5     Akerstedt T et al. A 50-Hz electromagnetic fie...   \n",
       "6     Akimoto S, Masai M, and Shimazaki J. Relations...   \n",
       "7     Anisimov VN. [Pineal gland, biorhythms and agi...   \n",
       "8     Apter D et al. Gonadotropin-releasing hormone ...   \n",
       "9     Archer SN and Oster H. How sleep and wakefulne...   \n",
       "10    Arendt J. Does melatonin improve sleep? Effica...   \n",
       "11    Arendt J. Shift work: coping with the biologic...   \n",
       "12    Armstrong SM et al. Synchronization of mammali...   \n",
       "13    Aschoff J. [Circadian rhythms in the endocrine...   \n",
       "14    Morrissette DA. Twisting the night away: a rev...   \n",
       "15    Folkard S, Arendt J, and Clark M. Can melatoni...   \n",
       "16    Samel A, Wegmann HM, and Vejvoda M. Pre-adapta...   \n",
       "17    Simpson HW, Pauson A, and Cornélissen G. The c...   \n",
       "18    Bittencourt LR et al. Chronobiological disorde...   \n",
       "19    Brandenberger G. [The ultradian rhythm of slee...   \n",
       "20    Brunner DP and Wirz-Justice A. [Chronobiologic...   \n",
       "21    Cortés-Gallegos V, Sojo Aranda I, and Gio Pela...   \n",
       "22    Gotay C et al. Improving sleep to reduce breas...   \n",
       "23    Harma M. Shift work among women--a century-old...   \n",
       "24    Erren TC, Morfeld P, and Gross VJ. Night shift...   \n",
       "25    Kakizaki M et al. Sleep duration and the risk ...   \n",
       "26    Franco G. Occupation and breast cancer: Fitnes...   \n",
       "27     Working the night shift may increase breast c...   \n",
       "28     [Night shift and the risk of hormone-dependen...   \n",
       "29    Andersson E et al. Cohort mortality study of S...   \n",
       "...                                                 ...   \n",
       "1633  Wu M et al. Experimental chronic jet lag promo...   \n",
       "1634  Wu MW et al. Effects of experimental chronic j...   \n",
       "1635  Yamazaki S et al. Resetting central and periph...   \n",
       "1636  Zeitzer JM et al. Sensitivity of the human cir...   \n",
       "1637  Kim SW et al. Night shift work and inflammator...   \n",
       "1638  Perrigue MM et al. Eating frequency and risk o...   \n",
       "1639  Vangelova K. The effect of shift rotation on v...   \n",
       "1640  Wei JT et al. Eating frequency and colon cance...   \n",
       "1641   Chronobiology International. Chronobiol. Int....   \n",
       "1642  Hrushesky WJ, Lester B, and Lannin D. Circadia...   \n",
       "1643  LeGates TA et al. Aberrant light directly impa...   \n",
       "1644  Robel P et al. Chronobiologic dynamics of delt...   \n",
       "1645  Stringham JM, Stringham NT, and O'Brien, K. J....   \n",
       "1646  Hall AL, Franche RL, and Koehoorn M. Examining...   \n",
       "1647  Bedrosian TA and Nelson RJ. Timing of light ex...   \n",
       "1648  Books C et al. Night Shift Work and Its Health...   \n",
       "1649  Figueiro MG. Disruption of circadian rhythms b...   \n",
       "1650  Korsiak J et al. Sleep duration as a mediator ...   \n",
       "1651  Lin HH and Farkas ME. Altered Circadian Rhythm...   \n",
       "1652  Brainard GC et al. Action spectrum for melaton...   \n",
       "1653  Min JY and Min KB. Outdoor light at night and ...   \n",
       "1654  Figueiro MG et al. The impact of daytime light...   \n",
       "1655  Wahnschaffe A et al. Out of the lab and into t...   \n",
       "1656  de Castro TB et al. Evaluation of melatonin an...   \n",
       "1657  Reiter RJ et al. Light at night, chronodisrupt...   \n",
       "1658  van der Lely S et al. Blue blocker glasses as ...   \n",
       "1659  Touvier M et al. Meta-analyses of vitamin D in...   \n",
       "1660  Saksvik IB et al. Individual differences in to...   \n",
       "1661  Marinac CR et al. Frequency and Circadian Timi...   \n",
       "1662  Crowley SJ et al. Increased sensitivity of the...   \n",
       "\n",
       "                                                  Title  \\\n",
       "0     Noisy and individual, but doable: Shift-work r...   \n",
       "1     Loss of circadian rhythms of fetal behaviour i...   \n",
       "2     Biological rhythms: the science of chronobiology.   \n",
       "3     Circadian rhythm of prolactin during the menst...   \n",
       "4     Use of transdermal melatonin delivery to impro...   \n",
       "5          A 50-Hz electromagnetic field impairs sleep.   \n",
       "6     Relationship between diurnal rhythm of serum t...   \n",
       "7     [Pineal gland, biorhythms and aging of an orga...   \n",
       "8     Gonadotropin-releasing hormone pulse generator...   \n",
       "9     How sleep and wakefulness influence circadian ...   \n",
       "10    Does melatonin improve sleep? Efficacy of mela...   \n",
       "11        Shift work: coping with the biological clock.   \n",
       "12    Synchronization of mammalian circadian rhythms...   \n",
       "13    [Circadian rhythms in the endocrine system (au...   \n",
       "14    Twisting the night away: a review of the neuro...   \n",
       "15    Can melatonin improve shift workers' tolerance...   \n",
       "16                Pre-adaptation to shiftwork in space.   \n",
       "17            The chronopathology of breast pre-cancer.   \n",
       "18    Chronobiological disorders: current and preval...   \n",
       "19    [The ultradian rhythm of sleep: diverse relati...   \n",
       "20    [Chronobiological sleep disorders and their tr...   \n",
       "21    Disturbing the light-darkness pattern reduces ...   \n",
       "22    Improving sleep to reduce breast cancer risk i...   \n",
       "23    Shift work among women--a century-old health i...   \n",
       "24    Night shift work, chronotype, and prostate can...   \n",
       "25    Sleep duration and the risk of prostate cancer...   \n",
       "26    Occupation and breast cancer: Fitness for work...   \n",
       "27    Working the night shift may increase breast ca...   \n",
       "28    [Night shift and the risk of hormone-dependent...   \n",
       "29    Cohort mortality study of Swedish pulp and pap...   \n",
       "...                                                 ...   \n",
       "1633  Experimental chronic jet lag promotes growth a...   \n",
       "1634  Effects of experimental chronic jet lag on hem...   \n",
       "1635  Resetting central and peripheral circadian osc...   \n",
       "1636  Sensitivity of the human circadian pacemaker t...   \n",
       "1637  Night shift work and inflammatory markers in m...   \n",
       "1638     Eating frequency and risk of colorectal cancer   \n",
       "1639  The effect of shift rotation on variations of ...   \n",
       "1640             Eating frequency and colon cancer risk   \n",
       "1641                        Chronobiology International   \n",
       "1642  Circadian coordination of cancer growth and me...   \n",
       "1643  Aberrant light directly impairs mood and learn...   \n",
       "1644  Chronobiologic dynamics of delta 5-3 beta-hydr...   \n",
       "1645  Macular Carotenoid Supplementation Improves Vi...   \n",
       "1646  Examining Exposure Assessment in Shift Work Re...   \n",
       "1647  Timing of light exposure affects mood and brai...   \n",
       "1648  Night Shift Work and Its Health Effects on Nurses   \n",
       "1649  Disruption of circadian rhythms by light durin...   \n",
       "1650  Sleep duration as a mediator between an altern...   \n",
       "1651  Altered Circadian Rhythms and Breast Cancer: F...   \n",
       "1652  Action spectrum for melatonin regulation in hu...   \n",
       "1653  Outdoor light at night and the prevalence of d...   \n",
       "1654  The impact of daytime light exposures on sleep...   \n",
       "1655  Out of the lab and into the bathroom: evening ...   \n",
       "1656  Evaluation of melatonin and AFMK levels in wom...   \n",
       "1657  Light at night, chronodisruption, melatonin su...   \n",
       "1658  Blue blocker glasses as a countermeasure for a...   \n",
       "1659  Meta-analyses of vitamin D intake, 25-hydroxyv...   \n",
       "1660  Individual differences in tolerance to shift w...   \n",
       "1661  Frequency and Circadian Timing of Eating May I...   \n",
       "1662  Increased sensitivity of the circadian system ...   \n",
       "\n",
       "                                                Authors  ...  \\\n",
       "0                                   Kantermann T et al.  ...   \n",
       "1                                      Arduini D et al.  ...   \n",
       "2                                              Arendt J  ...   \n",
       "3                  Armeanu MC, Frölich M, and Lequin RM  ...   \n",
       "4                                    Aeschbach D et al.  ...   \n",
       "5                                    Akerstedt T et al.  ...   \n",
       "6                   Akimoto S, Masai M, and Shimazaki J  ...   \n",
       "7                                           Anisimov VN  ...   \n",
       "8                                        Apter D et al.  ...   \n",
       "9                                 Archer SN and Oster H  ...   \n",
       "10                                             Arendt J  ...   \n",
       "11                                             Arendt J  ...   \n",
       "12                                  Armstrong SM et al.  ...   \n",
       "13                                            Aschoff J  ...   \n",
       "14                                       Morrissette DA  ...   \n",
       "15                     Folkard S, Arendt J, and Clark M  ...   \n",
       "16                   Samel A, Wegmann HM, and Vejvoda M  ...   \n",
       "17              Simpson HW, Pauson A, and Cornélissen G  ...   \n",
       "18                                Bittencourt LR et al.  ...   \n",
       "19                                      Brandenberger G  ...   \n",
       "20                        Brunner DP and Wirz-Justice A  ...   \n",
       "21    Cortés-Gallegos V, Sojo Aranda I, and Gio Pela...  ...   \n",
       "22                                       Gotay C et al.  ...   \n",
       "23                                              Harma M  ...   \n",
       "24                    Erren TC, Morfeld P, and Gross VJ  ...   \n",
       "25                                    Kakizaki M et al.  ...   \n",
       "26                                             Franco G  ...   \n",
       "27                                                  NaN  ...   \n",
       "28                                                  NaN  ...   \n",
       "29                                   Andersson E et al.  ...   \n",
       "...                                                 ...  ...   \n",
       "1633                                        Wu M et al.  ...   \n",
       "1634                                       Wu MW et al.  ...   \n",
       "1635                                  Yamazaki S et al.  ...   \n",
       "1636                                  Zeitzer JM et al.  ...   \n",
       "1637                                      Kim SW et al.  ...   \n",
       "1638                                 Perrigue MM et al.  ...   \n",
       "1639                                        Vangelova K  ...   \n",
       "1640                                      Wei JT et al.  ...   \n",
       "1641                                                NaN  ...   \n",
       "1642               Hrushesky WJ, Lester B, and Lannin D  ...   \n",
       "1643                                  LeGates TA et al.  ...   \n",
       "1644                                     Robel P et al.  ...   \n",
       "1645     Stringham JM, Stringham NT, and O'Brien, K. J.  ...   \n",
       "1646                Hall AL, Franche RL, and Koehoorn M  ...   \n",
       "1647                         Bedrosian TA and Nelson RJ  ...   \n",
       "1648                                     Books C et al.  ...   \n",
       "1649                                        Figueiro MG  ...   \n",
       "1650                                   Korsiak J et al.  ...   \n",
       "1651                               Lin HH and Farkas ME  ...   \n",
       "1652                                 Brainard GC et al.  ...   \n",
       "1653                                  Min JY and Min KB  ...   \n",
       "1654                                 Figueiro MG et al.  ...   \n",
       "1655                               Wahnschaffe A et al.  ...   \n",
       "1656                                de Castro TB et al.  ...   \n",
       "1657                                   Reiter RJ et al.  ...   \n",
       "1658                              van der Lely S et al.  ...   \n",
       "1659                                   Touvier M et al.  ...   \n",
       "1660                                  Saksvik IB et al.  ...   \n",
       "1661                                  Marinac CR et al.  ...   \n",
       "1662                                  Crowley SJ et al.  ...   \n",
       "\n",
       "      Inclusion|New|New not included  \\\n",
       "0                              False   \n",
       "1                              False   \n",
       "2                              False   \n",
       "3                              False   \n",
       "4                              False   \n",
       "5                              False   \n",
       "6                              False   \n",
       "7                              False   \n",
       "8                              False   \n",
       "9                              False   \n",
       "10                             False   \n",
       "11                             False   \n",
       "12                             False   \n",
       "13                             False   \n",
       "14                             False   \n",
       "15                             False   \n",
       "16                             False   \n",
       "17                             False   \n",
       "18                             False   \n",
       "19                             False   \n",
       "20                             False   \n",
       "21                             False   \n",
       "22                             False   \n",
       "23                             False   \n",
       "24                             False   \n",
       "25                             False   \n",
       "26                             False   \n",
       "27                             False   \n",
       "28                             False   \n",
       "29                             False   \n",
       "...                              ...   \n",
       "1633                           False   \n",
       "1634                           False   \n",
       "1635                           False   \n",
       "1636                           False   \n",
       "1637                           False   \n",
       "1638                           False   \n",
       "1639                           False   \n",
       "1640                           False   \n",
       "1641                           False   \n",
       "1642                           False   \n",
       "1643                           False   \n",
       "1644                           False   \n",
       "1645                           False   \n",
       "1646                            True   \n",
       "1647                            True   \n",
       "1648                            True   \n",
       "1649                           False   \n",
       "1650                            True   \n",
       "1651                           False   \n",
       "1652                           False   \n",
       "1653                            True   \n",
       "1654                           False   \n",
       "1655                           False   \n",
       "1656                           False   \n",
       "1657                           False   \n",
       "1658                           False   \n",
       "1659                           False   \n",
       "1660                           False   \n",
       "1661                           False   \n",
       "1662                           False   \n",
       "\n",
       "     Inclusion|New|New not included|Shift work and health effects  \\\n",
       "0                                                 False             \n",
       "1                                                 False             \n",
       "2                                                 False             \n",
       "3                                                 False             \n",
       "4                                                 False             \n",
       "5                                                 False             \n",
       "6                                                 False             \n",
       "7                                                 False             \n",
       "8                                                 False             \n",
       "9                                                 False             \n",
       "10                                                False             \n",
       "11                                                False             \n",
       "12                                                False             \n",
       "13                                                False             \n",
       "14                                                False             \n",
       "15                                                False             \n",
       "16                                                False             \n",
       "17                                                False             \n",
       "18                                                False             \n",
       "19                                                False             \n",
       "20                                                False             \n",
       "21                                                False             \n",
       "22                                                False             \n",
       "23                                                False             \n",
       "24                                                False             \n",
       "25                                                False             \n",
       "26                                                False             \n",
       "27                                                False             \n",
       "28                                                False             \n",
       "29                                                False             \n",
       "...                                                 ...             \n",
       "1633                                              False             \n",
       "1634                                              False             \n",
       "1635                                              False             \n",
       "1636                                              False             \n",
       "1637                                              False             \n",
       "1638                                              False             \n",
       "1639                                              False             \n",
       "1640                                              False             \n",
       "1641                                              False             \n",
       "1642                                              False             \n",
       "1643                                              False             \n",
       "1644                                              False             \n",
       "1645                                              False             \n",
       "1646                                               True             \n",
       "1647                                              False             \n",
       "1648                                              False             \n",
       "1649                                              False             \n",
       "1650                                               True             \n",
       "1651                                              False             \n",
       "1652                                              False             \n",
       "1653                                               True             \n",
       "1654                                              False             \n",
       "1655                                              False             \n",
       "1656                                              False             \n",
       "1657                                              False             \n",
       "1658                                              False             \n",
       "1659                                              False             \n",
       "1660                                              False             \n",
       "1661                                              False             \n",
       "1662                                              False             \n",
       "\n",
       "     Inclusion|New|Included in mech Inclusion|SW or Light Qx study  \\\n",
       "0                             False                          False   \n",
       "1                             False                          False   \n",
       "2                             False                          False   \n",
       "3                             False                          False   \n",
       "4                             False                          False   \n",
       "5                             False                          False   \n",
       "6                             False                          False   \n",
       "7                             False                          False   \n",
       "8                             False                          False   \n",
       "9                             False                          False   \n",
       "10                            False                          False   \n",
       "11                            False                          False   \n",
       "12                            False                          False   \n",
       "13                            False                          False   \n",
       "14                            False                          False   \n",
       "15                            False                          False   \n",
       "16                            False                          False   \n",
       "17                            False                          False   \n",
       "18                            False                          False   \n",
       "19                            False                          False   \n",
       "20                            False                          False   \n",
       "21                            False                          False   \n",
       "22                            False                          False   \n",
       "23                            False                          False   \n",
       "24                            False                          False   \n",
       "25                            False                          False   \n",
       "26                            False                          False   \n",
       "27                            False                          False   \n",
       "28                            False                          False   \n",
       "29                            False                          False   \n",
       "...                             ...                            ...   \n",
       "1633                          False                          False   \n",
       "1634                          False                          False   \n",
       "1635                          False                          False   \n",
       "1636                          False                          False   \n",
       "1637                          False                          False   \n",
       "1638                          False                          False   \n",
       "1639                          False                          False   \n",
       "1640                          False                          False   \n",
       "1641                          False                          False   \n",
       "1642                          False                          False   \n",
       "1643                          False                          False   \n",
       "1644                          False                          False   \n",
       "1645                          False                          False   \n",
       "1646                          False                          False   \n",
       "1647                          False                          False   \n",
       "1648                          False                          False   \n",
       "1649                          False                          False   \n",
       "1650                          False                          False   \n",
       "1651                          False                          False   \n",
       "1652                          False                          False   \n",
       "1653                          False                          False   \n",
       "1654                          False                          False   \n",
       "1655                          False                          False   \n",
       "1656                          False                          False   \n",
       "1657                          False                          False   \n",
       "1658                          False                          False   \n",
       "1659                          False                          False   \n",
       "1660                          False                          False   \n",
       "1661                          False                          False   \n",
       "1662                          False                          False   \n",
       "\n",
       "     Pending PDF review Exclusion  Exclusion|Previously included  \\\n",
       "0                 False     False                          False   \n",
       "1                 False      True                          False   \n",
       "2                 False      True                          False   \n",
       "3                 False      True                          False   \n",
       "4                 False      True                          False   \n",
       "5                 False      True                          False   \n",
       "6                 False      True                          False   \n",
       "7                 False      True                          False   \n",
       "8                 False      True                          False   \n",
       "9                 False      True                          False   \n",
       "10                False      True                          False   \n",
       "11                False      True                          False   \n",
       "12                False      True                          False   \n",
       "13                False      True                          False   \n",
       "14                False      True                          False   \n",
       "15                False      True                          False   \n",
       "16                False      True                          False   \n",
       "17                False      True                          False   \n",
       "18                False      True                          False   \n",
       "19                False      True                          False   \n",
       "20                False      True                          False   \n",
       "21                False      True                          False   \n",
       "22                False      True                          False   \n",
       "23                False     False                          False   \n",
       "24                False     False                          False   \n",
       "25                False      True                          False   \n",
       "26                False      True                          False   \n",
       "27                False      True                          False   \n",
       "28                False      True                          False   \n",
       "29                False      True                          False   \n",
       "...                 ...       ...                            ...   \n",
       "1633              False      True                          False   \n",
       "1634              False      True                          False   \n",
       "1635              False      True                          False   \n",
       "1636              False     False                          False   \n",
       "1637              False     False                          False   \n",
       "1638              False     False                          False   \n",
       "1639              False     False                          False   \n",
       "1640              False     False                          False   \n",
       "1641              False      True                           True   \n",
       "1642              False      True                           True   \n",
       "1643              False      True                           True   \n",
       "1644              False      True                           True   \n",
       "1645              False     False                          False   \n",
       "1646              False     False                          False   \n",
       "1647              False     False                          False   \n",
       "1648              False     False                          False   \n",
       "1649              False     False                          False   \n",
       "1650              False     False                          False   \n",
       "1651              False     False                          False   \n",
       "1652              False     False                          False   \n",
       "1653              False     False                          False   \n",
       "1654              False     False                          False   \n",
       "1655              False     False                          False   \n",
       "1656              False     False                          False   \n",
       "1657              False     False                          False   \n",
       "1658              False     False                          False   \n",
       "1659              False     False                          False   \n",
       "1660              False     False                          False   \n",
       "1661              False     False                          False   \n",
       "1662              False     False                          False   \n",
       "\n",
       "      Exclusion|Foreign language  categories  \\\n",
       "0                          False           2   \n",
       "1                          False          27   \n",
       "2                          False           5   \n",
       "3                          False          16   \n",
       "4                          False           6   \n",
       "5                          False          27   \n",
       "6                          False          27   \n",
       "7                          False          26   \n",
       "8                          False          27   \n",
       "9                          False           5   \n",
       "10                         False           2   \n",
       "11                         False           5   \n",
       "12                         False          36   \n",
       "13                         False          42   \n",
       "14                         False          41   \n",
       "15                         False          47   \n",
       "16                         False          27   \n",
       "17                         False          42   \n",
       "18                         False          27   \n",
       "19                         False           6   \n",
       "20                         False          27   \n",
       "21                         False           1   \n",
       "22                         False           2   \n",
       "23                         False           1   \n",
       "24                         False           1   \n",
       "25                         False           2   \n",
       "26                         False          26   \n",
       "27                         False           2   \n",
       "28                         False           1   \n",
       "29                         False           2   \n",
       "...                          ...         ...   \n",
       "1633                       False          14   \n",
       "1634                       False          14   \n",
       "1635                       False           9   \n",
       "1636                       False           1   \n",
       "1637                       False           1   \n",
       "1638                       False           1   \n",
       "1639                       False          27   \n",
       "1640                       False           2   \n",
       "1641                       False           2   \n",
       "1642                       False           2   \n",
       "1643                       False          14   \n",
       "1644                       False           1   \n",
       "1645                       False           1   \n",
       "1646                       False          47   \n",
       "1647                       False           2   \n",
       "1648                       False          47   \n",
       "1649                       False          27   \n",
       "1650                       False           5   \n",
       "1651                       False          18   \n",
       "1652                       False           2   \n",
       "1653                       False          14   \n",
       "1654                       False          47   \n",
       "1655                       False          42   \n",
       "1656                       False           1   \n",
       "1657                       False           2   \n",
       "1658                       False           2   \n",
       "1659                       False           9   \n",
       "1660                       False          22   \n",
       "1661                       False           5   \n",
       "1662                       False           1   \n",
       "\n",
       "                                              top words  \n",
       "0       MF, alzheim, autonomi, 6-sulphatoxy-melatonin,   \n",
       "1     0.023.conclus, 14-15-hz, 6-sulftoxymelatonin, ...  \n",
       "2                'direct, assembl, 20e, assays.result,   \n",
       "3                       IR, 0.023.conclus, 35-day, IN,   \n",
       "4              5-androstene-3beta, 1x10, 1.7-fold, GG,   \n",
       "5     0.023.conclus, 14-15-hz, 6-sulftoxymelatonin, ...  \n",
       "6     0.023.conclus, 14-15-hz, 6-sulftoxymelatonin, ...  \n",
       "7                         1-tail, alia, 1beta, 1-week,   \n",
       "8     0.023.conclus, 14-15-hz, 6-sulftoxymelatonin, ...  \n",
       "9                'direct, assembl, 20e, assays.result,   \n",
       "10      MF, alzheim, autonomi, 6-sulphatoxy-melatonin,   \n",
       "11               'direct, assembl, 20e, assays.result,   \n",
       "12                          /mmcp2, OS, admit, 4-vntr,   \n",
       "13    2400h, 24-26-hr, 18-oh-deoxycorticosteron, 38-h,   \n",
       "14                      advanc, afflict, 'everyth, NA,   \n",
       "15                1ul1, anti-gonadotrop, antiag, alik,   \n",
       "16    0.023.conclus, 14-15-hz, 6-sulftoxymelatonin, ...  \n",
       "17    2400h, 24-26-hr, 18-oh-deoxycorticosteron, 38-h,   \n",
       "18    0.023.conclus, 14-15-hz, 6-sulftoxymelatonin, ...  \n",
       "19             5-androstene-3beta, 1x10, 1.7-fold, GG,   \n",
       "20    0.023.conclus, 14-15-hz, 6-sulftoxymelatonin, ...  \n",
       "21                     appropri, acebo, aris, assumpt,   \n",
       "22      MF, alzheim, autonomi, 6-sulphatoxy-melatonin,   \n",
       "23                     appropri, acebo, aris, assumpt,   \n",
       "24                     appropri, acebo, aris, assumpt,   \n",
       "25      MF, alzheim, autonomi, 6-sulphatoxy-melatonin,   \n",
       "26                        1-tail, alia, 1beta, 1-week,   \n",
       "27      MF, alzheim, autonomi, 6-sulphatoxy-melatonin,   \n",
       "28                     appropri, acebo, aris, assumpt,   \n",
       "29      MF, alzheim, autonomi, 6-sulphatoxy-melatonin,   \n",
       "...                                                 ...  \n",
       "1633                   -I, approach, +/-sem, abstarct,   \n",
       "1634                   -I, approach, +/-sem, abstarct,   \n",
       "1635                     and-accord, avow, automot, W,   \n",
       "1636                   appropri, acebo, aris, assumpt,   \n",
       "1637                   appropri, acebo, aris, assumpt,   \n",
       "1638                   appropri, acebo, aris, assumpt,   \n",
       "1639  0.023.conclus, 14-15-hz, 6-sulftoxymelatonin, ...  \n",
       "1640    MF, alzheim, autonomi, 6-sulphatoxy-melatonin,   \n",
       "1641    MF, alzheim, autonomi, 6-sulphatoxy-melatonin,   \n",
       "1642    MF, alzheim, autonomi, 6-sulphatoxy-melatonin,   \n",
       "1643                   -I, approach, +/-sem, abstarct,   \n",
       "1644                   appropri, acebo, aris, assumpt,   \n",
       "1645                   appropri, acebo, aris, assumpt,   \n",
       "1646              1ul1, anti-gonadotrop, antiag, alik,   \n",
       "1647    MF, alzheim, autonomi, 6-sulphatoxy-melatonin,   \n",
       "1648              1ul1, anti-gonadotrop, antiag, alik,   \n",
       "1649  0.023.conclus, 14-15-hz, 6-sulftoxymelatonin, ...  \n",
       "1650             'direct, assembl, 20e, assays.result,   \n",
       "1651                 artist, analys, abstract, averag,   \n",
       "1652    MF, alzheim, autonomi, 6-sulphatoxy-melatonin,   \n",
       "1653                   -I, approach, +/-sem, abstarct,   \n",
       "1654              1ul1, anti-gonadotrop, antiag, alik,   \n",
       "1655  2400h, 24-26-hr, 18-oh-deoxycorticosteron, 38-h,   \n",
       "1656                   appropri, acebo, aris, assumpt,   \n",
       "1657    MF, alzheim, autonomi, 6-sulphatoxy-melatonin,   \n",
       "1658    MF, alzheim, autonomi, 6-sulphatoxy-melatonin,   \n",
       "1659                     and-accord, avow, automot, W,   \n",
       "1660                b=2.3, .method, androgen, america,   \n",
       "1661             'direct, assembl, 20e, assays.result,   \n",
       "1662                   appropri, acebo, aris, assumpt,   \n",
       "\n",
       "[1663 rows x 118 columns]"
      ]
     },
     "execution_count": 3,
     "metadata": {},
     "output_type": "execute_result"
    }
   ],
   "source": [
    "import pandas as pd\n",
    "import plotly.express as px\n",
    "\n",
    "df = pd.read_pickle('clustered.pkl')\n",
    "df"
   ]
  },
  {
   "cell_type": "code",
   "execution_count": 4,
   "metadata": {
    "scrolled": true
   },
   "outputs": [
    {
     "data": {
      "application/vnd.plotly.v1+json": {
       "config": {
        "plotlyServerURL": "https://plot.ly"
       },
       "data": [
        {
         "customdata": [
          [
           "MF, alzheim, autonomi, 6-sulphatoxy-melatonin, ",
           "Noisy and individual, but doable: Shift-work research in humans"
          ],
          [
           "0.023.conclus, 14-15-hz, 6-sulftoxymelatonin, PA, ",
           "Loss of circadian rhythms of fetal behaviour in a totally adrenalectomized pregnant woman."
          ],
          [
           "'direct, assembl, 20e, assays.result, ",
           "Biological rhythms: the science of chronobiology."
          ],
          [
           "IR, 0.023.conclus, 35-day, IN, ",
           "Circadian rhythm of prolactin during the menstrual cycle."
          ],
          [
           "5-androstene-3beta, 1x10, 1.7-fold, GG, ",
           "Use of transdermal melatonin delivery to improve sleep maintenance during daytime."
          ],
          [
           "0.023.conclus, 14-15-hz, 6-sulftoxymelatonin, PA, ",
           "A 50-Hz electromagnetic field impairs sleep."
          ],
          [
           "0.023.conclus, 14-15-hz, 6-sulftoxymelatonin, PA, ",
           "Relationship between diurnal rhythm of serum testosterone and two prostatic markers (PSA and PAP) in untreated prostate cancer."
          ],
          [
           "1-tail, alia, 1beta, 1-week, ",
           "[Pineal gland, biorhythms and aging of an organism]."
          ],
          [
           "0.023.conclus, 14-15-hz, 6-sulftoxymelatonin, PA, ",
           "Gonadotropin-releasing hormone pulse generator activity during pubertal transition in girls: pulsatile and diurnal patterns of circulating gonadotropins."
          ],
          [
           "'direct, assembl, 20e, assays.result, ",
           "How sleep and wakefulness influence circadian rhythmicity: effects of insufficient and mistimed sleep on the animal and human transcriptome."
          ],
          [
           "MF, alzheim, autonomi, 6-sulphatoxy-melatonin, ",
           "Does melatonin improve sleep? Efficacy of melatonin."
          ],
          [
           "'direct, assembl, 20e, assays.result, ",
           "Shift work: coping with the biological clock."
          ],
          [
           "/mmcp2, OS, admit, 4-vntr, ",
           "Synchronization of mammalian circadian rhythms by melatonin."
          ],
          [
           "2400h, 24-26-hr, 18-oh-deoxycorticosteron, 38-h, ",
           "[Circadian rhythms in the endocrine system (author's transl)]."
          ],
          [
           "advanc, afflict, 'everyth, NA, ",
           "Twisting the night away: a review of the neurobiology, genetics, diagnosis, and treatment of shift work disorder."
          ],
          [
           "1ul1, anti-gonadotrop, antiag, alik, ",
           "Can melatonin improve shift workers' tolerance of the night shift? Some preliminary findings."
          ],
          [
           "0.023.conclus, 14-15-hz, 6-sulftoxymelatonin, PA, ",
           "Pre-adaptation to shiftwork in space."
          ],
          [
           "2400h, 24-26-hr, 18-oh-deoxycorticosteron, 38-h, ",
           "The chronopathology of breast pre-cancer."
          ],
          [
           "0.023.conclus, 14-15-hz, 6-sulftoxymelatonin, PA, ",
           "Chronobiological disorders: current and prevalent conditions."
          ],
          [
           "5-androstene-3beta, 1x10, 1.7-fold, GG, ",
           "[The ultradian rhythm of sleep: diverse relations with pituitary and adrenal hormones]."
          ],
          [
           "0.023.conclus, 14-15-hz, 6-sulftoxymelatonin, PA, ",
           "[Chronobiological sleep disorders and their treatment possibilities]."
          ],
          [
           "appropri, acebo, aris, assumpt, ",
           "Disturbing the light-darkness pattern reduces circulating testosterone in healthy men."
          ],
          [
           "MF, alzheim, autonomi, 6-sulphatoxy-melatonin, ",
           "Improving sleep to reduce breast cancer risk in shift workers"
          ],
          [
           "appropri, acebo, aris, assumpt, ",
           "Shift work among women--a century-old health issue in occupational health"
          ],
          [
           "appropri, acebo, aris, assumpt, ",
           "Night shift work, chronotype, and prostate cancer risk: Incentives for additional analyses and prevention"
          ],
          [
           "MF, alzheim, autonomi, 6-sulphatoxy-melatonin, ",
           "Sleep duration and the risk of prostate cancer: the Ohsaki Cohort Study"
          ],
          [
           "1-tail, alia, 1beta, 1-week, ",
           "Occupation and breast cancer: Fitness for work is an aspect that needs to be addressed"
          ],
          [
           "MF, alzheim, autonomi, 6-sulphatoxy-melatonin, ",
           "Working the night shift may increase breast cancer risk"
          ],
          [
           "appropri, acebo, aris, assumpt, ",
           "[Night shift and the risk of hormone-dependent diseases in women]"
          ],
          [
           "MF, alzheim, autonomi, 6-sulphatoxy-melatonin, ",
           "Cohort mortality study of Swedish pulp and paper mill workers - nonmalignant diseases"
          ],
          [
           "'direct, assembl, 20e, assays.result, ",
           "[Epidemiology of breast cancer]"
          ],
          [
           "'phase, acetyltransferas, angel, abpm, ",
           "Light pollution, reproductive function and cancer risk"
          ],
          [
           "MF, alzheim, autonomi, 6-sulphatoxy-melatonin, ",
           "Light, endocrine systems and cancer--a meeting report"
          ],
          [
           "appropri, acebo, aris, assumpt, ",
           "[Light-dark conditions, melatonin and risk of cancer]"
          ],
          [
           "MF, alzheim, autonomi, 6-sulphatoxy-melatonin, ",
           "[Light desynchronization and the risk of cancer in humans: the state of the problem]"
          ],
          [
           "MR, acknowledg, adiponectin, arous, ",
           "Association of shift-work, daytime napping, and nighttime sleep with cancer incidence and cancer-caused mortality in Dongfeng-tongji cohort study"
          ],
          [
           "appropri, acebo, aris, assumpt, ",
           "Occupational diseases and night-shift work"
          ],
          [
           "MF, alzheim, autonomi, 6-sulphatoxy-melatonin, ",
           "Mechanisms by which circadian rhythm disruption may lead to cancer"
          ],
          [
           "MF, alzheim, autonomi, 6-sulphatoxy-melatonin, ",
           "Management of shift and night work in hospital"
          ],
          [
           "appropri, acebo, aris, assumpt, ",
           "What are the real risks for breast cancer?"
          ],
          [
           "MF, alzheim, autonomi, 6-sulphatoxy-melatonin, ",
           "Mortality experience among newspaper workers"
          ],
          [
           "MF, alzheim, autonomi, 6-sulphatoxy-melatonin, ",
           "Occupational cancer in developed countries"
          ],
          [
           "'phase, acetyltransferas, angel, abpm, ",
           "[Health examinations in connection with night work]"
          ],
          [
           "'phase, acetyltransferas, angel, abpm, ",
           "French Firefighter Mortality: Analysis Over a 30-year Period"
          ],
          [
           "MF, alzheim, autonomi, 6-sulphatoxy-melatonin, ",
           "A chronobiological perspective on allostasis and its application to shift work"
          ],
          [
           "MF, alzheim, autonomi, 6-sulphatoxy-melatonin, ",
           "The possible effects on health, comfort and safety of aircraft cabin environments"
          ],
          [
           "MF, alzheim, autonomi, 6-sulphatoxy-melatonin, ",
           "Sleep duration and mortality: A prospective study of 113,138 middle-aged and elderly Chinese men and women"
          ],
          [
           "MF, alzheim, autonomi, 6-sulphatoxy-melatonin, ",
           "Sleep-disordered breathing and cancer incidence: An association for the next decade?"
          ],
          [
           "appropri, acebo, aris, assumpt, ",
           "Further comments on novel schedule TLVs"
          ],
          [
           "MF, alzheim, autonomi, 6-sulphatoxy-melatonin, ",
           "Health consequences of circadian disruption in humans and animal models"
          ],
          [
           "MR, acknowledg, adiponectin, arous, ",
           "Sleep duration and sleep-disordered breathing and the risk of melanoma among US women and men"
          ],
          [
           "MF, alzheim, autonomi, 6-sulphatoxy-melatonin, ",
           "In favor of controlling proven, but not probable, causes of cancer"
          ],
          [
           "MF, alzheim, autonomi, 6-sulphatoxy-melatonin, ",
           "Rotating shift work and risk of prostate cancer"
          ],
          [
           "MF, alzheim, autonomi, 6-sulphatoxy-melatonin, ",
           "Nocturnal activity, a risk factor for endometrial cancer"
          ],
          [
           "MF, alzheim, autonomi, 6-sulphatoxy-melatonin, ",
           "Sleep duration, melatonin and breast cancer in the Singapore Chinese Health Study: On null results and their interpretation"
          ],
          [
           "MF, alzheim, autonomi, 6-sulphatoxy-melatonin, ",
           "Shift work and health: current problems and preventive actions"
          ],
          [
           "-I, approach, +/-sem, abstarct, ",
           "Shift and night work"
          ],
          [
           "appropri, acebo, aris, assumpt, ",
           "Light exposure and breast cancer"
          ],
          [
           "MF, alzheim, autonomi, 6-sulphatoxy-melatonin, ",
           "[Can light exposure affect the risk of breast cancer? Female flight attendants and shift-workers probably the most vulnerable groups]"
          ],
          [
           "appropri, acebo, aris, assumpt, ",
           "Association of breast cancer with sleep pattern--a pilot case control study in a regional cancer centre in South Asia"
          ],
          [
           "appropri, acebo, aris, assumpt, ",
           "Shift work and cancer - considerations on rationale, mechanisms, and epidemiology"
          ],
          [
           "-I, approach, +/-sem, abstarct, ",
           "Influence of lifestyle factors on breast cancer risk"
          ],
          [
           "appropri, acebo, aris, assumpt, ",
           "Dangerously sleepy: Overworked Americans and the cult of manly wakefulness"
          ],
          [
           "ald, balanc, actillum, akt, ",
           "Chronic Disease Risks From Exposure to Long-Hour Work Schedules Over a 32-Year Period"
          ],
          [
           "appropri, acebo, aris, assumpt, ",
           "Does light cause internal cancers? - The challenge to study an ubiquitous exposure epidemiologically"
          ],
          [
           "appropri, acebo, aris, assumpt, ",
           "Shift work and cancer: risk, compensation, challenges"
          ],
          [
           "-I, approach, +/-sem, abstarct, ",
           "Research into 'night shift work' and cancer: on the evolution of 'exposure' classification"
          ],
          [
           "1ul1, anti-gonadotrop, antiag, alik, ",
           "Sleep and cancer: Synthesis of experimental data and meta-analyses of cancer incidence among some 1,500,000 study individuals in 13 countries"
          ],
          [
           "artist, analys, abstract, averag, ",
           "Not all shifts are equal: it's time for comprehensive exposure metrics in chronodisruption research"
          ],
          [
           "MF, alzheim, autonomi, 6-sulphatoxy-melatonin, ",
           "Re: \"Night-shift work and breast cancer risk in a cohort of Chinese women\""
          ],
          [
           "appropri, acebo, aris, assumpt, ",
           "Health disorders of shift workers"
          ],
          [
           "1ul1, anti-gonadotrop, antiag, alik, ",
           "21st International Symposium on Shiftwork and Working Time: The 24/7 Society - From chronobiology to practical life INTRODUCTION"
          ],
          [
           "MF, alzheim, autonomi, 6-sulphatoxy-melatonin, ",
           "Illuminating the deleterious effects of light at night"
          ],
          [
           "MF, alzheim, autonomi, 6-sulphatoxy-melatonin, ",
           "Shift work and cancer"
          ],
          [
           "MF, alzheim, autonomi, 6-sulphatoxy-melatonin, ",
           "[Night work as a possible risk factor for breast cancer in nurses. Correlation between the onset of tumors and alterations in blood melatonin levels]"
          ],
          [
           "MF, alzheim, autonomi, 6-sulphatoxy-melatonin, ",
           "Oncology and care in specialized and public media: Does aspirin reduce the risk of cancer? - Heparin therapy and survival in cancer - Cancer due to night work and shift work? - Does chondroitin sulfate help in radiation cystitis? Krill oil in joint complaints due to aromatase inhibitors?"
          ],
          [
           "appropri, acebo, aris, assumpt, ",
           "Oncology and Care in Specialized- and Public Media"
          ],
          [
           "-I, approach, +/-sem, abstarct, ",
           "Re: \"Night-shift work and breast cancer risk in a cohort of Chinese women\""
          ],
          [
           "'direct, assembl, 20e, assays.result, ",
           "Putative Links Between Sleep Apnea and Cancer From Hypotheses to Evolving Evidence"
          ],
          [
           "appropri, acebo, aris, assumpt, ",
           "Re: \"Night work and the risk of cancer among men\""
          ],
          [
           "appropri, acebo, aris, assumpt, ",
           "Low ultraviolet-B exposure may explain some of the link between night shift work and increased risk of prostate cancer"
          ],
          [
           "and-accord, avow, automot, W, ",
           "Rotating night shift work and cancer mortality in the nurses' health study"
          ],
          [
           "beadchip, =filter, 9-h, 9-hour, ",
           "[Let's save our nurses and doctors!]"
          ],
          [
           "-I, approach, +/-sem, abstarct, ",
           "Prevention and treatment of breast cancer by light and food"
          ],
          [
           "MF, alzheim, autonomi, 6-sulphatoxy-melatonin, ",
           "Occupation and cancer risk by use of Danish registers"
          ],
          [
           "b=2.3, .method, androgen, america, ",
           "[Night work, a probable risk factor for breast cancer]"
          ],
          [
           "appropri, acebo, aris, assumpt, ",
           "Occupational cancer in Britain: Industry sector results"
          ],
          [
           "appropri, acebo, aris, assumpt, ",
           "Reply to the Letter to the Editor, Re: Night-shift work and risk of breast cancer (Kamdar et al., doi: 10.1007/s10549-013-2433-1)"
          ],
          [
           "appropri, acebo, aris, assumpt, ",
           "Light at night, melatonin and breast cancer"
          ],
          [
           "appropri, acebo, aris, assumpt, ",
           "Should we warn against night shifts to prevent breast cancer?"
          ],
          [
           "MF, alzheim, autonomi, 6-sulphatoxy-melatonin, ",
           "Response to counter-clockwise shift-work and prostate cancer: Putting pieces in the puzzle (author's reply)"
          ],
          [
           "MF, alzheim, autonomi, 6-sulphatoxy-melatonin, ",
           "Is the elevated breast cancer risk observed in the WHI study an artifact? [1]"
          ],
          [
           "MF, alzheim, autonomi, 6-sulphatoxy-melatonin, ",
           "Night Shift Work and Lung Cancer Risk Among Female Textile Workers in Shanghai, China (vol 12, pg 334, 2015)"
          ],
          [
           "-I, approach, +/-sem, abstarct, ",
           "[Breast cancer risk associated with night work]"
          ],
          [
           "'direct, assembl, 20e, assays.result, ",
           "Words of Wisdom: Re: Shift Work and Prostate Cancer Incidence in Industrial Workers: A Historical Cohort Study in a German Chemical Company"
          ],
          [
           "MF, alzheim, autonomi, 6-sulphatoxy-melatonin, ",
           "[Epidemiological study on shift work related tumors]"
          ],
          [
           "appropri, acebo, aris, assumpt, ",
           "Breast cancer and night work among Norwegian nurses"
          ],
          [
           "appropri, acebo, aris, assumpt, ",
           "Night-shift work increases morbidity of breast cancer and all-cause mortality: a meta-analysis of 16 prospective cohort studies"
          ],
          [
           "appropri, acebo, aris, assumpt, ",
           "A prospective cohort study of shift work and pancreatic cancer risk in Japanese men"
          ],
          [
           "MF, alzheim, autonomi, 6-sulphatoxy-melatonin, ",
           "Influence of the Circadian System on Disease Severity"
          ],
          [
           "appropri, acebo, aris, assumpt, ",
           "Night shifts and breast cancer risk: policy implications"
          ],
          [
           "0.023.conclus, 14-15-hz, 6-sulftoxymelatonin, PA, ",
           "Insufficient Sleep and Risk of Prostate Cancer in a Large Swedish Cohort"
          ],
          [
           "adaptive-threshold, barrag, 63-year-old, anabol, ",
           "Shift work-cancer debate goes on"
          ],
          [
           "MF, alzheim, autonomi, 6-sulphatoxy-melatonin, ",
           "Night work and breast cancer: The CECILE study"
          ],
          [
           "appropri, acebo, aris, assumpt, ",
           "Night-shift work and breast cancer: New Canadian case-control study"
          ],
          [
           "MF, alzheim, autonomi, 6-sulphatoxy-melatonin, ",
           "Nightshift breast cancer, flour dust and blue-light risk"
          ],
          [
           "/mmcp2, OS, admit, 4-vntr, ",
           "Breast cancer among women who work at night [2] (multiple letters)"
          ],
          [
           "0.023.conclus, 14-15-hz, 6-sulftoxymelatonin, PA, ",
           "Shift work and chronic disease: the epidemiological evidence"
          ],
          [
           "2400h, 24-26-hr, 18-oh-deoxycorticosteron, 38-h, ",
           "Breast cancer risk and night shift work in a case-control study in a Spanish population"
          ],
          [
           "IR, 0.023.conclus, 35-day, IN, ",
           "Shift work and breast cancer: do we need more evidence and what should this be?"
          ],
          [
           "MI, 4-night, a., 1,25-dihydroxy-vitamin-d, ",
           "Parent et al. respond to shift work and cancer"
          ],
          [
           "0.023.conclus, 14-15-hz, 6-sulftoxymelatonin, PA, ",
           "[A new study on night-shift work]"
          ],
          [
           "0.023.conclus, 14-15-hz, 6-sulftoxymelatonin, PA, ",
           "Re: Night shift work, light at night, and risk of breast cancer"
          ],
          [
           "1ul1, anti-gonadotrop, antiag, alik, ",
           "THE NIGHTINGALE STUDY: A PROSPECTIVE COHORT STUDY ON SHIFT WORK AND BREAST CANCER AMONG NURSES IN THE NETHERLANDS"
          ],
          [
           "CV, 9-hour, 26-item, alteration/disturb, ",
           "Cancer incidence among firefighters: 45 years of follow-up in five Nordic countries"
          ],
          [
           "1-tail, alia, 1beta, 1-week, ",
           "Does shift work cause cancer?"
          ],
          [
           "0.023.conclus, 14-15-hz, 6-sulftoxymelatonin, PA, ",
           "Light, endocrine systems, and cancer--a view from circadian biologists"
          ],
          [
           "0.023.conclus, 14-15-hz, 6-sulftoxymelatonin, PA, ",
           "Light at night and cancer risk"
          ],
          [
           "6-d, analys, 1,25-dihydroxy-vitamin-d, 9-hour, ",
           "Breast Cancer Incidence in a Cohort of US Flight Attendants"
          ],
          [
           "IR, 0.023.conclus, 35-day, IN, ",
           "Occupational cancer in Britain: Female cancers: Breast, cervix and ovary"
          ],
          [
           "MF, alzheim, autonomi, 6-sulphatoxy-melatonin, ",
           "Light at night and breast cancer risk worldwide"
          ],
          [
           "SC, 1-back, Cp, ER, ",
           "Epidemiological studies reveal link between night work and breast cancer"
          ],
          [
           "MF, alzheim, autonomi, 6-sulphatoxy-melatonin, ",
           "Letter to the editor, re: night-shift work and risk of breast cancer (Kamdar et al., doi:10.1007/s10549-013-2433-1)"
          ],
          [
           "0.023.conclus, 14-15-hz, 6-sulftoxymelatonin, PA, ",
           "Epidemiological studies of light and breast cancer"
          ],
          [
           "1ul1, anti-gonadotrop, antiag, alik, ",
           "Testing the light-at-night (LAN) theory for breast cancer causation"
          ],
          [
           "CV, 9-hour, 26-item, alteration/disturb, ",
           "Revisiting epidemiological key studies on occupational diesel exhaust exposure and lung cancer in truck drivers"
          ],
          [
           "CV, 9-hour, 26-item, alteration/disturb, ",
           "Epidemiology of urinary melatonin in women and its relation to other hormones and night work"
          ],
          [
           "0.023.conclus, 14-15-hz, 6-sulftoxymelatonin, PA, ",
           "Response to Ijaz S, et al. \"Night-shift work and breast cancer - A systematic review and meta-analysis\""
          ],
          [
           "1-tail, alia, 1beta, 1-week, ",
           "Carcinogenicity of shift-work, painting, and fire-fighting"
          ],
          [
           "1-tail, alia, 1beta, 1-week, ",
           "Night work and cancer: A systematic review and meta-analysis"
          ],
          [
           "amateur, afford, 45-day, am-7:00, ",
           "Shift-work: nursing's sometimes silent partner"
          ],
          [
           "0.023.conclus, 14-15-hz, 6-sulftoxymelatonin, PA, ",
           "Case-Control Study of Breast Cancer in India: Role of PERIOD3 Clock Gene Length Polymorphism and Chronotype"
          ],
          [
           "0.023.conclus, 14-15-hz, 6-sulftoxymelatonin, PA, ",
           "Light treatment prevents fatigue in women undergoing chemotherapy for breast cancer"
          ],
          [
           "1ul1, anti-gonadotrop, antiag, alik, ",
           "Validation of a light questionnaire with real-life photopic illuminance measurements: The harvard light exposure assessment questionnaire"
          ],
          [
           "1ul1, anti-gonadotrop, antiag, alik, ",
           "[Shift and night work--is it a cancer risk factor?]"
          ],
          [
           "MF, alzheim, autonomi, 6-sulphatoxy-melatonin, ",
           "A short-term increase in cancer risk associated with daytime napping is likely to reflect pre-clinical disease: prospective cohort study"
          ],
          [
           "5-androstene-3beta, 1x10, 1.7-fold, GG, ",
           "Selected Neurophysiological, Psychological, and Behavioral Influences on Subjective Sleep Quality in Nurses: A Structure Equation Model"
          ],
          [
           "0.023.conclus, 14-15-hz, 6-sulftoxymelatonin, PA, ",
           "Sleep duration and cancer risk: time to use a \"sleep-years\" index?"
          ],
          [
           "0.023.conclus, 14-15-hz, 6-sulftoxymelatonin, PA, ",
           "A possible role of perinatal light in mood disorders and internal cancers: reconciliation of instability and latitude concepts"
          ],
          [
           "IR, 0.023.conclus, 35-day, IN, ",
           "Examining the most relevant conceptualization of the socioeconomic status construct for cancer research"
          ],
          [
           "1ul1, anti-gonadotrop, antiag, alik, ",
           "Obstructive sleep apnea and cancer: Epidemiologic links and theoretical biological constructs"
          ],
          [
           "1-tail, alia, 1beta, 1-week, ",
           "Shift Work and Prostate Cancer Incidence in Industrial Workers: A Historical Cohort Study in a German Chemical Company"
          ],
          [
           "5-androstene-3beta, 1x10, 1.7-fold, GG, ",
           "Increased breast cancer risk among women who work predominantly at night"
          ],
          [
           "MF, alzheim, autonomi, 6-sulphatoxy-melatonin, ",
           "Biological clocks and shift work: circadian dysregulation and potential long-term effects"
          ],
          [
           "MF, alzheim, autonomi, 6-sulphatoxy-melatonin, ",
           "The risk of cancer among patients with sleep disturbance: a nationwide retrospective study in Taiwan"
          ],
          [
           "'direct, assembl, 20e, assays.result, ",
           "Sleep duration and incidence of colorectal cancer in postmenopausal women"
          ],
          [
           "11th, NA, 45-min, 28-day, ",
           "Night-shift work and risk of breast cancer: a systematic review and meta-analysis"
          ],
          [
           "'direct, assembl, 20e, assays.result, ",
           "High Incidence of Breast Cancer in Light-Polluted Areas with Spatial Effects in Korea"
          ],
          [
           "'direct, assembl, 20e, assays.result, ",
           "Does the modern urbanized sleeping habitat pose a breast cancer risk?"
          ],
          [
           "11th, NA, 45-min, 28-day, ",
           "Impact of environmental contaminants on breast cancer"
          ],
          [
           "0.023.conclus, 14-15-hz, 6-sulftoxymelatonin, PA, ",
           "[Cancer and lifestyle-related diseases risk among shifts workers]"
          ],
          [
           "5-androstene-3beta, 1x10, 1.7-fold, GG, ",
           "Night-time work predisposes to non-Hodgkin lymphoma"
          ],
          [
           "MF, alzheim, autonomi, 6-sulphatoxy-melatonin, ",
           "Sleep Disturbance and Incidence of Thyroid Cancer in Postmenopausal Women The Women's Health Initiative"
          ],
          [
           "MF, alzheim, autonomi, 6-sulphatoxy-melatonin, ",
           "Sleep duration and incidence of lung cancer in ageing men"
          ],
          [
           "MF, alzheim, autonomi, 6-sulphatoxy-melatonin, ",
           "Non-apnea sleep disorders will increase subsequent liver cancer risk - A nationwide population-based cohort study"
          ],
          [
           "0.023.conclus, 14-15-hz, 6-sulftoxymelatonin, PA, ",
           "Nonstandard working schedules and health: the systematic search for a comprehensive model"
          ],
          [
           "MF, alzheim, autonomi, 6-sulphatoxy-melatonin, ",
           "The effect of blue-blocking intraocular lenses on circadian biological rhythm: protocol for a randomised controlled trial (CLOCK-IOL colour study)"
          ],
          [
           "advanc, afflict, 'everyth, NA, ",
           "Daily variations in plasma follicle stimulating hormone, luteinizing hormone and progesterone in the normal menstrual cycle."
          ],
          [
           "IR, 0.023.conclus, 35-day, IN, ",
           "Experimental studies of shift-work. 3. Stabilized 12-hour shift system."
          ],
          [
           "MF, alzheim, autonomi, 6-sulphatoxy-melatonin, ",
           "Experimental studies of shift-work I: A comparison of 'rotating' and 'stabilized' 4-hour shift systems."
          ],
          [
           "MF, alzheim, autonomi, 6-sulphatoxy-melatonin, ",
           "Daily changes in urinay testosterone levels of the human male."
          ],
          [
           "MF, alzheim, autonomi, 6-sulphatoxy-melatonin, ",
           "The proportion of cancer attributable to occupational exposures"
          ],
          [
           "5-androstene-3beta, 1x10, 1.7-fold, GG, ",
           "Risk factors for breast cancer and expression of insulin-like growth factor-2 (IGF-2) in women with breast cancer in Wuhan City, China"
          ],
          [
           "1ul1, anti-gonadotrop, antiag, alik, ",
           "Recommendations for the prevention of breast cancer in shift workers"
          ],
          [
           "CS, all, 25-day, antihistamin, ",
           "The Circadian Clock and Human Health"
          ],
          [
           "1ul1, anti-gonadotrop, antiag, alik, ",
           "Residential Exposure to Road and Railway Noise and Risk of Prostate Cancer: A Prospective Cohort Study"
          ],
          [
           "advanc, afflict, 'everyth, NA, ",
           "Breast cancer risk in flight attendants: An update"
          ],
          [
           "FA, Tf, 4-week, HP, ",
           "Rotating night shifts and risk of skin cancer in the nurses' health study"
          ],
          [
           "SC, 1-back, Cp, ER, ",
           "Circadian disruption and breast cancer: from melatonin to clock genes"
          ],
          [
           "11th, NA, 45-min, 28-day, ",
           "\"There will be no more\": The legacy of the Toowong breast cancer cluster"
          ],
          [
           "0.023.conclus, 14-15-hz, 6-sulftoxymelatonin, PA, ",
           "Circadian rhythm of serum cytidine deaminase in patients with rheumatoid arthritis during rest and exercise"
          ],
          [
           "5-androstene-3beta, 1x10, 1.7-fold, GG, ",
           "Short-term effects of night shift work on breast cancer risk: a cohort study of payroll data"
          ],
          [
           "5-androstene-3beta, 1x10, 1.7-fold, GG, ",
           "Nutrition and occupational health (II) IIa. Prevention of pathologies IIb. Company dining rooms"
          ],
          [
           "/mmcp2, OS, admit, 4-vntr, ",
           "Men's estimates of prostate cancer risk and self-reported rates of screening"
          ],
          [
           "1ul1, anti-gonadotrop, antiag, alik, ",
           "Circadian-based new technologies for night workers."
          ],
          [
           "advanc, afflict, 'everyth, NA, ",
           "[Basal values and circadian variations of testosterone, 17beta-oestradiol, FSH and LH in the plasma of normal adult males]."
          ],
          [
           "2400h, 24-26-hr, 18-oh-deoxycorticosteron, 38-h, ",
           "Breast cancer. Night shifts put nurses at risk."
          ],
          [
           "6-hydroxymelatoninsulph, 12l:12d, He, 12-year-old, ",
           "[Circadian changes in serum prolactin in a group of apparently healthy subjects]."
          ],
          [
           "IR, 0.023.conclus, 35-day, IN, ",
           "Managing the patient with shift-work disorder."
          ],
          [
           "0.023.conclus, 14-15-hz, 6-sulftoxymelatonin, PA, ",
           "The temporal relationship between melatonin and prolactin in women."
          ],
          [
           "5-androstene-3beta, 1x10, 1.7-fold, GG, ",
           "[Circadian rhythm of plasma total estriol in pregnancy]."
          ],
          [
           "advanc, afflict, 'everyth, NA, ",
           "Dexamethasone-induced suppression of the circadian rhythm of plasma testosterone in normal adult males."
          ],
          [
           "CV, 9-hour, 26-item, alteration/disturb, ",
           "[Biological rhythm of plasma free testosterone in healthy adult males: existence of a circadian variation]."
          ],
          [
           "0.023.conclus, 14-15-hz, 6-sulftoxymelatonin, PA, ",
           "Circulating prolactin levels during the menstrual cycle: episodic release and diurnal variation."
          ],
          [
           "MF, alzheim, autonomi, 6-sulphatoxy-melatonin, ",
           "Diurnal cycles in plasma FSH, testosterone and cortisol in men."
          ],
          [
           "6-hydroxymelatoninsulph, 12l:12d, He, 12-year-old, ",
           "[Circadian rhythm of plasm testosterone levels. II. Testosterone levels during the 1st and 2d half-day]."
          ],
          [
           "0.023.conclus, 14-15-hz, 6-sulftoxymelatonin, PA, ",
           "[Circadian fluctuation of prolactin]."
          ],
          [
           "0.023.conclus, 14-15-hz, 6-sulftoxymelatonin, PA, ",
           "Circadian and circannual rhythms of urine testosterone and epitestosterone glucuronides in healthy adult men."
          ],
          [
           "0.023.conclus, 14-15-hz, 6-sulftoxymelatonin, PA, ",
           "[Circadian and circannual rhythms of testosterone and epitestosterone glucuronides in healthy human adults]."
          ],
          [
           "advanc, afflict, 'everyth, NA, ",
           "[Circadian variations of plasma testosterone in normal adult male. Study by repetitive sampling for 25 hours (author's transl)]."
          ],
          [
           "0.023.conclus, 14-15-hz, 6-sulftoxymelatonin, PA, ",
           "[Circadian rhythm of reaction time during night work. 3. Correlations between body temperature and reaction time]."
          ],
          [
           "0.023.conclus, 14-15-hz, 6-sulftoxymelatonin, PA, ",
           "[Circadian rhythm of reaction time during night work. I. Phase of maximum and influences of sleep on range of oscillation]."
          ],
          [
           "1ul1, anti-gonadotrop, antiag, alik, ",
           "Circadian periodicity of serum prolactin concentration in man."
          ],
          [
           "arrhythmia, BP, afternoons/even, auditori, ",
           "Interindividual differences in circadian fatigue patterns of shift workers."
          ],
          [
           "1ul1, anti-gonadotrop, antiag, alik, ",
           "Sleep-related, nychthermeral and briefly episodic variation in human plasma prolactin concentrations."
          ],
          [
           "1ul1, anti-gonadotrop, antiag, alik, ",
           "Periodicity of serum prolactin concentration."
          ],
          [
           "1ul1, anti-gonadotrop, antiag, alik, ",
           "Elucidation of mechanism(s) of the nocturnal rise of testosterone in men."
          ],
          [
           "0.023.conclus, 14-15-hz, 6-sulftoxymelatonin, PA, ",
           "Chronobiologic response modifiers and breast cancer development: classical background and chronobiologic tasks remaining."
          ],
          [
           "1ul1, anti-gonadotrop, antiag, alik, ",
           "[Health problems due to night shift work and jetlag]."
          ],
          [
           "0.023.conclus, 14-15-hz, 6-sulftoxymelatonin, PA, ",
           "[Circadian rhythm and stress in the elderly: a study using salivary cortisol levels as an indicator]."
          ],
          [
           "CV, 9-hour, 26-item, alteration/disturb, ",
           "[The circadian system in man: From the internal clock to melatonin secretion]."
          ],
          [
           "0.023.conclus, 14-15-hz, 6-sulftoxymelatonin, PA, ",
           "The circadian rhythms of thyrotrophin and prolactin secretion."
          ],
          [
           "CV, 9-hour, 26-item, alteration/disturb, ",
           "Twenty-four hour integrated concentrations of progesterone, 17-hydroxyprogesterone and cortisol in normal male subjects."
          ],
          [
           "advanced/leth, 2-3h, CC, acrophs, ",
           "Reference value for C-reactive protein and its distribution pattern in thai adults."
          ],
          [
           "6-d, analys, 1,25-dihydroxy-vitamin-d, 9-hour, ",
           "An abnormal luteal-phase evening peak of plasma prolactin in women with a family history of breast cancer."
          ],
          [
           "6500k, TP, ann, BT, ",
           "The hypothalamic-pituitary-adrenocortical system and sleep in man."
          ],
          [
           "0.023.conclus, 14-15-hz, 6-sulftoxymelatonin, PA, ",
           "Circadian endocrine time structure in humans above 80 years of age."
          ],
          [
           "1ul1, anti-gonadotrop, antiag, alik, ",
           "[Circadian rhythm of the pituitary-gonadal system]."
          ],
          [
           "1ul1, anti-gonadotrop, antiag, alik, ",
           "Diurnal variations in the levels of plasma and urinary androgens."
          ],
          [
           "1ul1, anti-gonadotrop, antiag, alik, ",
           "[Shift work and biological rhythms (author's transl)]."
          ],
          [
           "5-androstene-3beta, 1x10, 1.7-fold, GG, ",
           "Circadian profiles of cortisol, prolactin, and thyrotropin in seasonal affective disorder."
          ],
          [
           "1ul1, anti-gonadotrop, antiag, alik, ",
           "A likelihood ratio method for studying the re-entrainment of circadian rhythms."
          ],
          [
           "5-androstene-3beta, 1x10, 1.7-fold, GG, ",
           "Salivary cortisol and dehydroepiandrosterone sulphate levels in postmenopausal women with primary breast cancer."
          ],
          [
           "5-androstene-3beta, 1x10, 1.7-fold, GG, ",
           "Patterns of salivary cortisol levels can manifest work stress in emergency care providers."
          ],
          [
           "6-d, analys, 1,25-dihydroxy-vitamin-d, 9-hour, ",
           "Prolactin and prostate: a chronobiologic study."
          ],
          [
           "/mmcp2, OS, admit, 4-vntr, ",
           "[Weavers' maladaptation to 3-shift work with weekly rotation]."
          ],
          [
           "0.023.conclus, 14-15-hz, 6-sulftoxymelatonin, PA, ",
           "[Long-term adaptation of weavers to 3-shift work with weekly rotation]."
          ],
          [
           "IR, 0.023.conclus, 35-day, IN, ",
           "Therapeutic applications of melatonin."
          ],
          [
           "MF, alzheim, autonomi, 6-sulphatoxy-melatonin, ",
           "Measurement of melatonin and 6-sulphatoxymelatonin."
          ],
          [
           "IR, 0.023.conclus, 35-day, IN, ",
           "Circadian time organization of professional firemen: desynchronization-tau differing from 24.0 hours-documented by longitudinal self-assessment of 16 variables."
          ],
          [
           "MF, alzheim, autonomi, 6-sulphatoxy-melatonin, ",
           "The plasma prolactin levels in man during prolongation of darkness in the morning."
          ],
          [
           "5-androstene-3beta, 1x10, 1.7-fold, GG, ",
           "Time-related behaviour of endocrine secretion: circannual variations of FT3, cortisol, HGH and serum basal insulin in healthy subjects."
          ],
          [
           "1ul1, anti-gonadotrop, antiag, alik, ",
           "Police officers' responses to 8 and 12 hour shift schedules."
          ],
          [
           "1ul1, anti-gonadotrop, antiag, alik, ",
           "Phase-shifts in melatonin, 6-sulphatoxymelatonin and alertness rhythms after treatment with moderately bright light at night."
          ],
          [
           "5-androstene-3beta, 1x10, 1.7-fold, GG, ",
           "Photic resetting in night-shift work: impact on nurses' sleep."
          ],
          [
           "1ul1, anti-gonadotrop, antiag, alik, ",
           "Biological rhythms during residence in polar regions."
          ],
          [
           "arrhythmia, BP, afternoons/even, auditori, ",
           "Jet-lag and shift work: (2). Therapeutic use of melatonin."
          ],
          [
           "1-tail, alia, 1beta, 1-week, ",
           "Use of melatonin in the treatment of phase shift and sleep disorders."
          ],
          [
           "MF, alzheim, autonomi, 6-sulphatoxy-melatonin, ",
           "Human puberty: 24-hour estradiol in pubertal girls."
          ],
          [
           "1ul1, anti-gonadotrop, antiag, alik, ",
           "Reversal of diurnal cortisol rhythm and suppression of plasma testosterone in obstetric residents on call."
          ],
          [
           "1-tail, alia, 1beta, 1-week, ",
           "Plasma 20alpha-dihydroprogesterone, progesterone and 17-hydroxyprogesterone: daily and four-hourly variations during the menstrual cycle."
          ],
          [
           "5-androstene-3beta, 1x10, 1.7-fold, GG, ",
           "Effects of sex steroids on sleep."
          ],
          [
           "5-androstene-3beta, 1x10, 1.7-fold, GG, ",
           "The effect of music, therapy, and relaxation on adrenal corticosteroids and the re-entrainment of circadian rhythms."
          ],
          [
           "2400h, 24-26-hr, 18-oh-deoxycorticosteron, 38-h, ",
           "Melatonin stabilises sleep onset time in a blind man without entrainment of cortisol or temperature rhythms."
          ],
          [
           "0.023.conclus, 14-15-hz, 6-sulftoxymelatonin, PA, ",
           "Melatonin, biological rhythm disorders and phototherapy."
          ],
          [
           "'direct, assembl, 20e, assays.result, ",
           "[Biologic rhythms. Effect of aging on the desynchronization of endogenous rhythmicity and environmental conditions]."
          ],
          [
           "MF, alzheim, autonomi, 6-sulphatoxy-melatonin, ",
           "Melatonin: aeromedical, toxicopharmacological, and analytical aspects."
          ],
          [
           "0.023.conclus, 14-15-hz, 6-sulftoxymelatonin, PA, ",
           "[Biological rhythms and drugs]."
          ],
          [
           "6-d, analys, 1,25-dihydroxy-vitamin-d, 9-hour, ",
           "Is sleeping sickness a circadian disorder? The serotonergic hypothesis."
          ],
          [
           "MF, alzheim, autonomi, 6-sulphatoxy-melatonin, ",
           "Endocrine activity during sleep."
          ],
          [
           "1ul1, anti-gonadotrop, antiag, alik, ",
           "Circadian and sleep-dependent regulation of hormone release in humans."
          ],
          [
           "IR, 0.023.conclus, 35-day, IN, ",
           "Relationship between rapid eye movement sleep and testosterone secretion in normal men."
          ],
          [
           "5-androstene-3beta, 1x10, 1.7-fold, GG, ",
           "Changes in nocturnal melatonin secretion in perimenopausal women: correlation with endogenous estrogen concentrations."
          ],
          [
           "0.023.conclus, 14-15-hz, 6-sulftoxymelatonin, PA, ",
           "Pathophysiology of human circadian rhythms."
          ],
          [
           "2400h, 24-26-hr, 18-oh-deoxycorticosteron, 38-h, ",
           "Sleep/wake cycle and circadian disturbances in shift work: strategies for their management--a review."
          ],
          [
           "5-androstene-3beta, 1x10, 1.7-fold, GG, ",
           "What can the chronobiologist do to help the shift worker?"
          ],
          [
           "/mmcp2, OS, admit, 4-vntr, ",
           "Hormonal and pharmacological manipulation of the circadian clock: recent developments and future strategies."
          ],
          [
           "amateur, afford, 45-day, am-7:00, ",
           "Neuropeptide Y promotes sleep and inhibits ACTH and cortisol release in young men."
          ],
          [
           "1-tail, alia, 1beta, 1-week, ",
           "Jet lag/night shift, blindness and melatonin."
          ],
          [
           "5-androstene-3beta, 1x10, 1.7-fold, GG, ",
           "Salivary testosterone at high altitude in man."
          ],
          [
           "5-androstene-3beta, 1x10, 1.7-fold, GG, ",
           "Chronic inflammatory stress."
          ],
          [
           "0.023.conclus, 14-15-hz, 6-sulftoxymelatonin, PA, ",
           "Effect of exogenous melatonin on mood and sleep efficiency in emergency medicine residents working night shifts."
          ],
          [
           "1ul1, anti-gonadotrop, antiag, alik, ",
           "Rhythms in the secretion of gonadotropins and gonadal steroids."
          ],
          [
           "1ul1, anti-gonadotrop, antiag, alik, ",
           "Diurnal fluctuation of sleep propensity and hormonal secretion across the menstrual cycle."
          ],
          [
           "MF, alzheim, autonomi, 6-sulphatoxy-melatonin, ",
           "Circadian changes in the temperature of human beings."
          ],
          [
           "5-androstene-3beta, 1x10, 1.7-fold, GG, ",
           "Physiological effects of light on the human circadian pacemaker."
          ],
          [
           "CV, 9-hour, 26-item, alteration/disturb, ",
           "Health in a 24-h society."
          ],
          [
           "advanced/leth, 2-3h, CC, acrophs, ",
           "Circadian Rhythm Sleep Disorders."
          ],
          [
           "CV, 9-hour, 26-item, alteration/disturb, ",
           "Circadian rhythm of heart rate, urinary cortisol excretion, and sleep in civil air traffic controllers."
          ],
          [
           "ald, balanc, actillum, akt, ",
           "Influence of night shift work on psychologic state and cardiovascular and neuroendocrine responses in healthy nurses."
          ],
          [
           "5-androstene-3beta, 1x10, 1.7-fold, GG, ",
           "Temporal order of sleepiness, performance and physiological indices during 19-h sleep deprivation."
          ],
          [
           "0.023.conclus, 14-15-hz, 6-sulftoxymelatonin, PA, ",
           "Use of melatonin in recovery from jet-lag following an eastward flight across 10 time-zones."
          ],
          [
           "5-androstene-3beta, 1x10, 1.7-fold, GG, ",
           "The effect of high ambient temperature on the adjustment of operators to fast rotating 12-hour shiftwork."
          ],
          [
           "0.023.conclus, 14-15-hz, 6-sulftoxymelatonin, PA, ",
           "Ramadan fasting alters endocrine and neuroendocrine circadian patterns. Meal-time as a synchronizer in humans?"
          ],
          [
           "0.023.conclus, 14-15-hz, 6-sulftoxymelatonin, PA, ",
           "Disruption of the nocturnal testosterone rhythm by sleep fragmentation in normal men."
          ],
          [
           "MF, alzheim, autonomi, 6-sulphatoxy-melatonin, ",
           "[Chronobiology in medicine]."
          ],
          [
           "6-d, analys, 1,25-dihydroxy-vitamin-d, 9-hour, ",
           "Nocturnal increase of plasma testosterone in men: relation to gonadotropins and prolactin."
          ],
          [
           "b=2.3, .method, androgen, america, ",
           "The human body circadian: How the biologic clock influences sleep and emotion."
          ],
          [
           "0.023.conclus, 14-15-hz, 6-sulftoxymelatonin, PA, ",
           "Circadian rhythm sleep disorders: pathophysiology and potential approaches to management."
          ],
          [
           "1ul1, anti-gonadotrop, antiag, alik, ",
           "Combating fatigue to enhance safety."
          ],
          [
           "CV, 9-hour, 26-item, alteration/disturb, ",
           "Changes in human adrenal and gonadal function onboard Spacelab."
          ],
          [
           "'direct, assembl, 20e, assays.result, ",
           "Bright light and LEET effects on circadian rhythms, sleep and cognitive performance."
          ],
          [
           "arrhythmia, BP, afternoons/even, auditori, ",
           "Effects of melatonin administration on daytime sleep after simulated night shift work."
          ],
          [
           "6500k, TP, ann, BT, ",
           "Sleep-wake schedule disorder disability: a lifelong untreatable pathology of the circadian time structure."
          ],
          [
           "CV, 9-hour, 26-item, alteration/disturb, ",
           "[Melatonin and circadian rhythm]."
          ],
          [
           "'direct, assembl, 20e, assays.result, ",
           "Timing of initiation of the preovulatory luteinizing hormone surge and its relationship with the circadian cortisol rhythm in the human."
          ],
          [
           "5-androstene-3beta, 1x10, 1.7-fold, GG, ",
           "REM sleep and prolactin in patients with non-affective psychoses."
          ],
          [
           "5-androstene-3beta, 1x10, 1.7-fold, GG, ",
           "[Fatigue and sleep: the point of view of the chronobiologist]."
          ],
          [
           "0.023.conclus, 14-15-hz, 6-sulftoxymelatonin, PA, ",
           "Role of morning melatonin administration and attenuation of sunlight exposure in improving adaptation of night-shift workers."
          ],
          [
           "and-accord, avow, automot, W, ",
           "Elevated salivary cortisol levels as a result of sleep deprivation in a shift worker."
          ],
          [
           "1ul1, anti-gonadotrop, antiag, alik, ",
           "Circadian rhythm characteristics of serum cortisol and dehydroepiandrosterone sulfate in healthy Chinese men aged 30 to 60 years. A cross-sectional study."
          ],
          [
           "5-androstene-3beta, 1x10, 1.7-fold, GG, ",
           "The role of actigraphy in the study of sleep and circadian rhythms."
          ],
          [
           "0.023.conclus, 14-15-hz, 6-sulftoxymelatonin, PA, ",
           "Melatonin: from the hormone to the drug?"
          ],
          [
           "5-androstene-3beta, 1x10, 1.7-fold, GG, ",
           "Diurnal rhythms of serum total, free and bioavailable testosterone and of SHBG in middle-aged men compared with those in young men."
          ],
          [
           "MF, alzheim, autonomi, 6-sulphatoxy-melatonin, ",
           "The 24-h pattern of human prolactin in serum."
          ],
          [
           "0.023.conclus, 14-15-hz, 6-sulftoxymelatonin, PA, ",
           "[Shift work, jet lag and sleep]."
          ],
          [
           "MF, alzheim, autonomi, 6-sulphatoxy-melatonin, ",
           "Experimental shift work studies of permanent night, and rapidly rotating, shift systems. I. Circadian rhythm of body temperature and re-entrainment at shift change."
          ],
          [
           "2400h, 24-26-hr, 18-oh-deoxycorticosteron, 38-h, ",
           "Sleep shift dissociates the nocturnal peaks of parathyroid hormone (1-84), nephrogenous cyclic adenosine monophosphate, and prolactin in normal men."
          ],
          [
           "2400h, 24-26-hr, 18-oh-deoxycorticosteron, 38-h, ",
           "Melatonin phase-shifts human circadian rhythms with no evidence of changes in the duration of endogenous melatonin secretion or the 24-hour production of reproductive hormones."
          ],
          [
           "arrhythmia, BP, afternoons/even, auditori, ",
           "Antiglucocorticoid treatment disrupts endocrine cycle and nocturnal sleep pattern."
          ],
          [
           "5-androstene-3beta, 1x10, 1.7-fold, GG, ",
           "Elevated salivary cortisol due to sleep deprivation."
          ],
          [
           "SC, 1-back, Cp, ER, ",
           "[PHYSIOLOGICAL PRINCIPLES IN THE EVALUATION OF NIGHT WORK AND OF TYPES OF SHIFTS]."
          ],
          [
           "'direct, assembl, 20e, assays.result, ",
           "Circadian rhythm of salivary cortisol, 17alpha-hydroxyprogesterone, and progesterone in healthy children."
          ],
          [
           "6-d, analys, 1,25-dihydroxy-vitamin-d, 9-hour, ",
           "Amplification of nocturnal melatonin secretion in women with nocturnal hyperprolactinemia."
          ],
          [
           "and-accord, avow, automot, W, ",
           "Performance, sleep and circadian phase during a week of simulated night work."
          ],
          [
           "'direct, assembl, 20e, assays.result, ",
           "Physiological effects of shift work on hospital nurses."
          ],
          [
           "0.023.conclus, 14-15-hz, 6-sulftoxymelatonin, PA, ",
           "Psychophysiological effects of a brief nocturnal light exposure."
          ],
          [
           "CV, 9-hour, 26-item, alteration/disturb, ",
           "The use of actimetry to assess changes to the rest-activity cycle."
          ],
          [
           "0.023.conclus, 14-15-hz, 6-sulftoxymelatonin, PA, ",
           "The impact of a week of simulated night work on sleep, circadian phase, and performance."
          ],
          [
           "1ul1, anti-gonadotrop, antiag, alik, ",
           "Relation between nocturnal melatonin profile and hormonal markers of puberty in humans."
          ],
          [
           "CS, all, 25-day, antihistamin, ",
           "[A study comparing circadian rhythm and sleep quality of athletes and sedentary subjects engaged in night work]."
          ],
          [
           "6-d, analys, 1,25-dihydroxy-vitamin-d, 9-hour, ",
           "Influence of circadian time structure on acute hormonal responses to a single bout of heavy-resistance exercise in weight-trained men."
          ],
          [
           "CV, 9-hour, 26-item, alteration/disturb, ",
           "The diurnal patterns of the adrenal steroids cortisol and dehydroepiandrosterone (DHEA) in relation to awakening."
          ],
          [
           "'direct, assembl, 20e, assays.result, ",
           "Changes of diurnal rhythm and levels of total and free testosterone secretion from pre to late puberty in boys: testis size of 3 ml is a transition stage to puberty."
          ],
          [
           "CV, 9-hour, 26-item, alteration/disturb, ",
           "Relation of age to circadian adjustment to night work."
          ],
          [
           "1ul1, anti-gonadotrop, antiag, alik, ",
           "The impact of time of waking and concurrent subjective stress on the cortisol response to awakening."
          ],
          [
           "2400h, 24-26-hr, 18-oh-deoxycorticosteron, 38-h, ",
           "Complete or partial circadian re-entrainment improves performance, alertness, and mood during night-shift work."
          ],
          [
           "5-androstene-3beta, 1x10, 1.7-fold, GG, ",
           "Morning levels of C-reactive protein in children with obstructive sleep-disordered breathing."
          ],
          [
           "6-d, analys, 1,25-dihydroxy-vitamin-d, 9-hour, ",
           "Sleep deficit and stress hormones in helicopter pilots on 7-day duty for emergency medical services."
          ],
          [
           "1ul1, anti-gonadotrop, antiag, alik, ",
           "Prolactin rhythms-oscillators' response to photoperiodic cues is age and circadian time dependent."
          ],
          [
           "CV, 9-hour, 26-item, alteration/disturb, ",
           "Using nine 2-h delays to achieve a 6-h advance disrupts sleep, alertness, and circadian rhythm."
          ],
          [
           "CV, 9-hour, 26-item, alteration/disturb, ",
           "Circadian variation of cardiac autonomic nervous profile is affected in Japanese ambulance men with a working system of 24-h shifts."
          ],
          [
           "1ul1, anti-gonadotrop, antiag, alik, ",
           "Late-night presentation of an auditory stimulus phase delays human circadian rhythms."
          ],
          [
           "1ul1, anti-gonadotrop, antiag, alik, ",
           "The human circadian system in normal and disordered sleep."
          ],
          [
           "2400h, 24-26-hr, 18-oh-deoxycorticosteron, 38-h, ",
           "Scheduling of sleep/darkness affects the circadian phase of night shift workers."
          ],
          [
           "1ul1, anti-gonadotrop, antiag, alik, ",
           "How to trick mother nature into letting you fly around or stay up all night."
          ],
          [
           "0.023.conclus, 14-15-hz, 6-sulftoxymelatonin, PA, ",
           "Aging human circadian rhythms: conventional wisdom may not always be right."
          ],
          [
           "CV, 9-hour, 26-item, alteration/disturb, ",
           "Relation of nocturnal melatonin levels to C-reactive protein concentration in patients with ST-segment elevation myocardial infarction."
          ],
          [
           "1ul1, anti-gonadotrop, antiag, alik, ",
           "[Sleep disruption in shift work and jet lag: the role of the circadian timing system]."
          ],
          [
           "6-d, analys, 1,25-dihydroxy-vitamin-d, 9-hour, ",
           "Simulation of long-haul flights in humans: prolonged mild hypoxia does not alter the circadian time structure of plasma testosterone and gonadotrophins."
          ],
          [
           "5-androstene-3beta, 1x10, 1.7-fold, GG, ",
           "Sex differences in nocturnal growth hormone and prolactin secretion in healthy older adults: relationships with sleep EEG variables."
          ],
          [
           "1ul1, anti-gonadotrop, antiag, alik, ",
           "Exogenous melatonin enhances the TRH-induced prolactin release in normally cycling women: a sex-specific effect."
          ],
          [
           "1ul1, anti-gonadotrop, antiag, alik, ",
           "The anti-tumor activity of pineal melatonin and cancer enhancing life styles in industrialized societies."
          ],
          [
           "2400h, 24-26-hr, 18-oh-deoxycorticosteron, 38-h, ",
           "Urinary 6-sulfatoxymelatonin levels and their correlations with lifestyle factors and steroid hormone levels."
          ],
          [
           "'direct, assembl, 20e, assays.result, ",
           "Does \"clock\" matter in prostate cancer?"
          ],
          [
           "0.023.conclus, 14-15-hz, 6-sulftoxymelatonin, PA, ",
           "The use of chronobiotics in the resynchronization of the sleep-wake cycle."
          ],
          [
           "1ul1, anti-gonadotrop, antiag, alik, ",
           "Sleep and circadian phase in a ship's crew."
          ],
          [
           "0.023.conclus, 14-15-hz, 6-sulftoxymelatonin, PA, ",
           "Subjective and objective measures of adaptation and readaptation to night work on an oil rig in the North Sea."
          ],
          [
           "CV, 9-hour, 26-item, alteration/disturb, ",
           "Chronobiology of sleep in humans."
          ],
          [
           "CV, 9-hour, 26-item, alteration/disturb, ",
           "[Effects of the physical exercise and sports on the circadian rhythm of temperature and waking/sleep pattern of the elderly person. Examples in retired and night workers]."
          ],
          [
           "0.023.conclus, 14-15-hz, 6-sulftoxymelatonin, PA, ",
           "Using daily 30-min phase advances to achieve a 6-hour advance: circadian rhythm, sleep, and alertness."
          ],
          [
           "/mmcp2, OS, admit, 4-vntr, ",
           "Shift work, light at night and risk of breast cancer."
          ],
          [
           "0.023.conclus, 14-15-hz, 6-sulftoxymelatonin, PA, ",
           "The relationship between the rate of melatonin excretion and sleep consolidation for locomotive engineers in natural sleep settings."
          ],
          [
           "'direct, assembl, 20e, assays.result, ",
           "Effects of melatonin on vertebrate circadian systems."
          ],
          [
           "0.023.conclus, 14-15-hz, 6-sulftoxymelatonin, PA, ",
           "Dark therapy for bipolar disorder using amber lenses for blue light blockade."
          ],
          [
           "11th, NA, 45-min, 28-day, ",
           "Overtime work and its effects on sleep, sleepiness, cortisol and blood pressure in an experimental field study."
          ],
          [
           "0.023.conclus, 14-15-hz, 6-sulftoxymelatonin, PA, ",
           "Human circadian rhythms: physiological and therapeutic relevance of light and melatonin."
          ],
          [
           "b=2.3, .method, androgen, america, ",
           "Promoting adjustment of the sleep-wake cycle by chronobiotics."
          ],
          [
           "1ul1, anti-gonadotrop, antiag, alik, ",
           "Circadian rhythm sleep disorders and phototherapy."
          ],
          [
           "arrhythmia, BP, afternoons/even, auditori, ",
           "Cross-talk between C-reactive protein and light/dark variations."
          ],
          [
           "0.023.conclus, 14-15-hz, 6-sulftoxymelatonin, PA, ",
           "Shift work sleep disorder: burden of illness and approaches to management."
          ],
          [
           "MF, alzheim, autonomi, 6-sulphatoxy-melatonin, ",
           "Effect of melatonin replacement on serum hormone rhythms in a patient lacking endogenous melatonin."
          ],
          [
           "1ul1, anti-gonadotrop, antiag, alik, ",
           "Circadian variations in clock gene expression of human bone marrow CD34+ cells."
          ],
          [
           "1ul1, anti-gonadotrop, antiag, alik, ",
           "[Medical justification of the eight-hour shift work]."
          ],
          [
           "1ul1, anti-gonadotrop, antiag, alik, ",
           "The association of time of day and serum testosterone concentration in a large screening population."
          ],
          [
           "0.023.conclus, 14-15-hz, 6-sulftoxymelatonin, PA, ",
           "Diurnal secretion of growth hormone, cortisol, and dehydroepiandrosterone in pre- and perimenopausal women with active rheumatoid arthritis: a pilot case-control study."
          ],
          [
           "CV, 9-hour, 26-item, alteration/disturb, ",
           "The dark side of light at night: physiological, epidemiological, and ecological consequences."
          ],
          [
           "1ul1, anti-gonadotrop, antiag, alik, ",
           "Circadian phase delay induced by phototherapeutic devices."
          ],
          [
           "'direct, assembl, 20e, assays.result, ",
           "Salivary testosterone measurements among women: relative magnitude of circadian and menstrual cycles."
          ],
          [
           "0.023.conclus, 14-15-hz, 6-sulftoxymelatonin, PA, ",
           "Visual impairment and circadian rhythm disorders."
          ],
          [
           "CV, 9-hour, 26-item, alteration/disturb, ",
           "Diurnal variations and temporal coupling of bioactive and immunoactive luteinizing hormone, prolactin, testosterone and 17-beta-estradiol in adult men."
          ],
          [
           "MF, alzheim, autonomi, 6-sulphatoxy-melatonin, ",
           "Practice parameters for the clinical evaluation and treatment of circadian rhythm sleep disorders. An American Academy of Sleep Medicine report."
          ],
          [
           "1ul1, anti-gonadotrop, antiag, alik, ",
           "Circadian rhythmicity and the pharmacologic management of insomnia."
          ],
          [
           "MF, alzheim, autonomi, 6-sulphatoxy-melatonin, ",
           "Sex hormones, sleep, and core body temperature in older postmenopausal women."
          ],
          [
           "1ul1, anti-gonadotrop, antiag, alik, ",
           "Desynchronization of oral temperature, pulse and performance circadian rhythms in shift working Indian nurses."
          ],
          [
           "MF, alzheim, autonomi, 6-sulphatoxy-melatonin, ",
           "[Melatonin effects on the female genital system: a brief review]."
          ],
          [
           "'direct, assembl, 20e, assays.result, ",
           "Melatonergic drugs in clinical practice."
          ],
          [
           "MF, alzheim, autonomi, 6-sulphatoxy-melatonin, ",
           "Diagnosis of circadian rhythm sleep disorders."
          ],
          [
           "2400h, 24-26-hr, 18-oh-deoxycorticosteron, 38-h, ",
           "[Hypophyseal hormonal rhythm in a physiological state]."
          ],
          [
           "0.023.conclus, 14-15-hz, 6-sulftoxymelatonin, PA, ",
           "Sleep-related chronobiological markers of affective illness."
          ],
          [
           "1ul1, anti-gonadotrop, antiag, alik, ",
           "Stress, geomagnetic disturbance, infradian and circadian sampling for circulating corticosterone and models of human depression?"
          ],
          [
           "1ul1, anti-gonadotrop, antiag, alik, ",
           "A new approach to understanding the impact of circadian disruption on human health."
          ],
          [
           "2400h, 24-26-hr, 18-oh-deoxycorticosteron, 38-h, ",
           "[Circadian variation in alertness, readiness for work and work efficiency]."
          ],
          [
           "0.023.conclus, 14-15-hz, 6-sulftoxymelatonin, PA, ",
           "The roles of melatonin and light in the pathophysiology and treatment of circadian rhythm sleep disorders."
          ],
          [
           "2400h, 24-26-hr, 18-oh-deoxycorticosteron, 38-h, ",
           "Synchronies between sleep and endocrine rhythms in man and their statistical evaluation."
          ],
          [
           "6-d, analys, 1,25-dihydroxy-vitamin-d, 9-hour, ",
           "The cortisol awakening response: a pilot study on the effects of shift work, morningness and sleep duration."
          ],
          [
           "CV, 9-hour, 26-item, alteration/disturb, ",
           "Shaping the light/dark pattern for circadian adaptation to night shift work."
          ],
          [
           "2400h, 24-26-hr, 18-oh-deoxycorticosteron, 38-h, ",
           "Atypical evening cortisol profile induces visual recognition memory deficit in healthy human subjects."
          ],
          [
           "=filter, 9-h, 9-hour, 9-month, ",
           "Selectively filtering short wavelengths attenuates the disruptive effects of nocturnal light on endocrine and molecular circadian phase markers in rats."
          ],
          [
           "ald, balanc, actillum, akt, ",
           "[Dysfunctions of biological clocks and their treatments]."
          ],
          [
           "0.023.conclus, 14-15-hz, 6-sulftoxymelatonin, PA, ",
           "Reproducibility of 24-hour serum growth hormone profiles in man."
          ],
          [
           "arrhythmia, BP, afternoons/even, auditori, ",
           "Sleep disorders: causes, effects, and solutions."
          ],
          [
           "MF, alzheim, autonomi, 6-sulphatoxy-melatonin, ",
           "Human plasma melatonin and urinary 6-sulphatoxy melatonin: studies in natural annual photoperiod and in extended darkness."
          ],
          [
           "CV, 9-hour, 26-item, alteration/disturb, ",
           "Correlation between circadian gene variants and serum levels of sex steroids and insulin-like growth factor-I."
          ],
          [
           "'direct, assembl, 20e, assays.result, ",
           "[Sleep medicine in occupational health]."
          ],
          [
           "1ul1, anti-gonadotrop, antiag, alik, ",
           "Diurnal variability of C-reactive protein in obstructive sleep apnea."
          ],
          [
           "CV, 9-hour, 26-item, alteration/disturb, ",
           "Diurnal and seasonal patterns in inflammation-sensitive biomarker level."
          ],
          [
           "0.023.conclus, 14-15-hz, 6-sulftoxymelatonin, PA, ",
           "Defining chronodisruption."
          ],
          [
           "IR, 0.023.conclus, 35-day, IN, ",
           "Circadian rhythm profiles in women with night eating syndrome."
          ],
          [
           "0.023.conclus, 14-15-hz, 6-sulftoxymelatonin, PA, ",
           "Adverse metabolic and cardiovascular consequences of circadian misalignment."
          ],
          [
           "CV, 9-hour, 26-item, alteration/disturb, ",
           "Associations between two job stress models and measures of salivary cortisol."
          ],
          [
           "1ul1, anti-gonadotrop, antiag, alik, ",
           "Disturbance of circadian gene expression in breast cancer."
          ],
          [
           "CV, 9-hour, 26-item, alteration/disturb, ",
           "Sleep length and quality, sleepiness and urinary melatonin among healthy Danish nurses with shift work during work and leisure time."
          ],
          [
           "1ul1, anti-gonadotrop, antiag, alik, ",
           "A review of the effect of the psychosocial working environment on physiological changes in blood and urine."
          ],
          [
           "1ul1, anti-gonadotrop, antiag, alik, ",
           "Ageing, physical function, and the diurnal rhythms of cortisol and dehydroepiandrosterone."
          ],
          [
           "2400h, 24-26-hr, 18-oh-deoxycorticosteron, 38-h, ",
           "The regulation of central and peripheral circadian clocks in humans."
          ],
          [
           "MF, alzheim, autonomi, 6-sulphatoxy-melatonin, ",
           "[Circadian rhythm sleep disorders]."
          ],
          [
           "5-androstene-3beta, 1x10, 1.7-fold, GG, ",
           "[Circadian rhythm sleep disorders]."
          ],
          [
           "MF, alzheim, autonomi, 6-sulphatoxy-melatonin, ",
           "Circadian variation in salivary testosterone across age classes in Ache Amerindian males of Paraguay."
          ],
          [
           "2400h, 24-26-hr, 18-oh-deoxycorticosteron, 38-h, ",
           "Measures to counteract the negative effects of night work."
          ],
          [
           "/mmcp2, OS, admit, 4-vntr, ",
           "Circadian rhythmicity and sleep of aircrew during polar schedules."
          ],
          [
           "IR, 0.023.conclus, 35-day, IN, ",
           "Squashing versus nudging circadian rhythms with artificial bright light: solutions for shift work?"
          ],
          [
           "ald, balanc, actillum, akt, ",
           "Melatonin agonists and insomnia."
          ],
          [
           "'direct, assembl, 20e, assays.result, ",
           "Secretion of hormones influencing water and electrolyte balance (antidiuretic hormone, aldosterone, prolactin) during sleep in normal adult men."
          ],
          [
           "advanc, afflict, 'everyth, NA, ",
           "Circadian rhythm sleep disorders."
          ],
          [
           "1ul1, anti-gonadotrop, antiag, alik, ",
           "Interactions of cortisol, testosterone, and resistance training: influence of circadian rhythms."
          ],
          [
           "0.023.conclus, 14-15-hz, 6-sulftoxymelatonin, PA, ",
           "Sleeping during the day: effects on the 24-h patterns of IGF-binding protein 1, insulin, glucose, cortisol, and growth hormone."
          ],
          [
           "/mmcp2, OS, admit, 4-vntr, ",
           "[Burden and health effects of shift work]."
          ],
          [
           "0.023.conclus, 14-15-hz, 6-sulftoxymelatonin, PA, ",
           "[Sleep-arousal disorder caused by Jet Lag and the countermeasures]."
          ],
          [
           "0.023.conclus, 14-15-hz, 6-sulftoxymelatonin, PA, ",
           "Emergency medicine residents' use of psychostimulants and sedatives to aid in shift work."
          ],
          [
           "0.023.conclus, 14-15-hz, 6-sulftoxymelatonin, PA, ",
           "Treatment of shift work disorder and jet lag."
          ],
          [
           "1ul1, anti-gonadotrop, antiag, alik, ",
           "Physical activity, sedentary behavior, and melatonin among rotating shift nurses."
          ],
          [
           "0.023.conclus, 14-15-hz, 6-sulftoxymelatonin, PA, ",
           "Circadian rhythm desynchronosis, jet lag, shift lag, and coping strategies."
          ],
          [
           "1ul1, anti-gonadotrop, antiag, alik, ",
           "Neuroendocrinological investigations during sleep deprivation in depression. I. Early morning levels of thyrotropin, TH, cortisol, prolactin, LH, FSH, estradiol, and testosterone."
          ],
          [
           "0.023.conclus, 14-15-hz, 6-sulftoxymelatonin, PA, ",
           "Circadian rhythm of adrenal glucocorticoid: its regulation and clinical implications."
          ],
          [
           "'direct, assembl, 20e, assays.result, ",
           "Recognition and assessment of shift work disorder."
          ],
          [
           "0.023.conclus, 14-15-hz, 6-sulftoxymelatonin, PA, ",
           "Caffeine alters circadian rhythms and expression of disease and metabolic markers."
          ],
          [
           "IR, 0.023.conclus, 35-day, IN, ",
           "Food intake and diurnal testosterone variation in the Caerphilly Heart Disease Study."
          ],
          [
           "advanc, afflict, 'everyth, NA, ",
           "The effect of shift rotation on employee cortisol profile, sleep quality, fatigue, and attention level: a systematic review."
          ],
          [
           "MI, 4-night, a., 1,25-dihydroxy-vitamin-d, ",
           "Adrenal peripheral oscillator in generating the circadian glucocorticoid rhythm."
          ],
          [
           "MF, alzheim, autonomi, 6-sulphatoxy-melatonin, ",
           "Changes in plasma DHEAS circadian rhythm in elderly men."
          ],
          [
           "/mmcp2, OS, admit, 4-vntr, ",
           "Cortisol and testosterone in Filipino young adult men: evidence for co-regulation of both hormones by fatherhood and relationship status."
          ],
          [
           "0.023.conclus, 14-15-hz, 6-sulftoxymelatonin, PA, ",
           "Morning to evening changes of human pituitary and adrenal responses to specific stimuli."
          ],
          [
           "adaptive-threshold, barrag, 63-year-old, anabol, ",
           "Sleep habits, alertness, cortisol levels, and cardiac autonomic activity in short-distance bus drivers: differences between morning and afternoon shifts."
          ],
          [
           "1ul1, anti-gonadotrop, antiag, alik, ",
           "[Physiological and psychophysiological indices dynamics in operators with three-shift working day in different working conditions]."
          ],
          [
           "0.023.conclus, 14-15-hz, 6-sulftoxymelatonin, PA, ",
           "Seasonal and inter-day variation in serum high-sensitivity C-reactive protein in Japanese male workers: a longitudinal study."
          ],
          [
           "0.023.conclus, 14-15-hz, 6-sulftoxymelatonin, PA, ",
           "Differences between diurnal patterns of salivary cortisol and dehydroepiandrosterone in healthy female adolescents."
          ],
          [
           "0.023.conclus, 14-15-hz, 6-sulftoxymelatonin, PA, ",
           "The adrenal peripheral clock: glucocorticoid and the circadian timing system."
          ],
          [
           "0.023.conclus, 14-15-hz, 6-sulftoxymelatonin, PA, ",
           "Awakening responses and diurnal fluctuations of salivary cortisol, DHEA-S and α-amylase in healthy male subjects."
          ],
          [
           "0.023.conclus, 14-15-hz, 6-sulftoxymelatonin, PA, ",
           "Psychological and psychophysiological effects of shift work."
          ],
          [
           "IR, 0.023.conclus, 35-day, IN, ",
           "Understanding and diagnosing shift work disorder."
          ],
          [
           "0.023.conclus, 14-15-hz, 6-sulftoxymelatonin, PA, ",
           "Jet lag and shift work sleep disorders: how to help reset the internal clock."
          ],
          [
           "amateur, afford, 45-day, am-7:00, ",
           "[Usefulness of high-sensitivity CRP increases during circadian rhythm for prediction of long-term cardiovascular events in patients with stable coronary artery disease]."
          ],
          [
           "11th, NA, 45-min, 28-day, ",
           "Heart rate variability and endothelial function after sleep deprivation and recovery sleep among male shift and non-shift workers."
          ],
          [
           "SC, 1-back, Cp, ER, ",
           "Prolactin and human breast cancer: a review."
          ],
          [
           "0.023.conclus, 14-15-hz, 6-sulftoxymelatonin, PA, ",
           "When does stress end? Evidence of a prolonged stress reaction in shiftworking truck drivers."
          ],
          [
           "0.023.conclus, 14-15-hz, 6-sulftoxymelatonin, PA, ",
           "Salivary testosterone measurements: reliability across hours, days, and weeks."
          ],
          [
           "6500k, TP, ann, BT, ",
           "The relationship between shift work, sleep, and cognition in career emergency physicians."
          ],
          [
           "1ul1, anti-gonadotrop, antiag, alik, ",
           "Analysis of the workload imposed on the workers of the imprint and cutting/welding sectors of a flexible packaging manufacturer."
          ],
          [
           "0.023.conclus, 14-15-hz, 6-sulftoxymelatonin, PA, ",
           "Appropriate therapeutic selection for patients with shift work disorder."
          ],
          [
           "0.023.conclus, 14-15-hz, 6-sulftoxymelatonin, PA, ",
           "Light exposure and melatonin among rotating shift nurses--letter."
          ],
          [
           "/mmcp2, OS, admit, 4-vntr, ",
           "Attenuation of vagal recovery during sleep and reduction of cortisol/melatonin ratio in late afternoon associate with prolonged daytime sleepiness among media workers with irregular shift work."
          ],
          [
           "0.023.conclus, 14-15-hz, 6-sulftoxymelatonin, PA, ",
           "Chronotype but not sleep length is related to salivary testosterone in young adult men."
          ],
          [
           "0.023.conclus, 14-15-hz, 6-sulftoxymelatonin, PA, ",
           "Work hours and cortisol variation from non-working to working days."
          ],
          [
           "1ul1, anti-gonadotrop, antiag, alik, ",
           "[The use of melatonin for correction of sleep disturbances in assembly-line shift workers with arterial hypertension]."
          ],
          [
           "5-androstene-3beta, 1x10, 1.7-fold, GG, ",
           "The diurnal patterns of salivary interleukin-6 and C-reactive protein in healthy young adults."
          ],
          [
           "1-tail, alia, 1beta, 1-week, ",
           "[Internal clock desynchronization, light and melatonin]."
          ],
          [
           "amateur, afford, 45-day, am-7:00, ",
           "Blacks (African Americans) have shorter free-running circadian periods than whites (Caucasian Americans)."
          ],
          [
           "5-androstene-3beta, 1x10, 1.7-fold, GG, ",
           "An improved method for estimating human circadian phase derived from multichannel ambulatory monitoring and artificial neural networks."
          ],
          [
           "0.023.conclus, 14-15-hz, 6-sulftoxymelatonin, PA, ",
           "Shift work disorder case studies: applying management principles in clinical practice."
          ],
          [
           "0.023.conclus, 14-15-hz, 6-sulftoxymelatonin, PA, ",
           "Timed maternal melatonin treatment reverses circadian disruption of the fetal adrenal clock imposed by exposure to constant light."
          ],
          [
           "0.023.conclus, 14-15-hz, 6-sulftoxymelatonin, PA, ",
           "Changes in the diurnal rhythms during a 45-day head-down bed rest."
          ],
          [
           "1ul1, anti-gonadotrop, antiag, alik, ",
           "Adaptation to shift work: physiologically based modeling of the effects of lighting and shifts' start time."
          ],
          [
           "0.023.conclus, 14-15-hz, 6-sulftoxymelatonin, PA, ",
           "Chronobiology of growth hormone secretion."
          ],
          [
           "0.023.conclus, 14-15-hz, 6-sulftoxymelatonin, PA, ",
           "Overnight plasma profiles of melatonin and certain adenohypophyseal hormones in men."
          ],
          [
           "amateur, afford, 45-day, am-7:00, ",
           "Diurnal patterns of salivary cortisol and DHEA using a novel collection device: electronic monitoring confirms accurate recording of collection time using this device."
          ],
          [
           "MF, alzheim, autonomi, 6-sulphatoxy-melatonin, ",
           "Morning cortisol levels and perceived stress in irregular shift workers compared with regular daytime workers."
          ],
          [
           "1ul1, anti-gonadotrop, antiag, alik, ",
           "Influence of melatonin on the sleep-independent component of prolactin secretion."
          ],
          [
           "0.023.conclus, 14-15-hz, 6-sulftoxymelatonin, PA, ",
           "Circadian pituitary adrenal rhythms."
          ],
          [
           "MF, alzheim, autonomi, 6-sulphatoxy-melatonin, ",
           "Characteristics of menstrual cycle in shift workers."
          ],
          [
           "0.023.conclus, 14-15-hz, 6-sulftoxymelatonin, PA, ",
           "Variability of serum prolactin and progesterone levels in normal women: the relevance of single hormone measurements in the clinical setting."
          ],
          [
           "1ul1, anti-gonadotrop, antiag, alik, ",
           "The circadian clock and glucocorticoids--interactions across many time scales."
          ],
          [
           "0.023.conclus, 14-15-hz, 6-sulftoxymelatonin, PA, ",
           "[Circadian rhythm of plasma levels of lipids, carbohydrates and various hormones in healthy pilots]."
          ],
          [
           "0.023.conclus, 14-15-hz, 6-sulftoxymelatonin, PA, ",
           "Estradiol modulates recovery of REM sleep in a time-of-day-dependent manner."
          ],
          [
           "advanc, afflict, 'everyth, NA, ",
           "Diurnal variation of testosterone and estradiol: a source of bias in comparative studies on breast cancer."
          ],
          [
           "0.023.conclus, 14-15-hz, 6-sulftoxymelatonin, PA, ",
           "Update on the role of melatonin in the prevention of cancer tumorigenesis and in the management of cancer correlates, such as sleep-wake and mood disturbances: review and remarks."
          ],
          [
           "1ul1, anti-gonadotrop, antiag, alik, ",
           "Polysomnographic Sleep and Circadian Temperature Rhythms as a Function of Prior Shift Work Exposure in Retired Seniors."
          ],
          [
           "0.023.conclus, 14-15-hz, 6-sulftoxymelatonin, PA, ",
           "Psychomotor performance of truck drivers before and after day shifts."
          ],
          [
           "IR, 0.023.conclus, 35-day, IN, ",
           "Within-person coupling of changes in cortisol, testosterone, and DHEA across the day in adolescents."
          ],
          [
           "amateur, afford, 45-day, am-7:00, ",
           "[Night work and health of nurses and midviwes--a review]."
          ],
          [
           "0.023.conclus, 14-15-hz, 6-sulftoxymelatonin, PA, ",
           "Day-night contrast as source of health for the human circadian system."
          ],
          [
           "1-tail, alia, 1beta, 1-week, ",
           "The biological clock modulates the human cortisol response in a multiplicative fashion."
          ],
          [
           "advanc, afflict, 'everyth, NA, ",
           "Circadian misalignment augments markers of insulin resistance and inflammation, independently of sleep loss."
          ],
          [
           "'direct, assembl, 20e, assays.result, ",
           "The relationship between sleep disorders and testosterone in men."
          ],
          [
           "1ul1, anti-gonadotrop, antiag, alik, ",
           "Workers' psychological distress, depression, and burnout symptoms: associations with diurnal cortisol profiles."
          ],
          [
           "1-tail, alia, 1beta, 1-week, ",
           "Effects of rotation interval on sleepiness and circadian dynamics on forward rotating 3-shift systems."
          ],
          [
           "IR, 0.023.conclus, 35-day, IN, ",
           "Steroid hormones in 2013: Glucocorticoids: timing, binding and environment."
          ],
          [
           "5-androstene-3beta, 1x10, 1.7-fold, GG, ",
           "[Circadian and circumannual variations in the level of plasma TSH and prolactin in healthy adult males]."
          ],
          [
           "advanc, afflict, 'everyth, NA, ",
           "Diurnal patterns and associations among salivary cortisol, DHEA and alpha-amylase in older adults."
          ],
          [
           "IR, 0.023.conclus, 35-day, IN, ",
           "Very Long (> 48 hours) Shifts and Cardiovascular Strain in Firefighters: a Theoretical Framework."
          ],
          [
           "0.023.conclus, 14-15-hz, 6-sulftoxymelatonin, PA, ",
           "Sleep loss, circadian mismatch, and abnormalities in reorienting of attention in night workers with shift work disorder."
          ],
          [
           "1ul1, anti-gonadotrop, antiag, alik, ",
           "[Shift work and risk of cancer and coronary heart diseases]."
          ],
          [
           "0.023.conclus, 14-15-hz, 6-sulftoxymelatonin, PA, ",
           "Oral temperature, circadian rhythm amplitude, ageing and tolerance to shift-work."
          ],
          [
           "5-androstene-3beta, 1x10, 1.7-fold, GG, ",
           "[Circadian rhythm of prolactin release in women and men]."
          ],
          [
           "0.023.conclus, 14-15-hz, 6-sulftoxymelatonin, PA, ",
           "[Circadian changes in blood prolactin levels in aged subjects]."
          ],
          [
           "advanc, afflict, 'everyth, NA, ",
           "Effects of caffeine on skin and core temperatures, alertness, and recovery sleep during circadian misalignment."
          ],
          [
           "6-hydroxymelatoninsulph, 12l:12d, He, 12-year-old, ",
           "The relationship between sleep disorders and testosterone."
          ],
          [
           "1ul1, anti-gonadotrop, antiag, alik, ",
           "Spectral modulation of light wavelengths using optical filters: effect on melatonin secretion."
          ],
          [
           "0.023.conclus, 14-15-hz, 6-sulftoxymelatonin, PA, ",
           "Inter-individual differences in the human circadian system: a review."
          ],
          [
           "1ul1, anti-gonadotrop, antiag, alik, ",
           "Pharmacological interventions for sleepiness and sleep disturbances caused by shift work."
          ],
          [
           "advanc, afflict, 'everyth, NA, ",
           "[Man and night work. I. The adaptability of human circadian biorhythms]."
          ],
          [
           "0.023.conclus, 14-15-hz, 6-sulftoxymelatonin, PA, ",
           "Sleep regulation and sex hormones exposure in men and women across adulthood."
          ],
          [
           "5-androstene-3beta, 1x10, 1.7-fold, GG, ",
           "The role of sleep and circadian rhythms in health: a snapshot of key research interrogations."
          ],
          [
           "1ul1, anti-gonadotrop, antiag, alik, ",
           "The effects of a split sleep-wake schedule on neurobehavioural performance and predictions of performance under conditions of forced desynchrony."
          ],
          [
           "IR, 0.023.conclus, 35-day, IN, ",
           "Millisecond flashes of light phase delay the human circadian clock during sleep."
          ],
          [
           "1ul1, anti-gonadotrop, antiag, alik, ",
           "Predictors of shift work disorder among nurses: a longitudinal study."
          ],
          [
           "MF, alzheim, autonomi, 6-sulphatoxy-melatonin, ",
           "Early, but not late chronotypes, are up during their biological night when working the night shift."
          ],
          [
           "MF, alzheim, autonomi, 6-sulphatoxy-melatonin, ",
           "Author response: early, but not late chronotypes, are up during their biological night when working the night shift."
          ],
          [
           "MF, alzheim, autonomi, 6-sulphatoxy-melatonin, ",
           "Circadian rhythm parameters of endocrine functions in elderly subjects during the seventh to the ninth decade of life."
          ],
          [
           "appropri, acebo, aris, assumpt, ",
           "Pharmacological interventions for sleepiness and sleep disturbances caused by shift work."
          ],
          [
           "MF, alzheim, autonomi, 6-sulphatoxy-melatonin, ",
           "Influence of sleep deprivation and circadian misalignment on cortisol, inflammatory markers, and cytokine balance."
          ],
          [
           "b=2.3, .method, androgen, america, ",
           "Association of Job Strain With Cortisol and Alpha-Amylase Among Shift-Working Health Care Professionals in Laboratory and Field."
          ],
          [
           "appropri, acebo, aris, assumpt, ",
           "Pharmacological interventions for sleepiness and sleep disturbances caused by shift work."
          ],
          [
           "appropri, acebo, aris, assumpt, ",
           "Shift work and endocrine disorders."
          ],
          [
           "appropri, acebo, aris, assumpt, ",
           "Doxorubicin resistance in breast cancer is driven by light at night-induced disruption of the circadian melatonin signal."
          ],
          [
           "1ul1, anti-gonadotrop, antiag, alik, ",
           "Circadian variation in testosterone, sex hormone-binding globulin, and calculated non-sex hormone-binding globulin bound testosterone in healthy young and elderly men."
          ],
          [
           "CV, 9-hour, 26-item, alteration/disturb, ",
           "The association of body size in early to mid-life with adult urinary 6-sulfatoxymelatonin levels among night shift health care workers."
          ],
          [
           "1ul1, anti-gonadotrop, antiag, alik, ",
           "Shift work and its association with metabolic disorders."
          ],
          [
           "MF, alzheim, autonomi, 6-sulphatoxy-melatonin, ",
           "Context influences the interplay of endocrine axes across the day."
          ],
          [
           "appropri, acebo, aris, assumpt, ",
           "Acute Sleep Loss Induces Tissue-Specific Epigenetic and Transcriptional Alterations to Circadian Clock Genes in Men."
          ],
          [
           "amateur, afford, 45-day, am-7:00, ",
           "No stress after 24-hour on-call shifts?"
          ],
          [
           "1ul1, anti-gonadotrop, antiag, alik, ",
           "Extended work availability and its relation with start-of-day mood and cortisol."
          ],
          [
           "MF, alzheim, autonomi, 6-sulphatoxy-melatonin, ",
           "Lack of diurnal variation in plasma levels of androstenedione, testosterone, estrone and estradiol in postmenopausal women."
          ],
          [
           "'direct, assembl, 20e, assays.result, ",
           "Prolactin concentrations during the normal menstrual cycle: rhythms within rhythms."
          ],
          [
           "MF, alzheim, autonomi, 6-sulphatoxy-melatonin, ",
           "The use of salivary steroids to monitor circadian rhythmicity on expeditions in the arctic."
          ],
          [
           "MF, alzheim, autonomi, 6-sulphatoxy-melatonin, ",
           "Work stress models and diurnal cortisol variations: The SALVEO study."
          ],
          [
           "MF, alzheim, autonomi, 6-sulphatoxy-melatonin, ",
           "Effects of Circadian Rhythm on Power, Force, and Hormonal Response in Young Men."
          ],
          [
           "and-accord, avow, automot, W, ",
           "Sex hormones adjust \"sex-specific\" reactive and diurnal cortisol profiles."
          ],
          [
           "-I, approach, +/-sem, abstarct, ",
           "Performance overnight in shiftworkers operating a day-night schedule."
          ],
          [
           "-I, approach, +/-sem, abstarct, ",
           "The efficacy of objective and subjective predictors of driving performance during sleep restriction and circadian misalignment."
          ],
          [
           "and-accord, avow, automot, W, ",
           "Jet Lag and Shift Work Disorder."
          ],
          [
           "appropri, acebo, aris, assumpt, ",
           "The pragmatic approach to masking."
          ],
          [
           "appropri, acebo, aris, assumpt, ",
           "Sleep-related melatonin use in healthy children."
          ],
          [
           "appropri, acebo, aris, assumpt, ",
           "Adaptation to shift work--experimental approaches with reduced masking effects."
          ],
          [
           "appropri, acebo, aris, assumpt, ",
           "Sleep and wake disorders in shift workers. Part II: Prevention and treatment strategies."
          ],
          [
           "beadchip, =filter, 9-h, 9-hour, ",
           "Daily profiles of steroid hormones and their metabolites related to food intake."
          ],
          [
           "appropri, acebo, aris, assumpt, ",
           "Experimental studies of shift-work. II. Stabilized 8-hour shift systems."
          ],
          [
           "appropri, acebo, aris, assumpt, ",
           "Rhythmic correlates of shift work."
          ],
          [
           "ald, balanc, actillum, akt, ",
           "Rhythms in the ovulatory cycle. 1st: Prolactin. Chronobiological Research Group on Synthetic Peptides in Medicine."
          ],
          [
           "CS, all, 25-day, antihistamin, ",
           "Circadian variations of plasma testosterone and estrogens in normal men. A study by frequent sampling."
          ],
          [
           "arrhythmia, BP, afternoons/even, auditori, ",
           "The neuroendocrinology of human sleep."
          ],
          [
           "and-accord, avow, automot, W, ",
           "A study of weekly and rapidly rotating shiftworkers."
          ],
          [
           "appropri, acebo, aris, assumpt, ",
           "Effect of color temperature on melatonin production for illumination of working environments."
          ],
          [
           "1ul1, anti-gonadotrop, antiag, alik, ",
           "Common genetic variation near melatonin receptor 1A gene linked to job-related exhaustion in shift workers."
          ],
          [
           "beadchip, =filter, 9-h, 9-hour, ",
           "[Circadian rhythm of circulating hormones in Cushing's disease]."
          ],
          [
           "appropri, acebo, aris, assumpt, ",
           "Effects of exogenous melatonin on human pituitary and adrenal secretions. Hormonal responses to specific stimuli after acute administration of different doses at two opposite circadian stages in men."
          ],
          [
           "'direct, assembl, 20e, assays.result, ",
           "Plasma testosterone during nocturnal sleep in normal men."
          ],
          [
           "'direct, assembl, 20e, assays.result, ",
           "Work at sea: a study of sleep, and of circadian rhythms in physiological and psychological functions, in watchkeepers on merchant vessels. I. Watchkeeping on board ships: a methodological approach."
          ],
          [
           "artist, analys, abstract, averag, ",
           "Control of circadian and episodic variations of adrenal androgens secretion in man."
          ],
          [
           "appropri, acebo, aris, assumpt, ",
           "Pulsatile hormone secretion late in the luteal phase of normal and infertile women during diurnal hours."
          ],
          [
           "0.023.conclus, 14-15-hz, 6-sulftoxymelatonin, PA, ",
           "Seasonal, menstrual and circadian secretions of melatonin, gonadotropins and prolactin in women."
          ],
          [
           "appropri, acebo, aris, assumpt, ",
           "Age-related alterations in the circadian rhythms of pulsatile luteinizing hormone and testosterone secretion in healthy men."
          ],
          [
           "1ul1, anti-gonadotrop, antiag, alik, ",
           "Effects of daytime noise load on the sleep-wake cycle and endocrine patterns in man: II. 24 hours secretion of anterior and posterior pituitary hormones and of cortisol."
          ],
          [
           "1ul1, anti-gonadotrop, antiag, alik, ",
           "Effects of a four-day nocturnal melatonin treatment on the 24 h plasma melatonin, cortisol and prolactin profiles in humans."
          ],
          [
           "6-d, analys, 1,25-dihydroxy-vitamin-d, 9-hour, ",
           "Alterations of temperature, sleepiness, mood, and performance in residents are not associated with changes in sulfatoxymelatonin excretion."
          ],
          [
           "1ul1, anti-gonadotrop, antiag, alik, ",
           "Effect of age on circadian rhythm of prolactin in normal men."
          ],
          [
           "1ul1, anti-gonadotrop, antiag, alik, ",
           "Effects of nighttime nap and age on sleep patterns of shift workers."
          ],
          [
           "1ul1, anti-gonadotrop, antiag, alik, ",
           "[Study on circadian rhythm of axillary temperature by continuous recording method--a new approach to shift work study]."
          ],
          [
           "1ul1, anti-gonadotrop, antiag, alik, ",
           "Positive relationship between the nocturnal concentrations of melatonin and prolactin, and a stimulation of prolactin after melatonin administration in young men."
          ],
          [
           "6500k, TP, ann, BT, ",
           "Circadian rhythm of plasma testosterone, cortisol and gonadotropins in normal male subjects."
          ],
          [
           "1ul1, anti-gonadotrop, antiag, alik, ",
           "Diurnal variation of plasma testosterone and cortisol."
          ],
          [
           "ald, balanc, actillum, akt, ",
           "A concept of physiological time: rhythms in behavior and reproductive physiology."
          ],
          [
           "1ul1, anti-gonadotrop, antiag, alik, ",
           "[Relation between sleep and the levels of 3 hormones in the peripheral blood plasma in healthy persons. II. Sleep EEG and the changes in prolactin (hPRL) level]."
          ],
          [
           "1ul1, anti-gonadotrop, antiag, alik, ",
           "Effects of sex and age on the 24-hour profile of growth hormone secretion in man: importance of endogenous estradiol concentrations."
          ],
          [
           "advanc, afflict, 'everyth, NA, ",
           "The circadian pattern of melatonin and its positive relationship with progesterone in women."
          ],
          [
           "advanc, afflict, 'everyth, NA, ",
           "The effects of exogenous melatonin on endocrine function in man."
          ],
          [
           "1ul1, anti-gonadotrop, antiag, alik, ",
           "Basal and LHRH-stimulated gonadotropin levels and the circadian rhythm of testosterone and the effect of exogenous testosterone thereon."
          ],
          [
           "1ul1, anti-gonadotrop, antiag, alik, ",
           "Chronobiology and shift work: current issues and trends."
          ],
          [
           "CV, 9-hour, 26-item, alteration/disturb, ",
           "[Circadian and circannual study of the hypophyseal-gonadal axis in healthy young males]."
          ],
          [
           "1ul1, anti-gonadotrop, antiag, alik, ",
           "Human prolactin: 24-hour pattern with increased release during sleep."
          ],
          [
           "1ul1, anti-gonadotrop, antiag, alik, ",
           "Integrated concentration and circadian variation of plasma testosterone in normal men."
          ],
          [
           "1ul1, anti-gonadotrop, antiag, alik, ",
           "Circadian rhythms and night shift working in nurses."
          ],
          [
           "CV, 9-hour, 26-item, alteration/disturb, ",
           "Plasma melatonin and the hormone-dependency of human breast cancer."
          ],
          [
           "6500k, TP, ann, BT, ",
           "Independence of the circadian rhythm in alertness from the sleep/wake cycle."
          ],
          [
           "CV, 9-hour, 26-item, alteration/disturb, ",
           "Circadian system response to night work in relation to the individual circadian phase position."
          ],
          [
           "arrhythmia, BP, afternoons/even, auditori, ",
           "Circadian rhythms in deep body temperature, urinary excretion and alertness in nurses on night work."
          ],
          [
           "artist, analys, abstract, averag, ",
           "Temporal patterns of integrated plasma hormone levels during sleep and wakefulness. II. Follicle-stimulating hormone, luteinizing hormone, testosterone and estradiol."
          ],
          [
           "1ul1, anti-gonadotrop, antiag, alik, ",
           "Hormonal and metabolic circadian rhythms before and during a low protein diet."
          ],
          [
           "1ul1, anti-gonadotrop, antiag, alik, ",
           "Diurnal variations of plasma testosterone in men."
          ],
          [
           "1ul1, anti-gonadotrop, antiag, alik, ",
           "Diurnal rhythms of serum gonadotropins, testosterone, estradiol and cortisol in blind men."
          ],
          [
           "1ul1, anti-gonadotrop, antiag, alik, ",
           "Circadian rhythms in plasma levels of cortisol, dehydroepiandrosterone, delta 4-androstenedione, testosterone and dihydrotestosterone of healthy young men."
          ],
          [
           "0.023.conclus, 14-15-hz, 6-sulftoxymelatonin, PA, ",
           "[Individual differences in circadian response to a schedule with a 12-hour time shift--a laboratory study of oral temperature, and adrenaline and 17-OHCS excretion]."
          ],
          [
           "appropri, acebo, aris, assumpt, ",
           "The circadian rhythms of serum prolactin in nurses working on a night shift."
          ],
          [
           "FA, Tf, 4-week, HP, ",
           "Circadian and circannual rhythms of hormonal variables in elderly men and women."
          ],
          [
           "arrhythmia, BP, afternoons/even, auditori, ",
           "Hormone rhythms and breast cancer chronoepidemiology: salivary progesterone concentrations in pre- and post-menarchal girls and in normal premenopausal women."
          ],
          [
           "CV, 9-hour, 26-item, alteration/disturb, ",
           "Displacement of the sleep period and sleep deprivation. Implications for shift work."
          ],
          [
           "0.023.conclus, 14-15-hz, 6-sulftoxymelatonin, PA, ",
           "Circadian patterns of plasma cortisol and testosterone in chronic male alcoholics."
          ],
          [
           "6500k, TP, ann, BT, ",
           "Short- and long-term fluctuations in plasma prolactin concentration in normal subjects."
          ],
          [
           "MF, alzheim, autonomi, 6-sulphatoxy-melatonin, ",
           "Cortisol secretion is inhibited during sleep in normal man."
          ],
          [
           "ald, balanc, actillum, akt, ",
           "Desynchronization of the oral temperature circadian rhythm and intolerance to shift work."
          ],
          [
           "6500k, TP, ann, BT, ",
           "[Circadian changes in somatotropic hormone and prolactin during a balanced normocaloric diet and after a high protein diet in 16 normal subjects]."
          ],
          [
           "1ul1, anti-gonadotrop, antiag, alik, ",
           "Circadian rhythms and shiftworking."
          ],
          [
           "and-accord, avow, automot, W, ",
           "Circadian rhythms and shiftworking--2."
          ],
          [
           "5-androstene-3beta, 1x10, 1.7-fold, GG, ",
           "Plasma testosterone and sleep: relationship to sleep stage variables."
          ],
          [
           "advanc, afflict, 'everyth, NA, ",
           "Influence of dopaminergic mechanisms on 24-hour secretory patterns of prolactin, luteinizing hormone and testosterone in recumbent men."
          ],
          [
           "1-tail, alia, 1beta, 1-week, ",
           "[The central mechanisms of sex steroidal modification of sleep circadian rhythm (author's transl)]."
          ],
          [
           "1ul1, anti-gonadotrop, antiag, alik, ",
           "The relationship between circadian variations in circulating thyrotrophin, thyroid hormones and prolactin."
          ],
          [
           "5-androstene-3beta, 1x10, 1.7-fold, GG, ",
           "Circadian pattern of prolactin secretion in postmenopausal women receiving estrogen with or without progestin."
          ],
          [
           "1ul1, anti-gonadotrop, antiag, alik, ",
           "Personality differences in body-temperature rhythm, and their relation to its adjustment to night work."
          ],
          [
           "1-tail, alia, 1beta, 1-week, ",
           "Adjustment of circadian rhythms and EEG sleep functions to day and night sleep among permanent nightworkers and rotating shiftworkers."
          ],
          [
           "1ul1, anti-gonadotrop, antiag, alik, ",
           "Daughters of women with breast cancer have elevated mean 24-hour prolactin (PRL) levels and a partial resistance of PRL to dopamine suppression."
          ],
          [
           "1ul1, anti-gonadotrop, antiag, alik, ",
           "Circadian variation of cortisol and catecholamines following shifted wake-sleep schedules."
          ],
          [
           "appropri, acebo, aris, assumpt, ",
           "Abnormalities in evening plasma prolactin levels in nulliparous women with benign or malignant breast disease."
          ],
          [
           "artist, analys, abstract, averag, ",
           "The sleep and performance of shift workers."
          ],
          [
           "artist, analys, abstract, averag, ",
           "Apparent phase-shifts of circadian rhythms (masking effects) during rapid shift rotation."
          ],
          [
           "6-d, analys, 1,25-dihydroxy-vitamin-d, 9-hour, ",
           "Chronobiological studies of plasma prolactin in women in Kyushu, Japan, and Minnesota, USA."
          ],
          [
           "arrhythmia, BP, afternoons/even, auditori, ",
           "Re-entrainment of body temperature in experimental shift-work studies."
          ],
          [
           "advanc, afflict, 'everyth, NA, ",
           "Effects of \"jet lag\" on hormonal patterns. III. Demonstration of an intrinsic circadian rhythmicity in plasma prolactin."
          ],
          [
           "1-tail, alia, 1beta, 1-week, ",
           "Adaptation to abrupt time shifts of the oscillator(s) controlling human circadian rhythms."
          ],
          [
           "0.023.conclus, 14-15-hz, 6-sulftoxymelatonin, PA, ",
           "Circadian rhythm of serum testosterone and its relation to sleep: comparison with the variation in serum luteinizing hormone, prolactin, and cortisol in normal men."
          ],
          [
           "0.023.conclus, 14-15-hz, 6-sulftoxymelatonin, PA, ",
           "The 24-h pattern of human prolactin and growth hormone in healthy elderly subjects."
          ],
          [
           "0.023.conclus, 14-15-hz, 6-sulftoxymelatonin, PA, ",
           "Temporal (circadian) and functional relationship between prostate-specific antigen and testosterone in healthy men."
          ],
          [
           "1ul1, anti-gonadotrop, antiag, alik, ",
           "No effect of ethinylestradiol treatment on melatonin secretion in healthy pubertal girls."
          ],
          [
           "CV, 9-hour, 26-item, alteration/disturb, ",
           "Melatonin and the development of circadian and seasonal rhythmicity."
          ],
          [
           "1ul1, anti-gonadotrop, antiag, alik, ",
           "Effects of ageing on modulation of hormonal secretions by sleep and circadian rhythmicity."
          ],
          [
           "advanced/leth, 2-3h, CC, acrophs, ",
           "The use of survey measures to assess circadian variations in alertness."
          ],
          [
           "1ul1, anti-gonadotrop, antiag, alik, ",
           "Melatonin marks circadian phase position and resets the endogenous circadian pacemaker in humans."
          ],
          [
           "artist, analys, abstract, averag, ",
           "[Role of biological clock in human pathology]."
          ],
          [
           "MF, alzheim, autonomi, 6-sulphatoxy-melatonin, ",
           "Desynchronization of circadian rhythms in a group of shift working nurses: effects of pattern of shift rotation."
          ],
          [
           "MF, alzheim, autonomi, 6-sulphatoxy-melatonin, ",
           "The circadian system and the therapeutics of the affective disorders."
          ],
          [
           "appropri, acebo, aris, assumpt, ",
           "Parallel nocturnal secretion of melatonin and testosterone in the plasma of normal men."
          ],
          [
           "0.023.conclus, 14-15-hz, 6-sulftoxymelatonin, PA, ",
           "24-hour profiles of salivary progesterone."
          ],
          [
           "1ul1, anti-gonadotrop, antiag, alik, ",
           "Plasma concentration of nine hormones and neurotransmitters during usual activities or constant bed rest for 34 H."
          ],
          [
           "0.023.conclus, 14-15-hz, 6-sulftoxymelatonin, PA, ",
           "Age and adjustment to night work."
          ],
          [
           "CS, all, 25-day, antihistamin, ",
           "Chronobiology in endocrinology."
          ],
          [
           "MF, alzheim, autonomi, 6-sulphatoxy-melatonin, ",
           "Dopamine and prolactin--an imperfect duo in circadian rhythmicity."
          ],
          [
           "CV, 9-hour, 26-item, alteration/disturb, ",
           "Diurnal and seasonal rhythms of melatonin, cortisol and testosterone in interior Alaska."
          ],
          [
           "0.023.conclus, 14-15-hz, 6-sulftoxymelatonin, PA, ",
           "Effects of 24-hour shift work with nighttime napping on circadian rhythm characteristics in ambulance personnel."
          ],
          [
           "CV, 9-hour, 26-item, alteration/disturb, ",
           "[Role of melatonin in human physiology and pathology. I. Circadian rhythm of melatonin secretion. Involvement of melatonin in reproductive physiology. Melatonin and hypothalamic-pituitary-adrenal cortex axis]."
          ],
          [
           "0.023.conclus, 14-15-hz, 6-sulftoxymelatonin, PA, ",
           "Conservation of photoperiod-responsive mechanisms in humans."
          ],
          [
           "'direct, assembl, 20e, assays.result, ",
           "Differences in the nyctohemeral secretion of TSH and PRL in healthy euthyroid men."
          ],
          [
           "0.023.conclus, 14-15-hz, 6-sulftoxymelatonin, PA, ",
           "Changes of rectal temperature and wrist activity during 25-h sliding shift: a preliminary study."
          ],
          [
           "MF, alzheim, autonomi, 6-sulphatoxy-melatonin, ",
           "Do gonadal steroids regulate circadian rhythms in humans?"
          ],
          [
           "0.023.conclus, 14-15-hz, 6-sulftoxymelatonin, PA, ",
           "Circadian variation in serum free and non-SHBG-bound testosterone in normal men: measurements, and simulation using a mass action model."
          ],
          [
           "IR, 0.023.conclus, 35-day, IN, ",
           "Age, circadian rhythms, and sleep loss in flight crews."
          ],
          [
           "1ul1, anti-gonadotrop, antiag, alik, ",
           "Daily rhythmic and non-rhythmic variations of follitropin, lutropin, testosterone, and sex-hormone-binding globulin in men."
          ],
          [
           "MF, alzheim, autonomi, 6-sulphatoxy-melatonin, ",
           "Pattern of prolactin diurnal secretion in normal humans: evidence for nonlinear dynamics."
          ],
          [
           "0.023.conclus, 14-15-hz, 6-sulftoxymelatonin, PA, ",
           "A double-blind trial of melatonin as a treatment for jet lag in international cabin crew."
          ],
          [
           "0.023.conclus, 14-15-hz, 6-sulftoxymelatonin, PA, ",
           "Temporal relationship between prolactin secretion and slow-wave electroencephalic activity during sleep."
          ],
          [
           "6-d, analys, 1,25-dihydroxy-vitamin-d, 9-hour, ",
           "Circadian variation in sports performance."
          ],
          [
           "0.023.conclus, 14-15-hz, 6-sulftoxymelatonin, PA, ",
           "The 24-hour rhythms in plasma growth hormone, prolactin and thyroid stimulating hormone: effect of sleep deprivation."
          ],
          [
           "MF, alzheim, autonomi, 6-sulphatoxy-melatonin, ",
           "Circadian rhythms of prolactin and thyroid-stimulating hormone during the menstrual cycle and early versus late sleep deprivation in premenstrual dysphoric disorder."
          ],
          [
           "5-androstene-3beta, 1x10, 1.7-fold, GG, ",
           "A new basal body temperature 5 h after nocturnal sleep onset."
          ],
          [
           "1-tail, alia, 1beta, 1-week, ",
           "Oral contraceptives alter circadian rhythm parameters of cortisol, melatonin, blood pressure, heart rate, skin blood flow, transepidermal water loss, and skin amino acids of healthy young women."
          ],
          [
           "5-androstene-3beta, 1x10, 1.7-fold, GG, ",
           "The influence of cortisol on spontaneous and 5HT stimulated prolactin release in man."
          ],
          [
           "MF, alzheim, autonomi, 6-sulphatoxy-melatonin, ",
           "[Melatonin: a new wonder drug?]."
          ],
          [
           "1ul1, anti-gonadotrop, antiag, alik, ",
           "The amplitude of endogenous melatonin production is not affected by melatonin treatment in humans."
          ],
          [
           "'direct, assembl, 20e, assays.result, ",
           "Biological rhythms in the human life cycle and their relationship to functional changes in the suprachiasmatic nucleus."
          ],
          [
           "IR, 0.023.conclus, 35-day, IN, ",
           "Conflicting bright light exposure during night shifts impedes circadian adaptation."
          ],
          [
           "IR, 0.023.conclus, 35-day, IN, ",
           "Melatonin, its receptors, and relationships with biological rhythm disorders."
          ],
          [
           "MF, alzheim, autonomi, 6-sulphatoxy-melatonin, ",
           "Plasma melatonin circadian rhythms during the menstrual cycle and after light therapy in premenstrual dysphoric disorder and normal control subjects."
          ],
          [
           "5-androstene-3beta, 1x10, 1.7-fold, GG, ",
           "Melatonin: therapeutic use in sleep disorders."
          ],
          [
           "1ul1, anti-gonadotrop, antiag, alik, ",
           "Complex effects of melatonin on human circadian rhythms in constant dim light."
          ],
          [
           "IR, 0.023.conclus, 35-day, IN, ",
           "Plasma prolactin and its relationship to risk factors in human breast cancer."
          ],
          [
           "1ul1, anti-gonadotrop, antiag, alik, ",
           "Synchronicity of frequently sampled, 24-h concentrations of circulating leptin, luteinizing hormone, and estradiol in healthy women."
          ],
          [
           "0.023.conclus, 14-15-hz, 6-sulftoxymelatonin, PA, ",
           "Rapid shift in peak melatonin secretion associated with improved performance in short shift work schedule."
          ],
          [
           "/mmcp2, OS, admit, 4-vntr, ",
           "[Fluctuations of physical function affected by sleep-awake rhythm--endocrine system]."
          ],
          [
           "2400h, 24-26-hr, 18-oh-deoxycorticosteron, 38-h, ",
           "Melatonin and the pineal gland: influence on mammalian seasonal and circadian physiology."
          ],
          [
           "0.023.conclus, 14-15-hz, 6-sulftoxymelatonin, PA, ",
           "Prolactin pulsatile characteristics in postmenopausal women."
          ],
          [
           "SC, 1-back, Cp, ER, ",
           "Melatonin administration and pituitary hormone secretion."
          ],
          [
           "1ul1, anti-gonadotrop, antiag, alik, ",
           "The physiology and pharmacology of melatonin in humans."
          ],
          [
           "SC, 1-back, Cp, ER, ",
           "Sleep and circadian disturbances in shift work: strategies for their management."
          ],
          [
           "0.023.conclus, 14-15-hz, 6-sulftoxymelatonin, PA, ",
           "Genetic and environmental influences on prolactin secretion during wake and during sleep."
          ],
          [
           "0.023.conclus, 14-15-hz, 6-sulftoxymelatonin, PA, ",
           "Sleep and circadian rhythms in four orbiting astronauts."
          ],
          [
           "1-tail, alia, 1beta, 1-week, ",
           "Does exogenous melatonin improve day sleep or night alertness in emergency physicians working night shifts?"
          ],
          [
           "IR, 0.023.conclus, 35-day, IN, ",
           "Evaluation of self-similar features in time series of serum growth hormone and prolactin levels by fractal analysis: effect of delayed sleep and complexity of diurnal variation."
          ],
          [
           "0.023.conclus, 14-15-hz, 6-sulftoxymelatonin, PA, ",
           "Disorders of the sleep-wake cycle in adults."
          ],
          [
           "0.023.conclus, 14-15-hz, 6-sulftoxymelatonin, PA, ",
           "The use of melatonin as a potential treatment for shiftwork sleep disorder."
          ],
          [
           "'direct, assembl, 20e, assays.result, ",
           "Effects of the endogenous clock and sleep time on melatonin, insulin, glucose and lipid metabolism."
          ],
          [
           "5-androstene-3beta, 1x10, 1.7-fold, GG, ",
           "Neurohypophysial hormone and melatonin secretion over the natural and suppressed menstrual cycle in premenopausal women."
          ],
          [
           "5-androstene-3beta, 1x10, 1.7-fold, GG, ",
           "Diurnal trends in mood and performance do not all parallel alertness."
          ],
          [
           "1ul1, anti-gonadotrop, antiag, alik, ",
           "Working on atypical schedules"
          ],
          [
           "0.023.conclus, 14-15-hz, 6-sulftoxymelatonin, PA, ",
           "Health consequences of shift work and implications for structural design"
          ],
          [
           "'direct, assembl, 20e, assays.result, ",
           "A generalized theory of carcinogenesis due to chronodisruption"
          ],
          [
           "1ul1, anti-gonadotrop, antiag, alik, ",
           "Bedtime misalignment and progression of breast cancer"
          ],
          [
           "1ul1, anti-gonadotrop, antiag, alik, ",
           "Incidence of cancer among commercial airline pilots (multiple letters)"
          ],
          [
           "0.023.conclus, 14-15-hz, 6-sulftoxymelatonin, PA, ",
           "Clocking In: The Organization of Work Time and Health in the United States"
          ],
          [
           "1ul1, anti-gonadotrop, antiag, alik, ",
           "Effects of shift work on health"
          ],
          [
           "0.023.conclus, 14-15-hz, 6-sulftoxymelatonin, PA, ",
           "Sleep duration and endometrial cancer risk"
          ],
          [
           "0.023.conclus, 14-15-hz, 6-sulftoxymelatonin, PA, ",
           "Incidence of breast cancer in Norwegian female radio and telegraph operators"
          ],
          [
           "MF, alzheim, autonomi, 6-sulphatoxy-melatonin, ",
           "Analysis of polymorphisms in the circadian-related genes and breast cancer risk in Norwegian nurses working night shifts"
          ],
          [
           "0.023.conclus, 14-15-hz, 6-sulftoxymelatonin, PA, ",
           "Adaptation of the 6-sulphatoxymelatonin rhythm in shiftworkers on offshore oil installations during a 2-week 12-h night shift."
          ],
          [
           "0.023.conclus, 14-15-hz, 6-sulftoxymelatonin, PA, ",
           "Concentrations of cortisol, testosterone and glycosylated haemoglobin (HbA1c) among construction workers with 12-h workdays and extended workweeks."
          ],
          [
           "0.023.conclus, 14-15-hz, 6-sulftoxymelatonin, PA, ",
           "Adaptation rate of 6-sulfatoxymelatonin and cognitive performance in offshore fleet shift workers: a field study."
          ],
          [
           "6-d, analys, 1,25-dihydroxy-vitamin-d, 9-hour, ",
           "Association of shiftwork and leukocytes among national health and nutrition examination survey respondents"
          ],
          [
           "and-accord, avow, automot, W, ",
           "Work and Female Breast Cancer: The State of the Evidence, 2002-2017"
          ],
          [
           "6-hydroxymelatoninsulph, 12l:12d, He, 12-year-old, ",
           "The relation of shift work tolerance to the circadian adjustment."
          ],
          [
           "IR, 0.023.conclus, 35-day, IN, ",
           "Payroll data based description of working hours in the Danish regions"
          ],
          [
           "IR, 0.023.conclus, 35-day, IN, ",
           "From Principles to Practice: Real-World Patient and Stakeholder Engagement in Breast Cancer Research"
          ],
          [
           "IR, 0.023.conclus, 35-day, IN, ",
           "Modeling and analysis of the impacts of jet lag on circadian rhythm and its role in tumor growth"
          ],
          [
           "advanc, afflict, 'everyth, NA, ",
           "Reply to 'Comment on 'Domestic light at night and breast cancer risk: a prospective analysis of 105 000 UK women in the Generations Study\""
          ],
          [
           "advanc, afflict, 'everyth, NA, ",
           "Relevance of a mobile internet platform for capturing inter- and intrasubject variabilities in circadian coordination during daily routine: Pilot study"
          ],
          [
           "'direct, assembl, 20e, assays.result, ",
           "Melatonin and breast cancer: Evidences from preclinical and human studies"
          ],
          [
           "0.023.conclus, 14-15-hz, 6-sulftoxymelatonin, PA, ",
           "Effects of night shift working on some immunological, prostate specific antigen, cortisol level and malondialdehyde in male nurses at Hawler city"
          ],
          [
           "0.023.conclus, 14-15-hz, 6-sulftoxymelatonin, PA, ",
           "Comment on 'Domestic light at night and breast cancer risk: a prospective analysis of 105 000 UK women in the Generations Study'"
          ],
          [
           "MF, alzheim, autonomi, 6-sulphatoxy-melatonin, ",
           "Sleep and circadian disruption and incident breast cancer risk: An evidence-based and theoretical review"
          ],
          [
           "0.023.conclus, 14-15-hz, 6-sulftoxymelatonin, PA, ",
           "Gynaecological cancer and night shift work: A systematic review"
          ],
          [
           "IR, 0.023.conclus, 35-day, IN, ",
           "Night-shift work and hematological cancers: a population based case-control study in three Nordic countries"
          ],
          [
           "IR, 0.023.conclus, 35-day, IN, ",
           "Association between shiftwork and the risk of colorectal cancer in females: a population-based case-control study"
          ],
          [
           "5-androstene-3beta, 1x10, 1.7-fold, GG, ",
           "Night Shift Work Increases the Risks of Multiple Primary Cancers in Women: A Systematic Review and Meta-analysis of 61 Articles"
          ],
          [
           "1ul1, anti-gonadotrop, antiag, alik, ",
           "Night work and prostate cancer in men: a Swedish prospective cohort study"
          ],
          [
           "0.023.conclus, 14-15-hz, 6-sulftoxymelatonin, PA, ",
           "Mortality from cancer and other causes in commercial airline crews: a joint analysis of cohorts from 10 countries"
          ],
          [
           "IR, 0.023.conclus, 35-day, IN, ",
           "Case-control study of occupational categories and breast cancer risk in Thailand"
          ],
          [
           "CV, 9-hour, 26-item, alteration/disturb, ",
           "Domestic light at night and breast cancer risk: a prospective analysis of 105 000 UK women in the Generations Study"
          ],
          [
           "'direct, assembl, 20e, assays.result, ",
           "Light and the City: Breast Cancer Risk Factors Differ Between Urban and Rural Women in Israel"
          ],
          [
           "1ul1, anti-gonadotrop, antiag, alik, ",
           "Cause-specific mortality among a cohort of U.S. flight attendants"
          ],
          [
           "1ul1, anti-gonadotrop, antiag, alik, ",
           "Risk of breast cancer in female flight attendants: a population-based study (Iceland)"
          ],
          [
           "0.023.conclus, 14-15-hz, 6-sulftoxymelatonin, PA, ",
           "Population-level study links short-wavelength nighttime illumination with breast cancer incidence in a major metropolitan area"
          ],
          [
           "'direct, assembl, 20e, assays.result, ",
           "Ambulatory blood pressure and Holter monitoring of emergency physicians before, during, and after a night shift"
          ],
          [
           "1ul1, anti-gonadotrop, antiag, alik, ",
           "Oxidative DNA damage during night shift work"
          ],
          [
           "1ul1, anti-gonadotrop, antiag, alik, ",
           "Meta-analysis of vitamin D, calcium and the prevention of breast cancer"
          ],
          [
           "0.023.conclus, 14-15-hz, 6-sulftoxymelatonin, PA, ",
           "Effect of psychosocial stress and physical activity on preterm birth: a cohort study"
          ],
          [
           "6-hydroxymelatoninsulph, 12l:12d, He, 12-year-old, ",
           "Bedtime and evening light exposure influence circadian timing in preschool-age children: A field study"
          ],
          [
           "0.023.conclus, 14-15-hz, 6-sulftoxymelatonin, PA, ",
           "Artificial light at night and cancer: Global study"
          ],
          [
           "1ul1, anti-gonadotrop, antiag, alik, ",
           "Longitude Position in a Timezone and Cancer Risk in the United States"
          ],
          [
           "0.023.conclus, 14-15-hz, 6-sulftoxymelatonin, PA, ",
           "Effect of sleep deprivation on rhythms of clock gene expression and melatonin in humans"
          ],
          [
           "'direct, assembl, 20e, assays.result, ",
           "Disrupting the key circadian regulator CLOCK leads to age-dependent cardiovascular disease"
          ],
          [
           "2400h, 24-26-hr, 18-oh-deoxycorticosteron, 38-h, ",
           "The Oxford Vegetarian Study: an overview"
          ],
          [
           "1ul1, anti-gonadotrop, antiag, alik, ",
           "Cancer incidence and mortality among flight personnel: a meta-analysis"
          ],
          [
           "1ul1, anti-gonadotrop, antiag, alik, ",
           "Stage-dependent depression of melatonin in patients with primary breast cancer. Correlation with prolactin, thyroid stimulating hormone, and steroid receptors"
          ],
          [
           "/mmcp2, OS, admit, 4-vntr, ",
           "High breast cancer incidence rates among California teachers: results from the California Teachers Study (United States)"
          ],
          [
           "0.023.conclus, 14-15-hz, 6-sulftoxymelatonin, PA, ",
           "Bright light treatment used for adaptation to night work and re-adaptation back to day life. A field study at an oil platform in the North Sea"
          ],
          [
           "0.023.conclus, 14-15-hz, 6-sulftoxymelatonin, PA, ",
           "Intermittent exposure to bright light in field conditions"
          ],
          [
           "5-androstene-3beta, 1x10, 1.7-fold, GG, ",
           "Mediterranean diet, dietary polyphenols and low grade inflammation: results from the MOLI-SANI study"
          ],
          [
           "'direct, assembl, 20e, assays.result, ",
           "Pharmacotherapy of transient insomnia related to night work"
          ],
          [
           "1ul1, anti-gonadotrop, antiag, alik, ",
           "Home Circadian Phase Assessments with Measures of Compliance Yield Accurate Dim Light Melatonin Onsets"
          ],
          [
           "1ul1, anti-gonadotrop, antiag, alik, ",
           "Improving adaptation to simulated night shift: timed exposure to bright light versus daytime melatonin administration."
          ],
          [
           "1ul1, anti-gonadotrop, antiag, alik, ",
           "Amplitude reduction and phase shifts of melatonin, cortisol and other circadian rhythms after a gradual advance of sleep and light exposure in humans."
          ],
          [
           "0.023.conclus, 14-15-hz, 6-sulftoxymelatonin, PA, ",
           "Hormonal Secretion of Nurses Engaged in Fast-rotating Shift Systems."
          ],
          [
           "1ul1, anti-gonadotrop, antiag, alik, ",
           "The effect on body temperature and melatonin of a 39-h constant routine with two different light levels at nighttime."
          ],
          [
           "MF, alzheim, autonomi, 6-sulphatoxy-melatonin, ",
           "Light at Night and Measures of Alertness and Performance: Implications for Shift Workers."
          ],
          [
           "1ul1, anti-gonadotrop, antiag, alik, ",
           "Dark goggles and bright light improve circadian rhythm adaptation to night-shift work."
          ],
          [
           "MI, 4-night, a., 1,25-dihydroxy-vitamin-d, ",
           "Bright light, dark and melatonin can promote circadian adaptation in night shift workers."
          ],
          [
           "0.023.conclus, 14-15-hz, 6-sulftoxymelatonin, PA, ",
           "Melatonin treatment of pediatric residents for adaptation to night shift work."
          ],
          [
           "0.023.conclus, 14-15-hz, 6-sulftoxymelatonin, PA, ",
           "Melatonin: a major regulator of the circadian rhythm of core temperature in humans."
          ],
          [
           "0.023.conclus, 14-15-hz, 6-sulftoxymelatonin, PA, ",
           "Rotating night shifts too quickly may cause anxiety and decreased attentional performance, and impact prolactin levels during the subsequent day: a case control study."
          ],
          [
           "1ul1, anti-gonadotrop, antiag, alik, ",
           "Factors related with the ability to maintain wakefulness in the daytime after fast and forward rotating shifts."
          ],
          [
           "1ul1, anti-gonadotrop, antiag, alik, ",
           "Shiftwork and Diurnal Salivary Cortisol Patterns Among Police Officers."
          ],
          [
           "0.023.conclus, 14-15-hz, 6-sulftoxymelatonin, PA, ",
           "Influence of shift-work on selected immune variables in nurses."
          ],
          [
           "2400h, 24-26-hr, 18-oh-deoxycorticosteron, 38-h, ",
           "Effect of bright light at night on core temperature, subjective alertness and performance as a function of exposure time."
          ],
          [
           "1ul1, anti-gonadotrop, antiag, alik, ",
           "Temporal patterns in psychophysiological activation in rotating shift workers--A follow-up field study one year after an increase in nighttime work."
          ],
          [
           "0.023.conclus, 14-15-hz, 6-sulftoxymelatonin, PA, ",
           "Associations of long-term shift work with waking salivary cortisol concentration and patterns among police officers."
          ],
          [
           "advanc, afflict, 'everyth, NA, ",
           "[Studies on fatigue and shift work in nurses]."
          ],
          [
           "MF, alzheim, autonomi, 6-sulphatoxy-melatonin, ",
           "The normalization of the cortisol awakening response and of the cortisol shift profile across consecutive night shifts--an experimental study."
          ],
          [
           "IR, 0.023.conclus, 35-day, IN, ",
           "Light intensity exposure, sleep duration, physical activity, and biomarkers of melatonin among rotating shift nurses."
          ],
          [
           "CS, all, 25-day, antihistamin, ",
           "Association between exposure to rotating night shift versus day shift using levels of 6-sulfatoxymelatonin and cortisol and other sex hormones in women."
          ],
          [
           "0.023.conclus, 14-15-hz, 6-sulftoxymelatonin, PA, ",
           "Daily rhythm of salivary IL-1ß, cortisol and melatonin in day and night workers."
          ],
          [
           "0.023.conclus, 14-15-hz, 6-sulftoxymelatonin, PA, ",
           "Altered postprandial hormone and metabolic responses in a simulated shift work environment."
          ],
          [
           "1ul1, anti-gonadotrop, antiag, alik, ",
           "Night-shift work in Antarctica: sleep characteristics and bright light treatment."
          ],
          [
           "1ul1, anti-gonadotrop, antiag, alik, ",
           "Medium-intensity light produces circadian rhythm adaptation to simulated night-shift work."
          ],
          [
           "1ul1, anti-gonadotrop, antiag, alik, ",
           "Physiological restitution after night-call duty in anaesthesiologists: impact on metabolic factors."
          ],
          [
           "0.023.conclus, 14-15-hz, 6-sulftoxymelatonin, PA, ",
           "[Dysadaptation to night-shift work and the human thermal circadian biorhythm]."
          ],
          [
           "SC, 1-back, Cp, ER, ",
           "Night work, long working hours, psychosocial work stress and cortisol secretion in mid-life: evidence from a British birth cohort."
          ],
          [
           "0.023.conclus, 14-15-hz, 6-sulftoxymelatonin, PA, ",
           "Variations in 6-sulphatoxymelatonin excretion and oral temperature under a 12-hour shiftwork environment."
          ],
          [
           "0.023.conclus, 14-15-hz, 6-sulftoxymelatonin, PA, ",
           "Effects of night work on urinary excretion rates of 6-sulfatoxymelatonin, norepinephrine and estriol in pregnant women."
          ],
          [
           "0.023.conclus, 14-15-hz, 6-sulftoxymelatonin, PA, ",
           "Salivary cortisol levels and work-related stress among emergency department nurses."
          ],
          [
           "1ul1, anti-gonadotrop, antiag, alik, ",
           "Melatonin does not inhibit hypothalamic-pituitary-adrenal activity in waking young men"
          ],
          [
           "/mmcp2, OS, admit, 4-vntr, ",
           "Altered sleep/wake patterns and circadian rhythms. Laboratory and field studies of sympathoadrenomedullary and related variables."
          ],
          [
           "1ul1, anti-gonadotrop, antiag, alik, ",
           "Mammary cancer risk: circulating TSH and prolactin, fibrocystic breast disease in chronoepidemiologic perspective."
          ],
          [
           "0.023.conclus, 14-15-hz, 6-sulftoxymelatonin, PA, ",
           "Inhibition of melatonin secretion onset by low levels of illumination."
          ],
          [
           "artist, analys, abstract, averag, ",
           "Phase-shifts of apparent circadian rhythms due to west and east transmeridian flights or to corresponding night-shift sleep displacements."
          ],
          [
           "0.023.conclus, 14-15-hz, 6-sulftoxymelatonin, PA, ",
           "Effects of 10 h time zone changes on female flight attendants' circadian rhythms of body temperature, alertness, and visual search."
          ],
          [
           "0.023.conclus, 14-15-hz, 6-sulftoxymelatonin, PA, ",
           "Health-related interventions among night shift workers: a critical review of the literature"
          ],
          [
           "-I, approach, +/-sem, abstarct, ",
           "[Melatonin--a natural hypnotic?]."
          ],
          [
           "6-d, analys, 1,25-dihydroxy-vitamin-d, 9-hour, ",
           "Effect of daytime oral melatonin administration on neurobehavioral performance in humans."
          ],
          [
           "1ul1, anti-gonadotrop, antiag, alik, ",
           "Melatonin: pharmacological aspects and clinical trends."
          ],
          [
           "'direct, assembl, 20e, assays.result, ",
           "Melatonin phase shifts human circadian rhythms in a placebo-controlled simulated night-work study."
          ],
          [
           "artist, analys, abstract, averag, ",
           "Use of melatonin in circadian rhythm disorders and following phase shifts."
          ],
          [
           "0.023.conclus, 14-15-hz, 6-sulftoxymelatonin, PA, ",
           "Morning melatonin has limited benefit as a soporific for daytime sleep after night work."
          ],
          [
           "5-androstene-3beta, 1x10, 1.7-fold, GG, ",
           "[Melatonin--clinical perspectives in prevention and therapy]."
          ],
          [
           "1ul1, anti-gonadotrop, antiag, alik, ",
           "Progressive decrease of melatonin production over consecutive days of simulated night work"
          ],
          [
           "SC, 1-back, Cp, ER, ",
           "Heparanase procoagulant activity, factor Xa, and plasminogen activator inhibitor 1 are increased in shift work female nurses"
          ],
          [
           "5-androstene-3beta, 1x10, 1.7-fold, GG, ",
           "Rotating night shift work and polymorphism of genes important for the regulation of circadian rhythm"
          ],
          [
           "0.023.conclus, 14-15-hz, 6-sulftoxymelatonin, PA, ",
           "Rotating night shift work and mammographic density"
          ],
          [
           "IR, 0.023.conclus, 35-day, IN, ",
           "PER1 polymorphism associated with shift work disorder"
          ],
          [
           "0.023.conclus, 14-15-hz, 6-sulftoxymelatonin, PA, ",
           "Shift rotation and age - interactions with sleep-wakefulness and inflammation."
          ],
          [
           "1ul1, anti-gonadotrop, antiag, alik, ",
           "Urinary Melatonin Levels and Postmenopausal Breast Cancer Risk in the Nurses' Health Study Cohort"
          ],
          [
           "6500k, TP, ann, BT, ",
           "Randomized placebo-controlled field study of the effects of bright light and melatonin in adaptation to night work."
          ],
          [
           "1ul1, anti-gonadotrop, antiag, alik, ",
           "Prospective Study on Salivary Evening Melatonin and Sleep before and after Pinealectomy in Humans"
          ],
          [
           "2400h, 24-26-hr, 18-oh-deoxycorticosteron, 38-h, ",
           "Low estradiol levels in women of reproductive age having low sleep variation."
          ],
          [
           "CS, all, 25-day, antihistamin, ",
           "Circadian variation of serum prolactin and TSH of women in health or with mammary carcinoma, fibroadenoma or fibrocystic mastopathy."
          ],
          [
           "1ul1, anti-gonadotrop, antiag, alik, ",
           "A regulatory role of prolactin, growth hormone, and corticosteroids for human T-cell production of cytokines"
          ],
          [
           "amateur, afford, 45-day, am-7:00, ",
           "A study of melatonin levels and stress in female shift workers."
          ],
          [
           "artist, analys, abstract, averag, ",
           "Circadian cortisol profiles and psychological self-reports in shift workers with and without recent change in the shift rotation system."
          ],
          [
           "0.023.conclus, 14-15-hz, 6-sulftoxymelatonin, PA, ",
           "Phototherapy and orange-tinted goggles for night-shift adaptation of police officers on patrol."
          ],
          [
           "0.023.conclus, 14-15-hz, 6-sulftoxymelatonin, PA, ",
           "Combinations of bright light, scheduled dark, sunglasses, and melatonin to facilitate circadian entrainment to night shift work."
          ],
          [
           "6-d, analys, 1,25-dihydroxy-vitamin-d, 9-hour, ",
           "Circadian rhythms in a long-term duration space flight."
          ],
          [
           "MF, alzheim, autonomi, 6-sulphatoxy-melatonin, ",
           "Dietary correlates of urinary 6-sulfatoxymelatonin concentrations in the Nurses' Health Study cohorts"
          ],
          [
           "1ul1, anti-gonadotrop, antiag, alik, ",
           "Industrialization, electromagnetic fields, and breast cancer risk"
          ],
          [
           "1ul1, anti-gonadotrop, antiag, alik, ",
           "Circulating melatonin and the risk of breast and endometrial cancer in women"
          ],
          [
           "MF, alzheim, autonomi, 6-sulphatoxy-melatonin, ",
           "Sleep duration, melatonin and breast cancer among Chinese women in Singapore"
          ],
          [
           "CS, all, 25-day, antihistamin, ",
           "Leptin levels show diurnal variation throughout puberty in healthy children, and follow a gender-specific pattern."
          ],
          [
           "1ul1, anti-gonadotrop, antiag, alik, ",
           "Stress monitoring of ambulance personnel during work and leisure time."
          ],
          [
           "5-androstene-3beta, 1x10, 1.7-fold, GG, ",
           "Diurnal salivary cortisol patterns during pregnancy and after delivery: relationship to plasma corticotrophin-releasing-hormone."
          ],
          [
           "1ul1, anti-gonadotrop, antiag, alik, ",
           "Relation of C-reactive protein and tumor necrosis factor-alpha to ambulatory blood pressure variability in healthy adults."
          ],
          [
           "MF, alzheim, autonomi, 6-sulphatoxy-melatonin, ",
           "Circadian typology: a comprehensive review."
          ],
          [
           "5-androstene-3beta, 1x10, 1.7-fold, GG, ",
           "Cortisol, estradiol-17β, and progesterone secretion within the first hour after awakening in women with regular menstrual cycles."
          ],
          [
           "0.023.conclus, 14-15-hz, 6-sulftoxymelatonin, PA, ",
           "Biological day-to-day variation and daytime changes of testosterone, follitropin, lutropin and oestradiol-17beta in healthy men."
          ],
          [
           "MF, alzheim, autonomi, 6-sulphatoxy-melatonin, ",
           "Inversion of the sleep wakefulness pattern: effects on circadian variations in psychophysiological activation."
          ],
          [
           "'direct, assembl, 20e, assays.result, ",
           "Salivary cortisol and DHEA levels in the Korean population: age-related differences, diurnal rhythm, and correlations with serum levels."
          ],
          [
           "antineoplast, arthriti, SF, alatt, ",
           "[The effects of bromocriptine on the pulsatile pattern and the circadian profile of gonadotropins and testosterone secretion in normal adult men]."
          ],
          [
           "6500k, TP, ann, BT, ",
           "Temporal patterns of circulating hormones as assessed by continuous blood sampling."
          ],
          [
           "1ul1, anti-gonadotrop, antiag, alik, ",
           "Environmental control of biological rhythms: effects on development, fertility and metabolism."
          ],
          [
           "1ul1, anti-gonadotrop, antiag, alik, ",
           "Twenty-four-hour profiles of luteinizing hormone, follicle-stimulating hormone, testosterone, and estradiol levels: a semilongitudinal study throughout puberty in healthy boys."
          ],
          [
           "b=2.3, .method, androgen, america, ",
           "The association of testosterone, sleep, and sexual function in men and women."
          ],
          [
           "0.023.conclus, 14-15-hz, 6-sulftoxymelatonin, PA, ",
           "Diurnal rhythm of testosterone secretion before and throughout puberty in healthy girls: correlation with 17beta-estradiol and dehydroepiandrosterone sulfate."
          ],
          [
           "0.023.conclus, 14-15-hz, 6-sulftoxymelatonin, PA, ",
           "Circadian patterns of ad libitum smoking by menstrual phase."
          ],
          [
           "0.023.conclus, 14-15-hz, 6-sulftoxymelatonin, PA, ",
           "A comparison of rotating-shift and permanent night nurses."
          ],
          [
           "2400h, 24-26-hr, 18-oh-deoxycorticosteron, 38-h, ",
           "Effects of on-call work on well-being: results of a daily survey."
          ],
          [
           "advanc, afflict, 'everyth, NA, ",
           "Diurnal variation in salivary cortisol across age classes in Ache Amerindian males of Paraguay."
          ],
          [
           "MF, alzheim, autonomi, 6-sulphatoxy-melatonin, ",
           "Nocturnal application of transdermal estradiol patches produces levels of estradiol that mimic those seen at the onset of spontaneous puberty in girls."
          ],
          [
           "0.023.conclus, 14-15-hz, 6-sulftoxymelatonin, PA, ",
           "Acute and delayed responses of C-reactive protein, malondialdehyde and antioxidant markers after resistance training session in elite weightlifters: Effect of time of day."
          ],
          [
           "1ul1, anti-gonadotrop, antiag, alik, ",
           "Effect of moderate weight loss on prolactin secretion in normal female volunteers."
          ],
          [
           "1ul1, anti-gonadotrop, antiag, alik, ",
           "Circadian patterns of plasma cortisol and testosterone in chronic male alcoholics."
          ],
          [
           "1ul1, anti-gonadotrop, antiag, alik, ",
           "Melatonin: characteristics, concerns, and prospects."
          ],
          [
           "1ul1, anti-gonadotrop, antiag, alik, ",
           "Treatment of circadian rhythm disorders--melatonin."
          ],
          [
           "1ul1, anti-gonadotrop, antiag, alik, ",
           "Melatonin as a chronobiotic."
          ],
          [
           "appropri, acebo, aris, assumpt, ",
           "Melatonin and adjustment to phase shift."
          ],
          [
           "1ul1, anti-gonadotrop, antiag, alik, ",
           "Relationships between sleep, physical activity and human health."
          ],
          [
           "advanced/leth, 2-3h, CC, acrophs, ",
           "Single-dose bright light and/or caffeine effect on nocturnal performance."
          ],
          [
           "1ul1, anti-gonadotrop, antiag, alik, ",
           "Sex differences in circadian timing systems: implications for disease."
          ],
          [
           "1ul1, anti-gonadotrop, antiag, alik, ",
           "Circadian rhythms, sleep, and the menstrual cycle."
          ],
          [
           "1ul1, anti-gonadotrop, antiag, alik, ",
           "Diurnal rhythms of free estradiol and cortisol during the normal menstrual cycle in women with major depression."
          ],
          [
           "1ul1, anti-gonadotrop, antiag, alik, ",
           "The relevance of melatonin to sports medicine and science."
          ],
          [
           "1ul1, anti-gonadotrop, antiag, alik, ",
           "Exercise as a synchroniser of human circadian rhythms: an update and discussion of the methodological problems."
          ],
          [
           "1ul1, anti-gonadotrop, antiag, alik, ",
           "Analysis of salivary cortisol levels to determine the association between depression level and differences in circadian rhythms of shift-working nurses."
          ],
          [
           "1ul1, anti-gonadotrop, antiag, alik, ",
           "Diurnal rhythm of free estradiol during the menstrual cycle."
          ],
          [
           "1ul1, anti-gonadotrop, antiag, alik, ",
           "Daily exercise facilitates phase delays of circadian melatonin rhythm in very dim light."
          ],
          [
           "0.023.conclus, 14-15-hz, 6-sulftoxymelatonin, PA, ",
           "Diurnal prolactin changes in human cerebrospinal fluid."
          ],
          [
           "appropri, acebo, aris, assumpt, ",
           "Nyctohemeral pattern of serum LH, FSH and PRL in patients with myotonic dystrophy."
          ],
          [
           "appropri, acebo, aris, assumpt, ",
           "A clinical approach to circadian rhythm sleep disorders."
          ],
          [
           "and-accord, avow, automot, W, ",
           "Nocturnal serum thyrotropin (TSH) surge and the TSH response to TSH-releasing hormone: dissociated behavior in untreated depressives."
          ],
          [
           "appropri, acebo, aris, assumpt, ",
           "Influence of partial sleep deprivation on the secretion of thyrotropin, thyroid hormones, growth hormone, prolactin, luteinizing hormone, follicle stimulating hormone, and estradiol in healthy young women."
          ],
          [
           "/mmcp2, OS, admit, 4-vntr, ",
           "Association between melatonin secretion and daytime sleep complaints in night nurses."
          ],
          [
           "0.023.conclus, 14-15-hz, 6-sulftoxymelatonin, PA, ",
           "Neuroendocrinological investigations during sleep deprivation in depression. II. Longitudinal measurement of thyrotropin, TH, cortisol, prolactin, GH, and LH during sleep and sleep deprivation."
          ],
          [
           "ald, balanc, actillum, akt, ",
           "Ultradian rhythmicity and induced changes in salivary testosterone."
          ],
          [
           "anelkul, ala/thr, 4-wk, /h, ",
           "Diurnal variations of plasma luteinizing hormone, follicle-stimulating hormone, and prolactin in boys and girls from birth to puberty."
          ],
          [
           "MF, alzheim, autonomi, 6-sulphatoxy-melatonin, ",
           "Endocrine secretions under abnormal light-dark cycles and in the blind."
          ],
          [
           "arrhythmia, BP, afternoons/even, auditori, ",
           "Circadian pattern of plasma melatonin concentrations during four phases of the human menstrual cycle."
          ],
          [
           "FA, Tf, 4-week, HP, ",
           "Diurnal variations in unconjugated plasma and total urinary estriol levels in late normal pregnancy."
          ],
          [
           "appropri, acebo, aris, assumpt, ",
           "Diurnal secretion of ghrelin, growth hormone, insulin binding proteins, and prolactin in normal weight and overweight subjects with and without the night eating syndrome."
          ],
          [
           "and-accord, avow, automot, W, ",
           "Timing in the Testis."
          ],
          [
           "-I, approach, +/-sem, abstarct, ",
           "[Phototherapy of jet lag, night work and sleep disorders]."
          ],
          [
           "0.023.conclus, 14-15-hz, 6-sulftoxymelatonin, PA, ",
           "A practical approach to circadian rhythm sleep disorders."
          ],
          [
           "MF, alzheim, autonomi, 6-sulphatoxy-melatonin, ",
           "Diurnal and circadian variation of sleep and alertness in men vs. naturally cycling women."
          ],
          [
           "CV, 9-hour, 26-item, alteration/disturb, ",
           "Daily variations of plasma sex hormone-binding globulin binding capacity, testosterone and luteinizing hormone concentrations in healthy rested adult males."
          ],
          [
           "CS, all, 25-day, antihistamin, ",
           "Melatonin as a chronobiotic/anticancer agent: cellular, biochemical, and molecular mechanisms of action and their implications for circadian-based cancer therapy."
          ],
          [
           "MF, alzheim, autonomi, 6-sulphatoxy-melatonin, ",
           "Twenty-four-hour light exposure and melatonin levels among shift workers."
          ],
          [
           "1ul1, anti-gonadotrop, antiag, alik, ",
           "Circadian adaptation to night shift work influences sleep, performance, mood and the autonomic modulation of the heart."
          ],
          [
           "0.023.conclus, 14-15-hz, 6-sulftoxymelatonin, PA, ",
           "The effect of diurnal variation on clinical measurement of serum testosterone and other sex hormone levels in men."
          ],
          [
           "MF, alzheim, autonomi, 6-sulphatoxy-melatonin, ",
           "The 24-h growth hormone rhythm in men: sleep and circadian influences questioned."
          ],
          [
           "1ul1, anti-gonadotrop, antiag, alik, ",
           "Secretion pattern of immunoreactive inhibin in men."
          ],
          [
           "-I, approach, +/-sem, abstarct, ",
           "Loss of circadian rhythmicity in blood testosterone levels with aging in normal men."
          ],
          [
           "MF, alzheim, autonomi, 6-sulphatoxy-melatonin, ",
           "Prospects of the clinical utilization of melatonin."
          ],
          [
           "CV, 9-hour, 26-item, alteration/disturb, ",
           "[Sleeping sickness: major disorders of circadian rhythm]."
          ],
          [
           "CV, 9-hour, 26-item, alteration/disturb, ",
           "The effect of hyperprolactinemia on the diurnal variation of adrenal androgens."
          ],
          [
           "MF, alzheim, autonomi, 6-sulphatoxy-melatonin, ",
           "Circadian variation in concentration of anti-Müllerian hormone in regularly menstruating females: relation to age, gonadotrophin and sex steroid levels."
          ],
          [
           "MF, alzheim, autonomi, 6-sulphatoxy-melatonin, ",
           "Clock gene dysfunction in patients with obstructive sleep apnoea syndrome."
          ],
          [
           "MF, alzheim, autonomi, 6-sulphatoxy-melatonin, ",
           "Efficacy and safety of exogenous melatonin for secondary sleep disorders and sleep disorders accompanying sleep restriction: meta-analysis."
          ],
          [
           "MF, alzheim, autonomi, 6-sulphatoxy-melatonin, ",
           "[Melatonin: from hormone to drug?]."
          ],
          [
           "b=2.3, .method, androgen, america, ",
           "Regulation of the 24-hour rhythm of body temperature in menstrual cycles with spontaneous and gonadotropin-induced ovulation."
          ],
          [
           "beadchip, =filter, 9-h, 9-hour, ",
           "Regulation of the 24h body temperature rhythm of women in luteal phase: role of gonadal steroids and prostaglandins."
          ],
          [
           "MF, alzheim, autonomi, 6-sulphatoxy-melatonin, ",
           "Modification of circadian body temperature rhythm during the luteal menstrual phase: role of melatonin."
          ],
          [
           "K, 21:30h, alon, 36th, ",
           "The effect of bright light on plasma prolactin."
          ],
          [
           "MF, alzheim, autonomi, 6-sulphatoxy-melatonin, ",
           "Acute modifications in the levels of daytime melatonin do not influence leptin in postmenopausal women."
          ],
          [
           "MF, alzheim, autonomi, 6-sulphatoxy-melatonin, ",
           "Melatonin enhances cortisol levels in aged but not young women."
          ],
          [
           "appropri, acebo, aris, assumpt, ",
           "What keeps us awake? The role of clocks and hourglasses, light, and melatonin."
          ],
          [
           "appropri, acebo, aris, assumpt, ",
           "[Evaluation of pituitary functional periodicity by harmonic analysis. II) Circadian prolactin secretion in acromegaly]."
          ],
          [
           "'phase, acetyltransferas, angel, abpm, ",
           "Circadian rhythms of testosterone and cortisol in saliva: effects of activity-phase shifts and continuous daylight."
          ],
          [
           "2400h, 24-26-hr, 18-oh-deoxycorticosteron, 38-h, ",
           "Light treatment for sleep disorders: consensus report. III. Alerting and activating effects."
          ],
          [
           "appropri, acebo, aris, assumpt, ",
           "Circatrigintan rectal temperature and endocrine rhythms of clinically healthy, menstrually cycling women."
          ],
          [
           "'phase, acetyltransferas, angel, abpm, ",
           "Rhythms in the ovulatory cycle. 3rd: Cortisol and dehydroepiandrosterone sulphate (DHEA-S)."
          ],
          [
           "MF, alzheim, autonomi, 6-sulphatoxy-melatonin, ",
           "Rhythms in the ovulatory cycle. 2nd: LH, FSH, estradiol and progesterone."
          ],
          [
           "MF, alzheim, autonomi, 6-sulphatoxy-melatonin, ",
           "The use of chronobiotics in the resynchronization of the sleep/wake cycle. Therapeutical application in the early phases of Alzheimer's disease."
          ],
          [
           "MF, alzheim, autonomi, 6-sulphatoxy-melatonin, ",
           "Differential 24-hour variation of alertness and subjective tension in process controllers: investigation of the relationship with body temperature and heart rate."
          ],
          [
           "1ul1, anti-gonadotrop, antiag, alik, ",
           "Diurnal rhythm in serum levels of inhibin B in normal men: relation to testicular steroids and gonadotropins."
          ],
          [
           "MF, alzheim, autonomi, 6-sulphatoxy-melatonin, ",
           "A potential role of endogenous progesterone in modulation of GH, prolactin and thyrotrophin secretion during normal menstrual cycle."
          ],
          [
           "b=2.3, .method, androgen, america, ",
           "Age and the metabolic syndrome affect salivary cortisol rhythm: data from a community sample."
          ],
          [
           "and-accord, avow, automot, W, ",
           "Keeping circadian time with hormones."
          ],
          [
           "b=2.3, .method, androgen, america, ",
           "Effects of partial circadian adjustments on sleep and vigilance quality during simulated night work."
          ],
          [
           "MF, alzheim, autonomi, 6-sulphatoxy-melatonin, ",
           "Nurses working on fast rotating shifts overestimate cognitive function and the capacity of maintaining wakefulness during the daytime after a rotating shift."
          ],
          [
           "appropri, acebo, aris, assumpt, ",
           "A chronobiological study of melatonin, cortisol growth hormone and prolactin secretion in cluster headache."
          ],
          [
           "MF, alzheim, autonomi, 6-sulphatoxy-melatonin, ",
           "The interrelationship of sleep, biologic clocks, neurotransmitters, gonadotropins and pubertal development."
          ],
          [
           "appropri, acebo, aris, assumpt, ",
           "Scheduled evening sleep and enhanced lighting improve adaptation to night shift work in older adults."
          ],
          [
           "-I, approach, +/-sem, abstarct, ",
           "[Effect of night-shift work on selected physiological indicators in power plant workers]."
          ],
          [
           "-I, approach, +/-sem, abstarct, ",
           "The Daily Profiles of Circulating AMH and INSL3 in Men are Distinct from the Other Testicular Hormones, Inhibin B and Testosterone."
          ],
          [
           "artist, analys, abstract, averag, ",
           "[Melatonin in humans: a biochemical marker of the circadian clock and an endogenous synchronizer]."
          ],
          [
           "MF, alzheim, autonomi, 6-sulphatoxy-melatonin, ",
           "[Biologic rhythms. Nyctemeral variation in man]."
          ],
          [
           "appropri, acebo, aris, assumpt, ",
           "Stress and sleep in nurses employed in \"3 × 8\" and \"2 × 12\" fast rotating shift schedules."
          ],
          [
           "b=2.3, .method, androgen, america, ",
           "Temporal correlation of some endocrine circadian rhythms in elderly subjects."
          ],
          [
           "MF, alzheim, autonomi, 6-sulphatoxy-melatonin, ",
           "Sleep and circadian rhythms in humans."
          ],
          [
           "MF, alzheim, autonomi, 6-sulphatoxy-melatonin, ",
           "Long-term and short-term effects of insomnia in cancer and effective interventions."
          ],
          [
           "MF, alzheim, autonomi, 6-sulphatoxy-melatonin, ",
           "Circadian rhythm adaptation to simulated night shift work: effect of nocturnal bright-light duration."
          ],
          [
           "appropri, acebo, aris, assumpt, ",
           "Contribution of core body temperature, prior wake time, and sleep stages to cognitive throughput performance during forced desynchrony."
          ],
          [
           "artist, analys, abstract, averag, ",
           "Effects of 60-Hz magnetic field exposure on nocturnal 6-sulfatoxymelatonin, estrogens, luteinizing hormone, and follicle-stimulating hormone in healthy reproductive-age women: results of a crossover trial."
          ],
          [
           "IR, 0.023.conclus, 35-day, IN, ",
           "Diurnal rhythm of plasma immunoreactive beta-endorphin and its relationship to sleep stages and plasma rhythms of cortisol and prolactin."
          ],
          [
           "artist, analys, abstract, averag, ",
           "Influence of electromagnetic fields emitted by GSM-900 cellular telephones on the circadian patterns of gonadal, adrenal and pituitary hormones in men."
          ],
          [
           "appropri, acebo, aris, assumpt, ",
           "Light treatment for sleep disorders: consensus report. II. Basic properties of circadian physiology and sleep regulation."
          ],
          [
           "MF, alzheim, autonomi, 6-sulphatoxy-melatonin, ",
           "Getting through to circadian oscillators: why use constant routines?"
          ],
          [
           "MF, alzheim, autonomi, 6-sulphatoxy-melatonin, ",
           "Submarine watch schedules: underway evaluation of rotating (contemporary) and compressed (alternative) schedules."
          ],
          [
           "adaptive-threshold, barrag, 63-year-old, anabol, ",
           "Phase-shifting human circadian rhythms with exercise during the night shift."
          ],
          [
           "'phase, acetyltransferas, angel, abpm, ",
           "Failure of extraocular light to facilitate circadian rhythm reentrainment in humans."
          ],
          [
           "appropri, acebo, aris, assumpt, ",
           "Diurnal variations in prolactin and growth hormone levels in normal premenopausal vegetarian and omnivorous women."
          ],
          [
           "appropri, acebo, aris, assumpt, ",
           "Multi-oscillatory control of circadian rhythms in human performance."
          ],
          [
           "appropri, acebo, aris, assumpt, ",
           "Hypotheses for mechanisms linking shiftwork and cancer."
          ],
          [
           "MF, alzheim, autonomi, 6-sulphatoxy-melatonin, ",
           "Ocular Measures of Sleepiness Are Increased in Night Shift Workers Undergoing a Simulated Night Shift Near the Peak Time of the 6-Sulfatoxymelatonin Rhythm."
          ],
          [
           "beadchip, =filter, 9-h, 9-hour, ",
           "[Circadian rhythm of testosterone level in plasma. I. Physiologic 24-hour oscillations of the testosterone level in plasma]."
          ],
          [
           "-I, approach, +/-sem, abstarct, ",
           "Seasonal and biological variation of blood concentrations of total cholesterol, dehydroepiandrosterone sulfate, hemoglobin A(1c), IgA, prolactin, and free testosterone in healthy women."
          ],
          [
           "appropri, acebo, aris, assumpt, ",
           "Salivary estradiol and testosterone in Filipino men: Diurnal patterns and relationships with adiposity."
          ],
          [
           "MF, alzheim, autonomi, 6-sulphatoxy-melatonin, ",
           "Contrast analysis for the evaluation of the circadian rhythms of plasma cortisol, androstenedione, and testosterone in normal men and the possible influence of meals."
          ],
          [
           "b=2.3, .method, androgen, america, ",
           "The validity of the temporal parameters of the daily rhythm of melatonin levels as an indicator of morningness."
          ],
          [
           "appropri, acebo, aris, assumpt, ",
           "Entrainment of the human circadian pacemaker to longer-than-24-h days."
          ],
          [
           "appropri, acebo, aris, assumpt, ",
           "Modeling of circadian testosterone in healthy men and hypogonadal men."
          ],
          [
           "appropri, acebo, aris, assumpt, ",
           "Differential sleep, sleepiness, and neurophysiology in the insomnia phenotypes of shift work disorder."
          ],
          [
           "MF, alzheim, autonomi, 6-sulphatoxy-melatonin, ",
           "Circadian phase, sleepiness, and light exposure assessment in night workers with and without shift work disorder."
          ],
          [
           "MF, alzheim, autonomi, 6-sulphatoxy-melatonin, ",
           "Effects of endurance exercise on nocturnal hormone concentrations in males."
          ],
          [
           "-I, approach, +/-sem, abstarct, ",
           "Sleep-promoting and hypothermic effects of daytime melatonin administration in humans."
          ],
          [
           "MF, alzheim, autonomi, 6-sulphatoxy-melatonin, ",
           "Critical time delay of the pineal melatonin rhythm in humans due to weak electromagnetic exposure."
          ],
          [
           "'phase, acetyltransferas, angel, abpm, ",
           "Work stress and menstrual patterns among American and Italian nurses."
          ],
          [
           "MF, alzheim, autonomi, 6-sulphatoxy-melatonin, ",
           "Human mesor-hypertensive chronorisk."
          ],
          [
           "MF, alzheim, autonomi, 6-sulphatoxy-melatonin, ",
           "Twenty-four-hour secretory patterns of growth hormone, prolactin, and cortisol in narcolepsy."
          ],
          [
           "appropri, acebo, aris, assumpt, ",
           "Prolactin levels in populations at risk for breast cancer."
          ],
          [
           "appropri, acebo, aris, assumpt, ",
           "Effect of masking on circadian adjustment and interindividual differences on a rapidly rotating shift schedule."
          ],
          [
           "and-accord, avow, automot, W, ",
           "The relation of age to the adjustment of the circadian rhythms of oral temperature and sleepiness to shift work."
          ],
          [
           "1ul1, anti-gonadotrop, antiag, alik, ",
           "Physical training intervention in female shift workers: II. The effects of intervention on the circadian rhythms of alertness, short-term memory, and body temperature."
          ],
          [
           "ald, balanc, actillum, akt, ",
           "Shift work and quality of sleep: effect of working in designed dynamic light."
          ],
          [
           "arrhythmia, BP, afternoons/even, auditori, ",
           "Diurnal and ultradian variations of plasma concentrations of eleven adrenal steroid hormones in human males."
          ],
          [
           "1ul1, anti-gonadotrop, antiag, alik, ",
           "Circadian variations in eleven radioimmunoassay variables in the serum of clinically healthy men."
          ],
          [
           "1ul1, anti-gonadotrop, antiag, alik, ",
           "Twenty-four-hour prolactin secretory patterns in women with galactorrhea, normal menses, normal random prolacting levels and abnormal sellar tomograms."
          ],
          [
           "1ul1, anti-gonadotrop, antiag, alik, ",
           "Decreased serum somatomedin C concentrations during sleep: temporal relationship to the nocturnal surges of growth hormone and prolactin."
          ],
          [
           "0.023.conclus, 14-15-hz, 6-sulftoxymelatonin, PA, ",
           "Ultradian, circadian and seasonal variations of plasma progesterone and LH concentrations during the luteal phase."
          ],
          [
           "1ul1, anti-gonadotrop, antiag, alik, ",
           "Sleep structure and EEG power density in morning types and evening types during a simulated day and night shift."
          ],
          [
           "advanced/leth, 2-3h, CC, acrophs, ",
           "[Effects of night shift on plasma concentrations of melatonin, LH, FSH and prolactin, and menstrual irregularity]."
          ],
          [
           "0.023.conclus, 14-15-hz, 6-sulftoxymelatonin, PA, ",
           "Cognitive consequences of sleep deprivation, shiftwork, and heat exposure for underground miners."
          ],
          [
           "advanced/leth, 2-3h, CC, acrophs, ",
           "Circadian and ultradian variations of pituitary and pineal hormones in normal men: evidence for a link between melatonin, gonadotropin, and prolactin secretion."
          ],
          [
           "5-androstene-3beta, 1x10, 1.7-fold, GG, ",
           "Decreased pituitary-gonadal secretion in men with obstructive sleep apnea."
          ],
          [
           "ald, balanc, actillum, akt, ",
           "Circadian rhythms in circulating T lymphocyte subtypes and plasma testosterone, total and free cortisol in five healthy men."
          ],
          [
           "1ul1, anti-gonadotrop, antiag, alik, ",
           "Night owl women are similar to men in their relationship orientation, risk-taking propensities, and cortisol levels: Implications for the adaptive significance and evolution of eveningness."
          ],
          [
           "1ul1, anti-gonadotrop, antiag, alik, ",
           "Shift work, hCLOCK T3111C polymorphism, and endometriosis risk."
          ],
          [
           "1ul1, anti-gonadotrop, antiag, alik, ",
           "Absence of diurnal variation of C-reactive protein concentrations in healthy human subjects."
          ],
          [
           "ald, balanc, actillum, akt, ",
           "Separating the endogenous and exogenous components of the circadian rhythm of body temperature during night work using some 'purification' models."
          ],
          [
           "advanced/leth, 2-3h, CC, acrophs, ",
           "Circadian system, sleep and endocrinology."
          ],
          [
           "antineoplast, arthriti, SF, alatt, ",
           "Dietary patterns, metabolic markers and subjective sleep measures in resident physicians."
          ],
          [
           "1ul1, anti-gonadotrop, antiag, alik, ",
           "Role of melatonin in nocturnal prolactin secretion in women with normoprolactinemia and mild hyperprolactinemia."
          ],
          [
           "ald, balanc, actillum, akt, ",
           "Circadian rhythm sleep disorders in adolescents: clinical trials of combined treatments based on chronobiology."
          ],
          [
           "1ul1, anti-gonadotrop, antiag, alik, ",
           "Subjective fatigue and stress hormone levels in urine according to duration of shiftwork."
          ],
          [
           "b=2.3, .method, androgen, america, ",
           "Circadian rhythm of hormones is extinguished during prolonged physical stress, sleep and energy deficiency in young men."
          ],
          [
           "CS, all, 25-day, antihistamin, ",
           "Role of the melatonin system in the control of sleep: therapeutic implications."
          ],
          [
           "1ul1, anti-gonadotrop, antiag, alik, ",
           "Genetic and environmental influences of daily and intra-individual variation in testosterone levels in middle-aged men."
          ],
          [
           "CS, all, 25-day, antihistamin, ",
           "Cortisol circadian rhythms during the menstrual cycle and with sleep deprivation in premenstrual dysphoric disorder and normal control subjects."
          ],
          [
           "6-d, analys, 1,25-dihydroxy-vitamin-d, 9-hour, ",
           "Characteristics of pulsatile and circadian prolactin release and its variability in men."
          ],
          [
           "appropri, acebo, aris, assumpt, ",
           "Fatigue self-management strategies and reported fatigue in international pilots."
          ],
          [
           "1ul1, anti-gonadotrop, antiag, alik, ",
           "Work at sea: a study of sleep, and of circadian rhythms in physiological and psychological functions, in watchkeepers on merchant vessels. III. Rhythms in physiological functions."
          ],
          [
           "1ul1, anti-gonadotrop, antiag, alik, ",
           "Effects of work and circadian rhythm on bus drivers' oral temperature."
          ],
          [
           "SC, 1-back, Cp, ER, ",
           "Sleep loss and circadian disruption in shift work: health burden and management."
          ],
          [
           "'direct, assembl, 20e, assays.result, ",
           "Influence of the pineal gland on pituitary function in humans."
          ],
          [
           "1ul1, anti-gonadotrop, antiag, alik, ",
           "Human circadian rhythms and exercise."
          ],
          [
           "amateur, afford, 45-day, am-7:00, ",
           "Is the rhythm amplitude related to the ability to phase-shift circadian rhythms of shift-workers?"
          ],
          [
           "amateur, afford, 45-day, am-7:00, ",
           "Phase difference between serum prolactin and cortisol rhythms is related to body mass index in humans."
          ],
          [
           "artist, analys, abstract, averag, ",
           "Chronobiology of prolactin secretion in women: diurnal and sleep-related variations in the pituitary lactotroph sensitivity."
          ],
          [
           "1ul1, anti-gonadotrop, antiag, alik, ",
           "Prolactin-related testosterone secretion in normal adult men."
          ],
          [
           "MF, alzheim, autonomi, 6-sulphatoxy-melatonin, ",
           "Diurnal, seasonal, and blood-processing patterns in levels of circulating fibrinogen, fibrin D-dimer, C-reactive protein, tissue plasminogen activator, and von Willebrand factor in a 45-year-old population."
          ],
          [
           "5-androstene-3beta, 1x10, 1.7-fold, GG, ",
           "Circadian rhythm sleep disorders: part I, basic principles, shift work and jet lag disorders. An American Academy of Sleep Medicine review."
          ],
          [
           "5-androstene-3beta, 1x10, 1.7-fold, GG, ",
           "Sex differences in the circadian regulation of sleep and waking cognition in humans."
          ],
          [
           "MF, alzheim, autonomi, 6-sulphatoxy-melatonin, ",
           "The impact of sleep timing and bright light exposure on attentional impairment during night work."
          ],
          [
           "0.023.conclus, 14-15-hz, 6-sulftoxymelatonin, PA, ",
           "[Sleep disorders among physicians on shift work]."
          ],
          [
           "1-tail, alia, 1beta, 1-week, ",
           "[Influence of rescue service personnel's shift work on psycho-physical parameters]."
          ],
          [
           "appropri, acebo, aris, assumpt, ",
           "Circadian rhythms in some groups of Indians working in shifts."
          ],
          [
           "0.023.conclus, 14-15-hz, 6-sulftoxymelatonin, PA, ",
           "Jet lag: therapeutic use of melatonin and possible application of melatonin analogs."
          ],
          [
           "appropri, acebo, aris, assumpt, ",
           "Effects of shift schedules on fatigue and physiological functions among firefighters during night duty."
          ],
          [
           "appropri, acebo, aris, assumpt, ",
           "[Melatonin: a popular hormone]."
          ],
          [
           "appropri, acebo, aris, assumpt, ",
           "[Melatonin: what for?]."
          ],
          [
           "appropri, acebo, aris, assumpt, ",
           "Age- and mental health-related circadian rhythms of plasma levels of melatonin, prolactin, luteinizing hormone and follicle-stimulating hormone in man."
          ],
          [
           "-I, approach, +/-sem, abstarct, ",
           "[The problems of the central regulation of immune system biorhythms: the role of exogenous and endogenous melatonin]."
          ],
          [
           "appropri, acebo, aris, assumpt, ",
           "Circadian System and Melatonin Hormone: Risk Factors for Complications during Pregnancy."
          ],
          [
           "MF, alzheim, autonomi, 6-sulphatoxy-melatonin, ",
           "Stress and fatigue in sound engineers: the effect of broadcasting in a life show and shift work."
          ],
          [
           "2400h, 24-26-hr, 18-oh-deoxycorticosteron, 38-h, ",
           "Variations of melatonin and stress hormones under extended shifts and radiofrequency electromagnetic radiation."
          ],
          [
           "MF, alzheim, autonomi, 6-sulphatoxy-melatonin, ",
           "Lack of evidence for a marked endogenous component determining food intake in humans during forced desynchrony."
          ],
          [
           "appropri, acebo, aris, assumpt, ",
           "Mood, alertness, and performance in response to sleep deprivation and recovery sleep in experienced shiftworkers versus non-shiftworkers."
          ],
          [
           "and-accord, avow, automot, W, ",
           "Risk factors for breast cancer, including occupational exposures."
          ],
          [
           "MF, alzheim, autonomi, 6-sulphatoxy-melatonin, ",
           "Melatonin in humans physiological and clinical studies."
          ],
          [
           "appropri, acebo, aris, assumpt, ",
           "Sleep-endocrine effects of mifepristone and megestrol acetate in healthy men."
          ],
          [
           "b=2.3, .method, androgen, america, ",
           "Prolactin and breast skin temperature rhythms in postmenopausal women with primary breast cancer."
          ],
          [
           "appropri, acebo, aris, assumpt, ",
           "Circadian rhythm abnormalities."
          ],
          [
           "appropri, acebo, aris, assumpt, ",
           "Randomized clinical trial of melatonin after night-shift work: efficacy and neuropsychologic effects."
          ],
          [
           "advanc, afflict, 'everyth, NA, ",
           "Breast cancer and electromagnetic fields--a review"
          ],
          [
           "1ul1, anti-gonadotrop, antiag, alik, ",
           "Effects of acutely displaced sleep on testosterone."
          ],
          [
           "1ul1, anti-gonadotrop, antiag, alik, ",
           "Timed exposure to bright light improves sleep and alertness during simulated night shifts."
          ],
          [
           "1ul1, anti-gonadotrop, antiag, alik, ",
           "Controlled patterns of daytime light exposure improve circadian adjustment in simulated night work."
          ],
          [
           "=filter, 9-h, 9-hour, 9-month, ",
           "Exposure to bright light and darkness to treat physiologic maladaptation to night work."
          ],
          [
           "1ul1, anti-gonadotrop, antiag, alik, ",
           "Quantification of circadian phase shifts with the cross-correlation technique."
          ],
          [
           "1ul1, anti-gonadotrop, antiag, alik, ",
           "A 14-h night-shift in the control room of a fire brigade."
          ],
          [
           "1ul1, anti-gonadotrop, antiag, alik, ",
           "Night work and mortality: prospective study among Finnish employees over the time span 1984 to 2008"
          ],
          [
           "1ul1, anti-gonadotrop, antiag, alik, ",
           "Cortisol, reaction time test and health among offshore shift workers."
          ],
          [
           "0.023.conclus, 14-15-hz, 6-sulftoxymelatonin, PA, ",
           "Efficacy of bright light and sleep/darkness scheduling in alleviating circadian maladaptation to night work."
          ],
          [
           "MF, alzheim, autonomi, 6-sulphatoxy-melatonin, ",
           "Changes in psychophysiological functions during night shift in nurses. Influence of changing from a full-day to a half-day work shift before night duty."
          ],
          [
           "0.023.conclus, 14-15-hz, 6-sulftoxymelatonin, PA, ",
           "Effects of exposure to 16.7 Hz magnetic fields on urinary 6-hydroxymelatonin sulfate excretion of Swiss railway workers."
          ],
          [
           "amateur, afford, 45-day, am-7:00, ",
           "Sleeping under the Ocean: Despite Total Isolation, Nuclear Submariners Maintain Their Sleep and Wake Patterns throughout Their Under Sea Mission."
          ],
          [
           "1ul1, anti-gonadotrop, antiag, alik, ",
           "Growth hormone secretion in night workers."
          ],
          [
           "'direct, assembl, 20e, assays.result, ",
           "Appropriate use of bright light promotes a durable adaptation to night-shifts and accelerates readjustment during recovery after a period of night-shifts."
          ],
          [
           "arrhythmia, BP, afternoons/even, auditori, ",
           "An evaluation of scheduled bright light and darkness on rotating shiftworkers: trial and limitations."
          ],
          [
           "arrhythmia, BP, afternoons/even, auditori, ",
           "The effect of a change in sleep-wakefulness timing, bright light and physical exercise interventions on 24-hour patterns of performance, mood and body temperature."
          ],
          [
           "b=2.3, .method, androgen, america, ",
           "Circadian phase response curves to light in older and young women and men."
          ],
          [
           "0.023.conclus, 14-15-hz, 6-sulftoxymelatonin, PA, ",
           "Effects of a two-hour early awakening and of bright light exposure on plasma patterns of cortisol, melatonin, prolactin and testosterone in man."
          ],
          [
           "ald, balanc, actillum, akt, ",
           "Irregular working hours and fatigue of cabin crew"
          ],
          [
           "appropri, acebo, aris, assumpt, ",
           "A prospective study of sleep duration and mortality risk in women"
          ],
          [
           "0.023.conclus, 14-15-hz, 6-sulftoxymelatonin, PA, ",
           "Sleep duration and breast cancer risk: A meta-analysis of observational studies"
          ],
          [
           "CV, 9-hour, 26-item, alteration/disturb, ",
           "Exposure to road traffic and railway noise and postmenopausal breast cancer: A cohort study"
          ],
          [
           "6-d, analys, 1,25-dihydroxy-vitamin-d, 9-hour, ",
           "Urinary melatonin levels in human breast cancer patients."
          ],
          [
           "K, 21:30h, alon, 36th, ",
           "Evidence for modulation of melatonin secretion in men with benign and malignant tumors of the prostate: relationship with the pituitary hormones."
          ],
          [
           "K, 21:30h, alon, 36th, ",
           "Circadian stage-dependent inhibition of human breast cancer metabolism and growth by the nocturnal melatonin signal: consequences of its disruption by light at night in rats and women."
          ],
          [
           "ald, balanc, actillum, akt, ",
           "Disordered nocturnal prolactin regulation in women with breast cancer."
          ],
          [
           "1ul1, anti-gonadotrop, antiag, alik, ",
           "Melatonin, environmental light, and breast cancer."
          ],
          [
           "ald, balanc, actillum, akt, ",
           "Alcohol consumption and urinary concentration of 6-sulfatoxymelatonin in healthy women."
          ],
          [
           "advanc, afflict, 'everyth, NA, ",
           "Circadian adjustment and stress in operators under fast rotating 12-hour shifts."
          ],
          [
           "1ul1, anti-gonadotrop, antiag, alik, ",
           "Does incidence of breast cancer and prostate cancer decrease with increasing degree of visual impairment."
          ],
          [
           "1ul1, anti-gonadotrop, antiag, alik, ",
           "Melatonin as adjuvant cancer care with and without chemotherapy: a systematic review and meta-analysis of randomized trials."
          ],
          [
           "2400h, 24-26-hr, 18-oh-deoxycorticosteron, 38-h, ",
           "Night work and breast cancer estrogen receptor status--results from the German GENICA study."
          ],
          [
           "amateur, afford, 45-day, am-7:00, ",
           "Effect of 3,5,3'-triiodo-L-thyronine on the incidence and growth kinetics of spontaneous mammary tumors in C3H/HeN mice."
          ],
          [
           "'direct, assembl, 20e, assays.result, ",
           "Association of shiftwork and immune cells among police officers from the Buffalo Cardio-Metabolic Occupational Police Stress study."
          ],
          [
           "5-androstene-3beta, 1x10, 1.7-fold, GG, ",
           "Shiftwork duration and the awakening cortisol response among police officers."
          ],
          [
           "advanc, afflict, 'everyth, NA, ",
           "Association of salivary cortisol with chronomics of 24 hours ambulatory blood pressure/heart rate among night shift workers."
          ],
          [
           "MF, alzheim, autonomi, 6-sulphatoxy-melatonin, ",
           "Outline of changes in cortisol and melatonin circadian rhythms in the security guards of shiraz university of medical sciences."
          ],
          [
           "advanced/leth, 2-3h, CC, acrophs, ",
           "A week of simulated night work delays salivary melatonin onset."
          ],
          [
           "1ul1, anti-gonadotrop, antiag, alik, ",
           "Salivary cortisol for monitoring circadian rhythm variation in adrenal activity during shiftwork."
          ],
          [
           "'direct, assembl, 20e, assays.result, ",
           "Chronotoxicity as related to chronobiology."
          ],
          [
           "MF, alzheim, autonomi, 6-sulphatoxy-melatonin, ",
           "Light treatment and circadian adaptation to shift work"
          ],
          [
           "6-d, analys, 1,25-dihydroxy-vitamin-d, 9-hour, ",
           "Request for public comment on nominations and call for additional nominations to the Report on Carcinogens"
          ],
          [
           "appropri, acebo, aris, assumpt, ",
           "Self-luminous devices and melatonin suppression in adolescents"
          ],
          [
           "1ul1, anti-gonadotrop, antiag, alik, ",
           "The impact of watching television on evening melatonin levels"
          ],
          [
           "arrhythmia, BP, afternoons/even, auditori, ",
           "Maternal sleep deprivation is a risk factor for small for gestational age: a cohort study"
          ],
          [
           "amateur, afford, 45-day, am-7:00, ",
           "Can light make us bright? Effects of light on cognition and sleep"
          ],
          [
           "'direct, assembl, 20e, assays.result, ",
           "Cortisol assays and diagnostic laboratory procedures in human biological fluids"
          ],
          [
           "MF, alzheim, autonomi, 6-sulphatoxy-melatonin, ",
           "Human saliva as a diagnostic specimen"
          ],
          [
           "5-androstene-3beta, 1x10, 1.7-fold, GG, ",
           "Biological Effects of Sunlight, Ultraviolet Radiation, Visible Light, Infrared Radiation and Vitamin D for Health"
          ],
          [
           "0.023.conclus, 14-15-hz, 6-sulftoxymelatonin, PA, ",
           "THE INFLUENCE OF SHIFT WORK ON WORKER'S HEALTH STATUS (REVIEW)"
          ],
          [
           "'direct, assembl, 20e, assays.result, ",
           "Shift work in the modern industrial society and consequences on health"
          ],
          [
           "1ul1, anti-gonadotrop, antiag, alik, ",
           "Methodological aspects of shift-work research"
          ],
          [
           "1ul1, anti-gonadotrop, antiag, alik, ",
           "Re: Night shift work, light at night, and risk of breast cancer"
          ],
          [
           "1ul1, anti-gonadotrop, antiag, alik, ",
           "Shift work and cancer screening: do females who work alternative shifts undergo recommended cancer screening?"
          ],
          [
           "CS, all, 25-day, antihistamin, ",
           "High prevalence of breast cancer in light polluted areas in urban and rural regions of South Korea: An ecologic study on the treatment prevalence of female cancers based on National Health Insurance data"
          ],
          [
           "6-d, analys, 1,25-dihydroxy-vitamin-d, 9-hour, ",
           "[Occupational risk factors and male breast cancer]"
          ],
          [
           "1ul1, anti-gonadotrop, antiag, alik, ",
           "Effect of bright light on shift work nurses in hospitals."
          ],
          [
           "MF, alzheim, autonomi, 6-sulphatoxy-melatonin, ",
           "Occupational cancer in Britain: Preventing occupational cancer"
          ],
          [
           "advanc, afflict, 'everyth, NA, ",
           "[Morbidity of irregular work schedules]"
          ],
          [
           "amateur, afford, 45-day, am-7:00, ",
           "[Night work and breast cancer]"
          ],
          [
           "artist, analys, abstract, averag, ",
           "Shift work with or without night shifts and breast cancer"
          ],
          [
           "MF, alzheim, autonomi, 6-sulphatoxy-melatonin, ",
           "Shift work and mortality"
          ],
          [
           "0.023.conclus, 14-15-hz, 6-sulftoxymelatonin, PA, ",
           "Restrictions on night work: Analysis of case studies in a large lombardy hospital"
          ],
          [
           "CV, 9-hour, 26-item, alteration/disturb, ",
           "Night shifts and colorectal cancer risk"
          ],
          [
           "6500k, TP, ann, BT, ",
           "Studies of cancer in humans"
          ],
          [
           "-I, approach, +/-sem, abstarct, ",
           "Validation of a Questionnaire to Screen for Shift Work Disorder"
          ],
          [
           "5-androstene-3beta, 1x10, 1.7-fold, GG, ",
           "Relationship of Night and Shift Work With Weight Change and Lifestyle Behaviors"
          ],
          [
           "1ul1, anti-gonadotrop, antiag, alik, ",
           "Shiftwork related problems in hospital workers"
          ],
          [
           "advanc, afflict, 'everyth, NA, ",
           "Comments on the International Symposium on Light, Endocrine Systems and Cancer"
          ],
          [
           "CV, 9-hour, 26-item, alteration/disturb, ",
           "[Sleep disorders and life-style related disease in shift workers]"
          ],
          [
           "ald, balanc, actillum, akt, ",
           "Sleep and health consequences of shift work in women"
          ],
          [
           "and-accord, avow, automot, W, ",
           "Alcohol use in shiftworkers"
          ],
          [
           "-I, approach, +/-sem, abstarct, ",
           "Does light cause internal cancers? The problem and challenge of an ubiquitous exposure"
          ],
          [
           "appropri, acebo, aris, assumpt, ",
           "Shift work and cancer research: can chronotype predict susceptibility in night-shift and rotating-shift workers?"
          ],
          [
           "arrhythmia, BP, afternoons/even, auditori, ",
           "Shift work, chronodisruption and cancer? - The IARC 2007 challenge for research and prevention and 10 theses from the Cologne Colloquium 2008"
          ],
          [
           "MF, alzheim, autonomi, 6-sulphatoxy-melatonin, ",
           "Effects of Shift and Night Work in the Offshore Petroleum Industry: A Systematic Review"
          ],
          [
           "amateur, afford, 45-day, am-7:00, ",
           "Shift work and cancer research: a thought experiment into a potential chronobiological fallacy of past and perspectives for future epidemiological studies"
          ],
          [
           "MF, alzheim, autonomi, 6-sulphatoxy-melatonin, ",
           "Research into the chronodisruption-cancer theory: the imperative for causal clarification and the danger of causal reductionism"
          ],
          [
           "appropri, acebo, aris, assumpt, ",
           "Low 25-hydroxyvitamin D concentrations may explain the link between breast cancer risk and shift work"
          ],
          [
           "appropri, acebo, aris, assumpt, ",
           "Breast cancer risk among Finnish cabin attendants: a nested case-control study"
          ],
          [
           "appropri, acebo, aris, assumpt, ",
           "Light at night, shiftwork, and breast cancer risk"
          ],
          [
           "=filter, 9-h, 9-hour, 9-month, ",
           "Location, location, location: Important for jet-lagged circadian loops"
          ],
          [
           "'direct, assembl, 20e, assays.result, ",
           "Re: Melatonin and breast cancer: A prospective study [4]"
          ],
          [
           "arrhythmia, BP, afternoons/even, auditori, ",
           "Night shiftwork and breast cancer risk: Overall evidence"
          ],
          [
           "MF, alzheim, autonomi, 6-sulphatoxy-melatonin, ",
           "Response to Letter to the Editor, re: Ijaz S, et al. \"Night-shift work and breast cancer - A systematic review and meta-analysis\""
          ],
          [
           "0.023.conclus, 14-15-hz, 6-sulftoxymelatonin, PA, ",
           "Circadian disruption in shiftwork is probably carcinogenic to humans"
          ],
          [
           "'direct, assembl, 20e, assays.result, ",
           "Investigation of cancer incidence and mortality at a Scottish semiconductor manufacturing facility"
          ],
          [
           "ald, balanc, actillum, akt, ",
           "Light at night and breast cancer risk: results from a population-based case-control study in Connecticut, USA"
          ],
          [
           "and-accord, avow, automot, W, ",
           "Night work and breast cancer: a population-based case-control study in France (the CECILE study)"
          ],
          [
           "and-accord, avow, automot, W, ",
           "Night shift work and modifiable lifestyle factors"
          ],
          [
           "arrhythmia, BP, afternoons/even, auditori, ",
           "The darkness at the end of the tunnel: summary and evaluation of an international symposium on light, endocrine systems and cancer"
          ],
          [
           "arrhythmia, BP, afternoons/even, auditori, ",
           "Occupation and cancer - follow-up of 15 million people in five Nordic countries"
          ],
          [
           "1ul1, anti-gonadotrop, antiag, alik, ",
           "[Cancer risk among shift workers: a review]"
          ],
          [
           "MF, alzheim, autonomi, 6-sulphatoxy-melatonin, ",
           "Shift work, light at night, and the risk of breast cancer"
          ],
          [
           "'direct, assembl, 20e, assays.result, ",
           "Re: Night shift work, light at night, and risk of breast cancer"
          ],
          [
           "1ul1, anti-gonadotrop, antiag, alik, ",
           "Lighting during the day and night: possible impact on risk of breast cancer"
          ],
          [
           "MF, alzheim, autonomi, 6-sulphatoxy-melatonin, ",
           "Electric power, pineal function, and the risk of breast cancer"
          ],
          [
           "MF, alzheim, autonomi, 6-sulphatoxy-melatonin, ",
           "Occupational carcinogen exposure in Canada"
          ],
          [
           "1ul1, anti-gonadotrop, antiag, alik, ",
           "Characteristics of the million women study participants who have and have not worked at night"
          ],
          [
           "ald, balanc, actillum, akt, ",
           "Prevalence of risk factors for breast cancer in German airline cabin crew: a cross-sectional study"
          ],
          [
           "appropri, acebo, aris, assumpt, ",
           "Is there any change in the prolactin levels of nurses in the morning after night shift?"
          ],
          [
           "'phase, acetyltransferas, angel, abpm, ",
           "DETERMINANTS OF VITAMIN D STATUS AMONG JORDANIAN EMPLOYEES: FOCUS ON THE NIGHT SHIFT EFFECT"
          ],
          [
           "1ul1, anti-gonadotrop, antiag, alik, ",
           "Night work and breast cancer in women: a Swedish cohort study"
          ],
          [
           "2400h, 24-26-hr, 18-oh-deoxycorticosteron, 38-h, ",
           "Cosmic radiation in commercial aviation"
          ],
          [
           "1ul1, anti-gonadotrop, antiag, alik, ",
           "The relationship between electromagnetic field and light exposures to melatonin and breast cancer risk: a review of the relevant literature"
          ],
          [
           "1ul1, anti-gonadotrop, antiag, alik, ",
           "Night work and breast cancer risk defined by human epidermal growth factor receptor-2 (HER2) and hormone receptor status: A population-based case-control study in France"
          ],
          [
           "appropri, acebo, aris, assumpt, ",
           "Summary preventive and corrective measures for shift workers"
          ],
          [
           "and-accord, avow, automot, W, ",
           "Alcohol Consumption Patterns of Shiftworkers Compared With Dayworkers"
          ],
          [
           "MF, alzheim, autonomi, 6-sulphatoxy-melatonin, ",
           "Total visual blindness is protective against breast cancer"
          ],
          [
           "2400h, 24-26-hr, 18-oh-deoxycorticosteron, 38-h, ",
           "[Have female flight attendants an over-risk of breast cancer?]"
          ],
          [
           "b=2.3, .method, androgen, america, ",
           "Circadian rhythms of body temperature in shift-workers at a coalface."
          ],
          [
           "MF, alzheim, autonomi, 6-sulphatoxy-melatonin, ",
           "Circadian disruption and health: Shift work as a harbinger of the toll taken by electric lighting"
          ],
          [
           "MF, alzheim, autonomi, 6-sulphatoxy-melatonin, ",
           "Is prostate cancer incidence worldwide linked to artificial light at night exposures? Review of earlier findings and analysis of current trends"
          ],
          [
           "appropri, acebo, aris, assumpt, ",
           "Nested case-control study of night shift work and breast cancer risk among women in the Danish military"
          ],
          [
           "appropri, acebo, aris, assumpt, ",
           "Light at night and breast cancer risk among California teachers"
          ],
          [
           "'direct, assembl, 20e, assays.result, ",
           "Intervening to reduce the future burden of occupational cancer in Britain: What could work?"
          ],
          [
           "appropri, acebo, aris, assumpt, ",
           "Mortality attributable to occupational exposure in Sweden"
          ],
          [
           "MF, alzheim, autonomi, 6-sulphatoxy-melatonin, ",
           "Nighttime light level co-distributes with breast cancer incidence worldwide"
          ],
          [
           "-I, approach, +/-sem, abstarct, ",
           "A prospective cohort study of shift work and the risk of death from pancreatic cancer in Japanese men"
          ],
          [
           "and-accord, avow, automot, W, ",
           "Night work and breast cancer risk in a general population prospective cohort study in The Netherlands"
          ],
          [
           "MF, alzheim, autonomi, 6-sulphatoxy-melatonin, ",
           "Occupational causes of testicular cancer in adults"
          ],
          [
           "appropri, acebo, aris, assumpt, ",
           "Epidemiological study of prostate cancer (EPICAP): a population-based case-control study in France"
          ],
          [
           "'direct, assembl, 20e, assays.result, ",
           "Night work and breast cancer risk among Norwegian nurses: assessment by different exposure metrics"
          ],
          [
           "appropri, acebo, aris, assumpt, ",
           "Axillary temperature: a circadian marker rhythm for shift workers."
          ],
          [
           "appropri, acebo, aris, assumpt, ",
           "Invited commentary: validity of case-control studies of sleep duration and breast cancer"
          ],
          [
           "MF, alzheim, autonomi, 6-sulphatoxy-melatonin, ",
           "Medical surveillance for shift and night work"
          ],
          [
           "MF, alzheim, autonomi, 6-sulphatoxy-melatonin, ",
           "Artificial Light at Night (ALAN) and breast cancer incidence worldwide: A revisit of earlier findings with analysis of current trends"
          ],
          [
           "ald, balanc, actillum, akt, ",
           "Light at night: A novel risk factor for cancer in shift workers?"
          ],
          [
           "CS, all, 25-day, antihistamin, ",
           "Rotating nightshift work and the risk of endometriosis in premenopausal women"
          ],
          [
           "'direct, assembl, 20e, assays.result, ",
           "Breast cancer risk, nightwork, and circadian clock gene polymorphisms"
          ],
          [
           "appropri, acebo, aris, assumpt, ",
           "Shift work and chronic disease: the epidemiological evidence"
          ],
          [
           "ald, balanc, actillum, akt, ",
           "The reliability of melatonin synthesis as an indicator of the individual circadian phase position."
          ],
          [
           "1ul1, anti-gonadotrop, antiag, alik, ",
           "Melatonin, cortisol and prolactin response to acute nocturnal light exposure in healthy volunteers."
          ],
          [
           "ald, balanc, actillum, akt, ",
           "Changes in the concentration of urinary 6-sulphatoxymelatonin during a week of simulated night work."
          ],
          [
           "SC, 1-back, Cp, ER, ",
           "[Diurnal rhythm of body temperature in night-shift workers]."
          ],
          [
           "ald, balanc, actillum, akt, ",
           "Delayed recovery of sleep and melatonin rhythms after nightshift work in Antarctic winter."
          ],
          [
           "'direct, assembl, 20e, assays.result, ",
           "Re: Bracci M et al. \"Rotating-shift nurses after a day off: peripheral clock gene expression, urinary melatonin, and serum 17-estradiol levels.\"."
          ],
          [
           "'direct, assembl, 20e, assays.result, ",
           "Personal light dosimetry in permanent night and day workers."
          ],
          [
           "5-androstene-3beta, 1x10, 1.7-fold, GG, ",
           "Seasonal changes of human circadian rhythms in Antarctica."
          ],
          [
           "MF, alzheim, autonomi, 6-sulphatoxy-melatonin, ",
           "Bright light as a chronobiological countermeasure for shiftwork in space."
          ],
          [
           "adaptive-threshold, barrag, 63-year-old, anabol, ",
           "The start of the quiescent period of cortisol remains phase locked to the melatonin onset despite circadian phase alterations in humans working the night schedule."
          ],
          [
           "500-night, 5ht, beadchip, =high-frequency/, ",
           "Melatonin synthesis: a possible indicator of intolerance to shiftwork."
          ],
          [
           "CS, all, 25-day, antihistamin, ",
           "A compromise phase position for permanent night shift workers: circadian phase after two night shifts with scheduled sleep and light/dark exposure."
          ],
          [
           "'direct, assembl, 20e, assays.result, ",
           "Nocturnal prolactin pulses in relation to luteinizing hormone and thyrotropin."
          ],
          [
           "appropri, acebo, aris, assumpt, ",
           "High-intensity light for circadian adaptation to a 12-h shift of the sleep schedule."
          ],
          [
           "1ul1, anti-gonadotrop, antiag, alik, ",
           "Melatonin, sleep, and circadian rhythms: rationale for development of specific melatonin agonists."
          ],
          [
           "'direct, assembl, 20e, assays.result, ",
           "Blocking low-wavelength light prevents nocturnal melatonin suppression with no adverse effect on performance during simulated shift work."
          ],
          [
           "'direct, assembl, 20e, assays.result, ",
           "Controlled exposure to light and darkness realigns the salivary cortisol rhythm in night shift workers."
          ],
          [
           "antineoplast, arthriti, SF, alatt, ",
           "Simulator driving performance, subjective sleepiness and salivary cortisol in a fast-forward versus a slow-backward rotating shift system."
          ],
          [
           "MF, alzheim, autonomi, 6-sulphatoxy-melatonin, ",
           "Alteration of circadian rhythm in shift-working ambulance personnel."
          ],
          [
           "-I, approach, +/-sem, abstarct, ",
           "Predicting circadian response to abrupt phase shift: 6-sulphatoxymelatonin rhythms in rotating shift workers offshore."
          ],
          [
           "MF, alzheim, autonomi, 6-sulphatoxy-melatonin, ",
           "[Night workers and plasmatic cortisol]."
          ],
          [
           "beadchip, =filter, 9-h, 9-hour, ",
           "[Effects of continuous lighting on secretion of melatonin and pituitary hormones in women]."
          ],
          [
           "1ul1, anti-gonadotrop, antiag, alik, ",
           "Practical interventions to promote circadian adaptation to permanent night shift work: study 4."
          ],
          [
           "arrhythmia, BP, afternoons/even, auditori, ",
           "The effect of shift rotation on variations of cortisol, fatigue and sleep in sound engineers."
          ],
          [
           "1ul1, anti-gonadotrop, antiag, alik, ",
           "[Circadian rhythms of physiological functions in men and women related to shift work]."
          ],
          [
           "0.023.conclus, 14-15-hz, 6-sulftoxymelatonin, PA, ",
           "Using blue-green light at night and blue-blockers during the day to improves adaptation to night work: a pilot study."
          ],
          [
           "1ul1, anti-gonadotrop, antiag, alik, ",
           "[Physiological regulation of the duration of the shift work schedule for transportation workers in deep coal mines]."
          ],
          [
           "appropri, acebo, aris, assumpt, ",
           "Spectral modulation attenuates molecular, endocrine, and neurobehavioral disruption induced by nocturnal light exposure."
          ],
          [
           "1ul1, anti-gonadotrop, antiag, alik, ",
           "Circadian adjustment of men and women to night work."
          ],
          [
           "1ul1, anti-gonadotrop, antiag, alik, ",
           "Indirect blue light does not suppress nocturnal salivary melatonin in humans in an automobile setting."
          ],
          [
           "ald, balanc, actillum, akt, ",
           "Effects of long-term, low-dose, time-specified melatonin administration on endocrine and cardiovascular variables in adult men."
          ],
          [
           "1ul1, anti-gonadotrop, antiag, alik, ",
           "Assessment of a new dynamic light regimen in a nuclear power control room without windows on quickly rotating shiftworkers--effects on health, wakefulness, and circadian alignment: a pilot study."
          ],
          [
           "MF, alzheim, autonomi, 6-sulphatoxy-melatonin, ",
           "Blood pressure dipping and salivary cortisol as markers of fatigue and sleep deprivation in staff anesthesiologists."
          ],
          [
           "0.023.conclus, 14-15-hz, 6-sulftoxymelatonin, PA, ",
           "The direction of shift-work rotation impacts metabolic risk independent of chronotype and social jetlag--an exploratory pilot study."
          ],
          [
           "ald, balanc, actillum, akt, ",
           "Rotating night shift work, sleep quality, selected lifestyle factors and prolactin concentration in nurses and midwives."
          ],
          [
           "MF, alzheim, autonomi, 6-sulphatoxy-melatonin, ",
           "Effects of filtering visual short wavelengths during nocturnal shiftwork on sleep and performance."
          ],
          [
           "MF, alzheim, autonomi, 6-sulphatoxy-melatonin, ",
           "Shift type and season affect adaptation of the 6-sulphatoxymelatonin rhythm in offshore oil rig workers."
          ],
          [
           "ald, balanc, actillum, akt, ",
           "Diurnal Variation of Hormonal and Lipid Biomarkers in a Molecular Epidemiology-Like Setting."
          ],
          [
           "artist, analys, abstract, averag, ",
           "Circadian disruption: New clinical perspective of disease pathology and basis for chronotherapeutic intervention."
          ],
          [
           "MF, alzheim, autonomi, 6-sulphatoxy-melatonin, ",
           "Circadian adaptation to fast and slow rotating shift systems."
          ],
          [
           "appropri, acebo, aris, assumpt, ",
           "Abnormal circadian melatonin secretion in night-shift workers."
          ],
          [
           "1-tail, alia, 1beta, 1-week, ",
           "Persisting and unaltered circadian rhythms of six healthy young men with a night-work shift every 48 hrs and a 2% CO2 atmosphere during a 4-week span."
          ],
          [
           "and-accord, avow, automot, W, ",
           "[Desynchronization of the circadian rhythm of oral temperature in young human subjects with poor tolerance for night work]."
          ],
          [
           "argument, amh, anxiety-induc, alik, ",
           "Excretion of urinary catecholamines and plasma cortisol levels in female nurses on short-rotating shift."
          ],
          [
           "1ul1, anti-gonadotrop, antiag, alik, ",
           "Night shift work and other determinants of estradiol, testosterone, and dehydroepiandrosterone sulfate among middle-aged nurses and midwives."
          ],
          [
           "CS, all, 25-day, antihistamin, ",
           "[Effect of shift work on the circadian dynamics of body temperature]."
          ],
          [
           "1-tail, alia, 1beta, 1-week, ",
           "Effects of timed bright-light exposure on shift-work adaptation in middle-aged subjects."
          ],
          [
           "artist, analys, abstract, averag, ",
           "Chronobiotics--drugs that shift rhythms."
          ],
          [
           "CS, all, 25-day, antihistamin, ",
           "Use of melatonin for sleep and circadian rhythm disorders."
          ],
          [
           "1ul1, anti-gonadotrop, antiag, alik, ",
           "Occupational exposure and risk of breast cancer"
          ],
          [
           "appropri, acebo, aris, assumpt, ",
           "The Reduction in Circulating Melatonin Level May Contribute to the Pathogenesis of Ovarian Cancer: A Retrospective Study"
          ],
          [
           "CS, all, 25-day, antihistamin, ",
           "Why the incidence of cancer is increasing: the role of 'light pollution'"
          ],
          [
           "'direct, assembl, 20e, assays.result, ",
           "Night-shift work and risk of colorectal cancer in the nurses' health study"
          ],
          [
           "appropri, acebo, aris, assumpt, ",
           "Measuring Serum Melatonin in Epidemiologic Studies"
          ],
          [
           "5-androstene-3beta, 1x10, 1.7-fold, GG, ",
           "Global co-distribution of light at night (LAN) and cancers of prostate, colon, and lung in men"
          ],
          [
           "6-d, analys, 1,25-dihydroxy-vitamin-d, 9-hour, ",
           "Cancer incidence among a large cohort of female Danish registered nurses"
          ],
          [
           "appropri, acebo, aris, assumpt, ",
           "A case-referent study: light at night and breast cancer risk in Georgia"
          ],
          [
           "1ul1, anti-gonadotrop, antiag, alik, ",
           "Association between shift work and the risk of death from biliary tract cancer in Japanese men"
          ],
          [
           "ald, balanc, actillum, akt, ",
           "Chronotype and breast cancer risk in a cohort of US nurses"
          ],
          [
           "ald, balanc, actillum, akt, ",
           "Cancer incidence among male military and civil pilots and flight attendants: an analysis on published data"
          ],
          [
           "1ul1, anti-gonadotrop, antiag, alik, ",
           "Negative Impacts of Shiftwork and Long Work Hours"
          ],
          [
           "-I, approach, +/-sem, abstarct, ",
           "Insomnia, Excessive Sleepiness, Excessive Fatigue, Anxiety, Depression and Shift Work Disorder in Nurses Having Less than 11 Hours in-Between Shifts"
          ],
          [
           "ald, balanc, actillum, akt, ",
           "Occupational health problems among transit workers"
          ],
          [
           "b=2.3, .method, androgen, america, ",
           "Light at night and breast cancer incidence in Connecticut: An ecological study of age group effects"
          ],
          [
           "2400h, 24-26-hr, 18-oh-deoxycorticosteron, 38-h, ",
           "The association between shift work and health: a review"
          ],
          [
           "artist, analys, abstract, averag, ",
           "Dietary and lifestyle habits and the associated health risks in shift workers"
          ],
          [
           "artist, analys, abstract, averag, ",
           "Shift workers have a similar diet quality but higher energy intake than day workers"
          ],
          [
           "1ul1, anti-gonadotrop, antiag, alik, ",
           "Occupational cancer burden in Great Britain"
          ],
          [
           "advanc, afflict, 'everyth, NA, ",
           "The Risk of Cancer among Taiwanese Female Registered Nurses: A Nationwide Retrospective Study"
          ],
          [
           "appropri, acebo, aris, assumpt, ",
           "Association between Sleep and Breast Cancer Incidence among Postmenopausal Women in the Women's Health Initiative"
          ],
          [
           "1-tail, alia, 1beta, 1-week, ",
           "Combination of light and melatonin time cues for phase advancing the human circadian clock."
          ],
          [
           "appropri, acebo, aris, assumpt, ",
           "Phase advancing human circadian rhythms with morning bright light, afternoon melatonin, and gradually shifted sleep: can we reduce morning bright-light duration?"
          ],
          [
           "ald, balanc, actillum, akt, ",
           "Effects of electromagnetic radiation (bright light, extremely low-frequency magnetic fields, infrared radiation) on the circadian rhythm of melatonin synthesis, rectal temperature, and heart rate."
          ],
          [
           "1ul1, anti-gonadotrop, antiag, alik, ",
           "Alterations of the cortisol quiescent period after experimental night work with enforced adaptation by bright light and its relation to morningness."
          ],
          [
           "K, 21:30h, alon, 36th, ",
           "Metabolic responses on the early shift."
          ],
          [
           "MF, alzheim, autonomi, 6-sulphatoxy-melatonin, ",
           "Different patterns of light exposure in relation to melatonin and cortisol rhythms and sleep of night workers."
          ],
          [
           "MF, alzheim, autonomi, 6-sulphatoxy-melatonin, ",
           "Biological and psychological responses to two rapid shiftwork schedules."
          ],
          [
           "appropri, acebo, aris, assumpt, ",
           "Rapid shift in sleep time and acrophase of melatonin secretion in short shift work schedule."
          ],
          [
           "MF, alzheim, autonomi, 6-sulphatoxy-melatonin, ",
           "Melatonin rhythms in night shift workers."
          ],
          [
           "arrhythmia, BP, afternoons/even, auditori, ",
           "Nocturnal melatonin profiles before and one year after beginning shift-work."
          ],
          [
           "'direct, assembl, 20e, assays.result, ",
           "[Biologic rhythms: their changes in night-shift workers]."
          ],
          [
           "'direct, assembl, 20e, assays.result, ",
           "Internal dissociation of the circadian markers of the cortisol rhythm in night workers."
          ],
          [
           "appropri, acebo, aris, assumpt, ",
           "Effect of shift work on the night-time secretory patterns of melatonin, prolactin, cortisol and testosterone."
          ],
          [
           "1ul1, anti-gonadotrop, antiag, alik, ",
           "Twenty-four-hour melatonin and core body temperature rhythms: their adaptation in night workers."
          ],
          [
           "-I, approach, +/-sem, abstarct, ",
           "Circadian gene expression in peripheral blood leukocytes of rotating night shift nurses"
          ],
          [
           "appropri, acebo, aris, assumpt, ",
           "Studies shedding light on vitamin D and cancer"
          ],
          [
           "5-androstene-3beta, 1x10, 1.7-fold, GG, ",
           "EVALUATION OF CIRCADIAN GENE AND ER beta EXPRESSION CHANGES IN WHITE BLOOD CELLS AS BIOMARKERS OF CIRCADIAN DISRUPTION IN SHIFT WORKERS: POTENTIAL APPLICATION TO STUDIES OF BREAST AND PROSTATE CANCER CHEMOPREVENTION"
          ],
          [
           "ald, balanc, actillum, akt, ",
           "Night shift work and hormone levels in women"
          ],
          [
           "'direct, assembl, 20e, assays.result, ",
           "Melatonin production and light exposure of rotating night workers"
          ],
          [
           "1ul1, anti-gonadotrop, antiag, alik, ",
           "[Night shift work and prolactin as a breast cancer risk factor]"
          ],
          [
           "appropri, acebo, aris, assumpt, ",
           "Sleep interruption associated with house staff work schedules alters circadian gene expression."
          ],
          [
           "appropri, acebo, aris, assumpt, ",
           "Melatonin suppression by light in humans is maximal when the nasal part of the retina is illuminated."
          ],
          [
           "'direct, assembl, 20e, assays.result, ",
           "Dietary inflammatory index scores differ by shift work status: NHANES 2005 to 2010"
          ],
          [
           "CV, 9-hour, 26-item, alteration/disturb, ",
           "Toward chronobiologic pattern discrimination of the risk of developing breast cancer and other diseases."
          ],
          [
           "appropri, acebo, aris, assumpt, ",
           "Saliva cortisol levels in construction workers in the Arctic (78°N)."
          ],
          [
           "appropri, acebo, aris, assumpt, ",
           "Acute phase proteins, body temperature and urinary melatonin under the influence of bright and dim light intensities during the daytime."
          ],
          [
           "'direct, assembl, 20e, assays.result, ",
           "The effect of bright light on physiological circadian rhythms and subjective alertness of shift work nurses in Iran."
          ],
          [
           "MF, alzheim, autonomi, 6-sulphatoxy-melatonin, ",
           "Suppression of sleepiness and melatonin by bright light exposure during breaks in night work."
          ],
          [
           "and-accord, avow, automot, W, ",
           "Blue blocker glasses impede the capacity of bright light to suppress melatonin production."
          ],
          [
           "0.023.conclus, 14-15-hz, 6-sulftoxymelatonin, PA, ",
           "At-sea trial of 24-h-based submarine watchstanding schedules with high and low correlated color temperature light sources."
          ],
          [
           "appropri, acebo, aris, assumpt, ",
           "Short-wavelength attenuated polychromatic white light during work at night: limited melatonin suppression without substantial decline of alertness."
          ],
          [
           "appropri, acebo, aris, assumpt, ",
           "A benzodiazepine hypnotic facilitates adaptation of circadian rhythms and sleep-wake homeostasis to an eight hour delay shift simulating westward jet lag."
          ],
          [
           "MF, alzheim, autonomi, 6-sulphatoxy-melatonin, ",
           "Phase shifts of human circadian rhythms due to shifts of artificial Zeitgebers."
          ],
          [
           "appropri, acebo, aris, assumpt, ",
           "The prediction of the adaptation of circadian rhythms to rapid time zone changes."
          ],
          [
           "b=2.3, .method, androgen, america, ",
           "Shift work disorder: clinical assessment and treatment strategies."
          ],
          [
           "MF, alzheim, autonomi, 6-sulphatoxy-melatonin, ",
           "The genetic background of individual variations of circadian-rhythm periods in healthy human adults"
          ],
          [
           "MF, alzheim, autonomi, 6-sulphatoxy-melatonin, ",
           "From circadian rhythms to cancer chronotherapeutics"
          ],
          [
           "CV, 9-hour, 26-item, alteration/disturb, ",
           "Melatonin as a chronobiotic: treatment of circadian desynchrony in night workers and the blind."
          ],
          [
           "1ul1, anti-gonadotrop, antiag, alik, ",
           "Efficacy and hypnotic effects of melatonin in shift-work nurses: double-blind, placebo-controlled crossover trial."
          ],
          [
           "amateur, afford, 45-day, am-7:00, ",
           "Melatonin uses in oncology: breast cancer prevention and reduction of the side effects of chemotherapy and radiation."
          ],
          [
           "1ul1, anti-gonadotrop, antiag, alik, ",
           "Night shift performance is improved by a compromise circadian phase position: study 3. Circadian phase after 7 night shifts with an intervening weekend off."
          ],
          [
           "amateur, afford, 45-day, am-7:00, ",
           "Adipokine Levels Are Altered by Shiftwork: A Preliminary Study"
          ],
          [
           "6500k, TP, ann, BT, ",
           "Rotating-shift nurses after a day off: peripheral clock gene expression, urinary melatonin, and serum 17-β-estradiol levels."
          ],
          [
           "1ul1, anti-gonadotrop, antiag, alik, ",
           "Simulated night shift disrupts circadian rhythms of immune functions in humans"
          ],
          [
           "1ul1, anti-gonadotrop, antiag, alik, ",
           "Night work and inflammatory markers"
          ],
          [
           "amateur, afford, 45-day, am-7:00, ",
           "Shiftwork and prostate-specific antigen in the National Health and Nutrition Examination Survey"
          ],
          [
           "1ul1, anti-gonadotrop, antiag, alik, ",
           "Circadian adaptation to night-shift work by judicious light and darkness exposure."
          ],
          [
           "1ul1, anti-gonadotrop, antiag, alik, ",
           "Increased and mistimed sex hormone production in night shift workers"
          ],
          [
           "CV, 9-hour, 26-item, alteration/disturb, ",
           "Internal desynchronization of circadian rhythms and tolerance to shift work."
          ],
          [
           "1ul1, anti-gonadotrop, antiag, alik, ",
           "Mistimed sleep disrupts circadian regulation of the human transcriptome."
          ],
          [
           "1ul1, anti-gonadotrop, antiag, alik, ",
           "Do permanent night workers show circadian adjustment? A review based on the endogenous melatonin rhythm."
          ],
          [
           "1ul1, anti-gonadotrop, antiag, alik, ",
           "Some effects of melatonin and the control of its secretion in humans."
          ],
          [
           "1ul1, anti-gonadotrop, antiag, alik, ",
           "Hormonal changes in satisfied and dissatisfied shift workers across a shift cycle."
          ],
          [
           "2400h, 24-26-hr, 18-oh-deoxycorticosteron, 38-h, ",
           "Peripheral Skin Temperature and Circadian Biological Clock in Shift Nurses after a Day off."
          ],
          [
           "MF, alzheim, autonomi, 6-sulphatoxy-melatonin, ",
           "Work at sea: a study of sleep, and of circadian rhythms in physiological and psychological functions, in watchkeepers on merchant vessels. V. Effects of time zone crossings."
          ],
          [
           "1ul1, anti-gonadotrop, antiag, alik, ",
           "Profile of 24-h light exposure and circadian phase of melatonin secretion in night workers."
          ],
          [
           "b=2.3, .method, androgen, america, ",
           "Length polymorphism in the Period 3 gene is associated with sleepiness and maladaptive circadian phase in night-shift workers."
          ],
          [
           "1ul1, anti-gonadotrop, antiag, alik, ",
           "Offshore fleet workers and the circadian adaptation of core body temperature, blood pressure and heart rate to 12-h shifts: a field study."
          ],
          [
           "CS, all, 25-day, antihistamin, ",
           "Circadian rhythm of acute phase proteins under the influence of bright/dim light during the daytime."
          ],
          [
           "argument, amh, anxiety-induc, alik, ",
           "Problems related to shift work. A field study of Swedish railroad workers with irregular work hours."
          ],
          [
           "1ul1, anti-gonadotrop, antiag, alik, ",
           "The darkness at the end of the tunnel: Summary and evaluation of an international symposium on light, endocrine systems and cancer"
          ],
          [
           "1ul1, anti-gonadotrop, antiag, alik, ",
           "Melatonin therapy in shift workers with difficulty falling asleep: A randomized, double-blind, placebo-controlled crossover field study."
          ],
          [
           "1ul1, anti-gonadotrop, antiag, alik, ",
           "Alteration of circadian rhythm in shift-working ambulance personnel. Monitoring of salivary cortisol rhythm."
          ],
          [
           "appropri, acebo, aris, assumpt, ",
           "Shift work at young age is associated with elevated long-term cortisol levels and body mass index."
          ],
          [
           "1ul1, anti-gonadotrop, antiag, alik, ",
           "Light deficiency confers breast cancer risk by endocrine disorders"
          ],
          [
           "'direct, assembl, 20e, assays.result, ",
           "[Longitudinal study on circadian rhythms of plasma hormone levels during Japanese Antarctic Research Expedition]."
          ],
          [
           "MF, alzheim, autonomi, 6-sulphatoxy-melatonin, ",
           "Job strain and shift work influences on biomarkers and subclinical heart disease indicators: a pilot study."
          ],
          [
           "MF, alzheim, autonomi, 6-sulphatoxy-melatonin, ",
           "The acute effects of experimental short-term evening and night shifts on human circadian rhythm: the oral temperature, heart rate, serum cortisol and urinary catecholamines levels."
          ],
          [
           "1ul1, anti-gonadotrop, antiag, alik, ",
           "Breast cancer risk by occupation and industry: analysis of the CECILE study, a population-based case-control study in France"
          ],
          [
           "1ul1, anti-gonadotrop, antiag, alik, ",
           "Efficacy of melatonin treatment in jet lag, shift work, and blindness."
          ],
          [
           "'direct, assembl, 20e, assays.result, ",
           "Adapting to phase shifts, I. An experimental model for jet lag and shift work."
          ],
          [
           "CV, 9-hour, 26-item, alteration/disturb, ",
           "Can melatonin improve adaptation to night shift?"
          ],
          [
           "appropri, acebo, aris, assumpt, ",
           "Differences in cortisol profiles and circadian adjustment time between nurses working night shifts and regular day shifts: A prospective longitudinal study."
          ],
          [
           "1ul1, anti-gonadotrop, antiag, alik, ",
           "Effectiveness of a red-visor cap for preventing light-induced melatonin suppression during simulated night work."
          ],
          [
           "MF, alzheim, autonomi, 6-sulphatoxy-melatonin, ",
           "Circadian disrupting exposures and breast cancer risk: a meta-analysis"
          ],
          [
           "appropri, acebo, aris, assumpt, ",
           "Duration of sleep and breast cancer risk in a large population-based case-control study"
          ],
          [
           "MF, alzheim, autonomi, 6-sulphatoxy-melatonin, ",
           "Sleep Disruption Among Older Men and Risk of Prostate Cancer"
          ],
          [
           "appropri, acebo, aris, assumpt, ",
           "Urinary melatonin and risk of ovarian cancer"
          ],
          [
           "ald, balanc, actillum, akt, ",
           "Epidemiological studies of cancer in aircrew"
          ],
          [
           "arrhythmia, BP, afternoons/even, auditori, ",
           "Physical fitness and other individual factors relating to the shiftwork tolerance of women"
          ],
          [
           "and-accord, avow, automot, W, ",
           "Significant dimensions of the dose-response relationship"
          ],
          [
           "and-accord, avow, automot, W, ",
           "Occupational radiation dose estimation for Finnish aircraft cabin attendants"
          ],
          [
           "adaptive-threshold, barrag, 63-year-old, anabol, ",
           "Returning from night shift to day life: Beneficial effects of light on sleep"
          ],
          [
           "appropri, acebo, aris, assumpt, ",
           "Circadian disruption-induced breast cancer – knowns and unknowns"
          ],
          [
           "1ul1, anti-gonadotrop, antiag, alik, ",
           "Measuring and using light in the melanopsin age"
          ],
          [
           "advanc, afflict, 'everyth, NA, ",
           "Aberrant methylation of miR-34b is associated with long-term shiftwork: a potential mechanism for increased breast cancer susceptibility"
          ],
          [
           "appropri, acebo, aris, assumpt, ",
           "Biological risk and health care workers: Analysis of the effects of work chronobiology on the immune system"
          ],
          [
           "1ul1, anti-gonadotrop, antiag, alik, ",
           "Relationship between intensity of night shift work and antioxidant status in blood of nurses"
          ],
          [
           "arrhythmia, BP, afternoons/even, auditori, ",
           "Night Shift Work and Breast Cancer Risk"
          ],
          [
           "appropri, acebo, aris, assumpt, ",
           "Chronic Jet Lag Promotes Metabolic Dysfunction and Hepatocarcinogenesis"
          ],
          [
           "appropri, acebo, aris, assumpt, ",
           "The circadian gene NPAS2 is a novel prognostic biomarker for breast cancer"
          ],
          [
           "5-androstene-3beta, 1x10, 1.7-fold, GG, ",
           "Sulphatoxymelatonin excretion in older people: relationship to plasma melatonin and renal function"
          ],
          [
           "MF, alzheim, autonomi, 6-sulphatoxy-melatonin, ",
           "Roux-en-Y gastric bypass for morbid obesity: what are the preoperative predictors of weight loss?"
          ],
          [
           "and-accord, avow, automot, W, ",
           "Ramadan fasting in Saudi Arabia is associated with altered expression of CLOCK, DUSP and IL-1alpha genes, as well as changes in cardiometabolic risk factors"
          ],
          [
           "MF, alzheim, autonomi, 6-sulphatoxy-melatonin, ",
           "Molecular Mechanisms in Mood Regulation Involving the Circadian Clock"
          ],
          [
           "ald, balanc, actillum, akt, ",
           "A single night light exposure acutely alters hormonal and metabolic responses in healthy participants"
          ],
          [
           "artist, analys, abstract, averag, ",
           "Genetic variation of clock genes and cancer risk: a field synopsis and meta-analysis"
          ],
          [
           "CV, 9-hour, 26-item, alteration/disturb, ",
           "Shifting schedules: the health effects of reorganizing shift work"
          ],
          [
           "CS, all, 25-day, antihistamin, ",
           "Nocturnal urinary 6-sulphatoxymelatonin excretion is decreased in primary breast cancer patients compared to age-matched controls and shows negative correlation with tumor-size"
          ],
          [
           "1ul1, anti-gonadotrop, antiag, alik, ",
           "Melatonin and 6-sulfatoxymelatonin circadian rhythms in serum and urine of primary prostate cancer patients: evidence for reduced pineal activity and relevance of urinary determinations"
          ],
          [
           "MF, alzheim, autonomi, 6-sulphatoxy-melatonin, ",
           "Light/Dark Shifting Promotes Alcohol-Induced Colon Carcinogenesis: Possible Role of Intestinal Inflammatory Milieu and Microbiota"
          ],
          [
           "MF, alzheim, autonomi, 6-sulphatoxy-melatonin, ",
           "Methodological issues regarding confounding and exposure misclassification in epidemiological studies of occupational exposures"
          ],
          [
           "CS, all, 25-day, antihistamin, ",
           "Mortality from Cancer and Other Causes among Airline Cabin Attendants in Germany, 1960-1997"
          ],
          [
           "appropri, acebo, aris, assumpt, ",
           "Shift work, risk factors and cardiovascular disease"
          ],
          [
           "'direct, assembl, 20e, assays.result, ",
           "Work environment of Danish shift and day workers"
          ],
          [
           "appropri, acebo, aris, assumpt, ",
           "Association between CLOCK, PER3 and CCRN4L with nonsmall cell lung cancer in Brazilian patients"
          ],
          [
           "MF, alzheim, autonomi, 6-sulphatoxy-melatonin, ",
           "Innovative working schedule: introducing one short nap during the night shift"
          ],
          [
           "MF, alzheim, autonomi, 6-sulphatoxy-melatonin, ",
           "Energy intake of shift workers compared to fixed day workers: A systematic review and meta-analysis"
          ],
          [
           "5-androstene-3beta, 1x10, 1.7-fold, GG, ",
           "Associations among Metabolism, Circadian Rhythm and Age-Associated Diseases"
          ],
          [
           "5-androstene-3beta, 1x10, 1.7-fold, GG, ",
           "Human responses to bright light of different durations"
          ],
          [
           "b=2.3, .method, androgen, america, ",
           "The human circadian system adapts to prior photic history"
          ],
          [
           "appropri, acebo, aris, assumpt, ",
           "The Identification of a Long Work Hours Threshold for Predicting Elevated Risks of Adverse Health Outcomes"
          ],
          [
           "b=2.3, .method, androgen, america, ",
           "Introduction to problems of shift work"
          ],
          [
           "'direct, assembl, 20e, assays.result, ",
           "Modifications to weekend recovery sleep delay circadian phase in older adolescents"
          ],
          [
           "and-accord, avow, automot, W, ",
           "Armodafinil for treatment of excessive sleepiness associated with shift work disorder: a randomized controlled study"
          ],
          [
           "-I, approach, +/-sem, abstarct, ",
           "A self-assessment questionnaire to determine morningness-eveningness in human circadian rhythms"
          ],
          [
           "MF, alzheim, autonomi, 6-sulphatoxy-melatonin, ",
           "Night work, light exposure and melatonin on work days and days off"
          ],
          [
           "MF, alzheim, autonomi, 6-sulphatoxy-melatonin, ",
           "Shift Scheduling & Employee Involvement: The Key to Successful Schedules"
          ],
          [
           "b=2.3, .method, androgen, america, ",
           "EPIC-Norfolk: study design and characteristics of the cohort. European Prospective Investigation of Cancer"
          ],
          [
           "MF, alzheim, autonomi, 6-sulphatoxy-melatonin, ",
           "Rotating night shift work, sleep, and colorectal adenoma in women"
          ],
          [
           "and-accord, avow, automot, W, ",
           "Minimum Latency  &  Types or Categories of Cancer"
          ],
          [
           "appropri, acebo, aris, assumpt, ",
           "Sedentary behavior and health outcomes: an overview of systematic reviews"
          ],
          [
           "appropri, acebo, aris, assumpt, ",
           "Increasing rates of low-risk prostate cancer incidence in USAF servicemen and selection of treatments"
          ],
          [
           "appropri, acebo, aris, assumpt, ",
           "Effect of Light and Melatonin and Other Melatonin Receptor Agonists on Human Circadian Physiology"
          ],
          [
           "adaptive-threshold, barrag, 63-year-old, anabol, ",
           "Mechanisms of breast cancer risk in shift workers: association of telomere shortening with the duration and intensity of night work"
          ],
          [
           "appropri, acebo, aris, assumpt, ",
           "Modafinil for excessive sleepiness associated with chronic shift work sleep disorder: effects on patient functioning and health-related quality of life"
          ],
          [
           "appropri, acebo, aris, assumpt, ",
           "Shift work, cancer and \"white-box\" epidemiology: Association and causation"
          ],
          [
           "artist, analys, abstract, averag, ",
           "The new world atlas of artificial night sky brightness"
          ],
          [
           "'phase, acetyltransferas, angel, abpm, ",
           "Divergent biases in ecologic and individual-level studies"
          ],
          [
           "1ul1, anti-gonadotrop, antiag, alik, ",
           "Joint effects of dietary vitamin D and sun exposure on breast cancer risk: results from the French E3N cohort"
          ],
          [
           "MF, alzheim, autonomi, 6-sulphatoxy-melatonin, ",
           "RE: Night Shiftwork and Breast Cancer Incidence: Three Prospective Studies and Meta-analysis of Published Studies"
          ],
          [
           "1ul1, anti-gonadotrop, antiag, alik, ",
           "Sunlight, polymorphisms of vitamin D-related genes and risk of breast cancer"
          ],
          [
           "1ul1, anti-gonadotrop, antiag, alik, ",
           "Control of skin cancer by the circadian rhythm"
          ],
          [
           "arrhythmia, BP, afternoons/even, auditori, ",
           "Occupational factors and mortality in the Japan Collaborative Cohort Study for Evaluation of Cancer (JACC)"
          ],
          [
           "1ul1, anti-gonadotrop, antiag, alik, ",
           "Methods for monitoring the functional status of the circadian system in dietary surveys studies: application criteria and interpretation of results"
          ],
          [
           "arrhythmia, BP, afternoons/even, auditori, ",
           "Salivary Cortisol, Perceived Stress, and Metabolic Syndrome: A Matched Case-Control Study in Female Shift Workers"
          ],
          [
           "0.023.conclus, 14-15-hz, 6-sulftoxymelatonin, PA, ",
           "Meta-analysis of observational studies of serum 25-hydroxyvitamin D levels and colorectal, breast and prostate cancer and colorectal adenoma"
          ],
          [
           "arrhythmia, BP, afternoons/even, auditori, ",
           "The times they're a-changing: effects of circadian desynchronization on physiology and disease"
          ],
          [
           "1ul1, anti-gonadotrop, antiag, alik, ",
           "Reproducibility of plasma and urine biomarkers among premenopausal and postmenopausal women from the Nurses' Health Studies"
          ],
          [
           "arrhythmia, BP, afternoons/even, auditori, ",
           "Photic sensitivity for circadian response to light varies with photoperiod"
          ],
          [
           "b=2.3, .method, androgen, america, ",
           "Self-reported flight hours vs. company records for epidemiologic studies of flight attendants"
          ],
          [
           "arrhythmia, BP, afternoons/even, auditori, ",
           "25-hydroxyvitamin D and breast cancer, colorectal cancer, and colorectal adenomas: case-control versus nested case-control studies"
          ],
          [
           "5-androstene-3beta, 1x10, 1.7-fold, GG, ",
           "Technical and clinical aspects of cortisol as a biochemical marker of chronic stress"
          ],
          [
           "MF, alzheim, autonomi, 6-sulphatoxy-melatonin, ",
           "Measuring and identifying large-study metrics for circadian rhythm disruption in female flight attendants"
          ],
          [
           "MF, alzheim, autonomi, 6-sulphatoxy-melatonin, ",
           "Ecologic versus individual-level sources of bias in ecologic estimates of contextual health effects"
          ],
          [
           "1ul1, anti-gonadotrop, antiag, alik, ",
           "Invited commentary: ecologic studies--biases, misconceptions, and counterexamples"
          ],
          [
           "1-tail, alia, 1beta, 1-week, ",
           "The dim light melatonin onset, melatonin assays and biological rhythm research in humans"
          ],
          [
           "appropri, acebo, aris, assumpt, ",
           "Activity, sleep and ambient light have a different impact on circadian blood pressure, heart rate and body temperature rhythms"
          ],
          [
           "appropri, acebo, aris, assumpt, ",
           "Radiation-induced acute myeloid leukaemia and other cancers in commercial jet cockpit crew: a population-based cohort study"
          ],
          [
           "appropri, acebo, aris, assumpt, ",
           "A PER3 polymorphism is associated with better overall survival in diffuse large B-cell lymphoma in Mexican population"
          ],
          [
           "MF, alzheim, autonomi, 6-sulphatoxy-melatonin, ",
           "Cancer incidence among Norwegian airline cabin attendants"
          ],
          [
           "MF, alzheim, autonomi, 6-sulphatoxy-melatonin, ",
           "RE: Night Shift Work and Breast Cancer Incidence: Three Prospective Studies and Meta-analysis of Published Studies"
          ],
          [
           "'direct, assembl, 20e, assays.result, ",
           "The effects of prior light history on the suppression of melatonin by light in humans"
          ],
          [
           "MF, alzheim, autonomi, 6-sulphatoxy-melatonin, ",
           "Effects of smartphone use with and without blue light at night in healthy adults: A randomized, double-blind, cross-over, placebo-controlled comparison"
          ],
          [
           "artist, analys, abstract, averag, ",
           "Influence of eye colors of Caucasians and Asians on suppression of melatonin secretion by light"
          ],
          [
           "ald, balanc, actillum, akt, ",
           "Progressive elevation of plasma thyrotropin during adaptation to simulated jet lag: effects of treatment with bright light or zolpidem"
          ],
          [
           "'direct, assembl, 20e, assays.result, ",
           "Effects of exposure to intermittent versus continuous red light on human circadian rhythms, melatonin suppression, and pupillary constriction"
          ],
          [
           "ald, balanc, actillum, akt, ",
           "CLOCK in breast tumorigenesis: genetic, epigenetic, and transcriptional profiling analyses"
          ],
          [
           "ald, balanc, actillum, akt, ",
           "Differential Phasing between Circadian Clocks in the Brain and Peripheral Organs in Humans"
          ],
          [
           "appropri, acebo, aris, assumpt, ",
           "The phase shift hypothesis for the circadian component of winter depression"
          ],
          [
           "ald, balanc, actillum, akt, ",
           "The circadian timing system in clinical oncology"
          ],
          [
           "'direct, assembl, 20e, assays.result, ",
           "Breastfeeding and breast cancer risk by receptor status--a systematic review and meta-analysis"
          ],
          [
           "'direct, assembl, 20e, assays.result, ",
           "The phase shift hypothesis for bright light's therapeutic mechanism of action: theoretical considerations and experimental evidence"
          ],
          [
           "MF, alzheim, autonomi, 6-sulphatoxy-melatonin, ",
           "Antidepressant and circadian phase-shifting effects of light"
          ],
          [
           "'direct, assembl, 20e, assays.result, ",
           "The role of melatonin and light in the human circadian system"
          ],
          [
           "'direct, assembl, 20e, assays.result, ",
           "Assessment of cardiometabolic risk among shift workers in Hungary"
          ],
          [
           "MF, alzheim, autonomi, 6-sulphatoxy-melatonin, ",
           "Common genetic variation in circadian rhythm genes and risk of epithelial ovarian cancer (EOC)"
          ],
          [
           "'direct, assembl, 20e, assays.result, ",
           "Shift work and overall and cause-specific mortality in the Danish nurse cohort"
          ],
          [
           "'direct, assembl, 20e, assays.result, ",
           "Comparing the Morningness-Eveningness Questionnaire and Munich ChronoType Questionnaire to the Dim Light Melatonin Onset"
          ],
          [
           "1ul1, anti-gonadotrop, antiag, alik, ",
           "Mammalian circadian biology: elucidating genome-wide levels of temporal organization"
          ],
          [
           "MF, alzheim, autonomi, 6-sulphatoxy-melatonin, ",
           "Association of the clock genes polymorphisms with colorectal cancer susceptibility"
          ],
          [
           "appropri, acebo, aris, assumpt, ",
           "Effects on sleep-related problems and self-reported health after a change of shift schedule"
          ],
          [
           "MF, alzheim, autonomi, 6-sulphatoxy-melatonin, ",
           "Health consequences of shift work and insufficient sleep"
          ],
          [
           "appropri, acebo, aris, assumpt, ",
           "Can Avoiding Light at Night Reduce the Risk of Breast Cancer?"
          ],
          [
           "1ul1, anti-gonadotrop, antiag, alik, ",
           "Circadian type, chronic fatigue, and serum IgM in the shift workers of an industrial organization"
          ],
          [
           "appropri, acebo, aris, assumpt, ",
           "The association between artificial light at night and prostate cancer in Gwangju City and South Jeolla Province of South Korea"
          ],
          [
           "appropri, acebo, aris, assumpt, ",
           "Phase-shifting response to light in older adults"
          ],
          [
           "'direct, assembl, 20e, assays.result, ",
           "Creatinine is an appropriate reference for urinary sulphatoxymelatonin of laboratory animals and humans"
          ],
          [
           "1ul1, anti-gonadotrop, antiag, alik, ",
           "Comparisons of the variability of three markers of the human circadian pacemaker"
          ],
          [
           "'direct, assembl, 20e, assays.result, ",
           "The pattern of hormonal circadian time structure (acrophase) as an assessor of breast-cancer risk"
          ],
          [
           "1ul1, anti-gonadotrop, antiag, alik, ",
           "Effects of bright and blue light on acoustic reaction time and maximum handgrip strength in male athletes: a randomized controlled trial"
          ],
          [
           "MF, alzheim, autonomi, 6-sulphatoxy-melatonin, ",
           "Randomized trial of breast self-examination in Shanghai: final results"
          ],
          [
           "'direct, assembl, 20e, assays.result, ",
           "Actigraph measures of sleep among female hospital employees working day or alternating day and night shifts"
          ],
          [
           "1ul1, anti-gonadotrop, antiag, alik, ",
           "Response to Dr Stevens’ letter ref. Visitisen et al: “Short-term effects of night shift work on breast cancer risk: A cohort study of payroll data”"
          ],
          [
           "'direct, assembl, 20e, assays.result, ",
           "Prime Time Light Exposures Do Not Seem to Improve Maximal Physical Performance in Male Elite Athletes, but Enhance End-Spurt Performance"
          ],
          [
           "appropri, acebo, aris, assumpt, ",
           "Changing the hours of shift work: a comparison of 8- and 12-hour shift rosters in a group of computer operators"
          ],
          [
           "'direct, assembl, 20e, assays.result, ",
           "Light-induced melatonin suppression at night after exposure to different wavelength composition of morning light"
          ],
          [
           "ald, balanc, actillum, akt, ",
           "Alteration of internal circadian phase relationships after morning versus evening carbohydrate-rich meals in humans"
          ],
          [
           "=filter, 9-h, 9-hour, 9-month, ",
           "Possible influences of circadian rhythms in experimental carcinogenesis"
          ],
          [
           "artist, analys, abstract, averag, ",
           "Transition from dim to bright light in the morning induces an immediate elevation of cortisol levels"
          ],
          [
           "1ul1, anti-gonadotrop, antiag, alik, ",
           "Blue-Light Filtering Spectacle Lenses: Optical and Clinical Performances"
          ],
          [
           "=filter, 9-h, 9-hour, 9-month, ",
           "Perinatal light imprinting of circadian clocks and systems (PLICCS): A signature of photoperiod around birth on circadian system stability and association with cancer"
          ],
          [
           "'direct, assembl, 20e, assays.result, ",
           "Perinatal Light Imprinting of Circadian Clocks and Systems (PLICCS): The PLICCS and Cancer Hypothesis"
          ],
          [
           "'direct, assembl, 20e, assays.result, ",
           "The influence of new colored light stimulation methods on heart rate variability, temperature, and well-being: results of a pilot study in humans"
          ],
          [
           "ald, balanc, actillum, akt, ",
           "Medical history, sexual, and maturational factors and prostate cancer risk"
          ],
          [
           "6-d, analys, 1,25-dihydroxy-vitamin-d, 9-hour, ",
           "Mortality among US commercial pilots and navigators"
          ],
          [
           "appropri, acebo, aris, assumpt, ",
           "Circadian pathway genes in relation to glioma risk and outcome"
          ],
          [
           "antineoplast, arthriti, SF, alatt, ",
           "The correlation between human plasma melatonin levels and urinary 6-hydroxymelatonin excretion"
          ],
          [
           "-I, approach, +/-sem, abstarct, ",
           "Reduced melatonin secretion drives association between night shift work and breast cancer"
          ],
          [
           "MF, alzheim, autonomi, 6-sulphatoxy-melatonin, ",
           "Vitamin D and calcium intake in relation to risk of endometrial cancer: a systematic review of the literature"
          ],
          [
           "'direct, assembl, 20e, assays.result, ",
           "Ecological measurements of light exposure, activity, and circadian disruption"
          ],
          [
           "'direct, assembl, 20e, assays.result, ",
           "Circadian phase, dynamics of subjective sleepiness and sensitivity to blue light in young adults complaining of a delayed sleep schedule"
          ],
          [
           "0.023.conclus, 14-15-hz, 6-sulftoxymelatonin, PA, ",
           "Physical stress in the middle of the dark phase does not affect light-depressed plasma melatonin levels in humans"
          ],
          [
           "advanc, afflict, 'everyth, NA, ",
           "Temporal relationship between melatonin and cortisol responses to nighttime physical stress in humans"
          ],
          [
           "-I, approach, +/-sem, abstarct, ",
           "The impact of a workplace-based weight loss program on work-related outcomes in overweight male shift workers"
          ],
          [
           "'direct, assembl, 20e, assays.result, ",
           "Estimating cancer latency times using a Weibull model"
          ],
          [
           "MF, alzheim, autonomi, 6-sulphatoxy-melatonin, ",
           "Circadian Misalignment Increases C-Reactive Protein and Blood Pressure in Chronic Shift Workers"
          ],
          [
           "MF, alzheim, autonomi, 6-sulphatoxy-melatonin, ",
           "Performance awareness: Predicting cognitive performance during simulated shiftwork using chronobiological measures"
          ],
          [
           "appropri, acebo, aris, assumpt, ",
           "Positive effect of daylight exposure on nocturnal urinary melatonin excretion in the elderly: a cross-sectional analysis of the HEIJO-KYO study"
          ],
          [
           "MF, alzheim, autonomi, 6-sulphatoxy-melatonin, ",
           "Intervention on coronary risk factors by changing working conditions of Swedish policemen"
          ],
          [
           "ald, balanc, actillum, akt, ",
           "Intervention on coronary risk factors by adapting a shift work schedule to biologic rhythmicity"
          ],
          [
           "MF, alzheim, autonomi, 6-sulphatoxy-melatonin, ",
           "Increased Melatonin Signaling Is a Risk Factor for Type 2 Diabetes"
          ],
          [
           "1ul1, anti-gonadotrop, antiag, alik, ",
           "High Mammographic Density in Long-Term Night-Shift Workers: DDM-Spain/Var-DDM"
          ],
          [
           "1ul1, anti-gonadotrop, antiag, alik, ",
           "Classification of epidemiological study designs"
          ],
          [
           "1-tail, alia, 1beta, 1-week, ",
           "Dim light melatonin onset (DLMO): a tool for the analysis of circadian phase in human sleep and chronobiological disorders"
          ],
          [
           "MF, alzheim, autonomi, 6-sulphatoxy-melatonin, ",
           "Detection of inflammatory biomarkers in saliva and urine: Potential in diagnosis, prevention, and treatment for chronic diseases"
          ],
          [
           "1ul1, anti-gonadotrop, antiag, alik, ",
           "Incidence of cancer among Finnish airline cabin attendants, 1967-92"
          ],
          [
           "and-accord, avow, automot, W, ",
           "Circadian phase resetting by a single short-duration light exposure"
          ],
          [
           "MF, alzheim, autonomi, 6-sulphatoxy-melatonin, ",
           "Mortality from Cancer and Other Causes among Airline Cabin Attendants in Europe: A Collaborative Cohort Study in Eight Countries"
          ],
          [
           "6-d, analys, 1,25-dihydroxy-vitamin-d, 9-hour, ",
           "A model of phototransduction by the human circadian system"
          ],
          [
           "1ul1, anti-gonadotrop, antiag, alik, ",
           "Circadian light"
          ],
          [
           "MF, alzheim, autonomi, 6-sulphatoxy-melatonin, ",
           "A natural view of artificial light"
          ],
          [
           "MF, alzheim, autonomi, 6-sulphatoxy-melatonin, ",
           "The effects of spectral tuning of evening ambient light on melatonin suppression, alertness and sleep"
          ],
          [
           "'direct, assembl, 20e, assays.result, ",
           "Use of bisphosphonates and risk of postmenopausal breast cancer"
          ],
          [
           "artist, analys, abstract, averag, ",
           "Estimation of the melatonin suppression index through clear and yellow-tinted intraocular lenses"
          ],
          [
           "1ul1, anti-gonadotrop, antiag, alik, ",
           "Circadian gene variants and breast cancer"
          ],
          [
           "ald, balanc, actillum, akt, ",
           "Extended workdays: Effects of 8-hour and 12-hour rotating shift schedules on performance, subjective alertness, sleep patterns, and psychosocial variables"
          ],
          [
           "MF, alzheim, autonomi, 6-sulphatoxy-melatonin, ",
           "DAGitty: a graphical tool for analyzing causal diagrams"
          ],
          [
           "'direct, assembl, 20e, assays.result, ",
           "Shift Work and Shift Work Sleep Disorder: Clinical and Organizational Perspectives"
          ],
          [
           "'direct, assembl, 20e, assays.result, ",
           "Social jetlag and obesity"
          ],
          [
           "'direct, assembl, 20e, assays.result, ",
           "Shift work and serum 25-OH vitamin D status among factory workers in Northern Italy: Cross-sectional study"
          ],
          [
           "1-tail, alia, 1beta, 1-week, ",
           "Causes"
          ],
          [
           "'direct, assembl, 20e, assays.result, ",
           "Sources of bias in ecological studies of non-rare events"
          ],
          [
           "1ul1, anti-gonadotrop, antiag, alik, ",
           "Wearing blue-blockers in the morning could improve sleep of workers on a permanent night schedule: a pilot study"
          ],
          [
           "appropri, acebo, aris, assumpt, ",
           "A randomized controlled trial of oral melatonin supplementation and breast cancer biomarkers"
          ],
          [
           "appropri, acebo, aris, assumpt, ",
           "Reproducibility of the circadian rhythms of serum cortisol and melatonin in healthy subjects: a study of three different 24-h cycles over six weeks"
          ],
          [
           "appropri, acebo, aris, assumpt, ",
           "Diurnal cortisol rhythm as a predictor of breast cancer survival"
          ],
          [
           "appropri, acebo, aris, assumpt, ",
           "RE: Night Shift Work and Breast Cancer Incidence: Three Prospective Studies and Meta-analysis of Published Studies"
          ],
          [
           "appropri, acebo, aris, assumpt, ",
           "Cosmic Radiation Exposure and Cancer Risk Among Flight Crew"
          ],
          [
           "1ul1, anti-gonadotrop, antiag, alik, ",
           "Daily variation in the concentration of melatonin and 5-methoxytryptophol in the human pineal gland: effect of age and Alzheimer's disease"
          ],
          [
           "b=2.3, .method, androgen, america, ",
           "Urinary melatonin levels, sleep disruption, and risk of prostate cancer in elderly men"
          ],
          [
           "appropri, acebo, aris, assumpt, ",
           "An action spectrum for melatonin suppression: evidence for a novel non-rod, non-cone photoreceptor system in humans"
          ],
          [
           "b=2.3, .method, androgen, america, ",
           "Adaptation of human pineal melatonin suppression by recent photic history"
          ],
          [
           "-I, approach, +/-sem, abstarct, ",
           "Rotating shift work schedules: can we enhance physician adaptation to night shifts?"
          ],
          [
           "appropri, acebo, aris, assumpt, ",
           "Brief morning exposure to bright light improves subjective symptoms and performance in nurses with rapidly rotating shifts"
          ],
          [
           "appropri, acebo, aris, assumpt, ",
           "Mortality of shift and day workers 1956-68"
          ],
          [
           "-I, approach, +/-sem, abstarct, ",
           "Letter in reference to: \"Short-term effects of night shift work on breast cancer risk: a cohort study of payroll data\""
          ],
          [
           "appropri, acebo, aris, assumpt, ",
           "Melatonin: Pharmacology, Functions and Therapeutic Benefits"
          ],
          [
           "appropri, acebo, aris, assumpt, ",
           "Incidence of cancer among female flight attendants: a meta-analysis"
          ],
          [
           "appropri, acebo, aris, assumpt, ",
           "Disruption of adolescents' circadian clock: The vicious circle of media use, exposure to light at night, sleep loss and risk behaviors"
          ],
          [
           "appropri, acebo, aris, assumpt, ",
           "Melatonin and Breast Cancer: A Prospective Study"
          ],
          [
           "1ul1, anti-gonadotrop, antiag, alik, ",
           "Reproducibility over 5 years of measurements of 6-sulphatoxymelatonin in urine samples from postmenopausal women"
          ],
          [
           "arrhythmia, BP, afternoons/even, auditori, ",
           "Response"
          ],
          [
           "SC, 1-back, Cp, ER, ",
           "[Melatonin: A chronobiotic with antiaging properties]"
          ],
          [
           "6-d, analys, 1,25-dihydroxy-vitamin-d, 9-hour, ",
           "Evidences of Polymorphism Associated with Circadian System and Risk of Pathologies: A Review of the Literature"
          ],
          [
           "-I, approach, +/-sem, abstarct, ",
           "Unmasking ultradian rhythms in gene expression"
          ],
          [
           "appropri, acebo, aris, assumpt, ",
           "The impact of shift work induced chronic circadian disruption on IL-6 and TNF-alpha immune responses"
          ],
          [
           "b=2.3, .method, androgen, america, ",
           "Aligning work and circadian time in shift workers improves sleep and reduces circadian disruption"
          ],
          [
           "-I, approach, +/-sem, abstarct, ",
           "[Association of genetic variantions of circadian clock genes and risk of breast cancer]"
          ],
          [
           "appropri, acebo, aris, assumpt, ",
           "Review: Peripheral thermometers do not have clinically acceptable accuracy for measuring core body temperature"
          ],
          [
           "and-accord, avow, automot, W, ",
           "Effects of shift rotation and the flexibility of a shift system on daytime alertness and cardiovascular risk factors"
          ],
          [
           "appropri, acebo, aris, assumpt, ",
           "Systematic Literature Review Report: The associations between food, nutrition, physical activity and the risk of skin cancer and underlying mechanisms"
          ],
          [
           "appropri, acebo, aris, assumpt, ",
           "Breast Cancer"
          ],
          [
           "beadchip, =filter, 9-h, 9-hour, ",
           "Ovarian Cancer"
          ],
          [
           "adaptive-threshold, barrag, 63-year-old, anabol, ",
           "Rotating shift work and colorectal cancer among nurses and midwives: A cross-sectional study"
          ],
          [
           "appropri, acebo, aris, assumpt, ",
           "Vitamin D and breast cancer: insights from animal models"
          ],
          [
           "-I, approach, +/-sem, abstarct, ",
           "Disorders of the circadian clock: etiology and possible therapeutic targets"
          ],
          [
           "-I, approach, +/-sem, abstarct, ",
           "Light level and duration of exposure determine the impact of self-luminous tablets on melatonin suppression"
          ],
          [
           "appropri, acebo, aris, assumpt, ",
           "Potential involvement of mt1 receptor and attenuated sex steroid-induced calcium influx in the direct anti-proliferative action of melatonin on androgen-responsive LNCaP human prostate cancer cells"
          ],
          [
           "b=2.3, .method, androgen, america, ",
           "Morning and evening physical exercise differentially regulate the autonomic nervous system during nocturnal sleep in humans"
          ],
          [
           "-I, approach, +/-sem, abstarct, ",
           "Comprehensive assessments of long-term sleep habits in epidemiological study: Validity and reliability of sleep factors questionnaire (SFQ) among Chinese women"
          ],
          [
           "argument, amh, anxiety-induc, alik, ",
           "Mortality among a cohort of U.S. commercial airline cockpit crew"
          ],
          [
           "appropri, acebo, aris, assumpt, ",
           "Disrupting the circadian clock: gene-specific effects on aging, cancer, and other phenotypes"
          ],
          [
           "appropri, acebo, aris, assumpt, ",
           "Correspondence of plasma and salivary cortisol patterns in women with breast cancer"
          ],
          [
           "and-accord, avow, automot, W, ",
           "Chronotype and seasonality: morningness is associated with lower seasonal mood and behavior changes in the Old Order Amish"
          ],
          [
           "-I, approach, +/-sem, abstarct, ",
           "A functional polymorphism in PER3 gene is associated with prognosis in hepatocellular carcinoma"
          ],
          [
           "appropri, acebo, aris, assumpt, ",
           "A Cell-Autonomous Mammalian 12 hr Clock Coordinates Metabolic and Stress Rhythms"
          ],
          [
           "appropri, acebo, aris, assumpt, ",
           "Melatonin after night shift work."
          ],
          [
           "adaptive-threshold, barrag, 63-year-old, anabol, ",
           "Effects of artificial light at night on human health: A literature review of observational and experimental studies applied to exposure assessment"
          ],
          [
           "b=2.3, .method, androgen, america, ",
           "Associations of circulating and dietary vitamin D with prostate cancer risk: a systematic review and dose-response meta-analysis"
          ],
          [
           "MF, alzheim, autonomi, 6-sulphatoxy-melatonin, ",
           "The validity and feasibility of saliva melatonin assessment in the elderly"
          ],
          [
           "1ul1, anti-gonadotrop, antiag, alik, ",
           "Exposure assessment at 30 000 feet: challenges and future directions"
          ],
          [
           "1ul1, anti-gonadotrop, antiag, alik, ",
           "Airline pilot cosmic radiation and circadian disruption exposure assessment from logbooks and company records"
          ],
          [
           "1ul1, anti-gonadotrop, antiag, alik, ",
           "Roles of Solar UVB and Vitamin D in Reducing Cancer Risk and Increasing Survival"
          ],
          [
           "5-androstene-3beta, 1x10, 1.7-fold, GG, ",
           "Mortality study of fertiliser manufacturers in Iceland"
          ],
          [
           "1ul1, anti-gonadotrop, antiag, alik, ",
           "Do night and shift work increase the risk of cancer?"
          ],
          [
           "appropri, acebo, aris, assumpt, ",
           "Opinion of the French Agency for Food, Environmental  and Occupational Health & Safety  on the \"Assessment of the health risks associated with night work\""
          ],
          [
           "appropri, acebo, aris, assumpt, ",
           "[Shift work and breast cancer]"
          ],
          [
           "'direct, assembl, 20e, assays.result, ",
           "Does current scientific evidence support a link between light at night and breast cancer among female night-shift nurses? Review of evidence and implications for occupational and environmental health nurses"
          ],
          [
           "and-accord, avow, automot, W, ",
           "Re: Shift Work and Prostate Cancer Incidence in Industrial Workers: A Historical Cohort Study in a German Chemical Company"
          ],
          [
           "arrhythmia, BP, afternoons/even, auditori, ",
           "Counter-clockwise shift-work and prostate cancer: putting pieces in the puzzle"
          ],
          [
           "arrhythmia, BP, afternoons/even, auditori, ",
           "Circadian disruption, sleep loss, and prostate cancer risk: a systematic review of epidemiologic studies"
          ],
          [
           "arrhythmia, BP, afternoons/even, auditori, ",
           "Influences of early shift work on the diurnal cortisol rhythm, mood and sleep: within-subject variation in male airline pilots."
          ],
          [
           "1ul1, anti-gonadotrop, antiag, alik, ",
           "Short-term night-shift working mimics the pituitary-adrenocortical dysfunction in chronic fatigue syndrome."
          ],
          [
           "arrhythmia, BP, afternoons/even, auditori, ",
           "Amplitude of the oral temperature circadian rhythm and the tolerance to shift-work."
          ],
          [
           "ald, balanc, actillum, akt, ",
           "Impact of an 84-hour workweek on biomarkers for stress, metabolic processes and diurnal rhythm."
          ],
          [
           "antineoplast, arthriti, SF, alatt, ",
           "Internal desynchronization of circadian rhythms and tolerance of shift work."
          ],
          [
           "1ul1, anti-gonadotrop, antiag, alik, ",
           "Evaluation of a rapidly rotating shift system for tolerance of nurses to nightwork."
          ],
          [
           "arrhythmia, BP, afternoons/even, auditori, ",
           "Long-term adjustment of circadian rhythms to a rotating shiftwork schedule."
          ],
          [
           "arrhythmia, BP, afternoons/even, auditori, ",
           "Sleep and circadian rhythms in mining operators: limited evidence of adaptation to night shifts."
          ],
          [
           "0.023.conclus, 14-15-hz, 6-sulftoxymelatonin, PA, ",
           "The interference of flexible working times with the circadian temperature rhythm--a predictor of impairment to health and well-being?"
          ],
          [
           "appropri, acebo, aris, assumpt, ",
           "Changes in cortisol secretion during shiftwork: implications for tolerance to shiftwork?"
          ],
          [
           "artist, analys, abstract, averag, ",
           "Nonentrained circadian rhythms of melatonin in submariners scheduled to an 18-hour day."
          ],
          [
           "1ul1, anti-gonadotrop, antiag, alik, ",
           "Individual differences in the cortisol-awakening response during the first two years of shift work: A longitudinal study in novice police officers."
          ],
          [
           "MF, alzheim, autonomi, 6-sulphatoxy-melatonin, ",
           "Neuroendocrine recovery after 2-week 12-h day and night shifts: an 11-day follow-up."
          ],
          [
           "0.023.conclus, 14-15-hz, 6-sulftoxymelatonin, PA, ",
           "The circadian melatonin and cortisol secretion pattern in permanent night shift workers."
          ],
          [
           "MF, alzheim, autonomi, 6-sulphatoxy-melatonin, ",
           "Sitting Time, Physical Activity and Sleep by Work Type and Pattern-The Australian Longitudinal Study on Women's Health"
          ],
          [
           "0.023.conclus, 14-15-hz, 6-sulftoxymelatonin, PA, ",
           "Skin Temperature Rhythms in Humans Respond to Changes in the Timing of Sleep and Light"
          ],
          [
           "arrhythmia, BP, afternoons/even, auditori, ",
           "Modafinil for excessive sleepiness associated with shift-work sleep disorder"
          ],
          [
           "MF, alzheim, autonomi, 6-sulphatoxy-melatonin, ",
           "Enacting the molecular imperative: How gene-environment interaction research links bodies and environments in the post-genomic age"
          ],
          [
           "-I, approach, +/-sem, abstarct, ",
           "The validity of temperature-sensitive ingestible capsules for measuring core body temperature in laboratory protocols"
          ],
          [
           "MF, alzheim, autonomi, 6-sulphatoxy-melatonin, ",
           "Hypothesis: A perfect day conveys internal time"
          ],
          [
           "1ul1, anti-gonadotrop, antiag, alik, ",
           "Evening light exposure to computer screens disrupts human sleep, biological rhythms, and attention abilities"
          ],
          [
           "0.023.conclus, 14-15-hz, 6-sulftoxymelatonin, PA, ",
           "Adverse Impact of Sleep Restriction and Circadian Misalignment on Autonomic Function in Healthy Young Adults"
          ],
          [
           "appropri, acebo, aris, assumpt, ",
           "Comparisons of three practical field devices used to measure personal light exposures and activity levels"
          ],
          [
           "'direct, assembl, 20e, assays.result, ",
           "Less quick returns--greater well-being"
          ],
          [
           "appropri, acebo, aris, assumpt, ",
           "The effects of chronotype, sleep schedule and light/dark pattern exposures on circadian phase"
          ],
          [
           "artist, analys, abstract, averag, ",
           "A controlled intervention study on the effects of a very rapidly forward rotating shift system on sleep-wakefulness and well-being among young and elderly shift workers"
          ],
          [
           "5-androstene-3beta, 1x10, 1.7-fold, GG, ",
           "Associations among rotating night shift work, sleep and skin cancer in Nurses' Health Study II participants"
          ],
          [
           "arrhythmia, BP, afternoons/even, auditori, ",
           "Evaluation of circadian phenotypes utilizing fibroblasts from patients with circadian rhythm sleep disorders"
          ],
          [
           "'direct, assembl, 20e, assays.result, ",
           "Circadian clock manipulation for cancer prevention and control and the relief of cancer symptoms"
          ],
          [
           "'direct, assembl, 20e, assays.result, ",
           "Machine learning identifies a compact gene set for monitoring the circadian clock in human blood"
          ],
          [
           "MF, alzheim, autonomi, 6-sulphatoxy-melatonin, ",
           "Measuring Light at Night and Melatonin Levels in Shift Workers: A Review of the Literature"
          ],
          [
           "'direct, assembl, 20e, assays.result, ",
           "Cognitive behavioral therapy for shift workers with chronic insomnia"
          ],
          [
           "'direct, assembl, 20e, assays.result, ",
           "Effects of tryptophan-rich breakfast and light exposure during the daytime on melatonin secretion at night"
          ],
          [
           "'direct, assembl, 20e, assays.result, ",
           "Aging related methylation influences the gene expression of key control genes in colorectal cancer and adenoma"
          ],
          [
           "MF, alzheim, autonomi, 6-sulphatoxy-melatonin, ",
           "Measurement and meaning of salivary cortisol: a focus on health and disease in children"
          ],
          [
           "and-accord, avow, automot, W, ",
           "Bias from differential exposure measurement error in a study of flight attendants"
          ],
          [
           "1ul1, anti-gonadotrop, antiag, alik, ",
           "Chronotype modulates sleep duration, sleep quality, and social jet lag in shift-workers"
          ],
          [
           "1-tail, alia, 1beta, 1-week, ",
           "Shiftwork-Mediated Disruptions of Circadian Rhythms and Sleep Homeostasis Cause Serious Health Problems"
          ],
          [
           "'direct, assembl, 20e, assays.result, ",
           "Cancer incidence among male Danish nurses, 1980-2003"
          ],
          [
           "arrhythmia, BP, afternoons/even, auditori, ",
           "Innovative worktime arrangements"
          ],
          [
           "arrhythmia, BP, afternoons/even, auditori, ",
           "Risk factors for skin cancer among Finnish airline cabin crew"
          ],
          [
           "'direct, assembl, 20e, assays.result, ",
           "Effects of day-time exposure to different light intensities on light-induced melatonin suppression at night"
          ],
          [
           "'direct, assembl, 20e, assays.result, ",
           "Effects of electric and magnetic fields from high-power lines on female urinary excretion of 6-sulfatoxymelatonin"
          ],
          [
           "appropri, acebo, aris, assumpt, ",
           "Reataining Home-Base Sleep Hours to Prevent Jet Lag in Connection with a Westward Flight Across Nine Time Zones"
          ],
          [
           "-I, approach, +/-sem, abstarct, ",
           "Serum 25-hydroxyvitamin D and prevention of breast cancer: pooled analysis"
          ],
          [
           "appropri, acebo, aris, assumpt, ",
           "The risk of prostate cancer in pilots: a meta-analysis"
          ],
          [
           "arrhythmia, BP, afternoons/even, auditori, ",
           "Reproductive behaviors and risk of developing breast cancer according to tumor subtype: A systematic review and meta-analysis of epidemiological studies"
          ],
          [
           "'direct, assembl, 20e, assays.result, ",
           "Long-term day-and-night rotating shift work poses a barrier to the normalization of alanine transaminase"
          ],
          [
           "1-tail, alia, 1beta, 1-week, ",
           "Marked 24-h rest/activity rhythms are associated with better quality of life, better response, and longer survival in patients with metastatic colorectal cancer and good performance status"
          ],
          [
           "appropri, acebo, aris, assumpt, ",
           "Zopiclone in insomniac shiftworkers. Evaluation of its hypnotic properties and its effects on mood and work performance"
          ],
          [
           "1-tail, alia, 1beta, 1-week, ",
           "Health and safety protection for chemical industry employees in a rotating shift system: program design and acute injury and illness experience at work"
          ],
          [
           "-I, approach, +/-sem, abstarct, ",
           "RE: Night Shift Work and Breast Cancer Incidence: Three Prospective Studies and Meta-analysis of Published Studies"
          ],
          [
           "appropri, acebo, aris, assumpt, ",
           "Can short-wavelength depleted bright light during single simulated night shifts prevent circadian phase shifts?"
          ],
          [
           "1ul1, anti-gonadotrop, antiag, alik, ",
           "Urinary melatonin: a noninvasive method to follow human pineal function as studied in three experimental conditions"
          ],
          [
           "argument, amh, anxiety-induc, alik, ",
           "Sleep Duration and Disruption and Prostate Cancer Risk: a 23-Year Prospective Study"
          ],
          [
           "appropri, acebo, aris, assumpt, ",
           "Investigating Cortisol Production and Pattern as Mediators in the Relationship Between Shift Work and Cardiometabolic Risk"
          ],
          [
           "1-tail, alia, 1beta, 1-week, ",
           "Estimation methods for human circadian phase by use of peripheral tissues"
          ],
          [
           "arrhythmia, BP, afternoons/even, auditori, ",
           "Short- and long-term health consequences of sleep disruption"
          ],
          [
           "MF, alzheim, autonomi, 6-sulphatoxy-melatonin, ",
           "Risk of melanoma in people with HIV/AIDS in the pre- and post-HAART eras: a systematic review and meta-analysis of cohort studies"
          ],
          [
           "appropri, acebo, aris, assumpt, ",
           "Nutrition and cancer: background and rationale of the European Prospective Investigation into Cancer and Nutrition (EPIC)"
          ],
          [
           "MF, alzheim, autonomi, 6-sulphatoxy-melatonin, ",
           "Analysis of circadian properties and healthy levels of blue light from smartphones at night"
          ],
          [
           "1-tail, alia, 1beta, 1-week, ",
           "6-sulphatoxymelatonin production in breast cancer patients"
          ],
          [
           "-I, approach, +/-sem, abstarct, ",
           "Salivary cortisol measurement in normal-weight, obese and anorexic women: comparison with plasma cortisol"
          ],
          [
           "6-d, analys, 1,25-dihydroxy-vitamin-d, 9-hour, ",
           "Efficacy of a workplace-based weight loss program for overweight male shift workers: the Workplace POWER (Preventing Obesity Without Eating like a Rabbit) randomized controlled trial"
          ],
          [
           "0.023.conclus, 14-15-hz, 6-sulftoxymelatonin, PA, ",
           "The effect of blue-enriched white light on cognitive performances and sleepiness of night-shift workers: A field study"
          ],
          [
           "MF, alzheim, autonomi, 6-sulphatoxy-melatonin, ",
           "The Relationship Between Shift Work and Metabolic Risk Factors: A Systematic Review of Longitudinal Studies"
          ],
          [
           "MF, alzheim, autonomi, 6-sulphatoxy-melatonin, ",
           "Air Travel, Circadian Rhythms/Hormones, and Autoimmunity"
          ],
          [
           "MF, alzheim, autonomi, 6-sulphatoxy-melatonin, ",
           "Association between light exposure at night and nighttime blood pressure in the elderly independent of nocturnal urinary melatonin excretion"
          ],
          [
           "MF, alzheim, autonomi, 6-sulphatoxy-melatonin, ",
           "Cancer incidence in California flight attendants (United States)"
          ],
          [
           "'direct, assembl, 20e, assays.result, ",
           "Effects of bright light exposure during daytime on peripheral clock gene expression in humans"
          ],
          [
           "'direct, assembl, 20e, assays.result, ",
           "Prolonged job strain and subsequent risk of cancer in women - a longitudinal study, based on the Danish Nurse Cohort"
          ],
          [
           "SC, 1-back, Cp, ER, ",
           "Melatonin: pharmacology, functions and therapeutic benefits"
          ],
          [
           "1ul1, anti-gonadotrop, antiag, alik, ",
           "Interdependence of nutrient metabolism and the circadian clock system: Importance for metabolic health"
          ],
          [
           "MF, alzheim, autonomi, 6-sulphatoxy-melatonin, ",
           "Racial differences in the human endogenous circadian period"
          ],
          [
           "MF, alzheim, autonomi, 6-sulphatoxy-melatonin, ",
           "Optimal schedules of light exposure for rapidly correcting circadian misalignment"
          ],
          [
           "MF, alzheim, autonomi, 6-sulphatoxy-melatonin, ",
           "Circadian Disruption and Prostate Cancer Risk: An Updated Review of Epidemiological Evidences"
          ],
          [
           "MF, alzheim, autonomi, 6-sulphatoxy-melatonin, ",
           "Increased frequency of chromosome translocations in airline pilots with long-term flying experience"
          ],
          [
           "1-tail, alia, 1beta, 1-week, ",
           "ROTATING NIGHT SHIFT WORK AND RISK OF BREAST CANCER IN THE NURSES' HEALTH STUDIES"
          ],
          [
           "'direct, assembl, 20e, assays.result, ",
           "Meal Timing Regulates the Human Circadian System"
          ],
          [
           "1ul1, anti-gonadotrop, antiag, alik, ",
           "Association between shift work and risk of prostate cancer: a systematic review and meta-analysis of observational studies"
          ],
          [
           "5-androstene-3beta, 1x10, 1.7-fold, GG, ",
           "Night shift work and breast cancer: a pooled analysis of population-based case-control studies with complete work history"
          ],
          [
           "'direct, assembl, 20e, assays.result, ",
           "State of the evidence 2017: an update on the connection between breast cancer and the environment"
          ],
          [
           "5-androstene-3beta, 1x10, 1.7-fold, GG, ",
           "Risks and protective factors for triple negative breast cancer with a focus on micronutrients and infections"
          ],
          [
           "0.023.conclus, 14-15-hz, 6-sulftoxymelatonin, PA, ",
           "The relationship between night work and breast cancer"
          ],
          [
           "appropri, acebo, aris, assumpt, ",
           "Health consequences of electric lighting practices in the modern world: A report on the National Toxicology Program's workshop on shift work at night, artificial light at night, and circadian disruption"
          ],
          [
           "anelkul, ala/thr, 4-wk, /h, ",
           "Does the association of prostate cancer with night-shift work differ according to rotating vs. fixed schedule? A systematic review and meta-analysis"
          ],
          [
           "'direct, assembl, 20e, assays.result, ",
           "Circadian gene methylation in rotating-shift nurses: a cross-sectional study"
          ],
          [
           "appropri, acebo, aris, assumpt, ",
           "Rotating night work, lifestyle factors, obesity and promoter methylation in BRCA1 and BRCA2 genes among nurses and midwives"
          ],
          [
           "amateur, afford, 45-day, am-7:00, ",
           "Breast cancer screening among shift workers: a nationwide population-based survey in Korea"
          ],
          [
           "MF, alzheim, autonomi, 6-sulphatoxy-melatonin, ",
           "Sleep and Breast Cancer in the Western New York Exposures and Breast Cancer (WEB) Study"
          ],
          [
           "'direct, assembl, 20e, assays.result, ",
           "Epidemiology and aetiological factors of male breast cancer: a ten years retrospective study in eastern Turkey"
          ],
          [
           "-I, approach, +/-sem, abstarct, ",
           "A case–control study of breast cancer risk in nurses from Northeastern Ontario, Canada"
          ],
          [
           "artist, analys, abstract, averag, ",
           "Risk assessment model for invasive breast cancer in Hong Kong women"
          ],
          [
           "MF, alzheim, autonomi, 6-sulphatoxy-melatonin, ",
           "Sleep deprivation due to shift work"
          ],
          [
           "0.023.conclus, 14-15-hz, 6-sulftoxymelatonin, PA, ",
           "Studies of smoking behavior and the acceptance of interventive measures in shift workers"
          ],
          [
           "'direct, assembl, 20e, assays.result, ",
           "Sleep Quality among Health Care Workers"
          ],
          [
           "MF, alzheim, autonomi, 6-sulphatoxy-melatonin, ",
           "Nutrient intake among female shift workers in a computer factory in Japan"
          ],
          [
           "=filter, 9-h, 9-hour, 9-month, ",
           "Working night shifts affects surgeons' biological rhythm."
          ],
          [
           "-I, approach, +/-sem, abstarct, ",
           "Racial differences in the association between night shift work and melatonin levels among women."
          ],
          [
           "-I, approach, +/-sem, abstarct, ",
           "Circadian melatonin profiles during single 24-h shifts in anesthetists."
          ],
          [
           "IR, 0.023.conclus, 35-day, IN, ",
           "Epidemiology of urinary melatonin in women and its relation to other hormones and night work"
          ],
          [
           "CV, 9-hour, 26-item, alteration/disturb, ",
           "Melatonin rhythms in irregular shift workers."
          ],
          [
           "1ul1, anti-gonadotrop, antiag, alik, ",
           "Decreased concentration of serum melatonin in nighttime compared with daytime female medical technologists in South Korea"
          ],
          [
           "CV, 9-hour, 26-item, alteration/disturb, ",
           "Adaptation of the circadian rhythm of 6-sulphatoxymelatonin to a shift schedule of seven nights followed by seven days in offshore oil installation workers."
          ],
          [
           "'direct, assembl, 20e, assays.result, ",
           "Circadian disturbances after night-shift work onboard a naval ship."
          ],
          [
           "MF, alzheim, autonomi, 6-sulphatoxy-melatonin, ",
           "Night shift work and levels of 6-sulfatoxymelatonin and cortisol in men"
          ],
          [
           "and-accord, avow, automot, W, ",
           "A cross-sectional study of breast cancer biomarkers among shift working nurses"
          ],
          [
           "appropri, acebo, aris, assumpt, ",
           "Adaptation of the melatonin rhythm in human subjects following night-shift work in Antarctica."
          ],
          [
           "and-accord, avow, automot, W, ",
           "Manipulation of a central circadian clock regulating behavioral and endocrine rhythms with a short-acting benzodiazepine used in the treatment of insomnia"
          ],
          [
           "appropri, acebo, aris, assumpt, ",
           "Establishing a Policy Framework for the Primary Prevention of Occupational Cancer: A Proposal Based on a Prospective Health Policy Analysis"
          ],
          [
           "MF, alzheim, autonomi, 6-sulphatoxy-melatonin, ",
           "Sensitivity analyses for ecological regression"
          ],
          [
           "MF, alzheim, autonomi, 6-sulphatoxy-melatonin, ",
           "Daily Light Exposure Patterns Reveal Phase and Period of the Human Circadian Clock"
          ],
          [
           "appropri, acebo, aris, assumpt, ",
           "Inhibition of androgen-sensitive LNCaP prostate cancer growth in vivo by melatonin: association of antiproliferative action of the pineal hormone with mt1 receptor protein expression"
          ],
          [
           "and-accord, avow, automot, W, ",
           "Cancer mortality among German aircrew: second follow-up"
          ],
          [
           "appropri, acebo, aris, assumpt, ",
           "Functional polymorphisms of circadian positive feedback regulation genes and clinical outcome of Chinese patients with resected colorectal cancer"
          ],
          [
           "b=2.3, .method, androgen, america, ",
           "Smoking among shift workers: More than a confounding factor"
          ],
          [
           "and-accord, avow, automot, W, ",
           "Effect of exposure duration and light spectra on nighttime melatonin suppression in adolescents and adults"
          ],
          [
           "artist, analys, abstract, averag, ",
           "Breast cancer among very young premenopausal women (United States)"
          ],
          [
           "and-accord, avow, automot, W, ",
           "Breast cancer before age 40 years"
          ],
          [
           "appropri, acebo, aris, assumpt, ",
           "Light exposure at night and rotating night shift associated with circadian disruption of 6-sulfatoxy melatonin"
          ],
          [
           "-I, approach, +/-sem, abstarct, ",
           "Shift work: coping with the biological clock"
          ],
          [
           "and-accord, avow, automot, W, ",
           "Time for food: the intimate interplay between nutrition, metabolism, and the circadian clock"
          ],
          [
           "-I, approach, +/-sem, abstarct, ",
           "Circadian disruption and metabolic disease: findings from animal models"
          ],
          [
           "and-accord, avow, automot, W, ",
           "Nightshift work and genome-wide DNA methylation"
          ],
          [
           "appropri, acebo, aris, assumpt, ",
           "Circadian stage-dependent inhibition of human breast cancer metabolism and growth by the nocturnal melatonin signal: consequences of its disruption by light at night in rats and women"
          ],
          [
           "appropri, acebo, aris, assumpt, ",
           "Evening exposure to blue light stimulates the expression of the clock gene PER2 in humans"
          ],
          [
           "appropri, acebo, aris, assumpt, ",
           "Evening exposure to a light-emitting diodes (LED)-backlit computer screen affects circadian physiology and cognitive performance"
          ],
          [
           "-I, approach, +/-sem, abstarct, ",
           "Exposure to light-at-night increases the growth of DMBA-induced mammary adenocarcinomas in rats"
          ],
          [
           "appropri, acebo, aris, assumpt, ",
           "Red meat intake and risk of breast cancer among premenopausal women"
          ],
          [
           "appropri, acebo, aris, assumpt, ",
           "Daytime Blue Light Enhances the Nighttime Circadian Melatonin Inhibition of Human Prostate Cancer Growth"
          ],
          [
           "MF, alzheim, autonomi, 6-sulphatoxy-melatonin, ",
           "Restricted feeding uncouples circadian oscillators in peripheral tissues from the central pacemaker in the suprachiasmatic nucleus"
          ],
          [
           "appropri, acebo, aris, assumpt, ",
           "Effects of daytime exposure to light from blue-enriched light-emitting diodes on the nighttime melatonin amplitude and circadian regulation of rodent metabolism and physiology"
          ],
          [
           "MF, alzheim, autonomi, 6-sulphatoxy-melatonin, ",
           "Circadian and melatonin disruption by exposure to light at night drives intrinsic resistance to tamoxifen therapy in breast cancer"
          ],
          [
           "MF, alzheim, autonomi, 6-sulphatoxy-melatonin, ",
           "The impact of light from computer monitors on melatonin levels in college students"
          ],
          [
           "appropri, acebo, aris, assumpt, ",
           "Mechanisms of breast cancer risk in shift workers: association of telomere shortening with the duration and intensity of night work"
          ],
          [
           "MF, alzheim, autonomi, 6-sulphatoxy-melatonin, ",
           "Chemical Exposures on the Job May Be Linked to Diseases in Nurses"
          ],
          [
           "appropri, acebo, aris, assumpt, ",
           "Self-luminous devices and melatonin suppression in adolescents"
          ],
          [
           "MF, alzheim, autonomi, 6-sulphatoxy-melatonin, ",
           "Effects of light and food schedules on liver and tumor molecular clocks in mice"
          ],
          [
           "MF, alzheim, autonomi, 6-sulphatoxy-melatonin, ",
           "Effects of chronic jet lag on tumor progression in mice"
          ],
          [
           "b=2.3, .method, androgen, america, ",
           "Does architectural lighting contribute to breast cancer?"
          ],
          [
           "MF, alzheim, autonomi, 6-sulphatoxy-melatonin, ",
           "Disruption of circadian coordination and malignant growth"
          ],
          [
           "b=2.3, .method, androgen, america, ",
           "Dim light at night disrupts molecular circadian rhythms and increases body weight"
          ],
          [
           "b=2.3, .method, androgen, america, ",
           "Daily light exposure in morning-type and evening-type individuals"
          ],
          [
           "b=2.3, .method, androgen, america, ",
           "Interactions between cognition and circadian rhythms: attentional demands modify circadian entrainment"
          ],
          [
           "artist, analys, abstract, averag, ",
           "[Role of clock proteins in skin carcinogenesis in 14-month-old SHR mice maintained under disrupted light regimen]"
          ],
          [
           "b=2.3, .method, androgen, america, ",
           "Circadian disruption: comparing humans with mice"
          ],
          [
           "MF, alzheim, autonomi, 6-sulphatoxy-melatonin, ",
           "Shift work and cancer risk: potential mechanistic roles of circadian disruption, light at night, and sleep deprivation"
          ],
          [
           "b=2.3, .method, androgen, america, ",
           "Validity of self-reported exposure to shift work"
          ],
          [
           "b=2.3, .method, androgen, america, ",
           "Different mechanisms of phase delays and phase advances of the circadian rhythm in rat pineal N-acetyltransferase activity"
          ],
          [
           "MF, alzheim, autonomi, 6-sulphatoxy-melatonin, ",
           "SEER Cancer Statistics Review, 1975-2014"
          ],
          [
           "'direct, assembl, 20e, assays.result, ",
           "Shift work"
          ],
          [
           "appropri, acebo, aris, assumpt, ",
           "EUCAN: Breast Cancer"
          ],
          [
           "'direct, assembl, 20e, assays.result, ",
           "Examining mechanisms of breast cancer over the lifecourse: Implications for risk"
          ],
          [
           "MF, alzheim, autonomi, 6-sulphatoxy-melatonin, ",
           "Defense Meteorological Satellite Program (DMSP)"
          ],
          [
           "0.023.conclus, 14-15-hz, 6-sulftoxymelatonin, PA, ",
           "Breast cancer among shift workers: results of the WOLF longitudinal cohort study"
          ],
          [
           "'direct, assembl, 20e, assays.result, ",
           "Self-reported shift work, recall bias, and belief about disease causation in a case-control study of breast cancer"
          ],
          [
           "'direct, assembl, 20e, assays.result, ",
           "Entrainment of peripheral clock genes by cortisol"
          ],
          [
           "'direct, assembl, 20e, assays.result, ",
           "Estimating cancer latency times using a Weibull model"
          ],
          [
           "'direct, assembl, 20e, assays.result, ",
           "Workshop: Shift Work at Night, Artificial Light at Night, and Circadian Disruption"
          ],
          [
           "MF, alzheim, autonomi, 6-sulphatoxy-melatonin, ",
           "Effects of caffeine on skin and core temperatures, alertness, and recovery sleep during circadian misalignment"
          ],
          [
           "'direct, assembl, 20e, assays.result, ",
           "High-fat feeding alters the clock synchronization to light"
          ],
          [
           "'direct, assembl, 20e, assays.result, ",
           "Press Release on The Nobel Prize in Physiology or Medicine 2017"
          ],
          [
           "'direct, assembl, 20e, assays.result, ",
           "A new approach to understanding the impact of circadian disruption on human health"
          ],
          [
           "appropri, acebo, aris, assumpt, ",
           "Quantifying light-dependent circadian disruption in humans and animal models"
          ],
          [
           "1ul1, anti-gonadotrop, antiag, alik, ",
           "Differential resynchronisation of circadian clock gene expression within the suprachiasmatic nuclei of mice subjected to experimental jet lag"
          ],
          [
           "ald, balanc, actillum, akt, ",
           "Phase shift magnitude and direction determine whether Siberian hamsters reentrain to the photocycle"
          ],
          [
           "arrhythmia, BP, afternoons/even, auditori, ",
           "Internal desynchronization in a model of night-work by forced activity in rats"
          ],
          [
           "arrhythmia, BP, afternoons/even, auditori, ",
           "Racial/ethnic variation in clinical presentation, treatment, and survival among breast cancer patients under age 35"
          ],
          [
           "appropri, acebo, aris, assumpt, ",
           "Nighttime dim light exposure alters the responses of the circadian system"
          ],
          [
           "-I, approach, +/-sem, abstarct, ",
           "Surveillance, Epidemiology, and End Results Program"
          ],
          [
           "=filter, 9-h, 9-hour, 9-month, ",
           "Circadian photoreception: ageing and the eye's important role in systemic health"
          ],
          [
           "MF, alzheim, autonomi, 6-sulphatoxy-melatonin, ",
           "Shift work and endocrine disorders"
          ],
          [
           "b=2.3, .method, androgen, america, ",
           "Associations of urinary 6-sulfatoxymelatonin with demographics, body mass, sex steroids, and lifestyle factors in preschool Japanese children"
          ],
          [
           "artist, analys, abstract, averag, ",
           "Daily profiles of light exposure and evening use of light-emitting devices in young adults complaining of a delayed sleep schedule"
          ],
          [
           "-I, approach, +/-sem, abstarct, ",
           "Experimental chronic jet lag promotes growth and lung metastasis of Lewis lung carcinoma in C57BL/6 mice"
          ],
          [
           "-I, approach, +/-sem, abstarct, ",
           "Effects of experimental chronic jet lag on hematological and immune parameters in mice"
          ],
          [
           "and-accord, avow, automot, W, ",
           "Resetting central and peripheral circadian oscillators in transgenic rats"
          ],
          [
           "appropri, acebo, aris, assumpt, ",
           "Sensitivity of the human circadian pacemaker to nocturnal light: melatonin phase resetting and suppression"
          ],
          [
           "appropri, acebo, aris, assumpt, ",
           "Night shift work and inflammatory markers in male workers aged 20-39 in a display manufacturing company"
          ],
          [
           "appropri, acebo, aris, assumpt, ",
           "Eating frequency and risk of colorectal cancer"
          ],
          [
           "0.023.conclus, 14-15-hz, 6-sulftoxymelatonin, PA, ",
           "The effect of shift rotation on variations of cortisol, fatigue and sleep in sound engineers"
          ],
          [
           "MF, alzheim, autonomi, 6-sulphatoxy-melatonin, ",
           "Eating frequency and colon cancer risk"
          ],
          [
           "MF, alzheim, autonomi, 6-sulphatoxy-melatonin, ",
           "Chronobiology International"
          ],
          [
           "MF, alzheim, autonomi, 6-sulphatoxy-melatonin, ",
           "Circadian coordination of cancer growth and metastatic spread"
          ],
          [
           "-I, approach, +/-sem, abstarct, ",
           "Aberrant light directly impairs mood and learning through melanopsin-expressing neurons."
          ],
          [
           "appropri, acebo, aris, assumpt, ",
           "Chronobiologic dynamics of delta 5-3 beta-hydroxysteroids and glucocorticoids in rat brain and plasma and human plasma."
          ],
          [
           "appropri, acebo, aris, assumpt, ",
           "Macular Carotenoid Supplementation Improves Visual Performance, Sleep Quality, and Adverse Physical Symptoms in Those with High Screen Time Exposure"
          ],
          [
           "1ul1, anti-gonadotrop, antiag, alik, ",
           "Examining Exposure Assessment in Shift Work Research: A Study on Depression Among Nurses"
          ],
          [
           "MF, alzheim, autonomi, 6-sulphatoxy-melatonin, ",
           "Timing of light exposure affects mood and brain circuits"
          ],
          [
           "1ul1, anti-gonadotrop, antiag, alik, ",
           "Night Shift Work and Its Health Effects on Nurses"
          ],
          [
           "0.023.conclus, 14-15-hz, 6-sulftoxymelatonin, PA, ",
           "Disruption of circadian rhythms by light during day and night"
          ],
          [
           "'direct, assembl, 20e, assays.result, ",
           "Sleep duration as a mediator between an alternating day and night shift work schedule and metabolic syndrome among female hospital employees"
          ],
          [
           "artist, analys, abstract, averag, ",
           "Altered Circadian Rhythms and Breast Cancer: From the Human to the Molecular Level"
          ],
          [
           "MF, alzheim, autonomi, 6-sulphatoxy-melatonin, ",
           "Action spectrum for melatonin regulation in humans: evidence for a novel circadian photoreceptor"
          ],
          [
           "-I, approach, +/-sem, abstarct, ",
           "Outdoor light at night and the prevalence of depressive symptoms and suicidal behaviors: A cross-sectional study in a nationally representative sample of Korean adults"
          ],
          [
           "1ul1, anti-gonadotrop, antiag, alik, ",
           "The impact of daytime light exposures on sleep and mood in office workers"
          ],
          [
           "2400h, 24-26-hr, 18-oh-deoxycorticosteron, 38-h, ",
           "Out of the lab and into the bathroom: evening short-term exposure to conventional light suppresses melatonin and increases alertness perception"
          ],
          [
           "appropri, acebo, aris, assumpt, ",
           "Evaluation of melatonin and AFMK levels in women with breast cancer"
          ],
          [
           "MF, alzheim, autonomi, 6-sulphatoxy-melatonin, ",
           "Light at night, chronodisruption, melatonin suppression, and cancer risk: a review"
          ],
          [
           "MF, alzheim, autonomi, 6-sulphatoxy-melatonin, ",
           "Blue blocker glasses as a countermeasure for alerting effects of evening light-emitting diode screen exposure in male teenagers"
          ],
          [
           "and-accord, avow, automot, W, ",
           "Meta-analyses of vitamin D intake, 25-hydroxyvitamin D status, vitamin D receptor polymorphisms, and colorectal cancer risk"
          ],
          [
           "b=2.3, .method, androgen, america, ",
           "Individual differences in tolerance to shift work-a systematic review"
          ],
          [
           "'direct, assembl, 20e, assays.result, ",
           "Frequency and Circadian Timing of Eating May Influence Biomarkers of Inflammation and Insulin Resistance Associated with Breast Cancer Risk"
          ],
          [
           "appropri, acebo, aris, assumpt, ",
           "Increased sensitivity of the circadian system to light in early/mid-puberty"
          ]
         ],
         "hoverlabel": {
          "namelength": 0
         },
         "hovertemplate": "0=%{x}<br>1=%{y}<br>2=%{z}<br>top words=%{customdata[0]}<br>Title=%{customdata[1]}<br>Year=%{marker.color}",
         "legendgroup": "",
         "marker": {
          "color": [
           2012,
           1987,
           1998,
           1986,
           2009,
           1999,
           1994,
           2008,
           1993,
           2015,
           2006,
           2010,
           1986,
           1978,
           2013,
           1993,
           1993,
           1989,
           2010,
           2003,
           1993,
           1998,
           2016,
           2008,
           2015,
           2008,
           2013,
           2002,
           2012,
           2007,
           2013,
           2006,
           2002,
           2006,
           2013,
           2016,
           2014,
           2009,
           2012,
           2012,
           1979,
           2011,
           2007,
           2015,
           2015,
           2001,
           2015,
           2015,
           1977,
           2013,
           2015,
           2011,
           2007,
           2014,
           2013,
           2010,
           2014,
           1991,
           2001,
           2014,
           2010,
           2014,
           2014,
           2016,
           2002,
           2009,
           2014,
           2016,
           2008,
           2010,
           2003,
           2014,
           2011,
           2009,
           2007,
           2014,
           2014,
           2010,
           2015,
           2013,
           2015,
           2014,
           2014,
           2012,
           2011,
           2013,
           2012,
           2013,
           2014,
           2010,
           2011,
           2004,
           2015,
           2014,
           2016,
           2009,
           2006,
           2015,
           2011,
           2009,
           2002,
           2015,
           2007,
           2012,
           2014,
           2010,
           2001,
           2011,
           2015,
           2013,
           2012,
           2015,
           2002,
           2011,
           2014,
           2007,
           2002,
           2004,
           2015,
           2012,
           2010,
           2001,
           2013,
           2002,
           2011,
           1998,
           2005,
           2013,
           2007,
           2013,
           2008,
           2014,
           2012,
           2011,
           2005,
           2012,
           2013,
           2012,
           2012,
           2010,
           2016,
           2015,
           2001,
           2006,
           2013,
           2013,
           2013,
           2016,
           2011,
           2015,
           2013,
           2008,
           2013,
           2014,
           2012,
           2015,
           2015,
           1969,
           1969,
           1968,
           1968,
           2015,
           2012,
           2011,
           2016,
           2015,
           2006,
           2011,
           2005,
           2007,
           1989,
           2017,
           2000,
           1997,
           2002,
           1975,
           2001,
           1977,
           2010,
           1987,
           1979,
           1979,
           1965,
           1973,
           1971,
           1979,
           1979,
           1973,
           1972,
           1973,
           1972,
           1972,
           1972,
           1973,
           1973,
           1972,
           1974,
           1992,
           2004,
           1989,
           2016,
           1988,
           1977,
           2005,
           1977,
           1995,
           1984,
           1970,
           1971,
           1978,
           1996,
           1977,
           1983,
           2012,
           1983,
           1981,
           1981,
           2013,
           2013,
           2013,
           1975,
           1984,
           1983,
           1994,
           2012,
           2012,
           1999,
           1999,
           1976,
           1999,
           1976,
           1999,
           1985,
           1990,
           1997,
           1999,
           1999,
           1999,
           1999,
           2000,
           1999,
           1999,
           2000,
           2000,
           2000,
           2000,
           2000,
           2000,
           1997,
           2000,
           1999,
           2000,
           1975,
           2000,
           1975,
           2000,
           2001,
           1999,
           2000,
           2001,
           2000,
           2000,
           2000,
           2001,
           2001,
           2000,
           1975,
           2000,
           2001,
           1996,
           1997,
           1997,
           2001,
           2001,
           2001,
           2002,
           2002,
           2002,
           2002,
           2003,
           2003,
           2003,
           1998,
           2003,
           1976,
           1991,
           1976,
           1992,
           2003,
           1992,
           2003,
           1963,
           2003,
           1992,
           2001,
           2001,
           2001,
           2003,
           2003,
           1992,
           2003,
           2004,
           2005,
           2004,
           1992,
           2005,
           2004,
           2005,
           2004,
           2005,
           2004,
           2006,
           2005,
           2005,
           2005,
           2005,
           2005,
           2006,
           2005,
           2006,
           2005,
           1991,
           2006,
           2006,
           2006,
           2006,
           2006,
           2006,
           2007,
           2007,
           2006,
           2006,
           2006,
           1990,
           2008,
           2006,
           2006,
           2007,
           2006,
           2007,
           2006,
           1991,
           2007,
           2007,
           2007,
           2007,
           2007,
           2007,
           1991,
           2007,
           1991,
           2007,
           2007,
           2007,
           1991,
           2008,
           2008,
           2008,
           1975,
           1991,
           2008,
           2008,
           1991,
           2008,
           1976,
           2008,
           2008,
           2008,
           2008,
           2008,
           1991,
           2008,
           1991,
           2008,
           2008,
           2009,
           2009,
           2009,
           2009,
           2009,
           2009,
           2009,
           2009,
           2009,
           2012,
           2009,
           2009,
           2009,
           2010,
           2010,
           1991,
           1991,
           2010,
           1978,
           2010,
           2010,
           2010,
           2010,
           1990,
           2011,
           2010,
           2011,
           1990,
           1990,
           2011,
           2011,
           2011,
           1990,
           2011,
           2011,
           1990,
           2011,
           1990,
           2011,
           2011,
           2012,
           2012,
           2011,
           2011,
           1990,
           2011,
           2011,
           2011,
           2012,
           1979,
           2011,
           1990,
           2012,
           2012,
           2012,
           2012,
           2012,
           2012,
           2013,
           2012,
           2013,
           2011,
           2012,
           2012,
           2012,
           2012,
           2012,
           2013,
           1977,
           1978,
           2013,
           2012,
           1990,
           1975,
           2013,
           1990,
           2013,
           1990,
           2013,
           1990,
           2013,
           2013,
           2013,
           2015,
           2013,
           2014,
           2014,
           2014,
           2014,
           2014,
           2014,
           2014,
           1984,
           2014,
           2014,
           2014,
           2014,
           1980,
           1981,
           1978,
           2014,
           2014,
           2014,
           1985,
           2014,
           1985,
           2014,
           2014,
           2014,
           2014,
           2014,
           2015,
           2015,
           1989,
           2015,
           2015,
           2016,
           2015,
           2015,
           2015,
           1989,
           2015,
           2015,
           2015,
           2015,
           2015,
           2016,
           1989,
           1989,
           1985,
           2016,
           2016,
           2016,
           1986,
           2015,
           2015,
           1989,
           2016,
           1989,
           1990,
           2015,
           1968,
           1973,
           1989,
           1974,
           1974,
           1979,
           2017,
           2016,
           1988,
           1988,
           1974,
           1988,
           1987,
           1987,
           1988,
           1988,
           1988,
           1988,
           1988,
           1988,
           1987,
           1987,
           1988,
           1973,
           1972,
           1986,
           1986,
           1987,
           1986,
           1986,
           1984,
           1985,
           1985,
           1972,
           1973,
           1978,
           1985,
           1985,
           1979,
           1985,
           1973,
           1972,
           1973,
           1973,
           1980,
           1984,
           1984,
           1984,
           1984,
           1982,
           1982,
           1981,
           1983,
           1984,
           1983,
           1980,
           1980,
           1982,
           1983,
           1982,
           1978,
           1982,
           1978,
           1981,
           1981,
           1982,
           1978,
           1982,
           1981,
           1980,
           1978,
           1982,
           1978,
           1980,
           1980,
           1995,
           1995,
           1995,
           1995,
           1995,
           1995,
           1995,
           1994,
           1995,
           1995,
           1994,
           1994,
           1994,
           1993,
           1996,
           1994,
           1993,
           1993,
           1993,
           1996,
           1993,
           1993,
           1993,
           1993,
           1996,
           1995,
           1993,
           1995,
           1996,
           1995,
           1996,
           1996,
           1996,
           1996,
           1996,
           1997,
           1996,
           1997,
           1997,
           1997,
           1997,
           1997,
           1976,
           1998,
           1997,
           1998,
           1998,
           1998,
           1998,
           1998,
           1998,
           1998,
           1998,
           1998,
           1998,
           1998,
           1998,
           1998,
           1998,
           1998,
           2007,
           2013,
           2008,
           2014,
           2000,
           2010,
           2008,
           2012,
           1996,
           2013,
           1998,
           2007,
           2010,
           2018,
           2018,
           1992,
           2018,
           2018,
           2018,
           2018,
           2018,
           2018,
           2017,
           2018,
           2018,
           2018,
           2018,
           2018,
           2018,
           2017,
           2014,
           2010,
           2018,
           2017,
           2012,
           2001,
           2018,
           1998,
           2017,
           2010,
           2010,
           2016,
           2016,
           2017,
           2013,
           2017,
           1999,
           2000,
           1989,
           2002,
           1999,
           2004,
           2017,
           1996,
           2015,
           1995,
           2012,
           1997,
           1996,
           2016,
           1994,
           2002,
           2005,
           1992,
           2014,
           2013,
           2016,
           2011,
           1998,
           1981,
           2012,
           1992,
           2010,
           2009,
           2015,
           2012,
           1998,
           1995,
           1998,
           2007,
           1984,
           2009,
           1998,
           2004,
           2001,
           2005,
           1979,
           1981,
           1996,
           1984,
           1993,
           2014,
           1997,
           1998,
           2010,
           2002,
           1996,
           2005,
           1997,
           2014,
           2015,
           2013,
           2012,
           2015,
           2015,
           2009,
           2007,
           2016,
           2008,
           1980,
           2004,
           2006,
           2007,
           2012,
           2003,
           1992,
           2009,
           1999,
           2009,
           2008,
           2001,
           2006,
           1990,
           2006,
           2012,
           2011,
           1998,
           1977,
           2007,
           1985,
           1973,
           2014,
           1997,
           2011,
           1999,
           2009,
           1990,
           2012,
           2015,
           2001,
           2015,
           1989,
           1982,
           2005,
           1997,
           2005,
           1995,
           2007,
           2002,
           2014,
           2007,
           2004,
           2003,
           2007,
           2015,
           2003,
           2004,
           1984,
           1983,
           2007,
           1990,
           1993,
           1999,
           1990,
           2010,
           1980,
           1998,
           1990,
           1989,
           2012,
           2016,
           1997,
           2009,
           2016,
           1985,
           2002,
           2005,
           2013,
           2009,
           2004,
           1994,
           1983,
           1998,
           2001,
           1983,
           2011,
           2008,
           2006,
           1996,
           1997,
           2002,
           1996,
           1988,
           2002,
           1995,
           2010,
           1982,
           1982,
           1995,
           1987,
           1990,
           1989,
           2011,
           2008,
           1999,
           2009,
           2015,
           2015,
           2012,
           2013,
           1984,
           2013,
           2016,
           1983,
           2015,
           1995,
           1999,
           2014,
           1985,
           2007,
           2014,
           1995,
           2010,
           2006,
           1981,
           2008,
           1995,
           2002,
           2007,
           1995,
           2000,
           1986,
           1983,
           2011,
           2015,
           1979,
           2000,
           2014,
           1985,
           2002,
           2007,
           2000,
           2015,
           2012,
           1989,
           1997,
           2013,
           1999,
           1990,
           1979,
           1976,
           1994,
           1990,
           1988,
           2016,
           1982,
           1987,
           1984,
           1981,
           1989,
           1991,
           1992,
           2017,
           1995,
           2002,
           1988,
           2014,
           2008,
           2001,
           1993,
           2012,
           2013,
           1993,
           1998,
           2006,
           1994,
           2007,
           2013,
           2000,
           1995,
           2004,
           1988,
           1988,
           2013,
           1987,
           1990,
           1978,
           2012,
           1993,
           1976,
           2007,
           2007,
           2016,
           2008,
           2014,
           2008,
           1978,
           2008,
           2005,
           1998,
           2005,
           1981,
           2006,
           2015,
           2008,
           2005,
           2004,
           2012,
           2011,
           1978,
           1998,
           1983,
           2013,
           1998,
           2000,
           2005,
           1991,
           2009,
           1990,
           2007,
           1995,
           2012,
           2010,
           2001,
           1997,
           1996,
           2015,
           1997,
           1995,
           1995,
           2001,
           2007,
           1992,
           2015,
           2004,
           2014,
           2014,
           1981,
           1985,
           2009,
           1977,
           2008,
           2000,
           2000,
           2006,
           2012,
           2013,
           1981,
           2017,
           2011,
           2011,
           2013,
           2001,
           1993,
           1997,
           2005,
           2012,
           2015,
           2013,
           2009,
           2011,
           2009,
           2001,
           2016,
           2015,
           2010,
           2004,
           2002,
           2014,
           2015,
           2005,
           2010,
           2012,
           2009,
           2012,
           2013,
           2004,
           2012,
           2005,
           2010,
           2012,
           2015,
           2010,
           2002,
           2014,
           2009,
           2015,
           2002,
           2013,
           2009,
           2013,
           2013,
           2010,
           2015,
           2005,
           2001,
           2010,
           2004,
           2011,
           2013,
           2007,
           2003,
           2010,
           2013,
           2014,
           2002,
           2009,
           2012,
           2011,
           2002,
           2002,
           1992,
           2015,
           2012,
           2014,
           1997,
           2016,
           2015,
           2008,
           1999,
           2016,
           2012,
           2012,
           2009,
           2015,
           1970,
           2016,
           2016,
           2012,
           2014,
           2012,
           2013,
           2010,
           2013,
           2014,
           2010,
           2014,
           2011,
           1987,
           2013,
           2012,
           2015,
           2003,
           2011,
           2014,
           2011,
           2003,
           1992,
           2005,
           1970,
           1986,
           2015,
           1993,
           1999,
           1995,
           2002,
           2002,
           2006,
           1992,
           1992,
           2004,
           2005,
           2004,
           2007,
           1991,
           2007,
           2007,
           1991,
           2009,
           2008,
           2009,
           2010,
           1990,
           2011,
           1996,
           2009,
           1990,
           2012,
           2011,
           2014,
           2015,
           2013,
           1998,
           2015,
           2016,
           1987,
           1986,
           1975,
           1983,
           1985,
           2016,
           1983,
           1995,
           1996,
           1998,
           2016,
           2016,
           1990,
           2003,
           2010,
           2009,
           2009,
           2013,
           2015,
           2013,
           2005,
           2014,
           2013,
           1987,
           2016,
           2016,
           2015,
           2016,
           2012,
           2013,
           2013,
           2013,
           2015,
           2002,
           2010,
           2010,
           1994,
           2004,
           1996,
           1992,
           1997,
           1999,
           1996,
           1990,
           1997,
           2013,
           2004,
           2011,
           2012,
           2012,
           2013,
           2015,
           1999,
           2014,
           1982,
           2011,
           2001,
           2010,
           2004,
           2006,
           2015,
           2013,
           2000,
           1980,
           1993,
           2012,
           1993,
           2002,
           1997,
           2008,
           2012,
           2008,
           2012,
           2014,
           2016,
           2011,
           2013,
           2002,
           2015,
           2008,
           2014,
           2008,
           1985,
           2003,
           2016,
           1988,
           2001,
           2015,
           2010,
           2005,
           1975,
           2002,
           2016,
           1992,
           2011,
           2012,
           1986,
           2012,
           1992,
           2011,
           1997,
           1996,
           1998,
           2015,
           2011,
           2015,
           2006,
           2013,
           2015,
           2009,
           1988,
           1968,
           2004,
           2010,
           2016,
           2014,
           2015,
           2010,
           2013,
           2016,
           2017,
           2010,
           1998,
           2013,
           2017,
           2017,
           2017,
           2017,
           2008,
           1997,
           1992,
           2016,
           2007,
           2002,
           1999,
           2001,
           2014,
           2001,
           2016,
           2017,
           2012,
           2011,
           2017,
           2016,
           2010,
           2009,
           1976,
           2017,
           2009,
           1999,
           2017,
           2013,
           2014,
           2011,
           2015,
           2017,
           2007,
           2010,
           2016,
           1992,
           2011,
           2017,
           2013,
           2011,
           2007,
           2015,
           2017,
           2011,
           2013,
           2010,
           2012,
           2004,
           2015,
           2015,
           2003,
           2001,
           1994,
           1999,
           2017,
           1999,
           2015,
           2001,
           2017,
           2002,
           2017,
           2007,
           1996,
           2014,
           2010,
           2016,
           2007,
           2014,
           2015,
           1987,
           1987,
           1996,
           2012,
           2015,
           2017,
           2015,
           2004,
           2013,
           2009,
           2016,
           2016,
           2015,
           2017,
           2014,
           1997,
           2002,
           1996,
           2017,
           2002,
           2018,
           2017,
           2017,
           1994,
           2016,
           2002,
           1976,
           2001,
           2017,
           2017,
           2017,
           2013,
           2004,
           1998,
           2014,
           1985,
           2012,
           2008,
           2010,
           2017,
           1992,
           1992,
           2012,
           2014,
           2017,
           2017,
           2012,
           1982,
           1983,
           2016,
           2017,
           2012,
           2007,
           2016,
           1995,
           2017,
           2003,
           2005,
           2010,
           2015,
           2017,
           2010,
           2014,
           2017,
           1989,
           2011,
           2017,
           2012,
           2015,
           1976,
           2005,
           2009,
           2012,
           2003,
           2000,
           2017,
           2004,
           1990,
           2015,
           2001,
           2004,
           1997,
           2011,
           1972,
           2017,
           2017,
           2006,
           2017,
           2004,
           2003,
           2017,
           2008,
           2016,
           2017,
           2010,
           2015,
           2013,
           2016,
           2008,
           2006,
           2016,
           2016,
           2017,
           2004,
           2002,
           2013,
           2000,
           2015,
           2017,
           2014,
           2011,
           2014,
           2015,
           2012,
           2017,
           1999,
           2015,
           2011,
           2003,
           2013,
           2011,
           2016,
           1990,
           2015,
           2016,
           2010,
           2012,
           2016,
           2011,
           2012,
           2013,
           1996,
           1979,
           2006,
           1989,
           1994,
           1981,
           2012,
           2008,
           1998,
           1999,
           2015,
           2015,
           1993,
           2017,
           2017,
           2005,
           2016,
           2011,
           2017,
           2017,
           2016,
           2013,
           2010,
           2014,
           2006,
           2017,
           2017,
           2009,
           2017,
           2017,
           2012,
           2014,
           2016,
           2008,
           2015,
           2013,
           2018,
           2010,
           1998,
           2013,
           2015,
           2001,
           2009,
           2011,
           2015,
           2016,
           2014,
           2000,
           1989,
           2009,
           2017,
           2017,
           2006,
           2016,
           2018,
           2016,
           2017,
           2014,
           1992,
           2015,
           1990,
           2001,
           2011,
           2017,
           2016,
           2017,
           2014,
           2002,
           2017,
           2017,
           2016,
           2016,
           2009,
           2014,
           2017,
           2009,
           2017,
           2017,
           2018,
           2018,
           2017,
           2018,
           2018,
           2017,
           2018,
           2018,
           2017,
           2017,
           2018,
           2001,
           2015,
           2016,
           2015,
           1997,
           2013,
           2001,
           2015,
           2013,
           2011,
           2004,
           1993,
           2016,
           2002,
           2000,
           2013,
           2012,
           1991,
           1988,
           2017,
           2003,
           2017,
           2001,
           2010,
           2012,
           2006,
           2018,
           2003,
           2009,
           2013,
           2010,
           2015,
           2010,
           2015,
           2009,
           2006,
           2011,
           2006,
           2006,
           2015,
           2000,
           2016,
           2014,
           2011,
           2017,
           2007,
           2016,
           2005,
           2004,
           2006,
           2006,
           2013,
           2007,
           2009,
           2016,
           2013,
           2013,
           2017,
           1989,
           2017,
           2010,
           2012,
           2012,
           2015,
           2013,
           2017,
           2012,
           2014,
           2016,
           2014,
           2008,
           2017,
           2008,
           2014,
           2002,
           1998,
           2008,
           2003,
           2010,
           2018,
           2008,
           2015,
           2013,
           2018,
           2012,
           2010,
           2000,
           2000,
           2016,
           2013,
           2008,
           2004,
           2014,
           1999,
           2012,
           1987,
           2017,
           2018,
           2017,
           2017,
           2017,
           2018,
           2018,
           2001,
           2018,
           2017,
           2013,
           2018,
           2007,
           2015,
           2011,
           2011,
           2015,
           2015
          ],
          "coloraxis": "coloraxis",
          "size": 3,
          "symbol": "circle"
         },
         "mode": "markers",
         "name": "",
         "scene": "scene",
         "showlegend": false,
         "type": "scatter3d",
         "x": [
          8.704293251037598,
          -4.139036655426025,
          7.650305271148682,
          -7.104928493499756,
          6.411772727966309,
          -3.2764980792999268,
          -4.386070728302002,
          7.97554349899292,
          -8.911322593688965,
          10.401493072509766,
          10.963166236877441,
          7.820949554443359,
          -10.714333534240723,
          9.287507057189941,
          -2.6493091583251953,
          1.3593554496765137,
          -5.216958522796631,
          9.260420799255371,
          -5.338125705718994,
          8.22372817993164,
          -3.502052068710327,
          -4.633961200714111,
          8.024502754211426,
          -0.7401571273803711,
          -4.407985210418701,
          4.002875328063965,
          7.609097957611084,
          6.322536945343018,
          -4.974484443664551,
          6.118634223937988,
          9.185059547424316,
          0.5363003015518188,
          3.2644591331481934,
          -0.8197633028030396,
          4.441958427429199,
          9.057755470275879,
          -2.898268938064575,
          6.100154876708984,
          3.7147397994995117,
          -5.475306987762451,
          7.941522121429443,
          9.710785865783691,
          7.300088405609131,
          7.197044849395752,
          2.926180124282837,
          9.807209014892578,
          6.610568523406982,
          3.609334945678711,
          -2.082207202911377,
          2.089789867401123,
          9.858685493469238,
          8.637030601501465,
          9.349239349365234,
          6.955753326416016,
          1.3087238073349,
          3.9416370391845703,
          -10.64655590057373,
          0.21579325199127197,
          8.643573760986328,
          -4.835570812225342,
          -0.2080356329679489,
          -10.294814109802246,
          -4.382105827331543,
          11.678729057312012,
          -3.835296630859375,
          0.028626900166273117,
          -6.447026252746582,
          0.5991773009300232,
          -8.917738914489746,
          9.837360382080078,
          -4.1217780113220215,
          -0.7275242209434509,
          7.235662460327148,
          8.8478364944458,
          3.1240601539611816,
          8.680147171020508,
          -5.370822906494141,
          -8.592625617980957,
          8.16666030883789,
          -4.210043907165527,
          -4.728640079498291,
          4.234502792358398,
          -1.735705852508545,
          -6.537783145904541,
          5.227458477020264,
          3.0581753253936768,
          -4.91455078125,
          -4.829914569854736,
          -10.160661697387695,
          -2.1990044116973877,
          5.137204647064209,
          3.126237630844116,
          2.6978204250335693,
          -9.728181838989258,
          9.372896194458008,
          8.156758308410645,
          -4.171968936920166,
          0.8437086343765259,
          -4.498662948608398,
          9.532278060913086,
          0.5843117237091064,
          -2.9975130558013916,
          -4.835180759429932,
          6.222352504730225,
          -1.0079166889190674,
          7.903469085693359,
          -11.363837242126465,
          -5.4709296226501465,
          10.509133338928223,
          -2.9520301818847656,
          -2.3307533264160156,
          -5.922856330871582,
          -3.050243616104126,
          2.1391897201538086,
          -9.037835121154785,
          9.864664077758789,
          -0.8380253911018372,
          -3.8738927841186523,
          -15.056793212890625,
          -3.677381992340088,
          5.943123817443848,
          -7.023334503173828,
          6.287808895111084,
          -5.114404201507568,
          -0.5484601855278015,
          -9.722082138061523,
          -10.38003921508789,
          -2.2070152759552,
          9.977727890014648,
          8.366536140441895,
          -6.541074752807617,
          -3.974895715713501,
          -5.235136985778809,
          2.27793550491333,
          1.6032239198684692,
          4.5706562995910645,
          11.609342575073242,
          -8.142577171325684,
          -8.793384552001953,
          -5.305873394012451,
          -3.0287387371063232,
          8.551271438598633,
          11.159469604492188,
          9.330660820007324,
          4.4058098793029785,
          9.082897186279297,
          -8.698212623596191,
          3.7944674491882324,
          8.971710205078125,
          -9.095927238464355,
          -2.389906167984009,
          11.384889602661133,
          8.537663459777832,
          6.745549201965332,
          10.006952285766602,
          -3.3093502521514893,
          8.728399276733398,
          -2.436213493347168,
          -6.585869312286377,
          -1.2988998889923096,
          8.54691219329834,
          4.368927478790283,
          9.645901679992676,
          -0.7643964290618896,
          -2.901024341583252,
          -2.183321714401245,
          -1.3305087089538574,
          -4.217739582061768,
          -9.883172988891602,
          -9.085284233093262,
          -10.80538272857666,
          11.285765647888184,
          11.723870277404785,
          -9.614691734313965,
          0.49865543842315674,
          -2.406705379486084,
          7.431277751922607,
          11.219358444213867,
          -6.64812707901001,
          -3.3857481479644775,
          10.581241607666016,
          -2.2475547790527344,
          -8.731470108032227,
          -3.242252826690674,
          5.280158996582031,
          2.524336338043213,
          -5.849674701690674,
          -6.258542537689209,
          -4.001349449157715,
          -2.10754656791687,
          -3.9397666454315186,
          -2.898773431777954,
          -1.5352685451507568,
          -5.655934810638428,
          3.9558637142181396,
          2.0238595008850098,
          0.2708616554737091,
          -8.079764366149902,
          2.11857533454895,
          -4.304440975189209,
          -12.964685440063477,
          -3.9190590381622314,
          -11.84390926361084,
          0.8426122665405273,
          -14.758136749267578,
          -0.7954936623573303,
          3.9873833656311035,
          0.34228798747062683,
          -1.374157428741455,
          3.0574941635131836,
          11.943294525146484,
          7.333589553833008,
          9.995342254638672,
          7.7137980461120605,
          -16.43037223815918,
          -10.341713905334473,
          -8.108461380004883,
          -7.886123180389404,
          11.024674415588379,
          -10.350310325622559,
          9.229813575744629,
          11.246037483215332,
          -2.2687323093414307,
          -1.634841799736023,
          11.845621109008789,
          -1.006102204322815,
          -4.939021110534668,
          10.044904708862305,
          11.156021118164062,
          -4.1476731300354,
          9.929534912109375,
          12.0965576171875,
          10.844503402709961,
          10.08357048034668,
          6.382577896118164,
          3.8883538246154785,
          4.867395401000977,
          -5.8133745193481445,
          -14.135479927062988,
          9.64412784576416,
          0.7266406416893005,
          -5.790762424468994,
          10.424834251403809,
          -8.651074409484863,
          9.508780479431152,
          10.879097938537598,
          -9.727805137634277,
          -6.489939212799072,
          8.235078811645508,
          9.313289642333984,
          9.581745147705078,
          -2.306135416030884,
          1.6822539567947388,
          0.8935791254043579,
          5.449260234832764,
          12.773249626159668,
          -11.362814903259277,
          0.24054373800754547,
          -10.777135848999023,
          6.676252841949463,
          11.92141056060791,
          -4.5483293533325195,
          9.791319847106934,
          -4.7307891845703125,
          -4.98400354385376,
          8.259355545043945,
          -15.083325386047363,
          3.3683886528015137,
          3.182914972305298,
          2.757110834121704,
          -10.335015296936035,
          6.556894779205322,
          -5.131139755249023,
          3.9977493286132812,
          -13.309853553771973,
          9.058048248291016,
          10.439139366149902,
          10.918863296508789,
          -3.4275481700897217,
          4.699059963226318,
          0.013883802108466625,
          10.501364707946777,
          -5.297064781188965,
          10.492212295532227,
          -1.4585517644882202,
          -2.7111196517944336,
          3.834040880203247,
          0.48511141538619995,
          9.037958145141602,
          -5.328594207763672,
          8.743608474731445,
          -5.403300762176514,
          9.079185485839844,
          -15.596874237060547,
          4.791772842407227,
          10.054024696350098,
          -6.236945629119873,
          -9.924323081970215,
          -9.393321990966797,
          1.0744367837905884,
          0.15360578894615173,
          -13.961686134338379,
          -13.280682563781738,
          10.252801895141602,
          -12.939318656921387,
          1.2869518995285034,
          10.324501037597656,
          11.638636589050293,
          -14.543722152709961,
          -3.1503140926361084,
          -11.235909461975098,
          -11.585132598876953,
          -8.55416202545166,
          0.8428404331207275,
          10.49836254119873,
          -7.576706886291504,
          -4.735044002532959,
          -10.860001564025879,
          0.37045204639434814,
          -15.662259101867676,
          11.813536643981934,
          3.370579242706299,
          1.4039051532745361,
          9.649808883666992,
          8.338691711425781,
          -4.189075469970703,
          4.201066970825195,
          -8.74294662475586,
          -11.4763765335083,
          -12.9406099319458,
          -0.6227892637252808,
          -10.88197135925293,
          -6.377798080444336,
          8.63202953338623,
          -4.715816497802734,
          -9.187231063842773,
          -5.9678215980529785,
          3.51839017868042,
          -2.270179271697998,
          -5.0625386238098145,
          -4.5023956298828125,
          5.576223850250244,
          3.5072007179260254,
          4.621981143951416,
          -1.6956504583358765,
          -1.7235112190246582,
          -10.77491283416748,
          2.9417619705200195,
          6.3698835372924805,
          -5.653842926025391,
          -10.669624328613281,
          -15.279488563537598,
          0.3474824130535126,
          11.274761199951172,
          -1.301908254623413,
          -1.811741828918457,
          9.129926681518555,
          4.282683849334717,
          8.345787048339844,
          -2.5581209659576416,
          0.4672568738460541,
          0.8737252354621887,
          8.585498809814453,
          -9.995361328125,
          8.43846321105957,
          -14.880515098571777,
          -10.831310272216797,
          8.861303329467773,
          5.7713117599487305,
          11.611976623535156,
          -6.07636833190918,
          -9.167946815490723,
          10.273894309997559,
          -11.454174041748047,
          5.5740180015563965,
          -2.225383758544922,
          -8.53625774383545,
          -5.092057228088379,
          -5.843944072723389,
          -3.76145076751709,
          -11.036060333251953,
          -3.410979986190796,
          -12.888411521911621,
          0.7076561450958252,
          0.6089787483215332,
          10.359701156616211,
          3.2103991508483887,
          7.413571357727051,
          5.3976216316223145,
          8.852766990661621,
          -10.653022766113281,
          -6.56152868270874,
          4.745137691497803,
          4.786319255828857,
          -3.948618173599243,
          2.341693639755249,
          -5.385477066040039,
          -10.205418586730957,
          -8.568754196166992,
          -6.004495620727539,
          -2.8084990978240967,
          -2.728638172149658,
          -5.564912796020508,
          -2.7578349113464355,
          -2.9329957962036133,
          7.670142650604248,
          -4.693630695343018,
          -6.620129108428955,
          -1.9672373533248901,
          -6.169509410858154,
          6.344236850738525,
          -10.914607048034668,
          -6.278210163116455,
          -4.737155437469482,
          0.886767566204071,
          -4.846341609954834,
          -5.8609209060668945,
          -9.61755084991455,
          -4.9751434326171875,
          -4.977700233459473,
          -6.672818183898926,
          -3.770134449005127,
          -7.465539455413818,
          -8.80303955078125,
          -5.003715991973877,
          -3.8358302116394043,
          -4.297212600708008,
          -2.8415534496307373,
          0.8750181794166565,
          -7.09772253036499,
          -4.941472053527832,
          -10.523824691772461,
          -3.441399097442627,
          -3.713352918624878,
          1.6033250093460083,
          12.632524490356445,
          8.330267906188965,
          -6.789255619049072,
          8.7579927444458,
          -6.230187892913818,
          -6.067681789398193,
          -7.761486053466797,
          -1.7700401544570923,
          -1.1537562608718872,
          -2.0972535610198975,
          -6.832413196563721,
          -2.8766820430755615,
          -1.4106472730636597,
          -3.7101919651031494,
          7.411334037780762,
          -5.63835334777832,
          -1.3555418252944946,
          -4.6688103675842285,
          -4.1998724937438965,
          -2.766292095184326,
          -8.381089210510254,
          1.850698709487915,
          -6.508480072021484,
          1.182106375694275,
          -6.506227970123291,
          -2.805974245071411,
          8.222559928894043,
          -2.3520054817199707,
          6.365585803985596,
          3.167253255844116,
          10.413926124572754,
          1.2194793224334717,
          10.362058639526367,
          -1.117077112197876,
          -4.123704433441162,
          -6.404860496520996,
          -2.703547477722168,
          -6.21198034286499,
          10.195930480957031,
          -6.063858509063721,
          -2.1068661212921143,
          2.5243232250213623,
          6.399257659912109,
          -4.399855136871338,
          -1.469927430152893,
          -2.7320497035980225,
          -6.0218987464904785,
          10.531715393066406,
          0.5012587308883667,
          -5.948735237121582,
          -1.1096447706222534,
          8.13131046295166,
          8.630845069885254,
          8.145264625549316,
          -3.431849241256714,
          2.907402753829956,
          3.572981834411621,
          -4.693622589111328,
          -1.2066441774368286,
          -4.619569778442383,
          0.4850339889526367,
          -8.506869316101074,
          -2.8736374378204346,
          2.8977928161621094,
          0.7126839756965637,
          -6.3714141845703125,
          -0.8805770874023438,
          4.29764986038208,
          9.78324031829834,
          3.6316566467285156,
          9.430503845214844,
          9.715717315673828,
          4.193360328674316,
          -9.18483829498291,
          -9.793379783630371,
          2.8428046703338623,
          -5.64016056060791,
          -2.7125062942504883,
          -5.5467705726623535,
          -4.4166059494018555,
          -7.5940470695495605,
          -2.951934337615967,
          -3.479501962661743,
          1.9176253080368042,
          -2.5484354496002197,
          -5.547865390777588,
          2.371497392654419,
          -6.46694803237915,
          1.1361981630325317,
          -1.8002618551254272,
          0.14111843705177307,
          5.741696834564209,
          7.533933162689209,
          -8.88193130493164,
          -0.03768099844455719,
          -5.288020133972168,
          -2.453303098678589,
          -0.3827257752418518,
          4.606079578399658,
          -15.18908977508545,
          -0.07951773703098297,
          1.7901923656463623,
          -0.6898254156112671,
          4.00070858001709,
          -5.151467800140381,
          4.583382606506348,
          4.112107753753662,
          3.8917174339294434,
          6.303596019744873,
          -2.3797526359558105,
          -1.4257410764694214,
          0.2901363670825958,
          0.42005109786987305,
          -13.155866622924805,
          0.5228459239006042,
          1.1187442541122437,
          -1.8860477209091187,
          -13.467219352722168,
          -3.5090577602386475,
          -12.002318382263184,
          -4.141442775726318,
          -10.351362228393555,
          -8.398573875427246,
          -1.5338386297225952,
          -4.363157749176025,
          1.0627012252807617,
          -3.981283187866211,
          -4.565086841583252,
          -4.546716690063477,
          -6.340681076049805,
          -8.74748420715332,
          -2.3119499683380127,
          0.22984126210212708,
          -2.009687900543213,
          6.306071758270264,
          2.339015245437622,
          -1.314649224281311,
          4.314897537231445,
          9.678475379943848,
          -1.8949308395385742,
          9.845658302307129,
          0.38944414258003235,
          11.506562232971191,
          -0.18205691874027252,
          9.980072021484375,
          -4.239470481872559,
          0.34611159563064575,
          2.212749481201172,
          -9.56458854675293,
          -8.857858657836914,
          -13.104084968566895,
          -11.700007438659668,
          -1.9412328004837036,
          6.035621166229248,
          -6.607170581817627,
          -2.8849399089813232,
          -3.725494861602783,
          -2.8764491081237793,
          -11.091109275817871,
          -0.448987752199173,
          0.7636981010437012,
          1.288305401802063,
          -9.053163528442383,
          8.397682189941406,
          8.697701454162598,
          -9.62716007232666,
          -4.661574363708496,
          -3.880000114440918,
          -5.625603199005127,
          -16.315988540649414,
          9.777488708496094,
          -13.733383178710938,
          -5.383169174194336,
          -11.023603439331055,
          -10.654611587524414,
          9.906244277954102,
          -10.100497245788574,
          9.462493896484375,
          -5.487458229064941,
          -6.557602882385254,
          -1.776583194732666,
          0.7115044593811035,
          -4.608719825744629,
          -4.243330001831055,
          -13.722033500671387,
          -4.115830898284912,
          8.921246528625488,
          6.8440470695495605,
          10.160240173339844,
          11.599028587341309,
          8.11463451385498,
          -0.22867870330810547,
          8.513418197631836,
          -5.200998306274414,
          -6.361741542816162,
          8.036529541015625,
          8.73946762084961,
          -4.249361515045166,
          -6.265801429748535,
          3.470250368118286,
          -6.862885475158691,
          -11.453490257263184,
          10.274495124816895,
          -5.374263763427734,
          -9.871467590332031,
          -4.382905960083008,
          -6.1615495681762695,
          -5.537619113922119,
          -9.969369888305664,
          6.245270729064941,
          -7.60330867767334,
          -3.667431116104126,
          -5.711633205413818,
          5.242593765258789,
          12.279502868652344,
          11.9945707321167,
          -2.7181830406188965,
          -8.762828826904297,
          6.243257522583008,
          -7.210953235626221,
          -1.0548688173294067,
          -10.0394926071167,
          -2.5954959392547607,
          -9.879271507263184,
          -5.889804363250732,
          8.391114234924316,
          -8.463488578796387,
          -5.52551794052124,
          -8.843528747558594,
          -15.619677543640137,
          3.203242063522339,
          11.218793869018555,
          -6.479920864105225,
          -6.483772277832031,
          -6.556600093841553,
          -2.4130237102508545,
          -2.5486414432525635,
          6.44672155380249,
          -4.133890628814697,
          -10.9307279586792,
          6.0769548416137695,
          -9.030085563659668,
          -6.757571220397949,
          -7.66476583480835,
          10.389111518859863,
          -1.208491563796997,
          -10.131715774536133,
          -6.532329082489014,
          -10.913958549499512,
          8.16426944732666,
          3.3547468185424805,
          0.502902090549469,
          -5.8302483558654785,
          5.248621463775635,
          0.45657825469970703,
          -2.5311732292175293,
          -4.595911026000977,
          2.5241713523864746,
          -7.28040885925293,
          -4.019564628601074,
          -5.201643466949463,
          6.733517646789551,
          9.11744213104248,
          1.0102866888046265,
          -3.2195208072662354,
          -11.789607048034668,
          -4.659754276275635,
          -5.909727096557617,
          10.960898399353027,
          11.39387321472168,
          -0.6153159141540527,
          1.0957802534103394,
          5.030837059020996,
          -4.945983409881592,
          4.722202777862549,
          10.510048866271973,
          0.7319071292877197,
          -2.335861921310425,
          -5.087619781494141,
          -9.342878341674805,
          -6.214287757873535,
          1.664886474609375,
          3.914121389389038,
          -3.6046814918518066,
          6.206052780151367,
          6.067797660827637,
          -5.093864440917969,
          -3.6216747760772705,
          7.785966873168945,
          -6.597324371337891,
          -2.042292356491089,
          -8.470874786376953,
          -2.9816198348999023,
          -2.2573249340057373,
          -1.7388824224472046,
          -4.54994535446167,
          -4.11765718460083,
          -5.146917819976807,
          -4.628517150878906,
          -4.185176849365234,
          -6.195461273193359,
          -1.191507339477539,
          -10.81714916229248,
          0.6082056164741516,
          -10.296708106994629,
          -9.505748748779297,
          -4.68446159362793,
          -3.0276107788085938,
          -5.815832614898682,
          -14.170011520385742,
          -1.9259862899780273,
          9.211800575256348,
          -6.4345221519470215,
          -2.8911046981811523,
          8.024348258972168,
          -2.565537452697754,
          -4.80846643447876,
          11.541848182678223,
          -4.073395729064941,
          1.1912747621536255,
          -6.416679382324219,
          0.9996651411056519,
          -3.001254081726074,
          0.23799243569374084,
          9.323570251464844,
          -6.220829010009766,
          5.377819538116455,
          -6.690524101257324,
          -9.446170806884766,
          -5.514145374298096,
          -10.23013973236084,
          -14.200482368469238,
          10.159292221069336,
          0.8158928155899048,
          0.7151628732681274,
          8.321736335754395,
          -0.3443695306777954,
          -1.7199760675430298,
          10.24043083190918,
          -1.1791049242019653,
          7.8254218101501465,
          10.30092716217041,
          -10.532201766967773,
          8.472928047180176,
          6.917027473449707,
          -6.482349872589111,
          -5.031982898712158,
          -1.4881412982940674,
          -0.3150026500225067,
          2.6576499938964844,
          -5.033135414123535,
          -2.8630404472351074,
          -3.5902273654937744,
          10.247858047485352,
          -2.6902666091918945,
          5.46578311920166,
          -3.868129253387451,
          1.5540481805801392,
          3.090150833129883,
          3.2114763259887695,
          -2.0775904655456543,
          0.2998558282852173,
          -3.7683815956115723,
          -2.947645664215088,
          0.8917161822319031,
          -3.124300956726074,
          -2.7092816829681396,
          -0.9957349300384521,
          -5.209218502044678,
          3.836308002471924,
          4.540407657623291,
          0.3429209887981415,
          3.5937397480010986,
          -0.9037900567054749,
          -1.0022337436676025,
          -6.041606903076172,
          3.6094822883605957,
          -3.5049362182617188,
          -11.103798866271973,
          -5.736438751220703,
          5.819863796234131,
          -3.7528235912323,
          9.88033390045166,
          -9.011563301086426,
          -4.895603656768799,
          0.2075953632593155,
          3.2451090812683105,
          -5.679823875427246,
          -3.8458986282348633,
          2.816389799118042,
          -12.157261848449707,
          -3.299147367477417,
          -0.8378867506980896,
          2.729567527770996,
          -8.524840354919434,
          5.9539055824279785,
          3.740992307662964,
          -6.468143463134766,
          4.50860071182251,
          -10.931057929992676,
          -10.391670227050781,
          3.845954418182373,
          9.379962921142578,
          7.178515434265137,
          10.57856559753418,
          1.546475887298584,
          4.255288600921631,
          2.3520050048828125,
          4.676024913787842,
          9.345203399658203,
          10.485692024230957,
          -1.4975372552871704,
          -4.919164657592773,
          6.124715805053711,
          8.303338050842285,
          -4.672325611114502,
          7.147655010223389,
          5.7183918952941895,
          8.692611694335938,
          9.093177795410156,
          -2.3411123752593994,
          10.90656852722168,
          2.976611614227295,
          4.515347003936768,
          2.9425876140594482,
          9.109333992004395,
          -5.889157772064209,
          9.093367576599121,
          -3.96701979637146,
          -10.412500381469727,
          -9.233627319335938,
          -9.648411750793457,
          4.117364406585693,
          0.287486732006073,
          2.1687405109405518,
          9.363147735595703,
          1.0262497663497925,
          6.628772735595703,
          -6.033132076263428,
          -9.471134185791016,
          -6.58734655380249,
          -9.29964542388916,
          -4.765480041503906,
          3.2155232429504395,
          10.826093673706055,
          -5.27685022354126,
          0.5371868014335632,
          -5.479280471801758,
          -5.713817596435547,
          -1.0688745975494385,
          5.277638912200928,
          1.3268262147903442,
          -9.203932762145996,
          -3.773094654083252,
          3.8249690532684326,
          1.5655982494354248,
          -2.3422389030456543,
          -4.976260185241699,
          -1.0312763452529907,
          7.448089599609375,
          2.8898470401763916,
          -10.921573638916016,
          4.4255690574646,
          7.13078498840332,
          0.42317819595336914,
          8.340014457702637,
          -4.472381114959717,
          3.312126398086548,
          4.373497009277344,
          1.666474461555481,
          6.167385101318359,
          -4.663367748260498,
          1.604312777519226,
          0.7224979400634766,
          0.882726788520813,
          -3.916929244995117,
          1.6716076135635376,
          0.8041390776634216,
          -7.759758472442627,
          0.960403561592102,
          9.97650146484375,
          6.237534523010254,
          1.5851294994354248,
          -4.207693099975586,
          0.13320067524909973,
          -9.109880447387695,
          0.23435203731060028,
          -6.492404460906982,
          1.2109150886535645,
          6.955760955810547,
          -1.8226624727249146,
          2.689131736755371,
          -9.571544647216797,
          1.1327340602874756,
          -8.287325859069824,
          -13.342571258544922,
          -5.203579425811768,
          -0.7723550200462341,
          0.4838951528072357,
          -1.6550320386886597,
          8.412863731384277,
          -1.5179020166397095,
          -6.56326961517334,
          -7.897471904754639,
          -9.177268028259277,
          -1.3133807182312012,
          4.2418599128723145,
          11.311833381652832,
          8.045348167419434,
          7.697753429412842,
          -1.2548191547393799,
          7.083050727844238,
          -4.631653785705566,
          -4.460224151611328,
          -0.7253100872039795,
          -4.43666934967041,
          -5.986562252044678,
          -4.835696697235107,
          -9.401515007019043,
          -3.0879557132720947,
          7.539156913757324,
          7.943776607513428,
          2.9916486740112305,
          -3.518967390060425,
          4.499203681945801,
          7.631053924560547,
          -4.813787937164307,
          3.8079559803009033,
          -3.983461856842041,
          -5.698602676391602,
          -0.771375298500061,
          5.02520751953125,
          1.8358360528945923,
          1.2454739809036255,
          -8.394927024841309,
          -1.781799077987671,
          -2.7925517559051514,
          -3.048908233642578,
          0.10037747025489807,
          -1.747831106185913,
          6.520714282989502,
          -3.97171950340271,
          -7.02594518661499,
          -2.6220695972442627,
          3.648928165435791,
          -11.962153434753418,
          -6.623903751373291,
          2.1561524868011475,
          2.285423517227173,
          6.3019185066223145,
          -2.4456045627593994,
          -1.8096004724502563,
          -9.452224731445312,
          -13.876384735107422,
          5.555544853210449,
          3.512209415435791,
          6.147050857543945,
          -0.3546765446662903,
          4.77506685256958,
          -1.0910378694534302,
          -1.735785961151123,
          -1.4882668256759644,
          9.169957160949707,
          -6.661131858825684,
          8.789973258972168,
          6.7153191566467285,
          -1.8761590719223022,
          7.477287292480469,
          0.234704852104187,
          -3.1569740772247314,
          2.136751651763916,
          5.51295280456543,
          -15.240180015563965,
          -5.7935285568237305,
          1.4646728038787842,
          -6.209278106689453,
          -7.453145503997803,
          8.706130027770996,
          4.39474630355835,
          8.387005805969238,
          -2.1943142414093018,
          5.811270713806152,
          -0.501112163066864,
          1.1543350219726562,
          -2.659688949584961,
          -1.7881149053573608,
          -13.904950141906738,
          -2.303018808364868,
          4.113409519195557,
          -2.478830099105835,
          -7.600117206573486,
          -9.116039276123047,
          2.568203926086426,
          -4.067874908447266,
          -9.77481460571289,
          -2.9572863578796387,
          -6.639455318450928,
          10.92046070098877,
          2.6638073921203613,
          -2.278787136077881,
          -12.294073104858398,
          1.591749906539917,
          3.5284194946289062,
          -6.3440399169921875,
          -2.718458890914917,
          -11.40017318725586,
          1.7169184684753418,
          -6.418701648712158,
          6.8505473136901855,
          3.8773210048675537,
          -2.5832338333129883,
          1.767716646194458,
          8.173534393310547,
          4.156335830688477,
          -4.6219282150268555,
          3.9722769260406494,
          -4.941226005554199,
          9.559231758117676,
          5.162850379943848,
          2.719180107116699,
          4.488659381866455,
          -7.349494934082031,
          -7.730731010437012,
          -0.8117250800132751,
          4.65303373336792,
          6.6511311531066895,
          -1.714083194732666,
          3.807568311691284,
          9.375720977783203,
          5.745414733886719,
          6.6635918617248535,
          -2.485550880432129,
          7.284389495849609,
          1.1764402389526367,
          7.533701419830322,
          -0.7713037133216858,
          -4.033571720123291,
          -5.580763816833496,
          4.353846549987793,
          9.528448104858398,
          -1.585899829864502,
          3.4404706954956055,
          3.4116642475128174,
          1.431160807609558,
          -4.3727922439575195,
          -4.585679531097412,
          3.1075057983398438,
          -0.9263247847557068,
          7.7212605476379395,
          -6.434565544128418,
          3.413771867752075,
          10.066391944885254,
          -4.69270133972168,
          6.2595038414001465,
          -0.9890294671058655,
          -3.9075114727020264,
          4.070711135864258,
          4.058598518371582,
          4.849199295043945,
          0.6448563933372498,
          2.945535898208618,
          -4.37415075302124,
          5.367772579193115,
          -0.7337467670440674,
          6.426803112030029,
          -3.624257802963257,
          5.312828540802002,
          7.230290412902832,
          7.666463851928711,
          6.102724552154541,
          6.602533340454102,
          -5.235029220581055,
          6.590878009796143,
          -8.460074424743652,
          3.732440948486328,
          -4.840184688568115,
          2.138359308242798,
          10.01124382019043,
          3.2027552127838135,
          -4.900015354156494,
          9.946866035461426,
          -7.6862921714782715,
          0.7280000448226929,
          -1.6339484453201294,
          3.143911361694336,
          -5.610992431640625,
          -2.9195659160614014,
          -2.866197347640991,
          -3.632045269012451,
          -4.166354656219482,
          0.9181744456291199,
          3.0135607719421387,
          6.797483921051025,
          5.674600124359131,
          5.759363651275635,
          -0.9738283157348633,
          -2.585603952407837,
          9.369405746459961,
          4.253961086273193,
          4.529520511627197,
          -9.236088752746582,
          2.0486156940460205,
          -5.368786334991455,
          8.576787948608398,
          3.114971399307251,
          1.5867860317230225,
          3.160597324371338,
          5.437353134155273,
          6.4197797775268555,
          -8.276257514953613,
          -15.553531646728516,
          -0.8574467897415161,
          -5.418114185333252,
          -1.7044583559036255,
          6.445324897766113,
          -4.885605812072754,
          11.93728256225586,
          -15.21826171875,
          -3.00026535987854,
          4.131311416625977,
          11.45378303527832,
          11.557540893554688,
          2.943816900253296,
          -9.106369972229004,
          -2.0926647186279297,
          10.583178520202637,
          8.868481636047363,
          -7.720670223236084,
          -9.169111251831055,
          0.9269648194313049,
          -2.5693750381469727,
          -4.656132698059082,
          6.583008289337158,
          -4.877029895782471,
          5.429243564605713,
          3.151411771774292,
          1.0269287824630737,
          2.809852361679077,
          10.969045639038086,
          0.07296473532915115,
          7.904544353485107,
          -6.545592308044434,
          9.059844017028809,
          6.046777725219727,
          -0.9526417851448059,
          1.348716378211975,
          -5.81682825088501,
          -5.289950370788574,
          11.84649658203125,
          6.440019130706787,
          4.6143107414245605,
          1.8645236492156982,
          -2.987786293029785,
          -2.9688055515289307,
          7.885329723358154,
          -13.37917709350586,
          -1.651014804840088,
          3.1735610961914062,
          8.228066444396973,
          6.717301368713379,
          3.566136121749878,
          -5.157379627227783,
          0.7336376309394836,
          -1.2660976648330688,
          3.9441776275634766,
          -1.3791247606277466,
          2.9378130435943604,
          9.735422134399414,
          5.78406286239624,
          -11.3284330368042,
          -3.3614442348480225,
          -7.460392475128174,
          -3.824174404144287,
          -7.890016078948975,
          -2.6662306785583496,
          -1.8257174491882324,
          0.22670415043830872,
          -6.310021877288818,
          -3.1562294960021973,
          3.711332082748413,
          -10.872115135192871,
          -8.828306198120117,
          -3.2666139602661133,
          -2.1791276931762695,
          3.2187304496765137,
          -1.550544261932373,
          4.797627925872803,
          0.8540320992469788,
          2.722822666168213,
          0.6713914275169373,
          1.3163632154464722,
          3.719876766204834,
          -3.793529748916626,
          1.7044132947921753,
          1.2238030433654785,
          -3.664957046508789,
          4.343958854675293,
          7.9043660163879395,
          6.435798168182373,
          6.204006195068359,
          6.111028671264648,
          2.153179407119751,
          2.8075995445251465,
          -12.84133529663086,
          -0.18710753321647644,
          2.1561331748962402,
          10.112442016601562,
          -3.4507572650909424,
          4.042971611022949,
          -7.0548014640808105,
          5.966737747192383,
          -8.9115571975708,
          3.035612106323242,
          3.4844846725463867,
          1.7658272981643677,
          -5.247718811035156,
          -1.9666084051132202,
          -1.9898929595947266,
          -1.5846288204193115,
          3.304323434829712,
          -7.558939456939697,
          -4.485786437988281,
          -4.702434062957764,
          10.357994079589844,
          10.182218551635742,
          3.5659801959991455,
          4.137762069702148,
          5.063961982727051,
          -9.364779472351074,
          -9.402318954467773,
          -2.266634941101074,
          1.1817885637283325,
          5.642655372619629,
          6.4290666580200195,
          -4.007133483886719,
          -3.1525135040283203,
          5.913961887359619,
          -4.362691402435303,
          10.993570327758789,
          9.768071174621582,
          7.553627967834473,
          8.405964851379395,
          3.9491636753082275,
          -4.4724555015563965,
          0.4559953510761261,
          6.151278972625732,
          4.114162445068359,
          -7.471774578094482,
          9.523658752441406,
          4.180212497711182,
          1.8590971231460571,
          8.54759407043457,
          2.7814834117889404,
          1.2182347774505615,
          -8.792862892150879,
          -3.5713722705841064,
          -5.189844131469727,
          -1.2020045518875122,
          -5.684970855712891,
          -8.494668006896973,
          7.143911361694336,
          -0.13814151287078857,
          0.5175233483314514,
          -1.6245921850204468,
          -2.7690696716308594,
          -5.331725597381592,
          -1.7863490581512451,
          -6.052968502044678,
          1.6928319931030273,
          -3.191897392272949,
          -7.755220890045166,
          -5.994311332702637,
          -8.027470588684082,
          -4.9275593757629395,
          10.924506187438965,
          4.380937099456787,
          3.2833309173583984,
          4.525510311126709,
          6.0787811279296875,
          -3.585710048675537,
          -4.519351005554199,
          -5.0514960289001465,
          1.21280038356781,
          10.963048934936523,
          6.960514068603516,
          9.894441604614258,
          -7.731283664703369,
          5.819833278656006,
          5.844270706176758,
          0.7307972311973572,
          5.449779510498047,
          -4.756418704986572,
          5.486868381500244,
          9.410994529724121,
          5.499691486358643,
          11.399473190307617,
          6.768979549407959,
          7.955089569091797,
          12.238300323486328,
          7.589282989501953,
          9.442350387573242,
          3.4682254791259766,
          4.72376823425293,
          1.3835493326187134,
          10.902639389038086,
          -3.2502408027648926,
          4.544869899749756,
          -5.140096187591553,
          -2.4466187953948975,
          9.183366775512695,
          -1.301908254623413,
          6.4998884201049805,
          0.8904514312744141,
          1.5527766942977905,
          7.3285651206970215,
          1.200277328491211,
          7.126391410827637,
          -1.7118477821350098,
          6.758245468139648,
          11.751626968383789,
          5.771312713623047,
          -9.064810752868652,
          3.097567081451416,
          5.440029144287109,
          6.065163612365723,
          8.547866821289062,
          6.569238185882568,
          -15.1411714553833,
          -4.99977445602417,
          -6.492404937744141,
          -9.666593551635742,
          4.590579509735107,
          2.6785922050476074,
          6.8016839027404785,
          -3.8098201751708984,
          -1.0392906665802002,
          -6.437227725982666,
          10.039554595947266,
          3.312268018722534,
          12.117594718933105,
          -5.201267719268799,
          9.479681968688965,
          5.505298614501953,
          -3.8407530784606934,
          3.5578696727752686,
          3.565704822540283,
          6.585670471191406,
          6.2424821853637695,
          0.8663617372512817,
          3.241083860397339,
          4.770468235015869,
          -14.954415321350098,
          3.1704752445220947,
          4.932884216308594,
          7.406201362609863,
          4.980977535247803,
          -9.012969017028809,
          3.8726415634155273,
          7.326816558837891,
          8.220451354980469,
          5.435205936431885,
          5.910003662109375,
          5.707648277282715,
          5.475873947143555,
          9.183481216430664,
          -9.165597915649414,
          -4.500298023223877,
          -4.540284633636475,
          -4.780481815338135,
          -3.5538387298583984,
          -6.323413848876953,
          -2.1754310131073,
          0.16026800870895386,
          -9.765363693237305,
          -0.2707834243774414,
          -10.4303560256958,
          -4.979321002960205,
          -5.743748664855957,
          -6.426088333129883,
          -3.926609516143799,
          -4.840073108673096,
          -1.5310686826705933,
          -6.327459812164307,
          -4.338192462921143,
          -6.079944133758545,
          -4.418513298034668,
          -13.788782119750977,
          -9.598745346069336,
          -1.9070101976394653,
          1.9137413501739502,
          -9.399794578552246,
          -4.151772975921631,
          3.2346584796905518,
          -3.0521581172943115,
          -2.3105549812316895,
          -2.3735551834106445,
          -5.36387825012207,
          -5.538652420043945,
          -9.176097869873047,
          -9.722492218017578,
          -5.366690158843994,
          0.5037643909454346,
          -5.007078170776367,
          0.12405402958393097,
          -4.086287498474121,
          1.408603310585022,
          3.251322031021118,
          -9.958141326904297,
          -2.3003921508789062,
          -4.7993059158325195,
          -4.605711936950684,
          2.6236460208892822,
          12.115264892578125,
          2.5817532539367676,
          1.0129555463790894,
          1.7782530784606934,
          7.053651332855225,
          1.7343759536743164,
          -5.0463643074035645,
          -5.155915260314941,
          6.389113426208496,
          4.357868194580078,
          -6.3677167892456055,
          -8.911728858947754,
          -6.1431989669799805,
          -1.3987880945205688,
          -5.096665859222412,
          4.2277607917785645,
          -6.489243984222412,
          2.2357513904571533,
          -5.749878406524658,
          -6.639071941375732,
          -9.03068733215332,
          -1.8150616884231567,
          -10.35107421875,
          4.460693836212158,
          3.6710190773010254,
          -4.532937049865723,
          9.064647674560547,
          -5.72033166885376,
          -11.317129135131836,
          4.473603248596191,
          -8.426496505737305,
          0.06292351335287094,
          2.1782500743865967,
          -4.050414085388184,
          -5.14103364944458,
          8.11170768737793,
          -1.6262669563293457,
          -9.199490547180176,
          12.87456226348877,
          -5.7943596839904785,
          8.128602981567383,
          8.332653999328613,
          7.824459552764893,
          9.655294418334961,
          5.48789644241333,
          9.831643104553223,
          4.570135593414307,
          3.9155683517456055,
          1.3126975297927856,
          2.93611478805542,
          7.995450973510742,
          -4.598228931427002,
          1.899788737297058,
          8.105609893798828,
          7.081755638122559,
          -4.260704517364502,
          -9.61938762664795,
          -2.7665436267852783,
          -6.710700511932373,
          9.041581153869629,
          8.86014461517334,
          -5.2224016189575195,
          9.924019813537598,
          -7.134169101715088,
          -0.6242925524711609,
          0.7171372771263123,
          0.12405402958393097,
          -2.291959285736084,
          7.517822742462158,
          -7.611264705657959,
          4.55003547668457,
          0.13044191896915436,
          7.920063495635986,
          8.027124404907227,
          -11.613314628601074,
          -15.351773262023926,
          6.335012435913086,
          5.672916412353516,
          7.625829219818115,
          11.642378807067871,
          8.79707145690918,
          6.80323600769043,
          8.695145606994629,
          -4.009803771972656,
          -3.4596283435821533,
          6.7474212646484375,
          8.039776802062988,
          4.020622730255127,
          7.6135053634643555,
          8.925145149230957,
          9.448264122009277,
          2.1635000705718994,
          11.454386711120605,
          10.034732818603516,
          10.632871627807617,
          -1.8151401281356812,
          -1.9817800521850586,
          -6.566966533660889,
          2.5693726539611816,
          -2.314755916595459,
          -6.531599998474121,
          6.140996932983398,
          6.921168327331543,
          -11.41152572631836,
          -6.534879684448242,
          9.664809226989746,
          -4.0651140213012695,
          10.560678482055664,
          8.290618896484375,
          9.498473167419434,
          -11.247530937194824,
          -11.289201736450195,
          -6.06084680557251,
          -13.018045425415039,
          4.84287691116333,
          -11.673688888549805,
          7.293610095977783,
          -3.107605218887329,
          2.752821922302246,
          0.5814622044563293,
          4.000953674316406,
          -0.6211714744567871,
          9.973286628723145,
          4.078636169433594,
          -1.127689003944397,
          2.7415316104888916,
          -0.6591402292251587,
          3.5336384773254395,
          3.0634727478027344,
          -10.055537223815918,
          3.596808671951294,
          -1.2301632165908813,
          -9.704829216003418,
          4.033441543579102,
          -8.546082496643066,
          4.174582004547119,
          -3.9135866165161133,
          -0.8350594639778137,
          -4.32304048538208,
          -9.233375549316406,
          -3.8453521728515625,
          2.2467761039733887,
          5.502992153167725,
          -2.955345392227173,
          6.331297397613525,
          11.347814559936523,
          -3.692986249923706,
          4.739999771118164,
          -3.5076329708099365,
          4.056551933288574,
          4.530647277832031,
          3.552121877670288,
          7.738785266876221,
          3.5602145195007324,
          3.094792127609253,
          3.8510961532592773,
          -9.224359512329102,
          1.7830883264541626,
          9.960554122924805,
          2.8887951374053955,
          3.284228801727295,
          11.082447052001953,
          3.6763265132904053,
          1.422982096672058,
          6.619035243988037,
          6.707247257232666,
          -5.55116605758667,
          6.773212432861328,
          8.199694633483887,
          6.387880802154541,
          7.860958099365234,
          8.417625427246094,
          8.369839668273926,
          8.016922950744629,
          6.637988567352295,
          -4.779282093048096,
          -2.4735665321350098,
          6.517478942871094,
          -5.854772090911865,
          -7.271258354187012,
          -0.9792433381080627,
          -11.31454849243164,
          9.486893653869629,
          9.900530815124512,
          4.074326515197754,
          -9.185482025146484,
          -6.0439133644104,
          -8.146344184875488,
          3.8870463371276855,
          -8.964742660522461,
          -10.371794700622559,
          -2.1502981185913086,
          -1.1537582874298096,
          4.87050199508667,
          9.613560676574707,
          7.782327175140381,
          -9.787537574768066,
          -0.6953852772712708,
          -13.668047904968262,
          2.1489431858062744,
          2.2393229007720947,
          1.981636643409729,
          -3.736971855163574,
          4.8226189613342285,
          -6.547560691833496,
          2.4596850872039795,
          -7.67072868347168,
          -0.5502134561538696,
          9.23905086517334,
          -4.341866493225098,
          1.3323471546173096,
          3.9809107780456543,
          3.6638338565826416,
          1.959688425064087,
          9.647364616394043,
          -3.543147087097168
         ],
         "y": [
          6.738239765167236,
          -4.634756565093994,
          -1.8566333055496216,
          -2.0869104862213135,
          -4.191954612731934,
          -4.89675760269165,
          -7.382198810577393,
          -6.081028461456299,
          -7.151124000549316,
          -1.513929009437561,
          5.108429431915283,
          -2.377927780151367,
          -7.258169651031494,
          0.4211570918560028,
          -15.937959671020508,
          -4.974299430847168,
          -3.0103495121002197,
          -0.8214096426963806,
          -8.361868858337402,
          -2.185612678527832,
          -5.590789794921875,
          18.428192138671875,
          6.715425491333008,
          7.771392345428467,
          11.122769355773926,
          8.022978782653809,
          -6.166886806488037,
          4.364294528961182,
          17.177860260009766,
          5.0927042961120605,
          1.9911621809005737,
          1.9308128356933594,
          6.58797025680542,
          5.648928165435791,
          10.197378158569336,
          6.977259159088135,
          6.1148362159729,
          2.729642152786255,
          3.681056261062622,
          16.20230484008789,
          5.062501430511475,
          2.285461664199829,
          5.6410441398620605,
          5.55515718460083,
          7.395417213439941,
          6.115354061126709,
          4.688564300537109,
          2.82738995552063,
          6.5819292068481445,
          8.8774995803833,
          8.090642929077148,
          4.63462495803833,
          9.083229064941406,
          2.346489191055298,
          2.92419695854187,
          6.882836818695068,
          9.597631454467773,
          12.154203414916992,
          6.158537864685059,
          16.088150024414062,
          8.568683624267578,
          9.450959205627441,
          11.520495414733887,
          4.098046779632568,
          11.418402671813965,
          6.460235118865967,
          8.921916007995605,
          -8.93947982788086,
          3.511385202407837,
          8.022333145141602,
          10.859403610229492,
          1.8950308561325073,
          6.454687118530273,
          6.783184051513672,
          6.534143447875977,
          5.164071083068848,
          17.92384147644043,
          9.30434513092041,
          0.18065498769283295,
          13.579813003540039,
          17.395488739013672,
          14.361441612243652,
          5.7842607498168945,
          8.46863079071045,
          6.261084079742432,
          14.924399375915527,
          14.646637916564941,
          15.951189041137695,
          4.724847316741943,
          13.491935729980469,
          10.196609497070312,
          3.2642579078674316,
          8.435293197631836,
          7.6180100440979,
          1.2365288734436035,
          2.269186019897461,
          14.910210609436035,
          8.422344207763672,
          15.947491645812988,
          2.0962679386138916,
          6.346512317657471,
          -7.1133952140808105,
          13.359208106994629,
          4.274029731750488,
          6.166393280029297,
          -0.2387513965368271,
          -7.7178544998168945,
          -10.50555419921875,
          0.22278393805027008,
          -4.267736911773682,
          0.7731751203536987,
          -11.55510425567627,
          -2.8340134620666504,
          0.19138121604919434,
          -5.587345600128174,
          -5.963764667510986,
          -4.473372459411621,
          -9.139883995056152,
          2.9782259464263916,
          -1.797132134437561,
          2.3468985557556152,
          -12.098313331604004,
          3.3370442390441895,
          -11.465744018554688,
          -3.096876859664917,
          -5.1632866859436035,
          -7.21038293838501,
          -3.4610447883605957,
          -6.559469223022461,
          -7.596620082855225,
          -6.179244041442871,
          -7.267625331878662,
          -10.213977813720703,
          -7.370829105377197,
          -8.862388610839844,
          -0.10986245423555374,
          -5.757974147796631,
          -8.345327377319336,
          -7.46694278717041,
          -2.1364564895629883,
          -0.6519949436187744,
          -6.110461235046387,
          -2.7570245265960693,
          -1.4775328636169434,
          -0.5824373364448547,
          -0.8687079548835754,
          -8.538741111755371,
          -2.6218390464782715,
          -0.6814303994178772,
          -5.70210599899292,
          -8.479379653930664,
          -2.8849825859069824,
          6.610707759857178,
          4.669467926025391,
          -1.4300518035888672,
          -4.628198146820068,
          4.078762531280518,
          -15.491504669189453,
          -2.4794445037841797,
          -3.2111880779266357,
          1.0876718759536743,
          2.4801158905029297,
          -3.3391618728637695,
          -2.104828357696533,
          -6.409308433532715,
          -4.914444446563721,
          -13.823622703552246,
          -3.0930070877075195,
          -8.671030044555664,
          -5.698528289794922,
          -9.093403816223145,
          -2.9122745990753174,
          -5.331086158752441,
          -6.632858753204346,
          -14.051855087280273,
          -15.566404342651367,
          0.09762595593929291,
          -6.840436935424805,
          -2.9413206577301025,
          -3.6534645557403564,
          -2.865166664123535,
          -15.17544174194336,
          -6.444051265716553,
          -9.483518600463867,
          -0.10422267764806747,
          -4.387228488922119,
          -9.946996688842773,
          -11.946691513061523,
          -6.778587341308594,
          -14.884839057922363,
          -6.35524320602417,
          -11.147156715393066,
          -8.566756248474121,
          1.5189090967178345,
          -11.365203857421875,
          -1.6847566366195679,
          -3.6234724521636963,
          -8.287419319152832,
          -0.6473789811134338,
          -6.5712199211120605,
          -6.985994815826416,
          -7.549383640289307,
          -7.406196117401123,
          -10.35982608795166,
          2.742264747619629,
          -3.647198438644409,
          -2.4955832958221436,
          -4.487155437469482,
          -4.522442817687988,
          -8.730705261230469,
          -3.9147064685821533,
          -4.404844760894775,
          -3.563513994216919,
          -1.8154469728469849,
          3.908437967300415,
          -6.906364440917969,
          -8.58613109588623,
          -2.923759937286377,
          7.2721099853515625,
          1.3377678394317627,
          1.4631922245025635,
          -4.191867351531982,
          -4.476434230804443,
          -13.66781997680664,
          -4.609140872955322,
          -6.75136661529541,
          1.132346272468567,
          -6.039718151092529,
          3.3529627323150635,
          -5.701529502868652,
          -6.2182207107543945,
          -4.18236780166626,
          -2.13065767288208,
          0.17245429754257202,
          -8.874489784240723,
          -2.5450496673583984,
          3.743481159210205,
          -4.357332706451416,
          2.464358329772949,
          3.1090855598449707,
          -3.539013385772705,
          -2.678372621536255,
          -2.194053888320923,
          -10.529748916625977,
          -0.98846435546875,
          -2.66139554977417,
          -6.340062141418457,
          -6.071300029754639,
          -6.0063700675964355,
          -2.590798854827881,
          -1.5386289358139038,
          -5.11987829208374,
          -0.017299789935350418,
          -1.624301552772522,
          -1.0936834812164307,
          -4.230485439300537,
          -8.053585052490234,
          -10.491515159606934,
          -4.980584621429443,
          -4.085233211517334,
          -3.7811028957366943,
          -9.72939395904541,
          -1.8903656005859375,
          -1.4676800966262817,
          -4.627047061920166,
          4.753697395324707,
          1.9949924945831299,
          13.273880004882812,
          -2.8930766582489014,
          -1.707436203956604,
          -6.469875812530518,
          1.7320321798324585,
          1.255682349205017,
          9.420567512512207,
          -7.177659511566162,
          -2.373216152191162,
          -1.270003318786621,
          -2.852924346923828,
          -4.5599775314331055,
          10.45220947265625,
          -4.003803253173828,
          -3.047637462615967,
          -10.923121452331543,
          -3.1672027111053467,
          -3.0093767642974854,
          -5.482941150665283,
          0.5671864151954651,
          0.678709089756012,
          -0.5909646153450012,
          0.924608588218689,
          -2.506906509399414,
          -10.280970573425293,
          -0.6210099458694458,
          1.90823495388031,
          10.170326232910156,
          -1.4635026454925537,
          -10.092131614685059,
          -5.108240127563477,
          -6.9009599685668945,
          -3.1906981468200684,
          1.8888757228851318,
          2.4371325969696045,
          -7.44660758972168,
          -1.4730781316757202,
          -7.082224369049072,
          -1.3712050914764404,
          0.1861930936574936,
          -4.103382587432861,
          3.229865074157715,
          -0.9464990496635437,
          -6.966683387756348,
          -7.585719108581543,
          -5.859430313110352,
          -0.4242734909057617,
          0.22306567430496216,
          -4.698145866394043,
          -4.399071216583252,
          -6.501333713531494,
          0.8178779482841492,
          2.702471971511841,
          -4.273414134979248,
          -8.438819885253906,
          -1.4203006029129028,
          0.13762129843235016,
          0.17189359664916992,
          -1.1542692184448242,
          0.7262429594993591,
          -8.995272636413574,
          -7.273037433624268,
          -7.568007946014404,
          -3.112060308456421,
          -6.032978057861328,
          -4.329841613769531,
          -0.5826817154884338,
          -8.23487663269043,
          -8.472810745239258,
          -8.266377449035645,
          14.425729751586914,
          -6.514017581939697,
          2.249800443649292,
          -3.5791499614715576,
          10.438417434692383,
          -0.9929274320602417,
          -2.5526440143585205,
          -7.311859130859375,
          -3.9289228916168213,
          -4.998534202575684,
          -4.697536945343018,
          0.09489625692367554,
          -11.311083793640137,
          -5.4121994972229,
          3.9349656105041504,
          -3.1990597248077393,
          7.957923889160156,
          -13.765144348144531,
          -3.35463809967041,
          1.8585541248321533,
          1.123042345046997,
          1.5122016668319702,
          -2.634854555130005,
          -3.564513683319092,
          -9.082073211669922,
          -0.1599467247724533,
          -9.133940696716309,
          1.419488787651062,
          2.6043245792388916,
          -6.757008075714111,
          0.18356144428253174,
          9.344250679016113,
          2.8687236309051514,
          -11.731410026550293,
          2.888094186782837,
          9.130060195922852,
          -5.765040874481201,
          -2.0857555866241455,
          -5.073271751403809,
          -5.036439895629883,
          -9.42977523803711,
          -8.331737518310547,
          -7.879356861114502,
          -6.154764652252197,
          -3.5018317699432373,
          -7.343222618103027,
          -3.129535436630249,
          -3.5150835514068604,
          -0.629838228225708,
          0.5418676137924194,
          0.009863179177045822,
          3.0567188262939453,
          0.10935982316732407,
          -7.131561756134033,
          -3.154012680053711,
          -10.447019577026367,
          0.21506641805171967,
          -13.353982925415039,
          0.07564540952444077,
          -10.327532768249512,
          -5.130842685699463,
          -10.649880409240723,
          -11.34725284576416,
          -12.40977954864502,
          -0.6663246154785156,
          -11.221658706665039,
          -7.493414878845215,
          -4.2818427085876465,
          0.3522129952907562,
          -11.00014877319336,
          -2.4342153072357178,
          -14.073628425598145,
          -6.037304401397705,
          5.117464065551758,
          -8.050002098083496,
          -11.817770957946777,
          13.374982833862305,
          -2.963864803314209,
          -9.450392723083496,
          -10.231348991394043,
          -8.698798179626465,
          -4.480564117431641,
          -9.452999114990234,
          -2.8960299491882324,
          -8.244071960449219,
          -5.268489360809326,
          -8.545848846435547,
          -11.882648468017578,
          -7.642152786254883,
          -1.0925625562667847,
          -7.866935729980469,
          -4.452548980712891,
          -12.249563217163086,
          -8.87173080444336,
          -7.078362941741943,
          -5.063577651977539,
          -10.369527816772461,
          -0.6263539791107178,
          -5.0020623207092285,
          -5.683780670166016,
          -5.854839324951172,
          -2.460336446762085,
          -11.940152168273926,
          -4.958362102508545,
          -8.116247177124023,
          -8.006573677062988,
          -4.19537353515625,
          -5.4577484130859375,
          -5.8039374351501465,
          -2.343090295791626,
          -8.0951509475708,
          -9.057350158691406,
          0.7976593971252441,
          -9.310151100158691,
          -4.783409118652344,
          -8.72649097442627,
          -6.7718825340271,
          -16.033151626586914,
          -8.603496551513672,
          -0.8773946762084961,
          -11.551288604736328,
          -8.533177375793457,
          -6.355244159698486,
          -12.252028465270996,
          -7.163125514984131,
          -15.834024429321289,
          1.0012246370315552,
          -9.194404602050781,
          -6.738626956939697,
          -8.562189102172852,
          -0.9143391847610474,
          -14.187559127807617,
          -1.3722585439682007,
          -4.1911396980285645,
          -7.985352993011475,
          -10.425065040588379,
          -6.331133842468262,
          -4.99525260925293,
          -13.141729354858398,
          -4.387269020080566,
          0.5936576724052429,
          -10.21873950958252,
          -5.059442043304443,
          -15.766593933105469,
          -10.845943450927734,
          -2.9875991344451904,
          -8.100870132446289,
          -3.6286561489105225,
          -4.464748382568359,
          6.440352439880371,
          1.947497010231018,
          5.853902816772461,
          4.085448741912842,
          5.391106128692627,
          12.8778657913208,
          18.0537052154541,
          8.410943984985352,
          8.630636215209961,
          1.0084311962127686,
          -5.837339878082275,
          -0.5314171314239502,
          5.686043739318848,
          7.493639945983887,
          -5.874598979949951,
          1.403220534324646,
          3.3963682651519775,
          -1.4937920570373535,
          0.3331957459449768,
          9.035795211791992,
          9.053627967834473,
          11.902050971984863,
          9.78050708770752,
          9.84256362915039,
          12.38741683959961,
          15.395634651184082,
          11.033259391784668,
          9.757935523986816,
          17.2805118560791,
          10.414860725402832,
          10.557060241699219,
          13.439643859863281,
          5.924713611602783,
          2.2264721393585205,
          2.763672351837158,
          11.738852500915527,
          8.95999813079834,
          -9.095489501953125,
          9.005645751953125,
          9.589540481567383,
          -2.6707634925842285,
          0.31600672006607056,
          3.956509828567505,
          12.137853622436523,
          -13.469962120056152,
          11.296231269836426,
          -6.9088454246521,
          1.0192054510116577,
          3.8061530590057373,
          -6.466522216796875,
          -9.367998123168945,
          -12.915895462036133,
          -9.066513061523438,
          0.5158078074455261,
          -11.60688304901123,
          -11.720906257629395,
          -10.750819206237793,
          -2.8294694423675537,
          -15.177275657653809,
          -13.665070533752441,
          -3.381211280822754,
          -2.8102262020111084,
          -7.540409564971924,
          0.1523486077785492,
          -11.19170093536377,
          -6.959162712097168,
          -8.26939582824707,
          -7.041157245635986,
          -7.472458839416504,
          2.0736451148986816,
          1.2971367835998535,
          -5.928391933441162,
          -5.063509464263916,
          -0.12974587082862854,
          -9.451135635375977,
          -4.994590759277344,
          5.940029621124268,
          -1.0157793760299683,
          1.588098168373108,
          -5.74157190322876,
          -12.911613464355469,
          -3.3780910968780518,
          -3.2509939670562744,
          -9.943897247314453,
          -5.346767425537109,
          -5.677685737609863,
          11.126983642578125,
          -4.458246231079102,
          -13.720353126525879,
          -5.9655046463012695,
          -14.068626403808594,
          -5.817550182342529,
          -14.414416313171387,
          -6.234464168548584,
          0.5715805292129517,
          1.9149210453033447,
          0.7197592258453369,
          3.7381505966186523,
          4.11735200881958,
          1.9421600103378296,
          9.318860054016113,
          -13.81074333190918,
          -6.485122203826904,
          -3.8087425231933594,
          -9.09434700012207,
          -5.761871337890625,
          -6.309706211090088,
          -7.2274489402771,
          -3.0772454738616943,
          -10.533616065979004,
          -0.6436068415641785,
          3.173130512237549,
          9.670050621032715,
          9.464760780334473,
          3.911320924758911,
          -9.007718086242676,
          -3.3990514278411865,
          -10.317813873291016,
          3.8703324794769287,
          0.2728115916252136,
          -8.26539421081543,
          -8.79585075378418,
          -6.7221784591674805,
          -10.137688636779785,
          -1.183927297592163,
          -9.224037170410156,
          9.149969100952148,
          -10.537731170654297,
          -0.8652601838111877,
          -5.958224296569824,
          1.253076434135437,
          -4.508727550506592,
          -5.593659400939941,
          2.157825469970703,
          -6.223390102386475,
          -1.252807378768921,
          -3.4159646034240723,
          -6.350879669189453,
          -5.47167444229126,
          6.424022674560547,
          -12.158360481262207,
          -0.5092965364456177,
          -1.6126971244812012,
          -3.360607624053955,
          -2.6160683631896973,
          -3.413095235824585,
          -5.6593170166015625,
          -3.3334572315216064,
          -8.52236557006836,
          -12.12646198272705,
          -8.051782608032227,
          -1.2292507886886597,
          -8.590067863464355,
          -9.442548751831055,
          0.15584097802639008,
          -8.670710563659668,
          -8.14352798461914,
          -8.699702262878418,
          -9.181870460510254,
          -2.8436319828033447,
          -3.165053129196167,
          -10.752899169921875,
          0.4050677418708801,
          -4.502486705780029,
          -4.555704593658447,
          -8.14755630493164,
          -9.056039810180664,
          1.6281547546386719,
          -4.979031562805176,
          -9.194847106933594,
          -7.237313270568848,
          -6.118954181671143,
          -8.93332576751709,
          -10.703957557678223,
          -0.139921635389328,
          -8.58062744140625,
          -11.173661231994629,
          -6.545296669006348,
          1.8284932374954224,
          10.469615936279297,
          -6.840015888214111,
          -1.9394166469573975,
          -1.8827245235443115,
          -1.9302279949188232,
          -13.644895553588867,
          -13.855637550354004,
          -1.12214994430542,
          -10.660778045654297,
          -6.798993110656738,
          0.6679646968841553,
          -6.83433198928833,
          -2.4613261222839355,
          -2.3296597003936768,
          -1.0432602167129517,
          -4.02468729019165,
          -9.700882911682129,
          -3.5472092628479004,
          -6.062243461608887,
          0.07634048163890839,
          -5.226691722869873,
          -2.8654348850250244,
          -13.088508605957031,
          0.3020686209201813,
          -3.5945184230804443,
          -1.3590744733810425,
          -7.632157325744629,
          -4.3870978355407715,
          -6.390021800994873,
          -3.359140157699585,
          -9.781686782836914,
          -1.296242594718933,
          -0.25559285283088684,
          -9.73620891571045,
          -7.535138130187988,
          -4.996715068817139,
          -8.89842414855957,
          -10.017729759216309,
          -3.9855399131774902,
          -2.8481593132019043,
          -2.9153897762298584,
          -9.188155174255371,
          -7.255005359649658,
          -9.617241859436035,
          -1.684259295463562,
          9.689682960510254,
          -3.4201457500457764,
          0.7649157047271729,
          -4.69185733795166,
          -5.581719398498535,
          -11.695954322814941,
          -5.014669418334961,
          -7.091569900512695,
          -5.755554676055908,
          -0.7861010432243347,
          -0.8617287874221802,
          -8.259777069091797,
          -15.65417766571045,
          -3.221299886703491,
          -0.6837055087089539,
          -3.196956157684326,
          -8.65890884399414,
          -9.185283660888672,
          -3.462578773498535,
          -5.523820877075195,
          -5.649538040161133,
          -6.979305267333984,
          -10.900294303894043,
          -8.718826293945312,
          -8.608272552490234,
          -8.859416007995605,
          -4.200324058532715,
          -5.660372734069824,
          -3.544656991958618,
          -9.858457565307617,
          0.6012240648269653,
          -8.33154296875,
          -2.899639844894409,
          8.205415725708008,
          2.4947290420532227,
          -6.4916300773620605,
          0.5234797596931458,
          2.397587776184082,
          -11.219911575317383,
          -3.726179361343384,
          0.9067867994308472,
          -8.40670108795166,
          -3.7067477703094482,
          -4.837475299835205,
          -8.521471977233887,
          -12.174077033996582,
          0.399771511554718,
          -0.7552415132522583,
          -3.381345272064209,
          0.24290165305137634,
          -11.716403007507324,
          -2.951486825942993,
          -6.134744644165039,
          0.9158963561058044,
          -5.1223859786987305,
          -9.688257217407227,
          3.2338008880615234,
          -0.4603126049041748,
          -2.856287956237793,
          -3.8167216777801514,
          1.8222607374191284,
          -2.81103253364563,
          -6.638431549072266,
          -3.3894824981689453,
          -4.3000407218933105,
          -4.235831260681152,
          -6.184439659118652,
          -9.842589378356934,
          -4.650949478149414,
          0.7138715386390686,
          -1.5718562602996826,
          -1.9394503831863403,
          -4.7733869552612305,
          -4.131618022918701,
          13.874808311462402,
          -7.819112777709961,
          -12.291657447814941,
          -5.993556022644043,
          -1.231123924255371,
          -15.733905792236328,
          8.661931991577148,
          -7.05595588684082,
          -10.134269714355469,
          -7.362882137298584,
          -9.771793365478516,
          -6.4450764656066895,
          -3.339372396469116,
          12.275038719177246,
          -3.9465606212615967,
          -10.28642463684082,
          -6.250942230224609,
          -1.6026504039764404,
          -4.28628396987915,
          -7.967232704162598,
          -10.965950965881348,
          -11.196749687194824,
          -3.553990602493286,
          -6.977674961090088,
          -9.268364906311035,
          5.189612865447998,
          13.46475601196289,
          14.62813949584961,
          14.816089630126953,
          -7.708576202392578,
          -12.261881828308105,
          -8.167627334594727,
          -7.732847690582275,
          3.1472935676574707,
          2.61380672454834,
          -1.9659855365753174,
          8.745223999023438,
          10.973526000976562,
          12.258983612060547,
          -3.427314043045044,
          6.110137462615967,
          -7.066864490509033,
          -6.297037601470947,
          -3.0460386276245117,
          -10.457196235656738,
          -7.087388038635254,
          4.060290813446045,
          -0.06111947074532509,
          9.008268356323242,
          0.5386794805526733,
          -4.906266212463379,
          -4.973555564880371,
          3.778620719909668,
          7.695037841796875,
          4.433730602264404,
          9.933687210083008,
          11.406219482421875,
          7.484240531921387,
          6.233211040496826,
          -11.820113182067871,
          8.540220260620117,
          8.927797317504883,
          11.645318984985352,
          11.931293487548828,
          5.0708746910095215,
          -0.11978640407323837,
          9.105091094970703,
          5.515072345733643,
          4.009573936462402,
          6.492852210998535,
          8.260279655456543,
          -1.0675463676452637,
          5.65113639831543,
          14.504115104675293,
          12.045905113220215,
          13.917271614074707,
          7.048374176025391,
          12.569450378417969,
          6.658570766448975,
          11.690173149108887,
          9.424640655517578,
          9.113541603088379,
          3.3157639503479004,
          3.2449159622192383,
          8.570223808288574,
          14.052434921264648,
          9.079401969909668,
          5.499047756195068,
          -6.404962539672852,
          10.407896041870117,
          3.6612002849578857,
          -1.9651072025299072,
          3.3333828449249268,
          18.015153884887695,
          5.6548967361450195,
          6.95452880859375,
          14.008025169372559,
          1.9314225912094116,
          7.194547176361084,
          10.15521240234375,
          9.494706153869629,
          2.882728338241577,
          4.264158248901367,
          9.876998901367188,
          15.32055950164795,
          6.625926971435547,
          11.5689697265625,
          8.807690620422363,
          18.643932342529297,
          14.763367652893066,
          7.721821308135986,
          7.451788425445557,
          9.436192512512207,
          7.0349440574646,
          5.505423069000244,
          6.748569488525391,
          9.224166870117188,
          14.561304092407227,
          2.410355806350708,
          12.257767677307129,
          -5.027312278747559,
          -11.835012435913086,
          1.2710134983062744,
          -9.265481948852539,
          -4.577739238739014,
          -8.378043174743652,
          -7.207309722900391,
          -5.010732650756836,
          -10.458281517028809,
          -11.153517723083496,
          -10.039060592651367,
          -4.761167526245117,
          -12.155716896057129,
          -9.11087417602539,
          -5.610574245452881,
          1.6787567138671875,
          -6.60983943939209,
          -10.494306564331055,
          -1.5678433179855347,
          -11.037882804870605,
          -4.676015853881836,
          -7.714914321899414,
          14.405729293823242,
          -9.038981437683105,
          -8.740432739257812,
          -5.467493057250977,
          2.0782430171966553,
          7.199930191040039,
          -9.612154006958008,
          1.0139652490615845,
          -3.194471597671509,
          -0.6877988576889038,
          -5.169358730316162,
          -6.358280181884766,
          -4.923779487609863,
          3.1471428871154785,
          -6.145149230957031,
          0.8799242377281189,
          -3.7821481227874756,
          -2.0569725036621094,
          8.598210334777832,
          3.189413547515869,
          -6.427189350128174,
          18.220476150512695,
          -0.9837755560874939,
          8.56955337524414,
          16.108423233032227,
          10.374622344970703,
          17.695091247558594,
          9.842703819274902,
          10.221686363220215,
          5.056990146636963,
          -0.5533314347267151,
          6.106903553009033,
          10.392845153808594,
          11.70798397064209,
          7.889059543609619,
          11.653923988342285,
          11.136590003967285,
          14.371697425842285,
          13.751642227172852,
          -14.460077285766602,
          -7.0218505859375,
          -7.34576940536499,
          -8.09069538116455,
          -6.00180721282959,
          -8.02933120727539,
          -4.8961944580078125,
          -0.8045185208320618,
          -7.2083024978637695,
          -8.140799522399902,
          -0.6620403528213501,
          -7.117903232574463,
          -6.547717094421387,
          -7.406252384185791,
          0.4957006275653839,
          -4.847287178039551,
          1.7071678638458252,
          13.449884414672852,
          -0.1865919679403305,
          -8.897481918334961,
          9.097895622253418,
          -3.2371573448181152,
          -6.45576286315918,
          2.0174803733825684,
          -12.053098678588867,
          -11.27839183807373,
          -11.412918090820312,
          -1.376581072807312,
          -12.587128639221191,
          -14.137354850769043,
          -6.028083324432373,
          -3.3278415203094482,
          -0.6215420961380005,
          -6.0297956466674805,
          0.890291154384613,
          -3.6779768466949463,
          -16.985816955566406,
          5.133316993713379,
          -10.494384765625,
          -5.73832368850708,
          0.7750192284584045,
          -0.007837335579097271,
          3.372018337249756,
          11.727527618408203,
          -10.100546836853027,
          3.7745144367218018,
          -5.277638912200928,
          -1.4008811712265015,
          1.1361334323883057,
          -6.290755748748779,
          -5.348830699920654,
          -3.489198684692383,
          -6.145395278930664,
          -9.146069526672363,
          -6.789633750915527,
          -5.965763092041016,
          2.0900137424468994,
          -6.660005569458008,
          3.243091344833374,
          -16.145254135131836,
          -5.160587310791016,
          2.587160110473633,
          6.355746746063232,
          -6.6182169914245605,
          -6.353221893310547,
          -7.659056186676025,
          9.69321060180664,
          -4.670657634735107,
          -7.096037864685059,
          -15.167122840881348,
          -7.551394939422607,
          -3.9778099060058594,
          14.58786392211914,
          8.388323783874512,
          13.715912818908691,
          9.815604209899902,
          8.805617332458496,
          -6.354747295379639,
          2.583704948425293,
          1.8501402139663696,
          3.0849194526672363,
          0.9131788015365601,
          -0.6816223859786987,
          1.4507966041564941,
          -0.9207800030708313,
          3.840895414352417,
          -5.347060203552246,
          0.844611644744873,
          -10.95281982421875,
          11.11922836303711,
          10.009471893310547,
          2.1131882667541504,
          1.4859795570373535,
          1.5679609775543213,
          7.719029903411865,
          0.011025691404938698,
          -6.43679666519165,
          3.8063018321990967,
          2.0218148231506348,
          -12.22834300994873,
          -10.787681579589844,
          8.330517768859863,
          5.629989147186279,
          -9.187132835388184,
          0.009716418571770191,
          -3.5425567626953125,
          1.8704197406768799,
          12.20833683013916,
          11.414407730102539,
          -0.024642324075102806,
          -17.423046112060547,
          12.540997505187988,
          2.731285810470581,
          3.285205125808716,
          14.998276710510254,
          8.794431686401367,
          0.04135585576295853,
          6.554682731628418,
          1.004252314567566,
          7.7330827713012695,
          13.527864456176758,
          1.7322481870651245,
          -0.5578572750091553,
          -2.6183178424835205,
          6.217074871063232,
          8.075305938720703,
          3.1133952140808105,
          4.211355209350586,
          -10.703350067138672,
          -8.159764289855957,
          0.6776439547538757,
          15.015656471252441,
          -12.126282691955566,
          -12.770681381225586,
          -12.209803581237793,
          -8.511823654174805,
          -11.961691856384277,
          1.3722529411315918,
          -2.023906946182251,
          -8.145771980285645,
          -0.3791625201702118,
          13.934418678283691,
          -10.80379867553711,
          3.386573314666748,
          1.2364226579666138,
          17.72208023071289,
          -5.041385173797607,
          -1.462401032447815,
          0.9171927571296692,
          -2.1446468830108643,
          8.792363166809082,
          10.542549133300781,
          1.4110794067382812,
          7.365968227386475,
          -10.659265518188477,
          1.027580738067627,
          -6.849706172943115,
          -9.00770092010498,
          2.2557013034820557,
          11.730709075927734,
          -0.517446756362915,
          -9.864456176757812,
          -11.561116218566895,
          -3.715656042098999,
          2.8748440742492676,
          -9.11794376373291,
          2.9761202335357666,
          7.407085418701172,
          10.543429374694824,
          -10.737051010131836,
          5.446108818054199,
          7.501718521118164,
          9.716314315795898,
          -7.98420524597168,
          12.076369285583496,
          -1.1092413663864136,
          -10.732864379882812,
          -8.915755271911621,
          -8.796491622924805,
          3.375864267349243,
          3.214035987854004,
          -1.7488300800323486,
          2.6455438137054443,
          -1.2380986213684082,
          0.8875755667686462,
          9.730452537536621,
          -3.948681354522705,
          3.6716127395629883,
          13.684208869934082,
          -9.540842056274414,
          3.5646891593933105,
          3.467607021331787,
          -10.110782623291016,
          5.5210676193237305,
          3.289583683013916,
          1.5836650133132935,
          0.6334092020988464,
          2.394305467605591,
          3.105069398880005,
          -8.632226943969727,
          -14.270069122314453,
          6.03285551071167,
          -8.360259056091309,
          4.448701858520508,
          -9.375005722045898,
          -11.098714828491211,
          -3.6132233142852783,
          2.9352362155914307,
          0.4106781780719757,
          12.163307189941406,
          -3.1585333347320557,
          3.2854151725769043,
          1.084275722503662,
          -0.14071111381053925,
          3.443455219268799,
          -0.928156316280365,
          9.064846992492676,
          9.195143699645996,
          -3.755657911300659,
          -11.369376182556152,
          0.4648469090461731,
          -9.169234275817871,
          3.980865478515625,
          10.613448143005371,
          0.512010931968689,
          -7.647205352783203,
          4.788378715515137,
          0.9612703919410706,
          -0.6063271164894104,
          10.560186386108398,
          13.542821884155273,
          -4.946379661560059,
          7.569366455078125,
          6.200137138366699,
          6.112698078155518,
          5.912143707275391,
          15.734071731567383,
          9.973021507263184,
          7.795560836791992,
          -7.308526039123535,
          -3.9332375526428223,
          -5.273121356964111,
          -5.161270618438721,
          -4.930376052856445,
          -7.83843469619751,
          -7.607348442077637,
          -3.6187524795532227,
          -6.447699546813965,
          -6.608658790588379,
          -7.441440105438232,
          -6.383054256439209,
          -6.156335830688477,
          -6.522088050842285,
          2.287322521209717,
          -11.00514030456543,
          -17.4901180267334,
          3.5384461879730225,
          -3.223464250564575,
          14.6873779296875,
          -10.483909606933594,
          -1.2098592519760132,
          -1.7908941507339478,
          -4.38256311416626,
          -8.855123519897461,
          -3.5589065551757812,
          13.82051944732666,
          -4.861922264099121,
          0.8486451506614685,
          -0.697717010974884,
          10.483308792114258,
          -0.8045652508735657,
          -8.174577713012695,
          0.09461939334869385,
          -5.8442301750183105,
          6.7472920417785645,
          0.6908522248268127,
          -0.7496303915977478,
          15.691490173339844,
          2.3241629600524902,
          10.594986915588379,
          -11.203014373779297,
          2.5546045303344727,
          13.013181686401367,
          13.725406646728516,
          10.819411277770996,
          7.927578449249268,
          1.4897288084030151,
          -14.773344039916992,
          4.2790045738220215,
          -10.79267406463623,
          1.5045843124389648,
          17.407987594604492,
          3.1858696937561035,
          -2.1043972969055176,
          8.3070068359375,
          13.197394371032715,
          7.530189514160156,
          -9.995257377624512,
          2.0417332649230957,
          -5.59144926071167,
          2.4819302558898926,
          -3.692300319671631,
          10.413491249084473,
          0.3810424506664276,
          2.606196641921997,
          11.5364990234375,
          -3.5289554595947266,
          16.823400497436523,
          0.4072670042514801,
          2.004551410675049,
          -4.697902679443359,
          -3.5784971714019775,
          13.20887565612793,
          12.267098426818848,
          14.455984115600586,
          -2.22676157951355,
          15.064739227294922,
          8.86770248413086,
          8.77126693725586,
          5.279163360595703,
          14.571115493774414,
          6.5290703773498535,
          13.526130676269531,
          1.1301506757736206,
          5.470859527587891,
          7.463404178619385,
          13.883317947387695,
          5.42807674407959,
          11.448286056518555,
          3.9961838722229004,
          5.506097793579102,
          1.1442009210586548,
          2.521733522415161,
          1.5155986547470093,
          -0.9113840460777283,
          2.9119434356689453,
          -4.911580562591553,
          3.960463285446167,
          -0.5938258171081543,
          -3.6087875366210938,
          -4.797377109527588,
          2.6397626399993896,
          3.3522629737854004,
          0.21831806004047394,
          -3.0768215656280518,
          7.019515514373779,
          6.219524383544922,
          -5.330001354217529,
          -6.32802677154541,
          13.329119682312012,
          12.620831489562988,
          8.774116516113281,
          5.094045162200928,
          5.1086320877075195,
          0.4290087819099426,
          2.7516989707946777,
          3.155238628387451,
          -8.167627334594727,
          -3.42720365524292,
          -11.040390014648438,
          -11.089411735534668,
          13.400606155395508,
          -3.4880831241607666,
          -1.5074282884597778,
          -3.431338310241699,
          3.217468738555908,
          -1.7855249643325806,
          -1.1001574993133545,
          5.090036869049072,
          -0.5284587740898132,
          -2.6480793952941895,
          -9.078204154968262,
          0.4083736836910248,
          -1.2347393035888672,
          7.3336639404296875,
          4.1918792724609375,
          -4.863616943359375,
          19.071163177490234,
          8.271021842956543,
          -1.5116231441497803,
          -13.765144348144531,
          -0.9383228421211243,
          -1.6276673078536987,
          -1.1338344812393188,
          -0.1996985673904419,
          -3.904813051223755,
          -2.3518834114074707,
          9.415821075439453,
          -2.98417067527771,
          2.5775222778320312,
          9.34425163269043,
          2.9527478218078613,
          -9.897446632385254,
          -0.14069916307926178,
          -0.6145967841148376,
          -1.2021374702453613,
          -12.048059463500977,
          3.7695491313934326,
          15.103507995605469,
          -1.5679265260696411,
          9.15112018585205,
          2.2180733680725098,
          0.20275750756263733,
          -1.115615725517273,
          -5.335963726043701,
          -12.784424781799316,
          8.759571075439453,
          0.9498912692070007,
          3.365802526473999,
          5.024153709411621,
          7.7409443855285645,
          2.6334965229034424,
          -8.8048677444458,
          7.846654891967773,
          -1.6222928762435913,
          -10.826891899108887,
          -6.726487636566162,
          -7.042487621307373,
          -10.67292594909668,
          12.836474418640137,
          2.9703495502471924,
          3.807908296585083,
          -10.715095520019531,
          8.300222396850586,
          5.555407524108887,
          -2.255181312561035,
          2.653966188430786,
          -11.27107048034668,
          -10.772072792053223,
          1.0929503440856934,
          -3.3816239833831787,
          -3.486180305480957,
          0.4212590754032135,
          -8.821743965148926,
          -1.6496374607086182,
          -6.2729387283325195,
          16.279788970947266,
          15.410758972167969,
          9.778813362121582,
          10.927308082580566,
          9.07275104522705,
          -2.9703588485717773,
          13.867777824401855,
          4.860546588897705,
          14.559632301330566,
          9.582874298095703,
          18.63978385925293,
          15.748732566833496,
          9.49144458770752,
          15.808113098144531,
          17.916488647460938,
          11.393492698669434,
          9.835939407348633,
          0.507394552230835,
          1.6599435806274414,
          -6.077004432678223,
          4.601113319396973,
          9.584141731262207,
          9.557907104492188,
          13.32487964630127,
          10.446606636047363,
          16.509672164916992,
          14.276698112487793,
          14.748693466186523,
          9.054033279418945,
          3.2212703227996826,
          12.598417282104492,
          12.594547271728516,
          9.413836479187012,
          9.767868041992188,
          16.7757625579834,
          14.169918060302734,
          8.47855281829834,
          4.33966064453125,
          18.940746307373047,
          12.426057815551758,
          13.254256248474121,
          9.694086074829102,
          7.85312557220459,
          13.345901489257812,
          13.091882705688477,
          13.556719779968262,
          4.824861526489258,
          -4.835881233215332,
          -8.62539291381836,
          0.9606103301048279,
          -4.508070945739746,
          -7.516679286956787,
          3.0160703659057617,
          2.6338555812835693,
          -3.178361177444458,
          12.351339340209961,
          3.331441879272461,
          2.5546061992645264,
          2.9739339351654053,
          -4.928213596343994,
          3.1693177223205566,
          -11.124288558959961,
          -1.568701982498169,
          -9.345206260681152,
          2.844113349914551,
          1.666319727897644,
          -6.992049694061279,
          7.071468830108643,
          1.29719078540802,
          0.9308622479438782,
          3.2605557441711426,
          -7.419365406036377,
          2.6643760204315186,
          -9.541159629821777,
          9.880969047546387,
          1.766083836555481,
          9.340560913085938,
          7.390624523162842,
          0.5409784317016602,
          -3.284809112548828,
          13.652344703674316,
          -0.4785251021385193,
          5.881832599639893,
          4.930917263031006,
          -5.034059047698975,
          2.901756525039673,
          -1.566009759902954,
          -1.2634273767471313,
          -0.12525834143161774,
          -1.5155411958694458,
          -0.0655648410320282,
          -1.45590078830719,
          6.39988899230957,
          13.14389419555664,
          -4.8132734298706055,
          2.136139154434204,
          -2.0270330905914307,
          2.401902675628662,
          0.7902229428291321,
          -0.9648537039756775,
          -1.5072481632232666,
          18.760488510131836,
          8.858365058898926,
          15.277806282043457,
          2.3554093837738037,
          1.2257986068725586,
          -5.145375728607178,
          15.216577529907227,
          -5.937874794006348,
          9.36806869506836,
          5.521024227142334,
          0.59279465675354,
          4.3396453857421875,
          5.351251602172852,
          -6.353679656982422,
          2.7773263454437256,
          0.25519880652427673,
          7.358397483825684,
          1.459932565689087,
          -7.456292629241943,
          9.43265151977539,
          3.0375301837921143,
          -8.964742660522461,
          6.140570640563965,
          7.786879062652588,
          5.727446556091309,
          2.9570364952087402,
          0.1411682814359665,
          -0.9591832756996155,
          -5.4240922927856445,
          -4.126037120819092,
          2.0657782554626465,
          -2.6754674911499023,
          11.428704261779785,
          -0.665818452835083,
          -5.426855087280273,
          -0.9788774847984314,
          -4.702970504760742,
          -4.365683078765869,
          -1.3169384002685547,
          -4.437105178833008,
          -3.3665266036987305,
          7.3382768630981445,
          -5.6068291664123535,
          0.8706481456756592,
          2.9615728855133057,
          -6.206048488616943,
          0.6410419940948486,
          2.5059444904327393,
          9.83182430267334,
          2.4408376216888428,
          4.650475978851318,
          12.869577407836914,
          1.5383213758468628,
          1.3361953496932983,
          4.261943340301514,
          9.941376686096191,
          9.906206130981445,
          -2.4636383056640625,
          -7.191069602966309,
          -1.5655847787857056,
          -6.078759670257568,
          1.2988919019699097,
          -2.156445264816284,
          11.819745063781738,
          9.287627220153809,
          14.854225158691406,
          6.855711460113525,
          9.720232009887695,
          11.958550453186035,
          14.859285354614258,
          12.681181907653809,
          9.681304931640625,
          13.155174255371094,
          11.818492889404297,
          4.510721683502197,
          13.992319107055664,
          10.943885803222656,
          10.59203052520752,
          14.987619400024414,
          9.584854125976562,
          15.094194412231445,
          7.776241779327393,
          14.729373931884766,
          14.346370697021484,
          9.587268829345703,
          15.502166748046875,
          0.5627699494361877,
          10.428586959838867,
          11.607439041137695,
          4.06956148147583,
          5.399644374847412,
          10.964499473571777,
          8.424745559692383,
          11.070531845092773,
          6.620334148406982,
          9.989133834838867,
          13.03817081451416,
          6.275805950164795,
          14.070347785949707,
          14.045255661010742,
          13.281898498535156,
          5.323791980743408,
          11.835709571838379,
          7.762014865875244,
          15.068258285522461,
          12.785377502441406,
          7.230116367340088,
          1.181571364402771,
          1.1192278861999512,
          -3.5854928493499756,
          4.375382423400879,
          -4.452661514282227,
          -1.228511929512024,
          -1.7212775945663452,
          -2.3041903972625732,
          -0.7717921733856201,
          2.392756223678589,
          1.1129515171051025,
          -1.946595549583435,
          -1.6459221839904785,
          8.530503273010254,
          1.4132978916168213,
          -11.848968505859375,
          2.8187015056610107,
          2.6042933464050293,
          3.7106757164001465,
          9.8837251663208,
          4.253472805023193,
          9.194123268127441,
          12.910514831542969,
          5.298238277435303,
          7.932856559753418,
          9.013529777526855,
          14.558146476745605,
          5.443778038024902,
          5.111062526702881,
          15.092105865478516,
          -4.19537353515625,
          1.172234296798706,
          9.510797500610352,
          -0.026493890210986137,
          7.8099188804626465,
          5.437031269073486,
          4.785297393798828,
          -10.323999404907227,
          0.8981589078903198,
          -7.93029260635376,
          -3.9473307132720947,
          0.6269635558128357,
          2.5408167839050293,
          2.9905736446380615,
          9.004049301147461,
          -3.6748101711273193,
          0.40494605898857117,
          14.830101013183594,
          1.1153310537338257,
          4.867583751678467,
          13.218436241149902,
          14.458296775817871,
          1.378014326095581,
          10.583159446716309
         ],
         "z": [
          0.9727278351783752,
          -3.1135761737823486,
          -3.1199705600738525,
          -10.890368461608887,
          3.701956033706665,
          -4.370961666107178,
          -4.804571628570557,
          -2.4344019889831543,
          -8.46097469329834,
          -12.11580753326416,
          -1.116539716720581,
          -3.018709182739258,
          -8.560145378112793,
          7.469117641448975,
          -0.7341796159744263,
          4.800281047821045,
          -2.628624677658081,
          6.244445323944092,
          -7.706432819366455,
          1.4612808227539062,
          -0.5795512199401855,
          2.6580355167388916,
          -0.22090908885002136,
          -1.7947238683700562,
          2.232980489730835,
          -0.2843654155731201,
          -2.160924196243286,
          -0.8161420226097107,
          0.007935566827654839,
          3.4865169525146484,
          -7.125717639923096,
          -3.207482099533081,
          -0.9013899564743042,
          0.1527038961648941,
          -3.0288641452789307,
          -0.412885844707489,
          -0.2399505078792572,
          0.32793280482292175,
          -1.2396734952926636,
          1.1754844188690186,
          1.809471845626831,
          -4.206628322601318,
          4.4310479164123535,
          5.066201686859131,
          -2.805826425552368,
          -0.504496157169342,
          -0.658777117729187,
          -1.1421688795089722,
          0.28316357731819153,
          -0.27793845534324646,
          -0.1447485238313675,
          0.07770621031522751,
          -1.3937256336212158,
          -2.2762949466705322,
          -1.03012216091156,
          -0.8167323470115662,
          -5.091465950012207,
          4.331374168395996,
          1.0624746084213257,
          0.4345366358757019,
          -0.3134663999080658,
          -5.881527900695801,
          2.3222055435180664,
          0.9623979926109314,
          2.40580153465271,
          0.3214016556739807,
          -3.30287766456604,
          3.2031338214874268,
          -1.0737382173538208,
          -0.30265212059020996,
          2.3256351947784424,
          2.203280448913574,
          1.2939527034759521,
          -0.027669481933116913,
          -0.8810259699821472,
          -1.2236008644104004,
          -0.7202351093292236,
          -4.943732261657715,
          -8.558602333068848,
          1.054519534111023,
          -0.4932081997394562,
          7.153849124908447,
          -0.2091013640165329,
          -4.699117183685303,
          -1.9837054014205933,
          -3.9398369789123535,
          0.8264787793159485,
          0.33777204155921936,
          -0.6274378299713135,
          1.2816529273986816,
          4.8074188232421875,
          0.7138025760650635,
          -0.06682737171649933,
          -4.208899021148682,
          -6.366076946258545,
          -2.9152543544769287,
          1.3483195304870605,
          -0.5360467433929443,
          0.059636157006025314,
          -4.273021221160889,
          -1.080092191696167,
          -4.948315143585205,
          -5.600647926330566,
          -0.8226005434989929,
          -0.31213024258613586,
          1.6414504051208496,
          -9.281781196594238,
          -7.362746238708496,
          9.275045394897461,
          -10.6356782913208,
          -3.233018159866333,
          -10.189723014831543,
          -4.077754020690918,
          2.106415271759033,
          4.959659576416016,
          -0.5860565304756165,
          -7.363774299621582,
          -5.614537715911865,
          6.659297466278076,
          -5.676339149475098,
          -2.474731683731079,
          -10.648130416870117,
          1.020919919013977,
          -10.674696922302246,
          3.6957309246063232,
          1.631982684135437,
          5.311966896057129,
          -5.466677665710449,
          -2.4301180839538574,
          -2.6930761337280273,
          12.49498462677002,
          -0.9166243672370911,
          -8.001233100891113,
          6.012559413909912,
          8.668209075927734,
          2.8778069019317627,
          5.034878730773926,
          -8.30141544342041,
          -7.400766849517822,
          -8.42313003540039,
          6.808398723602295,
          0.0449058823287487,
          0.7620501518249512,
          0.7083112597465515,
          0.8190323710441589,
          -10.8799409866333,
          -3.108771324157715,
          -8.835407257080078,
          -5.374566555023193,
          -3.3376762866973877,
          -7.817816257476807,
          1.6925408840179443,
          1.2773445844650269,
          -0.6760953664779663,
          -0.10564291477203369,
          -4.38974666595459,
          -1.983024001121521,
          -0.15574334561824799,
          -9.691895484924316,
          -2.5987026691436768,
          -2.96964693069458,
          0.6187474727630615,
          3.408071756362915,
          3.1028010845184326,
          3.210322141647339,
          4.329561233520508,
          0.9720595479011536,
          5.250527381896973,
          -9.179835319519043,
          -3.321465015411377,
          -9.707201957702637,
          0.9274179339408875,
          3.912044048309326,
          -7.243982791900635,
          -0.4103895127773285,
          -0.12992899119853973,
          3.6697518825531006,
          1.6046196222305298,
          -9.328947067260742,
          -4.493051528930664,
          4.9062089920043945,
          -0.1682269424200058,
          3.4757683277130127,
          -8.729230880737305,
          2.28338360786438,
          -3.450429916381836,
          -5.220332622528076,
          -9.04297924041748,
          -4.428264141082764,
          -1.048478126525879,
          -3.0241119861602783,
          -3.747896671295166,
          7.023027420043945,
          7.528650760650635,
          4.78720760345459,
          4.097177982330322,
          12.170177459716797,
          -7.8998589515686035,
          4.727789878845215,
          -2.2433738708496094,
          4.2919921875,
          -6.746364593505859,
          5.488897800445557,
          10.572758674621582,
          6.310922622680664,
          5.044116020202637,
          -8.416701316833496,
          4.464407444000244,
          3.387021541595459,
          6.197057723999023,
          0.715552568435669,
          3.8698136806488037,
          3.612147092819214,
          2.1642849445343018,
          6.973276615142822,
          -8.193269729614258,
          -3.6202890872955322,
          -9.920517921447754,
          -1.6746834516525269,
          1.3787468671798706,
          -4.813345909118652,
          4.300981044769287,
          6.971488952636719,
          1.5549243688583374,
          4.751163482666016,
          5.762345790863037,
          7.293771743774414,
          -1.48904287815094,
          1.2838959693908691,
          5.742610454559326,
          -1.142530083656311,
          4.880847930908203,
          6.407774448394775,
          8.829906463623047,
          -3.5934019088745117,
          -8.571539878845215,
          -1.2725400924682617,
          -3.1228554248809814,
          6.181363582611084,
          -3.27378511428833,
          10.80733585357666,
          -8.289393424987793,
          0.5543001890182495,
          -10.064865112304688,
          6.374277114868164,
          5.619715213775635,
          -6.910691738128662,
          13.094064712524414,
          -2.6657159328460693,
          2.578636884689331,
          5.585055351257324,
          -4.990093231201172,
          2.4219861030578613,
          -1.2675282955169678,
          -2.159069538116455,
          4.886836051940918,
          4.879429340362549,
          12.439313888549805,
          2.935058832168579,
          -7.0354132652282715,
          0.773640513420105,
          -7.917322635650635,
          5.269040584564209,
          -0.39742910861968994,
          -5.079647541046143,
          1.9487913846969604,
          6.504537582397461,
          -3.849799633026123,
          -8.87675952911377,
          3.822964906692505,
          4.155533313751221,
          -8.53077507019043,
          7.3238525390625,
          5.183090686798096,
          5.323031902313232,
          -11.147814750671387,
          4.453975677490234,
          5.433005332946777,
          -3.7375173568725586,
          6.3970232009887695,
          4.046429634094238,
          3.8715264797210693,
          -8.170557022094727,
          3.8681139945983887,
          -3.018162488937378,
          -0.6500632762908936,
          1.8461716175079346,
          -0.1546175479888916,
          6.440845489501953,
          7.222563743591309,
          2.3911540508270264,
          -9.305052757263184,
          -5.250853538513184,
          5.025837421417236,
          5.059226989746094,
          -12.330791473388672,
          -10.716206550598145,
          1.7489607334136963,
          -7.473508358001709,
          12.87959098815918,
          2.8595917224884033,
          6.070160388946533,
          3.999993324279785,
          -12.02249813079834,
          4.27969217300415,
          3.839588165283203,
          9.064776420593262,
          4.738108158111572,
          6.348906517028809,
          2.1503524780273438,
          4.969866752624512,
          4.191034317016602,
          3.7344415187835693,
          2.2985808849334717,
          9.25961685180664,
          5.0832061767578125,
          -2.7436842918395996,
          4.163172245025635,
          -0.29366564750671387,
          7.692415714263916,
          4.551234245300293,
          5.98238468170166,
          4.098154544830322,
          8.453962326049805,
          -7.741925239562988,
          -1.4510748386383057,
          4.098835468292236,
          -9.074984550476074,
          4.768847942352295,
          5.155273914337158,
          -4.021780490875244,
          -8.503945350646973,
          -9.306894302368164,
          -7.834819793701172,
          -5.7998762130737305,
          -2.621455192565918,
          -5.24184513092041,
          -4.16981315612793,
          5.576641082763672,
          6.840886116027832,
          -1.9514857530593872,
          3.427528142929077,
          3.491933822631836,
          3.0771596431732178,
          5.697192192077637,
          -5.826703071594238,
          4.973675727844238,
          4.5194807052612305,
          -6.429426670074463,
          -9.943225860595703,
          3.815258026123047,
          4.829650402069092,
          9.548123359680176,
          -0.13002784550189972,
          1.1475399732589722,
          -5.567861080169678,
          -7.051877021789551,
          2.5763978958129883,
          9.106389045715332,
          -6.661927223205566,
          11.985456466674805,
          2.831022024154663,
          8.553418159484863,
          -9.599865913391113,
          9.053579330444336,
          6.8714213371276855,
          4.816688060760498,
          8.411099433898926,
          4.880000591278076,
          0.8545765280723572,
          -9.129496574401855,
          2.1204233169555664,
          1.0051796436309814,
          3.8274102210998535,
          -8.799392700195312,
          -0.49643954634666443,
          4.989327430725098,
          -6.855329513549805,
          0.39099791646003723,
          -5.2904052734375,
          3.7240517139434814,
          0.658576250076294,
          3.821053981781006,
          12.729247093200684,
          11.628571510314941,
          8.13284683227539,
          1.8994884490966797,
          3.495845317840576,
          0.7501433491706848,
          6.552474498748779,
          -8.552268028259277,
          -9.876801490783691,
          2.415510892868042,
          -6.64417839050293,
          -3.1694045066833496,
          2.506988286972046,
          -7.9676971435546875,
          -9.046451568603516,
          -10.105106353759766,
          -6.019117832183838,
          -2.8856310844421387,
          8.050124168395996,
          -9.721531867980957,
          4.028722286224365,
          -10.633872032165527,
          -6.607561111450195,
          -9.049983024597168,
          -10.151268005371094,
          -2.005749225616455,
          -3.5939650535583496,
          3.4632387161254883,
          -9.170440673828125,
          -10.649136543273926,
          -6.448906421661377,
          3.0999488830566406,
          -7.830167293548584,
          -5.678058624267578,
          -9.093162536621094,
          -4.6078200340271,
          -6.464717864990234,
          -10.36845588684082,
          -1.5221750736236572,
          13.917494773864746,
          -3.034472703933716,
          -7.733225345611572,
          -3.4796996116638184,
          -5.676364421844482,
          7.418976306915283,
          4.331303596496582,
          -10.88725471496582,
          -7.644120216369629,
          -8.285154342651367,
          -4.918214321136475,
          -6.369266033172607,
          3.238949775695801,
          5.428610801696777,
          -2.495353937149048,
          13.090535163879395,
          2.2297873497009277,
          -8.766082763671875,
          -8.44305419921875,
          -6.877101898193359,
          6.72773551940918,
          -7.046178817749023,
          -5.031505107879639,
          13.175042152404785,
          -6.74151086807251,
          0.21014200150966644,
          -5.417108058929443,
          0.9015330076217651,
          -4.191989898681641,
          4.897569179534912,
          -6.487827777862549,
          -5.055708408355713,
          -0.5402504205703735,
          -3.4357473850250244,
          4.344093322753906,
          -10.32159423828125,
          -3.5142645835876465,
          11.950408935546875,
          -3.0030949115753174,
          -2.4773128032684326,
          -1.207270622253418,
          -4.6138505935668945,
          6.256981372833252,
          -2.3372440338134766,
          -3.47358775138855,
          3.500971794128418,
          -0.7186713814735413,
          -5.749200820922852,
          -8.963299751281738,
          7.383531093597412,
          -10.712002754211426,
          -0.8150002956390381,
          -8.496674537658691,
          -2.9213225841522217,
          -3.4503087997436523,
          4.700156211853027,
          -9.23416805267334,
          5.025424003601074,
          -0.5337761640548706,
          -7.103172302246094,
          4.6539530754089355,
          3.5506582260131836,
          -9.258761405944824,
          4.545424938201904,
          1.772107720375061,
          5.946858882904053,
          -0.4385177791118622,
          0.8268887996673584,
          1.6060147285461426,
          -3.8574914932250977,
          1.412624716758728,
          -2.101440668106079,
          -1.4406129121780396,
          7.264115333557129,
          3.464172124862671,
          8.208456039428711,
          1.5664100646972656,
          -0.9959502220153809,
          12.64928913116455,
          0.11086677759885788,
          -1.4004919528961182,
          -12.02683162689209,
          0.324485719203949,
          -1.9380180835723877,
          -0.1933334469795227,
          5.840970993041992,
          -4.280767917633057,
          -5.093045234680176,
          5.902608394622803,
          1.349508285522461,
          1.5792360305786133,
          -1.644602656364441,
          -1.0494909286499023,
          -3.7369794845581055,
          1.6405868530273438,
          1.4370871782302856,
          0.00010472215944901109,
          1.3818089962005615,
          6.890766620635986,
          5.567959785461426,
          -2.470691204071045,
          3.15812087059021,
          0.6609318852424622,
          -0.93137127161026,
          -8.14207649230957,
          -6.49991512298584,
          -1.284508228302002,
          4.161340236663818,
          -9.449722290039062,
          1.5011720657348633,
          6.631497383117676,
          4.571653842926025,
          5.081610679626465,
          7.001288414001465,
          3.4216103553771973,
          1.6858975887298584,
          6.607105731964111,
          7.184682369232178,
          6.149742126464844,
          3.429488182067871,
          4.447796821594238,
          3.2469706535339355,
          -0.34214332699775696,
          -1.32408607006073,
          9.621786117553711,
          9.4794282913208,
          5.0111236572265625,
          3.344109535217285,
          3.8305065631866455,
          5.969426155090332,
          5.032225131988525,
          1.1534712314605713,
          5.230117321014404,
          6.76340389251709,
          1.3759781122207642,
          4.438993453979492,
          1.313644289970398,
          8.146665573120117,
          9.599882125854492,
          -1.0573713779449463,
          1.6331679821014404,
          6.168686866760254,
          6.810986518859863,
          3.563070774078369,
          -2.8851146697998047,
          8.590717315673828,
          -5.6295576095581055,
          3.360802173614502,
          5.651684761047363,
          5.3110575675964355,
          5.890868186950684,
          5.446450710296631,
          -0.6053515076637268,
          -1.6531676054000854,
          -0.35059890151023865,
          5.079521179199219,
          0.9153918623924255,
          -1.4547555446624756,
          9.125761032104492,
          0.9706780910491943,
          -6.620967388153076,
          1.3903987407684326,
          -3.0558133125305176,
          5.56797981262207,
          -1.0998187065124512,
          1.6585562229156494,
          -3.726696014404297,
          -3.956806182861328,
          -8.591885566711426,
          -5.119329452514648,
          4.062222003936768,
          5.4308342933654785,
          11.551628112792969,
          10.840004920959473,
          2.253789186477661,
          1.5529834032058716,
          -0.9418393969535828,
          -0.9274402260780334,
          1.5094292163848877,
          -6.967545032501221,
          5.223627090454102,
          -6.405245780944824,
          6.954553127288818,
          0.5705589652061462,
          4.646244525909424,
          -4.79174280166626,
          2.1599552631378174,
          -9.81692886352539,
          -7.826327323913574,
          -9.490338325500488,
          -2.245204210281372,
          -7.371830940246582,
          -8.350732803344727,
          5.804505825042725,
          1.35512113571167,
          -2.839270830154419,
          -4.830657958984375,
          6.056952953338623,
          -5.942971229553223,
          0.5140171051025391,
          3.344515562057495,
          -0.8287083506584167,
          4.161029815673828,
          1.761204481124878,
          2.094089984893799,
          -10.144776344299316,
          -9.123311996459961,
          -8.452004432678223,
          0.964314877986908,
          3.229393482208252,
          5.7374725341796875,
          -8.64981746673584,
          5.77618932723999,
          -10.214385986328125,
          -9.511007308959961,
          6.986189365386963,
          -5.639458656311035,
          -9.688128471374512,
          7.93699312210083,
          -9.082015037536621,
          0.30599430203437805,
          -9.261153221130371,
          -3.971374750137329,
          -10.060196876525879,
          -2.959479808807373,
          -6.997229099273682,
          -4.641227722167969,
          4.8475494384765625,
          4.815443992614746,
          3.782062292098999,
          -9.143304824829102,
          -5.753911972045898,
          4.76788330078125,
          6.882513999938965,
          -8.322039604187012,
          0.25841400027275085,
          -9.411934852600098,
          -6.391759395599365,
          1.0349832773208618,
          -3.348013162612915,
          -9.827813148498535,
          -8.788799285888672,
          4.968949794769287,
          5.774487495422363,
          1.6068637371063232,
          -9.555685043334961,
          -9.537481307983398,
          -9.626469612121582,
          -1.7334845066070557,
          -1.6456315517425537,
          -3.2333850860595703,
          -8.173723220825195,
          1.888599157333374,
          4.6630659103393555,
          -8.203834533691406,
          -10.441263198852539,
          -10.820687294006348,
          3.550354480743408,
          5.027398109436035,
          -9.973937034606934,
          -9.996417999267578,
          3.30916690826416,
          -10.31562614440918,
          5.1188836097717285,
          9.668445587158203,
          -9.223122596740723,
          -4.687527179718018,
          13.089079856872559,
          2.435706377029419,
          -5.488460063934326,
          -3.4504740238189697,
          -8.673238754272461,
          5.250409126281738,
          -8.028597831726074,
          -3.4599995613098145,
          7.097625255584717,
          9.881697654724121,
          5.516774654388428,
          -8.481568336486816,
          -6.709216594696045,
          -5.221610069274902,
          3.392622232437134,
          0.6239708065986633,
          3.1654837131500244,
          9.364253997802734,
          4.868613243103027,
          -8.567937850952148,
          -1.6268694400787354,
          0.8843961954116821,
          11.940055847167969,
          -3.234154462814331,
          -3.4322664737701416,
          2.1278061866760254,
          -10.113946914672852,
          0.28580236434936523,
          5.441835880279541,
          -2.2811825275421143,
          8.520540237426758,
          8.610955238342285,
          -5.345412254333496,
          -0.006829984486103058,
          -0.25728732347488403,
          -8.225859642028809,
          -5.810920238494873,
          -3.42852520942688,
          -8.65275764465332,
          4.3901262283325195,
          4.871251106262207,
          5.697903633117676,
          -5.9899091720581055,
          -9.795317649841309,
          -6.66497802734375,
          -4.6677727699279785,
          -6.565032958984375,
          5.288806438446045,
          -8.80822467803955,
          12.379398345947266,
          -10.21795654296875,
          -1.9730221033096313,
          -6.135875225067139,
          -3.7864913940429688,
          -3.3117287158966064,
          6.31549596786499,
          5.705357551574707,
          -7.350284576416016,
          -1.5440107583999634,
          -3.713557720184326,
          3.450153112411499,
          1.672379493713379,
          -5.817370414733887,
          3.9079337120056152,
          -2.0715789794921875,
          -3.5221457481384277,
          -8.85130500793457,
          0.9056780338287354,
          6.979548454284668,
          8.554092407226562,
          8.137853622436523,
          -10.44392204284668,
          3.1690661907196045,
          12.621607780456543,
          -1.8559750318527222,
          -7.310922145843506,
          -8.485759735107422,
          6.300915718078613,
          3.432628631591797,
          9.21989631652832,
          11.997303009033203,
          5.668330192565918,
          4.706576824188232,
          7.09737491607666,
          3.1980960369110107,
          5.185059547424316,
          -0.9054908752441406,
          -0.6911392211914062,
          -10.138201713562012,
          -0.7877975702285767,
          -5.673706531524658,
          2.561460494995117,
          5.190349102020264,
          5.440432071685791,
          11.658400535583496,
          -3.602170944213867,
          -6.830531120300293,
          -2.913965940475464,
          -4.629868984222412,
          6.944526672363281,
          -0.49752795696258545,
          -0.1893107295036316,
          -0.43214842677116394,
          6.885037422180176,
          6.608897686004639,
          6.506396770477295,
          4.55284309387207,
          9.589634895324707,
          1.864274263381958,
          7.845700263977051,
          10.46575927734375,
          1.223010540008545,
          7.020498752593994,
          4.410670280456543,
          0.2962868809700012,
          6.661456108093262,
          3.035888671875,
          10.685321807861328,
          5.837313175201416,
          -1.0695843696594238,
          0.6483737826347351,
          2.162355661392212,
          8.106325149536133,
          0.7411482930183411,
          -7.70706033706665,
          -10.034340858459473,
          -0.2246522754430771,
          -7.937598705291748,
          -0.37652525305747986,
          2.173959970474243,
          5.303612232208252,
          0.36666977405548096,
          5.731771945953369,
          -5.530055046081543,
          -2.641850233078003,
          1.575585961341858,
          5.189228057861328,
          0.5888591408729553,
          -3.552508592605591,
          6.054482936859131,
          2.7689130306243896,
          -0.08318360894918442,
          2.8303651809692383,
          -2.5086476802825928,
          -2.207333564758301,
          3.4876229763031006,
          2.0572993755340576,
          -1.3336422443389893,
          0.7969279885292053,
          0.28625547885894775,
          0.79120272397995,
          -2.3050894737243652,
          -0.09849658608436584,
          -0.24704188108444214,
          4.7122087478637695,
          -0.4529789388179779,
          -0.3656352460384369,
          1.7210900783538818,
          2.1121633052825928,
          3.506636619567871,
          7.863534450531006,
          1.79486083984375,
          5.408303260803223,
          -1.0127720832824707,
          -0.4307902157306671,
          -0.4145049452781677,
          2.4813461303710938,
          -0.11990483850240707,
          -3.810427665710449,
          6.285233497619629,
          -3.6257104873657227,
          -0.4088810086250305,
          -0.9214958548545837,
          -1.7970093488693237,
          2.3892159461975098,
          -5.2346343994140625,
          -6.0252885818481445,
          -1.207421898841858,
          0.9932848215103149,
          0.2724538743495941,
          -3.361577033996582,
          -0.32654017210006714,
          -1.2613773345947266,
          -1.00677490234375,
          -1.7315568923950195,
          -1.0846253633499146,
          -9.698664665222168,
          -0.5817064046859741,
          -0.2738511264324188,
          -1.132399559020996,
          -0.32995617389678955,
          -6.98322868347168,
          -3.207918882369995,
          -1.2250003814697266,
          -1.708652138710022,
          0.6021212935447693,
          0.9715266227722168,
          -1.228333592414856,
          -4.1061530113220215,
          0.7531177401542664,
          0.14870044589042664,
          -2.3620259761810303,
          0.9148436784744263,
          -0.39234715700149536,
          -1.4619123935699463,
          -0.4129001796245575,
          -2.802699565887451,
          -5.911323070526123,
          -0.691760778427124,
          5.495787143707275,
          0.13907134532928467,
          0.36830297112464905,
          0.45242172479629517,
          -6.644485950469971,
          5.996086597442627,
          0.29987192153930664,
          1.7153078317642212,
          8.09199047088623,
          3.3292505741119385,
          4.0814995765686035,
          4.8278727531433105,
          -1.3987137079238892,
          0.27108657360076904,
          10.708511352539062,
          -10.266423225402832,
          10.198090553283691,
          -0.26146483421325684,
          3.5637404918670654,
          3.6501474380493164,
          5.715295314788818,
          2.4002764225006104,
          -10.65835189819336,
          12.4613676071167,
          2.5476746559143066,
          3.5545132160186768,
          -7.158170223236084,
          6.589168071746826,
          -2.656484842300415,
          -9.047855377197266,
          3.972947120666504,
          4.592499732971191,
          5.712438583374023,
          1.2349658012390137,
          6.874208450317383,
          7.263390064239502,
          -5.651280403137207,
          -3.198415756225586,
          5.103537082672119,
          12.0385160446167,
          14.358832359313965,
          0.34343042969703674,
          3.604168653488159,
          3.4832589626312256,
          4.437168598175049,
          2.0123844146728516,
          -0.3770245611667633,
          -1.6291621923446655,
          -2.1363275051116943,
          2.281390905380249,
          -1.0719289779663086,
          1.387764811515808,
          -0.11871902644634247,
          -1.9009110927581787,
          -0.4922243058681488,
          -4.403199195861816,
          2.45678973197937,
          0.28489989042282104,
          8.669170379638672,
          -1.6057791709899902,
          1.9833520650863647,
          5.716316223144531,
          -0.3214094042778015,
          2.1711597442626953,
          -3.1859872341156006,
          0.8280492424964905,
          1.942386269569397,
          -0.8406955003738403,
          4.944843769073486,
          1.5150964260101318,
          2.802344799041748,
          3.315322160720825,
          -0.07261241227388382,
          5.611073017120361,
          7.11722469329834,
          5.88051176071167,
          -0.24675074219703674,
          0.012080739252269268,
          -1.08492910861969,
          12.426080703735352,
          3.9900496006011963,
          -8.370281219482422,
          -8.44563102722168,
          5.914308071136475,
          -4.77687931060791,
          -5.600203990936279,
          3.508100986480713,
          0.8577768206596375,
          -5.553152561187744,
          4.813292980194092,
          7.075743198394775,
          4.270137310028076,
          4.693666934967041,
          3.179933547973633,
          4.218393802642822,
          4.217970371246338,
          -0.8253828883171082,
          6.8952107429504395,
          4.082067489624023,
          6.69927978515625,
          12.683441162109375,
          -6.449478626251221,
          3.482779026031494,
          0.20309284329414368,
          -0.4463210701942444,
          12.460408210754395,
          0.2835254669189453,
          -9.02496337890625,
          -1.177160382270813,
          6.53930139541626,
          -0.890706479549408,
          6.911834239959717,
          7.348310947418213,
          13.90455150604248,
          -11.595477104187012,
          2.66304087638855,
          0.33450669050216675,
          -1.053017497062683,
          -10.019831657409668,
          5.453245162963867,
          9.235307693481445,
          4.937061786651611,
          6.176613807678223,
          6.947131156921387,
          4.369973659515381,
          0.9892817735671997,
          -0.32706600427627563,
          14.059879302978516,
          -1.2841962575912476,
          -0.7624832987785339,
          -4.4178547859191895,
          4.495278358459473,
          3.7525017261505127,
          -3.0383872985839844,
          4.209227561950684,
          5.679625034332275,
          -0.15848249197006226,
          5.484524726867676,
          12.919180870056152,
          7.433777332305908,
          -4.669978618621826,
          1.328033447265625,
          -1.64486825466156,
          -0.03340720757842064,
          11.802927017211914,
          -1.8271288871765137,
          -6.556754112243652,
          1.2778348922729492,
          -6.669894695281982,
          -9.48630428314209,
          -6.255507469177246,
          -0.7414526343345642,
          1.072104811668396,
          -2.067699909210205,
          -6.208410263061523,
          2.302839994430542,
          5.633002758026123,
          5.140238285064697,
          6.7070112228393555,
          7.638627052307129,
          0.454836368560791,
          -0.23960629105567932,
          -6.599039077758789,
          7.226133823394775,
          2.4866397380828857,
          -4.211056232452393,
          4.540414333343506,
          3.2959940433502197,
          1.0124303102493286,
          4.478700637817383,
          9.298941612243652,
          8.213639259338379,
          3.741830825805664,
          2.948437452316284,
          -0.6317809820175171,
          5.610837459564209,
          0.6737273335456848,
          0.47182369232177734,
          -3.6644575595855713,
          -1.2299416065216064,
          -0.995330274105072,
          0.1620251089334488,
          -1.4943398237228394,
          -5.221601963043213,
          -0.46795350313186646,
          -2.976027488708496,
          -2.4886159896850586,
          6.85281229019165,
          -5.157148838043213,
          -0.6495426893234253,
          -3.834169387817383,
          0.2522425055503845,
          -3.2837557792663574,
          -0.4523887634277344,
          -1.2078644037246704,
          2.028984308242798,
          2.9669525623321533,
          -6.9870429039001465,
          0.15617407858371735,
          4.6284027099609375,
          1.624857783317566,
          2.912684917449951,
          -1.5487205982208252,
          4.371634483337402,
          -8.466462135314941,
          -10.818855285644531,
          3.9294629096984863,
          -1.705798625946045,
          -6.877143383026123,
          3.4141154289245605,
          -1.1185873746871948,
          -6.565055847167969,
          -0.49348899722099304,
          4.259965896606445,
          -12.508645057678223,
          -7.493487358093262,
          5.2205400466918945,
          1.2537425756454468,
          -3.8022477626800537,
          1.2572797536849976,
          -0.23669923841953278,
          5.605482578277588,
          7.205775260925293,
          2.5762243270874023,
          -8.50626277923584,
          2.9528937339782715,
          2.2775747776031494,
          3.991732358932495,
          2.87255597114563,
          3.3806521892547607,
          -10.188806533813477,
          -2.0340616703033447,
          -0.9093760848045349,
          2.655482769012451,
          -0.3674389123916626,
          -3.1391289234161377,
          2.759204387664795,
          -2.784982204437256,
          -0.25277987122535706,
          -3.426447868347168,
          -2.9134349822998047,
          5.958802223205566,
          -1.9142404794692993,
          5.357591152191162,
          -1.3281201124191284,
          -3.534296989440918,
          -1.3654875755310059,
          6.786356449127197,
          1.0475529432296753,
          2.938056707382202,
          5.58821964263916,
          -5.282676696777344,
          -0.8581101894378662,
          3.135120391845703,
          5.237149238586426,
          1.3493297100067139,
          2.112187385559082,
          1.070379376411438,
          1.0391249656677246,
          3.186380624771118,
          -2.819556713104248,
          3.0825047492980957,
          -10.892291069030762,
          6.770703315734863,
          -2.1976585388183594,
          -0.9845511317253113,
          4.0856499671936035,
          -1.2636200189590454,
          1.661214828491211,
          -3.1797091960906982,
          6.689257621765137,
          0.8965927362442017,
          3.232477903366089,
          12.781989097595215,
          0.7450394034385681,
          -4.091460704803467,
          4.247750282287598,
          0.017963020130991936,
          8.268089294433594,
          -5.997459888458252,
          -7.229599475860596,
          -0.7053161859512329,
          3.8184876441955566,
          -3.7449605464935303,
          -0.7810240387916565,
          1.622468113899231,
          2.968215227127075,
          -4.6371941566467285,
          3.719285249710083,
          1.2492655515670776,
          1.6626712083816528,
          -6.4691996574401855,
          4.137362480163574,
          0.805379331111908,
          -7.627556800842285,
          -9.415178298950195,
          4.134181022644043,
          7.767799377441406,
          -3.2007710933685303,
          -0.5523533821105957,
          0.12682412564754486,
          -0.880484402179718,
          0.5097321271896362,
          -3.8969461917877197,
          0.04451947286725044,
          0.7246089577674866,
          5.637807369232178,
          0.4516642987728119,
          13.911734580993652,
          -0.2375970482826233,
          14.351582527160645,
          7.258939743041992,
          6.555171012878418,
          12.059258460998535,
          11.47987174987793,
          1.454966425895691,
          4.774045944213867,
          4.763882637023926,
          4.459423542022705,
          0.4549824595451355,
          1.3049044609069824,
          5.955780982971191,
          0.5046774744987488,
          -1.1278914213180542,
          2.8558173179626465,
          -3.3052423000335693,
          2.8516483306884766,
          3.641056776046753,
          4.59833288192749,
          2.9000356197357178,
          8.50209903717041,
          10.669538497924805,
          1.288527250289917,
          3.801422119140625,
          -6.564393997192383,
          -3.1626830101013184,
          4.146663665771484,
          8.483062744140625,
          4.436424255371094,
          -5.90949010848999,
          4.136823654174805,
          0.22491979598999023,
          4.620275497436523,
          0.4792289137840271,
          -0.46801188588142395,
          0.3910876214504242,
          -2.1600687503814697,
          2.7827134132385254,
          2.389441967010498,
          7.436417579650879,
          6.900661468505859,
          6.1584038734436035,
          -0.4151971638202667,
          1.8492416143417358,
          0.10485769063234329,
          0.8786942958831787,
          5.224186420440674,
          7.576802730560303,
          1.5070873498916626,
          3.5193495750427246,
          0.628270149230957,
          0.5605302453041077,
          6.809861660003662,
          -0.49621281027793884,
          1.7104800939559937,
          2.292928457260132,
          2.1588616371154785,
          1.2595895528793335,
          10.173707008361816,
          3.9256227016448975,
          -1.867085337638855,
          2.998551607131958,
          1.8411141633987427,
          -7.255910396575928,
          -0.18170681595802307,
          -4.042562484741211,
          -4.534611701965332,
          4.042828559875488,
          3.346176862716675,
          -4.41309928894043,
          2.9497663974761963,
          -2.5623109340667725,
          -9.399849891662598,
          8.267535209655762,
          -4.1673994064331055,
          -0.36505311727523804,
          -0.2752973139286041,
          -4.024316787719727,
          -1.7965385913848877,
          6.446438789367676,
          -6.778361797332764,
          -2.4332518577575684,
          1.240918517112732,
          -6.818589687347412,
          0.06934329122304916,
          -0.9019598960876465,
          -1.7207087278366089,
          5.443721771240234,
          0.7256945967674255,
          2.723395824432373,
          0.9933710098266602,
          7.080446720123291,
          4.479263782501221,
          0.032561663538217545,
          7.298585891723633,
          -5.514517784118652,
          8.099800109863281,
          4.930629730224609,
          7.074552536010742,
          1.6360149383544922,
          8.076837539672852,
          1.574181079864502,
          -0.7411010265350342,
          -1.0358023643493652,
          4.026819705963135,
          -3.5303268432617188,
          1.4133049249649048,
          3.463736057281494,
          1.533995270729065,
          -1.2948240041732788,
          -1.1166415214538574,
          -6.220004558563232,
          -3.877228021621704,
          -1.9512841701507568,
          -0.22465211153030396,
          -7.3744635581970215,
          2.7069969177246094,
          1.0274444818496704,
          -5.047126770019531,
          -6.457486152648926,
          -12.242568969726562,
          -6.491729259490967,
          0.6853270530700684,
          -10.14435863494873,
          -11.381319999694824,
          1.6209909915924072,
          -9.675915718078613,
          -11.197352409362793,
          6.329756259918213,
          -2.3116185665130615,
          -1.7790206670761108,
          -1.5121878385543823,
          1.3117531538009644,
          3.709639072418213,
          -0.37138885259628296,
          0.8570422530174255,
          -11.865224838256836,
          1.1475399732589722,
          -10.42046070098877,
          -1.263674020767212,
          -1.9009344577789307,
          -10.613082885742188,
          3.8156120777130127,
          -9.840686798095703,
          0.737466037273407,
          -9.011269569396973,
          0.9395095705986023,
          4.880000591278076,
          1.444969892501831,
          5.973386764526367,
          -7.121293544769287,
          -4.4883551597595215,
          -11.398520469665527,
          3.5604665279388428,
          6.817171573638916,
          0.635965883731842,
          2.5476741790771484,
          -5.366662979125977,
          1.63856041431427,
          -5.307503700256348,
          -3.611950635910034,
          -4.675107002258301,
          1.2473050355911255,
          -3.3054230213165283,
          -7.001522064208984,
          1.1092619895935059,
          0.4549349248409271,
          -0.4653778672218323,
          -3.076904058456421,
          -1.2304942607879639,
          -3.4529850482940674,
          4.228799343109131,
          3.7395050525665283,
          -2.374480724334717,
          -0.47312045097351074,
          3.222782611846924,
          6.5236992835998535,
          1.9400551319122314,
          6.704287052154541,
          5.03191614151001,
          -0.17671135067939758,
          -0.5038505792617798,
          -8.25151538848877,
          2.04302716255188,
          3.9841978549957275,
          3.0006513595581055,
          -3.4080824851989746,
          -6.488550662994385,
          -6.880748748779297,
          -5.418635845184326,
          -1.3132224082946777,
          -11.517854690551758,
          5.401829242706299,
          -1.2986199855804443,
          0.5766513347625732,
          -0.9789355397224426,
          2.150102138519287,
          -1.6026097536087036,
          4.176008224487305,
          -3.1066572666168213,
          -1.325721263885498,
          -2.0232901573181152,
          -5.5424017906188965,
          -0.3982793390750885,
          -0.8415884971618652,
          -2.686467409133911,
          0.5770759582519531,
          -0.43703994154930115,
          1.0342299938201904,
          -2.1528992652893066,
          7.232805252075195,
          6.378330230712891,
          0.554323136806488,
          6.485073089599609,
          -5.535682201385498,
          -0.38756123185157776,
          -3.066127061843872,
          -5.5467729568481445,
          0.9485979080200195,
          7.024296760559082,
          1.5080851316452026,
          1.413926601409912,
          2.752660036087036,
          -5.566437721252441,
          -0.6154460906982422,
          -5.500923156738281,
          -4.536780834197998,
          -0.7033383846282959,
          -2.8630149364471436,
          -3.878380298614502,
          -4.616740703582764,
          -0.8152902722358704,
          4.960175514221191,
          7.523810386657715,
          -5.011804580688477,
          0.35002440214157104,
          -5.205697536468506,
          -5.848323345184326,
          -4.253396987915039,
          1.3417131900787354,
          4.648671627044678,
          3.6929008960723877,
          2.110105037689209,
          3.9085693359375,
          1.7960948944091797,
          4.039881706237793,
          2.9782896041870117,
          -8.55530071258545,
          7.029851913452148,
          7.910247802734375,
          2.389482021331787,
          7.587268352508545,
          4.9177117347717285,
          6.649074554443359,
          3.698042869567871,
          2.550431728363037,
          2.596236228942871,
          5.108563423156738,
          5.587810516357422,
          -10.163093566894531,
          -0.46267321705818176,
          1.3775140047073364,
          4.378052234649658,
          -0.7348974943161011,
          -1.6009392738342285,
          -3.1729655265808105,
          -4.051046371459961,
          -1.6971200704574585,
          -6.18911075592041,
          -4.867001533508301,
          -1.261595606803894,
          -5.500139236450195,
          -2.3860116004943848,
          -0.19195811450481415,
          -9.26208782196045,
          -1.4408994913101196,
          -2.342014789581299,
          5.586252689361572,
          7.359751224517822,
          -9.948701858520508,
          -10.558188438415527,
          1.2307640314102173,
          -12.477470397949219,
          -5.403417587280273,
          -12.59643840789795,
          -0.9692514538764954,
          6.869154453277588,
          4.6507720947265625,
          -2.456010103225708,
          -11.939834594726562,
          6.721833229064941,
          -9.355676651000977,
          -11.927756309509277,
          -9.555049896240234,
          -0.7158973217010498,
          -6.105851173400879,
          1.9234669208526611,
          6.088934421539307,
          -5.581981182098389,
          -0.9707221984863281,
          1.510269045829773,
          -1.8147107362747192,
          -5.094086647033691,
          0.3997252881526947,
          0.7745704054832458,
          -4.616738319396973,
          -0.7339267730712891,
          -2.1825528144836426,
          6.338695049285889,
          2.4752695560455322,
          -0.6596375107765198,
          5.462475776672363,
          -2.7452011108398438,
          -1.2582738399505615,
          6.481011867523193,
          -3.727219581604004,
          -2.2768940925598145,
          -0.29915767908096313,
          -0.3403812050819397,
          -2.5564138889312744,
          -6.636518955230713,
          -5.4786858558654785,
          -2.044297695159912,
          0.27880266308784485,
          -2.1301209926605225,
          0.47526925802230835,
          -3.3912768363952637,
          0.6580496430397034,
          -0.7960426807403564,
          -8.297123908996582,
          4.553581237792969,
          4.685989856719971,
          -7.735405921936035,
          4.090573787689209,
          -7.660218238830566,
          0.3103006184101105,
          -8.819059371948242,
          -8.117924690246582,
          1.1930063962936401,
          12.218523979187012,
          -1.7886998653411865,
          -7.747863292694092,
          -1.7536704540252686,
          -1.6013072729110718,
          -0.18466699123382568,
          -6.283572196960449,
          -10.891988754272461,
          -3.712329626083374,
          -0.3473805785179138,
          -1.7829854488372803,
          -1.7270783185958862,
          -8.374329566955566,
          4.863039016723633,
          -1.7123713493347168,
          2.4063961505889893,
          -8.49612808227539,
          -3.1079888343811035,
          5.241917133331299,
          0.5409966707229614,
          7.996117115020752,
          -1.7958821058273315,
          0.17162035405635834,
          -3.6000349521636963,
          -1.4415136575698853,
          6.100928783416748,
          0.4359583854675293,
          -3.8353772163391113,
          5.4084248542785645,
          -0.6787570714950562,
          7.201976776123047,
          0.8616355061531067,
          -5.939611434936523,
          8.153545379638672,
          -4.483942031860352,
          8.313329696655273,
          -3.444723606109619,
          -1.6179661750793457,
          0.4581950902938843,
          -4.77988862991333,
          0.6913291811943054,
          -6.20396614074707,
          3.7879533767700195,
          1.7225252389907837,
          -0.3188706934452057,
          -0.056857988238334656,
          3.3661770820617676,
          -0.16894443333148956,
          2.1299233436584473,
          -0.8984552025794983,
          -3.0113043785095215,
          -4.366215705871582,
          1.3962920904159546,
          -4.125478267669678,
          -3.7290825843811035,
          -3.982067584991455,
          -2.389920949935913,
          -2.556704521179199,
          -0.9999527335166931,
          -3.780062675476074,
          -4.494330883026123,
          -1.7419668436050415,
          -6.650125503540039,
          -6.601232528686523,
          -8.300326347351074,
          -0.3794422149658203,
          -3.487372636795044,
          -9.10828971862793,
          -10.817667961120605,
          -3.6965231895446777,
          -10.127260208129883,
          -2.782444953918457,
          -7.167733669281006,
          -10.68040943145752,
          -9.365907669067383,
          -3.583733558654785,
          1.4332005977630615,
          3.078122615814209,
          5.050266742706299,
          7.146033763885498,
          -0.5176833868026733,
          -1.7607078552246094,
          -0.34694650769233704,
          -0.0038112150505185127,
          -4.007326602935791,
          -2.6053829193115234,
          -2.8718514442443848,
          -5.067765235900879,
          7.704057693481445,
          -2.4450385570526123,
          -0.5208237767219543,
          -0.7294390797615051,
          -7.046160697937012,
          4.720384120941162,
          -3.2304375171661377,
          2.0910420417785645,
          -4.311620235443115,
          1.4952012300491333,
          6.505411624908447,
          6.640683174133301,
          4.614509582519531,
          4.345877170562744,
          -2.634075403213501,
          -4.676428318023682,
          -1.6639249324798584,
          0.5402546525001526,
          -4.1694769859313965,
          3.565643310546875,
          7.791959285736084,
          0.20677049458026886,
          1.3921304941177368,
          -0.6066058278083801,
          6.767760753631592,
          -4.024545669555664,
          -5.749810695648193,
          1.030596137046814
         ]
        }
       ],
       "layout": {
        "coloraxis": {
         "colorbar": {
          "title": {
           "text": "Year"
          }
         },
         "colorscale": [
          [
           0,
           "rgb(150,0,90)"
          ],
          [
           0.125,
           "rgb(0,0,200)"
          ],
          [
           0.25,
           "rgb(0,25,255)"
          ],
          [
           0.375,
           "rgb(0,152,255)"
          ],
          [
           0.5,
           "rgb(44,255,150)"
          ],
          [
           0.625,
           "rgb(151,255,0)"
          ],
          [
           0.75,
           "rgb(255,234,0)"
          ],
          [
           0.875,
           "rgb(255,111,0)"
          ],
          [
           1,
           "rgb(255,0,0)"
          ]
         ]
        },
        "legend": {
         "tracegroupgap": 0
        },
        "margin": {
         "t": 60
        },
        "scene": {
         "domain": {
          "x": [
           0,
           1
          ],
          "y": [
           0,
           1
          ]
         },
         "xaxis": {
          "title": {
           "text": "0"
          }
         },
         "yaxis": {
          "title": {
           "text": "1"
          }
         },
         "zaxis": {
          "title": {
           "text": "2"
          }
         }
        },
        "template": {
         "data": {
          "bar": [
           {
            "error_x": {
             "color": "#2a3f5f"
            },
            "error_y": {
             "color": "#2a3f5f"
            },
            "marker": {
             "line": {
              "color": "#E5ECF6",
              "width": 0.5
             }
            },
            "type": "bar"
           }
          ],
          "barpolar": [
           {
            "marker": {
             "line": {
              "color": "#E5ECF6",
              "width": 0.5
             }
            },
            "type": "barpolar"
           }
          ],
          "carpet": [
           {
            "aaxis": {
             "endlinecolor": "#2a3f5f",
             "gridcolor": "white",
             "linecolor": "white",
             "minorgridcolor": "white",
             "startlinecolor": "#2a3f5f"
            },
            "baxis": {
             "endlinecolor": "#2a3f5f",
             "gridcolor": "white",
             "linecolor": "white",
             "minorgridcolor": "white",
             "startlinecolor": "#2a3f5f"
            },
            "type": "carpet"
           }
          ],
          "choropleth": [
           {
            "colorbar": {
             "outlinewidth": 0,
             "ticks": ""
            },
            "type": "choropleth"
           }
          ],
          "contour": [
           {
            "colorbar": {
             "outlinewidth": 0,
             "ticks": ""
            },
            "colorscale": [
             [
              0,
              "#0d0887"
             ],
             [
              0.1111111111111111,
              "#46039f"
             ],
             [
              0.2222222222222222,
              "#7201a8"
             ],
             [
              0.3333333333333333,
              "#9c179e"
             ],
             [
              0.4444444444444444,
              "#bd3786"
             ],
             [
              0.5555555555555556,
              "#d8576b"
             ],
             [
              0.6666666666666666,
              "#ed7953"
             ],
             [
              0.7777777777777778,
              "#fb9f3a"
             ],
             [
              0.8888888888888888,
              "#fdca26"
             ],
             [
              1,
              "#f0f921"
             ]
            ],
            "type": "contour"
           }
          ],
          "contourcarpet": [
           {
            "colorbar": {
             "outlinewidth": 0,
             "ticks": ""
            },
            "type": "contourcarpet"
           }
          ],
          "heatmap": [
           {
            "colorbar": {
             "outlinewidth": 0,
             "ticks": ""
            },
            "colorscale": [
             [
              0,
              "#0d0887"
             ],
             [
              0.1111111111111111,
              "#46039f"
             ],
             [
              0.2222222222222222,
              "#7201a8"
             ],
             [
              0.3333333333333333,
              "#9c179e"
             ],
             [
              0.4444444444444444,
              "#bd3786"
             ],
             [
              0.5555555555555556,
              "#d8576b"
             ],
             [
              0.6666666666666666,
              "#ed7953"
             ],
             [
              0.7777777777777778,
              "#fb9f3a"
             ],
             [
              0.8888888888888888,
              "#fdca26"
             ],
             [
              1,
              "#f0f921"
             ]
            ],
            "type": "heatmap"
           }
          ],
          "heatmapgl": [
           {
            "colorbar": {
             "outlinewidth": 0,
             "ticks": ""
            },
            "colorscale": [
             [
              0,
              "#0d0887"
             ],
             [
              0.1111111111111111,
              "#46039f"
             ],
             [
              0.2222222222222222,
              "#7201a8"
             ],
             [
              0.3333333333333333,
              "#9c179e"
             ],
             [
              0.4444444444444444,
              "#bd3786"
             ],
             [
              0.5555555555555556,
              "#d8576b"
             ],
             [
              0.6666666666666666,
              "#ed7953"
             ],
             [
              0.7777777777777778,
              "#fb9f3a"
             ],
             [
              0.8888888888888888,
              "#fdca26"
             ],
             [
              1,
              "#f0f921"
             ]
            ],
            "type": "heatmapgl"
           }
          ],
          "histogram": [
           {
            "marker": {
             "colorbar": {
              "outlinewidth": 0,
              "ticks": ""
             }
            },
            "type": "histogram"
           }
          ],
          "histogram2d": [
           {
            "colorbar": {
             "outlinewidth": 0,
             "ticks": ""
            },
            "colorscale": [
             [
              0,
              "#0d0887"
             ],
             [
              0.1111111111111111,
              "#46039f"
             ],
             [
              0.2222222222222222,
              "#7201a8"
             ],
             [
              0.3333333333333333,
              "#9c179e"
             ],
             [
              0.4444444444444444,
              "#bd3786"
             ],
             [
              0.5555555555555556,
              "#d8576b"
             ],
             [
              0.6666666666666666,
              "#ed7953"
             ],
             [
              0.7777777777777778,
              "#fb9f3a"
             ],
             [
              0.8888888888888888,
              "#fdca26"
             ],
             [
              1,
              "#f0f921"
             ]
            ],
            "type": "histogram2d"
           }
          ],
          "histogram2dcontour": [
           {
            "colorbar": {
             "outlinewidth": 0,
             "ticks": ""
            },
            "colorscale": [
             [
              0,
              "#0d0887"
             ],
             [
              0.1111111111111111,
              "#46039f"
             ],
             [
              0.2222222222222222,
              "#7201a8"
             ],
             [
              0.3333333333333333,
              "#9c179e"
             ],
             [
              0.4444444444444444,
              "#bd3786"
             ],
             [
              0.5555555555555556,
              "#d8576b"
             ],
             [
              0.6666666666666666,
              "#ed7953"
             ],
             [
              0.7777777777777778,
              "#fb9f3a"
             ],
             [
              0.8888888888888888,
              "#fdca26"
             ],
             [
              1,
              "#f0f921"
             ]
            ],
            "type": "histogram2dcontour"
           }
          ],
          "mesh3d": [
           {
            "colorbar": {
             "outlinewidth": 0,
             "ticks": ""
            },
            "type": "mesh3d"
           }
          ],
          "parcoords": [
           {
            "line": {
             "colorbar": {
              "outlinewidth": 0,
              "ticks": ""
             }
            },
            "type": "parcoords"
           }
          ],
          "pie": [
           {
            "automargin": true,
            "type": "pie"
           }
          ],
          "scatter": [
           {
            "marker": {
             "colorbar": {
              "outlinewidth": 0,
              "ticks": ""
             }
            },
            "type": "scatter"
           }
          ],
          "scatter3d": [
           {
            "line": {
             "colorbar": {
              "outlinewidth": 0,
              "ticks": ""
             }
            },
            "marker": {
             "colorbar": {
              "outlinewidth": 0,
              "ticks": ""
             }
            },
            "type": "scatter3d"
           }
          ],
          "scattercarpet": [
           {
            "marker": {
             "colorbar": {
              "outlinewidth": 0,
              "ticks": ""
             }
            },
            "type": "scattercarpet"
           }
          ],
          "scattergeo": [
           {
            "marker": {
             "colorbar": {
              "outlinewidth": 0,
              "ticks": ""
             }
            },
            "type": "scattergeo"
           }
          ],
          "scattergl": [
           {
            "marker": {
             "colorbar": {
              "outlinewidth": 0,
              "ticks": ""
             }
            },
            "type": "scattergl"
           }
          ],
          "scattermapbox": [
           {
            "marker": {
             "colorbar": {
              "outlinewidth": 0,
              "ticks": ""
             }
            },
            "type": "scattermapbox"
           }
          ],
          "scatterpolar": [
           {
            "marker": {
             "colorbar": {
              "outlinewidth": 0,
              "ticks": ""
             }
            },
            "type": "scatterpolar"
           }
          ],
          "scatterpolargl": [
           {
            "marker": {
             "colorbar": {
              "outlinewidth": 0,
              "ticks": ""
             }
            },
            "type": "scatterpolargl"
           }
          ],
          "scatterternary": [
           {
            "marker": {
             "colorbar": {
              "outlinewidth": 0,
              "ticks": ""
             }
            },
            "type": "scatterternary"
           }
          ],
          "surface": [
           {
            "colorbar": {
             "outlinewidth": 0,
             "ticks": ""
            },
            "colorscale": [
             [
              0,
              "#0d0887"
             ],
             [
              0.1111111111111111,
              "#46039f"
             ],
             [
              0.2222222222222222,
              "#7201a8"
             ],
             [
              0.3333333333333333,
              "#9c179e"
             ],
             [
              0.4444444444444444,
              "#bd3786"
             ],
             [
              0.5555555555555556,
              "#d8576b"
             ],
             [
              0.6666666666666666,
              "#ed7953"
             ],
             [
              0.7777777777777778,
              "#fb9f3a"
             ],
             [
              0.8888888888888888,
              "#fdca26"
             ],
             [
              1,
              "#f0f921"
             ]
            ],
            "type": "surface"
           }
          ],
          "table": [
           {
            "cells": {
             "fill": {
              "color": "#EBF0F8"
             },
             "line": {
              "color": "white"
             }
            },
            "header": {
             "fill": {
              "color": "#C8D4E3"
             },
             "line": {
              "color": "white"
             }
            },
            "type": "table"
           }
          ]
         },
         "layout": {
          "annotationdefaults": {
           "arrowcolor": "#2a3f5f",
           "arrowhead": 0,
           "arrowwidth": 1
          },
          "coloraxis": {
           "colorbar": {
            "outlinewidth": 0,
            "ticks": ""
           }
          },
          "colorscale": {
           "diverging": [
            [
             0,
             "#8e0152"
            ],
            [
             0.1,
             "#c51b7d"
            ],
            [
             0.2,
             "#de77ae"
            ],
            [
             0.3,
             "#f1b6da"
            ],
            [
             0.4,
             "#fde0ef"
            ],
            [
             0.5,
             "#f7f7f7"
            ],
            [
             0.6,
             "#e6f5d0"
            ],
            [
             0.7,
             "#b8e186"
            ],
            [
             0.8,
             "#7fbc41"
            ],
            [
             0.9,
             "#4d9221"
            ],
            [
             1,
             "#276419"
            ]
           ],
           "sequential": [
            [
             0,
             "#0d0887"
            ],
            [
             0.1111111111111111,
             "#46039f"
            ],
            [
             0.2222222222222222,
             "#7201a8"
            ],
            [
             0.3333333333333333,
             "#9c179e"
            ],
            [
             0.4444444444444444,
             "#bd3786"
            ],
            [
             0.5555555555555556,
             "#d8576b"
            ],
            [
             0.6666666666666666,
             "#ed7953"
            ],
            [
             0.7777777777777778,
             "#fb9f3a"
            ],
            [
             0.8888888888888888,
             "#fdca26"
            ],
            [
             1,
             "#f0f921"
            ]
           ],
           "sequentialminus": [
            [
             0,
             "#0d0887"
            ],
            [
             0.1111111111111111,
             "#46039f"
            ],
            [
             0.2222222222222222,
             "#7201a8"
            ],
            [
             0.3333333333333333,
             "#9c179e"
            ],
            [
             0.4444444444444444,
             "#bd3786"
            ],
            [
             0.5555555555555556,
             "#d8576b"
            ],
            [
             0.6666666666666666,
             "#ed7953"
            ],
            [
             0.7777777777777778,
             "#fb9f3a"
            ],
            [
             0.8888888888888888,
             "#fdca26"
            ],
            [
             1,
             "#f0f921"
            ]
           ]
          },
          "colorway": [
           "#636efa",
           "#EF553B",
           "#00cc96",
           "#ab63fa",
           "#FFA15A",
           "#19d3f3",
           "#FF6692",
           "#B6E880",
           "#FF97FF",
           "#FECB52"
          ],
          "font": {
           "color": "#2a3f5f"
          },
          "geo": {
           "bgcolor": "white",
           "lakecolor": "white",
           "landcolor": "#E5ECF6",
           "showlakes": true,
           "showland": true,
           "subunitcolor": "white"
          },
          "hoverlabel": {
           "align": "left"
          },
          "hovermode": "closest",
          "mapbox": {
           "style": "light"
          },
          "paper_bgcolor": "white",
          "plot_bgcolor": "#E5ECF6",
          "polar": {
           "angularaxis": {
            "gridcolor": "white",
            "linecolor": "white",
            "ticks": ""
           },
           "bgcolor": "#E5ECF6",
           "radialaxis": {
            "gridcolor": "white",
            "linecolor": "white",
            "ticks": ""
           }
          },
          "scene": {
           "xaxis": {
            "backgroundcolor": "#E5ECF6",
            "gridcolor": "white",
            "gridwidth": 2,
            "linecolor": "white",
            "showbackground": true,
            "ticks": "",
            "zerolinecolor": "white"
           },
           "yaxis": {
            "backgroundcolor": "#E5ECF6",
            "gridcolor": "white",
            "gridwidth": 2,
            "linecolor": "white",
            "showbackground": true,
            "ticks": "",
            "zerolinecolor": "white"
           },
           "zaxis": {
            "backgroundcolor": "#E5ECF6",
            "gridcolor": "white",
            "gridwidth": 2,
            "linecolor": "white",
            "showbackground": true,
            "ticks": "",
            "zerolinecolor": "white"
           }
          },
          "shapedefaults": {
           "line": {
            "color": "#2a3f5f"
           }
          },
          "ternary": {
           "aaxis": {
            "gridcolor": "white",
            "linecolor": "white",
            "ticks": ""
           },
           "baxis": {
            "gridcolor": "white",
            "linecolor": "white",
            "ticks": ""
           },
           "bgcolor": "#E5ECF6",
           "caxis": {
            "gridcolor": "white",
            "linecolor": "white",
            "ticks": ""
           }
          },
          "title": {
           "x": 0.05
          },
          "xaxis": {
           "automargin": true,
           "gridcolor": "white",
           "linecolor": "white",
           "ticks": "",
           "title": {
            "standoff": 15
           },
           "zerolinecolor": "white",
           "zerolinewidth": 2
          },
          "yaxis": {
           "automargin": true,
           "gridcolor": "white",
           "linecolor": "white",
           "ticks": "",
           "title": {
            "standoff": 15
           },
           "zerolinecolor": "white",
           "zerolinewidth": 2
          }
         }
        }
       }
      },
      "text/html": [
       "<div>\n",
       "        \n",
       "        \n",
       "            <div id=\"3fc44b59-004c-420e-97e4-58d7e53fe45a\" class=\"plotly-graph-div\" style=\"height:525px; width:100%;\"></div>\n",
       "            <script type=\"text/javascript\">\n",
       "                require([\"plotly\"], function(Plotly) {\n",
       "                    window.PLOTLYENV=window.PLOTLYENV || {};\n",
       "                    \n",
       "                if (document.getElementById(\"3fc44b59-004c-420e-97e4-58d7e53fe45a\")) {\n",
       "                    Plotly.newPlot(\n",
       "                        '3fc44b59-004c-420e-97e4-58d7e53fe45a',\n",
       "                        [{\"customdata\": [[\"MF, alzheim, autonomi, 6-sulphatoxy-melatonin, \", \"Noisy and individual, but doable: Shift-work research in humans\"], [\"0.023.conclus, 14-15-hz, 6-sulftoxymelatonin, PA, \", \"Loss of circadian rhythms of fetal behaviour in a totally adrenalectomized pregnant woman.\"], [\"'direct, assembl, 20e, assays.result, \", \"Biological rhythms: the science of chronobiology.\"], [\"IR, 0.023.conclus, 35-day, IN, \", \"Circadian rhythm of prolactin during the menstrual cycle.\"], [\"5-androstene-3beta, 1x10, 1.7-fold, GG, \", \"Use of transdermal melatonin delivery to improve sleep maintenance during daytime.\"], [\"0.023.conclus, 14-15-hz, 6-sulftoxymelatonin, PA, \", \"A 50-Hz electromagnetic field impairs sleep.\"], [\"0.023.conclus, 14-15-hz, 6-sulftoxymelatonin, PA, \", \"Relationship between diurnal rhythm of serum testosterone and two prostatic markers (PSA and PAP) in untreated prostate cancer.\"], [\"1-tail, alia, 1beta, 1-week, \", \"[Pineal gland, biorhythms and aging of an organism].\"], [\"0.023.conclus, 14-15-hz, 6-sulftoxymelatonin, PA, \", \"Gonadotropin-releasing hormone pulse generator activity during pubertal transition in girls: pulsatile and diurnal patterns of circulating gonadotropins.\"], [\"'direct, assembl, 20e, assays.result, \", \"How sleep and wakefulness influence circadian rhythmicity: effects of insufficient and mistimed sleep on the animal and human transcriptome.\"], [\"MF, alzheim, autonomi, 6-sulphatoxy-melatonin, \", \"Does melatonin improve sleep? Efficacy of melatonin.\"], [\"'direct, assembl, 20e, assays.result, \", \"Shift work: coping with the biological clock.\"], [\"/mmcp2, OS, admit, 4-vntr, \", \"Synchronization of mammalian circadian rhythms by melatonin.\"], [\"2400h, 24-26-hr, 18-oh-deoxycorticosteron, 38-h, \", \"[Circadian rhythms in the endocrine system (author's transl)].\"], [\"advanc, afflict, 'everyth, NA, \", \"Twisting the night away: a review of the neurobiology, genetics, diagnosis, and treatment of shift work disorder.\"], [\"1ul1, anti-gonadotrop, antiag, alik, \", \"Can melatonin improve shift workers' tolerance of the night shift? Some preliminary findings.\"], [\"0.023.conclus, 14-15-hz, 6-sulftoxymelatonin, PA, \", \"Pre-adaptation to shiftwork in space.\"], [\"2400h, 24-26-hr, 18-oh-deoxycorticosteron, 38-h, \", \"The chronopathology of breast pre-cancer.\"], [\"0.023.conclus, 14-15-hz, 6-sulftoxymelatonin, PA, \", \"Chronobiological disorders: current and prevalent conditions.\"], [\"5-androstene-3beta, 1x10, 1.7-fold, GG, \", \"[The ultradian rhythm of sleep: diverse relations with pituitary and adrenal hormones].\"], [\"0.023.conclus, 14-15-hz, 6-sulftoxymelatonin, PA, \", \"[Chronobiological sleep disorders and their treatment possibilities].\"], [\"appropri, acebo, aris, assumpt, \", \"Disturbing the light-darkness pattern reduces circulating testosterone in healthy men.\"], [\"MF, alzheim, autonomi, 6-sulphatoxy-melatonin, \", \"Improving sleep to reduce breast cancer risk in shift workers\"], [\"appropri, acebo, aris, assumpt, \", \"Shift work among women--a century-old health issue in occupational health\"], [\"appropri, acebo, aris, assumpt, \", \"Night shift work, chronotype, and prostate cancer risk: Incentives for additional analyses and prevention\"], [\"MF, alzheim, autonomi, 6-sulphatoxy-melatonin, \", \"Sleep duration and the risk of prostate cancer: the Ohsaki Cohort Study\"], [\"1-tail, alia, 1beta, 1-week, \", \"Occupation and breast cancer: Fitness for work is an aspect that needs to be addressed\"], [\"MF, alzheim, autonomi, 6-sulphatoxy-melatonin, \", \"Working the night shift may increase breast cancer risk\"], [\"appropri, acebo, aris, assumpt, \", \"[Night shift and the risk of hormone-dependent diseases in women]\"], [\"MF, alzheim, autonomi, 6-sulphatoxy-melatonin, \", \"Cohort mortality study of Swedish pulp and paper mill workers - nonmalignant diseases\"], [\"'direct, assembl, 20e, assays.result, \", \"[Epidemiology of breast cancer]\"], [\"'phase, acetyltransferas, angel, abpm, \", \"Light pollution, reproductive function and cancer risk\"], [\"MF, alzheim, autonomi, 6-sulphatoxy-melatonin, \", \"Light, endocrine systems and cancer--a meeting report\"], [\"appropri, acebo, aris, assumpt, \", \"[Light-dark conditions, melatonin and risk of cancer]\"], [\"MF, alzheim, autonomi, 6-sulphatoxy-melatonin, \", \"[Light desynchronization and the risk of cancer in humans: the state of the problem]\"], [\"MR, acknowledg, adiponectin, arous, \", \"Association of shift-work, daytime napping, and nighttime sleep with cancer incidence and cancer-caused mortality in Dongfeng-tongji cohort study\"], [\"appropri, acebo, aris, assumpt, \", \"Occupational diseases and night-shift work\"], [\"MF, alzheim, autonomi, 6-sulphatoxy-melatonin, \", \"Mechanisms by which circadian rhythm disruption may lead to cancer\"], [\"MF, alzheim, autonomi, 6-sulphatoxy-melatonin, \", \"Management of shift and night work in hospital\"], [\"appropri, acebo, aris, assumpt, \", \"What are the real risks for breast cancer?\"], [\"MF, alzheim, autonomi, 6-sulphatoxy-melatonin, \", \"Mortality experience among newspaper workers\"], [\"MF, alzheim, autonomi, 6-sulphatoxy-melatonin, \", \"Occupational cancer in developed countries\"], [\"'phase, acetyltransferas, angel, abpm, \", \"[Health examinations in connection with night work]\"], [\"'phase, acetyltransferas, angel, abpm, \", \"French Firefighter Mortality: Analysis Over a 30-year Period\"], [\"MF, alzheim, autonomi, 6-sulphatoxy-melatonin, \", \"A chronobiological perspective on allostasis and its application to shift work\"], [\"MF, alzheim, autonomi, 6-sulphatoxy-melatonin, \", \"The possible effects on health, comfort and safety of aircraft cabin environments\"], [\"MF, alzheim, autonomi, 6-sulphatoxy-melatonin, \", \"Sleep duration and mortality: A prospective study of 113,138 middle-aged and elderly Chinese men and women\"], [\"MF, alzheim, autonomi, 6-sulphatoxy-melatonin, \", \"Sleep-disordered breathing and cancer incidence: An association for the next decade?\"], [\"appropri, acebo, aris, assumpt, \", \"Further comments on novel schedule TLVs\"], [\"MF, alzheim, autonomi, 6-sulphatoxy-melatonin, \", \"Health consequences of circadian disruption in humans and animal models\"], [\"MR, acknowledg, adiponectin, arous, \", \"Sleep duration and sleep-disordered breathing and the risk of melanoma among US women and men\"], [\"MF, alzheim, autonomi, 6-sulphatoxy-melatonin, \", \"In favor of controlling proven, but not probable, causes of cancer\"], [\"MF, alzheim, autonomi, 6-sulphatoxy-melatonin, \", \"Rotating shift work and risk of prostate cancer\"], [\"MF, alzheim, autonomi, 6-sulphatoxy-melatonin, \", \"Nocturnal activity, a risk factor for endometrial cancer\"], [\"MF, alzheim, autonomi, 6-sulphatoxy-melatonin, \", \"Sleep duration, melatonin and breast cancer in the Singapore Chinese Health Study: On null results and their interpretation\"], [\"MF, alzheim, autonomi, 6-sulphatoxy-melatonin, \", \"Shift work and health: current problems and preventive actions\"], [\"-I, approach, +/-sem, abstarct, \", \"Shift and night work\"], [\"appropri, acebo, aris, assumpt, \", \"Light exposure and breast cancer\"], [\"MF, alzheim, autonomi, 6-sulphatoxy-melatonin, \", \"[Can light exposure affect the risk of breast cancer? Female flight attendants and shift-workers probably the most vulnerable groups]\"], [\"appropri, acebo, aris, assumpt, \", \"Association of breast cancer with sleep pattern--a pilot case control study in a regional cancer centre in South Asia\"], [\"appropri, acebo, aris, assumpt, \", \"Shift work and cancer - considerations on rationale, mechanisms, and epidemiology\"], [\"-I, approach, +/-sem, abstarct, \", \"Influence of lifestyle factors on breast cancer risk\"], [\"appropri, acebo, aris, assumpt, \", \"Dangerously sleepy: Overworked Americans and the cult of manly wakefulness\"], [\"ald, balanc, actillum, akt, \", \"Chronic Disease Risks From Exposure to Long-Hour Work Schedules Over a 32-Year Period\"], [\"appropri, acebo, aris, assumpt, \", \"Does light cause internal cancers? - The challenge to study an ubiquitous exposure epidemiologically\"], [\"appropri, acebo, aris, assumpt, \", \"Shift work and cancer: risk, compensation, challenges\"], [\"-I, approach, +/-sem, abstarct, \", \"Research into 'night shift work' and cancer: on the evolution of 'exposure' classification\"], [\"1ul1, anti-gonadotrop, antiag, alik, \", \"Sleep and cancer: Synthesis of experimental data and meta-analyses of cancer incidence among some 1,500,000 study individuals in 13 countries\"], [\"artist, analys, abstract, averag, \", \"Not all shifts are equal: it's time for comprehensive exposure metrics in chronodisruption research\"], [\"MF, alzheim, autonomi, 6-sulphatoxy-melatonin, \", \"Re: \\\"Night-shift work and breast cancer risk in a cohort of Chinese women\\\"\"], [\"appropri, acebo, aris, assumpt, \", \"Health disorders of shift workers\"], [\"1ul1, anti-gonadotrop, antiag, alik, \", \"21st International Symposium on Shiftwork and Working Time: The 24/7 Society - From chronobiology to practical life INTRODUCTION\"], [\"MF, alzheim, autonomi, 6-sulphatoxy-melatonin, \", \"Illuminating the deleterious effects of light at night\"], [\"MF, alzheim, autonomi, 6-sulphatoxy-melatonin, \", \"Shift work and cancer\"], [\"MF, alzheim, autonomi, 6-sulphatoxy-melatonin, \", \"[Night work as a possible risk factor for breast cancer in nurses. Correlation between the onset of tumors and alterations in blood melatonin levels]\"], [\"MF, alzheim, autonomi, 6-sulphatoxy-melatonin, \", \"Oncology and care in specialized and public media: Does aspirin reduce the risk of cancer? - Heparin therapy and survival in cancer - Cancer due to night work and shift work? - Does chondroitin sulfate help in radiation cystitis? Krill oil in joint complaints due to aromatase inhibitors?\"], [\"appropri, acebo, aris, assumpt, \", \"Oncology and Care in Specialized- and Public Media\"], [\"-I, approach, +/-sem, abstarct, \", \"Re: \\\"Night-shift work and breast cancer risk in a cohort of Chinese women\\\"\"], [\"'direct, assembl, 20e, assays.result, \", \"Putative Links Between Sleep Apnea and Cancer From Hypotheses to Evolving Evidence\"], [\"appropri, acebo, aris, assumpt, \", \"Re: \\\"Night work and the risk of cancer among men\\\"\"], [\"appropri, acebo, aris, assumpt, \", \"Low ultraviolet-B exposure may explain some of the link between night shift work and increased risk of prostate cancer\"], [\"and-accord, avow, automot, W, \", \"Rotating night shift work and cancer mortality in the nurses' health study\"], [\"beadchip, =filter, 9-h, 9-hour, \", \"[Let's save our nurses and doctors!]\"], [\"-I, approach, +/-sem, abstarct, \", \"Prevention and treatment of breast cancer by light and food\"], [\"MF, alzheim, autonomi, 6-sulphatoxy-melatonin, \", \"Occupation and cancer risk by use of Danish registers\"], [\"b=2.3, .method, androgen, america, \", \"[Night work, a probable risk factor for breast cancer]\"], [\"appropri, acebo, aris, assumpt, \", \"Occupational cancer in Britain: Industry sector results\"], [\"appropri, acebo, aris, assumpt, \", \"Reply to the Letter to the Editor, Re: Night-shift work and risk of breast cancer (Kamdar et al., doi: 10.1007/s10549-013-2433-1)\"], [\"appropri, acebo, aris, assumpt, \", \"Light at night, melatonin and breast cancer\"], [\"appropri, acebo, aris, assumpt, \", \"Should we warn against night shifts to prevent breast cancer?\"], [\"MF, alzheim, autonomi, 6-sulphatoxy-melatonin, \", \"Response to counter-clockwise shift-work and prostate cancer: Putting pieces in the puzzle (author's reply)\"], [\"MF, alzheim, autonomi, 6-sulphatoxy-melatonin, \", \"Is the elevated breast cancer risk observed in the WHI study an artifact? [1]\"], [\"MF, alzheim, autonomi, 6-sulphatoxy-melatonin, \", \"Night Shift Work and Lung Cancer Risk Among Female Textile Workers in Shanghai, China (vol 12, pg 334, 2015)\"], [\"-I, approach, +/-sem, abstarct, \", \"[Breast cancer risk associated with night work]\"], [\"'direct, assembl, 20e, assays.result, \", \"Words of Wisdom: Re: Shift Work and Prostate Cancer Incidence in Industrial Workers: A Historical Cohort Study in a German Chemical Company\"], [\"MF, alzheim, autonomi, 6-sulphatoxy-melatonin, \", \"[Epidemiological study on shift work related tumors]\"], [\"appropri, acebo, aris, assumpt, \", \"Breast cancer and night work among Norwegian nurses\"], [\"appropri, acebo, aris, assumpt, \", \"Night-shift work increases morbidity of breast cancer and all-cause mortality: a meta-analysis of 16 prospective cohort studies\"], [\"appropri, acebo, aris, assumpt, \", \"A prospective cohort study of shift work and pancreatic cancer risk in Japanese men\"], [\"MF, alzheim, autonomi, 6-sulphatoxy-melatonin, \", \"Influence of the Circadian System on Disease Severity\"], [\"appropri, acebo, aris, assumpt, \", \"Night shifts and breast cancer risk: policy implications\"], [\"0.023.conclus, 14-15-hz, 6-sulftoxymelatonin, PA, \", \"Insufficient Sleep and Risk of Prostate Cancer in a Large Swedish Cohort\"], [\"adaptive-threshold, barrag, 63-year-old, anabol, \", \"Shift work-cancer debate goes on\"], [\"MF, alzheim, autonomi, 6-sulphatoxy-melatonin, \", \"Night work and breast cancer: The CECILE study\"], [\"appropri, acebo, aris, assumpt, \", \"Night-shift work and breast cancer: New Canadian case-control study\"], [\"MF, alzheim, autonomi, 6-sulphatoxy-melatonin, \", \"Nightshift breast cancer, flour dust and blue-light risk\"], [\"/mmcp2, OS, admit, 4-vntr, \", \"Breast cancer among women who work at night [2] (multiple letters)\"], [\"0.023.conclus, 14-15-hz, 6-sulftoxymelatonin, PA, \", \"Shift work and chronic disease: the epidemiological evidence\"], [\"2400h, 24-26-hr, 18-oh-deoxycorticosteron, 38-h, \", \"Breast cancer risk and night shift work in a case-control study in a Spanish population\"], [\"IR, 0.023.conclus, 35-day, IN, \", \"Shift work and breast cancer: do we need more evidence and what should this be?\"], [\"MI, 4-night, a., 1,25-dihydroxy-vitamin-d, \", \"Parent et al. respond to shift work and cancer\"], [\"0.023.conclus, 14-15-hz, 6-sulftoxymelatonin, PA, \", \"[A new study on night-shift work]\"], [\"0.023.conclus, 14-15-hz, 6-sulftoxymelatonin, PA, \", \"Re: Night shift work, light at night, and risk of breast cancer\"], [\"1ul1, anti-gonadotrop, antiag, alik, \", \"THE NIGHTINGALE STUDY: A PROSPECTIVE COHORT STUDY ON SHIFT WORK AND BREAST CANCER AMONG NURSES IN THE NETHERLANDS\"], [\"CV, 9-hour, 26-item, alteration/disturb, \", \"Cancer incidence among firefighters: 45 years of follow-up in five Nordic countries\"], [\"1-tail, alia, 1beta, 1-week, \", \"Does shift work cause cancer?\"], [\"0.023.conclus, 14-15-hz, 6-sulftoxymelatonin, PA, \", \"Light, endocrine systems, and cancer--a view from circadian biologists\"], [\"0.023.conclus, 14-15-hz, 6-sulftoxymelatonin, PA, \", \"Light at night and cancer risk\"], [\"6-d, analys, 1,25-dihydroxy-vitamin-d, 9-hour, \", \"Breast Cancer Incidence in a Cohort of US Flight Attendants\"], [\"IR, 0.023.conclus, 35-day, IN, \", \"Occupational cancer in Britain: Female cancers: Breast, cervix and ovary\"], [\"MF, alzheim, autonomi, 6-sulphatoxy-melatonin, \", \"Light at night and breast cancer risk worldwide\"], [\"SC, 1-back, Cp, ER, \", \"Epidemiological studies reveal link between night work and breast cancer\"], [\"MF, alzheim, autonomi, 6-sulphatoxy-melatonin, \", \"Letter to the editor, re: night-shift work and risk of breast cancer (Kamdar et al., doi:10.1007/s10549-013-2433-1)\"], [\"0.023.conclus, 14-15-hz, 6-sulftoxymelatonin, PA, \", \"Epidemiological studies of light and breast cancer\"], [\"1ul1, anti-gonadotrop, antiag, alik, \", \"Testing the light-at-night (LAN) theory for breast cancer causation\"], [\"CV, 9-hour, 26-item, alteration/disturb, \", \"Revisiting epidemiological key studies on occupational diesel exhaust exposure and lung cancer in truck drivers\"], [\"CV, 9-hour, 26-item, alteration/disturb, \", \"Epidemiology of urinary melatonin in women and its relation to other hormones and night work\"], [\"0.023.conclus, 14-15-hz, 6-sulftoxymelatonin, PA, \", \"Response to Ijaz S, et al. \\\"Night-shift work and breast cancer - A systematic review and meta-analysis\\\"\"], [\"1-tail, alia, 1beta, 1-week, \", \"Carcinogenicity of shift-work, painting, and fire-fighting\"], [\"1-tail, alia, 1beta, 1-week, \", \"Night work and cancer: A systematic review and meta-analysis\"], [\"amateur, afford, 45-day, am-7:00, \", \"Shift-work: nursing's sometimes silent partner\"], [\"0.023.conclus, 14-15-hz, 6-sulftoxymelatonin, PA, \", \"Case-Control Study of Breast Cancer in India: Role of PERIOD3 Clock Gene Length Polymorphism and Chronotype\"], [\"0.023.conclus, 14-15-hz, 6-sulftoxymelatonin, PA, \", \"Light treatment prevents fatigue in women undergoing chemotherapy for breast cancer\"], [\"1ul1, anti-gonadotrop, antiag, alik, \", \"Validation of a light questionnaire with real-life photopic illuminance measurements: The harvard light exposure assessment questionnaire\"], [\"1ul1, anti-gonadotrop, antiag, alik, \", \"[Shift and night work--is it a cancer risk factor?]\"], [\"MF, alzheim, autonomi, 6-sulphatoxy-melatonin, \", \"A short-term increase in cancer risk associated with daytime napping is likely to reflect pre-clinical disease: prospective cohort study\"], [\"5-androstene-3beta, 1x10, 1.7-fold, GG, \", \"Selected Neurophysiological, Psychological, and Behavioral Influences on Subjective Sleep Quality in Nurses: A Structure Equation Model\"], [\"0.023.conclus, 14-15-hz, 6-sulftoxymelatonin, PA, \", \"Sleep duration and cancer risk: time to use a \\\"sleep-years\\\" index?\"], [\"0.023.conclus, 14-15-hz, 6-sulftoxymelatonin, PA, \", \"A possible role of perinatal light in mood disorders and internal cancers: reconciliation of instability and latitude concepts\"], [\"IR, 0.023.conclus, 35-day, IN, \", \"Examining the most relevant conceptualization of the socioeconomic status construct for cancer research\"], [\"1ul1, anti-gonadotrop, antiag, alik, \", \"Obstructive sleep apnea and cancer: Epidemiologic links and theoretical biological constructs\"], [\"1-tail, alia, 1beta, 1-week, \", \"Shift Work and Prostate Cancer Incidence in Industrial Workers: A Historical Cohort Study in a German Chemical Company\"], [\"5-androstene-3beta, 1x10, 1.7-fold, GG, \", \"Increased breast cancer risk among women who work predominantly at night\"], [\"MF, alzheim, autonomi, 6-sulphatoxy-melatonin, \", \"Biological clocks and shift work: circadian dysregulation and potential long-term effects\"], [\"MF, alzheim, autonomi, 6-sulphatoxy-melatonin, \", \"The risk of cancer among patients with sleep disturbance: a nationwide retrospective study in Taiwan\"], [\"'direct, assembl, 20e, assays.result, \", \"Sleep duration and incidence of colorectal cancer in postmenopausal women\"], [\"11th, NA, 45-min, 28-day, \", \"Night-shift work and risk of breast cancer: a systematic review and meta-analysis\"], [\"'direct, assembl, 20e, assays.result, \", \"High Incidence of Breast Cancer in Light-Polluted Areas with Spatial Effects in Korea\"], [\"'direct, assembl, 20e, assays.result, \", \"Does the modern urbanized sleeping habitat pose a breast cancer risk?\"], [\"11th, NA, 45-min, 28-day, \", \"Impact of environmental contaminants on breast cancer\"], [\"0.023.conclus, 14-15-hz, 6-sulftoxymelatonin, PA, \", \"[Cancer and lifestyle-related diseases risk among shifts workers]\"], [\"5-androstene-3beta, 1x10, 1.7-fold, GG, \", \"Night-time work predisposes to non-Hodgkin lymphoma\"], [\"MF, alzheim, autonomi, 6-sulphatoxy-melatonin, \", \"Sleep Disturbance and Incidence of Thyroid Cancer in Postmenopausal Women The Women's Health Initiative\"], [\"MF, alzheim, autonomi, 6-sulphatoxy-melatonin, \", \"Sleep duration and incidence of lung cancer in ageing men\"], [\"MF, alzheim, autonomi, 6-sulphatoxy-melatonin, \", \"Non-apnea sleep disorders will increase subsequent liver cancer risk - A nationwide population-based cohort study\"], [\"0.023.conclus, 14-15-hz, 6-sulftoxymelatonin, PA, \", \"Nonstandard working schedules and health: the systematic search for a comprehensive model\"], [\"MF, alzheim, autonomi, 6-sulphatoxy-melatonin, \", \"The effect of blue-blocking intraocular lenses on circadian biological rhythm: protocol for a randomised controlled trial (CLOCK-IOL colour study)\"], [\"advanc, afflict, 'everyth, NA, \", \"Daily variations in plasma follicle stimulating hormone, luteinizing hormone and progesterone in the normal menstrual cycle.\"], [\"IR, 0.023.conclus, 35-day, IN, \", \"Experimental studies of shift-work. 3. Stabilized 12-hour shift system.\"], [\"MF, alzheim, autonomi, 6-sulphatoxy-melatonin, \", \"Experimental studies of shift-work I: A comparison of 'rotating' and 'stabilized' 4-hour shift systems.\"], [\"MF, alzheim, autonomi, 6-sulphatoxy-melatonin, \", \"Daily changes in urinay testosterone levels of the human male.\"], [\"MF, alzheim, autonomi, 6-sulphatoxy-melatonin, \", \"The proportion of cancer attributable to occupational exposures\"], [\"5-androstene-3beta, 1x10, 1.7-fold, GG, \", \"Risk factors for breast cancer and expression of insulin-like growth factor-2 (IGF-2) in women with breast cancer in Wuhan City, China\"], [\"1ul1, anti-gonadotrop, antiag, alik, \", \"Recommendations for the prevention of breast cancer in shift workers\"], [\"CS, all, 25-day, antihistamin, \", \"The Circadian Clock and Human Health\"], [\"1ul1, anti-gonadotrop, antiag, alik, \", \"Residential Exposure to Road and Railway Noise and Risk of Prostate Cancer: A Prospective Cohort Study\"], [\"advanc, afflict, 'everyth, NA, \", \"Breast cancer risk in flight attendants: An update\"], [\"FA, Tf, 4-week, HP, \", \"Rotating night shifts and risk of skin cancer in the nurses' health study\"], [\"SC, 1-back, Cp, ER, \", \"Circadian disruption and breast cancer: from melatonin to clock genes\"], [\"11th, NA, 45-min, 28-day, \", \"\\\"There will be no more\\\": The legacy of the Toowong breast cancer cluster\"], [\"0.023.conclus, 14-15-hz, 6-sulftoxymelatonin, PA, \", \"Circadian rhythm of serum cytidine deaminase in patients with rheumatoid arthritis during rest and exercise\"], [\"5-androstene-3beta, 1x10, 1.7-fold, GG, \", \"Short-term effects of night shift work on breast cancer risk: a cohort study of payroll data\"], [\"5-androstene-3beta, 1x10, 1.7-fold, GG, \", \"Nutrition and occupational health (II) IIa. Prevention of pathologies IIb. Company dining rooms\"], [\"/mmcp2, OS, admit, 4-vntr, \", \"Men's estimates of prostate cancer risk and self-reported rates of screening\"], [\"1ul1, anti-gonadotrop, antiag, alik, \", \"Circadian-based new technologies for night workers.\"], [\"advanc, afflict, 'everyth, NA, \", \"[Basal values and circadian variations of testosterone, 17beta-oestradiol, FSH and LH in the plasma of normal adult males].\"], [\"2400h, 24-26-hr, 18-oh-deoxycorticosteron, 38-h, \", \"Breast cancer. Night shifts put nurses at risk.\"], [\"6-hydroxymelatoninsulph, 12l:12d, He, 12-year-old, \", \"[Circadian changes in serum prolactin in a group of apparently healthy subjects].\"], [\"IR, 0.023.conclus, 35-day, IN, \", \"Managing the patient with shift-work disorder.\"], [\"0.023.conclus, 14-15-hz, 6-sulftoxymelatonin, PA, \", \"The temporal relationship between melatonin and prolactin in women.\"], [\"5-androstene-3beta, 1x10, 1.7-fold, GG, \", \"[Circadian rhythm of plasma total estriol in pregnancy].\"], [\"advanc, afflict, 'everyth, NA, \", \"Dexamethasone-induced suppression of the circadian rhythm of plasma testosterone in normal adult males.\"], [\"CV, 9-hour, 26-item, alteration/disturb, \", \"[Biological rhythm of plasma free testosterone in healthy adult males: existence of a circadian variation].\"], [\"0.023.conclus, 14-15-hz, 6-sulftoxymelatonin, PA, \", \"Circulating prolactin levels during the menstrual cycle: episodic release and diurnal variation.\"], [\"MF, alzheim, autonomi, 6-sulphatoxy-melatonin, \", \"Diurnal cycles in plasma FSH, testosterone and cortisol in men.\"], [\"6-hydroxymelatoninsulph, 12l:12d, He, 12-year-old, \", \"[Circadian rhythm of plasm testosterone levels. II. Testosterone levels during the 1st and 2d half-day].\"], [\"0.023.conclus, 14-15-hz, 6-sulftoxymelatonin, PA, \", \"[Circadian fluctuation of prolactin].\"], [\"0.023.conclus, 14-15-hz, 6-sulftoxymelatonin, PA, \", \"Circadian and circannual rhythms of urine testosterone and epitestosterone glucuronides in healthy adult men.\"], [\"0.023.conclus, 14-15-hz, 6-sulftoxymelatonin, PA, \", \"[Circadian and circannual rhythms of testosterone and epitestosterone glucuronides in healthy human adults].\"], [\"advanc, afflict, 'everyth, NA, \", \"[Circadian variations of plasma testosterone in normal adult male. Study by repetitive sampling for 25 hours (author's transl)].\"], [\"0.023.conclus, 14-15-hz, 6-sulftoxymelatonin, PA, \", \"[Circadian rhythm of reaction time during night work. 3. Correlations between body temperature and reaction time].\"], [\"0.023.conclus, 14-15-hz, 6-sulftoxymelatonin, PA, \", \"[Circadian rhythm of reaction time during night work. I. Phase of maximum and influences of sleep on range of oscillation].\"], [\"1ul1, anti-gonadotrop, antiag, alik, \", \"Circadian periodicity of serum prolactin concentration in man.\"], [\"arrhythmia, BP, afternoons/even, auditori, \", \"Interindividual differences in circadian fatigue patterns of shift workers.\"], [\"1ul1, anti-gonadotrop, antiag, alik, \", \"Sleep-related, nychthermeral and briefly episodic variation in human plasma prolactin concentrations.\"], [\"1ul1, anti-gonadotrop, antiag, alik, \", \"Periodicity of serum prolactin concentration.\"], [\"1ul1, anti-gonadotrop, antiag, alik, \", \"Elucidation of mechanism(s) of the nocturnal rise of testosterone in men.\"], [\"0.023.conclus, 14-15-hz, 6-sulftoxymelatonin, PA, \", \"Chronobiologic response modifiers and breast cancer development: classical background and chronobiologic tasks remaining.\"], [\"1ul1, anti-gonadotrop, antiag, alik, \", \"[Health problems due to night shift work and jetlag].\"], [\"0.023.conclus, 14-15-hz, 6-sulftoxymelatonin, PA, \", \"[Circadian rhythm and stress in the elderly: a study using salivary cortisol levels as an indicator].\"], [\"CV, 9-hour, 26-item, alteration/disturb, \", \"[The circadian system in man: From the internal clock to melatonin secretion].\"], [\"0.023.conclus, 14-15-hz, 6-sulftoxymelatonin, PA, \", \"The circadian rhythms of thyrotrophin and prolactin secretion.\"], [\"CV, 9-hour, 26-item, alteration/disturb, \", \"Twenty-four hour integrated concentrations of progesterone, 17-hydroxyprogesterone and cortisol in normal male subjects.\"], [\"advanced/leth, 2-3h, CC, acrophs, \", \"Reference value for C-reactive protein and its distribution pattern in thai adults.\"], [\"6-d, analys, 1,25-dihydroxy-vitamin-d, 9-hour, \", \"An abnormal luteal-phase evening peak of plasma prolactin in women with a family history of breast cancer.\"], [\"6500k, TP, ann, BT, \", \"The hypothalamic-pituitary-adrenocortical system and sleep in man.\"], [\"0.023.conclus, 14-15-hz, 6-sulftoxymelatonin, PA, \", \"Circadian endocrine time structure in humans above 80 years of age.\"], [\"1ul1, anti-gonadotrop, antiag, alik, \", \"[Circadian rhythm of the pituitary-gonadal system].\"], [\"1ul1, anti-gonadotrop, antiag, alik, \", \"Diurnal variations in the levels of plasma and urinary androgens.\"], [\"1ul1, anti-gonadotrop, antiag, alik, \", \"[Shift work and biological rhythms (author's transl)].\"], [\"5-androstene-3beta, 1x10, 1.7-fold, GG, \", \"Circadian profiles of cortisol, prolactin, and thyrotropin in seasonal affective disorder.\"], [\"1ul1, anti-gonadotrop, antiag, alik, \", \"A likelihood ratio method for studying the re-entrainment of circadian rhythms.\"], [\"5-androstene-3beta, 1x10, 1.7-fold, GG, \", \"Salivary cortisol and dehydroepiandrosterone sulphate levels in postmenopausal women with primary breast cancer.\"], [\"5-androstene-3beta, 1x10, 1.7-fold, GG, \", \"Patterns of salivary cortisol levels can manifest work stress in emergency care providers.\"], [\"6-d, analys, 1,25-dihydroxy-vitamin-d, 9-hour, \", \"Prolactin and prostate: a chronobiologic study.\"], [\"/mmcp2, OS, admit, 4-vntr, \", \"[Weavers' maladaptation to 3-shift work with weekly rotation].\"], [\"0.023.conclus, 14-15-hz, 6-sulftoxymelatonin, PA, \", \"[Long-term adaptation of weavers to 3-shift work with weekly rotation].\"], [\"IR, 0.023.conclus, 35-day, IN, \", \"Therapeutic applications of melatonin.\"], [\"MF, alzheim, autonomi, 6-sulphatoxy-melatonin, \", \"Measurement of melatonin and 6-sulphatoxymelatonin.\"], [\"IR, 0.023.conclus, 35-day, IN, \", \"Circadian time organization of professional firemen: desynchronization-tau differing from 24.0 hours-documented by longitudinal self-assessment of 16 variables.\"], [\"MF, alzheim, autonomi, 6-sulphatoxy-melatonin, \", \"The plasma prolactin levels in man during prolongation of darkness in the morning.\"], [\"5-androstene-3beta, 1x10, 1.7-fold, GG, \", \"Time-related behaviour of endocrine secretion: circannual variations of FT3, cortisol, HGH and serum basal insulin in healthy subjects.\"], [\"1ul1, anti-gonadotrop, antiag, alik, \", \"Police officers' responses to 8 and 12 hour shift schedules.\"], [\"1ul1, anti-gonadotrop, antiag, alik, \", \"Phase-shifts in melatonin, 6-sulphatoxymelatonin and alertness rhythms after treatment with moderately bright light at night.\"], [\"5-androstene-3beta, 1x10, 1.7-fold, GG, \", \"Photic resetting in night-shift work: impact on nurses' sleep.\"], [\"1ul1, anti-gonadotrop, antiag, alik, \", \"Biological rhythms during residence in polar regions.\"], [\"arrhythmia, BP, afternoons/even, auditori, \", \"Jet-lag and shift work: (2). Therapeutic use of melatonin.\"], [\"1-tail, alia, 1beta, 1-week, \", \"Use of melatonin in the treatment of phase shift and sleep disorders.\"], [\"MF, alzheim, autonomi, 6-sulphatoxy-melatonin, \", \"Human puberty: 24-hour estradiol in pubertal girls.\"], [\"1ul1, anti-gonadotrop, antiag, alik, \", \"Reversal of diurnal cortisol rhythm and suppression of plasma testosterone in obstetric residents on call.\"], [\"1-tail, alia, 1beta, 1-week, \", \"Plasma 20alpha-dihydroprogesterone, progesterone and 17-hydroxyprogesterone: daily and four-hourly variations during the menstrual cycle.\"], [\"5-androstene-3beta, 1x10, 1.7-fold, GG, \", \"Effects of sex steroids on sleep.\"], [\"5-androstene-3beta, 1x10, 1.7-fold, GG, \", \"The effect of music, therapy, and relaxation on adrenal corticosteroids and the re-entrainment of circadian rhythms.\"], [\"2400h, 24-26-hr, 18-oh-deoxycorticosteron, 38-h, \", \"Melatonin stabilises sleep onset time in a blind man without entrainment of cortisol or temperature rhythms.\"], [\"0.023.conclus, 14-15-hz, 6-sulftoxymelatonin, PA, \", \"Melatonin, biological rhythm disorders and phototherapy.\"], [\"'direct, assembl, 20e, assays.result, \", \"[Biologic rhythms. Effect of aging on the desynchronization of endogenous rhythmicity and environmental conditions].\"], [\"MF, alzheim, autonomi, 6-sulphatoxy-melatonin, \", \"Melatonin: aeromedical, toxicopharmacological, and analytical aspects.\"], [\"0.023.conclus, 14-15-hz, 6-sulftoxymelatonin, PA, \", \"[Biological rhythms and drugs].\"], [\"6-d, analys, 1,25-dihydroxy-vitamin-d, 9-hour, \", \"Is sleeping sickness a circadian disorder? The serotonergic hypothesis.\"], [\"MF, alzheim, autonomi, 6-sulphatoxy-melatonin, \", \"Endocrine activity during sleep.\"], [\"1ul1, anti-gonadotrop, antiag, alik, \", \"Circadian and sleep-dependent regulation of hormone release in humans.\"], [\"IR, 0.023.conclus, 35-day, IN, \", \"Relationship between rapid eye movement sleep and testosterone secretion in normal men.\"], [\"5-androstene-3beta, 1x10, 1.7-fold, GG, \", \"Changes in nocturnal melatonin secretion in perimenopausal women: correlation with endogenous estrogen concentrations.\"], [\"0.023.conclus, 14-15-hz, 6-sulftoxymelatonin, PA, \", \"Pathophysiology of human circadian rhythms.\"], [\"2400h, 24-26-hr, 18-oh-deoxycorticosteron, 38-h, \", \"Sleep/wake cycle and circadian disturbances in shift work: strategies for their management--a review.\"], [\"5-androstene-3beta, 1x10, 1.7-fold, GG, \", \"What can the chronobiologist do to help the shift worker?\"], [\"/mmcp2, OS, admit, 4-vntr, \", \"Hormonal and pharmacological manipulation of the circadian clock: recent developments and future strategies.\"], [\"amateur, afford, 45-day, am-7:00, \", \"Neuropeptide Y promotes sleep and inhibits ACTH and cortisol release in young men.\"], [\"1-tail, alia, 1beta, 1-week, \", \"Jet lag/night shift, blindness and melatonin.\"], [\"5-androstene-3beta, 1x10, 1.7-fold, GG, \", \"Salivary testosterone at high altitude in man.\"], [\"5-androstene-3beta, 1x10, 1.7-fold, GG, \", \"Chronic inflammatory stress.\"], [\"0.023.conclus, 14-15-hz, 6-sulftoxymelatonin, PA, \", \"Effect of exogenous melatonin on mood and sleep efficiency in emergency medicine residents working night shifts.\"], [\"1ul1, anti-gonadotrop, antiag, alik, \", \"Rhythms in the secretion of gonadotropins and gonadal steroids.\"], [\"1ul1, anti-gonadotrop, antiag, alik, \", \"Diurnal fluctuation of sleep propensity and hormonal secretion across the menstrual cycle.\"], [\"MF, alzheim, autonomi, 6-sulphatoxy-melatonin, \", \"Circadian changes in the temperature of human beings.\"], [\"5-androstene-3beta, 1x10, 1.7-fold, GG, \", \"Physiological effects of light on the human circadian pacemaker.\"], [\"CV, 9-hour, 26-item, alteration/disturb, \", \"Health in a 24-h society.\"], [\"advanced/leth, 2-3h, CC, acrophs, \", \"Circadian Rhythm Sleep Disorders.\"], [\"CV, 9-hour, 26-item, alteration/disturb, \", \"Circadian rhythm of heart rate, urinary cortisol excretion, and sleep in civil air traffic controllers.\"], [\"ald, balanc, actillum, akt, \", \"Influence of night shift work on psychologic state and cardiovascular and neuroendocrine responses in healthy nurses.\"], [\"5-androstene-3beta, 1x10, 1.7-fold, GG, \", \"Temporal order of sleepiness, performance and physiological indices during 19-h sleep deprivation.\"], [\"0.023.conclus, 14-15-hz, 6-sulftoxymelatonin, PA, \", \"Use of melatonin in recovery from jet-lag following an eastward flight across 10 time-zones.\"], [\"5-androstene-3beta, 1x10, 1.7-fold, GG, \", \"The effect of high ambient temperature on the adjustment of operators to fast rotating 12-hour shiftwork.\"], [\"0.023.conclus, 14-15-hz, 6-sulftoxymelatonin, PA, \", \"Ramadan fasting alters endocrine and neuroendocrine circadian patterns. Meal-time as a synchronizer in humans?\"], [\"0.023.conclus, 14-15-hz, 6-sulftoxymelatonin, PA, \", \"Disruption of the nocturnal testosterone rhythm by sleep fragmentation in normal men.\"], [\"MF, alzheim, autonomi, 6-sulphatoxy-melatonin, \", \"[Chronobiology in medicine].\"], [\"6-d, analys, 1,25-dihydroxy-vitamin-d, 9-hour, \", \"Nocturnal increase of plasma testosterone in men: relation to gonadotropins and prolactin.\"], [\"b=2.3, .method, androgen, america, \", \"The human body circadian: How the biologic clock influences sleep and emotion.\"], [\"0.023.conclus, 14-15-hz, 6-sulftoxymelatonin, PA, \", \"Circadian rhythm sleep disorders: pathophysiology and potential approaches to management.\"], [\"1ul1, anti-gonadotrop, antiag, alik, \", \"Combating fatigue to enhance safety.\"], [\"CV, 9-hour, 26-item, alteration/disturb, \", \"Changes in human adrenal and gonadal function onboard Spacelab.\"], [\"'direct, assembl, 20e, assays.result, \", \"Bright light and LEET effects on circadian rhythms, sleep and cognitive performance.\"], [\"arrhythmia, BP, afternoons/even, auditori, \", \"Effects of melatonin administration on daytime sleep after simulated night shift work.\"], [\"6500k, TP, ann, BT, \", \"Sleep-wake schedule disorder disability: a lifelong untreatable pathology of the circadian time structure.\"], [\"CV, 9-hour, 26-item, alteration/disturb, \", \"[Melatonin and circadian rhythm].\"], [\"'direct, assembl, 20e, assays.result, \", \"Timing of initiation of the preovulatory luteinizing hormone surge and its relationship with the circadian cortisol rhythm in the human.\"], [\"5-androstene-3beta, 1x10, 1.7-fold, GG, \", \"REM sleep and prolactin in patients with non-affective psychoses.\"], [\"5-androstene-3beta, 1x10, 1.7-fold, GG, \", \"[Fatigue and sleep: the point of view of the chronobiologist].\"], [\"0.023.conclus, 14-15-hz, 6-sulftoxymelatonin, PA, \", \"Role of morning melatonin administration and attenuation of sunlight exposure in improving adaptation of night-shift workers.\"], [\"and-accord, avow, automot, W, \", \"Elevated salivary cortisol levels as a result of sleep deprivation in a shift worker.\"], [\"1ul1, anti-gonadotrop, antiag, alik, \", \"Circadian rhythm characteristics of serum cortisol and dehydroepiandrosterone sulfate in healthy Chinese men aged 30 to 60 years. A cross-sectional study.\"], [\"5-androstene-3beta, 1x10, 1.7-fold, GG, \", \"The role of actigraphy in the study of sleep and circadian rhythms.\"], [\"0.023.conclus, 14-15-hz, 6-sulftoxymelatonin, PA, \", \"Melatonin: from the hormone to the drug?\"], [\"5-androstene-3beta, 1x10, 1.7-fold, GG, \", \"Diurnal rhythms of serum total, free and bioavailable testosterone and of SHBG in middle-aged men compared with those in young men.\"], [\"MF, alzheim, autonomi, 6-sulphatoxy-melatonin, \", \"The 24-h pattern of human prolactin in serum.\"], [\"0.023.conclus, 14-15-hz, 6-sulftoxymelatonin, PA, \", \"[Shift work, jet lag and sleep].\"], [\"MF, alzheim, autonomi, 6-sulphatoxy-melatonin, \", \"Experimental shift work studies of permanent night, and rapidly rotating, shift systems. I. Circadian rhythm of body temperature and re-entrainment at shift change.\"], [\"2400h, 24-26-hr, 18-oh-deoxycorticosteron, 38-h, \", \"Sleep shift dissociates the nocturnal peaks of parathyroid hormone (1-84), nephrogenous cyclic adenosine monophosphate, and prolactin in normal men.\"], [\"2400h, 24-26-hr, 18-oh-deoxycorticosteron, 38-h, \", \"Melatonin phase-shifts human circadian rhythms with no evidence of changes in the duration of endogenous melatonin secretion or the 24-hour production of reproductive hormones.\"], [\"arrhythmia, BP, afternoons/even, auditori, \", \"Antiglucocorticoid treatment disrupts endocrine cycle and nocturnal sleep pattern.\"], [\"5-androstene-3beta, 1x10, 1.7-fold, GG, \", \"Elevated salivary cortisol due to sleep deprivation.\"], [\"SC, 1-back, Cp, ER, \", \"[PHYSIOLOGICAL PRINCIPLES IN THE EVALUATION OF NIGHT WORK AND OF TYPES OF SHIFTS].\"], [\"'direct, assembl, 20e, assays.result, \", \"Circadian rhythm of salivary cortisol, 17alpha-hydroxyprogesterone, and progesterone in healthy children.\"], [\"6-d, analys, 1,25-dihydroxy-vitamin-d, 9-hour, \", \"Amplification of nocturnal melatonin secretion in women with nocturnal hyperprolactinemia.\"], [\"and-accord, avow, automot, W, \", \"Performance, sleep and circadian phase during a week of simulated night work.\"], [\"'direct, assembl, 20e, assays.result, \", \"Physiological effects of shift work on hospital nurses.\"], [\"0.023.conclus, 14-15-hz, 6-sulftoxymelatonin, PA, \", \"Psychophysiological effects of a brief nocturnal light exposure.\"], [\"CV, 9-hour, 26-item, alteration/disturb, \", \"The use of actimetry to assess changes to the rest-activity cycle.\"], [\"0.023.conclus, 14-15-hz, 6-sulftoxymelatonin, PA, \", \"The impact of a week of simulated night work on sleep, circadian phase, and performance.\"], [\"1ul1, anti-gonadotrop, antiag, alik, \", \"Relation between nocturnal melatonin profile and hormonal markers of puberty in humans.\"], [\"CS, all, 25-day, antihistamin, \", \"[A study comparing circadian rhythm and sleep quality of athletes and sedentary subjects engaged in night work].\"], [\"6-d, analys, 1,25-dihydroxy-vitamin-d, 9-hour, \", \"Influence of circadian time structure on acute hormonal responses to a single bout of heavy-resistance exercise in weight-trained men.\"], [\"CV, 9-hour, 26-item, alteration/disturb, \", \"The diurnal patterns of the adrenal steroids cortisol and dehydroepiandrosterone (DHEA) in relation to awakening.\"], [\"'direct, assembl, 20e, assays.result, \", \"Changes of diurnal rhythm and levels of total and free testosterone secretion from pre to late puberty in boys: testis size of 3 ml is a transition stage to puberty.\"], [\"CV, 9-hour, 26-item, alteration/disturb, \", \"Relation of age to circadian adjustment to night work.\"], [\"1ul1, anti-gonadotrop, antiag, alik, \", \"The impact of time of waking and concurrent subjective stress on the cortisol response to awakening.\"], [\"2400h, 24-26-hr, 18-oh-deoxycorticosteron, 38-h, \", \"Complete or partial circadian re-entrainment improves performance, alertness, and mood during night-shift work.\"], [\"5-androstene-3beta, 1x10, 1.7-fold, GG, \", \"Morning levels of C-reactive protein in children with obstructive sleep-disordered breathing.\"], [\"6-d, analys, 1,25-dihydroxy-vitamin-d, 9-hour, \", \"Sleep deficit and stress hormones in helicopter pilots on 7-day duty for emergency medical services.\"], [\"1ul1, anti-gonadotrop, antiag, alik, \", \"Prolactin rhythms-oscillators' response to photoperiodic cues is age and circadian time dependent.\"], [\"CV, 9-hour, 26-item, alteration/disturb, \", \"Using nine 2-h delays to achieve a 6-h advance disrupts sleep, alertness, and circadian rhythm.\"], [\"CV, 9-hour, 26-item, alteration/disturb, \", \"Circadian variation of cardiac autonomic nervous profile is affected in Japanese ambulance men with a working system of 24-h shifts.\"], [\"1ul1, anti-gonadotrop, antiag, alik, \", \"Late-night presentation of an auditory stimulus phase delays human circadian rhythms.\"], [\"1ul1, anti-gonadotrop, antiag, alik, \", \"The human circadian system in normal and disordered sleep.\"], [\"2400h, 24-26-hr, 18-oh-deoxycorticosteron, 38-h, \", \"Scheduling of sleep/darkness affects the circadian phase of night shift workers.\"], [\"1ul1, anti-gonadotrop, antiag, alik, \", \"How to trick mother nature into letting you fly around or stay up all night.\"], [\"0.023.conclus, 14-15-hz, 6-sulftoxymelatonin, PA, \", \"Aging human circadian rhythms: conventional wisdom may not always be right.\"], [\"CV, 9-hour, 26-item, alteration/disturb, \", \"Relation of nocturnal melatonin levels to C-reactive protein concentration in patients with ST-segment elevation myocardial infarction.\"], [\"1ul1, anti-gonadotrop, antiag, alik, \", \"[Sleep disruption in shift work and jet lag: the role of the circadian timing system].\"], [\"6-d, analys, 1,25-dihydroxy-vitamin-d, 9-hour, \", \"Simulation of long-haul flights in humans: prolonged mild hypoxia does not alter the circadian time structure of plasma testosterone and gonadotrophins.\"], [\"5-androstene-3beta, 1x10, 1.7-fold, GG, \", \"Sex differences in nocturnal growth hormone and prolactin secretion in healthy older adults: relationships with sleep EEG variables.\"], [\"1ul1, anti-gonadotrop, antiag, alik, \", \"Exogenous melatonin enhances the TRH-induced prolactin release in normally cycling women: a sex-specific effect.\"], [\"1ul1, anti-gonadotrop, antiag, alik, \", \"The anti-tumor activity of pineal melatonin and cancer enhancing life styles in industrialized societies.\"], [\"2400h, 24-26-hr, 18-oh-deoxycorticosteron, 38-h, \", \"Urinary 6-sulfatoxymelatonin levels and their correlations with lifestyle factors and steroid hormone levels.\"], [\"'direct, assembl, 20e, assays.result, \", \"Does \\\"clock\\\" matter in prostate cancer?\"], [\"0.023.conclus, 14-15-hz, 6-sulftoxymelatonin, PA, \", \"The use of chronobiotics in the resynchronization of the sleep-wake cycle.\"], [\"1ul1, anti-gonadotrop, antiag, alik, \", \"Sleep and circadian phase in a ship's crew.\"], [\"0.023.conclus, 14-15-hz, 6-sulftoxymelatonin, PA, \", \"Subjective and objective measures of adaptation and readaptation to night work on an oil rig in the North Sea.\"], [\"CV, 9-hour, 26-item, alteration/disturb, \", \"Chronobiology of sleep in humans.\"], [\"CV, 9-hour, 26-item, alteration/disturb, \", \"[Effects of the physical exercise and sports on the circadian rhythm of temperature and waking/sleep pattern of the elderly person. Examples in retired and night workers].\"], [\"0.023.conclus, 14-15-hz, 6-sulftoxymelatonin, PA, \", \"Using daily 30-min phase advances to achieve a 6-hour advance: circadian rhythm, sleep, and alertness.\"], [\"/mmcp2, OS, admit, 4-vntr, \", \"Shift work, light at night and risk of breast cancer.\"], [\"0.023.conclus, 14-15-hz, 6-sulftoxymelatonin, PA, \", \"The relationship between the rate of melatonin excretion and sleep consolidation for locomotive engineers in natural sleep settings.\"], [\"'direct, assembl, 20e, assays.result, \", \"Effects of melatonin on vertebrate circadian systems.\"], [\"0.023.conclus, 14-15-hz, 6-sulftoxymelatonin, PA, \", \"Dark therapy for bipolar disorder using amber lenses for blue light blockade.\"], [\"11th, NA, 45-min, 28-day, \", \"Overtime work and its effects on sleep, sleepiness, cortisol and blood pressure in an experimental field study.\"], [\"0.023.conclus, 14-15-hz, 6-sulftoxymelatonin, PA, \", \"Human circadian rhythms: physiological and therapeutic relevance of light and melatonin.\"], [\"b=2.3, .method, androgen, america, \", \"Promoting adjustment of the sleep-wake cycle by chronobiotics.\"], [\"1ul1, anti-gonadotrop, antiag, alik, \", \"Circadian rhythm sleep disorders and phototherapy.\"], [\"arrhythmia, BP, afternoons/even, auditori, \", \"Cross-talk between C-reactive protein and light/dark variations.\"], [\"0.023.conclus, 14-15-hz, 6-sulftoxymelatonin, PA, \", \"Shift work sleep disorder: burden of illness and approaches to management.\"], [\"MF, alzheim, autonomi, 6-sulphatoxy-melatonin, \", \"Effect of melatonin replacement on serum hormone rhythms in a patient lacking endogenous melatonin.\"], [\"1ul1, anti-gonadotrop, antiag, alik, \", \"Circadian variations in clock gene expression of human bone marrow CD34+ cells.\"], [\"1ul1, anti-gonadotrop, antiag, alik, \", \"[Medical justification of the eight-hour shift work].\"], [\"1ul1, anti-gonadotrop, antiag, alik, \", \"The association of time of day and serum testosterone concentration in a large screening population.\"], [\"0.023.conclus, 14-15-hz, 6-sulftoxymelatonin, PA, \", \"Diurnal secretion of growth hormone, cortisol, and dehydroepiandrosterone in pre- and perimenopausal women with active rheumatoid arthritis: a pilot case-control study.\"], [\"CV, 9-hour, 26-item, alteration/disturb, \", \"The dark side of light at night: physiological, epidemiological, and ecological consequences.\"], [\"1ul1, anti-gonadotrop, antiag, alik, \", \"Circadian phase delay induced by phototherapeutic devices.\"], [\"'direct, assembl, 20e, assays.result, \", \"Salivary testosterone measurements among women: relative magnitude of circadian and menstrual cycles.\"], [\"0.023.conclus, 14-15-hz, 6-sulftoxymelatonin, PA, \", \"Visual impairment and circadian rhythm disorders.\"], [\"CV, 9-hour, 26-item, alteration/disturb, \", \"Diurnal variations and temporal coupling of bioactive and immunoactive luteinizing hormone, prolactin, testosterone and 17-beta-estradiol in adult men.\"], [\"MF, alzheim, autonomi, 6-sulphatoxy-melatonin, \", \"Practice parameters for the clinical evaluation and treatment of circadian rhythm sleep disorders. An American Academy of Sleep Medicine report.\"], [\"1ul1, anti-gonadotrop, antiag, alik, \", \"Circadian rhythmicity and the pharmacologic management of insomnia.\"], [\"MF, alzheim, autonomi, 6-sulphatoxy-melatonin, \", \"Sex hormones, sleep, and core body temperature in older postmenopausal women.\"], [\"1ul1, anti-gonadotrop, antiag, alik, \", \"Desynchronization of oral temperature, pulse and performance circadian rhythms in shift working Indian nurses.\"], [\"MF, alzheim, autonomi, 6-sulphatoxy-melatonin, \", \"[Melatonin effects on the female genital system: a brief review].\"], [\"'direct, assembl, 20e, assays.result, \", \"Melatonergic drugs in clinical practice.\"], [\"MF, alzheim, autonomi, 6-sulphatoxy-melatonin, \", \"Diagnosis of circadian rhythm sleep disorders.\"], [\"2400h, 24-26-hr, 18-oh-deoxycorticosteron, 38-h, \", \"[Hypophyseal hormonal rhythm in a physiological state].\"], [\"0.023.conclus, 14-15-hz, 6-sulftoxymelatonin, PA, \", \"Sleep-related chronobiological markers of affective illness.\"], [\"1ul1, anti-gonadotrop, antiag, alik, \", \"Stress, geomagnetic disturbance, infradian and circadian sampling for circulating corticosterone and models of human depression?\"], [\"1ul1, anti-gonadotrop, antiag, alik, \", \"A new approach to understanding the impact of circadian disruption on human health.\"], [\"2400h, 24-26-hr, 18-oh-deoxycorticosteron, 38-h, \", \"[Circadian variation in alertness, readiness for work and work efficiency].\"], [\"0.023.conclus, 14-15-hz, 6-sulftoxymelatonin, PA, \", \"The roles of melatonin and light in the pathophysiology and treatment of circadian rhythm sleep disorders.\"], [\"2400h, 24-26-hr, 18-oh-deoxycorticosteron, 38-h, \", \"Synchronies between sleep and endocrine rhythms in man and their statistical evaluation.\"], [\"6-d, analys, 1,25-dihydroxy-vitamin-d, 9-hour, \", \"The cortisol awakening response: a pilot study on the effects of shift work, morningness and sleep duration.\"], [\"CV, 9-hour, 26-item, alteration/disturb, \", \"Shaping the light/dark pattern for circadian adaptation to night shift work.\"], [\"2400h, 24-26-hr, 18-oh-deoxycorticosteron, 38-h, \", \"Atypical evening cortisol profile induces visual recognition memory deficit in healthy human subjects.\"], [\"=filter, 9-h, 9-hour, 9-month, \", \"Selectively filtering short wavelengths attenuates the disruptive effects of nocturnal light on endocrine and molecular circadian phase markers in rats.\"], [\"ald, balanc, actillum, akt, \", \"[Dysfunctions of biological clocks and their treatments].\"], [\"0.023.conclus, 14-15-hz, 6-sulftoxymelatonin, PA, \", \"Reproducibility of 24-hour serum growth hormone profiles in man.\"], [\"arrhythmia, BP, afternoons/even, auditori, \", \"Sleep disorders: causes, effects, and solutions.\"], [\"MF, alzheim, autonomi, 6-sulphatoxy-melatonin, \", \"Human plasma melatonin and urinary 6-sulphatoxy melatonin: studies in natural annual photoperiod and in extended darkness.\"], [\"CV, 9-hour, 26-item, alteration/disturb, \", \"Correlation between circadian gene variants and serum levels of sex steroids and insulin-like growth factor-I.\"], [\"'direct, assembl, 20e, assays.result, \", \"[Sleep medicine in occupational health].\"], [\"1ul1, anti-gonadotrop, antiag, alik, \", \"Diurnal variability of C-reactive protein in obstructive sleep apnea.\"], [\"CV, 9-hour, 26-item, alteration/disturb, \", \"Diurnal and seasonal patterns in inflammation-sensitive biomarker level.\"], [\"0.023.conclus, 14-15-hz, 6-sulftoxymelatonin, PA, \", \"Defining chronodisruption.\"], [\"IR, 0.023.conclus, 35-day, IN, \", \"Circadian rhythm profiles in women with night eating syndrome.\"], [\"0.023.conclus, 14-15-hz, 6-sulftoxymelatonin, PA, \", \"Adverse metabolic and cardiovascular consequences of circadian misalignment.\"], [\"CV, 9-hour, 26-item, alteration/disturb, \", \"Associations between two job stress models and measures of salivary cortisol.\"], [\"1ul1, anti-gonadotrop, antiag, alik, \", \"Disturbance of circadian gene expression in breast cancer.\"], [\"CV, 9-hour, 26-item, alteration/disturb, \", \"Sleep length and quality, sleepiness and urinary melatonin among healthy Danish nurses with shift work during work and leisure time.\"], [\"1ul1, anti-gonadotrop, antiag, alik, \", \"A review of the effect of the psychosocial working environment on physiological changes in blood and urine.\"], [\"1ul1, anti-gonadotrop, antiag, alik, \", \"Ageing, physical function, and the diurnal rhythms of cortisol and dehydroepiandrosterone.\"], [\"2400h, 24-26-hr, 18-oh-deoxycorticosteron, 38-h, \", \"The regulation of central and peripheral circadian clocks in humans.\"], [\"MF, alzheim, autonomi, 6-sulphatoxy-melatonin, \", \"[Circadian rhythm sleep disorders].\"], [\"5-androstene-3beta, 1x10, 1.7-fold, GG, \", \"[Circadian rhythm sleep disorders].\"], [\"MF, alzheim, autonomi, 6-sulphatoxy-melatonin, \", \"Circadian variation in salivary testosterone across age classes in Ache Amerindian males of Paraguay.\"], [\"2400h, 24-26-hr, 18-oh-deoxycorticosteron, 38-h, \", \"Measures to counteract the negative effects of night work.\"], [\"/mmcp2, OS, admit, 4-vntr, \", \"Circadian rhythmicity and sleep of aircrew during polar schedules.\"], [\"IR, 0.023.conclus, 35-day, IN, \", \"Squashing versus nudging circadian rhythms with artificial bright light: solutions for shift work?\"], [\"ald, balanc, actillum, akt, \", \"Melatonin agonists and insomnia.\"], [\"'direct, assembl, 20e, assays.result, \", \"Secretion of hormones influencing water and electrolyte balance (antidiuretic hormone, aldosterone, prolactin) during sleep in normal adult men.\"], [\"advanc, afflict, 'everyth, NA, \", \"Circadian rhythm sleep disorders.\"], [\"1ul1, anti-gonadotrop, antiag, alik, \", \"Interactions of cortisol, testosterone, and resistance training: influence of circadian rhythms.\"], [\"0.023.conclus, 14-15-hz, 6-sulftoxymelatonin, PA, \", \"Sleeping during the day: effects on the 24-h patterns of IGF-binding protein 1, insulin, glucose, cortisol, and growth hormone.\"], [\"/mmcp2, OS, admit, 4-vntr, \", \"[Burden and health effects of shift work].\"], [\"0.023.conclus, 14-15-hz, 6-sulftoxymelatonin, PA, \", \"[Sleep-arousal disorder caused by Jet Lag and the countermeasures].\"], [\"0.023.conclus, 14-15-hz, 6-sulftoxymelatonin, PA, \", \"Emergency medicine residents' use of psychostimulants and sedatives to aid in shift work.\"], [\"0.023.conclus, 14-15-hz, 6-sulftoxymelatonin, PA, \", \"Treatment of shift work disorder and jet lag.\"], [\"1ul1, anti-gonadotrop, antiag, alik, \", \"Physical activity, sedentary behavior, and melatonin among rotating shift nurses.\"], [\"0.023.conclus, 14-15-hz, 6-sulftoxymelatonin, PA, \", \"Circadian rhythm desynchronosis, jet lag, shift lag, and coping strategies.\"], [\"1ul1, anti-gonadotrop, antiag, alik, \", \"Neuroendocrinological investigations during sleep deprivation in depression. I. Early morning levels of thyrotropin, TH, cortisol, prolactin, LH, FSH, estradiol, and testosterone.\"], [\"0.023.conclus, 14-15-hz, 6-sulftoxymelatonin, PA, \", \"Circadian rhythm of adrenal glucocorticoid: its regulation and clinical implications.\"], [\"'direct, assembl, 20e, assays.result, \", \"Recognition and assessment of shift work disorder.\"], [\"0.023.conclus, 14-15-hz, 6-sulftoxymelatonin, PA, \", \"Caffeine alters circadian rhythms and expression of disease and metabolic markers.\"], [\"IR, 0.023.conclus, 35-day, IN, \", \"Food intake and diurnal testosterone variation in the Caerphilly Heart Disease Study.\"], [\"advanc, afflict, 'everyth, NA, \", \"The effect of shift rotation on employee cortisol profile, sleep quality, fatigue, and attention level: a systematic review.\"], [\"MI, 4-night, a., 1,25-dihydroxy-vitamin-d, \", \"Adrenal peripheral oscillator in generating the circadian glucocorticoid rhythm.\"], [\"MF, alzheim, autonomi, 6-sulphatoxy-melatonin, \", \"Changes in plasma DHEAS circadian rhythm in elderly men.\"], [\"/mmcp2, OS, admit, 4-vntr, \", \"Cortisol and testosterone in Filipino young adult men: evidence for co-regulation of both hormones by fatherhood and relationship status.\"], [\"0.023.conclus, 14-15-hz, 6-sulftoxymelatonin, PA, \", \"Morning to evening changes of human pituitary and adrenal responses to specific stimuli.\"], [\"adaptive-threshold, barrag, 63-year-old, anabol, \", \"Sleep habits, alertness, cortisol levels, and cardiac autonomic activity in short-distance bus drivers: differences between morning and afternoon shifts.\"], [\"1ul1, anti-gonadotrop, antiag, alik, \", \"[Physiological and psychophysiological indices dynamics in operators with three-shift working day in different working conditions].\"], [\"0.023.conclus, 14-15-hz, 6-sulftoxymelatonin, PA, \", \"Seasonal and inter-day variation in serum high-sensitivity C-reactive protein in Japanese male workers: a longitudinal study.\"], [\"0.023.conclus, 14-15-hz, 6-sulftoxymelatonin, PA, \", \"Differences between diurnal patterns of salivary cortisol and dehydroepiandrosterone in healthy female adolescents.\"], [\"0.023.conclus, 14-15-hz, 6-sulftoxymelatonin, PA, \", \"The adrenal peripheral clock: glucocorticoid and the circadian timing system.\"], [\"0.023.conclus, 14-15-hz, 6-sulftoxymelatonin, PA, \", \"Awakening responses and diurnal fluctuations of salivary cortisol, DHEA-S and \\u03b1-amylase in healthy male subjects.\"], [\"0.023.conclus, 14-15-hz, 6-sulftoxymelatonin, PA, \", \"Psychological and psychophysiological effects of shift work.\"], [\"IR, 0.023.conclus, 35-day, IN, \", \"Understanding and diagnosing shift work disorder.\"], [\"0.023.conclus, 14-15-hz, 6-sulftoxymelatonin, PA, \", \"Jet lag and shift work sleep disorders: how to help reset the internal clock.\"], [\"amateur, afford, 45-day, am-7:00, \", \"[Usefulness of high-sensitivity CRP increases during circadian rhythm for prediction of long-term cardiovascular events in patients with stable coronary artery disease].\"], [\"11th, NA, 45-min, 28-day, \", \"Heart rate variability and endothelial function after sleep deprivation and recovery sleep among male shift and non-shift workers.\"], [\"SC, 1-back, Cp, ER, \", \"Prolactin and human breast cancer: a review.\"], [\"0.023.conclus, 14-15-hz, 6-sulftoxymelatonin, PA, \", \"When does stress end? Evidence of a prolonged stress reaction in shiftworking truck drivers.\"], [\"0.023.conclus, 14-15-hz, 6-sulftoxymelatonin, PA, \", \"Salivary testosterone measurements: reliability across hours, days, and weeks.\"], [\"6500k, TP, ann, BT, \", \"The relationship between shift work, sleep, and cognition in career emergency physicians.\"], [\"1ul1, anti-gonadotrop, antiag, alik, \", \"Analysis of the workload imposed on the workers of the imprint and cutting/welding sectors of a flexible packaging manufacturer.\"], [\"0.023.conclus, 14-15-hz, 6-sulftoxymelatonin, PA, \", \"Appropriate therapeutic selection for patients with shift work disorder.\"], [\"0.023.conclus, 14-15-hz, 6-sulftoxymelatonin, PA, \", \"Light exposure and melatonin among rotating shift nurses--letter.\"], [\"/mmcp2, OS, admit, 4-vntr, \", \"Attenuation of vagal recovery during sleep and reduction of cortisol/melatonin ratio in late afternoon associate with prolonged daytime sleepiness among media workers with irregular shift work.\"], [\"0.023.conclus, 14-15-hz, 6-sulftoxymelatonin, PA, \", \"Chronotype but not sleep length is related to salivary testosterone in young adult men.\"], [\"0.023.conclus, 14-15-hz, 6-sulftoxymelatonin, PA, \", \"Work hours and cortisol variation from non-working to working days.\"], [\"1ul1, anti-gonadotrop, antiag, alik, \", \"[The use of melatonin for correction of sleep disturbances in assembly-line shift workers with arterial hypertension].\"], [\"5-androstene-3beta, 1x10, 1.7-fold, GG, \", \"The diurnal patterns of salivary interleukin-6 and C-reactive protein in healthy young adults.\"], [\"1-tail, alia, 1beta, 1-week, \", \"[Internal clock desynchronization, light and melatonin].\"], [\"amateur, afford, 45-day, am-7:00, \", \"Blacks (African Americans) have shorter free-running circadian periods than whites (Caucasian Americans).\"], [\"5-androstene-3beta, 1x10, 1.7-fold, GG, \", \"An improved method for estimating human circadian phase derived from multichannel ambulatory monitoring and artificial neural networks.\"], [\"0.023.conclus, 14-15-hz, 6-sulftoxymelatonin, PA, \", \"Shift work disorder case studies: applying management principles in clinical practice.\"], [\"0.023.conclus, 14-15-hz, 6-sulftoxymelatonin, PA, \", \"Timed maternal melatonin treatment reverses circadian disruption of the fetal adrenal clock imposed by exposure to constant light.\"], [\"0.023.conclus, 14-15-hz, 6-sulftoxymelatonin, PA, \", \"Changes in the diurnal rhythms during a 45-day head-down bed rest.\"], [\"1ul1, anti-gonadotrop, antiag, alik, \", \"Adaptation to shift work: physiologically based modeling of the effects of lighting and shifts' start time.\"], [\"0.023.conclus, 14-15-hz, 6-sulftoxymelatonin, PA, \", \"Chronobiology of growth hormone secretion.\"], [\"0.023.conclus, 14-15-hz, 6-sulftoxymelatonin, PA, \", \"Overnight plasma profiles of melatonin and certain adenohypophyseal hormones in men.\"], [\"amateur, afford, 45-day, am-7:00, \", \"Diurnal patterns of salivary cortisol and DHEA using a novel collection device: electronic monitoring confirms accurate recording of collection time using this device.\"], [\"MF, alzheim, autonomi, 6-sulphatoxy-melatonin, \", \"Morning cortisol levels and perceived stress in irregular shift workers compared with regular daytime workers.\"], [\"1ul1, anti-gonadotrop, antiag, alik, \", \"Influence of melatonin on the sleep-independent component of prolactin secretion.\"], [\"0.023.conclus, 14-15-hz, 6-sulftoxymelatonin, PA, \", \"Circadian pituitary adrenal rhythms.\"], [\"MF, alzheim, autonomi, 6-sulphatoxy-melatonin, \", \"Characteristics of menstrual cycle in shift workers.\"], [\"0.023.conclus, 14-15-hz, 6-sulftoxymelatonin, PA, \", \"Variability of serum prolactin and progesterone levels in normal women: the relevance of single hormone measurements in the clinical setting.\"], [\"1ul1, anti-gonadotrop, antiag, alik, \", \"The circadian clock and glucocorticoids--interactions across many time scales.\"], [\"0.023.conclus, 14-15-hz, 6-sulftoxymelatonin, PA, \", \"[Circadian rhythm of plasma levels of lipids, carbohydrates and various hormones in healthy pilots].\"], [\"0.023.conclus, 14-15-hz, 6-sulftoxymelatonin, PA, \", \"Estradiol modulates recovery of REM sleep in a time-of-day-dependent manner.\"], [\"advanc, afflict, 'everyth, NA, \", \"Diurnal variation of testosterone and estradiol: a source of bias in comparative studies on breast cancer.\"], [\"0.023.conclus, 14-15-hz, 6-sulftoxymelatonin, PA, \", \"Update on the role of melatonin in the prevention of cancer tumorigenesis and in the management of cancer correlates, such as sleep-wake and mood disturbances: review and remarks.\"], [\"1ul1, anti-gonadotrop, antiag, alik, \", \"Polysomnographic Sleep and Circadian Temperature Rhythms as a Function of Prior Shift Work Exposure in Retired Seniors.\"], [\"0.023.conclus, 14-15-hz, 6-sulftoxymelatonin, PA, \", \"Psychomotor performance of truck drivers before and after day shifts.\"], [\"IR, 0.023.conclus, 35-day, IN, \", \"Within-person coupling of changes in cortisol, testosterone, and DHEA across the day in adolescents.\"], [\"amateur, afford, 45-day, am-7:00, \", \"[Night work and health of nurses and midviwes--a review].\"], [\"0.023.conclus, 14-15-hz, 6-sulftoxymelatonin, PA, \", \"Day-night contrast as source of health for the human circadian system.\"], [\"1-tail, alia, 1beta, 1-week, \", \"The biological clock modulates the human cortisol response in a multiplicative fashion.\"], [\"advanc, afflict, 'everyth, NA, \", \"Circadian misalignment augments markers of insulin resistance and inflammation, independently of sleep loss.\"], [\"'direct, assembl, 20e, assays.result, \", \"The relationship between sleep disorders and testosterone in men.\"], [\"1ul1, anti-gonadotrop, antiag, alik, \", \"Workers' psychological distress, depression, and burnout symptoms: associations with diurnal cortisol profiles.\"], [\"1-tail, alia, 1beta, 1-week, \", \"Effects of rotation interval on sleepiness and circadian dynamics on forward rotating 3-shift systems.\"], [\"IR, 0.023.conclus, 35-day, IN, \", \"Steroid hormones in 2013: Glucocorticoids: timing, binding and environment.\"], [\"5-androstene-3beta, 1x10, 1.7-fold, GG, \", \"[Circadian and circumannual variations in the level of plasma TSH and prolactin in healthy adult males].\"], [\"advanc, afflict, 'everyth, NA, \", \"Diurnal patterns and associations among salivary cortisol, DHEA and alpha-amylase in older adults.\"], [\"IR, 0.023.conclus, 35-day, IN, \", \"Very Long (> 48 hours) Shifts and Cardiovascular Strain in Firefighters: a Theoretical Framework.\"], [\"0.023.conclus, 14-15-hz, 6-sulftoxymelatonin, PA, \", \"Sleep loss, circadian mismatch, and abnormalities in reorienting of attention in night workers with shift work disorder.\"], [\"1ul1, anti-gonadotrop, antiag, alik, \", \"[Shift work and risk of cancer and coronary heart diseases].\"], [\"0.023.conclus, 14-15-hz, 6-sulftoxymelatonin, PA, \", \"Oral temperature, circadian rhythm amplitude, ageing and tolerance to shift-work.\"], [\"5-androstene-3beta, 1x10, 1.7-fold, GG, \", \"[Circadian rhythm of prolactin release in women and men].\"], [\"0.023.conclus, 14-15-hz, 6-sulftoxymelatonin, PA, \", \"[Circadian changes in blood prolactin levels in aged subjects].\"], [\"advanc, afflict, 'everyth, NA, \", \"Effects of caffeine on skin and core temperatures, alertness, and recovery sleep during circadian misalignment.\"], [\"6-hydroxymelatoninsulph, 12l:12d, He, 12-year-old, \", \"The relationship between sleep disorders and testosterone.\"], [\"1ul1, anti-gonadotrop, antiag, alik, \", \"Spectral modulation of light wavelengths using optical filters: effect on melatonin secretion.\"], [\"0.023.conclus, 14-15-hz, 6-sulftoxymelatonin, PA, \", \"Inter-individual differences in the human circadian system: a review.\"], [\"1ul1, anti-gonadotrop, antiag, alik, \", \"Pharmacological interventions for sleepiness and sleep disturbances caused by shift work.\"], [\"advanc, afflict, 'everyth, NA, \", \"[Man and night work. I. The adaptability of human circadian biorhythms].\"], [\"0.023.conclus, 14-15-hz, 6-sulftoxymelatonin, PA, \", \"Sleep regulation and sex hormones exposure in men and women across adulthood.\"], [\"5-androstene-3beta, 1x10, 1.7-fold, GG, \", \"The role of sleep and circadian rhythms in health: a snapshot of key research interrogations.\"], [\"1ul1, anti-gonadotrop, antiag, alik, \", \"The effects of a split sleep-wake schedule on neurobehavioural performance and predictions of performance under conditions of forced desynchrony.\"], [\"IR, 0.023.conclus, 35-day, IN, \", \"Millisecond flashes of light phase delay the human circadian clock during sleep.\"], [\"1ul1, anti-gonadotrop, antiag, alik, \", \"Predictors of shift work disorder among nurses: a longitudinal study.\"], [\"MF, alzheim, autonomi, 6-sulphatoxy-melatonin, \", \"Early, but not late chronotypes, are up during their biological night when working the night shift.\"], [\"MF, alzheim, autonomi, 6-sulphatoxy-melatonin, \", \"Author response: early, but not late chronotypes, are up during their biological night when working the night shift.\"], [\"MF, alzheim, autonomi, 6-sulphatoxy-melatonin, \", \"Circadian rhythm parameters of endocrine functions in elderly subjects during the seventh to the ninth decade of life.\"], [\"appropri, acebo, aris, assumpt, \", \"Pharmacological interventions for sleepiness and sleep disturbances caused by shift work.\"], [\"MF, alzheim, autonomi, 6-sulphatoxy-melatonin, \", \"Influence of sleep deprivation and circadian misalignment on cortisol, inflammatory markers, and cytokine balance.\"], [\"b=2.3, .method, androgen, america, \", \"Association of Job Strain With Cortisol and Alpha-Amylase Among Shift-Working Health Care Professionals in Laboratory and Field.\"], [\"appropri, acebo, aris, assumpt, \", \"Pharmacological interventions for sleepiness and sleep disturbances caused by shift work.\"], [\"appropri, acebo, aris, assumpt, \", \"Shift work and endocrine disorders.\"], [\"appropri, acebo, aris, assumpt, \", \"Doxorubicin resistance in breast cancer is driven by light at night-induced disruption of the circadian melatonin signal.\"], [\"1ul1, anti-gonadotrop, antiag, alik, \", \"Circadian variation in testosterone, sex hormone-binding globulin, and calculated non-sex hormone-binding globulin bound testosterone in healthy young and elderly men.\"], [\"CV, 9-hour, 26-item, alteration/disturb, \", \"The association of body size in early to mid-life with adult urinary 6-sulfatoxymelatonin levels among night shift health care workers.\"], [\"1ul1, anti-gonadotrop, antiag, alik, \", \"Shift work and its association with metabolic disorders.\"], [\"MF, alzheim, autonomi, 6-sulphatoxy-melatonin, \", \"Context influences the interplay of endocrine axes across the day.\"], [\"appropri, acebo, aris, assumpt, \", \"Acute Sleep Loss Induces Tissue-Specific Epigenetic and Transcriptional Alterations to Circadian Clock Genes in Men.\"], [\"amateur, afford, 45-day, am-7:00, \", \"No stress after 24-hour on-call shifts?\"], [\"1ul1, anti-gonadotrop, antiag, alik, \", \"Extended work availability and its relation with start-of-day mood and cortisol.\"], [\"MF, alzheim, autonomi, 6-sulphatoxy-melatonin, \", \"Lack of diurnal variation in plasma levels of androstenedione, testosterone, estrone and estradiol in postmenopausal women.\"], [\"'direct, assembl, 20e, assays.result, \", \"Prolactin concentrations during the normal menstrual cycle: rhythms within rhythms.\"], [\"MF, alzheim, autonomi, 6-sulphatoxy-melatonin, \", \"The use of salivary steroids to monitor circadian rhythmicity on expeditions in the arctic.\"], [\"MF, alzheim, autonomi, 6-sulphatoxy-melatonin, \", \"Work stress models and diurnal cortisol variations: The SALVEO study.\"], [\"MF, alzheim, autonomi, 6-sulphatoxy-melatonin, \", \"Effects of Circadian Rhythm on Power, Force, and Hormonal Response in Young Men.\"], [\"and-accord, avow, automot, W, \", \"Sex hormones adjust \\\"sex-specific\\\" reactive and diurnal cortisol profiles.\"], [\"-I, approach, +/-sem, abstarct, \", \"Performance overnight in shiftworkers operating a day-night schedule.\"], [\"-I, approach, +/-sem, abstarct, \", \"The efficacy of objective and subjective predictors of driving performance during sleep restriction and circadian misalignment.\"], [\"and-accord, avow, automot, W, \", \"Jet Lag and Shift Work Disorder.\"], [\"appropri, acebo, aris, assumpt, \", \"The pragmatic approach to masking.\"], [\"appropri, acebo, aris, assumpt, \", \"Sleep-related melatonin use in healthy children.\"], [\"appropri, acebo, aris, assumpt, \", \"Adaptation to shift work--experimental approaches with reduced masking effects.\"], [\"appropri, acebo, aris, assumpt, \", \"Sleep and wake disorders in shift workers. Part II: Prevention and treatment strategies.\"], [\"beadchip, =filter, 9-h, 9-hour, \", \"Daily profiles of steroid hormones and their metabolites related to food intake.\"], [\"appropri, acebo, aris, assumpt, \", \"Experimental studies of shift-work. II. Stabilized 8-hour shift systems.\"], [\"appropri, acebo, aris, assumpt, \", \"Rhythmic correlates of shift work.\"], [\"ald, balanc, actillum, akt, \", \"Rhythms in the ovulatory cycle. 1st: Prolactin. Chronobiological Research Group on Synthetic Peptides in Medicine.\"], [\"CS, all, 25-day, antihistamin, \", \"Circadian variations of plasma testosterone and estrogens in normal men. A study by frequent sampling.\"], [\"arrhythmia, BP, afternoons/even, auditori, \", \"The neuroendocrinology of human sleep.\"], [\"and-accord, avow, automot, W, \", \"A study of weekly and rapidly rotating shiftworkers.\"], [\"appropri, acebo, aris, assumpt, \", \"Effect of color temperature on melatonin production for illumination of working environments.\"], [\"1ul1, anti-gonadotrop, antiag, alik, \", \"Common genetic variation near melatonin receptor 1A gene linked to job-related exhaustion in shift workers.\"], [\"beadchip, =filter, 9-h, 9-hour, \", \"[Circadian rhythm of circulating hormones in Cushing's disease].\"], [\"appropri, acebo, aris, assumpt, \", \"Effects of exogenous melatonin on human pituitary and adrenal secretions. Hormonal responses to specific stimuli after acute administration of different doses at two opposite circadian stages in men.\"], [\"'direct, assembl, 20e, assays.result, \", \"Plasma testosterone during nocturnal sleep in normal men.\"], [\"'direct, assembl, 20e, assays.result, \", \"Work at sea: a study of sleep, and of circadian rhythms in physiological and psychological functions, in watchkeepers on merchant vessels. I. Watchkeeping on board ships: a methodological approach.\"], [\"artist, analys, abstract, averag, \", \"Control of circadian and episodic variations of adrenal androgens secretion in man.\"], [\"appropri, acebo, aris, assumpt, \", \"Pulsatile hormone secretion late in the luteal phase of normal and infertile women during diurnal hours.\"], [\"0.023.conclus, 14-15-hz, 6-sulftoxymelatonin, PA, \", \"Seasonal, menstrual and circadian secretions of melatonin, gonadotropins and prolactin in women.\"], [\"appropri, acebo, aris, assumpt, \", \"Age-related alterations in the circadian rhythms of pulsatile luteinizing hormone and testosterone secretion in healthy men.\"], [\"1ul1, anti-gonadotrop, antiag, alik, \", \"Effects of daytime noise load on the sleep-wake cycle and endocrine patterns in man: II. 24 hours secretion of anterior and posterior pituitary hormones and of cortisol.\"], [\"1ul1, anti-gonadotrop, antiag, alik, \", \"Effects of a four-day nocturnal melatonin treatment on the 24 h plasma melatonin, cortisol and prolactin profiles in humans.\"], [\"6-d, analys, 1,25-dihydroxy-vitamin-d, 9-hour, \", \"Alterations of temperature, sleepiness, mood, and performance in residents are not associated with changes in sulfatoxymelatonin excretion.\"], [\"1ul1, anti-gonadotrop, antiag, alik, \", \"Effect of age on circadian rhythm of prolactin in normal men.\"], [\"1ul1, anti-gonadotrop, antiag, alik, \", \"Effects of nighttime nap and age on sleep patterns of shift workers.\"], [\"1ul1, anti-gonadotrop, antiag, alik, \", \"[Study on circadian rhythm of axillary temperature by continuous recording method--a new approach to shift work study].\"], [\"1ul1, anti-gonadotrop, antiag, alik, \", \"Positive relationship between the nocturnal concentrations of melatonin and prolactin, and a stimulation of prolactin after melatonin administration in young men.\"], [\"6500k, TP, ann, BT, \", \"Circadian rhythm of plasma testosterone, cortisol and gonadotropins in normal male subjects.\"], [\"1ul1, anti-gonadotrop, antiag, alik, \", \"Diurnal variation of plasma testosterone and cortisol.\"], [\"ald, balanc, actillum, akt, \", \"A concept of physiological time: rhythms in behavior and reproductive physiology.\"], [\"1ul1, anti-gonadotrop, antiag, alik, \", \"[Relation between sleep and the levels of 3 hormones in the peripheral blood plasma in healthy persons. II. Sleep EEG and the changes in prolactin (hPRL) level].\"], [\"1ul1, anti-gonadotrop, antiag, alik, \", \"Effects of sex and age on the 24-hour profile of growth hormone secretion in man: importance of endogenous estradiol concentrations.\"], [\"advanc, afflict, 'everyth, NA, \", \"The circadian pattern of melatonin and its positive relationship with progesterone in women.\"], [\"advanc, afflict, 'everyth, NA, \", \"The effects of exogenous melatonin on endocrine function in man.\"], [\"1ul1, anti-gonadotrop, antiag, alik, \", \"Basal and LHRH-stimulated gonadotropin levels and the circadian rhythm of testosterone and the effect of exogenous testosterone thereon.\"], [\"1ul1, anti-gonadotrop, antiag, alik, \", \"Chronobiology and shift work: current issues and trends.\"], [\"CV, 9-hour, 26-item, alteration/disturb, \", \"[Circadian and circannual study of the hypophyseal-gonadal axis in healthy young males].\"], [\"1ul1, anti-gonadotrop, antiag, alik, \", \"Human prolactin: 24-hour pattern with increased release during sleep.\"], [\"1ul1, anti-gonadotrop, antiag, alik, \", \"Integrated concentration and circadian variation of plasma testosterone in normal men.\"], [\"1ul1, anti-gonadotrop, antiag, alik, \", \"Circadian rhythms and night shift working in nurses.\"], [\"CV, 9-hour, 26-item, alteration/disturb, \", \"Plasma melatonin and the hormone-dependency of human breast cancer.\"], [\"6500k, TP, ann, BT, \", \"Independence of the circadian rhythm in alertness from the sleep/wake cycle.\"], [\"CV, 9-hour, 26-item, alteration/disturb, \", \"Circadian system response to night work in relation to the individual circadian phase position.\"], [\"arrhythmia, BP, afternoons/even, auditori, \", \"Circadian rhythms in deep body temperature, urinary excretion and alertness in nurses on night work.\"], [\"artist, analys, abstract, averag, \", \"Temporal patterns of integrated plasma hormone levels during sleep and wakefulness. II. Follicle-stimulating hormone, luteinizing hormone, testosterone and estradiol.\"], [\"1ul1, anti-gonadotrop, antiag, alik, \", \"Hormonal and metabolic circadian rhythms before and during a low protein diet.\"], [\"1ul1, anti-gonadotrop, antiag, alik, \", \"Diurnal variations of plasma testosterone in men.\"], [\"1ul1, anti-gonadotrop, antiag, alik, \", \"Diurnal rhythms of serum gonadotropins, testosterone, estradiol and cortisol in blind men.\"], [\"1ul1, anti-gonadotrop, antiag, alik, \", \"Circadian rhythms in plasma levels of cortisol, dehydroepiandrosterone, delta 4-androstenedione, testosterone and dihydrotestosterone of healthy young men.\"], [\"0.023.conclus, 14-15-hz, 6-sulftoxymelatonin, PA, \", \"[Individual differences in circadian response to a schedule with a 12-hour time shift--a laboratory study of oral temperature, and adrenaline and 17-OHCS excretion].\"], [\"appropri, acebo, aris, assumpt, \", \"The circadian rhythms of serum prolactin in nurses working on a night shift.\"], [\"FA, Tf, 4-week, HP, \", \"Circadian and circannual rhythms of hormonal variables in elderly men and women.\"], [\"arrhythmia, BP, afternoons/even, auditori, \", \"Hormone rhythms and breast cancer chronoepidemiology: salivary progesterone concentrations in pre- and post-menarchal girls and in normal premenopausal women.\"], [\"CV, 9-hour, 26-item, alteration/disturb, \", \"Displacement of the sleep period and sleep deprivation. Implications for shift work.\"], [\"0.023.conclus, 14-15-hz, 6-sulftoxymelatonin, PA, \", \"Circadian patterns of plasma cortisol and testosterone in chronic male alcoholics.\"], [\"6500k, TP, ann, BT, \", \"Short- and long-term fluctuations in plasma prolactin concentration in normal subjects.\"], [\"MF, alzheim, autonomi, 6-sulphatoxy-melatonin, \", \"Cortisol secretion is inhibited during sleep in normal man.\"], [\"ald, balanc, actillum, akt, \", \"Desynchronization of the oral temperature circadian rhythm and intolerance to shift work.\"], [\"6500k, TP, ann, BT, \", \"[Circadian changes in somatotropic hormone and prolactin during a balanced normocaloric diet and after a high protein diet in 16 normal subjects].\"], [\"1ul1, anti-gonadotrop, antiag, alik, \", \"Circadian rhythms and shiftworking.\"], [\"and-accord, avow, automot, W, \", \"Circadian rhythms and shiftworking--2.\"], [\"5-androstene-3beta, 1x10, 1.7-fold, GG, \", \"Plasma testosterone and sleep: relationship to sleep stage variables.\"], [\"advanc, afflict, 'everyth, NA, \", \"Influence of dopaminergic mechanisms on 24-hour secretory patterns of prolactin, luteinizing hormone and testosterone in recumbent men.\"], [\"1-tail, alia, 1beta, 1-week, \", \"[The central mechanisms of sex steroidal modification of sleep circadian rhythm (author's transl)].\"], [\"1ul1, anti-gonadotrop, antiag, alik, \", \"The relationship between circadian variations in circulating thyrotrophin, thyroid hormones and prolactin.\"], [\"5-androstene-3beta, 1x10, 1.7-fold, GG, \", \"Circadian pattern of prolactin secretion in postmenopausal women receiving estrogen with or without progestin.\"], [\"1ul1, anti-gonadotrop, antiag, alik, \", \"Personality differences in body-temperature rhythm, and their relation to its adjustment to night work.\"], [\"1-tail, alia, 1beta, 1-week, \", \"Adjustment of circadian rhythms and EEG sleep functions to day and night sleep among permanent nightworkers and rotating shiftworkers.\"], [\"1ul1, anti-gonadotrop, antiag, alik, \", \"Daughters of women with breast cancer have elevated mean 24-hour prolactin (PRL) levels and a partial resistance of PRL to dopamine suppression.\"], [\"1ul1, anti-gonadotrop, antiag, alik, \", \"Circadian variation of cortisol and catecholamines following shifted wake-sleep schedules.\"], [\"appropri, acebo, aris, assumpt, \", \"Abnormalities in evening plasma prolactin levels in nulliparous women with benign or malignant breast disease.\"], [\"artist, analys, abstract, averag, \", \"The sleep and performance of shift workers.\"], [\"artist, analys, abstract, averag, \", \"Apparent phase-shifts of circadian rhythms (masking effects) during rapid shift rotation.\"], [\"6-d, analys, 1,25-dihydroxy-vitamin-d, 9-hour, \", \"Chronobiological studies of plasma prolactin in women in Kyushu, Japan, and Minnesota, USA.\"], [\"arrhythmia, BP, afternoons/even, auditori, \", \"Re-entrainment of body temperature in experimental shift-work studies.\"], [\"advanc, afflict, 'everyth, NA, \", \"Effects of \\\"jet lag\\\" on hormonal patterns. III. Demonstration of an intrinsic circadian rhythmicity in plasma prolactin.\"], [\"1-tail, alia, 1beta, 1-week, \", \"Adaptation to abrupt time shifts of the oscillator(s) controlling human circadian rhythms.\"], [\"0.023.conclus, 14-15-hz, 6-sulftoxymelatonin, PA, \", \"Circadian rhythm of serum testosterone and its relation to sleep: comparison with the variation in serum luteinizing hormone, prolactin, and cortisol in normal men.\"], [\"0.023.conclus, 14-15-hz, 6-sulftoxymelatonin, PA, \", \"The 24-h pattern of human prolactin and growth hormone in healthy elderly subjects.\"], [\"0.023.conclus, 14-15-hz, 6-sulftoxymelatonin, PA, \", \"Temporal (circadian) and functional relationship between prostate-specific antigen and testosterone in healthy men.\"], [\"1ul1, anti-gonadotrop, antiag, alik, \", \"No effect of ethinylestradiol treatment on melatonin secretion in healthy pubertal girls.\"], [\"CV, 9-hour, 26-item, alteration/disturb, \", \"Melatonin and the development of circadian and seasonal rhythmicity.\"], [\"1ul1, anti-gonadotrop, antiag, alik, \", \"Effects of ageing on modulation of hormonal secretions by sleep and circadian rhythmicity.\"], [\"advanced/leth, 2-3h, CC, acrophs, \", \"The use of survey measures to assess circadian variations in alertness.\"], [\"1ul1, anti-gonadotrop, antiag, alik, \", \"Melatonin marks circadian phase position and resets the endogenous circadian pacemaker in humans.\"], [\"artist, analys, abstract, averag, \", \"[Role of biological clock in human pathology].\"], [\"MF, alzheim, autonomi, 6-sulphatoxy-melatonin, \", \"Desynchronization of circadian rhythms in a group of shift working nurses: effects of pattern of shift rotation.\"], [\"MF, alzheim, autonomi, 6-sulphatoxy-melatonin, \", \"The circadian system and the therapeutics of the affective disorders.\"], [\"appropri, acebo, aris, assumpt, \", \"Parallel nocturnal secretion of melatonin and testosterone in the plasma of normal men.\"], [\"0.023.conclus, 14-15-hz, 6-sulftoxymelatonin, PA, \", \"24-hour profiles of salivary progesterone.\"], [\"1ul1, anti-gonadotrop, antiag, alik, \", \"Plasma concentration of nine hormones and neurotransmitters during usual activities or constant bed rest for 34 H.\"], [\"0.023.conclus, 14-15-hz, 6-sulftoxymelatonin, PA, \", \"Age and adjustment to night work.\"], [\"CS, all, 25-day, antihistamin, \", \"Chronobiology in endocrinology.\"], [\"MF, alzheim, autonomi, 6-sulphatoxy-melatonin, \", \"Dopamine and prolactin--an imperfect duo in circadian rhythmicity.\"], [\"CV, 9-hour, 26-item, alteration/disturb, \", \"Diurnal and seasonal rhythms of melatonin, cortisol and testosterone in interior Alaska.\"], [\"0.023.conclus, 14-15-hz, 6-sulftoxymelatonin, PA, \", \"Effects of 24-hour shift work with nighttime napping on circadian rhythm characteristics in ambulance personnel.\"], [\"CV, 9-hour, 26-item, alteration/disturb, \", \"[Role of melatonin in human physiology and pathology. I. Circadian rhythm of melatonin secretion. Involvement of melatonin in reproductive physiology. Melatonin and hypothalamic-pituitary-adrenal cortex axis].\"], [\"0.023.conclus, 14-15-hz, 6-sulftoxymelatonin, PA, \", \"Conservation of photoperiod-responsive mechanisms in humans.\"], [\"'direct, assembl, 20e, assays.result, \", \"Differences in the nyctohemeral secretion of TSH and PRL in healthy euthyroid men.\"], [\"0.023.conclus, 14-15-hz, 6-sulftoxymelatonin, PA, \", \"Changes of rectal temperature and wrist activity during 25-h sliding shift: a preliminary study.\"], [\"MF, alzheim, autonomi, 6-sulphatoxy-melatonin, \", \"Do gonadal steroids regulate circadian rhythms in humans?\"], [\"0.023.conclus, 14-15-hz, 6-sulftoxymelatonin, PA, \", \"Circadian variation in serum free and non-SHBG-bound testosterone in normal men: measurements, and simulation using a mass action model.\"], [\"IR, 0.023.conclus, 35-day, IN, \", \"Age, circadian rhythms, and sleep loss in flight crews.\"], [\"1ul1, anti-gonadotrop, antiag, alik, \", \"Daily rhythmic and non-rhythmic variations of follitropin, lutropin, testosterone, and sex-hormone-binding globulin in men.\"], [\"MF, alzheim, autonomi, 6-sulphatoxy-melatonin, \", \"Pattern of prolactin diurnal secretion in normal humans: evidence for nonlinear dynamics.\"], [\"0.023.conclus, 14-15-hz, 6-sulftoxymelatonin, PA, \", \"A double-blind trial of melatonin as a treatment for jet lag in international cabin crew.\"], [\"0.023.conclus, 14-15-hz, 6-sulftoxymelatonin, PA, \", \"Temporal relationship between prolactin secretion and slow-wave electroencephalic activity during sleep.\"], [\"6-d, analys, 1,25-dihydroxy-vitamin-d, 9-hour, \", \"Circadian variation in sports performance.\"], [\"0.023.conclus, 14-15-hz, 6-sulftoxymelatonin, PA, \", \"The 24-hour rhythms in plasma growth hormone, prolactin and thyroid stimulating hormone: effect of sleep deprivation.\"], [\"MF, alzheim, autonomi, 6-sulphatoxy-melatonin, \", \"Circadian rhythms of prolactin and thyroid-stimulating hormone during the menstrual cycle and early versus late sleep deprivation in premenstrual dysphoric disorder.\"], [\"5-androstene-3beta, 1x10, 1.7-fold, GG, \", \"A new basal body temperature 5 h after nocturnal sleep onset.\"], [\"1-tail, alia, 1beta, 1-week, \", \"Oral contraceptives alter circadian rhythm parameters of cortisol, melatonin, blood pressure, heart rate, skin blood flow, transepidermal water loss, and skin amino acids of healthy young women.\"], [\"5-androstene-3beta, 1x10, 1.7-fold, GG, \", \"The influence of cortisol on spontaneous and 5HT stimulated prolactin release in man.\"], [\"MF, alzheim, autonomi, 6-sulphatoxy-melatonin, \", \"[Melatonin: a new wonder drug?].\"], [\"1ul1, anti-gonadotrop, antiag, alik, \", \"The amplitude of endogenous melatonin production is not affected by melatonin treatment in humans.\"], [\"'direct, assembl, 20e, assays.result, \", \"Biological rhythms in the human life cycle and their relationship to functional changes in the suprachiasmatic nucleus.\"], [\"IR, 0.023.conclus, 35-day, IN, \", \"Conflicting bright light exposure during night shifts impedes circadian adaptation.\"], [\"IR, 0.023.conclus, 35-day, IN, \", \"Melatonin, its receptors, and relationships with biological rhythm disorders.\"], [\"MF, alzheim, autonomi, 6-sulphatoxy-melatonin, \", \"Plasma melatonin circadian rhythms during the menstrual cycle and after light therapy in premenstrual dysphoric disorder and normal control subjects.\"], [\"5-androstene-3beta, 1x10, 1.7-fold, GG, \", \"Melatonin: therapeutic use in sleep disorders.\"], [\"1ul1, anti-gonadotrop, antiag, alik, \", \"Complex effects of melatonin on human circadian rhythms in constant dim light.\"], [\"IR, 0.023.conclus, 35-day, IN, \", \"Plasma prolactin and its relationship to risk factors in human breast cancer.\"], [\"1ul1, anti-gonadotrop, antiag, alik, \", \"Synchronicity of frequently sampled, 24-h concentrations of circulating leptin, luteinizing hormone, and estradiol in healthy women.\"], [\"0.023.conclus, 14-15-hz, 6-sulftoxymelatonin, PA, \", \"Rapid shift in peak melatonin secretion associated with improved performance in short shift work schedule.\"], [\"/mmcp2, OS, admit, 4-vntr, \", \"[Fluctuations of physical function affected by sleep-awake rhythm--endocrine system].\"], [\"2400h, 24-26-hr, 18-oh-deoxycorticosteron, 38-h, \", \"Melatonin and the pineal gland: influence on mammalian seasonal and circadian physiology.\"], [\"0.023.conclus, 14-15-hz, 6-sulftoxymelatonin, PA, \", \"Prolactin pulsatile characteristics in postmenopausal women.\"], [\"SC, 1-back, Cp, ER, \", \"Melatonin administration and pituitary hormone secretion.\"], [\"1ul1, anti-gonadotrop, antiag, alik, \", \"The physiology and pharmacology of melatonin in humans.\"], [\"SC, 1-back, Cp, ER, \", \"Sleep and circadian disturbances in shift work: strategies for their management.\"], [\"0.023.conclus, 14-15-hz, 6-sulftoxymelatonin, PA, \", \"Genetic and environmental influences on prolactin secretion during wake and during sleep.\"], [\"0.023.conclus, 14-15-hz, 6-sulftoxymelatonin, PA, \", \"Sleep and circadian rhythms in four orbiting astronauts.\"], [\"1-tail, alia, 1beta, 1-week, \", \"Does exogenous melatonin improve day sleep or night alertness in emergency physicians working night shifts?\"], [\"IR, 0.023.conclus, 35-day, IN, \", \"Evaluation of self-similar features in time series of serum growth hormone and prolactin levels by fractal analysis: effect of delayed sleep and complexity of diurnal variation.\"], [\"0.023.conclus, 14-15-hz, 6-sulftoxymelatonin, PA, \", \"Disorders of the sleep-wake cycle in adults.\"], [\"0.023.conclus, 14-15-hz, 6-sulftoxymelatonin, PA, \", \"The use of melatonin as a potential treatment for shiftwork sleep disorder.\"], [\"'direct, assembl, 20e, assays.result, \", \"Effects of the endogenous clock and sleep time on melatonin, insulin, glucose and lipid metabolism.\"], [\"5-androstene-3beta, 1x10, 1.7-fold, GG, \", \"Neurohypophysial hormone and melatonin secretion over the natural and suppressed menstrual cycle in premenopausal women.\"], [\"5-androstene-3beta, 1x10, 1.7-fold, GG, \", \"Diurnal trends in mood and performance do not all parallel alertness.\"], [\"1ul1, anti-gonadotrop, antiag, alik, \", \"Working on atypical schedules\"], [\"0.023.conclus, 14-15-hz, 6-sulftoxymelatonin, PA, \", \"Health consequences of shift work and implications for structural design\"], [\"'direct, assembl, 20e, assays.result, \", \"A generalized theory of carcinogenesis due to chronodisruption\"], [\"1ul1, anti-gonadotrop, antiag, alik, \", \"Bedtime misalignment and progression of breast cancer\"], [\"1ul1, anti-gonadotrop, antiag, alik, \", \"Incidence of cancer among commercial airline pilots (multiple letters)\"], [\"0.023.conclus, 14-15-hz, 6-sulftoxymelatonin, PA, \", \"Clocking In: The Organization of Work Time and Health in the United States\"], [\"1ul1, anti-gonadotrop, antiag, alik, \", \"Effects of shift work on health\"], [\"0.023.conclus, 14-15-hz, 6-sulftoxymelatonin, PA, \", \"Sleep duration and endometrial cancer risk\"], [\"0.023.conclus, 14-15-hz, 6-sulftoxymelatonin, PA, \", \"Incidence of breast cancer in Norwegian female radio and telegraph operators\"], [\"MF, alzheim, autonomi, 6-sulphatoxy-melatonin, \", \"Analysis of polymorphisms in the circadian-related genes and breast cancer risk in Norwegian nurses working night shifts\"], [\"0.023.conclus, 14-15-hz, 6-sulftoxymelatonin, PA, \", \"Adaptation of the 6-sulphatoxymelatonin rhythm in shiftworkers on offshore oil installations during a 2-week 12-h night shift.\"], [\"0.023.conclus, 14-15-hz, 6-sulftoxymelatonin, PA, \", \"Concentrations of cortisol, testosterone and glycosylated haemoglobin (HbA1c) among construction workers with 12-h workdays and extended workweeks.\"], [\"0.023.conclus, 14-15-hz, 6-sulftoxymelatonin, PA, \", \"Adaptation rate of 6-sulfatoxymelatonin and cognitive performance in offshore fleet shift workers: a field study.\"], [\"6-d, analys, 1,25-dihydroxy-vitamin-d, 9-hour, \", \"Association of shiftwork and leukocytes among national health and nutrition examination survey respondents\"], [\"and-accord, avow, automot, W, \", \"Work and Female Breast Cancer: The State of the Evidence, 2002-2017\"], [\"6-hydroxymelatoninsulph, 12l:12d, He, 12-year-old, \", \"The relation of shift work tolerance to the circadian adjustment.\"], [\"IR, 0.023.conclus, 35-day, IN, \", \"Payroll data based description of working hours in the Danish regions\"], [\"IR, 0.023.conclus, 35-day, IN, \", \"From Principles to Practice: Real-World Patient and Stakeholder Engagement in Breast Cancer Research\"], [\"IR, 0.023.conclus, 35-day, IN, \", \"Modeling and analysis of the impacts of jet lag on circadian rhythm and its role in tumor growth\"], [\"advanc, afflict, 'everyth, NA, \", \"Reply to 'Comment on 'Domestic light at night and breast cancer risk: a prospective analysis of 105 000 UK women in the Generations Study\\\"\"], [\"advanc, afflict, 'everyth, NA, \", \"Relevance of a mobile internet platform for capturing inter- and intrasubject variabilities in circadian coordination during daily routine: Pilot study\"], [\"'direct, assembl, 20e, assays.result, \", \"Melatonin and breast cancer: Evidences from preclinical and human studies\"], [\"0.023.conclus, 14-15-hz, 6-sulftoxymelatonin, PA, \", \"Effects of night shift working on some immunological, prostate specific antigen, cortisol level and malondialdehyde in male nurses at Hawler city\"], [\"0.023.conclus, 14-15-hz, 6-sulftoxymelatonin, PA, \", \"Comment on 'Domestic light at night and breast cancer risk: a prospective analysis of 105 000 UK women in the Generations Study'\"], [\"MF, alzheim, autonomi, 6-sulphatoxy-melatonin, \", \"Sleep and circadian disruption and incident breast cancer risk: An evidence-based and theoretical review\"], [\"0.023.conclus, 14-15-hz, 6-sulftoxymelatonin, PA, \", \"Gynaecological cancer and night shift work: A systematic review\"], [\"IR, 0.023.conclus, 35-day, IN, \", \"Night-shift work and hematological cancers: a population based case-control study in three Nordic countries\"], [\"IR, 0.023.conclus, 35-day, IN, \", \"Association between shiftwork and the risk of colorectal cancer in females: a population-based case-control study\"], [\"5-androstene-3beta, 1x10, 1.7-fold, GG, \", \"Night Shift Work Increases the Risks of Multiple Primary Cancers in Women: A Systematic Review and Meta-analysis of 61 Articles\"], [\"1ul1, anti-gonadotrop, antiag, alik, \", \"Night work and prostate cancer in men: a Swedish prospective cohort study\"], [\"0.023.conclus, 14-15-hz, 6-sulftoxymelatonin, PA, \", \"Mortality from cancer and other causes in commercial airline crews: a joint analysis of cohorts from 10 countries\"], [\"IR, 0.023.conclus, 35-day, IN, \", \"Case-control study of occupational categories and breast cancer risk in Thailand\"], [\"CV, 9-hour, 26-item, alteration/disturb, \", \"Domestic light at night and breast cancer risk: a prospective analysis of 105 000 UK women in the Generations Study\"], [\"'direct, assembl, 20e, assays.result, \", \"Light and the City: Breast Cancer Risk Factors Differ Between Urban and Rural Women in Israel\"], [\"1ul1, anti-gonadotrop, antiag, alik, \", \"Cause-specific mortality among a cohort of U.S. flight attendants\"], [\"1ul1, anti-gonadotrop, antiag, alik, \", \"Risk of breast cancer in female flight attendants: a population-based study (Iceland)\"], [\"0.023.conclus, 14-15-hz, 6-sulftoxymelatonin, PA, \", \"Population-level study links short-wavelength nighttime illumination with breast cancer incidence in a major metropolitan area\"], [\"'direct, assembl, 20e, assays.result, \", \"Ambulatory blood pressure and Holter monitoring of emergency physicians before, during, and after a night shift\"], [\"1ul1, anti-gonadotrop, antiag, alik, \", \"Oxidative DNA damage during night shift work\"], [\"1ul1, anti-gonadotrop, antiag, alik, \", \"Meta-analysis of vitamin D, calcium and the prevention of breast cancer\"], [\"0.023.conclus, 14-15-hz, 6-sulftoxymelatonin, PA, \", \"Effect of psychosocial stress and physical activity on preterm birth: a cohort study\"], [\"6-hydroxymelatoninsulph, 12l:12d, He, 12-year-old, \", \"Bedtime and evening light exposure influence circadian timing in preschool-age children: A field study\"], [\"0.023.conclus, 14-15-hz, 6-sulftoxymelatonin, PA, \", \"Artificial light at night and cancer: Global study\"], [\"1ul1, anti-gonadotrop, antiag, alik, \", \"Longitude Position in a Timezone and Cancer Risk in the United States\"], [\"0.023.conclus, 14-15-hz, 6-sulftoxymelatonin, PA, \", \"Effect of sleep deprivation on rhythms of clock gene expression and melatonin in humans\"], [\"'direct, assembl, 20e, assays.result, \", \"Disrupting the key circadian regulator CLOCK leads to age-dependent cardiovascular disease\"], [\"2400h, 24-26-hr, 18-oh-deoxycorticosteron, 38-h, \", \"The Oxford Vegetarian Study: an overview\"], [\"1ul1, anti-gonadotrop, antiag, alik, \", \"Cancer incidence and mortality among flight personnel: a meta-analysis\"], [\"1ul1, anti-gonadotrop, antiag, alik, \", \"Stage-dependent depression of melatonin in patients with primary breast cancer. Correlation with prolactin, thyroid stimulating hormone, and steroid receptors\"], [\"/mmcp2, OS, admit, 4-vntr, \", \"High breast cancer incidence rates among California teachers: results from the California Teachers Study (United States)\"], [\"0.023.conclus, 14-15-hz, 6-sulftoxymelatonin, PA, \", \"Bright light treatment used for adaptation to night work and re-adaptation back to day life. A field study at an oil platform in the North Sea\"], [\"0.023.conclus, 14-15-hz, 6-sulftoxymelatonin, PA, \", \"Intermittent exposure to bright light in field conditions\"], [\"5-androstene-3beta, 1x10, 1.7-fold, GG, \", \"Mediterranean diet, dietary polyphenols and low grade inflammation: results from the MOLI-SANI study\"], [\"'direct, assembl, 20e, assays.result, \", \"Pharmacotherapy of transient insomnia related to night work\"], [\"1ul1, anti-gonadotrop, antiag, alik, \", \"Home Circadian Phase Assessments with Measures of Compliance Yield Accurate Dim Light Melatonin Onsets\"], [\"1ul1, anti-gonadotrop, antiag, alik, \", \"Improving adaptation to simulated night shift: timed exposure to bright light versus daytime melatonin administration.\"], [\"1ul1, anti-gonadotrop, antiag, alik, \", \"Amplitude reduction and phase shifts of melatonin, cortisol and other circadian rhythms after a gradual advance of sleep and light exposure in humans.\"], [\"0.023.conclus, 14-15-hz, 6-sulftoxymelatonin, PA, \", \"Hormonal Secretion of Nurses Engaged in Fast-rotating Shift Systems.\"], [\"1ul1, anti-gonadotrop, antiag, alik, \", \"The effect on body temperature and melatonin of a 39-h constant routine with two different light levels at nighttime.\"], [\"MF, alzheim, autonomi, 6-sulphatoxy-melatonin, \", \"Light at Night and Measures of Alertness and Performance: Implications for Shift Workers.\"], [\"1ul1, anti-gonadotrop, antiag, alik, \", \"Dark goggles and bright light improve circadian rhythm adaptation to night-shift work.\"], [\"MI, 4-night, a., 1,25-dihydroxy-vitamin-d, \", \"Bright light, dark and melatonin can promote circadian adaptation in night shift workers.\"], [\"0.023.conclus, 14-15-hz, 6-sulftoxymelatonin, PA, \", \"Melatonin treatment of pediatric residents for adaptation to night shift work.\"], [\"0.023.conclus, 14-15-hz, 6-sulftoxymelatonin, PA, \", \"Melatonin: a major regulator of the circadian rhythm of core temperature in humans.\"], [\"0.023.conclus, 14-15-hz, 6-sulftoxymelatonin, PA, \", \"Rotating night shifts too quickly may cause anxiety and decreased attentional performance, and impact prolactin levels during the subsequent day: a case control study.\"], [\"1ul1, anti-gonadotrop, antiag, alik, \", \"Factors related with the ability to maintain wakefulness in the daytime after fast and forward rotating shifts.\"], [\"1ul1, anti-gonadotrop, antiag, alik, \", \"Shiftwork and Diurnal Salivary Cortisol Patterns Among Police Officers.\"], [\"0.023.conclus, 14-15-hz, 6-sulftoxymelatonin, PA, \", \"Influence of shift-work on selected immune variables in nurses.\"], [\"2400h, 24-26-hr, 18-oh-deoxycorticosteron, 38-h, \", \"Effect of bright light at night on core temperature, subjective alertness and performance as a function of exposure time.\"], [\"1ul1, anti-gonadotrop, antiag, alik, \", \"Temporal patterns in psychophysiological activation in rotating shift workers--A follow-up field study one year after an increase in nighttime work.\"], [\"0.023.conclus, 14-15-hz, 6-sulftoxymelatonin, PA, \", \"Associations of long-term shift work with waking salivary cortisol concentration and patterns among police officers.\"], [\"advanc, afflict, 'everyth, NA, \", \"[Studies on fatigue and shift work in nurses].\"], [\"MF, alzheim, autonomi, 6-sulphatoxy-melatonin, \", \"The normalization of the cortisol awakening response and of the cortisol shift profile across consecutive night shifts--an experimental study.\"], [\"IR, 0.023.conclus, 35-day, IN, \", \"Light intensity exposure, sleep duration, physical activity, and biomarkers of melatonin among rotating shift nurses.\"], [\"CS, all, 25-day, antihistamin, \", \"Association between exposure to rotating night shift versus day shift using levels of 6-sulfatoxymelatonin and cortisol and other sex hormones in women.\"], [\"0.023.conclus, 14-15-hz, 6-sulftoxymelatonin, PA, \", \"Daily rhythm of salivary IL-1\\u00df, cortisol and melatonin in day and night workers.\"], [\"0.023.conclus, 14-15-hz, 6-sulftoxymelatonin, PA, \", \"Altered postprandial hormone and metabolic responses in a simulated shift work environment.\"], [\"1ul1, anti-gonadotrop, antiag, alik, \", \"Night-shift work in Antarctica: sleep characteristics and bright light treatment.\"], [\"1ul1, anti-gonadotrop, antiag, alik, \", \"Medium-intensity light produces circadian rhythm adaptation to simulated night-shift work.\"], [\"1ul1, anti-gonadotrop, antiag, alik, \", \"Physiological restitution after night-call duty in anaesthesiologists: impact on metabolic factors.\"], [\"0.023.conclus, 14-15-hz, 6-sulftoxymelatonin, PA, \", \"[Dysadaptation to night-shift work and the human thermal circadian biorhythm].\"], [\"SC, 1-back, Cp, ER, \", \"Night work, long working hours, psychosocial work stress and cortisol secretion in mid-life: evidence from a British birth cohort.\"], [\"0.023.conclus, 14-15-hz, 6-sulftoxymelatonin, PA, \", \"Variations in 6-sulphatoxymelatonin excretion and oral temperature under a 12-hour shiftwork environment.\"], [\"0.023.conclus, 14-15-hz, 6-sulftoxymelatonin, PA, \", \"Effects of night work on urinary excretion rates of 6-sulfatoxymelatonin, norepinephrine and estriol in pregnant women.\"], [\"0.023.conclus, 14-15-hz, 6-sulftoxymelatonin, PA, \", \"Salivary cortisol levels and work-related stress among emergency department nurses.\"], [\"1ul1, anti-gonadotrop, antiag, alik, \", \"Melatonin does not inhibit hypothalamic-pituitary-adrenal activity in waking young men\"], [\"/mmcp2, OS, admit, 4-vntr, \", \"Altered sleep/wake patterns and circadian rhythms. Laboratory and field studies of sympathoadrenomedullary and related variables.\"], [\"1ul1, anti-gonadotrop, antiag, alik, \", \"Mammary cancer risk: circulating TSH and prolactin, fibrocystic breast disease in chronoepidemiologic perspective.\"], [\"0.023.conclus, 14-15-hz, 6-sulftoxymelatonin, PA, \", \"Inhibition of melatonin secretion onset by low levels of illumination.\"], [\"artist, analys, abstract, averag, \", \"Phase-shifts of apparent circadian rhythms due to west and east transmeridian flights or to corresponding night-shift sleep displacements.\"], [\"0.023.conclus, 14-15-hz, 6-sulftoxymelatonin, PA, \", \"Effects of 10 h time zone changes on female flight attendants' circadian rhythms of body temperature, alertness, and visual search.\"], [\"0.023.conclus, 14-15-hz, 6-sulftoxymelatonin, PA, \", \"Health-related interventions among night shift workers: a critical review of the literature\"], [\"-I, approach, +/-sem, abstarct, \", \"[Melatonin--a natural hypnotic?].\"], [\"6-d, analys, 1,25-dihydroxy-vitamin-d, 9-hour, \", \"Effect of daytime oral melatonin administration on neurobehavioral performance in humans.\"], [\"1ul1, anti-gonadotrop, antiag, alik, \", \"Melatonin: pharmacological aspects and clinical trends.\"], [\"'direct, assembl, 20e, assays.result, \", \"Melatonin phase shifts human circadian rhythms in a placebo-controlled simulated night-work study.\"], [\"artist, analys, abstract, averag, \", \"Use of melatonin in circadian rhythm disorders and following phase shifts.\"], [\"0.023.conclus, 14-15-hz, 6-sulftoxymelatonin, PA, \", \"Morning melatonin has limited benefit as a soporific for daytime sleep after night work.\"], [\"5-androstene-3beta, 1x10, 1.7-fold, GG, \", \"[Melatonin--clinical perspectives in prevention and therapy].\"], [\"1ul1, anti-gonadotrop, antiag, alik, \", \"Progressive decrease of melatonin production over consecutive days of simulated night work\"], [\"SC, 1-back, Cp, ER, \", \"Heparanase procoagulant activity, factor Xa, and plasminogen activator inhibitor 1 are increased in shift work female nurses\"], [\"5-androstene-3beta, 1x10, 1.7-fold, GG, \", \"Rotating night shift work and polymorphism of genes important for the regulation of circadian rhythm\"], [\"0.023.conclus, 14-15-hz, 6-sulftoxymelatonin, PA, \", \"Rotating night shift work and mammographic density\"], [\"IR, 0.023.conclus, 35-day, IN, \", \"PER1 polymorphism associated with shift work disorder\"], [\"0.023.conclus, 14-15-hz, 6-sulftoxymelatonin, PA, \", \"Shift rotation and age - interactions with sleep-wakefulness and inflammation.\"], [\"1ul1, anti-gonadotrop, antiag, alik, \", \"Urinary Melatonin Levels and Postmenopausal Breast Cancer Risk in the Nurses' Health Study Cohort\"], [\"6500k, TP, ann, BT, \", \"Randomized placebo-controlled field study of the effects of bright light and melatonin in adaptation to night work.\"], [\"1ul1, anti-gonadotrop, antiag, alik, \", \"Prospective Study on Salivary Evening Melatonin and Sleep before and after Pinealectomy in Humans\"], [\"2400h, 24-26-hr, 18-oh-deoxycorticosteron, 38-h, \", \"Low estradiol levels in women of reproductive age having low sleep variation.\"], [\"CS, all, 25-day, antihistamin, \", \"Circadian variation of serum prolactin and TSH of women in health or with mammary carcinoma, fibroadenoma or fibrocystic mastopathy.\"], [\"1ul1, anti-gonadotrop, antiag, alik, \", \"A regulatory role of prolactin, growth hormone, and corticosteroids for human T-cell production of cytokines\"], [\"amateur, afford, 45-day, am-7:00, \", \"A study of melatonin levels and stress in female shift workers.\"], [\"artist, analys, abstract, averag, \", \"Circadian cortisol profiles and psychological self-reports in shift workers with and without recent change in the shift rotation system.\"], [\"0.023.conclus, 14-15-hz, 6-sulftoxymelatonin, PA, \", \"Phototherapy and orange-tinted goggles for night-shift adaptation of police officers on patrol.\"], [\"0.023.conclus, 14-15-hz, 6-sulftoxymelatonin, PA, \", \"Combinations of bright light, scheduled dark, sunglasses, and melatonin to facilitate circadian entrainment to night shift work.\"], [\"6-d, analys, 1,25-dihydroxy-vitamin-d, 9-hour, \", \"Circadian rhythms in a long-term duration space flight.\"], [\"MF, alzheim, autonomi, 6-sulphatoxy-melatonin, \", \"Dietary correlates of urinary 6-sulfatoxymelatonin concentrations in the Nurses' Health Study cohorts\"], [\"1ul1, anti-gonadotrop, antiag, alik, \", \"Industrialization, electromagnetic fields, and breast cancer risk\"], [\"1ul1, anti-gonadotrop, antiag, alik, \", \"Circulating melatonin and the risk of breast and endometrial cancer in women\"], [\"MF, alzheim, autonomi, 6-sulphatoxy-melatonin, \", \"Sleep duration, melatonin and breast cancer among Chinese women in Singapore\"], [\"CS, all, 25-day, antihistamin, \", \"Leptin levels show diurnal variation throughout puberty in healthy children, and follow a gender-specific pattern.\"], [\"1ul1, anti-gonadotrop, antiag, alik, \", \"Stress monitoring of ambulance personnel during work and leisure time.\"], [\"5-androstene-3beta, 1x10, 1.7-fold, GG, \", \"Diurnal salivary cortisol patterns during pregnancy and after delivery: relationship to plasma corticotrophin-releasing-hormone.\"], [\"1ul1, anti-gonadotrop, antiag, alik, \", \"Relation of C-reactive protein and tumor necrosis factor-alpha to ambulatory blood pressure variability in healthy adults.\"], [\"MF, alzheim, autonomi, 6-sulphatoxy-melatonin, \", \"Circadian typology: a comprehensive review.\"], [\"5-androstene-3beta, 1x10, 1.7-fold, GG, \", \"Cortisol, estradiol-17\\u03b2, and progesterone secretion within the first hour after awakening in women with regular menstrual cycles.\"], [\"0.023.conclus, 14-15-hz, 6-sulftoxymelatonin, PA, \", \"Biological day-to-day variation and daytime changes of testosterone, follitropin, lutropin and oestradiol-17beta in healthy men.\"], [\"MF, alzheim, autonomi, 6-sulphatoxy-melatonin, \", \"Inversion of the sleep wakefulness pattern: effects on circadian variations in psychophysiological activation.\"], [\"'direct, assembl, 20e, assays.result, \", \"Salivary cortisol and DHEA levels in the Korean population: age-related differences, diurnal rhythm, and correlations with serum levels.\"], [\"antineoplast, arthriti, SF, alatt, \", \"[The effects of bromocriptine on the pulsatile pattern and the circadian profile of gonadotropins and testosterone secretion in normal adult men].\"], [\"6500k, TP, ann, BT, \", \"Temporal patterns of circulating hormones as assessed by continuous blood sampling.\"], [\"1ul1, anti-gonadotrop, antiag, alik, \", \"Environmental control of biological rhythms: effects on development, fertility and metabolism.\"], [\"1ul1, anti-gonadotrop, antiag, alik, \", \"Twenty-four-hour profiles of luteinizing hormone, follicle-stimulating hormone, testosterone, and estradiol levels: a semilongitudinal study throughout puberty in healthy boys.\"], [\"b=2.3, .method, androgen, america, \", \"The association of testosterone, sleep, and sexual function in men and women.\"], [\"0.023.conclus, 14-15-hz, 6-sulftoxymelatonin, PA, \", \"Diurnal rhythm of testosterone secretion before and throughout puberty in healthy girls: correlation with 17beta-estradiol and dehydroepiandrosterone sulfate.\"], [\"0.023.conclus, 14-15-hz, 6-sulftoxymelatonin, PA, \", \"Circadian patterns of ad libitum smoking by menstrual phase.\"], [\"0.023.conclus, 14-15-hz, 6-sulftoxymelatonin, PA, \", \"A comparison of rotating-shift and permanent night nurses.\"], [\"2400h, 24-26-hr, 18-oh-deoxycorticosteron, 38-h, \", \"Effects of on-call work on well-being: results of a daily survey.\"], [\"advanc, afflict, 'everyth, NA, \", \"Diurnal variation in salivary cortisol across age classes in Ache Amerindian males of Paraguay.\"], [\"MF, alzheim, autonomi, 6-sulphatoxy-melatonin, \", \"Nocturnal application of transdermal estradiol patches produces levels of estradiol that mimic those seen at the onset of spontaneous puberty in girls.\"], [\"0.023.conclus, 14-15-hz, 6-sulftoxymelatonin, PA, \", \"Acute and delayed responses of C-reactive protein, malondialdehyde and antioxidant markers after resistance training session in elite weightlifters: Effect of time of day.\"], [\"1ul1, anti-gonadotrop, antiag, alik, \", \"Effect of moderate weight loss on prolactin secretion in normal female volunteers.\"], [\"1ul1, anti-gonadotrop, antiag, alik, \", \"Circadian patterns of plasma cortisol and testosterone in chronic male alcoholics.\"], [\"1ul1, anti-gonadotrop, antiag, alik, \", \"Melatonin: characteristics, concerns, and prospects.\"], [\"1ul1, anti-gonadotrop, antiag, alik, \", \"Treatment of circadian rhythm disorders--melatonin.\"], [\"1ul1, anti-gonadotrop, antiag, alik, \", \"Melatonin as a chronobiotic.\"], [\"appropri, acebo, aris, assumpt, \", \"Melatonin and adjustment to phase shift.\"], [\"1ul1, anti-gonadotrop, antiag, alik, \", \"Relationships between sleep, physical activity and human health.\"], [\"advanced/leth, 2-3h, CC, acrophs, \", \"Single-dose bright light and/or caffeine effect on nocturnal performance.\"], [\"1ul1, anti-gonadotrop, antiag, alik, \", \"Sex differences in circadian timing systems: implications for disease.\"], [\"1ul1, anti-gonadotrop, antiag, alik, \", \"Circadian rhythms, sleep, and the menstrual cycle.\"], [\"1ul1, anti-gonadotrop, antiag, alik, \", \"Diurnal rhythms of free estradiol and cortisol during the normal menstrual cycle in women with major depression.\"], [\"1ul1, anti-gonadotrop, antiag, alik, \", \"The relevance of melatonin to sports medicine and science.\"], [\"1ul1, anti-gonadotrop, antiag, alik, \", \"Exercise as a synchroniser of human circadian rhythms: an update and discussion of the methodological problems.\"], [\"1ul1, anti-gonadotrop, antiag, alik, \", \"Analysis of salivary cortisol levels to determine the association between depression level and differences in circadian rhythms of shift-working nurses.\"], [\"1ul1, anti-gonadotrop, antiag, alik, \", \"Diurnal rhythm of free estradiol during the menstrual cycle.\"], [\"1ul1, anti-gonadotrop, antiag, alik, \", \"Daily exercise facilitates phase delays of circadian melatonin rhythm in very dim light.\"], [\"0.023.conclus, 14-15-hz, 6-sulftoxymelatonin, PA, \", \"Diurnal prolactin changes in human cerebrospinal fluid.\"], [\"appropri, acebo, aris, assumpt, \", \"Nyctohemeral pattern of serum LH, FSH and PRL in patients with myotonic dystrophy.\"], [\"appropri, acebo, aris, assumpt, \", \"A clinical approach to circadian rhythm sleep disorders.\"], [\"and-accord, avow, automot, W, \", \"Nocturnal serum thyrotropin (TSH) surge and the TSH response to TSH-releasing hormone: dissociated behavior in untreated depressives.\"], [\"appropri, acebo, aris, assumpt, \", \"Influence of partial sleep deprivation on the secretion of thyrotropin, thyroid hormones, growth hormone, prolactin, luteinizing hormone, follicle stimulating hormone, and estradiol in healthy young women.\"], [\"/mmcp2, OS, admit, 4-vntr, \", \"Association between melatonin secretion and daytime sleep complaints in night nurses.\"], [\"0.023.conclus, 14-15-hz, 6-sulftoxymelatonin, PA, \", \"Neuroendocrinological investigations during sleep deprivation in depression. II. Longitudinal measurement of thyrotropin, TH, cortisol, prolactin, GH, and LH during sleep and sleep deprivation.\"], [\"ald, balanc, actillum, akt, \", \"Ultradian rhythmicity and induced changes in salivary testosterone.\"], [\"anelkul, ala/thr, 4-wk, /h, \", \"Diurnal variations of plasma luteinizing hormone, follicle-stimulating hormone, and prolactin in boys and girls from birth to puberty.\"], [\"MF, alzheim, autonomi, 6-sulphatoxy-melatonin, \", \"Endocrine secretions under abnormal light-dark cycles and in the blind.\"], [\"arrhythmia, BP, afternoons/even, auditori, \", \"Circadian pattern of plasma melatonin concentrations during four phases of the human menstrual cycle.\"], [\"FA, Tf, 4-week, HP, \", \"Diurnal variations in unconjugated plasma and total urinary estriol levels in late normal pregnancy.\"], [\"appropri, acebo, aris, assumpt, \", \"Diurnal secretion of ghrelin, growth hormone, insulin binding proteins, and prolactin in normal weight and overweight subjects with and without the night eating syndrome.\"], [\"and-accord, avow, automot, W, \", \"Timing in the Testis.\"], [\"-I, approach, +/-sem, abstarct, \", \"[Phototherapy of jet lag, night work and sleep disorders].\"], [\"0.023.conclus, 14-15-hz, 6-sulftoxymelatonin, PA, \", \"A practical approach to circadian rhythm sleep disorders.\"], [\"MF, alzheim, autonomi, 6-sulphatoxy-melatonin, \", \"Diurnal and circadian variation of sleep and alertness in men vs. naturally cycling women.\"], [\"CV, 9-hour, 26-item, alteration/disturb, \", \"Daily variations of plasma sex hormone-binding globulin binding capacity, testosterone and luteinizing hormone concentrations in healthy rested adult males.\"], [\"CS, all, 25-day, antihistamin, \", \"Melatonin as a chronobiotic/anticancer agent: cellular, biochemical, and molecular mechanisms of action and their implications for circadian-based cancer therapy.\"], [\"MF, alzheim, autonomi, 6-sulphatoxy-melatonin, \", \"Twenty-four-hour light exposure and melatonin levels among shift workers.\"], [\"1ul1, anti-gonadotrop, antiag, alik, \", \"Circadian adaptation to night shift work influences sleep, performance, mood and the autonomic modulation of the heart.\"], [\"0.023.conclus, 14-15-hz, 6-sulftoxymelatonin, PA, \", \"The effect of diurnal variation on clinical measurement of serum testosterone and other sex hormone levels in men.\"], [\"MF, alzheim, autonomi, 6-sulphatoxy-melatonin, \", \"The 24-h growth hormone rhythm in men: sleep and circadian influences questioned.\"], [\"1ul1, anti-gonadotrop, antiag, alik, \", \"Secretion pattern of immunoreactive inhibin in men.\"], [\"-I, approach, +/-sem, abstarct, \", \"Loss of circadian rhythmicity in blood testosterone levels with aging in normal men.\"], [\"MF, alzheim, autonomi, 6-sulphatoxy-melatonin, \", \"Prospects of the clinical utilization of melatonin.\"], [\"CV, 9-hour, 26-item, alteration/disturb, \", \"[Sleeping sickness: major disorders of circadian rhythm].\"], [\"CV, 9-hour, 26-item, alteration/disturb, \", \"The effect of hyperprolactinemia on the diurnal variation of adrenal androgens.\"], [\"MF, alzheim, autonomi, 6-sulphatoxy-melatonin, \", \"Circadian variation in concentration of anti-M\\u00fcllerian hormone in regularly menstruating females: relation to age, gonadotrophin and sex steroid levels.\"], [\"MF, alzheim, autonomi, 6-sulphatoxy-melatonin, \", \"Clock gene dysfunction in patients with obstructive sleep apnoea syndrome.\"], [\"MF, alzheim, autonomi, 6-sulphatoxy-melatonin, \", \"Efficacy and safety of exogenous melatonin for secondary sleep disorders and sleep disorders accompanying sleep restriction: meta-analysis.\"], [\"MF, alzheim, autonomi, 6-sulphatoxy-melatonin, \", \"[Melatonin: from hormone to drug?].\"], [\"b=2.3, .method, androgen, america, \", \"Regulation of the 24-hour rhythm of body temperature in menstrual cycles with spontaneous and gonadotropin-induced ovulation.\"], [\"beadchip, =filter, 9-h, 9-hour, \", \"Regulation of the 24h body temperature rhythm of women in luteal phase: role of gonadal steroids and prostaglandins.\"], [\"MF, alzheim, autonomi, 6-sulphatoxy-melatonin, \", \"Modification of circadian body temperature rhythm during the luteal menstrual phase: role of melatonin.\"], [\"K, 21:30h, alon, 36th, \", \"The effect of bright light on plasma prolactin.\"], [\"MF, alzheim, autonomi, 6-sulphatoxy-melatonin, \", \"Acute modifications in the levels of daytime melatonin do not influence leptin in postmenopausal women.\"], [\"MF, alzheim, autonomi, 6-sulphatoxy-melatonin, \", \"Melatonin enhances cortisol levels in aged but not young women.\"], [\"appropri, acebo, aris, assumpt, \", \"What keeps us awake? The role of clocks and hourglasses, light, and melatonin.\"], [\"appropri, acebo, aris, assumpt, \", \"[Evaluation of pituitary functional periodicity by harmonic analysis. II) Circadian prolactin secretion in acromegaly].\"], [\"'phase, acetyltransferas, angel, abpm, \", \"Circadian rhythms of testosterone and cortisol in saliva: effects of activity-phase shifts and continuous daylight.\"], [\"2400h, 24-26-hr, 18-oh-deoxycorticosteron, 38-h, \", \"Light treatment for sleep disorders: consensus report. III. Alerting and activating effects.\"], [\"appropri, acebo, aris, assumpt, \", \"Circatrigintan rectal temperature and endocrine rhythms of clinically healthy, menstrually cycling women.\"], [\"'phase, acetyltransferas, angel, abpm, \", \"Rhythms in the ovulatory cycle. 3rd: Cortisol and dehydroepiandrosterone sulphate (DHEA-S).\"], [\"MF, alzheim, autonomi, 6-sulphatoxy-melatonin, \", \"Rhythms in the ovulatory cycle. 2nd: LH, FSH, estradiol and progesterone.\"], [\"MF, alzheim, autonomi, 6-sulphatoxy-melatonin, \", \"The use of chronobiotics in the resynchronization of the sleep/wake cycle. Therapeutical application in the early phases of Alzheimer's disease.\"], [\"MF, alzheim, autonomi, 6-sulphatoxy-melatonin, \", \"Differential 24-hour variation of alertness and subjective tension in process controllers: investigation of the relationship with body temperature and heart rate.\"], [\"1ul1, anti-gonadotrop, antiag, alik, \", \"Diurnal rhythm in serum levels of inhibin B in normal men: relation to testicular steroids and gonadotropins.\"], [\"MF, alzheim, autonomi, 6-sulphatoxy-melatonin, \", \"A potential role of endogenous progesterone in modulation of GH, prolactin and thyrotrophin secretion during normal menstrual cycle.\"], [\"b=2.3, .method, androgen, america, \", \"Age and the metabolic syndrome affect salivary cortisol rhythm: data from a community sample.\"], [\"and-accord, avow, automot, W, \", \"Keeping circadian time with hormones.\"], [\"b=2.3, .method, androgen, america, \", \"Effects of partial circadian adjustments on sleep and vigilance quality during simulated night work.\"], [\"MF, alzheim, autonomi, 6-sulphatoxy-melatonin, \", \"Nurses working on fast rotating shifts overestimate cognitive function and the capacity of maintaining wakefulness during the daytime after a rotating shift.\"], [\"appropri, acebo, aris, assumpt, \", \"A chronobiological study of melatonin, cortisol growth hormone and prolactin secretion in cluster headache.\"], [\"MF, alzheim, autonomi, 6-sulphatoxy-melatonin, \", \"The interrelationship of sleep, biologic clocks, neurotransmitters, gonadotropins and pubertal development.\"], [\"appropri, acebo, aris, assumpt, \", \"Scheduled evening sleep and enhanced lighting improve adaptation to night shift work in older adults.\"], [\"-I, approach, +/-sem, abstarct, \", \"[Effect of night-shift work on selected physiological indicators in power plant workers].\"], [\"-I, approach, +/-sem, abstarct, \", \"The Daily Profiles of Circulating AMH and INSL3 in Men are Distinct from the Other Testicular Hormones, Inhibin B and Testosterone.\"], [\"artist, analys, abstract, averag, \", \"[Melatonin in humans: a biochemical marker of the circadian clock and an endogenous synchronizer].\"], [\"MF, alzheim, autonomi, 6-sulphatoxy-melatonin, \", \"[Biologic rhythms. Nyctemeral variation in man].\"], [\"appropri, acebo, aris, assumpt, \", \"Stress and sleep in nurses employed in \\\"3\\u2009\\u00d7\\u20098\\\" and \\\"2\\u2009\\u00d7\\u200912\\\" fast rotating shift schedules.\"], [\"b=2.3, .method, androgen, america, \", \"Temporal correlation of some endocrine circadian rhythms in elderly subjects.\"], [\"MF, alzheim, autonomi, 6-sulphatoxy-melatonin, \", \"Sleep and circadian rhythms in humans.\"], [\"MF, alzheim, autonomi, 6-sulphatoxy-melatonin, \", \"Long-term and short-term effects of insomnia in cancer and effective interventions.\"], [\"MF, alzheim, autonomi, 6-sulphatoxy-melatonin, \", \"Circadian rhythm adaptation to simulated night shift work: effect of nocturnal bright-light duration.\"], [\"appropri, acebo, aris, assumpt, \", \"Contribution of core body temperature, prior wake time, and sleep stages to cognitive throughput performance during forced desynchrony.\"], [\"artist, analys, abstract, averag, \", \"Effects of 60-Hz magnetic field exposure on nocturnal 6-sulfatoxymelatonin, estrogens, luteinizing hormone, and follicle-stimulating hormone in healthy reproductive-age women: results of a crossover trial.\"], [\"IR, 0.023.conclus, 35-day, IN, \", \"Diurnal rhythm of plasma immunoreactive beta-endorphin and its relationship to sleep stages and plasma rhythms of cortisol and prolactin.\"], [\"artist, analys, abstract, averag, \", \"Influence of electromagnetic fields emitted by GSM-900 cellular telephones on the circadian patterns of gonadal, adrenal and pituitary hormones in men.\"], [\"appropri, acebo, aris, assumpt, \", \"Light treatment for sleep disorders: consensus report. II. Basic properties of circadian physiology and sleep regulation.\"], [\"MF, alzheim, autonomi, 6-sulphatoxy-melatonin, \", \"Getting through to circadian oscillators: why use constant routines?\"], [\"MF, alzheim, autonomi, 6-sulphatoxy-melatonin, \", \"Submarine watch schedules: underway evaluation of rotating (contemporary) and compressed (alternative) schedules.\"], [\"adaptive-threshold, barrag, 63-year-old, anabol, \", \"Phase-shifting human circadian rhythms with exercise during the night shift.\"], [\"'phase, acetyltransferas, angel, abpm, \", \"Failure of extraocular light to facilitate circadian rhythm reentrainment in humans.\"], [\"appropri, acebo, aris, assumpt, \", \"Diurnal variations in prolactin and growth hormone levels in normal premenopausal vegetarian and omnivorous women.\"], [\"appropri, acebo, aris, assumpt, \", \"Multi-oscillatory control of circadian rhythms in human performance.\"], [\"appropri, acebo, aris, assumpt, \", \"Hypotheses for mechanisms linking shiftwork and cancer.\"], [\"MF, alzheim, autonomi, 6-sulphatoxy-melatonin, \", \"Ocular Measures of Sleepiness Are Increased in Night Shift Workers Undergoing a Simulated Night Shift Near the Peak Time of the 6-Sulfatoxymelatonin Rhythm.\"], [\"beadchip, =filter, 9-h, 9-hour, \", \"[Circadian rhythm of testosterone level in plasma. I. Physiologic 24-hour oscillations of the testosterone level in plasma].\"], [\"-I, approach, +/-sem, abstarct, \", \"Seasonal and biological variation of blood concentrations of total cholesterol, dehydroepiandrosterone sulfate, hemoglobin A(1c), IgA, prolactin, and free testosterone in healthy women.\"], [\"appropri, acebo, aris, assumpt, \", \"Salivary estradiol and testosterone in Filipino men: Diurnal patterns and relationships with adiposity.\"], [\"MF, alzheim, autonomi, 6-sulphatoxy-melatonin, \", \"Contrast analysis for the evaluation of the circadian rhythms of plasma cortisol, androstenedione, and testosterone in normal men and the possible influence of meals.\"], [\"b=2.3, .method, androgen, america, \", \"The validity of the temporal parameters of the daily rhythm of melatonin levels as an indicator of morningness.\"], [\"appropri, acebo, aris, assumpt, \", \"Entrainment of the human circadian pacemaker to longer-than-24-h days.\"], [\"appropri, acebo, aris, assumpt, \", \"Modeling of circadian testosterone in healthy men and hypogonadal men.\"], [\"appropri, acebo, aris, assumpt, \", \"Differential sleep, sleepiness, and neurophysiology in the insomnia phenotypes of shift work disorder.\"], [\"MF, alzheim, autonomi, 6-sulphatoxy-melatonin, \", \"Circadian phase, sleepiness, and light exposure assessment in night workers with and without shift work disorder.\"], [\"MF, alzheim, autonomi, 6-sulphatoxy-melatonin, \", \"Effects of endurance exercise on nocturnal hormone concentrations in males.\"], [\"-I, approach, +/-sem, abstarct, \", \"Sleep-promoting and hypothermic effects of daytime melatonin administration in humans.\"], [\"MF, alzheim, autonomi, 6-sulphatoxy-melatonin, \", \"Critical time delay of the pineal melatonin rhythm in humans due to weak electromagnetic exposure.\"], [\"'phase, acetyltransferas, angel, abpm, \", \"Work stress and menstrual patterns among American and Italian nurses.\"], [\"MF, alzheim, autonomi, 6-sulphatoxy-melatonin, \", \"Human mesor-hypertensive chronorisk.\"], [\"MF, alzheim, autonomi, 6-sulphatoxy-melatonin, \", \"Twenty-four-hour secretory patterns of growth hormone, prolactin, and cortisol in narcolepsy.\"], [\"appropri, acebo, aris, assumpt, \", \"Prolactin levels in populations at risk for breast cancer.\"], [\"appropri, acebo, aris, assumpt, \", \"Effect of masking on circadian adjustment and interindividual differences on a rapidly rotating shift schedule.\"], [\"and-accord, avow, automot, W, \", \"The relation of age to the adjustment of the circadian rhythms of oral temperature and sleepiness to shift work.\"], [\"1ul1, anti-gonadotrop, antiag, alik, \", \"Physical training intervention in female shift workers: II. The effects of intervention on the circadian rhythms of alertness, short-term memory, and body temperature.\"], [\"ald, balanc, actillum, akt, \", \"Shift work and quality of sleep: effect of working in designed dynamic light.\"], [\"arrhythmia, BP, afternoons/even, auditori, \", \"Diurnal and ultradian variations of plasma concentrations of eleven adrenal steroid hormones in human males.\"], [\"1ul1, anti-gonadotrop, antiag, alik, \", \"Circadian variations in eleven radioimmunoassay variables in the serum of clinically healthy men.\"], [\"1ul1, anti-gonadotrop, antiag, alik, \", \"Twenty-four-hour prolactin secretory patterns in women with galactorrhea, normal menses, normal random prolacting levels and abnormal sellar tomograms.\"], [\"1ul1, anti-gonadotrop, antiag, alik, \", \"Decreased serum somatomedin C concentrations during sleep: temporal relationship to the nocturnal surges of growth hormone and prolactin.\"], [\"0.023.conclus, 14-15-hz, 6-sulftoxymelatonin, PA, \", \"Ultradian, circadian and seasonal variations of plasma progesterone and LH concentrations during the luteal phase.\"], [\"1ul1, anti-gonadotrop, antiag, alik, \", \"Sleep structure and EEG power density in morning types and evening types during a simulated day and night shift.\"], [\"advanced/leth, 2-3h, CC, acrophs, \", \"[Effects of night shift on plasma concentrations of melatonin, LH, FSH and prolactin, and menstrual irregularity].\"], [\"0.023.conclus, 14-15-hz, 6-sulftoxymelatonin, PA, \", \"Cognitive consequences of sleep deprivation, shiftwork, and heat exposure for underground miners.\"], [\"advanced/leth, 2-3h, CC, acrophs, \", \"Circadian and ultradian variations of pituitary and pineal hormones in normal men: evidence for a link between melatonin, gonadotropin, and prolactin secretion.\"], [\"5-androstene-3beta, 1x10, 1.7-fold, GG, \", \"Decreased pituitary-gonadal secretion in men with obstructive sleep apnea.\"], [\"ald, balanc, actillum, akt, \", \"Circadian rhythms in circulating T lymphocyte subtypes and plasma testosterone, total and free cortisol in five healthy men.\"], [\"1ul1, anti-gonadotrop, antiag, alik, \", \"Night owl women are similar to men in their relationship orientation, risk-taking propensities, and cortisol levels: Implications for the adaptive significance and evolution of eveningness.\"], [\"1ul1, anti-gonadotrop, antiag, alik, \", \"Shift work, hCLOCK T3111C polymorphism, and endometriosis risk.\"], [\"1ul1, anti-gonadotrop, antiag, alik, \", \"Absence of diurnal variation of C-reactive protein concentrations in healthy human subjects.\"], [\"ald, balanc, actillum, akt, \", \"Separating the endogenous and exogenous components of the circadian rhythm of body temperature during night work using some 'purification' models.\"], [\"advanced/leth, 2-3h, CC, acrophs, \", \"Circadian system, sleep and endocrinology.\"], [\"antineoplast, arthriti, SF, alatt, \", \"Dietary patterns, metabolic markers and subjective sleep measures in resident physicians.\"], [\"1ul1, anti-gonadotrop, antiag, alik, \", \"Role of melatonin in nocturnal prolactin secretion in women with normoprolactinemia and mild hyperprolactinemia.\"], [\"ald, balanc, actillum, akt, \", \"Circadian rhythm sleep disorders in adolescents: clinical trials of combined treatments based on chronobiology.\"], [\"1ul1, anti-gonadotrop, antiag, alik, \", \"Subjective fatigue and stress hormone levels in urine according to duration of shiftwork.\"], [\"b=2.3, .method, androgen, america, \", \"Circadian rhythm of hormones is extinguished during prolonged physical stress, sleep and energy deficiency in young men.\"], [\"CS, all, 25-day, antihistamin, \", \"Role of the melatonin system in the control of sleep: therapeutic implications.\"], [\"1ul1, anti-gonadotrop, antiag, alik, \", \"Genetic and environmental influences of daily and intra-individual variation in testosterone levels in middle-aged men.\"], [\"CS, all, 25-day, antihistamin, \", \"Cortisol circadian rhythms during the menstrual cycle and with sleep deprivation in premenstrual dysphoric disorder and normal control subjects.\"], [\"6-d, analys, 1,25-dihydroxy-vitamin-d, 9-hour, \", \"Characteristics of pulsatile and circadian prolactin release and its variability in men.\"], [\"appropri, acebo, aris, assumpt, \", \"Fatigue self-management strategies and reported fatigue in international pilots.\"], [\"1ul1, anti-gonadotrop, antiag, alik, \", \"Work at sea: a study of sleep, and of circadian rhythms in physiological and psychological functions, in watchkeepers on merchant vessels. III. Rhythms in physiological functions.\"], [\"1ul1, anti-gonadotrop, antiag, alik, \", \"Effects of work and circadian rhythm on bus drivers' oral temperature.\"], [\"SC, 1-back, Cp, ER, \", \"Sleep loss and circadian disruption in shift work: health burden and management.\"], [\"'direct, assembl, 20e, assays.result, \", \"Influence of the pineal gland on pituitary function in humans.\"], [\"1ul1, anti-gonadotrop, antiag, alik, \", \"Human circadian rhythms and exercise.\"], [\"amateur, afford, 45-day, am-7:00, \", \"Is the rhythm amplitude related to the ability to phase-shift circadian rhythms of shift-workers?\"], [\"amateur, afford, 45-day, am-7:00, \", \"Phase difference between serum prolactin and cortisol rhythms is related to body mass index in humans.\"], [\"artist, analys, abstract, averag, \", \"Chronobiology of prolactin secretion in women: diurnal and sleep-related variations in the pituitary lactotroph sensitivity.\"], [\"1ul1, anti-gonadotrop, antiag, alik, \", \"Prolactin-related testosterone secretion in normal adult men.\"], [\"MF, alzheim, autonomi, 6-sulphatoxy-melatonin, \", \"Diurnal, seasonal, and blood-processing patterns in levels of circulating fibrinogen, fibrin D-dimer, C-reactive protein, tissue plasminogen activator, and von Willebrand factor in a 45-year-old population.\"], [\"5-androstene-3beta, 1x10, 1.7-fold, GG, \", \"Circadian rhythm sleep disorders: part I, basic principles, shift work and jet lag disorders. An American Academy of Sleep Medicine review.\"], [\"5-androstene-3beta, 1x10, 1.7-fold, GG, \", \"Sex differences in the circadian regulation of sleep and waking cognition in humans.\"], [\"MF, alzheim, autonomi, 6-sulphatoxy-melatonin, \", \"The impact of sleep timing and bright light exposure on attentional impairment during night work.\"], [\"0.023.conclus, 14-15-hz, 6-sulftoxymelatonin, PA, \", \"[Sleep disorders among physicians on shift work].\"], [\"1-tail, alia, 1beta, 1-week, \", \"[Influence of rescue service personnel's shift work on psycho-physical parameters].\"], [\"appropri, acebo, aris, assumpt, \", \"Circadian rhythms in some groups of Indians working in shifts.\"], [\"0.023.conclus, 14-15-hz, 6-sulftoxymelatonin, PA, \", \"Jet lag: therapeutic use of melatonin and possible application of melatonin analogs.\"], [\"appropri, acebo, aris, assumpt, \", \"Effects of shift schedules on fatigue and physiological functions among firefighters during night duty.\"], [\"appropri, acebo, aris, assumpt, \", \"[Melatonin: a popular hormone].\"], [\"appropri, acebo, aris, assumpt, \", \"[Melatonin: what for?].\"], [\"appropri, acebo, aris, assumpt, \", \"Age- and mental health-related circadian rhythms of plasma levels of melatonin, prolactin, luteinizing hormone and follicle-stimulating hormone in man.\"], [\"-I, approach, +/-sem, abstarct, \", \"[The problems of the central regulation of immune system biorhythms: the role of exogenous and endogenous melatonin].\"], [\"appropri, acebo, aris, assumpt, \", \"Circadian System and Melatonin Hormone: Risk Factors for Complications during Pregnancy.\"], [\"MF, alzheim, autonomi, 6-sulphatoxy-melatonin, \", \"Stress and fatigue in sound engineers: the effect of broadcasting in a life show and shift work.\"], [\"2400h, 24-26-hr, 18-oh-deoxycorticosteron, 38-h, \", \"Variations of melatonin and stress hormones under extended shifts and radiofrequency electromagnetic radiation.\"], [\"MF, alzheim, autonomi, 6-sulphatoxy-melatonin, \", \"Lack of evidence for a marked endogenous component determining food intake in humans during forced desynchrony.\"], [\"appropri, acebo, aris, assumpt, \", \"Mood, alertness, and performance in response to sleep deprivation and recovery sleep in experienced shiftworkers versus non-shiftworkers.\"], [\"and-accord, avow, automot, W, \", \"Risk factors for breast cancer, including occupational exposures.\"], [\"MF, alzheim, autonomi, 6-sulphatoxy-melatonin, \", \"Melatonin in humans physiological and clinical studies.\"], [\"appropri, acebo, aris, assumpt, \", \"Sleep-endocrine effects of mifepristone and megestrol acetate in healthy men.\"], [\"b=2.3, .method, androgen, america, \", \"Prolactin and breast skin temperature rhythms in postmenopausal women with primary breast cancer.\"], [\"appropri, acebo, aris, assumpt, \", \"Circadian rhythm abnormalities.\"], [\"appropri, acebo, aris, assumpt, \", \"Randomized clinical trial of melatonin after night-shift work: efficacy and neuropsychologic effects.\"], [\"advanc, afflict, 'everyth, NA, \", \"Breast cancer and electromagnetic fields--a review\"], [\"1ul1, anti-gonadotrop, antiag, alik, \", \"Effects of acutely displaced sleep on testosterone.\"], [\"1ul1, anti-gonadotrop, antiag, alik, \", \"Timed exposure to bright light improves sleep and alertness during simulated night shifts.\"], [\"1ul1, anti-gonadotrop, antiag, alik, \", \"Controlled patterns of daytime light exposure improve circadian adjustment in simulated night work.\"], [\"=filter, 9-h, 9-hour, 9-month, \", \"Exposure to bright light and darkness to treat physiologic maladaptation to night work.\"], [\"1ul1, anti-gonadotrop, antiag, alik, \", \"Quantification of circadian phase shifts with the cross-correlation technique.\"], [\"1ul1, anti-gonadotrop, antiag, alik, \", \"A 14-h night-shift in the control room of a fire brigade.\"], [\"1ul1, anti-gonadotrop, antiag, alik, \", \"Night work and mortality: prospective study among Finnish employees over the time span 1984 to 2008\"], [\"1ul1, anti-gonadotrop, antiag, alik, \", \"Cortisol, reaction time test and health among offshore shift workers.\"], [\"0.023.conclus, 14-15-hz, 6-sulftoxymelatonin, PA, \", \"Efficacy of bright light and sleep/darkness scheduling in alleviating circadian maladaptation to night work.\"], [\"MF, alzheim, autonomi, 6-sulphatoxy-melatonin, \", \"Changes in psychophysiological functions during night shift in nurses. Influence of changing from a full-day to a half-day work shift before night duty.\"], [\"0.023.conclus, 14-15-hz, 6-sulftoxymelatonin, PA, \", \"Effects of exposure to 16.7 Hz magnetic fields on urinary 6-hydroxymelatonin sulfate excretion of Swiss railway workers.\"], [\"amateur, afford, 45-day, am-7:00, \", \"Sleeping under the Ocean: Despite Total Isolation, Nuclear Submariners Maintain Their Sleep and Wake Patterns throughout Their Under Sea Mission.\"], [\"1ul1, anti-gonadotrop, antiag, alik, \", \"Growth hormone secretion in night workers.\"], [\"'direct, assembl, 20e, assays.result, \", \"Appropriate use of bright light promotes a durable adaptation to night-shifts and accelerates readjustment during recovery after a period of night-shifts.\"], [\"arrhythmia, BP, afternoons/even, auditori, \", \"An evaluation of scheduled bright light and darkness on rotating shiftworkers: trial and limitations.\"], [\"arrhythmia, BP, afternoons/even, auditori, \", \"The effect of a change in sleep-wakefulness timing, bright light and physical exercise interventions on 24-hour patterns of performance, mood and body temperature.\"], [\"b=2.3, .method, androgen, america, \", \"Circadian phase response curves to light in older and young women and men.\"], [\"0.023.conclus, 14-15-hz, 6-sulftoxymelatonin, PA, \", \"Effects of a two-hour early awakening and of bright light exposure on plasma patterns of cortisol, melatonin, prolactin and testosterone in man.\"], [\"ald, balanc, actillum, akt, \", \"Irregular working hours and fatigue of cabin crew\"], [\"appropri, acebo, aris, assumpt, \", \"A prospective study of sleep duration and mortality risk in women\"], [\"0.023.conclus, 14-15-hz, 6-sulftoxymelatonin, PA, \", \"Sleep duration and breast cancer risk: A meta-analysis of observational studies\"], [\"CV, 9-hour, 26-item, alteration/disturb, \", \"Exposure to road traffic and railway noise and postmenopausal breast cancer: A cohort study\"], [\"6-d, analys, 1,25-dihydroxy-vitamin-d, 9-hour, \", \"Urinary melatonin levels in human breast cancer patients.\"], [\"K, 21:30h, alon, 36th, \", \"Evidence for modulation of melatonin secretion in men with benign and malignant tumors of the prostate: relationship with the pituitary hormones.\"], [\"K, 21:30h, alon, 36th, \", \"Circadian stage-dependent inhibition of human breast cancer metabolism and growth by the nocturnal melatonin signal: consequences of its disruption by light at night in rats and women.\"], [\"ald, balanc, actillum, akt, \", \"Disordered nocturnal prolactin regulation in women with breast cancer.\"], [\"1ul1, anti-gonadotrop, antiag, alik, \", \"Melatonin, environmental light, and breast cancer.\"], [\"ald, balanc, actillum, akt, \", \"Alcohol consumption and urinary concentration of 6-sulfatoxymelatonin in healthy women.\"], [\"advanc, afflict, 'everyth, NA, \", \"Circadian adjustment and stress in operators under fast rotating 12-hour shifts.\"], [\"1ul1, anti-gonadotrop, antiag, alik, \", \"Does incidence of breast cancer and prostate cancer decrease with increasing degree of visual impairment.\"], [\"1ul1, anti-gonadotrop, antiag, alik, \", \"Melatonin as adjuvant cancer care with and without chemotherapy: a systematic review and meta-analysis of randomized trials.\"], [\"2400h, 24-26-hr, 18-oh-deoxycorticosteron, 38-h, \", \"Night work and breast cancer estrogen receptor status--results from the German GENICA study.\"], [\"amateur, afford, 45-day, am-7:00, \", \"Effect of 3,5,3'-triiodo-L-thyronine on the incidence and growth kinetics of spontaneous mammary tumors in C3H/HeN mice.\"], [\"'direct, assembl, 20e, assays.result, \", \"Association of shiftwork and immune cells among police officers from the Buffalo Cardio-Metabolic Occupational Police Stress study.\"], [\"5-androstene-3beta, 1x10, 1.7-fold, GG, \", \"Shiftwork duration and the awakening cortisol response among police officers.\"], [\"advanc, afflict, 'everyth, NA, \", \"Association of salivary cortisol with chronomics of 24 hours ambulatory blood pressure/heart rate among night shift workers.\"], [\"MF, alzheim, autonomi, 6-sulphatoxy-melatonin, \", \"Outline of changes in cortisol and melatonin circadian rhythms in the security guards of shiraz university of medical sciences.\"], [\"advanced/leth, 2-3h, CC, acrophs, \", \"A week of simulated night work delays salivary melatonin onset.\"], [\"1ul1, anti-gonadotrop, antiag, alik, \", \"Salivary cortisol for monitoring circadian rhythm variation in adrenal activity during shiftwork.\"], [\"'direct, assembl, 20e, assays.result, \", \"Chronotoxicity as related to chronobiology.\"], [\"MF, alzheim, autonomi, 6-sulphatoxy-melatonin, \", \"Light treatment and circadian adaptation to shift work\"], [\"6-d, analys, 1,25-dihydroxy-vitamin-d, 9-hour, \", \"Request for public comment on nominations and call for additional nominations to the Report on Carcinogens\"], [\"appropri, acebo, aris, assumpt, \", \"Self-luminous devices and melatonin suppression in adolescents\"], [\"1ul1, anti-gonadotrop, antiag, alik, \", \"The impact of watching television on evening melatonin levels\"], [\"arrhythmia, BP, afternoons/even, auditori, \", \"Maternal sleep deprivation is a risk factor for small for gestational age: a cohort study\"], [\"amateur, afford, 45-day, am-7:00, \", \"Can light make us bright? Effects of light on cognition and sleep\"], [\"'direct, assembl, 20e, assays.result, \", \"Cortisol assays and diagnostic laboratory procedures in human biological fluids\"], [\"MF, alzheim, autonomi, 6-sulphatoxy-melatonin, \", \"Human saliva as a diagnostic specimen\"], [\"5-androstene-3beta, 1x10, 1.7-fold, GG, \", \"Biological Effects of Sunlight, Ultraviolet Radiation, Visible Light, Infrared Radiation and Vitamin D for Health\"], [\"0.023.conclus, 14-15-hz, 6-sulftoxymelatonin, PA, \", \"THE INFLUENCE OF SHIFT WORK ON WORKER'S HEALTH STATUS (REVIEW)\"], [\"'direct, assembl, 20e, assays.result, \", \"Shift work in the modern industrial society and consequences on health\"], [\"1ul1, anti-gonadotrop, antiag, alik, \", \"Methodological aspects of shift-work research\"], [\"1ul1, anti-gonadotrop, antiag, alik, \", \"Re: Night shift work, light at night, and risk of breast cancer\"], [\"1ul1, anti-gonadotrop, antiag, alik, \", \"Shift work and cancer screening: do females who work alternative shifts undergo recommended cancer screening?\"], [\"CS, all, 25-day, antihistamin, \", \"High prevalence of breast cancer in light polluted areas in urban and rural regions of South Korea: An ecologic study on the treatment prevalence of female cancers based on National Health Insurance data\"], [\"6-d, analys, 1,25-dihydroxy-vitamin-d, 9-hour, \", \"[Occupational risk factors and male breast cancer]\"], [\"1ul1, anti-gonadotrop, antiag, alik, \", \"Effect of bright light on shift work nurses in hospitals.\"], [\"MF, alzheim, autonomi, 6-sulphatoxy-melatonin, \", \"Occupational cancer in Britain: Preventing occupational cancer\"], [\"advanc, afflict, 'everyth, NA, \", \"[Morbidity of irregular work schedules]\"], [\"amateur, afford, 45-day, am-7:00, \", \"[Night work and breast cancer]\"], [\"artist, analys, abstract, averag, \", \"Shift work with or without night shifts and breast cancer\"], [\"MF, alzheim, autonomi, 6-sulphatoxy-melatonin, \", \"Shift work and mortality\"], [\"0.023.conclus, 14-15-hz, 6-sulftoxymelatonin, PA, \", \"Restrictions on night work: Analysis of case studies in a large lombardy hospital\"], [\"CV, 9-hour, 26-item, alteration/disturb, \", \"Night shifts and colorectal cancer risk\"], [\"6500k, TP, ann, BT, \", \"Studies of cancer in humans\"], [\"-I, approach, +/-sem, abstarct, \", \"Validation of a Questionnaire to Screen for Shift Work Disorder\"], [\"5-androstene-3beta, 1x10, 1.7-fold, GG, \", \"Relationship of Night and Shift Work With Weight Change and Lifestyle Behaviors\"], [\"1ul1, anti-gonadotrop, antiag, alik, \", \"Shiftwork related problems in hospital workers\"], [\"advanc, afflict, 'everyth, NA, \", \"Comments on the International Symposium on Light, Endocrine Systems and Cancer\"], [\"CV, 9-hour, 26-item, alteration/disturb, \", \"[Sleep disorders and life-style related disease in shift workers]\"], [\"ald, balanc, actillum, akt, \", \"Sleep and health consequences of shift work in women\"], [\"and-accord, avow, automot, W, \", \"Alcohol use in shiftworkers\"], [\"-I, approach, +/-sem, abstarct, \", \"Does light cause internal cancers? The problem and challenge of an ubiquitous exposure\"], [\"appropri, acebo, aris, assumpt, \", \"Shift work and cancer research: can chronotype predict susceptibility in night-shift and rotating-shift workers?\"], [\"arrhythmia, BP, afternoons/even, auditori, \", \"Shift work, chronodisruption and cancer? - The IARC 2007 challenge for research and prevention and 10 theses from the Cologne Colloquium 2008\"], [\"MF, alzheim, autonomi, 6-sulphatoxy-melatonin, \", \"Effects of Shift and Night Work in the Offshore Petroleum Industry: A Systematic Review\"], [\"amateur, afford, 45-day, am-7:00, \", \"Shift work and cancer research: a thought experiment into a potential chronobiological fallacy of past and perspectives for future epidemiological studies\"], [\"MF, alzheim, autonomi, 6-sulphatoxy-melatonin, \", \"Research into the chronodisruption-cancer theory: the imperative for causal clarification and the danger of causal reductionism\"], [\"appropri, acebo, aris, assumpt, \", \"Low 25-hydroxyvitamin D concentrations may explain the link between breast cancer risk and shift work\"], [\"appropri, acebo, aris, assumpt, \", \"Breast cancer risk among Finnish cabin attendants: a nested case-control study\"], [\"appropri, acebo, aris, assumpt, \", \"Light at night, shiftwork, and breast cancer risk\"], [\"=filter, 9-h, 9-hour, 9-month, \", \"Location, location, location: Important for jet-lagged circadian loops\"], [\"'direct, assembl, 20e, assays.result, \", \"Re: Melatonin and breast cancer: A prospective study [4]\"], [\"arrhythmia, BP, afternoons/even, auditori, \", \"Night shiftwork and breast cancer risk: Overall evidence\"], [\"MF, alzheim, autonomi, 6-sulphatoxy-melatonin, \", \"Response to Letter to the Editor, re: Ijaz S, et al. \\\"Night-shift work and breast cancer - A systematic review and meta-analysis\\\"\"], [\"0.023.conclus, 14-15-hz, 6-sulftoxymelatonin, PA, \", \"Circadian disruption in shiftwork is probably carcinogenic to humans\"], [\"'direct, assembl, 20e, assays.result, \", \"Investigation of cancer incidence and mortality at a Scottish semiconductor manufacturing facility\"], [\"ald, balanc, actillum, akt, \", \"Light at night and breast cancer risk: results from a population-based case-control study in Connecticut, USA\"], [\"and-accord, avow, automot, W, \", \"Night work and breast cancer: a population-based case-control study in France (the CECILE study)\"], [\"and-accord, avow, automot, W, \", \"Night shift work and modifiable lifestyle factors\"], [\"arrhythmia, BP, afternoons/even, auditori, \", \"The darkness at the end of the tunnel: summary and evaluation of an international symposium on light, endocrine systems and cancer\"], [\"arrhythmia, BP, afternoons/even, auditori, \", \"Occupation and cancer - follow-up of 15 million people in five Nordic countries\"], [\"1ul1, anti-gonadotrop, antiag, alik, \", \"[Cancer risk among shift workers: a review]\"], [\"MF, alzheim, autonomi, 6-sulphatoxy-melatonin, \", \"Shift work, light at night, and the risk of breast cancer\"], [\"'direct, assembl, 20e, assays.result, \", \"Re: Night shift work, light at night, and risk of breast cancer\"], [\"1ul1, anti-gonadotrop, antiag, alik, \", \"Lighting during the day and night: possible impact on risk of breast cancer\"], [\"MF, alzheim, autonomi, 6-sulphatoxy-melatonin, \", \"Electric power, pineal function, and the risk of breast cancer\"], [\"MF, alzheim, autonomi, 6-sulphatoxy-melatonin, \", \"Occupational carcinogen exposure in Canada\"], [\"1ul1, anti-gonadotrop, antiag, alik, \", \"Characteristics of the million women study participants who have and have not worked at night\"], [\"ald, balanc, actillum, akt, \", \"Prevalence of risk factors for breast cancer in German airline cabin crew: a cross-sectional study\"], [\"appropri, acebo, aris, assumpt, \", \"Is there any change in the prolactin levels of nurses in the morning after night shift?\"], [\"'phase, acetyltransferas, angel, abpm, \", \"DETERMINANTS OF VITAMIN D STATUS AMONG JORDANIAN EMPLOYEES: FOCUS ON THE NIGHT SHIFT EFFECT\"], [\"1ul1, anti-gonadotrop, antiag, alik, \", \"Night work and breast cancer in women: a Swedish cohort study\"], [\"2400h, 24-26-hr, 18-oh-deoxycorticosteron, 38-h, \", \"Cosmic radiation in commercial aviation\"], [\"1ul1, anti-gonadotrop, antiag, alik, \", \"The relationship between electromagnetic field and light exposures to melatonin and breast cancer risk: a review of the relevant literature\"], [\"1ul1, anti-gonadotrop, antiag, alik, \", \"Night work and breast cancer risk defined by human epidermal growth factor receptor-2 (HER2) and hormone receptor status: A population-based case-control study in France\"], [\"appropri, acebo, aris, assumpt, \", \"Summary preventive and corrective measures for shift workers\"], [\"and-accord, avow, automot, W, \", \"Alcohol Consumption Patterns of Shiftworkers Compared With Dayworkers\"], [\"MF, alzheim, autonomi, 6-sulphatoxy-melatonin, \", \"Total visual blindness is protective against breast cancer\"], [\"2400h, 24-26-hr, 18-oh-deoxycorticosteron, 38-h, \", \"[Have female flight attendants an over-risk of breast cancer?]\"], [\"b=2.3, .method, androgen, america, \", \"Circadian rhythms of body temperature in shift-workers at a coalface.\"], [\"MF, alzheim, autonomi, 6-sulphatoxy-melatonin, \", \"Circadian disruption and health: Shift work as a harbinger of the toll taken by electric lighting\"], [\"MF, alzheim, autonomi, 6-sulphatoxy-melatonin, \", \"Is prostate cancer incidence worldwide linked to artificial light at night exposures? Review of earlier findings and analysis of current trends\"], [\"appropri, acebo, aris, assumpt, \", \"Nested case-control study of night shift work and breast cancer risk among women in the Danish military\"], [\"appropri, acebo, aris, assumpt, \", \"Light at night and breast cancer risk among California teachers\"], [\"'direct, assembl, 20e, assays.result, \", \"Intervening to reduce the future burden of occupational cancer in Britain: What could work?\"], [\"appropri, acebo, aris, assumpt, \", \"Mortality attributable to occupational exposure in Sweden\"], [\"MF, alzheim, autonomi, 6-sulphatoxy-melatonin, \", \"Nighttime light level co-distributes with breast cancer incidence worldwide\"], [\"-I, approach, +/-sem, abstarct, \", \"A prospective cohort study of shift work and the risk of death from pancreatic cancer in Japanese men\"], [\"and-accord, avow, automot, W, \", \"Night work and breast cancer risk in a general population prospective cohort study in The Netherlands\"], [\"MF, alzheim, autonomi, 6-sulphatoxy-melatonin, \", \"Occupational causes of testicular cancer in adults\"], [\"appropri, acebo, aris, assumpt, \", \"Epidemiological study of prostate cancer (EPICAP): a population-based case-control study in France\"], [\"'direct, assembl, 20e, assays.result, \", \"Night work and breast cancer risk among Norwegian nurses: assessment by different exposure metrics\"], [\"appropri, acebo, aris, assumpt, \", \"Axillary temperature: a circadian marker rhythm for shift workers.\"], [\"appropri, acebo, aris, assumpt, \", \"Invited commentary: validity of case-control studies of sleep duration and breast cancer\"], [\"MF, alzheim, autonomi, 6-sulphatoxy-melatonin, \", \"Medical surveillance for shift and night work\"], [\"MF, alzheim, autonomi, 6-sulphatoxy-melatonin, \", \"Artificial Light at Night (ALAN) and breast cancer incidence worldwide: A revisit of earlier findings with analysis of current trends\"], [\"ald, balanc, actillum, akt, \", \"Light at night: A novel risk factor for cancer in shift workers?\"], [\"CS, all, 25-day, antihistamin, \", \"Rotating nightshift work and the risk of endometriosis in premenopausal women\"], [\"'direct, assembl, 20e, assays.result, \", \"Breast cancer risk, nightwork, and circadian clock gene polymorphisms\"], [\"appropri, acebo, aris, assumpt, \", \"Shift work and chronic disease: the epidemiological evidence\"], [\"ald, balanc, actillum, akt, \", \"The reliability of melatonin synthesis as an indicator of the individual circadian phase position.\"], [\"1ul1, anti-gonadotrop, antiag, alik, \", \"Melatonin, cortisol and prolactin response to acute nocturnal light exposure in healthy volunteers.\"], [\"ald, balanc, actillum, akt, \", \"Changes in the concentration of urinary 6-sulphatoxymelatonin during a week of simulated night work.\"], [\"SC, 1-back, Cp, ER, \", \"[Diurnal rhythm of body temperature in night-shift workers].\"], [\"ald, balanc, actillum, akt, \", \"Delayed recovery of sleep and melatonin rhythms after nightshift work in Antarctic winter.\"], [\"'direct, assembl, 20e, assays.result, \", \"Re: Bracci M et al. \\\"Rotating-shift nurses after a day off: peripheral clock gene expression, urinary melatonin, and serum 17-estradiol levels.\\\".\"], [\"'direct, assembl, 20e, assays.result, \", \"Personal light dosimetry in permanent night and day workers.\"], [\"5-androstene-3beta, 1x10, 1.7-fold, GG, \", \"Seasonal changes of human circadian rhythms in Antarctica.\"], [\"MF, alzheim, autonomi, 6-sulphatoxy-melatonin, \", \"Bright light as a chronobiological countermeasure for shiftwork in space.\"], [\"adaptive-threshold, barrag, 63-year-old, anabol, \", \"The start of the quiescent period of cortisol remains phase locked to the melatonin onset despite circadian phase alterations in humans working the night schedule.\"], [\"500-night, 5ht, beadchip, =high-frequency/, \", \"Melatonin synthesis: a possible indicator of intolerance to shiftwork.\"], [\"CS, all, 25-day, antihistamin, \", \"A compromise phase position for permanent night shift workers: circadian phase after two night shifts with scheduled sleep and light/dark exposure.\"], [\"'direct, assembl, 20e, assays.result, \", \"Nocturnal prolactin pulses in relation to luteinizing hormone and thyrotropin.\"], [\"appropri, acebo, aris, assumpt, \", \"High-intensity light for circadian adaptation to a 12-h shift of the sleep schedule.\"], [\"1ul1, anti-gonadotrop, antiag, alik, \", \"Melatonin, sleep, and circadian rhythms: rationale for development of specific melatonin agonists.\"], [\"'direct, assembl, 20e, assays.result, \", \"Blocking low-wavelength light prevents nocturnal melatonin suppression with no adverse effect on performance during simulated shift work.\"], [\"'direct, assembl, 20e, assays.result, \", \"Controlled exposure to light and darkness realigns the salivary cortisol rhythm in night shift workers.\"], [\"antineoplast, arthriti, SF, alatt, \", \"Simulator driving performance, subjective sleepiness and salivary cortisol in a fast-forward versus a slow-backward rotating shift system.\"], [\"MF, alzheim, autonomi, 6-sulphatoxy-melatonin, \", \"Alteration of circadian rhythm in shift-working ambulance personnel.\"], [\"-I, approach, +/-sem, abstarct, \", \"Predicting circadian response to abrupt phase shift: 6-sulphatoxymelatonin rhythms in rotating shift workers offshore.\"], [\"MF, alzheim, autonomi, 6-sulphatoxy-melatonin, \", \"[Night workers and plasmatic cortisol].\"], [\"beadchip, =filter, 9-h, 9-hour, \", \"[Effects of continuous lighting on secretion of melatonin and pituitary hormones in women].\"], [\"1ul1, anti-gonadotrop, antiag, alik, \", \"Practical interventions to promote circadian adaptation to permanent night shift work: study 4.\"], [\"arrhythmia, BP, afternoons/even, auditori, \", \"The effect of shift rotation on variations of cortisol, fatigue and sleep in sound engineers.\"], [\"1ul1, anti-gonadotrop, antiag, alik, \", \"[Circadian rhythms of physiological functions in men and women related to shift work].\"], [\"0.023.conclus, 14-15-hz, 6-sulftoxymelatonin, PA, \", \"Using blue-green light at night and blue-blockers during the day to improves adaptation to night work: a pilot study.\"], [\"1ul1, anti-gonadotrop, antiag, alik, \", \"[Physiological regulation of the duration of the shift work schedule for transportation workers in deep coal mines].\"], [\"appropri, acebo, aris, assumpt, \", \"Spectral modulation attenuates molecular, endocrine, and neurobehavioral disruption induced by nocturnal light exposure.\"], [\"1ul1, anti-gonadotrop, antiag, alik, \", \"Circadian adjustment of men and women to night work.\"], [\"1ul1, anti-gonadotrop, antiag, alik, \", \"Indirect blue light does not suppress nocturnal salivary melatonin in humans in an automobile setting.\"], [\"ald, balanc, actillum, akt, \", \"Effects of long-term, low-dose, time-specified melatonin administration on endocrine and cardiovascular variables in adult men.\"], [\"1ul1, anti-gonadotrop, antiag, alik, \", \"Assessment of a new dynamic light regimen in a nuclear power control room without windows on quickly rotating shiftworkers--effects on health, wakefulness, and circadian alignment: a pilot study.\"], [\"MF, alzheim, autonomi, 6-sulphatoxy-melatonin, \", \"Blood pressure dipping and salivary cortisol as markers of fatigue and sleep deprivation in staff anesthesiologists.\"], [\"0.023.conclus, 14-15-hz, 6-sulftoxymelatonin, PA, \", \"The direction of shift-work rotation impacts metabolic risk independent of chronotype and social jetlag--an exploratory pilot study.\"], [\"ald, balanc, actillum, akt, \", \"Rotating night shift work, sleep quality, selected lifestyle factors and prolactin concentration in nurses and midwives.\"], [\"MF, alzheim, autonomi, 6-sulphatoxy-melatonin, \", \"Effects of filtering visual short wavelengths during nocturnal shiftwork on sleep and performance.\"], [\"MF, alzheim, autonomi, 6-sulphatoxy-melatonin, \", \"Shift type and season affect adaptation of the 6-sulphatoxymelatonin rhythm in offshore oil rig workers.\"], [\"ald, balanc, actillum, akt, \", \"Diurnal Variation of Hormonal and Lipid Biomarkers in a Molecular Epidemiology-Like Setting.\"], [\"artist, analys, abstract, averag, \", \"Circadian disruption: New clinical perspective of disease pathology and basis for chronotherapeutic intervention.\"], [\"MF, alzheim, autonomi, 6-sulphatoxy-melatonin, \", \"Circadian adaptation to fast and slow rotating shift systems.\"], [\"appropri, acebo, aris, assumpt, \", \"Abnormal circadian melatonin secretion in night-shift workers.\"], [\"1-tail, alia, 1beta, 1-week, \", \"Persisting and unaltered circadian rhythms of six healthy young men with a night-work shift every 48 hrs and a 2% CO2 atmosphere during a 4-week span.\"], [\"and-accord, avow, automot, W, \", \"[Desynchronization of the circadian rhythm of oral temperature in young human subjects with poor tolerance for night work].\"], [\"argument, amh, anxiety-induc, alik, \", \"Excretion of urinary catecholamines and plasma cortisol levels in female nurses on short-rotating shift.\"], [\"1ul1, anti-gonadotrop, antiag, alik, \", \"Night shift work and other determinants of estradiol, testosterone, and dehydroepiandrosterone sulfate among middle-aged nurses and midwives.\"], [\"CS, all, 25-day, antihistamin, \", \"[Effect of shift work on the circadian dynamics of body temperature].\"], [\"1-tail, alia, 1beta, 1-week, \", \"Effects of timed bright-light exposure on shift-work adaptation in middle-aged subjects.\"], [\"artist, analys, abstract, averag, \", \"Chronobiotics--drugs that shift rhythms.\"], [\"CS, all, 25-day, antihistamin, \", \"Use of melatonin for sleep and circadian rhythm disorders.\"], [\"1ul1, anti-gonadotrop, antiag, alik, \", \"Occupational exposure and risk of breast cancer\"], [\"appropri, acebo, aris, assumpt, \", \"The Reduction in Circulating Melatonin Level May Contribute to the Pathogenesis of Ovarian Cancer: A Retrospective Study\"], [\"CS, all, 25-day, antihistamin, \", \"Why the incidence of cancer is increasing: the role of 'light pollution'\"], [\"'direct, assembl, 20e, assays.result, \", \"Night-shift work and risk of colorectal cancer in the nurses' health study\"], [\"appropri, acebo, aris, assumpt, \", \"Measuring Serum Melatonin in Epidemiologic Studies\"], [\"5-androstene-3beta, 1x10, 1.7-fold, GG, \", \"Global co-distribution of light at night (LAN) and cancers of prostate, colon, and lung in men\"], [\"6-d, analys, 1,25-dihydroxy-vitamin-d, 9-hour, \", \"Cancer incidence among a large cohort of female Danish registered nurses\"], [\"appropri, acebo, aris, assumpt, \", \"A case-referent study: light at night and breast cancer risk in Georgia\"], [\"1ul1, anti-gonadotrop, antiag, alik, \", \"Association between shift work and the risk of death from biliary tract cancer in Japanese men\"], [\"ald, balanc, actillum, akt, \", \"Chronotype and breast cancer risk in a cohort of US nurses\"], [\"ald, balanc, actillum, akt, \", \"Cancer incidence among male military and civil pilots and flight attendants: an analysis on published data\"], [\"1ul1, anti-gonadotrop, antiag, alik, \", \"Negative Impacts of Shiftwork and Long Work Hours\"], [\"-I, approach, +/-sem, abstarct, \", \"Insomnia, Excessive Sleepiness, Excessive Fatigue, Anxiety, Depression and Shift Work Disorder in Nurses Having Less than 11 Hours in-Between Shifts\"], [\"ald, balanc, actillum, akt, \", \"Occupational health problems among transit workers\"], [\"b=2.3, .method, androgen, america, \", \"Light at night and breast cancer incidence in Connecticut: An ecological study of age group effects\"], [\"2400h, 24-26-hr, 18-oh-deoxycorticosteron, 38-h, \", \"The association between shift work and health: a review\"], [\"artist, analys, abstract, averag, \", \"Dietary and lifestyle habits and the associated health risks in shift workers\"], [\"artist, analys, abstract, averag, \", \"Shift workers have a similar diet quality but higher energy intake than day workers\"], [\"1ul1, anti-gonadotrop, antiag, alik, \", \"Occupational cancer burden in Great Britain\"], [\"advanc, afflict, 'everyth, NA, \", \"The Risk of Cancer among Taiwanese Female Registered Nurses: A Nationwide Retrospective Study\"], [\"appropri, acebo, aris, assumpt, \", \"Association between Sleep and Breast Cancer Incidence among Postmenopausal Women in the Women's Health Initiative\"], [\"1-tail, alia, 1beta, 1-week, \", \"Combination of light and melatonin time cues for phase advancing the human circadian clock.\"], [\"appropri, acebo, aris, assumpt, \", \"Phase advancing human circadian rhythms with morning bright light, afternoon melatonin, and gradually shifted sleep: can we reduce morning bright-light duration?\"], [\"ald, balanc, actillum, akt, \", \"Effects of electromagnetic radiation (bright light, extremely low-frequency magnetic fields, infrared radiation) on the circadian rhythm of melatonin synthesis, rectal temperature, and heart rate.\"], [\"1ul1, anti-gonadotrop, antiag, alik, \", \"Alterations of the cortisol quiescent period after experimental night work with enforced adaptation by bright light and its relation to morningness.\"], [\"K, 21:30h, alon, 36th, \", \"Metabolic responses on the early shift.\"], [\"MF, alzheim, autonomi, 6-sulphatoxy-melatonin, \", \"Different patterns of light exposure in relation to melatonin and cortisol rhythms and sleep of night workers.\"], [\"MF, alzheim, autonomi, 6-sulphatoxy-melatonin, \", \"Biological and psychological responses to two rapid shiftwork schedules.\"], [\"appropri, acebo, aris, assumpt, \", \"Rapid shift in sleep time and acrophase of melatonin secretion in short shift work schedule.\"], [\"MF, alzheim, autonomi, 6-sulphatoxy-melatonin, \", \"Melatonin rhythms in night shift workers.\"], [\"arrhythmia, BP, afternoons/even, auditori, \", \"Nocturnal melatonin profiles before and one year after beginning shift-work.\"], [\"'direct, assembl, 20e, assays.result, \", \"[Biologic rhythms: their changes in night-shift workers].\"], [\"'direct, assembl, 20e, assays.result, \", \"Internal dissociation of the circadian markers of the cortisol rhythm in night workers.\"], [\"appropri, acebo, aris, assumpt, \", \"Effect of shift work on the night-time secretory patterns of melatonin, prolactin, cortisol and testosterone.\"], [\"1ul1, anti-gonadotrop, antiag, alik, \", \"Twenty-four-hour melatonin and core body temperature rhythms: their adaptation in night workers.\"], [\"-I, approach, +/-sem, abstarct, \", \"Circadian gene expression in peripheral blood leukocytes of rotating night shift nurses\"], [\"appropri, acebo, aris, assumpt, \", \"Studies shedding light on vitamin D and cancer\"], [\"5-androstene-3beta, 1x10, 1.7-fold, GG, \", \"EVALUATION OF CIRCADIAN GENE AND ER beta EXPRESSION CHANGES IN WHITE BLOOD CELLS AS BIOMARKERS OF CIRCADIAN DISRUPTION IN SHIFT WORKERS: POTENTIAL APPLICATION TO STUDIES OF BREAST AND PROSTATE CANCER CHEMOPREVENTION\"], [\"ald, balanc, actillum, akt, \", \"Night shift work and hormone levels in women\"], [\"'direct, assembl, 20e, assays.result, \", \"Melatonin production and light exposure of rotating night workers\"], [\"1ul1, anti-gonadotrop, antiag, alik, \", \"[Night shift work and prolactin as a breast cancer risk factor]\"], [\"appropri, acebo, aris, assumpt, \", \"Sleep interruption associated with house staff work schedules alters circadian gene expression.\"], [\"appropri, acebo, aris, assumpt, \", \"Melatonin suppression by light in humans is maximal when the nasal part of the retina is illuminated.\"], [\"'direct, assembl, 20e, assays.result, \", \"Dietary inflammatory index scores differ by shift work status: NHANES 2005 to 2010\"], [\"CV, 9-hour, 26-item, alteration/disturb, \", \"Toward chronobiologic pattern discrimination of the risk of developing breast cancer and other diseases.\"], [\"appropri, acebo, aris, assumpt, \", \"Saliva cortisol levels in construction workers in the Arctic (78\\u00b0N).\"], [\"appropri, acebo, aris, assumpt, \", \"Acute phase proteins, body temperature and urinary melatonin under the influence of bright and dim light intensities during the daytime.\"], [\"'direct, assembl, 20e, assays.result, \", \"The effect of bright light on physiological circadian rhythms and subjective alertness of shift work nurses in Iran.\"], [\"MF, alzheim, autonomi, 6-sulphatoxy-melatonin, \", \"Suppression of sleepiness and melatonin by bright light exposure during breaks in night work.\"], [\"and-accord, avow, automot, W, \", \"Blue blocker glasses impede the capacity of bright light to suppress melatonin production.\"], [\"0.023.conclus, 14-15-hz, 6-sulftoxymelatonin, PA, \", \"At-sea trial of 24-h-based submarine watchstanding schedules with high and low correlated color temperature light sources.\"], [\"appropri, acebo, aris, assumpt, \", \"Short-wavelength attenuated polychromatic white light during work at night: limited melatonin suppression without substantial decline of alertness.\"], [\"appropri, acebo, aris, assumpt, \", \"A benzodiazepine hypnotic facilitates adaptation of circadian rhythms and sleep-wake homeostasis to an eight hour delay shift simulating westward jet lag.\"], [\"MF, alzheim, autonomi, 6-sulphatoxy-melatonin, \", \"Phase shifts of human circadian rhythms due to shifts of artificial Zeitgebers.\"], [\"appropri, acebo, aris, assumpt, \", \"The prediction of the adaptation of circadian rhythms to rapid time zone changes.\"], [\"b=2.3, .method, androgen, america, \", \"Shift work disorder: clinical assessment and treatment strategies.\"], [\"MF, alzheim, autonomi, 6-sulphatoxy-melatonin, \", \"The genetic background of individual variations of circadian-rhythm periods in healthy human adults\"], [\"MF, alzheim, autonomi, 6-sulphatoxy-melatonin, \", \"From circadian rhythms to cancer chronotherapeutics\"], [\"CV, 9-hour, 26-item, alteration/disturb, \", \"Melatonin as a chronobiotic: treatment of circadian desynchrony in night workers and the blind.\"], [\"1ul1, anti-gonadotrop, antiag, alik, \", \"Efficacy and hypnotic effects of melatonin in shift-work nurses: double-blind, placebo-controlled crossover trial.\"], [\"amateur, afford, 45-day, am-7:00, \", \"Melatonin uses in oncology: breast cancer prevention and reduction of the side effects of chemotherapy and radiation.\"], [\"1ul1, anti-gonadotrop, antiag, alik, \", \"Night shift performance is improved by a compromise circadian phase position: study 3. Circadian phase after 7 night shifts with an intervening weekend off.\"], [\"amateur, afford, 45-day, am-7:00, \", \"Adipokine Levels Are Altered by Shiftwork: A Preliminary Study\"], [\"6500k, TP, ann, BT, \", \"Rotating-shift nurses after a day off: peripheral clock gene expression, urinary melatonin, and serum 17-\\u03b2-estradiol levels.\"], [\"1ul1, anti-gonadotrop, antiag, alik, \", \"Simulated night shift disrupts circadian rhythms of immune functions in humans\"], [\"1ul1, anti-gonadotrop, antiag, alik, \", \"Night work and inflammatory markers\"], [\"amateur, afford, 45-day, am-7:00, \", \"Shiftwork and prostate-specific antigen in the National Health and Nutrition Examination Survey\"], [\"1ul1, anti-gonadotrop, antiag, alik, \", \"Circadian adaptation to night-shift work by judicious light and darkness exposure.\"], [\"1ul1, anti-gonadotrop, antiag, alik, \", \"Increased and mistimed sex hormone production in night shift workers\"], [\"CV, 9-hour, 26-item, alteration/disturb, \", \"Internal desynchronization of circadian rhythms and tolerance to shift work.\"], [\"1ul1, anti-gonadotrop, antiag, alik, \", \"Mistimed sleep disrupts circadian regulation of the human transcriptome.\"], [\"1ul1, anti-gonadotrop, antiag, alik, \", \"Do permanent night workers show circadian adjustment? A review based on the endogenous melatonin rhythm.\"], [\"1ul1, anti-gonadotrop, antiag, alik, \", \"Some effects of melatonin and the control of its secretion in humans.\"], [\"1ul1, anti-gonadotrop, antiag, alik, \", \"Hormonal changes in satisfied and dissatisfied shift workers across a shift cycle.\"], [\"2400h, 24-26-hr, 18-oh-deoxycorticosteron, 38-h, \", \"Peripheral Skin Temperature and Circadian Biological Clock in Shift Nurses after a Day off.\"], [\"MF, alzheim, autonomi, 6-sulphatoxy-melatonin, \", \"Work at sea: a study of sleep, and of circadian rhythms in physiological and psychological functions, in watchkeepers on merchant vessels. V. Effects of time zone crossings.\"], [\"1ul1, anti-gonadotrop, antiag, alik, \", \"Profile of 24-h light exposure and circadian phase of melatonin secretion in night workers.\"], [\"b=2.3, .method, androgen, america, \", \"Length polymorphism in the Period 3 gene is associated with sleepiness and maladaptive circadian phase in night-shift workers.\"], [\"1ul1, anti-gonadotrop, antiag, alik, \", \"Offshore fleet workers and the circadian adaptation of core body temperature, blood pressure and heart rate to 12-h shifts: a field study.\"], [\"CS, all, 25-day, antihistamin, \", \"Circadian rhythm of acute phase proteins under the influence of bright/dim light during the daytime.\"], [\"argument, amh, anxiety-induc, alik, \", \"Problems related to shift work. A field study of Swedish railroad workers with irregular work hours.\"], [\"1ul1, anti-gonadotrop, antiag, alik, \", \"The darkness at the end of the tunnel: Summary and evaluation of an international symposium on light, endocrine systems and cancer\"], [\"1ul1, anti-gonadotrop, antiag, alik, \", \"Melatonin therapy in shift workers with difficulty falling asleep: A randomized, double-blind, placebo-controlled crossover field study.\"], [\"1ul1, anti-gonadotrop, antiag, alik, \", \"Alteration of circadian rhythm in shift-working ambulance personnel. Monitoring of salivary cortisol rhythm.\"], [\"appropri, acebo, aris, assumpt, \", \"Shift work at young age is associated with elevated long-term cortisol levels and body mass index.\"], [\"1ul1, anti-gonadotrop, antiag, alik, \", \"Light deficiency confers breast cancer risk by endocrine disorders\"], [\"'direct, assembl, 20e, assays.result, \", \"[Longitudinal study on circadian rhythms of plasma hormone levels during Japanese Antarctic Research Expedition].\"], [\"MF, alzheim, autonomi, 6-sulphatoxy-melatonin, \", \"Job strain and shift work influences on biomarkers and subclinical heart disease indicators: a pilot study.\"], [\"MF, alzheim, autonomi, 6-sulphatoxy-melatonin, \", \"The acute effects of experimental short-term evening and night shifts on human circadian rhythm: the oral temperature, heart rate, serum cortisol and urinary catecholamines levels.\"], [\"1ul1, anti-gonadotrop, antiag, alik, \", \"Breast cancer risk by occupation and industry: analysis of the CECILE study, a population-based case-control study in France\"], [\"1ul1, anti-gonadotrop, antiag, alik, \", \"Efficacy of melatonin treatment in jet lag, shift work, and blindness.\"], [\"'direct, assembl, 20e, assays.result, \", \"Adapting to phase shifts, I. An experimental model for jet lag and shift work.\"], [\"CV, 9-hour, 26-item, alteration/disturb, \", \"Can melatonin improve adaptation to night shift?\"], [\"appropri, acebo, aris, assumpt, \", \"Differences in cortisol profiles and circadian adjustment time between nurses working night shifts and regular day shifts: A prospective longitudinal study.\"], [\"1ul1, anti-gonadotrop, antiag, alik, \", \"Effectiveness of a red-visor cap for preventing light-induced melatonin suppression during simulated night work.\"], [\"MF, alzheim, autonomi, 6-sulphatoxy-melatonin, \", \"Circadian disrupting exposures and breast cancer risk: a meta-analysis\"], [\"appropri, acebo, aris, assumpt, \", \"Duration of sleep and breast cancer risk in a large population-based case-control study\"], [\"MF, alzheim, autonomi, 6-sulphatoxy-melatonin, \", \"Sleep Disruption Among Older Men and Risk of Prostate Cancer\"], [\"appropri, acebo, aris, assumpt, \", \"Urinary melatonin and risk of ovarian cancer\"], [\"ald, balanc, actillum, akt, \", \"Epidemiological studies of cancer in aircrew\"], [\"arrhythmia, BP, afternoons/even, auditori, \", \"Physical fitness and other individual factors relating to the shiftwork tolerance of women\"], [\"and-accord, avow, automot, W, \", \"Significant dimensions of the dose-response relationship\"], [\"and-accord, avow, automot, W, \", \"Occupational radiation dose estimation for Finnish aircraft cabin attendants\"], [\"adaptive-threshold, barrag, 63-year-old, anabol, \", \"Returning from night shift to day life: Beneficial effects of light on sleep\"], [\"appropri, acebo, aris, assumpt, \", \"Circadian disruption-induced breast cancer \\u2013 knowns and unknowns\"], [\"1ul1, anti-gonadotrop, antiag, alik, \", \"Measuring and using light in the melanopsin age\"], [\"advanc, afflict, 'everyth, NA, \", \"Aberrant methylation of miR-34b is associated with long-term shiftwork: a potential mechanism for increased breast cancer susceptibility\"], [\"appropri, acebo, aris, assumpt, \", \"Biological risk and health care workers: Analysis of the effects of work chronobiology on the immune system\"], [\"1ul1, anti-gonadotrop, antiag, alik, \", \"Relationship between intensity of night shift work and antioxidant status in blood of nurses\"], [\"arrhythmia, BP, afternoons/even, auditori, \", \"Night Shift Work and Breast Cancer Risk\"], [\"appropri, acebo, aris, assumpt, \", \"Chronic Jet Lag Promotes Metabolic Dysfunction and Hepatocarcinogenesis\"], [\"appropri, acebo, aris, assumpt, \", \"The circadian gene NPAS2 is a novel prognostic biomarker for breast cancer\"], [\"5-androstene-3beta, 1x10, 1.7-fold, GG, \", \"Sulphatoxymelatonin excretion in older people: relationship to plasma melatonin and renal function\"], [\"MF, alzheim, autonomi, 6-sulphatoxy-melatonin, \", \"Roux-en-Y gastric bypass for morbid obesity: what are the preoperative predictors of weight loss?\"], [\"and-accord, avow, automot, W, \", \"Ramadan fasting in Saudi Arabia is associated with altered expression of CLOCK, DUSP and IL-1alpha genes, as well as changes in cardiometabolic risk factors\"], [\"MF, alzheim, autonomi, 6-sulphatoxy-melatonin, \", \"Molecular Mechanisms in Mood Regulation Involving the Circadian Clock\"], [\"ald, balanc, actillum, akt, \", \"A single night light exposure acutely alters hormonal and metabolic responses in healthy participants\"], [\"artist, analys, abstract, averag, \", \"Genetic variation of clock genes and cancer risk: a field synopsis and meta-analysis\"], [\"CV, 9-hour, 26-item, alteration/disturb, \", \"Shifting schedules: the health effects of reorganizing shift work\"], [\"CS, all, 25-day, antihistamin, \", \"Nocturnal urinary 6-sulphatoxymelatonin excretion is decreased in primary breast cancer patients compared to age-matched controls and shows negative correlation with tumor-size\"], [\"1ul1, anti-gonadotrop, antiag, alik, \", \"Melatonin and 6-sulfatoxymelatonin circadian rhythms in serum and urine of primary prostate cancer patients: evidence for reduced pineal activity and relevance of urinary determinations\"], [\"MF, alzheim, autonomi, 6-sulphatoxy-melatonin, \", \"Light/Dark Shifting Promotes Alcohol-Induced Colon Carcinogenesis: Possible Role of Intestinal Inflammatory Milieu and Microbiota\"], [\"MF, alzheim, autonomi, 6-sulphatoxy-melatonin, \", \"Methodological issues regarding confounding and exposure misclassification in epidemiological studies of occupational exposures\"], [\"CS, all, 25-day, antihistamin, \", \"Mortality from Cancer and Other Causes among Airline Cabin Attendants in Germany, 1960-1997\"], [\"appropri, acebo, aris, assumpt, \", \"Shift work, risk factors and cardiovascular disease\"], [\"'direct, assembl, 20e, assays.result, \", \"Work environment of Danish shift and day workers\"], [\"appropri, acebo, aris, assumpt, \", \"Association between CLOCK, PER3 and CCRN4L with nonsmall cell lung cancer in Brazilian patients\"], [\"MF, alzheim, autonomi, 6-sulphatoxy-melatonin, \", \"Innovative working schedule: introducing one short nap during the night shift\"], [\"MF, alzheim, autonomi, 6-sulphatoxy-melatonin, \", \"Energy intake of shift workers compared to fixed day workers: A systematic review and meta-analysis\"], [\"5-androstene-3beta, 1x10, 1.7-fold, GG, \", \"Associations among Metabolism, Circadian Rhythm and Age-Associated Diseases\"], [\"5-androstene-3beta, 1x10, 1.7-fold, GG, \", \"Human responses to bright light of different durations\"], [\"b=2.3, .method, androgen, america, \", \"The human circadian system adapts to prior photic history\"], [\"appropri, acebo, aris, assumpt, \", \"The Identification of a Long Work Hours Threshold for Predicting Elevated Risks of Adverse Health Outcomes\"], [\"b=2.3, .method, androgen, america, \", \"Introduction to problems of shift work\"], [\"'direct, assembl, 20e, assays.result, \", \"Modifications to weekend recovery sleep delay circadian phase in older adolescents\"], [\"and-accord, avow, automot, W, \", \"Armodafinil for treatment of excessive sleepiness associated with shift work disorder: a randomized controlled study\"], [\"-I, approach, +/-sem, abstarct, \", \"A self-assessment questionnaire to determine morningness-eveningness in human circadian rhythms\"], [\"MF, alzheim, autonomi, 6-sulphatoxy-melatonin, \", \"Night work, light exposure and melatonin on work days and days off\"], [\"MF, alzheim, autonomi, 6-sulphatoxy-melatonin, \", \"Shift Scheduling & Employee Involvement: The Key to Successful Schedules\"], [\"b=2.3, .method, androgen, america, \", \"EPIC-Norfolk: study design and characteristics of the cohort. European Prospective Investigation of Cancer\"], [\"MF, alzheim, autonomi, 6-sulphatoxy-melatonin, \", \"Rotating night shift work, sleep, and colorectal adenoma in women\"], [\"and-accord, avow, automot, W, \", \"Minimum Latency  &  Types or Categories of Cancer\"], [\"appropri, acebo, aris, assumpt, \", \"Sedentary behavior and health outcomes: an overview of systematic reviews\"], [\"appropri, acebo, aris, assumpt, \", \"Increasing rates of low-risk prostate cancer incidence in USAF servicemen and selection of treatments\"], [\"appropri, acebo, aris, assumpt, \", \"Effect of Light and Melatonin and Other Melatonin Receptor Agonists on Human Circadian Physiology\"], [\"adaptive-threshold, barrag, 63-year-old, anabol, \", \"Mechanisms of breast cancer risk in shift workers: association of telomere shortening with the duration and intensity of night work\"], [\"appropri, acebo, aris, assumpt, \", \"Modafinil for excessive sleepiness associated with chronic shift work sleep disorder: effects on patient functioning and health-related quality of life\"], [\"appropri, acebo, aris, assumpt, \", \"Shift work, cancer and \\\"white-box\\\" epidemiology: Association and causation\"], [\"artist, analys, abstract, averag, \", \"The new world atlas of artificial night sky brightness\"], [\"'phase, acetyltransferas, angel, abpm, \", \"Divergent biases in ecologic and individual-level studies\"], [\"1ul1, anti-gonadotrop, antiag, alik, \", \"Joint effects of dietary vitamin D and sun exposure on breast cancer risk: results from the French E3N cohort\"], [\"MF, alzheim, autonomi, 6-sulphatoxy-melatonin, \", \"RE: Night Shiftwork and Breast Cancer Incidence: Three Prospective Studies and Meta-analysis of Published Studies\"], [\"1ul1, anti-gonadotrop, antiag, alik, \", \"Sunlight, polymorphisms of vitamin D-related genes and risk of breast cancer\"], [\"1ul1, anti-gonadotrop, antiag, alik, \", \"Control of skin cancer by the circadian rhythm\"], [\"arrhythmia, BP, afternoons/even, auditori, \", \"Occupational factors and mortality in the Japan Collaborative Cohort Study for Evaluation of Cancer (JACC)\"], [\"1ul1, anti-gonadotrop, antiag, alik, \", \"Methods for monitoring the functional status of the circadian system in dietary surveys studies: application criteria and interpretation of results\"], [\"arrhythmia, BP, afternoons/even, auditori, \", \"Salivary Cortisol, Perceived Stress, and Metabolic Syndrome: A Matched Case-Control Study in Female Shift Workers\"], [\"0.023.conclus, 14-15-hz, 6-sulftoxymelatonin, PA, \", \"Meta-analysis of observational studies of serum 25-hydroxyvitamin D levels and colorectal, breast and prostate cancer and colorectal adenoma\"], [\"arrhythmia, BP, afternoons/even, auditori, \", \"The times they're a-changing: effects of circadian desynchronization on physiology and disease\"], [\"1ul1, anti-gonadotrop, antiag, alik, \", \"Reproducibility of plasma and urine biomarkers among premenopausal and postmenopausal women from the Nurses' Health Studies\"], [\"arrhythmia, BP, afternoons/even, auditori, \", \"Photic sensitivity for circadian response to light varies with photoperiod\"], [\"b=2.3, .method, androgen, america, \", \"Self-reported flight hours vs. company records for epidemiologic studies of flight attendants\"], [\"arrhythmia, BP, afternoons/even, auditori, \", \"25-hydroxyvitamin D and breast cancer, colorectal cancer, and colorectal adenomas: case-control versus nested case-control studies\"], [\"5-androstene-3beta, 1x10, 1.7-fold, GG, \", \"Technical and clinical aspects of cortisol as a biochemical marker of chronic stress\"], [\"MF, alzheim, autonomi, 6-sulphatoxy-melatonin, \", \"Measuring and identifying large-study metrics for circadian rhythm disruption in female flight attendants\"], [\"MF, alzheim, autonomi, 6-sulphatoxy-melatonin, \", \"Ecologic versus individual-level sources of bias in ecologic estimates of contextual health effects\"], [\"1ul1, anti-gonadotrop, antiag, alik, \", \"Invited commentary: ecologic studies--biases, misconceptions, and counterexamples\"], [\"1-tail, alia, 1beta, 1-week, \", \"The dim light melatonin onset, melatonin assays and biological rhythm research in humans\"], [\"appropri, acebo, aris, assumpt, \", \"Activity, sleep and ambient light have a different impact on circadian blood pressure, heart rate and body temperature rhythms\"], [\"appropri, acebo, aris, assumpt, \", \"Radiation-induced acute myeloid leukaemia and other cancers in commercial jet cockpit crew: a population-based cohort study\"], [\"appropri, acebo, aris, assumpt, \", \"A PER3 polymorphism is associated with better overall survival in diffuse large B-cell lymphoma in Mexican population\"], [\"MF, alzheim, autonomi, 6-sulphatoxy-melatonin, \", \"Cancer incidence among Norwegian airline cabin attendants\"], [\"MF, alzheim, autonomi, 6-sulphatoxy-melatonin, \", \"RE: Night Shift Work and Breast Cancer Incidence: Three Prospective Studies and Meta-analysis of Published Studies\"], [\"'direct, assembl, 20e, assays.result, \", \"The effects of prior light history on the suppression of melatonin by light in humans\"], [\"MF, alzheim, autonomi, 6-sulphatoxy-melatonin, \", \"Effects of smartphone use with and without blue light at night in healthy adults: A randomized, double-blind, cross-over, placebo-controlled comparison\"], [\"artist, analys, abstract, averag, \", \"Influence of eye colors of Caucasians and Asians on suppression of melatonin secretion by light\"], [\"ald, balanc, actillum, akt, \", \"Progressive elevation of plasma thyrotropin during adaptation to simulated jet lag: effects of treatment with bright light or zolpidem\"], [\"'direct, assembl, 20e, assays.result, \", \"Effects of exposure to intermittent versus continuous red light on human circadian rhythms, melatonin suppression, and pupillary constriction\"], [\"ald, balanc, actillum, akt, \", \"CLOCK in breast tumorigenesis: genetic, epigenetic, and transcriptional profiling analyses\"], [\"ald, balanc, actillum, akt, \", \"Differential Phasing between Circadian Clocks in the Brain and Peripheral Organs in Humans\"], [\"appropri, acebo, aris, assumpt, \", \"The phase shift hypothesis for the circadian component of winter depression\"], [\"ald, balanc, actillum, akt, \", \"The circadian timing system in clinical oncology\"], [\"'direct, assembl, 20e, assays.result, \", \"Breastfeeding and breast cancer risk by receptor status--a systematic review and meta-analysis\"], [\"'direct, assembl, 20e, assays.result, \", \"The phase shift hypothesis for bright light's therapeutic mechanism of action: theoretical considerations and experimental evidence\"], [\"MF, alzheim, autonomi, 6-sulphatoxy-melatonin, \", \"Antidepressant and circadian phase-shifting effects of light\"], [\"'direct, assembl, 20e, assays.result, \", \"The role of melatonin and light in the human circadian system\"], [\"'direct, assembl, 20e, assays.result, \", \"Assessment of cardiometabolic risk among shift workers in Hungary\"], [\"MF, alzheim, autonomi, 6-sulphatoxy-melatonin, \", \"Common genetic variation in circadian rhythm genes and risk of epithelial ovarian cancer (EOC)\"], [\"'direct, assembl, 20e, assays.result, \", \"Shift work and overall and cause-specific mortality in the Danish nurse cohort\"], [\"'direct, assembl, 20e, assays.result, \", \"Comparing the Morningness-Eveningness Questionnaire and Munich ChronoType Questionnaire to the Dim Light Melatonin Onset\"], [\"1ul1, anti-gonadotrop, antiag, alik, \", \"Mammalian circadian biology: elucidating genome-wide levels of temporal organization\"], [\"MF, alzheim, autonomi, 6-sulphatoxy-melatonin, \", \"Association of the clock genes polymorphisms with colorectal cancer susceptibility\"], [\"appropri, acebo, aris, assumpt, \", \"Effects on sleep-related problems and self-reported health after a change of shift schedule\"], [\"MF, alzheim, autonomi, 6-sulphatoxy-melatonin, \", \"Health consequences of shift work and insufficient sleep\"], [\"appropri, acebo, aris, assumpt, \", \"Can Avoiding Light at Night Reduce the Risk of Breast Cancer?\"], [\"1ul1, anti-gonadotrop, antiag, alik, \", \"Circadian type, chronic fatigue, and serum IgM in the shift workers of an industrial organization\"], [\"appropri, acebo, aris, assumpt, \", \"The association between artificial light at night and prostate cancer in Gwangju City and South Jeolla Province of South Korea\"], [\"appropri, acebo, aris, assumpt, \", \"Phase-shifting response to light in older adults\"], [\"'direct, assembl, 20e, assays.result, \", \"Creatinine is an appropriate reference for urinary sulphatoxymelatonin of laboratory animals and humans\"], [\"1ul1, anti-gonadotrop, antiag, alik, \", \"Comparisons of the variability of three markers of the human circadian pacemaker\"], [\"'direct, assembl, 20e, assays.result, \", \"The pattern of hormonal circadian time structure (acrophase) as an assessor of breast-cancer risk\"], [\"1ul1, anti-gonadotrop, antiag, alik, \", \"Effects of bright and blue light on acoustic reaction time and maximum handgrip strength in male athletes: a randomized controlled trial\"], [\"MF, alzheim, autonomi, 6-sulphatoxy-melatonin, \", \"Randomized trial of breast self-examination in Shanghai: final results\"], [\"'direct, assembl, 20e, assays.result, \", \"Actigraph measures of sleep among female hospital employees working day or alternating day and night shifts\"], [\"1ul1, anti-gonadotrop, antiag, alik, \", \"Response to Dr Stevens\\u2019 letter ref. Visitisen et al: \\u201cShort-term effects of night shift work on breast cancer risk: A cohort study of payroll data\\u201d\"], [\"'direct, assembl, 20e, assays.result, \", \"Prime Time Light Exposures Do Not Seem to Improve Maximal Physical Performance in Male Elite Athletes, but Enhance End-Spurt Performance\"], [\"appropri, acebo, aris, assumpt, \", \"Changing the hours of shift work: a comparison of 8- and 12-hour shift rosters in a group of computer operators\"], [\"'direct, assembl, 20e, assays.result, \", \"Light-induced melatonin suppression at night after exposure to different wavelength composition of morning light\"], [\"ald, balanc, actillum, akt, \", \"Alteration of internal circadian phase relationships after morning versus evening carbohydrate-rich meals in humans\"], [\"=filter, 9-h, 9-hour, 9-month, \", \"Possible influences of circadian rhythms in experimental carcinogenesis\"], [\"artist, analys, abstract, averag, \", \"Transition from dim to bright light in the morning induces an immediate elevation of cortisol levels\"], [\"1ul1, anti-gonadotrop, antiag, alik, \", \"Blue-Light Filtering Spectacle Lenses: Optical and Clinical Performances\"], [\"=filter, 9-h, 9-hour, 9-month, \", \"Perinatal light imprinting of circadian clocks and systems (PLICCS): A signature of photoperiod around birth on circadian system stability and association with cancer\"], [\"'direct, assembl, 20e, assays.result, \", \"Perinatal Light Imprinting of Circadian Clocks and Systems (PLICCS): The PLICCS and Cancer Hypothesis\"], [\"'direct, assembl, 20e, assays.result, \", \"The influence of new colored light stimulation methods on heart rate variability, temperature, and well-being: results of a pilot study in humans\"], [\"ald, balanc, actillum, akt, \", \"Medical history, sexual, and maturational factors and prostate cancer risk\"], [\"6-d, analys, 1,25-dihydroxy-vitamin-d, 9-hour, \", \"Mortality among US commercial pilots and navigators\"], [\"appropri, acebo, aris, assumpt, \", \"Circadian pathway genes in relation to glioma risk and outcome\"], [\"antineoplast, arthriti, SF, alatt, \", \"The correlation between human plasma melatonin levels and urinary 6-hydroxymelatonin excretion\"], [\"-I, approach, +/-sem, abstarct, \", \"Reduced melatonin secretion drives association between night shift work and breast cancer\"], [\"MF, alzheim, autonomi, 6-sulphatoxy-melatonin, \", \"Vitamin D and calcium intake in relation to risk of endometrial cancer: a systematic review of the literature\"], [\"'direct, assembl, 20e, assays.result, \", \"Ecological measurements of light exposure, activity, and circadian disruption\"], [\"'direct, assembl, 20e, assays.result, \", \"Circadian phase, dynamics of subjective sleepiness and sensitivity to blue light in young adults complaining of a delayed sleep schedule\"], [\"0.023.conclus, 14-15-hz, 6-sulftoxymelatonin, PA, \", \"Physical stress in the middle of the dark phase does not affect light-depressed plasma melatonin levels in humans\"], [\"advanc, afflict, 'everyth, NA, \", \"Temporal relationship between melatonin and cortisol responses to nighttime physical stress in humans\"], [\"-I, approach, +/-sem, abstarct, \", \"The impact of a workplace-based weight loss program on work-related outcomes in overweight male shift workers\"], [\"'direct, assembl, 20e, assays.result, \", \"Estimating cancer latency times using a Weibull model\"], [\"MF, alzheim, autonomi, 6-sulphatoxy-melatonin, \", \"Circadian Misalignment Increases C-Reactive Protein and Blood Pressure in Chronic Shift Workers\"], [\"MF, alzheim, autonomi, 6-sulphatoxy-melatonin, \", \"Performance awareness: Predicting cognitive performance during simulated shiftwork using chronobiological measures\"], [\"appropri, acebo, aris, assumpt, \", \"Positive effect of daylight exposure on nocturnal urinary melatonin excretion in the elderly: a cross-sectional analysis of the HEIJO-KYO study\"], [\"MF, alzheim, autonomi, 6-sulphatoxy-melatonin, \", \"Intervention on coronary risk factors by changing working conditions of Swedish policemen\"], [\"ald, balanc, actillum, akt, \", \"Intervention on coronary risk factors by adapting a shift work schedule to biologic rhythmicity\"], [\"MF, alzheim, autonomi, 6-sulphatoxy-melatonin, \", \"Increased Melatonin Signaling Is a Risk Factor for Type 2 Diabetes\"], [\"1ul1, anti-gonadotrop, antiag, alik, \", \"High Mammographic Density in Long-Term Night-Shift Workers: DDM-Spain/Var-DDM\"], [\"1ul1, anti-gonadotrop, antiag, alik, \", \"Classification of epidemiological study designs\"], [\"1-tail, alia, 1beta, 1-week, \", \"Dim light melatonin onset (DLMO): a tool for the analysis of circadian phase in human sleep and chronobiological disorders\"], [\"MF, alzheim, autonomi, 6-sulphatoxy-melatonin, \", \"Detection of inflammatory biomarkers in saliva and urine: Potential in diagnosis, prevention, and treatment for chronic diseases\"], [\"1ul1, anti-gonadotrop, antiag, alik, \", \"Incidence of cancer among Finnish airline cabin attendants, 1967-92\"], [\"and-accord, avow, automot, W, \", \"Circadian phase resetting by a single short-duration light exposure\"], [\"MF, alzheim, autonomi, 6-sulphatoxy-melatonin, \", \"Mortality from Cancer and Other Causes among Airline Cabin Attendants in Europe: A Collaborative Cohort Study in Eight Countries\"], [\"6-d, analys, 1,25-dihydroxy-vitamin-d, 9-hour, \", \"A model of phototransduction by the human circadian system\"], [\"1ul1, anti-gonadotrop, antiag, alik, \", \"Circadian light\"], [\"MF, alzheim, autonomi, 6-sulphatoxy-melatonin, \", \"A natural view of artificial light\"], [\"MF, alzheim, autonomi, 6-sulphatoxy-melatonin, \", \"The effects of spectral tuning of evening ambient light on melatonin suppression, alertness and sleep\"], [\"'direct, assembl, 20e, assays.result, \", \"Use of bisphosphonates and risk of postmenopausal breast cancer\"], [\"artist, analys, abstract, averag, \", \"Estimation of the melatonin suppression index through clear and yellow-tinted intraocular lenses\"], [\"1ul1, anti-gonadotrop, antiag, alik, \", \"Circadian gene variants and breast cancer\"], [\"ald, balanc, actillum, akt, \", \"Extended workdays: Effects of 8-hour and 12-hour rotating shift schedules on performance, subjective alertness, sleep patterns, and psychosocial variables\"], [\"MF, alzheim, autonomi, 6-sulphatoxy-melatonin, \", \"DAGitty: a graphical tool for analyzing causal diagrams\"], [\"'direct, assembl, 20e, assays.result, \", \"Shift Work and Shift Work Sleep Disorder: Clinical and Organizational Perspectives\"], [\"'direct, assembl, 20e, assays.result, \", \"Social jetlag and obesity\"], [\"'direct, assembl, 20e, assays.result, \", \"Shift work and serum 25-OH vitamin D status among factory workers in Northern Italy: Cross-sectional study\"], [\"1-tail, alia, 1beta, 1-week, \", \"Causes\"], [\"'direct, assembl, 20e, assays.result, \", \"Sources of bias in ecological studies of non-rare events\"], [\"1ul1, anti-gonadotrop, antiag, alik, \", \"Wearing blue-blockers in the morning could improve sleep of workers on a permanent night schedule: a pilot study\"], [\"appropri, acebo, aris, assumpt, \", \"A randomized controlled trial of oral melatonin supplementation and breast cancer biomarkers\"], [\"appropri, acebo, aris, assumpt, \", \"Reproducibility of the circadian rhythms of serum cortisol and melatonin in healthy subjects: a study of three different 24-h cycles over six weeks\"], [\"appropri, acebo, aris, assumpt, \", \"Diurnal cortisol rhythm as a predictor of breast cancer survival\"], [\"appropri, acebo, aris, assumpt, \", \"RE: Night Shift Work and Breast Cancer Incidence: Three Prospective Studies and Meta-analysis of Published Studies\"], [\"appropri, acebo, aris, assumpt, \", \"Cosmic Radiation Exposure and Cancer Risk Among Flight Crew\"], [\"1ul1, anti-gonadotrop, antiag, alik, \", \"Daily variation in the concentration of melatonin and 5-methoxytryptophol in the human pineal gland: effect of age and Alzheimer's disease\"], [\"b=2.3, .method, androgen, america, \", \"Urinary melatonin levels, sleep disruption, and risk of prostate cancer in elderly men\"], [\"appropri, acebo, aris, assumpt, \", \"An action spectrum for melatonin suppression: evidence for a novel non-rod, non-cone photoreceptor system in humans\"], [\"b=2.3, .method, androgen, america, \", \"Adaptation of human pineal melatonin suppression by recent photic history\"], [\"-I, approach, +/-sem, abstarct, \", \"Rotating shift work schedules: can we enhance physician adaptation to night shifts?\"], [\"appropri, acebo, aris, assumpt, \", \"Brief morning exposure to bright light improves subjective symptoms and performance in nurses with rapidly rotating shifts\"], [\"appropri, acebo, aris, assumpt, \", \"Mortality of shift and day workers 1956-68\"], [\"-I, approach, +/-sem, abstarct, \", \"Letter in reference to: \\\"Short-term effects of night shift work on breast cancer risk: a cohort study of payroll data\\\"\"], [\"appropri, acebo, aris, assumpt, \", \"Melatonin: Pharmacology, Functions and Therapeutic Benefits\"], [\"appropri, acebo, aris, assumpt, \", \"Incidence of cancer among female flight attendants: a meta-analysis\"], [\"appropri, acebo, aris, assumpt, \", \"Disruption of adolescents' circadian clock: The vicious circle of media use, exposure to light at night, sleep loss and risk behaviors\"], [\"appropri, acebo, aris, assumpt, \", \"Melatonin and Breast Cancer: A Prospective Study\"], [\"1ul1, anti-gonadotrop, antiag, alik, \", \"Reproducibility over 5 years of measurements of 6-sulphatoxymelatonin in urine samples from postmenopausal women\"], [\"arrhythmia, BP, afternoons/even, auditori, \", \"Response\"], [\"SC, 1-back, Cp, ER, \", \"[Melatonin: A chronobiotic with antiaging properties]\"], [\"6-d, analys, 1,25-dihydroxy-vitamin-d, 9-hour, \", \"Evidences of Polymorphism Associated with Circadian System and Risk of Pathologies: A Review of the Literature\"], [\"-I, approach, +/-sem, abstarct, \", \"Unmasking ultradian rhythms in gene expression\"], [\"appropri, acebo, aris, assumpt, \", \"The impact of shift work induced chronic circadian disruption on IL-6 and TNF-alpha immune responses\"], [\"b=2.3, .method, androgen, america, \", \"Aligning work and circadian time in shift workers improves sleep and reduces circadian disruption\"], [\"-I, approach, +/-sem, abstarct, \", \"[Association of genetic variantions of circadian clock genes and risk of breast cancer]\"], [\"appropri, acebo, aris, assumpt, \", \"Review: Peripheral thermometers do not have clinically acceptable accuracy for measuring core body temperature\"], [\"and-accord, avow, automot, W, \", \"Effects of shift rotation and the flexibility of a shift system on daytime alertness and cardiovascular risk factors\"], [\"appropri, acebo, aris, assumpt, \", \"Systematic Literature Review Report: The associations between food, nutrition, physical activity and the risk of skin cancer and underlying mechanisms\"], [\"appropri, acebo, aris, assumpt, \", \"Breast Cancer\"], [\"beadchip, =filter, 9-h, 9-hour, \", \"Ovarian Cancer\"], [\"adaptive-threshold, barrag, 63-year-old, anabol, \", \"Rotating shift work and colorectal cancer among nurses and midwives: A cross-sectional study\"], [\"appropri, acebo, aris, assumpt, \", \"Vitamin D and breast cancer: insights from animal models\"], [\"-I, approach, +/-sem, abstarct, \", \"Disorders of the circadian clock: etiology and possible therapeutic targets\"], [\"-I, approach, +/-sem, abstarct, \", \"Light level and duration of exposure determine the impact of self-luminous tablets on melatonin suppression\"], [\"appropri, acebo, aris, assumpt, \", \"Potential involvement of mt1 receptor and attenuated sex steroid-induced calcium influx in the direct anti-proliferative action of melatonin on androgen-responsive LNCaP human prostate cancer cells\"], [\"b=2.3, .method, androgen, america, \", \"Morning and evening physical exercise differentially regulate the autonomic nervous system during nocturnal sleep in humans\"], [\"-I, approach, +/-sem, abstarct, \", \"Comprehensive assessments of long-term sleep habits in epidemiological study: Validity and reliability of sleep factors questionnaire (SFQ) among Chinese women\"], [\"argument, amh, anxiety-induc, alik, \", \"Mortality among a cohort of U.S. commercial airline cockpit crew\"], [\"appropri, acebo, aris, assumpt, \", \"Disrupting the circadian clock: gene-specific effects on aging, cancer, and other phenotypes\"], [\"appropri, acebo, aris, assumpt, \", \"Correspondence of plasma and salivary cortisol patterns in women with breast cancer\"], [\"and-accord, avow, automot, W, \", \"Chronotype and seasonality: morningness is associated with lower seasonal mood and behavior changes in the Old Order Amish\"], [\"-I, approach, +/-sem, abstarct, \", \"A functional polymorphism in PER3 gene is associated with prognosis in hepatocellular carcinoma\"], [\"appropri, acebo, aris, assumpt, \", \"A Cell-Autonomous Mammalian 12 hr Clock Coordinates Metabolic and Stress Rhythms\"], [\"appropri, acebo, aris, assumpt, \", \"Melatonin after night shift work.\"], [\"adaptive-threshold, barrag, 63-year-old, anabol, \", \"Effects of artificial light at night on human health: A literature review of observational and experimental studies applied to exposure assessment\"], [\"b=2.3, .method, androgen, america, \", \"Associations of circulating and dietary vitamin D with prostate cancer risk: a systematic review and dose-response meta-analysis\"], [\"MF, alzheim, autonomi, 6-sulphatoxy-melatonin, \", \"The validity and feasibility of saliva melatonin assessment in the elderly\"], [\"1ul1, anti-gonadotrop, antiag, alik, \", \"Exposure assessment at 30 000 feet: challenges and future directions\"], [\"1ul1, anti-gonadotrop, antiag, alik, \", \"Airline pilot cosmic radiation and circadian disruption exposure assessment from logbooks and company records\"], [\"1ul1, anti-gonadotrop, antiag, alik, \", \"Roles of Solar UVB and Vitamin D in Reducing Cancer Risk and Increasing Survival\"], [\"5-androstene-3beta, 1x10, 1.7-fold, GG, \", \"Mortality study of fertiliser manufacturers in Iceland\"], [\"1ul1, anti-gonadotrop, antiag, alik, \", \"Do night and shift work increase the risk of cancer?\"], [\"appropri, acebo, aris, assumpt, \", \"Opinion of the French Agency for Food, Environmental  and Occupational Health & Safety  on the \\\"Assessment of the health risks associated with night work\\\"\"], [\"appropri, acebo, aris, assumpt, \", \"[Shift work and breast cancer]\"], [\"'direct, assembl, 20e, assays.result, \", \"Does current scientific evidence support a link between light at night and breast cancer among female night-shift nurses? Review of evidence and implications for occupational and environmental health nurses\"], [\"and-accord, avow, automot, W, \", \"Re: Shift Work and Prostate Cancer Incidence in Industrial Workers: A Historical Cohort Study in a German Chemical Company\"], [\"arrhythmia, BP, afternoons/even, auditori, \", \"Counter-clockwise shift-work and prostate cancer: putting pieces in the puzzle\"], [\"arrhythmia, BP, afternoons/even, auditori, \", \"Circadian disruption, sleep loss, and prostate cancer risk: a systematic review of epidemiologic studies\"], [\"arrhythmia, BP, afternoons/even, auditori, \", \"Influences of early shift work on the diurnal cortisol rhythm, mood and sleep: within-subject variation in male airline pilots.\"], [\"1ul1, anti-gonadotrop, antiag, alik, \", \"Short-term night-shift working mimics the pituitary-adrenocortical dysfunction in chronic fatigue syndrome.\"], [\"arrhythmia, BP, afternoons/even, auditori, \", \"Amplitude of the oral temperature circadian rhythm and the tolerance to shift-work.\"], [\"ald, balanc, actillum, akt, \", \"Impact of an 84-hour workweek on biomarkers for stress, metabolic processes and diurnal rhythm.\"], [\"antineoplast, arthriti, SF, alatt, \", \"Internal desynchronization of circadian rhythms and tolerance of shift work.\"], [\"1ul1, anti-gonadotrop, antiag, alik, \", \"Evaluation of a rapidly rotating shift system for tolerance of nurses to nightwork.\"], [\"arrhythmia, BP, afternoons/even, auditori, \", \"Long-term adjustment of circadian rhythms to a rotating shiftwork schedule.\"], [\"arrhythmia, BP, afternoons/even, auditori, \", \"Sleep and circadian rhythms in mining operators: limited evidence of adaptation to night shifts.\"], [\"0.023.conclus, 14-15-hz, 6-sulftoxymelatonin, PA, \", \"The interference of flexible working times with the circadian temperature rhythm--a predictor of impairment to health and well-being?\"], [\"appropri, acebo, aris, assumpt, \", \"Changes in cortisol secretion during shiftwork: implications for tolerance to shiftwork?\"], [\"artist, analys, abstract, averag, \", \"Nonentrained circadian rhythms of melatonin in submariners scheduled to an 18-hour day.\"], [\"1ul1, anti-gonadotrop, antiag, alik, \", \"Individual differences in the cortisol-awakening response during the first two years of shift work: A longitudinal study in novice police officers.\"], [\"MF, alzheim, autonomi, 6-sulphatoxy-melatonin, \", \"Neuroendocrine recovery after 2-week 12-h day and night shifts: an 11-day follow-up.\"], [\"0.023.conclus, 14-15-hz, 6-sulftoxymelatonin, PA, \", \"The circadian melatonin and cortisol secretion pattern in permanent night shift workers.\"], [\"MF, alzheim, autonomi, 6-sulphatoxy-melatonin, \", \"Sitting Time, Physical Activity and Sleep by Work Type and Pattern-The Australian Longitudinal Study on Women's Health\"], [\"0.023.conclus, 14-15-hz, 6-sulftoxymelatonin, PA, \", \"Skin Temperature Rhythms in Humans Respond to Changes in the Timing of Sleep and Light\"], [\"arrhythmia, BP, afternoons/even, auditori, \", \"Modafinil for excessive sleepiness associated with shift-work sleep disorder\"], [\"MF, alzheim, autonomi, 6-sulphatoxy-melatonin, \", \"Enacting the molecular imperative: How gene-environment interaction research links bodies and environments in the post-genomic age\"], [\"-I, approach, +/-sem, abstarct, \", \"The validity of temperature-sensitive ingestible capsules for measuring core body temperature in laboratory protocols\"], [\"MF, alzheim, autonomi, 6-sulphatoxy-melatonin, \", \"Hypothesis: A perfect day conveys internal time\"], [\"1ul1, anti-gonadotrop, antiag, alik, \", \"Evening light exposure to computer screens disrupts human sleep, biological rhythms, and attention abilities\"], [\"0.023.conclus, 14-15-hz, 6-sulftoxymelatonin, PA, \", \"Adverse Impact of Sleep Restriction and Circadian Misalignment on Autonomic Function in Healthy Young Adults\"], [\"appropri, acebo, aris, assumpt, \", \"Comparisons of three practical field devices used to measure personal light exposures and activity levels\"], [\"'direct, assembl, 20e, assays.result, \", \"Less quick returns--greater well-being\"], [\"appropri, acebo, aris, assumpt, \", \"The effects of chronotype, sleep schedule and light/dark pattern exposures on circadian phase\"], [\"artist, analys, abstract, averag, \", \"A controlled intervention study on the effects of a very rapidly forward rotating shift system on sleep-wakefulness and well-being among young and elderly shift workers\"], [\"5-androstene-3beta, 1x10, 1.7-fold, GG, \", \"Associations among rotating night shift work, sleep and skin cancer in Nurses' Health Study II participants\"], [\"arrhythmia, BP, afternoons/even, auditori, \", \"Evaluation of circadian phenotypes utilizing fibroblasts from patients with circadian rhythm sleep disorders\"], [\"'direct, assembl, 20e, assays.result, \", \"Circadian clock manipulation for cancer prevention and control and the relief of cancer symptoms\"], [\"'direct, assembl, 20e, assays.result, \", \"Machine learning identifies a compact gene set for monitoring the circadian clock in human blood\"], [\"MF, alzheim, autonomi, 6-sulphatoxy-melatonin, \", \"Measuring Light at Night and Melatonin Levels in Shift Workers: A Review of the Literature\"], [\"'direct, assembl, 20e, assays.result, \", \"Cognitive behavioral therapy for shift workers with chronic insomnia\"], [\"'direct, assembl, 20e, assays.result, \", \"Effects of tryptophan-rich breakfast and light exposure during the daytime on melatonin secretion at night\"], [\"'direct, assembl, 20e, assays.result, \", \"Aging related methylation influences the gene expression of key control genes in colorectal cancer and adenoma\"], [\"MF, alzheim, autonomi, 6-sulphatoxy-melatonin, \", \"Measurement and meaning of salivary cortisol: a focus on health and disease in children\"], [\"and-accord, avow, automot, W, \", \"Bias from differential exposure measurement error in a study of flight attendants\"], [\"1ul1, anti-gonadotrop, antiag, alik, \", \"Chronotype modulates sleep duration, sleep quality, and social jet lag in shift-workers\"], [\"1-tail, alia, 1beta, 1-week, \", \"Shiftwork-Mediated Disruptions of Circadian Rhythms and Sleep Homeostasis Cause Serious Health Problems\"], [\"'direct, assembl, 20e, assays.result, \", \"Cancer incidence among male Danish nurses, 1980-2003\"], [\"arrhythmia, BP, afternoons/even, auditori, \", \"Innovative worktime arrangements\"], [\"arrhythmia, BP, afternoons/even, auditori, \", \"Risk factors for skin cancer among Finnish airline cabin crew\"], [\"'direct, assembl, 20e, assays.result, \", \"Effects of day-time exposure to different light intensities on light-induced melatonin suppression at night\"], [\"'direct, assembl, 20e, assays.result, \", \"Effects of electric and magnetic fields from high-power lines on female urinary excretion of 6-sulfatoxymelatonin\"], [\"appropri, acebo, aris, assumpt, \", \"Reataining Home-Base Sleep Hours to Prevent Jet Lag in Connection with a Westward Flight Across Nine Time Zones\"], [\"-I, approach, +/-sem, abstarct, \", \"Serum 25-hydroxyvitamin D and prevention of breast cancer: pooled analysis\"], [\"appropri, acebo, aris, assumpt, \", \"The risk of prostate cancer in pilots: a meta-analysis\"], [\"arrhythmia, BP, afternoons/even, auditori, \", \"Reproductive behaviors and risk of developing breast cancer according to tumor subtype: A systematic review and meta-analysis of epidemiological studies\"], [\"'direct, assembl, 20e, assays.result, \", \"Long-term day-and-night rotating shift work poses a barrier to the normalization of alanine transaminase\"], [\"1-tail, alia, 1beta, 1-week, \", \"Marked 24-h rest/activity rhythms are associated with better quality of life, better response, and longer survival in patients with metastatic colorectal cancer and good performance status\"], [\"appropri, acebo, aris, assumpt, \", \"Zopiclone in insomniac shiftworkers. Evaluation of its hypnotic properties and its effects on mood and work performance\"], [\"1-tail, alia, 1beta, 1-week, \", \"Health and safety protection for chemical industry employees in a rotating shift system: program design and acute injury and illness experience at work\"], [\"-I, approach, +/-sem, abstarct, \", \"RE: Night Shift Work and Breast Cancer Incidence: Three Prospective Studies and Meta-analysis of Published Studies\"], [\"appropri, acebo, aris, assumpt, \", \"Can short-wavelength depleted bright light during single simulated night shifts prevent circadian phase shifts?\"], [\"1ul1, anti-gonadotrop, antiag, alik, \", \"Urinary melatonin: a noninvasive method to follow human pineal function as studied in three experimental conditions\"], [\"argument, amh, anxiety-induc, alik, \", \"Sleep Duration and Disruption and Prostate Cancer Risk: a 23-Year Prospective Study\"], [\"appropri, acebo, aris, assumpt, \", \"Investigating Cortisol Production and Pattern as Mediators in the Relationship Between Shift Work and Cardiometabolic Risk\"], [\"1-tail, alia, 1beta, 1-week, \", \"Estimation methods for human circadian phase by use of peripheral tissues\"], [\"arrhythmia, BP, afternoons/even, auditori, \", \"Short- and long-term health consequences of sleep disruption\"], [\"MF, alzheim, autonomi, 6-sulphatoxy-melatonin, \", \"Risk of melanoma in people with HIV/AIDS in the pre- and post-HAART eras: a systematic review and meta-analysis of cohort studies\"], [\"appropri, acebo, aris, assumpt, \", \"Nutrition and cancer: background and rationale of the European Prospective Investigation into Cancer and Nutrition (EPIC)\"], [\"MF, alzheim, autonomi, 6-sulphatoxy-melatonin, \", \"Analysis of circadian properties and healthy levels of blue light from smartphones at night\"], [\"1-tail, alia, 1beta, 1-week, \", \"6-sulphatoxymelatonin production in breast cancer patients\"], [\"-I, approach, +/-sem, abstarct, \", \"Salivary cortisol measurement in normal-weight, obese and anorexic women: comparison with plasma cortisol\"], [\"6-d, analys, 1,25-dihydroxy-vitamin-d, 9-hour, \", \"Efficacy of a workplace-based weight loss program for overweight male shift workers: the Workplace POWER (Preventing Obesity Without Eating like a Rabbit) randomized controlled trial\"], [\"0.023.conclus, 14-15-hz, 6-sulftoxymelatonin, PA, \", \"The effect of blue-enriched white light on cognitive performances and sleepiness of night-shift workers: A field study\"], [\"MF, alzheim, autonomi, 6-sulphatoxy-melatonin, \", \"The Relationship Between Shift Work and Metabolic Risk Factors: A Systematic Review of Longitudinal Studies\"], [\"MF, alzheim, autonomi, 6-sulphatoxy-melatonin, \", \"Air Travel, Circadian Rhythms/Hormones, and Autoimmunity\"], [\"MF, alzheim, autonomi, 6-sulphatoxy-melatonin, \", \"Association between light exposure at night and nighttime blood pressure in the elderly independent of nocturnal urinary melatonin excretion\"], [\"MF, alzheim, autonomi, 6-sulphatoxy-melatonin, \", \"Cancer incidence in California flight attendants (United States)\"], [\"'direct, assembl, 20e, assays.result, \", \"Effects of bright light exposure during daytime on peripheral clock gene expression in humans\"], [\"'direct, assembl, 20e, assays.result, \", \"Prolonged job strain and subsequent risk of cancer in women - a longitudinal study, based on the Danish Nurse Cohort\"], [\"SC, 1-back, Cp, ER, \", \"Melatonin: pharmacology, functions and therapeutic benefits\"], [\"1ul1, anti-gonadotrop, antiag, alik, \", \"Interdependence of nutrient metabolism and the circadian clock system: Importance for metabolic health\"], [\"MF, alzheim, autonomi, 6-sulphatoxy-melatonin, \", \"Racial differences in the human endogenous circadian period\"], [\"MF, alzheim, autonomi, 6-sulphatoxy-melatonin, \", \"Optimal schedules of light exposure for rapidly correcting circadian misalignment\"], [\"MF, alzheim, autonomi, 6-sulphatoxy-melatonin, \", \"Circadian Disruption and Prostate Cancer Risk: An Updated Review of Epidemiological Evidences\"], [\"MF, alzheim, autonomi, 6-sulphatoxy-melatonin, \", \"Increased frequency of chromosome translocations in airline pilots with long-term flying experience\"], [\"1-tail, alia, 1beta, 1-week, \", \"ROTATING NIGHT SHIFT WORK AND RISK OF BREAST CANCER IN THE NURSES' HEALTH STUDIES\"], [\"'direct, assembl, 20e, assays.result, \", \"Meal Timing Regulates the Human Circadian System\"], [\"1ul1, anti-gonadotrop, antiag, alik, \", \"Association between shift work and risk of prostate cancer: a systematic review and meta-analysis of observational studies\"], [\"5-androstene-3beta, 1x10, 1.7-fold, GG, \", \"Night shift work and breast cancer: a pooled analysis of population-based case-control studies with complete work history\"], [\"'direct, assembl, 20e, assays.result, \", \"State of the evidence 2017: an update on the connection between breast cancer and the environment\"], [\"5-androstene-3beta, 1x10, 1.7-fold, GG, \", \"Risks and protective factors for triple negative breast cancer with a focus on micronutrients and infections\"], [\"0.023.conclus, 14-15-hz, 6-sulftoxymelatonin, PA, \", \"The relationship between night work and breast cancer\"], [\"appropri, acebo, aris, assumpt, \", \"Health consequences of electric lighting practices in the modern world: A report on the National Toxicology Program's workshop on shift work at night, artificial light at night, and circadian disruption\"], [\"anelkul, ala/thr, 4-wk, /h, \", \"Does the association of prostate cancer with night-shift work differ according to rotating vs. fixed schedule? A systematic review and meta-analysis\"], [\"'direct, assembl, 20e, assays.result, \", \"Circadian gene methylation in rotating-shift nurses: a cross-sectional study\"], [\"appropri, acebo, aris, assumpt, \", \"Rotating night work, lifestyle factors, obesity and promoter methylation in BRCA1 and BRCA2 genes among nurses and midwives\"], [\"amateur, afford, 45-day, am-7:00, \", \"Breast cancer screening among shift workers: a nationwide population-based survey in Korea\"], [\"MF, alzheim, autonomi, 6-sulphatoxy-melatonin, \", \"Sleep and Breast Cancer in the Western New York Exposures and Breast Cancer (WEB) Study\"], [\"'direct, assembl, 20e, assays.result, \", \"Epidemiology and aetiological factors of male breast cancer: a ten years retrospective study in eastern Turkey\"], [\"-I, approach, +/-sem, abstarct, \", \"A case\\u2013control study of breast cancer risk in nurses from Northeastern Ontario, Canada\"], [\"artist, analys, abstract, averag, \", \"Risk assessment model for invasive breast cancer in Hong Kong women\"], [\"MF, alzheim, autonomi, 6-sulphatoxy-melatonin, \", \"Sleep deprivation due to shift work\"], [\"0.023.conclus, 14-15-hz, 6-sulftoxymelatonin, PA, \", \"Studies of smoking behavior and the acceptance of interventive measures in shift workers\"], [\"'direct, assembl, 20e, assays.result, \", \"Sleep Quality among Health Care Workers\"], [\"MF, alzheim, autonomi, 6-sulphatoxy-melatonin, \", \"Nutrient intake among female shift workers in a computer factory in Japan\"], [\"=filter, 9-h, 9-hour, 9-month, \", \"Working night shifts affects surgeons' biological rhythm.\"], [\"-I, approach, +/-sem, abstarct, \", \"Racial differences in the association between night shift work and melatonin levels among women.\"], [\"-I, approach, +/-sem, abstarct, \", \"Circadian melatonin profiles during single 24-h shifts in anesthetists.\"], [\"IR, 0.023.conclus, 35-day, IN, \", \"Epidemiology of urinary melatonin in women and its relation to other hormones and night work\"], [\"CV, 9-hour, 26-item, alteration/disturb, \", \"Melatonin rhythms in irregular shift workers.\"], [\"1ul1, anti-gonadotrop, antiag, alik, \", \"Decreased concentration of serum melatonin in nighttime compared with daytime female medical technologists in South Korea\"], [\"CV, 9-hour, 26-item, alteration/disturb, \", \"Adaptation of the circadian rhythm of 6-sulphatoxymelatonin to a shift schedule of seven nights followed by seven days in offshore oil installation workers.\"], [\"'direct, assembl, 20e, assays.result, \", \"Circadian disturbances after night-shift work onboard a naval ship.\"], [\"MF, alzheim, autonomi, 6-sulphatoxy-melatonin, \", \"Night shift work and levels of 6-sulfatoxymelatonin and cortisol in men\"], [\"and-accord, avow, automot, W, \", \"A cross-sectional study of breast cancer biomarkers among shift working nurses\"], [\"appropri, acebo, aris, assumpt, \", \"Adaptation of the melatonin rhythm in human subjects following night-shift work in Antarctica.\"], [\"and-accord, avow, automot, W, \", \"Manipulation of a central circadian clock regulating behavioral and endocrine rhythms with a short-acting benzodiazepine used in the treatment of insomnia\"], [\"appropri, acebo, aris, assumpt, \", \"Establishing a Policy Framework for the Primary Prevention of Occupational Cancer: A Proposal Based on a Prospective Health Policy Analysis\"], [\"MF, alzheim, autonomi, 6-sulphatoxy-melatonin, \", \"Sensitivity analyses for ecological regression\"], [\"MF, alzheim, autonomi, 6-sulphatoxy-melatonin, \", \"Daily Light Exposure Patterns Reveal Phase and Period of the Human Circadian Clock\"], [\"appropri, acebo, aris, assumpt, \", \"Inhibition of androgen-sensitive LNCaP prostate cancer growth in vivo by melatonin: association of antiproliferative action of the pineal hormone with mt1 receptor protein expression\"], [\"and-accord, avow, automot, W, \", \"Cancer mortality among German aircrew: second follow-up\"], [\"appropri, acebo, aris, assumpt, \", \"Functional polymorphisms of circadian positive feedback regulation genes and clinical outcome of Chinese patients with resected colorectal cancer\"], [\"b=2.3, .method, androgen, america, \", \"Smoking among shift workers: More than a confounding factor\"], [\"and-accord, avow, automot, W, \", \"Effect of exposure duration and light spectra on nighttime melatonin suppression in adolescents and adults\"], [\"artist, analys, abstract, averag, \", \"Breast cancer among very young premenopausal women (United States)\"], [\"and-accord, avow, automot, W, \", \"Breast cancer before age 40 years\"], [\"appropri, acebo, aris, assumpt, \", \"Light exposure at night and rotating night shift associated with circadian disruption of 6-sulfatoxy melatonin\"], [\"-I, approach, +/-sem, abstarct, \", \"Shift work: coping with the biological clock\"], [\"and-accord, avow, automot, W, \", \"Time for food: the intimate interplay between nutrition, metabolism, and the circadian clock\"], [\"-I, approach, +/-sem, abstarct, \", \"Circadian disruption and metabolic disease: findings from animal models\"], [\"and-accord, avow, automot, W, \", \"Nightshift work and genome-wide DNA methylation\"], [\"appropri, acebo, aris, assumpt, \", \"Circadian stage-dependent inhibition of human breast cancer metabolism and growth by the nocturnal melatonin signal: consequences of its disruption by light at night in rats and women\"], [\"appropri, acebo, aris, assumpt, \", \"Evening exposure to blue light stimulates the expression of the clock gene PER2 in humans\"], [\"appropri, acebo, aris, assumpt, \", \"Evening exposure to a light-emitting diodes (LED)-backlit computer screen affects circadian physiology and cognitive performance\"], [\"-I, approach, +/-sem, abstarct, \", \"Exposure to light-at-night increases the growth of DMBA-induced mammary adenocarcinomas in rats\"], [\"appropri, acebo, aris, assumpt, \", \"Red meat intake and risk of breast cancer among premenopausal women\"], [\"appropri, acebo, aris, assumpt, \", \"Daytime Blue Light Enhances the Nighttime Circadian Melatonin Inhibition of Human Prostate Cancer Growth\"], [\"MF, alzheim, autonomi, 6-sulphatoxy-melatonin, \", \"Restricted feeding uncouples circadian oscillators in peripheral tissues from the central pacemaker in the suprachiasmatic nucleus\"], [\"appropri, acebo, aris, assumpt, \", \"Effects of daytime exposure to light from blue-enriched light-emitting diodes on the nighttime melatonin amplitude and circadian regulation of rodent metabolism and physiology\"], [\"MF, alzheim, autonomi, 6-sulphatoxy-melatonin, \", \"Circadian and melatonin disruption by exposure to light at night drives intrinsic resistance to tamoxifen therapy in breast cancer\"], [\"MF, alzheim, autonomi, 6-sulphatoxy-melatonin, \", \"The impact of light from computer monitors on melatonin levels in college students\"], [\"appropri, acebo, aris, assumpt, \", \"Mechanisms of breast cancer risk in shift workers: association of telomere shortening with the duration and intensity of night work\"], [\"MF, alzheim, autonomi, 6-sulphatoxy-melatonin, \", \"Chemical Exposures on the Job May Be Linked to Diseases in Nurses\"], [\"appropri, acebo, aris, assumpt, \", \"Self-luminous devices and melatonin suppression in adolescents\"], [\"MF, alzheim, autonomi, 6-sulphatoxy-melatonin, \", \"Effects of light and food schedules on liver and tumor molecular clocks in mice\"], [\"MF, alzheim, autonomi, 6-sulphatoxy-melatonin, \", \"Effects of chronic jet lag on tumor progression in mice\"], [\"b=2.3, .method, androgen, america, \", \"Does architectural lighting contribute to breast cancer?\"], [\"MF, alzheim, autonomi, 6-sulphatoxy-melatonin, \", \"Disruption of circadian coordination and malignant growth\"], [\"b=2.3, .method, androgen, america, \", \"Dim light at night disrupts molecular circadian rhythms and increases body weight\"], [\"b=2.3, .method, androgen, america, \", \"Daily light exposure in morning-type and evening-type individuals\"], [\"b=2.3, .method, androgen, america, \", \"Interactions between cognition and circadian rhythms: attentional demands modify circadian entrainment\"], [\"artist, analys, abstract, averag, \", \"[Role of clock proteins in skin carcinogenesis in 14-month-old SHR mice maintained under disrupted light regimen]\"], [\"b=2.3, .method, androgen, america, \", \"Circadian disruption: comparing humans with mice\"], [\"MF, alzheim, autonomi, 6-sulphatoxy-melatonin, \", \"Shift work and cancer risk: potential mechanistic roles of circadian disruption, light at night, and sleep deprivation\"], [\"b=2.3, .method, androgen, america, \", \"Validity of self-reported exposure to shift work\"], [\"b=2.3, .method, androgen, america, \", \"Different mechanisms of phase delays and phase advances of the circadian rhythm in rat pineal N-acetyltransferase activity\"], [\"MF, alzheim, autonomi, 6-sulphatoxy-melatonin, \", \"SEER Cancer Statistics Review, 1975-2014\"], [\"'direct, assembl, 20e, assays.result, \", \"Shift work\"], [\"appropri, acebo, aris, assumpt, \", \"EUCAN: Breast Cancer\"], [\"'direct, assembl, 20e, assays.result, \", \"Examining mechanisms of breast cancer over the lifecourse: Implications for risk\"], [\"MF, alzheim, autonomi, 6-sulphatoxy-melatonin, \", \"Defense Meteorological Satellite Program (DMSP)\"], [\"0.023.conclus, 14-15-hz, 6-sulftoxymelatonin, PA, \", \"Breast cancer among shift workers: results of the WOLF longitudinal cohort study\"], [\"'direct, assembl, 20e, assays.result, \", \"Self-reported shift work, recall bias, and belief about disease causation in a case-control study of breast cancer\"], [\"'direct, assembl, 20e, assays.result, \", \"Entrainment of peripheral clock genes by cortisol\"], [\"'direct, assembl, 20e, assays.result, \", \"Estimating cancer latency times using a Weibull model\"], [\"'direct, assembl, 20e, assays.result, \", \"Workshop: Shift Work at Night, Artificial Light at Night, and Circadian Disruption\"], [\"MF, alzheim, autonomi, 6-sulphatoxy-melatonin, \", \"Effects of caffeine on skin and core temperatures, alertness, and recovery sleep during circadian misalignment\"], [\"'direct, assembl, 20e, assays.result, \", \"High-fat feeding alters the clock synchronization to light\"], [\"'direct, assembl, 20e, assays.result, \", \"Press Release on The Nobel Prize in Physiology or Medicine 2017\"], [\"'direct, assembl, 20e, assays.result, \", \"A new approach to understanding the impact of circadian disruption on human health\"], [\"appropri, acebo, aris, assumpt, \", \"Quantifying light-dependent circadian disruption in humans and animal models\"], [\"1ul1, anti-gonadotrop, antiag, alik, \", \"Differential resynchronisation of circadian clock gene expression within the suprachiasmatic nuclei of mice subjected to experimental jet lag\"], [\"ald, balanc, actillum, akt, \", \"Phase shift magnitude and direction determine whether Siberian hamsters reentrain to the photocycle\"], [\"arrhythmia, BP, afternoons/even, auditori, \", \"Internal desynchronization in a model of night-work by forced activity in rats\"], [\"arrhythmia, BP, afternoons/even, auditori, \", \"Racial/ethnic variation in clinical presentation, treatment, and survival among breast cancer patients under age 35\"], [\"appropri, acebo, aris, assumpt, \", \"Nighttime dim light exposure alters the responses of the circadian system\"], [\"-I, approach, +/-sem, abstarct, \", \"Surveillance, Epidemiology, and End Results Program\"], [\"=filter, 9-h, 9-hour, 9-month, \", \"Circadian photoreception: ageing and the eye's important role in systemic health\"], [\"MF, alzheim, autonomi, 6-sulphatoxy-melatonin, \", \"Shift work and endocrine disorders\"], [\"b=2.3, .method, androgen, america, \", \"Associations of urinary 6-sulfatoxymelatonin with demographics, body mass, sex steroids, and lifestyle factors in preschool Japanese children\"], [\"artist, analys, abstract, averag, \", \"Daily profiles of light exposure and evening use of light-emitting devices in young adults complaining of a delayed sleep schedule\"], [\"-I, approach, +/-sem, abstarct, \", \"Experimental chronic jet lag promotes growth and lung metastasis of Lewis lung carcinoma in C57BL/6 mice\"], [\"-I, approach, +/-sem, abstarct, \", \"Effects of experimental chronic jet lag on hematological and immune parameters in mice\"], [\"and-accord, avow, automot, W, \", \"Resetting central and peripheral circadian oscillators in transgenic rats\"], [\"appropri, acebo, aris, assumpt, \", \"Sensitivity of the human circadian pacemaker to nocturnal light: melatonin phase resetting and suppression\"], [\"appropri, acebo, aris, assumpt, \", \"Night shift work and inflammatory markers in male workers aged 20-39 in a display manufacturing company\"], [\"appropri, acebo, aris, assumpt, \", \"Eating frequency and risk of colorectal cancer\"], [\"0.023.conclus, 14-15-hz, 6-sulftoxymelatonin, PA, \", \"The effect of shift rotation on variations of cortisol, fatigue and sleep in sound engineers\"], [\"MF, alzheim, autonomi, 6-sulphatoxy-melatonin, \", \"Eating frequency and colon cancer risk\"], [\"MF, alzheim, autonomi, 6-sulphatoxy-melatonin, \", \"Chronobiology International\"], [\"MF, alzheim, autonomi, 6-sulphatoxy-melatonin, \", \"Circadian coordination of cancer growth and metastatic spread\"], [\"-I, approach, +/-sem, abstarct, \", \"Aberrant light directly impairs mood and learning through melanopsin-expressing neurons.\"], [\"appropri, acebo, aris, assumpt, \", \"Chronobiologic dynamics of delta 5-3 beta-hydroxysteroids and glucocorticoids in rat brain and plasma and human plasma.\"], [\"appropri, acebo, aris, assumpt, \", \"Macular Carotenoid Supplementation Improves Visual Performance, Sleep Quality, and Adverse Physical Symptoms in Those with High Screen Time Exposure\"], [\"1ul1, anti-gonadotrop, antiag, alik, \", \"Examining Exposure Assessment in Shift Work Research: A Study on Depression Among Nurses\"], [\"MF, alzheim, autonomi, 6-sulphatoxy-melatonin, \", \"Timing of light exposure affects mood and brain circuits\"], [\"1ul1, anti-gonadotrop, antiag, alik, \", \"Night Shift Work and Its Health Effects on Nurses\"], [\"0.023.conclus, 14-15-hz, 6-sulftoxymelatonin, PA, \", \"Disruption of circadian rhythms by light during day and night\"], [\"'direct, assembl, 20e, assays.result, \", \"Sleep duration as a mediator between an alternating day and night shift work schedule and metabolic syndrome among female hospital employees\"], [\"artist, analys, abstract, averag, \", \"Altered Circadian Rhythms and Breast Cancer: From the Human to the Molecular Level\"], [\"MF, alzheim, autonomi, 6-sulphatoxy-melatonin, \", \"Action spectrum for melatonin regulation in humans: evidence for a novel circadian photoreceptor\"], [\"-I, approach, +/-sem, abstarct, \", \"Outdoor light at night and the prevalence of depressive symptoms and suicidal behaviors: A cross-sectional study in a nationally representative sample of Korean adults\"], [\"1ul1, anti-gonadotrop, antiag, alik, \", \"The impact of daytime light exposures on sleep and mood in office workers\"], [\"2400h, 24-26-hr, 18-oh-deoxycorticosteron, 38-h, \", \"Out of the lab and into the bathroom: evening short-term exposure to conventional light suppresses melatonin and increases alertness perception\"], [\"appropri, acebo, aris, assumpt, \", \"Evaluation of melatonin and AFMK levels in women with breast cancer\"], [\"MF, alzheim, autonomi, 6-sulphatoxy-melatonin, \", \"Light at night, chronodisruption, melatonin suppression, and cancer risk: a review\"], [\"MF, alzheim, autonomi, 6-sulphatoxy-melatonin, \", \"Blue blocker glasses as a countermeasure for alerting effects of evening light-emitting diode screen exposure in male teenagers\"], [\"and-accord, avow, automot, W, \", \"Meta-analyses of vitamin D intake, 25-hydroxyvitamin D status, vitamin D receptor polymorphisms, and colorectal cancer risk\"], [\"b=2.3, .method, androgen, america, \", \"Individual differences in tolerance to shift work-a systematic review\"], [\"'direct, assembl, 20e, assays.result, \", \"Frequency and Circadian Timing of Eating May Influence Biomarkers of Inflammation and Insulin Resistance Associated with Breast Cancer Risk\"], [\"appropri, acebo, aris, assumpt, \", \"Increased sensitivity of the circadian system to light in early/mid-puberty\"]], \"hoverlabel\": {\"namelength\": 0}, \"hovertemplate\": \"0=%{x}<br>1=%{y}<br>2=%{z}<br>top words=%{customdata[0]}<br>Title=%{customdata[1]}<br>Year=%{marker.color}\", \"legendgroup\": \"\", \"marker\": {\"color\": [2012, 1987, 1998, 1986, 2009, 1999, 1994, 2008, 1993, 2015, 2006, 2010, 1986, 1978, 2013, 1993, 1993, 1989, 2010, 2003, 1993, 1998, 2016, 2008, 2015, 2008, 2013, 2002, 2012, 2007, 2013, 2006, 2002, 2006, 2013, 2016, 2014, 2009, 2012, 2012, 1979, 2011, 2007, 2015, 2015, 2001, 2015, 2015, 1977, 2013, 2015, 2011, 2007, 2014, 2013, 2010, 2014, 1991, 2001, 2014, 2010, 2014, 2014, 2016, 2002, 2009, 2014, 2016, 2008, 2010, 2003, 2014, 2011, 2009, 2007, 2014, 2014, 2010, 2015, 2013, 2015, 2014, 2014, 2012, 2011, 2013, 2012, 2013, 2014, 2010, 2011, 2004, 2015, 2014, 2016, 2009, 2006, 2015, 2011, 2009, 2002, 2015, 2007, 2012, 2014, 2010, 2001, 2011, 2015, 2013, 2012, 2015, 2002, 2011, 2014, 2007, 2002, 2004, 2015, 2012, 2010, 2001, 2013, 2002, 2011, 1998, 2005, 2013, 2007, 2013, 2008, 2014, 2012, 2011, 2005, 2012, 2013, 2012, 2012, 2010, 2016, 2015, 2001, 2006, 2013, 2013, 2013, 2016, 2011, 2015, 2013, 2008, 2013, 2014, 2012, 2015, 2015, 1969, 1969, 1968, 1968, 2015, 2012, 2011, 2016, 2015, 2006, 2011, 2005, 2007, 1989, 2017, 2000, 1997, 2002, 1975, 2001, 1977, 2010, 1987, 1979, 1979, 1965, 1973, 1971, 1979, 1979, 1973, 1972, 1973, 1972, 1972, 1972, 1973, 1973, 1972, 1974, 1992, 2004, 1989, 2016, 1988, 1977, 2005, 1977, 1995, 1984, 1970, 1971, 1978, 1996, 1977, 1983, 2012, 1983, 1981, 1981, 2013, 2013, 2013, 1975, 1984, 1983, 1994, 2012, 2012, 1999, 1999, 1976, 1999, 1976, 1999, 1985, 1990, 1997, 1999, 1999, 1999, 1999, 2000, 1999, 1999, 2000, 2000, 2000, 2000, 2000, 2000, 1997, 2000, 1999, 2000, 1975, 2000, 1975, 2000, 2001, 1999, 2000, 2001, 2000, 2000, 2000, 2001, 2001, 2000, 1975, 2000, 2001, 1996, 1997, 1997, 2001, 2001, 2001, 2002, 2002, 2002, 2002, 2003, 2003, 2003, 1998, 2003, 1976, 1991, 1976, 1992, 2003, 1992, 2003, 1963, 2003, 1992, 2001, 2001, 2001, 2003, 2003, 1992, 2003, 2004, 2005, 2004, 1992, 2005, 2004, 2005, 2004, 2005, 2004, 2006, 2005, 2005, 2005, 2005, 2005, 2006, 2005, 2006, 2005, 1991, 2006, 2006, 2006, 2006, 2006, 2006, 2007, 2007, 2006, 2006, 2006, 1990, 2008, 2006, 2006, 2007, 2006, 2007, 2006, 1991, 2007, 2007, 2007, 2007, 2007, 2007, 1991, 2007, 1991, 2007, 2007, 2007, 1991, 2008, 2008, 2008, 1975, 1991, 2008, 2008, 1991, 2008, 1976, 2008, 2008, 2008, 2008, 2008, 1991, 2008, 1991, 2008, 2008, 2009, 2009, 2009, 2009, 2009, 2009, 2009, 2009, 2009, 2012, 2009, 2009, 2009, 2010, 2010, 1991, 1991, 2010, 1978, 2010, 2010, 2010, 2010, 1990, 2011, 2010, 2011, 1990, 1990, 2011, 2011, 2011, 1990, 2011, 2011, 1990, 2011, 1990, 2011, 2011, 2012, 2012, 2011, 2011, 1990, 2011, 2011, 2011, 2012, 1979, 2011, 1990, 2012, 2012, 2012, 2012, 2012, 2012, 2013, 2012, 2013, 2011, 2012, 2012, 2012, 2012, 2012, 2013, 1977, 1978, 2013, 2012, 1990, 1975, 2013, 1990, 2013, 1990, 2013, 1990, 2013, 2013, 2013, 2015, 2013, 2014, 2014, 2014, 2014, 2014, 2014, 2014, 1984, 2014, 2014, 2014, 2014, 1980, 1981, 1978, 2014, 2014, 2014, 1985, 2014, 1985, 2014, 2014, 2014, 2014, 2014, 2015, 2015, 1989, 2015, 2015, 2016, 2015, 2015, 2015, 1989, 2015, 2015, 2015, 2015, 2015, 2016, 1989, 1989, 1985, 2016, 2016, 2016, 1986, 2015, 2015, 1989, 2016, 1989, 1990, 2015, 1968, 1973, 1989, 1974, 1974, 1979, 2017, 2016, 1988, 1988, 1974, 1988, 1987, 1987, 1988, 1988, 1988, 1988, 1988, 1988, 1987, 1987, 1988, 1973, 1972, 1986, 1986, 1987, 1986, 1986, 1984, 1985, 1985, 1972, 1973, 1978, 1985, 1985, 1979, 1985, 1973, 1972, 1973, 1973, 1980, 1984, 1984, 1984, 1984, 1982, 1982, 1981, 1983, 1984, 1983, 1980, 1980, 1982, 1983, 1982, 1978, 1982, 1978, 1981, 1981, 1982, 1978, 1982, 1981, 1980, 1978, 1982, 1978, 1980, 1980, 1995, 1995, 1995, 1995, 1995, 1995, 1995, 1994, 1995, 1995, 1994, 1994, 1994, 1993, 1996, 1994, 1993, 1993, 1993, 1996, 1993, 1993, 1993, 1993, 1996, 1995, 1993, 1995, 1996, 1995, 1996, 1996, 1996, 1996, 1996, 1997, 1996, 1997, 1997, 1997, 1997, 1997, 1976, 1998, 1997, 1998, 1998, 1998, 1998, 1998, 1998, 1998, 1998, 1998, 1998, 1998, 1998, 1998, 1998, 1998, 2007, 2013, 2008, 2014, 2000, 2010, 2008, 2012, 1996, 2013, 1998, 2007, 2010, 2018, 2018, 1992, 2018, 2018, 2018, 2018, 2018, 2018, 2017, 2018, 2018, 2018, 2018, 2018, 2018, 2017, 2014, 2010, 2018, 2017, 2012, 2001, 2018, 1998, 2017, 2010, 2010, 2016, 2016, 2017, 2013, 2017, 1999, 2000, 1989, 2002, 1999, 2004, 2017, 1996, 2015, 1995, 2012, 1997, 1996, 2016, 1994, 2002, 2005, 1992, 2014, 2013, 2016, 2011, 1998, 1981, 2012, 1992, 2010, 2009, 2015, 2012, 1998, 1995, 1998, 2007, 1984, 2009, 1998, 2004, 2001, 2005, 1979, 1981, 1996, 1984, 1993, 2014, 1997, 1998, 2010, 2002, 1996, 2005, 1997, 2014, 2015, 2013, 2012, 2015, 2015, 2009, 2007, 2016, 2008, 1980, 2004, 2006, 2007, 2012, 2003, 1992, 2009, 1999, 2009, 2008, 2001, 2006, 1990, 2006, 2012, 2011, 1998, 1977, 2007, 1985, 1973, 2014, 1997, 2011, 1999, 2009, 1990, 2012, 2015, 2001, 2015, 1989, 1982, 2005, 1997, 2005, 1995, 2007, 2002, 2014, 2007, 2004, 2003, 2007, 2015, 2003, 2004, 1984, 1983, 2007, 1990, 1993, 1999, 1990, 2010, 1980, 1998, 1990, 1989, 2012, 2016, 1997, 2009, 2016, 1985, 2002, 2005, 2013, 2009, 2004, 1994, 1983, 1998, 2001, 1983, 2011, 2008, 2006, 1996, 1997, 2002, 1996, 1988, 2002, 1995, 2010, 1982, 1982, 1995, 1987, 1990, 1989, 2011, 2008, 1999, 2009, 2015, 2015, 2012, 2013, 1984, 2013, 2016, 1983, 2015, 1995, 1999, 2014, 1985, 2007, 2014, 1995, 2010, 2006, 1981, 2008, 1995, 2002, 2007, 1995, 2000, 1986, 1983, 2011, 2015, 1979, 2000, 2014, 1985, 2002, 2007, 2000, 2015, 2012, 1989, 1997, 2013, 1999, 1990, 1979, 1976, 1994, 1990, 1988, 2016, 1982, 1987, 1984, 1981, 1989, 1991, 1992, 2017, 1995, 2002, 1988, 2014, 2008, 2001, 1993, 2012, 2013, 1993, 1998, 2006, 1994, 2007, 2013, 2000, 1995, 2004, 1988, 1988, 2013, 1987, 1990, 1978, 2012, 1993, 1976, 2007, 2007, 2016, 2008, 2014, 2008, 1978, 2008, 2005, 1998, 2005, 1981, 2006, 2015, 2008, 2005, 2004, 2012, 2011, 1978, 1998, 1983, 2013, 1998, 2000, 2005, 1991, 2009, 1990, 2007, 1995, 2012, 2010, 2001, 1997, 1996, 2015, 1997, 1995, 1995, 2001, 2007, 1992, 2015, 2004, 2014, 2014, 1981, 1985, 2009, 1977, 2008, 2000, 2000, 2006, 2012, 2013, 1981, 2017, 2011, 2011, 2013, 2001, 1993, 1997, 2005, 2012, 2015, 2013, 2009, 2011, 2009, 2001, 2016, 2015, 2010, 2004, 2002, 2014, 2015, 2005, 2010, 2012, 2009, 2012, 2013, 2004, 2012, 2005, 2010, 2012, 2015, 2010, 2002, 2014, 2009, 2015, 2002, 2013, 2009, 2013, 2013, 2010, 2015, 2005, 2001, 2010, 2004, 2011, 2013, 2007, 2003, 2010, 2013, 2014, 2002, 2009, 2012, 2011, 2002, 2002, 1992, 2015, 2012, 2014, 1997, 2016, 2015, 2008, 1999, 2016, 2012, 2012, 2009, 2015, 1970, 2016, 2016, 2012, 2014, 2012, 2013, 2010, 2013, 2014, 2010, 2014, 2011, 1987, 2013, 2012, 2015, 2003, 2011, 2014, 2011, 2003, 1992, 2005, 1970, 1986, 2015, 1993, 1999, 1995, 2002, 2002, 2006, 1992, 1992, 2004, 2005, 2004, 2007, 1991, 2007, 2007, 1991, 2009, 2008, 2009, 2010, 1990, 2011, 1996, 2009, 1990, 2012, 2011, 2014, 2015, 2013, 1998, 2015, 2016, 1987, 1986, 1975, 1983, 1985, 2016, 1983, 1995, 1996, 1998, 2016, 2016, 1990, 2003, 2010, 2009, 2009, 2013, 2015, 2013, 2005, 2014, 2013, 1987, 2016, 2016, 2015, 2016, 2012, 2013, 2013, 2013, 2015, 2002, 2010, 2010, 1994, 2004, 1996, 1992, 1997, 1999, 1996, 1990, 1997, 2013, 2004, 2011, 2012, 2012, 2013, 2015, 1999, 2014, 1982, 2011, 2001, 2010, 2004, 2006, 2015, 2013, 2000, 1980, 1993, 2012, 1993, 2002, 1997, 2008, 2012, 2008, 2012, 2014, 2016, 2011, 2013, 2002, 2015, 2008, 2014, 2008, 1985, 2003, 2016, 1988, 2001, 2015, 2010, 2005, 1975, 2002, 2016, 1992, 2011, 2012, 1986, 2012, 1992, 2011, 1997, 1996, 1998, 2015, 2011, 2015, 2006, 2013, 2015, 2009, 1988, 1968, 2004, 2010, 2016, 2014, 2015, 2010, 2013, 2016, 2017, 2010, 1998, 2013, 2017, 2017, 2017, 2017, 2008, 1997, 1992, 2016, 2007, 2002, 1999, 2001, 2014, 2001, 2016, 2017, 2012, 2011, 2017, 2016, 2010, 2009, 1976, 2017, 2009, 1999, 2017, 2013, 2014, 2011, 2015, 2017, 2007, 2010, 2016, 1992, 2011, 2017, 2013, 2011, 2007, 2015, 2017, 2011, 2013, 2010, 2012, 2004, 2015, 2015, 2003, 2001, 1994, 1999, 2017, 1999, 2015, 2001, 2017, 2002, 2017, 2007, 1996, 2014, 2010, 2016, 2007, 2014, 2015, 1987, 1987, 1996, 2012, 2015, 2017, 2015, 2004, 2013, 2009, 2016, 2016, 2015, 2017, 2014, 1997, 2002, 1996, 2017, 2002, 2018, 2017, 2017, 1994, 2016, 2002, 1976, 2001, 2017, 2017, 2017, 2013, 2004, 1998, 2014, 1985, 2012, 2008, 2010, 2017, 1992, 1992, 2012, 2014, 2017, 2017, 2012, 1982, 1983, 2016, 2017, 2012, 2007, 2016, 1995, 2017, 2003, 2005, 2010, 2015, 2017, 2010, 2014, 2017, 1989, 2011, 2017, 2012, 2015, 1976, 2005, 2009, 2012, 2003, 2000, 2017, 2004, 1990, 2015, 2001, 2004, 1997, 2011, 1972, 2017, 2017, 2006, 2017, 2004, 2003, 2017, 2008, 2016, 2017, 2010, 2015, 2013, 2016, 2008, 2006, 2016, 2016, 2017, 2004, 2002, 2013, 2000, 2015, 2017, 2014, 2011, 2014, 2015, 2012, 2017, 1999, 2015, 2011, 2003, 2013, 2011, 2016, 1990, 2015, 2016, 2010, 2012, 2016, 2011, 2012, 2013, 1996, 1979, 2006, 1989, 1994, 1981, 2012, 2008, 1998, 1999, 2015, 2015, 1993, 2017, 2017, 2005, 2016, 2011, 2017, 2017, 2016, 2013, 2010, 2014, 2006, 2017, 2017, 2009, 2017, 2017, 2012, 2014, 2016, 2008, 2015, 2013, 2018, 2010, 1998, 2013, 2015, 2001, 2009, 2011, 2015, 2016, 2014, 2000, 1989, 2009, 2017, 2017, 2006, 2016, 2018, 2016, 2017, 2014, 1992, 2015, 1990, 2001, 2011, 2017, 2016, 2017, 2014, 2002, 2017, 2017, 2016, 2016, 2009, 2014, 2017, 2009, 2017, 2017, 2018, 2018, 2017, 2018, 2018, 2017, 2018, 2018, 2017, 2017, 2018, 2001, 2015, 2016, 2015, 1997, 2013, 2001, 2015, 2013, 2011, 2004, 1993, 2016, 2002, 2000, 2013, 2012, 1991, 1988, 2017, 2003, 2017, 2001, 2010, 2012, 2006, 2018, 2003, 2009, 2013, 2010, 2015, 2010, 2015, 2009, 2006, 2011, 2006, 2006, 2015, 2000, 2016, 2014, 2011, 2017, 2007, 2016, 2005, 2004, 2006, 2006, 2013, 2007, 2009, 2016, 2013, 2013, 2017, 1989, 2017, 2010, 2012, 2012, 2015, 2013, 2017, 2012, 2014, 2016, 2014, 2008, 2017, 2008, 2014, 2002, 1998, 2008, 2003, 2010, 2018, 2008, 2015, 2013, 2018, 2012, 2010, 2000, 2000, 2016, 2013, 2008, 2004, 2014, 1999, 2012, 1987, 2017, 2018, 2017, 2017, 2017, 2018, 2018, 2001, 2018, 2017, 2013, 2018, 2007, 2015, 2011, 2011, 2015, 2015], \"coloraxis\": \"coloraxis\", \"size\": 3, \"symbol\": \"circle\"}, \"mode\": \"markers\", \"name\": \"\", \"scene\": \"scene\", \"showlegend\": false, \"type\": \"scatter3d\", \"x\": [8.704293251037598, -4.139036655426025, 7.650305271148682, -7.104928493499756, 6.411772727966309, -3.2764980792999268, -4.386070728302002, 7.97554349899292, -8.911322593688965, 10.401493072509766, 10.963166236877441, 7.820949554443359, -10.714333534240723, 9.287507057189941, -2.6493091583251953, 1.3593554496765137, -5.216958522796631, 9.260420799255371, -5.338125705718994, 8.22372817993164, -3.502052068710327, -4.633961200714111, 8.024502754211426, -0.7401571273803711, -4.407985210418701, 4.002875328063965, 7.609097957611084, 6.322536945343018, -4.974484443664551, 6.118634223937988, 9.185059547424316, 0.5363003015518188, 3.2644591331481934, -0.8197633028030396, 4.441958427429199, 9.057755470275879, -2.898268938064575, 6.100154876708984, 3.7147397994995117, -5.475306987762451, 7.941522121429443, 9.710785865783691, 7.300088405609131, 7.197044849395752, 2.926180124282837, 9.807209014892578, 6.610568523406982, 3.609334945678711, -2.082207202911377, 2.089789867401123, 9.858685493469238, 8.637030601501465, 9.349239349365234, 6.955753326416016, 1.3087238073349, 3.9416370391845703, -10.64655590057373, 0.21579325199127197, 8.643573760986328, -4.835570812225342, -0.2080356329679489, -10.294814109802246, -4.382105827331543, 11.678729057312012, -3.835296630859375, 0.028626900166273117, -6.447026252746582, 0.5991773009300232, -8.917738914489746, 9.837360382080078, -4.1217780113220215, -0.7275242209434509, 7.235662460327148, 8.8478364944458, 3.1240601539611816, 8.680147171020508, -5.370822906494141, -8.592625617980957, 8.16666030883789, -4.210043907165527, -4.728640079498291, 4.234502792358398, -1.735705852508545, -6.537783145904541, 5.227458477020264, 3.0581753253936768, -4.91455078125, -4.829914569854736, -10.160661697387695, -2.1990044116973877, 5.137204647064209, 3.126237630844116, 2.6978204250335693, -9.728181838989258, 9.372896194458008, 8.156758308410645, -4.171968936920166, 0.8437086343765259, -4.498662948608398, 9.532278060913086, 0.5843117237091064, -2.9975130558013916, -4.835180759429932, 6.222352504730225, -1.0079166889190674, 7.903469085693359, -11.363837242126465, -5.4709296226501465, 10.509133338928223, -2.9520301818847656, -2.3307533264160156, -5.922856330871582, -3.050243616104126, 2.1391897201538086, -9.037835121154785, 9.864664077758789, -0.8380253911018372, -3.8738927841186523, -15.056793212890625, -3.677381992340088, 5.943123817443848, -7.023334503173828, 6.287808895111084, -5.114404201507568, -0.5484601855278015, -9.722082138061523, -10.38003921508789, -2.2070152759552, 9.977727890014648, 8.366536140441895, -6.541074752807617, -3.974895715713501, -5.235136985778809, 2.27793550491333, 1.6032239198684692, 4.5706562995910645, 11.609342575073242, -8.142577171325684, -8.793384552001953, -5.305873394012451, -3.0287387371063232, 8.551271438598633, 11.159469604492188, 9.330660820007324, 4.4058098793029785, 9.082897186279297, -8.698212623596191, 3.7944674491882324, 8.971710205078125, -9.095927238464355, -2.389906167984009, 11.384889602661133, 8.537663459777832, 6.745549201965332, 10.006952285766602, -3.3093502521514893, 8.728399276733398, -2.436213493347168, -6.585869312286377, -1.2988998889923096, 8.54691219329834, 4.368927478790283, 9.645901679992676, -0.7643964290618896, -2.901024341583252, -2.183321714401245, -1.3305087089538574, -4.217739582061768, -9.883172988891602, -9.085284233093262, -10.80538272857666, 11.285765647888184, 11.723870277404785, -9.614691734313965, 0.49865543842315674, -2.406705379486084, 7.431277751922607, 11.219358444213867, -6.64812707901001, -3.3857481479644775, 10.581241607666016, -2.2475547790527344, -8.731470108032227, -3.242252826690674, 5.280158996582031, 2.524336338043213, -5.849674701690674, -6.258542537689209, -4.001349449157715, -2.10754656791687, -3.9397666454315186, -2.898773431777954, -1.5352685451507568, -5.655934810638428, 3.9558637142181396, 2.0238595008850098, 0.2708616554737091, -8.079764366149902, 2.11857533454895, -4.304440975189209, -12.964685440063477, -3.9190590381622314, -11.84390926361084, 0.8426122665405273, -14.758136749267578, -0.7954936623573303, 3.9873833656311035, 0.34228798747062683, -1.374157428741455, 3.0574941635131836, 11.943294525146484, 7.333589553833008, 9.995342254638672, 7.7137980461120605, -16.43037223815918, -10.341713905334473, -8.108461380004883, -7.886123180389404, 11.024674415588379, -10.350310325622559, 9.229813575744629, 11.246037483215332, -2.2687323093414307, -1.634841799736023, 11.845621109008789, -1.006102204322815, -4.939021110534668, 10.044904708862305, 11.156021118164062, -4.1476731300354, 9.929534912109375, 12.0965576171875, 10.844503402709961, 10.08357048034668, 6.382577896118164, 3.8883538246154785, 4.867395401000977, -5.8133745193481445, -14.135479927062988, 9.64412784576416, 0.7266406416893005, -5.790762424468994, 10.424834251403809, -8.651074409484863, 9.508780479431152, 10.879097938537598, -9.727805137634277, -6.489939212799072, 8.235078811645508, 9.313289642333984, 9.581745147705078, -2.306135416030884, 1.6822539567947388, 0.8935791254043579, 5.449260234832764, 12.773249626159668, -11.362814903259277, 0.24054373800754547, -10.777135848999023, 6.676252841949463, 11.92141056060791, -4.5483293533325195, 9.791319847106934, -4.7307891845703125, -4.98400354385376, 8.259355545043945, -15.083325386047363, 3.3683886528015137, 3.182914972305298, 2.757110834121704, -10.335015296936035, 6.556894779205322, -5.131139755249023, 3.9977493286132812, -13.309853553771973, 9.058048248291016, 10.439139366149902, 10.918863296508789, -3.4275481700897217, 4.699059963226318, 0.013883802108466625, 10.501364707946777, -5.297064781188965, 10.492212295532227, -1.4585517644882202, -2.7111196517944336, 3.834040880203247, 0.48511141538619995, 9.037958145141602, -5.328594207763672, 8.743608474731445, -5.403300762176514, 9.079185485839844, -15.596874237060547, 4.791772842407227, 10.054024696350098, -6.236945629119873, -9.924323081970215, -9.393321990966797, 1.0744367837905884, 0.15360578894615173, -13.961686134338379, -13.280682563781738, 10.252801895141602, -12.939318656921387, 1.2869518995285034, 10.324501037597656, 11.638636589050293, -14.543722152709961, -3.1503140926361084, -11.235909461975098, -11.585132598876953, -8.55416202545166, 0.8428404331207275, 10.49836254119873, -7.576706886291504, -4.735044002532959, -10.860001564025879, 0.37045204639434814, -15.662259101867676, 11.813536643981934, 3.370579242706299, 1.4039051532745361, 9.649808883666992, 8.338691711425781, -4.189075469970703, 4.201066970825195, -8.74294662475586, -11.4763765335083, -12.9406099319458, -0.6227892637252808, -10.88197135925293, -6.377798080444336, 8.63202953338623, -4.715816497802734, -9.187231063842773, -5.9678215980529785, 3.51839017868042, -2.270179271697998, -5.0625386238098145, -4.5023956298828125, 5.576223850250244, 3.5072007179260254, 4.621981143951416, -1.6956504583358765, -1.7235112190246582, -10.77491283416748, 2.9417619705200195, 6.3698835372924805, -5.653842926025391, -10.669624328613281, -15.279488563537598, 0.3474824130535126, 11.274761199951172, -1.301908254623413, -1.811741828918457, 9.129926681518555, 4.282683849334717, 8.345787048339844, -2.5581209659576416, 0.4672568738460541, 0.8737252354621887, 8.585498809814453, -9.995361328125, 8.43846321105957, -14.880515098571777, -10.831310272216797, 8.861303329467773, 5.7713117599487305, 11.611976623535156, -6.07636833190918, -9.167946815490723, 10.273894309997559, -11.454174041748047, 5.5740180015563965, -2.225383758544922, -8.53625774383545, -5.092057228088379, -5.843944072723389, -3.76145076751709, -11.036060333251953, -3.410979986190796, -12.888411521911621, 0.7076561450958252, 0.6089787483215332, 10.359701156616211, 3.2103991508483887, 7.413571357727051, 5.3976216316223145, 8.852766990661621, -10.653022766113281, -6.56152868270874, 4.745137691497803, 4.786319255828857, -3.948618173599243, 2.341693639755249, -5.385477066040039, -10.205418586730957, -8.568754196166992, -6.004495620727539, -2.8084990978240967, -2.728638172149658, -5.564912796020508, -2.7578349113464355, -2.9329957962036133, 7.670142650604248, -4.693630695343018, -6.620129108428955, -1.9672373533248901, -6.169509410858154, 6.344236850738525, -10.914607048034668, -6.278210163116455, -4.737155437469482, 0.886767566204071, -4.846341609954834, -5.8609209060668945, -9.61755084991455, -4.9751434326171875, -4.977700233459473, -6.672818183898926, -3.770134449005127, -7.465539455413818, -8.80303955078125, -5.003715991973877, -3.8358302116394043, -4.297212600708008, -2.8415534496307373, 0.8750181794166565, -7.09772253036499, -4.941472053527832, -10.523824691772461, -3.441399097442627, -3.713352918624878, 1.6033250093460083, 12.632524490356445, 8.330267906188965, -6.789255619049072, 8.7579927444458, -6.230187892913818, -6.067681789398193, -7.761486053466797, -1.7700401544570923, -1.1537562608718872, -2.0972535610198975, -6.832413196563721, -2.8766820430755615, -1.4106472730636597, -3.7101919651031494, 7.411334037780762, -5.63835334777832, -1.3555418252944946, -4.6688103675842285, -4.1998724937438965, -2.766292095184326, -8.381089210510254, 1.850698709487915, -6.508480072021484, 1.182106375694275, -6.506227970123291, -2.805974245071411, 8.222559928894043, -2.3520054817199707, 6.365585803985596, 3.167253255844116, 10.413926124572754, 1.2194793224334717, 10.362058639526367, -1.117077112197876, -4.123704433441162, -6.404860496520996, -2.703547477722168, -6.21198034286499, 10.195930480957031, -6.063858509063721, -2.1068661212921143, 2.5243232250213623, 6.399257659912109, -4.399855136871338, -1.469927430152893, -2.7320497035980225, -6.0218987464904785, 10.531715393066406, 0.5012587308883667, -5.948735237121582, -1.1096447706222534, 8.13131046295166, 8.630845069885254, 8.145264625549316, -3.431849241256714, 2.907402753829956, 3.572981834411621, -4.693622589111328, -1.2066441774368286, -4.619569778442383, 0.4850339889526367, -8.506869316101074, -2.8736374378204346, 2.8977928161621094, 0.7126839756965637, -6.3714141845703125, -0.8805770874023438, 4.29764986038208, 9.78324031829834, 3.6316566467285156, 9.430503845214844, 9.715717315673828, 4.193360328674316, -9.18483829498291, -9.793379783630371, 2.8428046703338623, -5.64016056060791, -2.7125062942504883, -5.5467705726623535, -4.4166059494018555, -7.5940470695495605, -2.951934337615967, -3.479501962661743, 1.9176253080368042, -2.5484354496002197, -5.547865390777588, 2.371497392654419, -6.46694803237915, 1.1361981630325317, -1.8002618551254272, 0.14111843705177307, 5.741696834564209, 7.533933162689209, -8.88193130493164, -0.03768099844455719, -5.288020133972168, -2.453303098678589, -0.3827257752418518, 4.606079578399658, -15.18908977508545, -0.07951773703098297, 1.7901923656463623, -0.6898254156112671, 4.00070858001709, -5.151467800140381, 4.583382606506348, 4.112107753753662, 3.8917174339294434, 6.303596019744873, -2.3797526359558105, -1.4257410764694214, 0.2901363670825958, 0.42005109786987305, -13.155866622924805, 0.5228459239006042, 1.1187442541122437, -1.8860477209091187, -13.467219352722168, -3.5090577602386475, -12.002318382263184, -4.141442775726318, -10.351362228393555, -8.398573875427246, -1.5338386297225952, -4.363157749176025, 1.0627012252807617, -3.981283187866211, -4.565086841583252, -4.546716690063477, -6.340681076049805, -8.74748420715332, -2.3119499683380127, 0.22984126210212708, -2.009687900543213, 6.306071758270264, 2.339015245437622, -1.314649224281311, 4.314897537231445, 9.678475379943848, -1.8949308395385742, 9.845658302307129, 0.38944414258003235, 11.506562232971191, -0.18205691874027252, 9.980072021484375, -4.239470481872559, 0.34611159563064575, 2.212749481201172, -9.56458854675293, -8.857858657836914, -13.104084968566895, -11.700007438659668, -1.9412328004837036, 6.035621166229248, -6.607170581817627, -2.8849399089813232, -3.725494861602783, -2.8764491081237793, -11.091109275817871, -0.448987752199173, 0.7636981010437012, 1.288305401802063, -9.053163528442383, 8.397682189941406, 8.697701454162598, -9.62716007232666, -4.661574363708496, -3.880000114440918, -5.625603199005127, -16.315988540649414, 9.777488708496094, -13.733383178710938, -5.383169174194336, -11.023603439331055, -10.654611587524414, 9.906244277954102, -10.100497245788574, 9.462493896484375, -5.487458229064941, -6.557602882385254, -1.776583194732666, 0.7115044593811035, -4.608719825744629, -4.243330001831055, -13.722033500671387, -4.115830898284912, 8.921246528625488, 6.8440470695495605, 10.160240173339844, 11.599028587341309, 8.11463451385498, -0.22867870330810547, 8.513418197631836, -5.200998306274414, -6.361741542816162, 8.036529541015625, 8.73946762084961, -4.249361515045166, -6.265801429748535, 3.470250368118286, -6.862885475158691, -11.453490257263184, 10.274495124816895, -5.374263763427734, -9.871467590332031, -4.382905960083008, -6.1615495681762695, -5.537619113922119, -9.969369888305664, 6.245270729064941, -7.60330867767334, -3.667431116104126, -5.711633205413818, 5.242593765258789, 12.279502868652344, 11.9945707321167, -2.7181830406188965, -8.762828826904297, 6.243257522583008, -7.210953235626221, -1.0548688173294067, -10.0394926071167, -2.5954959392547607, -9.879271507263184, -5.889804363250732, 8.391114234924316, -8.463488578796387, -5.52551794052124, -8.843528747558594, -15.619677543640137, 3.203242063522339, 11.218793869018555, -6.479920864105225, -6.483772277832031, -6.556600093841553, -2.4130237102508545, -2.5486414432525635, 6.44672155380249, -4.133890628814697, -10.9307279586792, 6.0769548416137695, -9.030085563659668, -6.757571220397949, -7.66476583480835, 10.389111518859863, -1.208491563796997, -10.131715774536133, -6.532329082489014, -10.913958549499512, 8.16426944732666, 3.3547468185424805, 0.502902090549469, -5.8302483558654785, 5.248621463775635, 0.45657825469970703, -2.5311732292175293, -4.595911026000977, 2.5241713523864746, -7.28040885925293, -4.019564628601074, -5.201643466949463, 6.733517646789551, 9.11744213104248, 1.0102866888046265, -3.2195208072662354, -11.789607048034668, -4.659754276275635, -5.909727096557617, 10.960898399353027, 11.39387321472168, -0.6153159141540527, 1.0957802534103394, 5.030837059020996, -4.945983409881592, 4.722202777862549, 10.510048866271973, 0.7319071292877197, -2.335861921310425, -5.087619781494141, -9.342878341674805, -6.214287757873535, 1.664886474609375, 3.914121389389038, -3.6046814918518066, 6.206052780151367, 6.067797660827637, -5.093864440917969, -3.6216747760772705, 7.785966873168945, -6.597324371337891, -2.042292356491089, -8.470874786376953, -2.9816198348999023, -2.2573249340057373, -1.7388824224472046, -4.54994535446167, -4.11765718460083, -5.146917819976807, -4.628517150878906, -4.185176849365234, -6.195461273193359, -1.191507339477539, -10.81714916229248, 0.6082056164741516, -10.296708106994629, -9.505748748779297, -4.68446159362793, -3.0276107788085938, -5.815832614898682, -14.170011520385742, -1.9259862899780273, 9.211800575256348, -6.4345221519470215, -2.8911046981811523, 8.024348258972168, -2.565537452697754, -4.80846643447876, 11.541848182678223, -4.073395729064941, 1.1912747621536255, -6.416679382324219, 0.9996651411056519, -3.001254081726074, 0.23799243569374084, 9.323570251464844, -6.220829010009766, 5.377819538116455, -6.690524101257324, -9.446170806884766, -5.514145374298096, -10.23013973236084, -14.200482368469238, 10.159292221069336, 0.8158928155899048, 0.7151628732681274, 8.321736335754395, -0.3443695306777954, -1.7199760675430298, 10.24043083190918, -1.1791049242019653, 7.8254218101501465, 10.30092716217041, -10.532201766967773, 8.472928047180176, 6.917027473449707, -6.482349872589111, -5.031982898712158, -1.4881412982940674, -0.3150026500225067, 2.6576499938964844, -5.033135414123535, -2.8630404472351074, -3.5902273654937744, 10.247858047485352, -2.6902666091918945, 5.46578311920166, -3.868129253387451, 1.5540481805801392, 3.090150833129883, 3.2114763259887695, -2.0775904655456543, 0.2998558282852173, -3.7683815956115723, -2.947645664215088, 0.8917161822319031, -3.124300956726074, -2.7092816829681396, -0.9957349300384521, -5.209218502044678, 3.836308002471924, 4.540407657623291, 0.3429209887981415, 3.5937397480010986, -0.9037900567054749, -1.0022337436676025, -6.041606903076172, 3.6094822883605957, -3.5049362182617188, -11.103798866271973, -5.736438751220703, 5.819863796234131, -3.7528235912323, 9.88033390045166, -9.011563301086426, -4.895603656768799, 0.2075953632593155, 3.2451090812683105, -5.679823875427246, -3.8458986282348633, 2.816389799118042, -12.157261848449707, -3.299147367477417, -0.8378867506980896, 2.729567527770996, -8.524840354919434, 5.9539055824279785, 3.740992307662964, -6.468143463134766, 4.50860071182251, -10.931057929992676, -10.391670227050781, 3.845954418182373, 9.379962921142578, 7.178515434265137, 10.57856559753418, 1.546475887298584, 4.255288600921631, 2.3520050048828125, 4.676024913787842, 9.345203399658203, 10.485692024230957, -1.4975372552871704, -4.919164657592773, 6.124715805053711, 8.303338050842285, -4.672325611114502, 7.147655010223389, 5.7183918952941895, 8.692611694335938, 9.093177795410156, -2.3411123752593994, 10.90656852722168, 2.976611614227295, 4.515347003936768, 2.9425876140594482, 9.109333992004395, -5.889157772064209, 9.093367576599121, -3.96701979637146, -10.412500381469727, -9.233627319335938, -9.648411750793457, 4.117364406585693, 0.287486732006073, 2.1687405109405518, 9.363147735595703, 1.0262497663497925, 6.628772735595703, -6.033132076263428, -9.471134185791016, -6.58734655380249, -9.29964542388916, -4.765480041503906, 3.2155232429504395, 10.826093673706055, -5.27685022354126, 0.5371868014335632, -5.479280471801758, -5.713817596435547, -1.0688745975494385, 5.277638912200928, 1.3268262147903442, -9.203932762145996, -3.773094654083252, 3.8249690532684326, 1.5655982494354248, -2.3422389030456543, -4.976260185241699, -1.0312763452529907, 7.448089599609375, 2.8898470401763916, -10.921573638916016, 4.4255690574646, 7.13078498840332, 0.42317819595336914, 8.340014457702637, -4.472381114959717, 3.312126398086548, 4.373497009277344, 1.666474461555481, 6.167385101318359, -4.663367748260498, 1.604312777519226, 0.7224979400634766, 0.882726788520813, -3.916929244995117, 1.6716076135635376, 0.8041390776634216, -7.759758472442627, 0.960403561592102, 9.97650146484375, 6.237534523010254, 1.5851294994354248, -4.207693099975586, 0.13320067524909973, -9.109880447387695, 0.23435203731060028, -6.492404460906982, 1.2109150886535645, 6.955760955810547, -1.8226624727249146, 2.689131736755371, -9.571544647216797, 1.1327340602874756, -8.287325859069824, -13.342571258544922, -5.203579425811768, -0.7723550200462341, 0.4838951528072357, -1.6550320386886597, 8.412863731384277, -1.5179020166397095, -6.56326961517334, -7.897471904754639, -9.177268028259277, -1.3133807182312012, 4.2418599128723145, 11.311833381652832, 8.045348167419434, 7.697753429412842, -1.2548191547393799, 7.083050727844238, -4.631653785705566, -4.460224151611328, -0.7253100872039795, -4.43666934967041, -5.986562252044678, -4.835696697235107, -9.401515007019043, -3.0879557132720947, 7.539156913757324, 7.943776607513428, 2.9916486740112305, -3.518967390060425, 4.499203681945801, 7.631053924560547, -4.813787937164307, 3.8079559803009033, -3.983461856842041, -5.698602676391602, -0.771375298500061, 5.02520751953125, 1.8358360528945923, 1.2454739809036255, -8.394927024841309, -1.781799077987671, -2.7925517559051514, -3.048908233642578, 0.10037747025489807, -1.747831106185913, 6.520714282989502, -3.97171950340271, -7.02594518661499, -2.6220695972442627, 3.648928165435791, -11.962153434753418, -6.623903751373291, 2.1561524868011475, 2.285423517227173, 6.3019185066223145, -2.4456045627593994, -1.8096004724502563, -9.452224731445312, -13.876384735107422, 5.555544853210449, 3.512209415435791, 6.147050857543945, -0.3546765446662903, 4.77506685256958, -1.0910378694534302, -1.735785961151123, -1.4882668256759644, 9.169957160949707, -6.661131858825684, 8.789973258972168, 6.7153191566467285, -1.8761590719223022, 7.477287292480469, 0.234704852104187, -3.1569740772247314, 2.136751651763916, 5.51295280456543, -15.240180015563965, -5.7935285568237305, 1.4646728038787842, -6.209278106689453, -7.453145503997803, 8.706130027770996, 4.39474630355835, 8.387005805969238, -2.1943142414093018, 5.811270713806152, -0.501112163066864, 1.1543350219726562, -2.659688949584961, -1.7881149053573608, -13.904950141906738, -2.303018808364868, 4.113409519195557, -2.478830099105835, -7.600117206573486, -9.116039276123047, 2.568203926086426, -4.067874908447266, -9.77481460571289, -2.9572863578796387, -6.639455318450928, 10.92046070098877, 2.6638073921203613, -2.278787136077881, -12.294073104858398, 1.591749906539917, 3.5284194946289062, -6.3440399169921875, -2.718458890914917, -11.40017318725586, 1.7169184684753418, -6.418701648712158, 6.8505473136901855, 3.8773210048675537, -2.5832338333129883, 1.767716646194458, 8.173534393310547, 4.156335830688477, -4.6219282150268555, 3.9722769260406494, -4.941226005554199, 9.559231758117676, 5.162850379943848, 2.719180107116699, 4.488659381866455, -7.349494934082031, -7.730731010437012, -0.8117250800132751, 4.65303373336792, 6.6511311531066895, -1.714083194732666, 3.807568311691284, 9.375720977783203, 5.745414733886719, 6.6635918617248535, -2.485550880432129, 7.284389495849609, 1.1764402389526367, 7.533701419830322, -0.7713037133216858, -4.033571720123291, -5.580763816833496, 4.353846549987793, 9.528448104858398, -1.585899829864502, 3.4404706954956055, 3.4116642475128174, 1.431160807609558, -4.3727922439575195, -4.585679531097412, 3.1075057983398438, -0.9263247847557068, 7.7212605476379395, -6.434565544128418, 3.413771867752075, 10.066391944885254, -4.69270133972168, 6.2595038414001465, -0.9890294671058655, -3.9075114727020264, 4.070711135864258, 4.058598518371582, 4.849199295043945, 0.6448563933372498, 2.945535898208618, -4.37415075302124, 5.367772579193115, -0.7337467670440674, 6.426803112030029, -3.624257802963257, 5.312828540802002, 7.230290412902832, 7.666463851928711, 6.102724552154541, 6.602533340454102, -5.235029220581055, 6.590878009796143, -8.460074424743652, 3.732440948486328, -4.840184688568115, 2.138359308242798, 10.01124382019043, 3.2027552127838135, -4.900015354156494, 9.946866035461426, -7.6862921714782715, 0.7280000448226929, -1.6339484453201294, 3.143911361694336, -5.610992431640625, -2.9195659160614014, -2.866197347640991, -3.632045269012451, -4.166354656219482, 0.9181744456291199, 3.0135607719421387, 6.797483921051025, 5.674600124359131, 5.759363651275635, -0.9738283157348633, -2.585603952407837, 9.369405746459961, 4.253961086273193, 4.529520511627197, -9.236088752746582, 2.0486156940460205, -5.368786334991455, 8.576787948608398, 3.114971399307251, 1.5867860317230225, 3.160597324371338, 5.437353134155273, 6.4197797775268555, -8.276257514953613, -15.553531646728516, -0.8574467897415161, -5.418114185333252, -1.7044583559036255, 6.445324897766113, -4.885605812072754, 11.93728256225586, -15.21826171875, -3.00026535987854, 4.131311416625977, 11.45378303527832, 11.557540893554688, 2.943816900253296, -9.106369972229004, -2.0926647186279297, 10.583178520202637, 8.868481636047363, -7.720670223236084, -9.169111251831055, 0.9269648194313049, -2.5693750381469727, -4.656132698059082, 6.583008289337158, -4.877029895782471, 5.429243564605713, 3.151411771774292, 1.0269287824630737, 2.809852361679077, 10.969045639038086, 0.07296473532915115, 7.904544353485107, -6.545592308044434, 9.059844017028809, 6.046777725219727, -0.9526417851448059, 1.348716378211975, -5.81682825088501, -5.289950370788574, 11.84649658203125, 6.440019130706787, 4.6143107414245605, 1.8645236492156982, -2.987786293029785, -2.9688055515289307, 7.885329723358154, -13.37917709350586, -1.651014804840088, 3.1735610961914062, 8.228066444396973, 6.717301368713379, 3.566136121749878, -5.157379627227783, 0.7336376309394836, -1.2660976648330688, 3.9441776275634766, -1.3791247606277466, 2.9378130435943604, 9.735422134399414, 5.78406286239624, -11.3284330368042, -3.3614442348480225, -7.460392475128174, -3.824174404144287, -7.890016078948975, -2.6662306785583496, -1.8257174491882324, 0.22670415043830872, -6.310021877288818, -3.1562294960021973, 3.711332082748413, -10.872115135192871, -8.828306198120117, -3.2666139602661133, -2.1791276931762695, 3.2187304496765137, -1.550544261932373, 4.797627925872803, 0.8540320992469788, 2.722822666168213, 0.6713914275169373, 1.3163632154464722, 3.719876766204834, -3.793529748916626, 1.7044132947921753, 1.2238030433654785, -3.664957046508789, 4.343958854675293, 7.9043660163879395, 6.435798168182373, 6.204006195068359, 6.111028671264648, 2.153179407119751, 2.8075995445251465, -12.84133529663086, -0.18710753321647644, 2.1561331748962402, 10.112442016601562, -3.4507572650909424, 4.042971611022949, -7.0548014640808105, 5.966737747192383, -8.9115571975708, 3.035612106323242, 3.4844846725463867, 1.7658272981643677, -5.247718811035156, -1.9666084051132202, -1.9898929595947266, -1.5846288204193115, 3.304323434829712, -7.558939456939697, -4.485786437988281, -4.702434062957764, 10.357994079589844, 10.182218551635742, 3.5659801959991455, 4.137762069702148, 5.063961982727051, -9.364779472351074, -9.402318954467773, -2.266634941101074, 1.1817885637283325, 5.642655372619629, 6.4290666580200195, -4.007133483886719, -3.1525135040283203, 5.913961887359619, -4.362691402435303, 10.993570327758789, 9.768071174621582, 7.553627967834473, 8.405964851379395, 3.9491636753082275, -4.4724555015563965, 0.4559953510761261, 6.151278972625732, 4.114162445068359, -7.471774578094482, 9.523658752441406, 4.180212497711182, 1.8590971231460571, 8.54759407043457, 2.7814834117889404, 1.2182347774505615, -8.792862892150879, -3.5713722705841064, -5.189844131469727, -1.2020045518875122, -5.684970855712891, -8.494668006896973, 7.143911361694336, -0.13814151287078857, 0.5175233483314514, -1.6245921850204468, -2.7690696716308594, -5.331725597381592, -1.7863490581512451, -6.052968502044678, 1.6928319931030273, -3.191897392272949, -7.755220890045166, -5.994311332702637, -8.027470588684082, -4.9275593757629395, 10.924506187438965, 4.380937099456787, 3.2833309173583984, 4.525510311126709, 6.0787811279296875, -3.585710048675537, -4.519351005554199, -5.0514960289001465, 1.21280038356781, 10.963048934936523, 6.960514068603516, 9.894441604614258, -7.731283664703369, 5.819833278656006, 5.844270706176758, 0.7307972311973572, 5.449779510498047, -4.756418704986572, 5.486868381500244, 9.410994529724121, 5.499691486358643, 11.399473190307617, 6.768979549407959, 7.955089569091797, 12.238300323486328, 7.589282989501953, 9.442350387573242, 3.4682254791259766, 4.72376823425293, 1.3835493326187134, 10.902639389038086, -3.2502408027648926, 4.544869899749756, -5.140096187591553, -2.4466187953948975, 9.183366775512695, -1.301908254623413, 6.4998884201049805, 0.8904514312744141, 1.5527766942977905, 7.3285651206970215, 1.200277328491211, 7.126391410827637, -1.7118477821350098, 6.758245468139648, 11.751626968383789, 5.771312713623047, -9.064810752868652, 3.097567081451416, 5.440029144287109, 6.065163612365723, 8.547866821289062, 6.569238185882568, -15.1411714553833, -4.99977445602417, -6.492404937744141, -9.666593551635742, 4.590579509735107, 2.6785922050476074, 6.8016839027404785, -3.8098201751708984, -1.0392906665802002, -6.437227725982666, 10.039554595947266, 3.312268018722534, 12.117594718933105, -5.201267719268799, 9.479681968688965, 5.505298614501953, -3.8407530784606934, 3.5578696727752686, 3.565704822540283, 6.585670471191406, 6.2424821853637695, 0.8663617372512817, 3.241083860397339, 4.770468235015869, -14.954415321350098, 3.1704752445220947, 4.932884216308594, 7.406201362609863, 4.980977535247803, -9.012969017028809, 3.8726415634155273, 7.326816558837891, 8.220451354980469, 5.435205936431885, 5.910003662109375, 5.707648277282715, 5.475873947143555, 9.183481216430664, -9.165597915649414, -4.500298023223877, -4.540284633636475, -4.780481815338135, -3.5538387298583984, -6.323413848876953, -2.1754310131073, 0.16026800870895386, -9.765363693237305, -0.2707834243774414, -10.4303560256958, -4.979321002960205, -5.743748664855957, -6.426088333129883, -3.926609516143799, -4.840073108673096, -1.5310686826705933, -6.327459812164307, -4.338192462921143, -6.079944133758545, -4.418513298034668, -13.788782119750977, -9.598745346069336, -1.9070101976394653, 1.9137413501739502, -9.399794578552246, -4.151772975921631, 3.2346584796905518, -3.0521581172943115, -2.3105549812316895, -2.3735551834106445, -5.36387825012207, -5.538652420043945, -9.176097869873047, -9.722492218017578, -5.366690158843994, 0.5037643909454346, -5.007078170776367, 0.12405402958393097, -4.086287498474121, 1.408603310585022, 3.251322031021118, -9.958141326904297, -2.3003921508789062, -4.7993059158325195, -4.605711936950684, 2.6236460208892822, 12.115264892578125, 2.5817532539367676, 1.0129555463790894, 1.7782530784606934, 7.053651332855225, 1.7343759536743164, -5.0463643074035645, -5.155915260314941, 6.389113426208496, 4.357868194580078, -6.3677167892456055, -8.911728858947754, -6.1431989669799805, -1.3987880945205688, -5.096665859222412, 4.2277607917785645, -6.489243984222412, 2.2357513904571533, -5.749878406524658, -6.639071941375732, -9.03068733215332, -1.8150616884231567, -10.35107421875, 4.460693836212158, 3.6710190773010254, -4.532937049865723, 9.064647674560547, -5.72033166885376, -11.317129135131836, 4.473603248596191, -8.426496505737305, 0.06292351335287094, 2.1782500743865967, -4.050414085388184, -5.14103364944458, 8.11170768737793, -1.6262669563293457, -9.199490547180176, 12.87456226348877, -5.7943596839904785, 8.128602981567383, 8.332653999328613, 7.824459552764893, 9.655294418334961, 5.48789644241333, 9.831643104553223, 4.570135593414307, 3.9155683517456055, 1.3126975297927856, 2.93611478805542, 7.995450973510742, -4.598228931427002, 1.899788737297058, 8.105609893798828, 7.081755638122559, -4.260704517364502, -9.61938762664795, -2.7665436267852783, -6.710700511932373, 9.041581153869629, 8.86014461517334, -5.2224016189575195, 9.924019813537598, -7.134169101715088, -0.6242925524711609, 0.7171372771263123, 0.12405402958393097, -2.291959285736084, 7.517822742462158, -7.611264705657959, 4.55003547668457, 0.13044191896915436, 7.920063495635986, 8.027124404907227, -11.613314628601074, -15.351773262023926, 6.335012435913086, 5.672916412353516, 7.625829219818115, 11.642378807067871, 8.79707145690918, 6.80323600769043, 8.695145606994629, -4.009803771972656, -3.4596283435821533, 6.7474212646484375, 8.039776802062988, 4.020622730255127, 7.6135053634643555, 8.925145149230957, 9.448264122009277, 2.1635000705718994, 11.454386711120605, 10.034732818603516, 10.632871627807617, -1.8151401281356812, -1.9817800521850586, -6.566966533660889, 2.5693726539611816, -2.314755916595459, -6.531599998474121, 6.140996932983398, 6.921168327331543, -11.41152572631836, -6.534879684448242, 9.664809226989746, -4.0651140213012695, 10.560678482055664, 8.290618896484375, 9.498473167419434, -11.247530937194824, -11.289201736450195, -6.06084680557251, -13.018045425415039, 4.84287691116333, -11.673688888549805, 7.293610095977783, -3.107605218887329, 2.752821922302246, 0.5814622044563293, 4.000953674316406, -0.6211714744567871, 9.973286628723145, 4.078636169433594, -1.127689003944397, 2.7415316104888916, -0.6591402292251587, 3.5336384773254395, 3.0634727478027344, -10.055537223815918, 3.596808671951294, -1.2301632165908813, -9.704829216003418, 4.033441543579102, -8.546082496643066, 4.174582004547119, -3.9135866165161133, -0.8350594639778137, -4.32304048538208, -9.233375549316406, -3.8453521728515625, 2.2467761039733887, 5.502992153167725, -2.955345392227173, 6.331297397613525, 11.347814559936523, -3.692986249923706, 4.739999771118164, -3.5076329708099365, 4.056551933288574, 4.530647277832031, 3.552121877670288, 7.738785266876221, 3.5602145195007324, 3.094792127609253, 3.8510961532592773, -9.224359512329102, 1.7830883264541626, 9.960554122924805, 2.8887951374053955, 3.284228801727295, 11.082447052001953, 3.6763265132904053, 1.422982096672058, 6.619035243988037, 6.707247257232666, -5.55116605758667, 6.773212432861328, 8.199694633483887, 6.387880802154541, 7.860958099365234, 8.417625427246094, 8.369839668273926, 8.016922950744629, 6.637988567352295, -4.779282093048096, -2.4735665321350098, 6.517478942871094, -5.854772090911865, -7.271258354187012, -0.9792433381080627, -11.31454849243164, 9.486893653869629, 9.900530815124512, 4.074326515197754, -9.185482025146484, -6.0439133644104, -8.146344184875488, 3.8870463371276855, -8.964742660522461, -10.371794700622559, -2.1502981185913086, -1.1537582874298096, 4.87050199508667, 9.613560676574707, 7.782327175140381, -9.787537574768066, -0.6953852772712708, -13.668047904968262, 2.1489431858062744, 2.2393229007720947, 1.981636643409729, -3.736971855163574, 4.8226189613342285, -6.547560691833496, 2.4596850872039795, -7.67072868347168, -0.5502134561538696, 9.23905086517334, -4.341866493225098, 1.3323471546173096, 3.9809107780456543, 3.6638338565826416, 1.959688425064087, 9.647364616394043, -3.543147087097168], \"y\": [6.738239765167236, -4.634756565093994, -1.8566333055496216, -2.0869104862213135, -4.191954612731934, -4.89675760269165, -7.382198810577393, -6.081028461456299, -7.151124000549316, -1.513929009437561, 5.108429431915283, -2.377927780151367, -7.258169651031494, 0.4211570918560028, -15.937959671020508, -4.974299430847168, -3.0103495121002197, -0.8214096426963806, -8.361868858337402, -2.185612678527832, -5.590789794921875, 18.428192138671875, 6.715425491333008, 7.771392345428467, 11.122769355773926, 8.022978782653809, -6.166886806488037, 4.364294528961182, 17.177860260009766, 5.0927042961120605, 1.9911621809005737, 1.9308128356933594, 6.58797025680542, 5.648928165435791, 10.197378158569336, 6.977259159088135, 6.1148362159729, 2.729642152786255, 3.681056261062622, 16.20230484008789, 5.062501430511475, 2.285461664199829, 5.6410441398620605, 5.55515718460083, 7.395417213439941, 6.115354061126709, 4.688564300537109, 2.82738995552063, 6.5819292068481445, 8.8774995803833, 8.090642929077148, 4.63462495803833, 9.083229064941406, 2.346489191055298, 2.92419695854187, 6.882836818695068, 9.597631454467773, 12.154203414916992, 6.158537864685059, 16.088150024414062, 8.568683624267578, 9.450959205627441, 11.520495414733887, 4.098046779632568, 11.418402671813965, 6.460235118865967, 8.921916007995605, -8.93947982788086, 3.511385202407837, 8.022333145141602, 10.859403610229492, 1.8950308561325073, 6.454687118530273, 6.783184051513672, 6.534143447875977, 5.164071083068848, 17.92384147644043, 9.30434513092041, 0.18065498769283295, 13.579813003540039, 17.395488739013672, 14.361441612243652, 5.7842607498168945, 8.46863079071045, 6.261084079742432, 14.924399375915527, 14.646637916564941, 15.951189041137695, 4.724847316741943, 13.491935729980469, 10.196609497070312, 3.2642579078674316, 8.435293197631836, 7.6180100440979, 1.2365288734436035, 2.269186019897461, 14.910210609436035, 8.422344207763672, 15.947491645812988, 2.0962679386138916, 6.346512317657471, -7.1133952140808105, 13.359208106994629, 4.274029731750488, 6.166393280029297, -0.2387513965368271, -7.7178544998168945, -10.50555419921875, 0.22278393805027008, -4.267736911773682, 0.7731751203536987, -11.55510425567627, -2.8340134620666504, 0.19138121604919434, -5.587345600128174, -5.963764667510986, -4.473372459411621, -9.139883995056152, 2.9782259464263916, -1.797132134437561, 2.3468985557556152, -12.098313331604004, 3.3370442390441895, -11.465744018554688, -3.096876859664917, -5.1632866859436035, -7.21038293838501, -3.4610447883605957, -6.559469223022461, -7.596620082855225, -6.179244041442871, -7.267625331878662, -10.213977813720703, -7.370829105377197, -8.862388610839844, -0.10986245423555374, -5.757974147796631, -8.345327377319336, -7.46694278717041, -2.1364564895629883, -0.6519949436187744, -6.110461235046387, -2.7570245265960693, -1.4775328636169434, -0.5824373364448547, -0.8687079548835754, -8.538741111755371, -2.6218390464782715, -0.6814303994178772, -5.70210599899292, -8.479379653930664, -2.8849825859069824, 6.610707759857178, 4.669467926025391, -1.4300518035888672, -4.628198146820068, 4.078762531280518, -15.491504669189453, -2.4794445037841797, -3.2111880779266357, 1.0876718759536743, 2.4801158905029297, -3.3391618728637695, -2.104828357696533, -6.409308433532715, -4.914444446563721, -13.823622703552246, -3.0930070877075195, -8.671030044555664, -5.698528289794922, -9.093403816223145, -2.9122745990753174, -5.331086158752441, -6.632858753204346, -14.051855087280273, -15.566404342651367, 0.09762595593929291, -6.840436935424805, -2.9413206577301025, -3.6534645557403564, -2.865166664123535, -15.17544174194336, -6.444051265716553, -9.483518600463867, -0.10422267764806747, -4.387228488922119, -9.946996688842773, -11.946691513061523, -6.778587341308594, -14.884839057922363, -6.35524320602417, -11.147156715393066, -8.566756248474121, 1.5189090967178345, -11.365203857421875, -1.6847566366195679, -3.6234724521636963, -8.287419319152832, -0.6473789811134338, -6.5712199211120605, -6.985994815826416, -7.549383640289307, -7.406196117401123, -10.35982608795166, 2.742264747619629, -3.647198438644409, -2.4955832958221436, -4.487155437469482, -4.522442817687988, -8.730705261230469, -3.9147064685821533, -4.404844760894775, -3.563513994216919, -1.8154469728469849, 3.908437967300415, -6.906364440917969, -8.58613109588623, -2.923759937286377, 7.2721099853515625, 1.3377678394317627, 1.4631922245025635, -4.191867351531982, -4.476434230804443, -13.66781997680664, -4.609140872955322, -6.75136661529541, 1.132346272468567, -6.039718151092529, 3.3529627323150635, -5.701529502868652, -6.2182207107543945, -4.18236780166626, -2.13065767288208, 0.17245429754257202, -8.874489784240723, -2.5450496673583984, 3.743481159210205, -4.357332706451416, 2.464358329772949, 3.1090855598449707, -3.539013385772705, -2.678372621536255, -2.194053888320923, -10.529748916625977, -0.98846435546875, -2.66139554977417, -6.340062141418457, -6.071300029754639, -6.0063700675964355, -2.590798854827881, -1.5386289358139038, -5.11987829208374, -0.017299789935350418, -1.624301552772522, -1.0936834812164307, -4.230485439300537, -8.053585052490234, -10.491515159606934, -4.980584621429443, -4.085233211517334, -3.7811028957366943, -9.72939395904541, -1.8903656005859375, -1.4676800966262817, -4.627047061920166, 4.753697395324707, 1.9949924945831299, 13.273880004882812, -2.8930766582489014, -1.707436203956604, -6.469875812530518, 1.7320321798324585, 1.255682349205017, 9.420567512512207, -7.177659511566162, -2.373216152191162, -1.270003318786621, -2.852924346923828, -4.5599775314331055, 10.45220947265625, -4.003803253173828, -3.047637462615967, -10.923121452331543, -3.1672027111053467, -3.0093767642974854, -5.482941150665283, 0.5671864151954651, 0.678709089756012, -0.5909646153450012, 0.924608588218689, -2.506906509399414, -10.280970573425293, -0.6210099458694458, 1.90823495388031, 10.170326232910156, -1.4635026454925537, -10.092131614685059, -5.108240127563477, -6.9009599685668945, -3.1906981468200684, 1.8888757228851318, 2.4371325969696045, -7.44660758972168, -1.4730781316757202, -7.082224369049072, -1.3712050914764404, 0.1861930936574936, -4.103382587432861, 3.229865074157715, -0.9464990496635437, -6.966683387756348, -7.585719108581543, -5.859430313110352, -0.4242734909057617, 0.22306567430496216, -4.698145866394043, -4.399071216583252, -6.501333713531494, 0.8178779482841492, 2.702471971511841, -4.273414134979248, -8.438819885253906, -1.4203006029129028, 0.13762129843235016, 0.17189359664916992, -1.1542692184448242, 0.7262429594993591, -8.995272636413574, -7.273037433624268, -7.568007946014404, -3.112060308456421, -6.032978057861328, -4.329841613769531, -0.5826817154884338, -8.23487663269043, -8.472810745239258, -8.266377449035645, 14.425729751586914, -6.514017581939697, 2.249800443649292, -3.5791499614715576, 10.438417434692383, -0.9929274320602417, -2.5526440143585205, -7.311859130859375, -3.9289228916168213, -4.998534202575684, -4.697536945343018, 0.09489625692367554, -11.311083793640137, -5.4121994972229, 3.9349656105041504, -3.1990597248077393, 7.957923889160156, -13.765144348144531, -3.35463809967041, 1.8585541248321533, 1.123042345046997, 1.5122016668319702, -2.634854555130005, -3.564513683319092, -9.082073211669922, -0.1599467247724533, -9.133940696716309, 1.419488787651062, 2.6043245792388916, -6.757008075714111, 0.18356144428253174, 9.344250679016113, 2.8687236309051514, -11.731410026550293, 2.888094186782837, 9.130060195922852, -5.765040874481201, -2.0857555866241455, -5.073271751403809, -5.036439895629883, -9.42977523803711, -8.331737518310547, -7.879356861114502, -6.154764652252197, -3.5018317699432373, -7.343222618103027, -3.129535436630249, -3.5150835514068604, -0.629838228225708, 0.5418676137924194, 0.009863179177045822, 3.0567188262939453, 0.10935982316732407, -7.131561756134033, -3.154012680053711, -10.447019577026367, 0.21506641805171967, -13.353982925415039, 0.07564540952444077, -10.327532768249512, -5.130842685699463, -10.649880409240723, -11.34725284576416, -12.40977954864502, -0.6663246154785156, -11.221658706665039, -7.493414878845215, -4.2818427085876465, 0.3522129952907562, -11.00014877319336, -2.4342153072357178, -14.073628425598145, -6.037304401397705, 5.117464065551758, -8.050002098083496, -11.817770957946777, 13.374982833862305, -2.963864803314209, -9.450392723083496, -10.231348991394043, -8.698798179626465, -4.480564117431641, -9.452999114990234, -2.8960299491882324, -8.244071960449219, -5.268489360809326, -8.545848846435547, -11.882648468017578, -7.642152786254883, -1.0925625562667847, -7.866935729980469, -4.452548980712891, -12.249563217163086, -8.87173080444336, -7.078362941741943, -5.063577651977539, -10.369527816772461, -0.6263539791107178, -5.0020623207092285, -5.683780670166016, -5.854839324951172, -2.460336446762085, -11.940152168273926, -4.958362102508545, -8.116247177124023, -8.006573677062988, -4.19537353515625, -5.4577484130859375, -5.8039374351501465, -2.343090295791626, -8.0951509475708, -9.057350158691406, 0.7976593971252441, -9.310151100158691, -4.783409118652344, -8.72649097442627, -6.7718825340271, -16.033151626586914, -8.603496551513672, -0.8773946762084961, -11.551288604736328, -8.533177375793457, -6.355244159698486, -12.252028465270996, -7.163125514984131, -15.834024429321289, 1.0012246370315552, -9.194404602050781, -6.738626956939697, -8.562189102172852, -0.9143391847610474, -14.187559127807617, -1.3722585439682007, -4.1911396980285645, -7.985352993011475, -10.425065040588379, -6.331133842468262, -4.99525260925293, -13.141729354858398, -4.387269020080566, 0.5936576724052429, -10.21873950958252, -5.059442043304443, -15.766593933105469, -10.845943450927734, -2.9875991344451904, -8.100870132446289, -3.6286561489105225, -4.464748382568359, 6.440352439880371, 1.947497010231018, 5.853902816772461, 4.085448741912842, 5.391106128692627, 12.8778657913208, 18.0537052154541, 8.410943984985352, 8.630636215209961, 1.0084311962127686, -5.837339878082275, -0.5314171314239502, 5.686043739318848, 7.493639945983887, -5.874598979949951, 1.403220534324646, 3.3963682651519775, -1.4937920570373535, 0.3331957459449768, 9.035795211791992, 9.053627967834473, 11.902050971984863, 9.78050708770752, 9.84256362915039, 12.38741683959961, 15.395634651184082, 11.033259391784668, 9.757935523986816, 17.2805118560791, 10.414860725402832, 10.557060241699219, 13.439643859863281, 5.924713611602783, 2.2264721393585205, 2.763672351837158, 11.738852500915527, 8.95999813079834, -9.095489501953125, 9.005645751953125, 9.589540481567383, -2.6707634925842285, 0.31600672006607056, 3.956509828567505, 12.137853622436523, -13.469962120056152, 11.296231269836426, -6.9088454246521, 1.0192054510116577, 3.8061530590057373, -6.466522216796875, -9.367998123168945, -12.915895462036133, -9.066513061523438, 0.5158078074455261, -11.60688304901123, -11.720906257629395, -10.750819206237793, -2.8294694423675537, -15.177275657653809, -13.665070533752441, -3.381211280822754, -2.8102262020111084, -7.540409564971924, 0.1523486077785492, -11.19170093536377, -6.959162712097168, -8.26939582824707, -7.041157245635986, -7.472458839416504, 2.0736451148986816, 1.2971367835998535, -5.928391933441162, -5.063509464263916, -0.12974587082862854, -9.451135635375977, -4.994590759277344, 5.940029621124268, -1.0157793760299683, 1.588098168373108, -5.74157190322876, -12.911613464355469, -3.3780910968780518, -3.2509939670562744, -9.943897247314453, -5.346767425537109, -5.677685737609863, 11.126983642578125, -4.458246231079102, -13.720353126525879, -5.9655046463012695, -14.068626403808594, -5.817550182342529, -14.414416313171387, -6.234464168548584, 0.5715805292129517, 1.9149210453033447, 0.7197592258453369, 3.7381505966186523, 4.11735200881958, 1.9421600103378296, 9.318860054016113, -13.81074333190918, -6.485122203826904, -3.8087425231933594, -9.09434700012207, -5.761871337890625, -6.309706211090088, -7.2274489402771, -3.0772454738616943, -10.533616065979004, -0.6436068415641785, 3.173130512237549, 9.670050621032715, 9.464760780334473, 3.911320924758911, -9.007718086242676, -3.3990514278411865, -10.317813873291016, 3.8703324794769287, 0.2728115916252136, -8.26539421081543, -8.79585075378418, -6.7221784591674805, -10.137688636779785, -1.183927297592163, -9.224037170410156, 9.149969100952148, -10.537731170654297, -0.8652601838111877, -5.958224296569824, 1.253076434135437, -4.508727550506592, -5.593659400939941, 2.157825469970703, -6.223390102386475, -1.252807378768921, -3.4159646034240723, -6.350879669189453, -5.47167444229126, 6.424022674560547, -12.158360481262207, -0.5092965364456177, -1.6126971244812012, -3.360607624053955, -2.6160683631896973, -3.413095235824585, -5.6593170166015625, -3.3334572315216064, -8.52236557006836, -12.12646198272705, -8.051782608032227, -1.2292507886886597, -8.590067863464355, -9.442548751831055, 0.15584097802639008, -8.670710563659668, -8.14352798461914, -8.699702262878418, -9.181870460510254, -2.8436319828033447, -3.165053129196167, -10.752899169921875, 0.4050677418708801, -4.502486705780029, -4.555704593658447, -8.14755630493164, -9.056039810180664, 1.6281547546386719, -4.979031562805176, -9.194847106933594, -7.237313270568848, -6.118954181671143, -8.93332576751709, -10.703957557678223, -0.139921635389328, -8.58062744140625, -11.173661231994629, -6.545296669006348, 1.8284932374954224, 10.469615936279297, -6.840015888214111, -1.9394166469573975, -1.8827245235443115, -1.9302279949188232, -13.644895553588867, -13.855637550354004, -1.12214994430542, -10.660778045654297, -6.798993110656738, 0.6679646968841553, -6.83433198928833, -2.4613261222839355, -2.3296597003936768, -1.0432602167129517, -4.02468729019165, -9.700882911682129, -3.5472092628479004, -6.062243461608887, 0.07634048163890839, -5.226691722869873, -2.8654348850250244, -13.088508605957031, 0.3020686209201813, -3.5945184230804443, -1.3590744733810425, -7.632157325744629, -4.3870978355407715, -6.390021800994873, -3.359140157699585, -9.781686782836914, -1.296242594718933, -0.25559285283088684, -9.73620891571045, -7.535138130187988, -4.996715068817139, -8.89842414855957, -10.017729759216309, -3.9855399131774902, -2.8481593132019043, -2.9153897762298584, -9.188155174255371, -7.255005359649658, -9.617241859436035, -1.684259295463562, 9.689682960510254, -3.4201457500457764, 0.7649157047271729, -4.69185733795166, -5.581719398498535, -11.695954322814941, -5.014669418334961, -7.091569900512695, -5.755554676055908, -0.7861010432243347, -0.8617287874221802, -8.259777069091797, -15.65417766571045, -3.221299886703491, -0.6837055087089539, -3.196956157684326, -8.65890884399414, -9.185283660888672, -3.462578773498535, -5.523820877075195, -5.649538040161133, -6.979305267333984, -10.900294303894043, -8.718826293945312, -8.608272552490234, -8.859416007995605, -4.200324058532715, -5.660372734069824, -3.544656991958618, -9.858457565307617, 0.6012240648269653, -8.33154296875, -2.899639844894409, 8.205415725708008, 2.4947290420532227, -6.4916300773620605, 0.5234797596931458, 2.397587776184082, -11.219911575317383, -3.726179361343384, 0.9067867994308472, -8.40670108795166, -3.7067477703094482, -4.837475299835205, -8.521471977233887, -12.174077033996582, 0.399771511554718, -0.7552415132522583, -3.381345272064209, 0.24290165305137634, -11.716403007507324, -2.951486825942993, -6.134744644165039, 0.9158963561058044, -5.1223859786987305, -9.688257217407227, 3.2338008880615234, -0.4603126049041748, -2.856287956237793, -3.8167216777801514, 1.8222607374191284, -2.81103253364563, -6.638431549072266, -3.3894824981689453, -4.3000407218933105, -4.235831260681152, -6.184439659118652, -9.842589378356934, -4.650949478149414, 0.7138715386390686, -1.5718562602996826, -1.9394503831863403, -4.7733869552612305, -4.131618022918701, 13.874808311462402, -7.819112777709961, -12.291657447814941, -5.993556022644043, -1.231123924255371, -15.733905792236328, 8.661931991577148, -7.05595588684082, -10.134269714355469, -7.362882137298584, -9.771793365478516, -6.4450764656066895, -3.339372396469116, 12.275038719177246, -3.9465606212615967, -10.28642463684082, -6.250942230224609, -1.6026504039764404, -4.28628396987915, -7.967232704162598, -10.965950965881348, -11.196749687194824, -3.553990602493286, -6.977674961090088, -9.268364906311035, 5.189612865447998, 13.46475601196289, 14.62813949584961, 14.816089630126953, -7.708576202392578, -12.261881828308105, -8.167627334594727, -7.732847690582275, 3.1472935676574707, 2.61380672454834, -1.9659855365753174, 8.745223999023438, 10.973526000976562, 12.258983612060547, -3.427314043045044, 6.110137462615967, -7.066864490509033, -6.297037601470947, -3.0460386276245117, -10.457196235656738, -7.087388038635254, 4.060290813446045, -0.06111947074532509, 9.008268356323242, 0.5386794805526733, -4.906266212463379, -4.973555564880371, 3.778620719909668, 7.695037841796875, 4.433730602264404, 9.933687210083008, 11.406219482421875, 7.484240531921387, 6.233211040496826, -11.820113182067871, 8.540220260620117, 8.927797317504883, 11.645318984985352, 11.931293487548828, 5.0708746910095215, -0.11978640407323837, 9.105091094970703, 5.515072345733643, 4.009573936462402, 6.492852210998535, 8.260279655456543, -1.0675463676452637, 5.65113639831543, 14.504115104675293, 12.045905113220215, 13.917271614074707, 7.048374176025391, 12.569450378417969, 6.658570766448975, 11.690173149108887, 9.424640655517578, 9.113541603088379, 3.3157639503479004, 3.2449159622192383, 8.570223808288574, 14.052434921264648, 9.079401969909668, 5.499047756195068, -6.404962539672852, 10.407896041870117, 3.6612002849578857, -1.9651072025299072, 3.3333828449249268, 18.015153884887695, 5.6548967361450195, 6.95452880859375, 14.008025169372559, 1.9314225912094116, 7.194547176361084, 10.15521240234375, 9.494706153869629, 2.882728338241577, 4.264158248901367, 9.876998901367188, 15.32055950164795, 6.625926971435547, 11.5689697265625, 8.807690620422363, 18.643932342529297, 14.763367652893066, 7.721821308135986, 7.451788425445557, 9.436192512512207, 7.0349440574646, 5.505423069000244, 6.748569488525391, 9.224166870117188, 14.561304092407227, 2.410355806350708, 12.257767677307129, -5.027312278747559, -11.835012435913086, 1.2710134983062744, -9.265481948852539, -4.577739238739014, -8.378043174743652, -7.207309722900391, -5.010732650756836, -10.458281517028809, -11.153517723083496, -10.039060592651367, -4.761167526245117, -12.155716896057129, -9.11087417602539, -5.610574245452881, 1.6787567138671875, -6.60983943939209, -10.494306564331055, -1.5678433179855347, -11.037882804870605, -4.676015853881836, -7.714914321899414, 14.405729293823242, -9.038981437683105, -8.740432739257812, -5.467493057250977, 2.0782430171966553, 7.199930191040039, -9.612154006958008, 1.0139652490615845, -3.194471597671509, -0.6877988576889038, -5.169358730316162, -6.358280181884766, -4.923779487609863, 3.1471428871154785, -6.145149230957031, 0.8799242377281189, -3.7821481227874756, -2.0569725036621094, 8.598210334777832, 3.189413547515869, -6.427189350128174, 18.220476150512695, -0.9837755560874939, 8.56955337524414, 16.108423233032227, 10.374622344970703, 17.695091247558594, 9.842703819274902, 10.221686363220215, 5.056990146636963, -0.5533314347267151, 6.106903553009033, 10.392845153808594, 11.70798397064209, 7.889059543609619, 11.653923988342285, 11.136590003967285, 14.371697425842285, 13.751642227172852, -14.460077285766602, -7.0218505859375, -7.34576940536499, -8.09069538116455, -6.00180721282959, -8.02933120727539, -4.8961944580078125, -0.8045185208320618, -7.2083024978637695, -8.140799522399902, -0.6620403528213501, -7.117903232574463, -6.547717094421387, -7.406252384185791, 0.4957006275653839, -4.847287178039551, 1.7071678638458252, 13.449884414672852, -0.1865919679403305, -8.897481918334961, 9.097895622253418, -3.2371573448181152, -6.45576286315918, 2.0174803733825684, -12.053098678588867, -11.27839183807373, -11.412918090820312, -1.376581072807312, -12.587128639221191, -14.137354850769043, -6.028083324432373, -3.3278415203094482, -0.6215420961380005, -6.0297956466674805, 0.890291154384613, -3.6779768466949463, -16.985816955566406, 5.133316993713379, -10.494384765625, -5.73832368850708, 0.7750192284584045, -0.007837335579097271, 3.372018337249756, 11.727527618408203, -10.100546836853027, 3.7745144367218018, -5.277638912200928, -1.4008811712265015, 1.1361334323883057, -6.290755748748779, -5.348830699920654, -3.489198684692383, -6.145395278930664, -9.146069526672363, -6.789633750915527, -5.965763092041016, 2.0900137424468994, -6.660005569458008, 3.243091344833374, -16.145254135131836, -5.160587310791016, 2.587160110473633, 6.355746746063232, -6.6182169914245605, -6.353221893310547, -7.659056186676025, 9.69321060180664, -4.670657634735107, -7.096037864685059, -15.167122840881348, -7.551394939422607, -3.9778099060058594, 14.58786392211914, 8.388323783874512, 13.715912818908691, 9.815604209899902, 8.805617332458496, -6.354747295379639, 2.583704948425293, 1.8501402139663696, 3.0849194526672363, 0.9131788015365601, -0.6816223859786987, 1.4507966041564941, -0.9207800030708313, 3.840895414352417, -5.347060203552246, 0.844611644744873, -10.95281982421875, 11.11922836303711, 10.009471893310547, 2.1131882667541504, 1.4859795570373535, 1.5679609775543213, 7.719029903411865, 0.011025691404938698, -6.43679666519165, 3.8063018321990967, 2.0218148231506348, -12.22834300994873, -10.787681579589844, 8.330517768859863, 5.629989147186279, -9.187132835388184, 0.009716418571770191, -3.5425567626953125, 1.8704197406768799, 12.20833683013916, 11.414407730102539, -0.024642324075102806, -17.423046112060547, 12.540997505187988, 2.731285810470581, 3.285205125808716, 14.998276710510254, 8.794431686401367, 0.04135585576295853, 6.554682731628418, 1.004252314567566, 7.7330827713012695, 13.527864456176758, 1.7322481870651245, -0.5578572750091553, -2.6183178424835205, 6.217074871063232, 8.075305938720703, 3.1133952140808105, 4.211355209350586, -10.703350067138672, -8.159764289855957, 0.6776439547538757, 15.015656471252441, -12.126282691955566, -12.770681381225586, -12.209803581237793, -8.511823654174805, -11.961691856384277, 1.3722529411315918, -2.023906946182251, -8.145771980285645, -0.3791625201702118, 13.934418678283691, -10.80379867553711, 3.386573314666748, 1.2364226579666138, 17.72208023071289, -5.041385173797607, -1.462401032447815, 0.9171927571296692, -2.1446468830108643, 8.792363166809082, 10.542549133300781, 1.4110794067382812, 7.365968227386475, -10.659265518188477, 1.027580738067627, -6.849706172943115, -9.00770092010498, 2.2557013034820557, 11.730709075927734, -0.517446756362915, -9.864456176757812, -11.561116218566895, -3.715656042098999, 2.8748440742492676, -9.11794376373291, 2.9761202335357666, 7.407085418701172, 10.543429374694824, -10.737051010131836, 5.446108818054199, 7.501718521118164, 9.716314315795898, -7.98420524597168, 12.076369285583496, -1.1092413663864136, -10.732864379882812, -8.915755271911621, -8.796491622924805, 3.375864267349243, 3.214035987854004, -1.7488300800323486, 2.6455438137054443, -1.2380986213684082, 0.8875755667686462, 9.730452537536621, -3.948681354522705, 3.6716127395629883, 13.684208869934082, -9.540842056274414, 3.5646891593933105, 3.467607021331787, -10.110782623291016, 5.5210676193237305, 3.289583683013916, 1.5836650133132935, 0.6334092020988464, 2.394305467605591, 3.105069398880005, -8.632226943969727, -14.270069122314453, 6.03285551071167, -8.360259056091309, 4.448701858520508, -9.375005722045898, -11.098714828491211, -3.6132233142852783, 2.9352362155914307, 0.4106781780719757, 12.163307189941406, -3.1585333347320557, 3.2854151725769043, 1.084275722503662, -0.14071111381053925, 3.443455219268799, -0.928156316280365, 9.064846992492676, 9.195143699645996, -3.755657911300659, -11.369376182556152, 0.4648469090461731, -9.169234275817871, 3.980865478515625, 10.613448143005371, 0.512010931968689, -7.647205352783203, 4.788378715515137, 0.9612703919410706, -0.6063271164894104, 10.560186386108398, 13.542821884155273, -4.946379661560059, 7.569366455078125, 6.200137138366699, 6.112698078155518, 5.912143707275391, 15.734071731567383, 9.973021507263184, 7.795560836791992, -7.308526039123535, -3.9332375526428223, -5.273121356964111, -5.161270618438721, -4.930376052856445, -7.83843469619751, -7.607348442077637, -3.6187524795532227, -6.447699546813965, -6.608658790588379, -7.441440105438232, -6.383054256439209, -6.156335830688477, -6.522088050842285, 2.287322521209717, -11.00514030456543, -17.4901180267334, 3.5384461879730225, -3.223464250564575, 14.6873779296875, -10.483909606933594, -1.2098592519760132, -1.7908941507339478, -4.38256311416626, -8.855123519897461, -3.5589065551757812, 13.82051944732666, -4.861922264099121, 0.8486451506614685, -0.697717010974884, 10.483308792114258, -0.8045652508735657, -8.174577713012695, 0.09461939334869385, -5.8442301750183105, 6.7472920417785645, 0.6908522248268127, -0.7496303915977478, 15.691490173339844, 2.3241629600524902, 10.594986915588379, -11.203014373779297, 2.5546045303344727, 13.013181686401367, 13.725406646728516, 10.819411277770996, 7.927578449249268, 1.4897288084030151, -14.773344039916992, 4.2790045738220215, -10.79267406463623, 1.5045843124389648, 17.407987594604492, 3.1858696937561035, -2.1043972969055176, 8.3070068359375, 13.197394371032715, 7.530189514160156, -9.995257377624512, 2.0417332649230957, -5.59144926071167, 2.4819302558898926, -3.692300319671631, 10.413491249084473, 0.3810424506664276, 2.606196641921997, 11.5364990234375, -3.5289554595947266, 16.823400497436523, 0.4072670042514801, 2.004551410675049, -4.697902679443359, -3.5784971714019775, 13.20887565612793, 12.267098426818848, 14.455984115600586, -2.22676157951355, 15.064739227294922, 8.86770248413086, 8.77126693725586, 5.279163360595703, 14.571115493774414, 6.5290703773498535, 13.526130676269531, 1.1301506757736206, 5.470859527587891, 7.463404178619385, 13.883317947387695, 5.42807674407959, 11.448286056518555, 3.9961838722229004, 5.506097793579102, 1.1442009210586548, 2.521733522415161, 1.5155986547470093, -0.9113840460777283, 2.9119434356689453, -4.911580562591553, 3.960463285446167, -0.5938258171081543, -3.6087875366210938, -4.797377109527588, 2.6397626399993896, 3.3522629737854004, 0.21831806004047394, -3.0768215656280518, 7.019515514373779, 6.219524383544922, -5.330001354217529, -6.32802677154541, 13.329119682312012, 12.620831489562988, 8.774116516113281, 5.094045162200928, 5.1086320877075195, 0.4290087819099426, 2.7516989707946777, 3.155238628387451, -8.167627334594727, -3.42720365524292, -11.040390014648438, -11.089411735534668, 13.400606155395508, -3.4880831241607666, -1.5074282884597778, -3.431338310241699, 3.217468738555908, -1.7855249643325806, -1.1001574993133545, 5.090036869049072, -0.5284587740898132, -2.6480793952941895, -9.078204154968262, 0.4083736836910248, -1.2347393035888672, 7.3336639404296875, 4.1918792724609375, -4.863616943359375, 19.071163177490234, 8.271021842956543, -1.5116231441497803, -13.765144348144531, -0.9383228421211243, -1.6276673078536987, -1.1338344812393188, -0.1996985673904419, -3.904813051223755, -2.3518834114074707, 9.415821075439453, -2.98417067527771, 2.5775222778320312, 9.34425163269043, 2.9527478218078613, -9.897446632385254, -0.14069916307926178, -0.6145967841148376, -1.2021374702453613, -12.048059463500977, 3.7695491313934326, 15.103507995605469, -1.5679265260696411, 9.15112018585205, 2.2180733680725098, 0.20275750756263733, -1.115615725517273, -5.335963726043701, -12.784424781799316, 8.759571075439453, 0.9498912692070007, 3.365802526473999, 5.024153709411621, 7.7409443855285645, 2.6334965229034424, -8.8048677444458, 7.846654891967773, -1.6222928762435913, -10.826891899108887, -6.726487636566162, -7.042487621307373, -10.67292594909668, 12.836474418640137, 2.9703495502471924, 3.807908296585083, -10.715095520019531, 8.300222396850586, 5.555407524108887, -2.255181312561035, 2.653966188430786, -11.27107048034668, -10.772072792053223, 1.0929503440856934, -3.3816239833831787, -3.486180305480957, 0.4212590754032135, -8.821743965148926, -1.6496374607086182, -6.2729387283325195, 16.279788970947266, 15.410758972167969, 9.778813362121582, 10.927308082580566, 9.07275104522705, -2.9703588485717773, 13.867777824401855, 4.860546588897705, 14.559632301330566, 9.582874298095703, 18.63978385925293, 15.748732566833496, 9.49144458770752, 15.808113098144531, 17.916488647460938, 11.393492698669434, 9.835939407348633, 0.507394552230835, 1.6599435806274414, -6.077004432678223, 4.601113319396973, 9.584141731262207, 9.557907104492188, 13.32487964630127, 10.446606636047363, 16.509672164916992, 14.276698112487793, 14.748693466186523, 9.054033279418945, 3.2212703227996826, 12.598417282104492, 12.594547271728516, 9.413836479187012, 9.767868041992188, 16.7757625579834, 14.169918060302734, 8.47855281829834, 4.33966064453125, 18.940746307373047, 12.426057815551758, 13.254256248474121, 9.694086074829102, 7.85312557220459, 13.345901489257812, 13.091882705688477, 13.556719779968262, 4.824861526489258, -4.835881233215332, -8.62539291381836, 0.9606103301048279, -4.508070945739746, -7.516679286956787, 3.0160703659057617, 2.6338555812835693, -3.178361177444458, 12.351339340209961, 3.331441879272461, 2.5546061992645264, 2.9739339351654053, -4.928213596343994, 3.1693177223205566, -11.124288558959961, -1.568701982498169, -9.345206260681152, 2.844113349914551, 1.666319727897644, -6.992049694061279, 7.071468830108643, 1.29719078540802, 0.9308622479438782, 3.2605557441711426, -7.419365406036377, 2.6643760204315186, -9.541159629821777, 9.880969047546387, 1.766083836555481, 9.340560913085938, 7.390624523162842, 0.5409784317016602, -3.284809112548828, 13.652344703674316, -0.4785251021385193, 5.881832599639893, 4.930917263031006, -5.034059047698975, 2.901756525039673, -1.566009759902954, -1.2634273767471313, -0.12525834143161774, -1.5155411958694458, -0.0655648410320282, -1.45590078830719, 6.39988899230957, 13.14389419555664, -4.8132734298706055, 2.136139154434204, -2.0270330905914307, 2.401902675628662, 0.7902229428291321, -0.9648537039756775, -1.5072481632232666, 18.760488510131836, 8.858365058898926, 15.277806282043457, 2.3554093837738037, 1.2257986068725586, -5.145375728607178, 15.216577529907227, -5.937874794006348, 9.36806869506836, 5.521024227142334, 0.59279465675354, 4.3396453857421875, 5.351251602172852, -6.353679656982422, 2.7773263454437256, 0.25519880652427673, 7.358397483825684, 1.459932565689087, -7.456292629241943, 9.43265151977539, 3.0375301837921143, -8.964742660522461, 6.140570640563965, 7.786879062652588, 5.727446556091309, 2.9570364952087402, 0.1411682814359665, -0.9591832756996155, -5.4240922927856445, -4.126037120819092, 2.0657782554626465, -2.6754674911499023, 11.428704261779785, -0.665818452835083, -5.426855087280273, -0.9788774847984314, -4.702970504760742, -4.365683078765869, -1.3169384002685547, -4.437105178833008, -3.3665266036987305, 7.3382768630981445, -5.6068291664123535, 0.8706481456756592, 2.9615728855133057, -6.206048488616943, 0.6410419940948486, 2.5059444904327393, 9.83182430267334, 2.4408376216888428, 4.650475978851318, 12.869577407836914, 1.5383213758468628, 1.3361953496932983, 4.261943340301514, 9.941376686096191, 9.906206130981445, -2.4636383056640625, -7.191069602966309, -1.5655847787857056, -6.078759670257568, 1.2988919019699097, -2.156445264816284, 11.819745063781738, 9.287627220153809, 14.854225158691406, 6.855711460113525, 9.720232009887695, 11.958550453186035, 14.859285354614258, 12.681181907653809, 9.681304931640625, 13.155174255371094, 11.818492889404297, 4.510721683502197, 13.992319107055664, 10.943885803222656, 10.59203052520752, 14.987619400024414, 9.584854125976562, 15.094194412231445, 7.776241779327393, 14.729373931884766, 14.346370697021484, 9.587268829345703, 15.502166748046875, 0.5627699494361877, 10.428586959838867, 11.607439041137695, 4.06956148147583, 5.399644374847412, 10.964499473571777, 8.424745559692383, 11.070531845092773, 6.620334148406982, 9.989133834838867, 13.03817081451416, 6.275805950164795, 14.070347785949707, 14.045255661010742, 13.281898498535156, 5.323791980743408, 11.835709571838379, 7.762014865875244, 15.068258285522461, 12.785377502441406, 7.230116367340088, 1.181571364402771, 1.1192278861999512, -3.5854928493499756, 4.375382423400879, -4.452661514282227, -1.228511929512024, -1.7212775945663452, -2.3041903972625732, -0.7717921733856201, 2.392756223678589, 1.1129515171051025, -1.946595549583435, -1.6459221839904785, 8.530503273010254, 1.4132978916168213, -11.848968505859375, 2.8187015056610107, 2.6042933464050293, 3.7106757164001465, 9.8837251663208, 4.253472805023193, 9.194123268127441, 12.910514831542969, 5.298238277435303, 7.932856559753418, 9.013529777526855, 14.558146476745605, 5.443778038024902, 5.111062526702881, 15.092105865478516, -4.19537353515625, 1.172234296798706, 9.510797500610352, -0.026493890210986137, 7.8099188804626465, 5.437031269073486, 4.785297393798828, -10.323999404907227, 0.8981589078903198, -7.93029260635376, -3.9473307132720947, 0.6269635558128357, 2.5408167839050293, 2.9905736446380615, 9.004049301147461, -3.6748101711273193, 0.40494605898857117, 14.830101013183594, 1.1153310537338257, 4.867583751678467, 13.218436241149902, 14.458296775817871, 1.378014326095581, 10.583159446716309], \"z\": [0.9727278351783752, -3.1135761737823486, -3.1199705600738525, -10.890368461608887, 3.701956033706665, -4.370961666107178, -4.804571628570557, -2.4344019889831543, -8.46097469329834, -12.11580753326416, -1.116539716720581, -3.018709182739258, -8.560145378112793, 7.469117641448975, -0.7341796159744263, 4.800281047821045, -2.628624677658081, 6.244445323944092, -7.706432819366455, 1.4612808227539062, -0.5795512199401855, 2.6580355167388916, -0.22090908885002136, -1.7947238683700562, 2.232980489730835, -0.2843654155731201, -2.160924196243286, -0.8161420226097107, 0.007935566827654839, 3.4865169525146484, -7.125717639923096, -3.207482099533081, -0.9013899564743042, 0.1527038961648941, -3.0288641452789307, -0.412885844707489, -0.2399505078792572, 0.32793280482292175, -1.2396734952926636, 1.1754844188690186, 1.809471845626831, -4.206628322601318, 4.4310479164123535, 5.066201686859131, -2.805826425552368, -0.504496157169342, -0.658777117729187, -1.1421688795089722, 0.28316357731819153, -0.27793845534324646, -0.1447485238313675, 0.07770621031522751, -1.3937256336212158, -2.2762949466705322, -1.03012216091156, -0.8167323470115662, -5.091465950012207, 4.331374168395996, 1.0624746084213257, 0.4345366358757019, -0.3134663999080658, -5.881527900695801, 2.3222055435180664, 0.9623979926109314, 2.40580153465271, 0.3214016556739807, -3.30287766456604, 3.2031338214874268, -1.0737382173538208, -0.30265212059020996, 2.3256351947784424, 2.203280448913574, 1.2939527034759521, -0.027669481933116913, -0.8810259699821472, -1.2236008644104004, -0.7202351093292236, -4.943732261657715, -8.558602333068848, 1.054519534111023, -0.4932081997394562, 7.153849124908447, -0.2091013640165329, -4.699117183685303, -1.9837054014205933, -3.9398369789123535, 0.8264787793159485, 0.33777204155921936, -0.6274378299713135, 1.2816529273986816, 4.8074188232421875, 0.7138025760650635, -0.06682737171649933, -4.208899021148682, -6.366076946258545, -2.9152543544769287, 1.3483195304870605, -0.5360467433929443, 0.059636157006025314, -4.273021221160889, -1.080092191696167, -4.948315143585205, -5.600647926330566, -0.8226005434989929, -0.31213024258613586, 1.6414504051208496, -9.281781196594238, -7.362746238708496, 9.275045394897461, -10.6356782913208, -3.233018159866333, -10.189723014831543, -4.077754020690918, 2.106415271759033, 4.959659576416016, -0.5860565304756165, -7.363774299621582, -5.614537715911865, 6.659297466278076, -5.676339149475098, -2.474731683731079, -10.648130416870117, 1.020919919013977, -10.674696922302246, 3.6957309246063232, 1.631982684135437, 5.311966896057129, -5.466677665710449, -2.4301180839538574, -2.6930761337280273, 12.49498462677002, -0.9166243672370911, -8.001233100891113, 6.012559413909912, 8.668209075927734, 2.8778069019317627, 5.034878730773926, -8.30141544342041, -7.400766849517822, -8.42313003540039, 6.808398723602295, 0.0449058823287487, 0.7620501518249512, 0.7083112597465515, 0.8190323710441589, -10.8799409866333, -3.108771324157715, -8.835407257080078, -5.374566555023193, -3.3376762866973877, -7.817816257476807, 1.6925408840179443, 1.2773445844650269, -0.6760953664779663, -0.10564291477203369, -4.38974666595459, -1.983024001121521, -0.15574334561824799, -9.691895484924316, -2.5987026691436768, -2.96964693069458, 0.6187474727630615, 3.408071756362915, 3.1028010845184326, 3.210322141647339, 4.329561233520508, 0.9720595479011536, 5.250527381896973, -9.179835319519043, -3.321465015411377, -9.707201957702637, 0.9274179339408875, 3.912044048309326, -7.243982791900635, -0.4103895127773285, -0.12992899119853973, 3.6697518825531006, 1.6046196222305298, -9.328947067260742, -4.493051528930664, 4.9062089920043945, -0.1682269424200058, 3.4757683277130127, -8.729230880737305, 2.28338360786438, -3.450429916381836, -5.220332622528076, -9.04297924041748, -4.428264141082764, -1.048478126525879, -3.0241119861602783, -3.747896671295166, 7.023027420043945, 7.528650760650635, 4.78720760345459, 4.097177982330322, 12.170177459716797, -7.8998589515686035, 4.727789878845215, -2.2433738708496094, 4.2919921875, -6.746364593505859, 5.488897800445557, 10.572758674621582, 6.310922622680664, 5.044116020202637, -8.416701316833496, 4.464407444000244, 3.387021541595459, 6.197057723999023, 0.715552568435669, 3.8698136806488037, 3.612147092819214, 2.1642849445343018, 6.973276615142822, -8.193269729614258, -3.6202890872955322, -9.920517921447754, -1.6746834516525269, 1.3787468671798706, -4.813345909118652, 4.300981044769287, 6.971488952636719, 1.5549243688583374, 4.751163482666016, 5.762345790863037, 7.293771743774414, -1.48904287815094, 1.2838959693908691, 5.742610454559326, -1.142530083656311, 4.880847930908203, 6.407774448394775, 8.829906463623047, -3.5934019088745117, -8.571539878845215, -1.2725400924682617, -3.1228554248809814, 6.181363582611084, -3.27378511428833, 10.80733585357666, -8.289393424987793, 0.5543001890182495, -10.064865112304688, 6.374277114868164, 5.619715213775635, -6.910691738128662, 13.094064712524414, -2.6657159328460693, 2.578636884689331, 5.585055351257324, -4.990093231201172, 2.4219861030578613, -1.2675282955169678, -2.159069538116455, 4.886836051940918, 4.879429340362549, 12.439313888549805, 2.935058832168579, -7.0354132652282715, 0.773640513420105, -7.917322635650635, 5.269040584564209, -0.39742910861968994, -5.079647541046143, 1.9487913846969604, 6.504537582397461, -3.849799633026123, -8.87675952911377, 3.822964906692505, 4.155533313751221, -8.53077507019043, 7.3238525390625, 5.183090686798096, 5.323031902313232, -11.147814750671387, 4.453975677490234, 5.433005332946777, -3.7375173568725586, 6.3970232009887695, 4.046429634094238, 3.8715264797210693, -8.170557022094727, 3.8681139945983887, -3.018162488937378, -0.6500632762908936, 1.8461716175079346, -0.1546175479888916, 6.440845489501953, 7.222563743591309, 2.3911540508270264, -9.305052757263184, -5.250853538513184, 5.025837421417236, 5.059226989746094, -12.330791473388672, -10.716206550598145, 1.7489607334136963, -7.473508358001709, 12.87959098815918, 2.8595917224884033, 6.070160388946533, 3.999993324279785, -12.02249813079834, 4.27969217300415, 3.839588165283203, 9.064776420593262, 4.738108158111572, 6.348906517028809, 2.1503524780273438, 4.969866752624512, 4.191034317016602, 3.7344415187835693, 2.2985808849334717, 9.25961685180664, 5.0832061767578125, -2.7436842918395996, 4.163172245025635, -0.29366564750671387, 7.692415714263916, 4.551234245300293, 5.98238468170166, 4.098154544830322, 8.453962326049805, -7.741925239562988, -1.4510748386383057, 4.098835468292236, -9.074984550476074, 4.768847942352295, 5.155273914337158, -4.021780490875244, -8.503945350646973, -9.306894302368164, -7.834819793701172, -5.7998762130737305, -2.621455192565918, -5.24184513092041, -4.16981315612793, 5.576641082763672, 6.840886116027832, -1.9514857530593872, 3.427528142929077, 3.491933822631836, 3.0771596431732178, 5.697192192077637, -5.826703071594238, 4.973675727844238, 4.5194807052612305, -6.429426670074463, -9.943225860595703, 3.815258026123047, 4.829650402069092, 9.548123359680176, -0.13002784550189972, 1.1475399732589722, -5.567861080169678, -7.051877021789551, 2.5763978958129883, 9.106389045715332, -6.661927223205566, 11.985456466674805, 2.831022024154663, 8.553418159484863, -9.599865913391113, 9.053579330444336, 6.8714213371276855, 4.816688060760498, 8.411099433898926, 4.880000591278076, 0.8545765280723572, -9.129496574401855, 2.1204233169555664, 1.0051796436309814, 3.8274102210998535, -8.799392700195312, -0.49643954634666443, 4.989327430725098, -6.855329513549805, 0.39099791646003723, -5.2904052734375, 3.7240517139434814, 0.658576250076294, 3.821053981781006, 12.729247093200684, 11.628571510314941, 8.13284683227539, 1.8994884490966797, 3.495845317840576, 0.7501433491706848, 6.552474498748779, -8.552268028259277, -9.876801490783691, 2.415510892868042, -6.64417839050293, -3.1694045066833496, 2.506988286972046, -7.9676971435546875, -9.046451568603516, -10.105106353759766, -6.019117832183838, -2.8856310844421387, 8.050124168395996, -9.721531867980957, 4.028722286224365, -10.633872032165527, -6.607561111450195, -9.049983024597168, -10.151268005371094, -2.005749225616455, -3.5939650535583496, 3.4632387161254883, -9.170440673828125, -10.649136543273926, -6.448906421661377, 3.0999488830566406, -7.830167293548584, -5.678058624267578, -9.093162536621094, -4.6078200340271, -6.464717864990234, -10.36845588684082, -1.5221750736236572, 13.917494773864746, -3.034472703933716, -7.733225345611572, -3.4796996116638184, -5.676364421844482, 7.418976306915283, 4.331303596496582, -10.88725471496582, -7.644120216369629, -8.285154342651367, -4.918214321136475, -6.369266033172607, 3.238949775695801, 5.428610801696777, -2.495353937149048, 13.090535163879395, 2.2297873497009277, -8.766082763671875, -8.44305419921875, -6.877101898193359, 6.72773551940918, -7.046178817749023, -5.031505107879639, 13.175042152404785, -6.74151086807251, 0.21014200150966644, -5.417108058929443, 0.9015330076217651, -4.191989898681641, 4.897569179534912, -6.487827777862549, -5.055708408355713, -0.5402504205703735, -3.4357473850250244, 4.344093322753906, -10.32159423828125, -3.5142645835876465, 11.950408935546875, -3.0030949115753174, -2.4773128032684326, -1.207270622253418, -4.6138505935668945, 6.256981372833252, -2.3372440338134766, -3.47358775138855, 3.500971794128418, -0.7186713814735413, -5.749200820922852, -8.963299751281738, 7.383531093597412, -10.712002754211426, -0.8150002956390381, -8.496674537658691, -2.9213225841522217, -3.4503087997436523, 4.700156211853027, -9.23416805267334, 5.025424003601074, -0.5337761640548706, -7.103172302246094, 4.6539530754089355, 3.5506582260131836, -9.258761405944824, 4.545424938201904, 1.772107720375061, 5.946858882904053, -0.4385177791118622, 0.8268887996673584, 1.6060147285461426, -3.8574914932250977, 1.412624716758728, -2.101440668106079, -1.4406129121780396, 7.264115333557129, 3.464172124862671, 8.208456039428711, 1.5664100646972656, -0.9959502220153809, 12.64928913116455, 0.11086677759885788, -1.4004919528961182, -12.02683162689209, 0.324485719203949, -1.9380180835723877, -0.1933334469795227, 5.840970993041992, -4.280767917633057, -5.093045234680176, 5.902608394622803, 1.349508285522461, 1.5792360305786133, -1.644602656364441, -1.0494909286499023, -3.7369794845581055, 1.6405868530273438, 1.4370871782302856, 0.00010472215944901109, 1.3818089962005615, 6.890766620635986, 5.567959785461426, -2.470691204071045, 3.15812087059021, 0.6609318852424622, -0.93137127161026, -8.14207649230957, -6.49991512298584, -1.284508228302002, 4.161340236663818, -9.449722290039062, 1.5011720657348633, 6.631497383117676, 4.571653842926025, 5.081610679626465, 7.001288414001465, 3.4216103553771973, 1.6858975887298584, 6.607105731964111, 7.184682369232178, 6.149742126464844, 3.429488182067871, 4.447796821594238, 3.2469706535339355, -0.34214332699775696, -1.32408607006073, 9.621786117553711, 9.4794282913208, 5.0111236572265625, 3.344109535217285, 3.8305065631866455, 5.969426155090332, 5.032225131988525, 1.1534712314605713, 5.230117321014404, 6.76340389251709, 1.3759781122207642, 4.438993453979492, 1.313644289970398, 8.146665573120117, 9.599882125854492, -1.0573713779449463, 1.6331679821014404, 6.168686866760254, 6.810986518859863, 3.563070774078369, -2.8851146697998047, 8.590717315673828, -5.6295576095581055, 3.360802173614502, 5.651684761047363, 5.3110575675964355, 5.890868186950684, 5.446450710296631, -0.6053515076637268, -1.6531676054000854, -0.35059890151023865, 5.079521179199219, 0.9153918623924255, -1.4547555446624756, 9.125761032104492, 0.9706780910491943, -6.620967388153076, 1.3903987407684326, -3.0558133125305176, 5.56797981262207, -1.0998187065124512, 1.6585562229156494, -3.726696014404297, -3.956806182861328, -8.591885566711426, -5.119329452514648, 4.062222003936768, 5.4308342933654785, 11.551628112792969, 10.840004920959473, 2.253789186477661, 1.5529834032058716, -0.9418393969535828, -0.9274402260780334, 1.5094292163848877, -6.967545032501221, 5.223627090454102, -6.405245780944824, 6.954553127288818, 0.5705589652061462, 4.646244525909424, -4.79174280166626, 2.1599552631378174, -9.81692886352539, -7.826327323913574, -9.490338325500488, -2.245204210281372, -7.371830940246582, -8.350732803344727, 5.804505825042725, 1.35512113571167, -2.839270830154419, -4.830657958984375, 6.056952953338623, -5.942971229553223, 0.5140171051025391, 3.344515562057495, -0.8287083506584167, 4.161029815673828, 1.761204481124878, 2.094089984893799, -10.144776344299316, -9.123311996459961, -8.452004432678223, 0.964314877986908, 3.229393482208252, 5.7374725341796875, -8.64981746673584, 5.77618932723999, -10.214385986328125, -9.511007308959961, 6.986189365386963, -5.639458656311035, -9.688128471374512, 7.93699312210083, -9.082015037536621, 0.30599430203437805, -9.261153221130371, -3.971374750137329, -10.060196876525879, -2.959479808807373, -6.997229099273682, -4.641227722167969, 4.8475494384765625, 4.815443992614746, 3.782062292098999, -9.143304824829102, -5.753911972045898, 4.76788330078125, 6.882513999938965, -8.322039604187012, 0.25841400027275085, -9.411934852600098, -6.391759395599365, 1.0349832773208618, -3.348013162612915, -9.827813148498535, -8.788799285888672, 4.968949794769287, 5.774487495422363, 1.6068637371063232, -9.555685043334961, -9.537481307983398, -9.626469612121582, -1.7334845066070557, -1.6456315517425537, -3.2333850860595703, -8.173723220825195, 1.888599157333374, 4.6630659103393555, -8.203834533691406, -10.441263198852539, -10.820687294006348, 3.550354480743408, 5.027398109436035, -9.973937034606934, -9.996417999267578, 3.30916690826416, -10.31562614440918, 5.1188836097717285, 9.668445587158203, -9.223122596740723, -4.687527179718018, 13.089079856872559, 2.435706377029419, -5.488460063934326, -3.4504740238189697, -8.673238754272461, 5.250409126281738, -8.028597831726074, -3.4599995613098145, 7.097625255584717, 9.881697654724121, 5.516774654388428, -8.481568336486816, -6.709216594696045, -5.221610069274902, 3.392622232437134, 0.6239708065986633, 3.1654837131500244, 9.364253997802734, 4.868613243103027, -8.567937850952148, -1.6268694400787354, 0.8843961954116821, 11.940055847167969, -3.234154462814331, -3.4322664737701416, 2.1278061866760254, -10.113946914672852, 0.28580236434936523, 5.441835880279541, -2.2811825275421143, 8.520540237426758, 8.610955238342285, -5.345412254333496, -0.006829984486103058, -0.25728732347488403, -8.225859642028809, -5.810920238494873, -3.42852520942688, -8.65275764465332, 4.3901262283325195, 4.871251106262207, 5.697903633117676, -5.9899091720581055, -9.795317649841309, -6.66497802734375, -4.6677727699279785, -6.565032958984375, 5.288806438446045, -8.80822467803955, 12.379398345947266, -10.21795654296875, -1.9730221033096313, -6.135875225067139, -3.7864913940429688, -3.3117287158966064, 6.31549596786499, 5.705357551574707, -7.350284576416016, -1.5440107583999634, -3.713557720184326, 3.450153112411499, 1.672379493713379, -5.817370414733887, 3.9079337120056152, -2.0715789794921875, -3.5221457481384277, -8.85130500793457, 0.9056780338287354, 6.979548454284668, 8.554092407226562, 8.137853622436523, -10.44392204284668, 3.1690661907196045, 12.621607780456543, -1.8559750318527222, -7.310922145843506, -8.485759735107422, 6.300915718078613, 3.432628631591797, 9.21989631652832, 11.997303009033203, 5.668330192565918, 4.706576824188232, 7.09737491607666, 3.1980960369110107, 5.185059547424316, -0.9054908752441406, -0.6911392211914062, -10.138201713562012, -0.7877975702285767, -5.673706531524658, 2.561460494995117, 5.190349102020264, 5.440432071685791, 11.658400535583496, -3.602170944213867, -6.830531120300293, -2.913965940475464, -4.629868984222412, 6.944526672363281, -0.49752795696258545, -0.1893107295036316, -0.43214842677116394, 6.885037422180176, 6.608897686004639, 6.506396770477295, 4.55284309387207, 9.589634895324707, 1.864274263381958, 7.845700263977051, 10.46575927734375, 1.223010540008545, 7.020498752593994, 4.410670280456543, 0.2962868809700012, 6.661456108093262, 3.035888671875, 10.685321807861328, 5.837313175201416, -1.0695843696594238, 0.6483737826347351, 2.162355661392212, 8.106325149536133, 0.7411482930183411, -7.70706033706665, -10.034340858459473, -0.2246522754430771, -7.937598705291748, -0.37652525305747986, 2.173959970474243, 5.303612232208252, 0.36666977405548096, 5.731771945953369, -5.530055046081543, -2.641850233078003, 1.575585961341858, 5.189228057861328, 0.5888591408729553, -3.552508592605591, 6.054482936859131, 2.7689130306243896, -0.08318360894918442, 2.8303651809692383, -2.5086476802825928, -2.207333564758301, 3.4876229763031006, 2.0572993755340576, -1.3336422443389893, 0.7969279885292053, 0.28625547885894775, 0.79120272397995, -2.3050894737243652, -0.09849658608436584, -0.24704188108444214, 4.7122087478637695, -0.4529789388179779, -0.3656352460384369, 1.7210900783538818, 2.1121633052825928, 3.506636619567871, 7.863534450531006, 1.79486083984375, 5.408303260803223, -1.0127720832824707, -0.4307902157306671, -0.4145049452781677, 2.4813461303710938, -0.11990483850240707, -3.810427665710449, 6.285233497619629, -3.6257104873657227, -0.4088810086250305, -0.9214958548545837, -1.7970093488693237, 2.3892159461975098, -5.2346343994140625, -6.0252885818481445, -1.207421898841858, 0.9932848215103149, 0.2724538743495941, -3.361577033996582, -0.32654017210006714, -1.2613773345947266, -1.00677490234375, -1.7315568923950195, -1.0846253633499146, -9.698664665222168, -0.5817064046859741, -0.2738511264324188, -1.132399559020996, -0.32995617389678955, -6.98322868347168, -3.207918882369995, -1.2250003814697266, -1.708652138710022, 0.6021212935447693, 0.9715266227722168, -1.228333592414856, -4.1061530113220215, 0.7531177401542664, 0.14870044589042664, -2.3620259761810303, 0.9148436784744263, -0.39234715700149536, -1.4619123935699463, -0.4129001796245575, -2.802699565887451, -5.911323070526123, -0.691760778427124, 5.495787143707275, 0.13907134532928467, 0.36830297112464905, 0.45242172479629517, -6.644485950469971, 5.996086597442627, 0.29987192153930664, 1.7153078317642212, 8.09199047088623, 3.3292505741119385, 4.0814995765686035, 4.8278727531433105, -1.3987137079238892, 0.27108657360076904, 10.708511352539062, -10.266423225402832, 10.198090553283691, -0.26146483421325684, 3.5637404918670654, 3.6501474380493164, 5.715295314788818, 2.4002764225006104, -10.65835189819336, 12.4613676071167, 2.5476746559143066, 3.5545132160186768, -7.158170223236084, 6.589168071746826, -2.656484842300415, -9.047855377197266, 3.972947120666504, 4.592499732971191, 5.712438583374023, 1.2349658012390137, 6.874208450317383, 7.263390064239502, -5.651280403137207, -3.198415756225586, 5.103537082672119, 12.0385160446167, 14.358832359313965, 0.34343042969703674, 3.604168653488159, 3.4832589626312256, 4.437168598175049, 2.0123844146728516, -0.3770245611667633, -1.6291621923446655, -2.1363275051116943, 2.281390905380249, -1.0719289779663086, 1.387764811515808, -0.11871902644634247, -1.9009110927581787, -0.4922243058681488, -4.403199195861816, 2.45678973197937, 0.28489989042282104, 8.669170379638672, -1.6057791709899902, 1.9833520650863647, 5.716316223144531, -0.3214094042778015, 2.1711597442626953, -3.1859872341156006, 0.8280492424964905, 1.942386269569397, -0.8406955003738403, 4.944843769073486, 1.5150964260101318, 2.802344799041748, 3.315322160720825, -0.07261241227388382, 5.611073017120361, 7.11722469329834, 5.88051176071167, -0.24675074219703674, 0.012080739252269268, -1.08492910861969, 12.426080703735352, 3.9900496006011963, -8.370281219482422, -8.44563102722168, 5.914308071136475, -4.77687931060791, -5.600203990936279, 3.508100986480713, 0.8577768206596375, -5.553152561187744, 4.813292980194092, 7.075743198394775, 4.270137310028076, 4.693666934967041, 3.179933547973633, 4.218393802642822, 4.217970371246338, -0.8253828883171082, 6.8952107429504395, 4.082067489624023, 6.69927978515625, 12.683441162109375, -6.449478626251221, 3.482779026031494, 0.20309284329414368, -0.4463210701942444, 12.460408210754395, 0.2835254669189453, -9.02496337890625, -1.177160382270813, 6.53930139541626, -0.890706479549408, 6.911834239959717, 7.348310947418213, 13.90455150604248, -11.595477104187012, 2.66304087638855, 0.33450669050216675, -1.053017497062683, -10.019831657409668, 5.453245162963867, 9.235307693481445, 4.937061786651611, 6.176613807678223, 6.947131156921387, 4.369973659515381, 0.9892817735671997, -0.32706600427627563, 14.059879302978516, -1.2841962575912476, -0.7624832987785339, -4.4178547859191895, 4.495278358459473, 3.7525017261505127, -3.0383872985839844, 4.209227561950684, 5.679625034332275, -0.15848249197006226, 5.484524726867676, 12.919180870056152, 7.433777332305908, -4.669978618621826, 1.328033447265625, -1.64486825466156, -0.03340720757842064, 11.802927017211914, -1.8271288871765137, -6.556754112243652, 1.2778348922729492, -6.669894695281982, -9.48630428314209, -6.255507469177246, -0.7414526343345642, 1.072104811668396, -2.067699909210205, -6.208410263061523, 2.302839994430542, 5.633002758026123, 5.140238285064697, 6.7070112228393555, 7.638627052307129, 0.454836368560791, -0.23960629105567932, -6.599039077758789, 7.226133823394775, 2.4866397380828857, -4.211056232452393, 4.540414333343506, 3.2959940433502197, 1.0124303102493286, 4.478700637817383, 9.298941612243652, 8.213639259338379, 3.741830825805664, 2.948437452316284, -0.6317809820175171, 5.610837459564209, 0.6737273335456848, 0.47182369232177734, -3.6644575595855713, -1.2299416065216064, -0.995330274105072, 0.1620251089334488, -1.4943398237228394, -5.221601963043213, -0.46795350313186646, -2.976027488708496, -2.4886159896850586, 6.85281229019165, -5.157148838043213, -0.6495426893234253, -3.834169387817383, 0.2522425055503845, -3.2837557792663574, -0.4523887634277344, -1.2078644037246704, 2.028984308242798, 2.9669525623321533, -6.9870429039001465, 0.15617407858371735, 4.6284027099609375, 1.624857783317566, 2.912684917449951, -1.5487205982208252, 4.371634483337402, -8.466462135314941, -10.818855285644531, 3.9294629096984863, -1.705798625946045, -6.877143383026123, 3.4141154289245605, -1.1185873746871948, -6.565055847167969, -0.49348899722099304, 4.259965896606445, -12.508645057678223, -7.493487358093262, 5.2205400466918945, 1.2537425756454468, -3.8022477626800537, 1.2572797536849976, -0.23669923841953278, 5.605482578277588, 7.205775260925293, 2.5762243270874023, -8.50626277923584, 2.9528937339782715, 2.2775747776031494, 3.991732358932495, 2.87255597114563, 3.3806521892547607, -10.188806533813477, -2.0340616703033447, -0.9093760848045349, 2.655482769012451, -0.3674389123916626, -3.1391289234161377, 2.759204387664795, -2.784982204437256, -0.25277987122535706, -3.426447868347168, -2.9134349822998047, 5.958802223205566, -1.9142404794692993, 5.357591152191162, -1.3281201124191284, -3.534296989440918, -1.3654875755310059, 6.786356449127197, 1.0475529432296753, 2.938056707382202, 5.58821964263916, -5.282676696777344, -0.8581101894378662, 3.135120391845703, 5.237149238586426, 1.3493297100067139, 2.112187385559082, 1.070379376411438, 1.0391249656677246, 3.186380624771118, -2.819556713104248, 3.0825047492980957, -10.892291069030762, 6.770703315734863, -2.1976585388183594, -0.9845511317253113, 4.0856499671936035, -1.2636200189590454, 1.661214828491211, -3.1797091960906982, 6.689257621765137, 0.8965927362442017, 3.232477903366089, 12.781989097595215, 0.7450394034385681, -4.091460704803467, 4.247750282287598, 0.017963020130991936, 8.268089294433594, -5.997459888458252, -7.229599475860596, -0.7053161859512329, 3.8184876441955566, -3.7449605464935303, -0.7810240387916565, 1.622468113899231, 2.968215227127075, -4.6371941566467285, 3.719285249710083, 1.2492655515670776, 1.6626712083816528, -6.4691996574401855, 4.137362480163574, 0.805379331111908, -7.627556800842285, -9.415178298950195, 4.134181022644043, 7.767799377441406, -3.2007710933685303, -0.5523533821105957, 0.12682412564754486, -0.880484402179718, 0.5097321271896362, -3.8969461917877197, 0.04451947286725044, 0.7246089577674866, 5.637807369232178, 0.4516642987728119, 13.911734580993652, -0.2375970482826233, 14.351582527160645, 7.258939743041992, 6.555171012878418, 12.059258460998535, 11.47987174987793, 1.454966425895691, 4.774045944213867, 4.763882637023926, 4.459423542022705, 0.4549824595451355, 1.3049044609069824, 5.955780982971191, 0.5046774744987488, -1.1278914213180542, 2.8558173179626465, -3.3052423000335693, 2.8516483306884766, 3.641056776046753, 4.59833288192749, 2.9000356197357178, 8.50209903717041, 10.669538497924805, 1.288527250289917, 3.801422119140625, -6.564393997192383, -3.1626830101013184, 4.146663665771484, 8.483062744140625, 4.436424255371094, -5.90949010848999, 4.136823654174805, 0.22491979598999023, 4.620275497436523, 0.4792289137840271, -0.46801188588142395, 0.3910876214504242, -2.1600687503814697, 2.7827134132385254, 2.389441967010498, 7.436417579650879, 6.900661468505859, 6.1584038734436035, -0.4151971638202667, 1.8492416143417358, 0.10485769063234329, 0.8786942958831787, 5.224186420440674, 7.576802730560303, 1.5070873498916626, 3.5193495750427246, 0.628270149230957, 0.5605302453041077, 6.809861660003662, -0.49621281027793884, 1.7104800939559937, 2.292928457260132, 2.1588616371154785, 1.2595895528793335, 10.173707008361816, 3.9256227016448975, -1.867085337638855, 2.998551607131958, 1.8411141633987427, -7.255910396575928, -0.18170681595802307, -4.042562484741211, -4.534611701965332, 4.042828559875488, 3.346176862716675, -4.41309928894043, 2.9497663974761963, -2.5623109340667725, -9.399849891662598, 8.267535209655762, -4.1673994064331055, -0.36505311727523804, -0.2752973139286041, -4.024316787719727, -1.7965385913848877, 6.446438789367676, -6.778361797332764, -2.4332518577575684, 1.240918517112732, -6.818589687347412, 0.06934329122304916, -0.9019598960876465, -1.7207087278366089, 5.443721771240234, 0.7256945967674255, 2.723395824432373, 0.9933710098266602, 7.080446720123291, 4.479263782501221, 0.032561663538217545, 7.298585891723633, -5.514517784118652, 8.099800109863281, 4.930629730224609, 7.074552536010742, 1.6360149383544922, 8.076837539672852, 1.574181079864502, -0.7411010265350342, -1.0358023643493652, 4.026819705963135, -3.5303268432617188, 1.4133049249649048, 3.463736057281494, 1.533995270729065, -1.2948240041732788, -1.1166415214538574, -6.220004558563232, -3.877228021621704, -1.9512841701507568, -0.22465211153030396, -7.3744635581970215, 2.7069969177246094, 1.0274444818496704, -5.047126770019531, -6.457486152648926, -12.242568969726562, -6.491729259490967, 0.6853270530700684, -10.14435863494873, -11.381319999694824, 1.6209909915924072, -9.675915718078613, -11.197352409362793, 6.329756259918213, -2.3116185665130615, -1.7790206670761108, -1.5121878385543823, 1.3117531538009644, 3.709639072418213, -0.37138885259628296, 0.8570422530174255, -11.865224838256836, 1.1475399732589722, -10.42046070098877, -1.263674020767212, -1.9009344577789307, -10.613082885742188, 3.8156120777130127, -9.840686798095703, 0.737466037273407, -9.011269569396973, 0.9395095705986023, 4.880000591278076, 1.444969892501831, 5.973386764526367, -7.121293544769287, -4.4883551597595215, -11.398520469665527, 3.5604665279388428, 6.817171573638916, 0.635965883731842, 2.5476741790771484, -5.366662979125977, 1.63856041431427, -5.307503700256348, -3.611950635910034, -4.675107002258301, 1.2473050355911255, -3.3054230213165283, -7.001522064208984, 1.1092619895935059, 0.4549349248409271, -0.4653778672218323, -3.076904058456421, -1.2304942607879639, -3.4529850482940674, 4.228799343109131, 3.7395050525665283, -2.374480724334717, -0.47312045097351074, 3.222782611846924, 6.5236992835998535, 1.9400551319122314, 6.704287052154541, 5.03191614151001, -0.17671135067939758, -0.5038505792617798, -8.25151538848877, 2.04302716255188, 3.9841978549957275, 3.0006513595581055, -3.4080824851989746, -6.488550662994385, -6.880748748779297, -5.418635845184326, -1.3132224082946777, -11.517854690551758, 5.401829242706299, -1.2986199855804443, 0.5766513347625732, -0.9789355397224426, 2.150102138519287, -1.6026097536087036, 4.176008224487305, -3.1066572666168213, -1.325721263885498, -2.0232901573181152, -5.5424017906188965, -0.3982793390750885, -0.8415884971618652, -2.686467409133911, 0.5770759582519531, -0.43703994154930115, 1.0342299938201904, -2.1528992652893066, 7.232805252075195, 6.378330230712891, 0.554323136806488, 6.485073089599609, -5.535682201385498, -0.38756123185157776, -3.066127061843872, -5.5467729568481445, 0.9485979080200195, 7.024296760559082, 1.5080851316452026, 1.413926601409912, 2.752660036087036, -5.566437721252441, -0.6154460906982422, -5.500923156738281, -4.536780834197998, -0.7033383846282959, -2.8630149364471436, -3.878380298614502, -4.616740703582764, -0.8152902722358704, 4.960175514221191, 7.523810386657715, -5.011804580688477, 0.35002440214157104, -5.205697536468506, -5.848323345184326, -4.253396987915039, 1.3417131900787354, 4.648671627044678, 3.6929008960723877, 2.110105037689209, 3.9085693359375, 1.7960948944091797, 4.039881706237793, 2.9782896041870117, -8.55530071258545, 7.029851913452148, 7.910247802734375, 2.389482021331787, 7.587268352508545, 4.9177117347717285, 6.649074554443359, 3.698042869567871, 2.550431728363037, 2.596236228942871, 5.108563423156738, 5.587810516357422, -10.163093566894531, -0.46267321705818176, 1.3775140047073364, 4.378052234649658, -0.7348974943161011, -1.6009392738342285, -3.1729655265808105, -4.051046371459961, -1.6971200704574585, -6.18911075592041, -4.867001533508301, -1.261595606803894, -5.500139236450195, -2.3860116004943848, -0.19195811450481415, -9.26208782196045, -1.4408994913101196, -2.342014789581299, 5.586252689361572, 7.359751224517822, -9.948701858520508, -10.558188438415527, 1.2307640314102173, -12.477470397949219, -5.403417587280273, -12.59643840789795, -0.9692514538764954, 6.869154453277588, 4.6507720947265625, -2.456010103225708, -11.939834594726562, 6.721833229064941, -9.355676651000977, -11.927756309509277, -9.555049896240234, -0.7158973217010498, -6.105851173400879, 1.9234669208526611, 6.088934421539307, -5.581981182098389, -0.9707221984863281, 1.510269045829773, -1.8147107362747192, -5.094086647033691, 0.3997252881526947, 0.7745704054832458, -4.616738319396973, -0.7339267730712891, -2.1825528144836426, 6.338695049285889, 2.4752695560455322, -0.6596375107765198, 5.462475776672363, -2.7452011108398438, -1.2582738399505615, 6.481011867523193, -3.727219581604004, -2.2768940925598145, -0.29915767908096313, -0.3403812050819397, -2.5564138889312744, -6.636518955230713, -5.4786858558654785, -2.044297695159912, 0.27880266308784485, -2.1301209926605225, 0.47526925802230835, -3.3912768363952637, 0.6580496430397034, -0.7960426807403564, -8.297123908996582, 4.553581237792969, 4.685989856719971, -7.735405921936035, 4.090573787689209, -7.660218238830566, 0.3103006184101105, -8.819059371948242, -8.117924690246582, 1.1930063962936401, 12.218523979187012, -1.7886998653411865, -7.747863292694092, -1.7536704540252686, -1.6013072729110718, -0.18466699123382568, -6.283572196960449, -10.891988754272461, -3.712329626083374, -0.3473805785179138, -1.7829854488372803, -1.7270783185958862, -8.374329566955566, 4.863039016723633, -1.7123713493347168, 2.4063961505889893, -8.49612808227539, -3.1079888343811035, 5.241917133331299, 0.5409966707229614, 7.996117115020752, -1.7958821058273315, 0.17162035405635834, -3.6000349521636963, -1.4415136575698853, 6.100928783416748, 0.4359583854675293, -3.8353772163391113, 5.4084248542785645, -0.6787570714950562, 7.201976776123047, 0.8616355061531067, -5.939611434936523, 8.153545379638672, -4.483942031860352, 8.313329696655273, -3.444723606109619, -1.6179661750793457, 0.4581950902938843, -4.77988862991333, 0.6913291811943054, -6.20396614074707, 3.7879533767700195, 1.7225252389907837, -0.3188706934452057, -0.056857988238334656, 3.3661770820617676, -0.16894443333148956, 2.1299233436584473, -0.8984552025794983, -3.0113043785095215, -4.366215705871582, 1.3962920904159546, -4.125478267669678, -3.7290825843811035, -3.982067584991455, -2.389920949935913, -2.556704521179199, -0.9999527335166931, -3.780062675476074, -4.494330883026123, -1.7419668436050415, -6.650125503540039, -6.601232528686523, -8.300326347351074, -0.3794422149658203, -3.487372636795044, -9.10828971862793, -10.817667961120605, -3.6965231895446777, -10.127260208129883, -2.782444953918457, -7.167733669281006, -10.68040943145752, -9.365907669067383, -3.583733558654785, 1.4332005977630615, 3.078122615814209, 5.050266742706299, 7.146033763885498, -0.5176833868026733, -1.7607078552246094, -0.34694650769233704, -0.0038112150505185127, -4.007326602935791, -2.6053829193115234, -2.8718514442443848, -5.067765235900879, 7.704057693481445, -2.4450385570526123, -0.5208237767219543, -0.7294390797615051, -7.046160697937012, 4.720384120941162, -3.2304375171661377, 2.0910420417785645, -4.311620235443115, 1.4952012300491333, 6.505411624908447, 6.640683174133301, 4.614509582519531, 4.345877170562744, -2.634075403213501, -4.676428318023682, -1.6639249324798584, 0.5402546525001526, -4.1694769859313965, 3.565643310546875, 7.791959285736084, 0.20677049458026886, 1.3921304941177368, -0.6066058278083801, 6.767760753631592, -4.024545669555664, -5.749810695648193, 1.030596137046814]}],\n",
       "                        {\"coloraxis\": {\"colorbar\": {\"title\": {\"text\": \"Year\"}}, \"colorscale\": [[0.0, \"rgb(150,0,90)\"], [0.125, \"rgb(0,0,200)\"], [0.25, \"rgb(0,25,255)\"], [0.375, \"rgb(0,152,255)\"], [0.5, \"rgb(44,255,150)\"], [0.625, \"rgb(151,255,0)\"], [0.75, \"rgb(255,234,0)\"], [0.875, \"rgb(255,111,0)\"], [1.0, \"rgb(255,0,0)\"]]}, \"legend\": {\"tracegroupgap\": 0}, \"margin\": {\"t\": 60}, \"scene\": {\"domain\": {\"x\": [0.0, 1.0], \"y\": [0.0, 1.0]}, \"xaxis\": {\"title\": {\"text\": \"0\"}}, \"yaxis\": {\"title\": {\"text\": \"1\"}}, \"zaxis\": {\"title\": {\"text\": \"2\"}}}, \"template\": {\"data\": {\"bar\": [{\"error_x\": {\"color\": \"#2a3f5f\"}, \"error_y\": {\"color\": \"#2a3f5f\"}, \"marker\": {\"line\": {\"color\": \"#E5ECF6\", \"width\": 0.5}}, \"type\": \"bar\"}], \"barpolar\": [{\"marker\": {\"line\": {\"color\": \"#E5ECF6\", \"width\": 0.5}}, \"type\": \"barpolar\"}], \"carpet\": [{\"aaxis\": {\"endlinecolor\": \"#2a3f5f\", \"gridcolor\": \"white\", \"linecolor\": \"white\", \"minorgridcolor\": \"white\", \"startlinecolor\": \"#2a3f5f\"}, \"baxis\": {\"endlinecolor\": \"#2a3f5f\", \"gridcolor\": \"white\", \"linecolor\": \"white\", \"minorgridcolor\": \"white\", \"startlinecolor\": \"#2a3f5f\"}, \"type\": \"carpet\"}], \"choropleth\": [{\"colorbar\": {\"outlinewidth\": 0, \"ticks\": \"\"}, \"type\": \"choropleth\"}], \"contour\": [{\"colorbar\": {\"outlinewidth\": 0, \"ticks\": \"\"}, \"colorscale\": [[0.0, \"#0d0887\"], [0.1111111111111111, \"#46039f\"], [0.2222222222222222, \"#7201a8\"], [0.3333333333333333, \"#9c179e\"], [0.4444444444444444, \"#bd3786\"], [0.5555555555555556, \"#d8576b\"], [0.6666666666666666, \"#ed7953\"], [0.7777777777777778, \"#fb9f3a\"], [0.8888888888888888, \"#fdca26\"], [1.0, \"#f0f921\"]], \"type\": \"contour\"}], \"contourcarpet\": [{\"colorbar\": {\"outlinewidth\": 0, \"ticks\": \"\"}, \"type\": \"contourcarpet\"}], \"heatmap\": [{\"colorbar\": {\"outlinewidth\": 0, \"ticks\": \"\"}, \"colorscale\": [[0.0, \"#0d0887\"], [0.1111111111111111, \"#46039f\"], [0.2222222222222222, \"#7201a8\"], [0.3333333333333333, \"#9c179e\"], [0.4444444444444444, \"#bd3786\"], [0.5555555555555556, \"#d8576b\"], [0.6666666666666666, \"#ed7953\"], [0.7777777777777778, \"#fb9f3a\"], [0.8888888888888888, \"#fdca26\"], [1.0, \"#f0f921\"]], \"type\": \"heatmap\"}], \"heatmapgl\": [{\"colorbar\": {\"outlinewidth\": 0, \"ticks\": \"\"}, \"colorscale\": [[0.0, \"#0d0887\"], [0.1111111111111111, \"#46039f\"], [0.2222222222222222, \"#7201a8\"], [0.3333333333333333, \"#9c179e\"], [0.4444444444444444, \"#bd3786\"], [0.5555555555555556, \"#d8576b\"], [0.6666666666666666, \"#ed7953\"], [0.7777777777777778, \"#fb9f3a\"], [0.8888888888888888, \"#fdca26\"], [1.0, \"#f0f921\"]], \"type\": \"heatmapgl\"}], \"histogram\": [{\"marker\": {\"colorbar\": {\"outlinewidth\": 0, \"ticks\": \"\"}}, \"type\": \"histogram\"}], \"histogram2d\": [{\"colorbar\": {\"outlinewidth\": 0, \"ticks\": \"\"}, \"colorscale\": [[0.0, \"#0d0887\"], [0.1111111111111111, \"#46039f\"], [0.2222222222222222, \"#7201a8\"], [0.3333333333333333, \"#9c179e\"], [0.4444444444444444, \"#bd3786\"], [0.5555555555555556, \"#d8576b\"], [0.6666666666666666, \"#ed7953\"], [0.7777777777777778, \"#fb9f3a\"], [0.8888888888888888, \"#fdca26\"], [1.0, \"#f0f921\"]], \"type\": \"histogram2d\"}], \"histogram2dcontour\": [{\"colorbar\": {\"outlinewidth\": 0, \"ticks\": \"\"}, \"colorscale\": [[0.0, \"#0d0887\"], [0.1111111111111111, \"#46039f\"], [0.2222222222222222, \"#7201a8\"], [0.3333333333333333, \"#9c179e\"], [0.4444444444444444, \"#bd3786\"], [0.5555555555555556, \"#d8576b\"], [0.6666666666666666, \"#ed7953\"], [0.7777777777777778, \"#fb9f3a\"], [0.8888888888888888, \"#fdca26\"], [1.0, \"#f0f921\"]], \"type\": \"histogram2dcontour\"}], \"mesh3d\": [{\"colorbar\": {\"outlinewidth\": 0, \"ticks\": \"\"}, \"type\": \"mesh3d\"}], \"parcoords\": [{\"line\": {\"colorbar\": {\"outlinewidth\": 0, \"ticks\": \"\"}}, \"type\": \"parcoords\"}], \"pie\": [{\"automargin\": true, \"type\": \"pie\"}], \"scatter\": [{\"marker\": {\"colorbar\": {\"outlinewidth\": 0, \"ticks\": \"\"}}, \"type\": \"scatter\"}], \"scatter3d\": [{\"line\": {\"colorbar\": {\"outlinewidth\": 0, \"ticks\": \"\"}}, \"marker\": {\"colorbar\": {\"outlinewidth\": 0, \"ticks\": \"\"}}, \"type\": \"scatter3d\"}], \"scattercarpet\": [{\"marker\": {\"colorbar\": {\"outlinewidth\": 0, \"ticks\": \"\"}}, \"type\": \"scattercarpet\"}], \"scattergeo\": [{\"marker\": {\"colorbar\": {\"outlinewidth\": 0, \"ticks\": \"\"}}, \"type\": \"scattergeo\"}], \"scattergl\": [{\"marker\": {\"colorbar\": {\"outlinewidth\": 0, \"ticks\": \"\"}}, \"type\": \"scattergl\"}], \"scattermapbox\": [{\"marker\": {\"colorbar\": {\"outlinewidth\": 0, \"ticks\": \"\"}}, \"type\": \"scattermapbox\"}], \"scatterpolar\": [{\"marker\": {\"colorbar\": {\"outlinewidth\": 0, \"ticks\": \"\"}}, \"type\": \"scatterpolar\"}], \"scatterpolargl\": [{\"marker\": {\"colorbar\": {\"outlinewidth\": 0, \"ticks\": \"\"}}, \"type\": \"scatterpolargl\"}], \"scatterternary\": [{\"marker\": {\"colorbar\": {\"outlinewidth\": 0, \"ticks\": \"\"}}, \"type\": \"scatterternary\"}], \"surface\": [{\"colorbar\": {\"outlinewidth\": 0, \"ticks\": \"\"}, \"colorscale\": [[0.0, \"#0d0887\"], [0.1111111111111111, \"#46039f\"], [0.2222222222222222, \"#7201a8\"], [0.3333333333333333, \"#9c179e\"], [0.4444444444444444, \"#bd3786\"], [0.5555555555555556, \"#d8576b\"], [0.6666666666666666, \"#ed7953\"], [0.7777777777777778, \"#fb9f3a\"], [0.8888888888888888, \"#fdca26\"], [1.0, \"#f0f921\"]], \"type\": \"surface\"}], \"table\": [{\"cells\": {\"fill\": {\"color\": \"#EBF0F8\"}, \"line\": {\"color\": \"white\"}}, \"header\": {\"fill\": {\"color\": \"#C8D4E3\"}, \"line\": {\"color\": \"white\"}}, \"type\": \"table\"}]}, \"layout\": {\"annotationdefaults\": {\"arrowcolor\": \"#2a3f5f\", \"arrowhead\": 0, \"arrowwidth\": 1}, \"coloraxis\": {\"colorbar\": {\"outlinewidth\": 0, \"ticks\": \"\"}}, \"colorscale\": {\"diverging\": [[0, \"#8e0152\"], [0.1, \"#c51b7d\"], [0.2, \"#de77ae\"], [0.3, \"#f1b6da\"], [0.4, \"#fde0ef\"], [0.5, \"#f7f7f7\"], [0.6, \"#e6f5d0\"], [0.7, \"#b8e186\"], [0.8, \"#7fbc41\"], [0.9, \"#4d9221\"], [1, \"#276419\"]], \"sequential\": [[0.0, \"#0d0887\"], [0.1111111111111111, \"#46039f\"], [0.2222222222222222, \"#7201a8\"], [0.3333333333333333, \"#9c179e\"], [0.4444444444444444, \"#bd3786\"], [0.5555555555555556, \"#d8576b\"], [0.6666666666666666, \"#ed7953\"], [0.7777777777777778, \"#fb9f3a\"], [0.8888888888888888, \"#fdca26\"], [1.0, \"#f0f921\"]], \"sequentialminus\": [[0.0, \"#0d0887\"], [0.1111111111111111, \"#46039f\"], [0.2222222222222222, \"#7201a8\"], [0.3333333333333333, \"#9c179e\"], [0.4444444444444444, \"#bd3786\"], [0.5555555555555556, \"#d8576b\"], [0.6666666666666666, \"#ed7953\"], [0.7777777777777778, \"#fb9f3a\"], [0.8888888888888888, \"#fdca26\"], [1.0, \"#f0f921\"]]}, \"colorway\": [\"#636efa\", \"#EF553B\", \"#00cc96\", \"#ab63fa\", \"#FFA15A\", \"#19d3f3\", \"#FF6692\", \"#B6E880\", \"#FF97FF\", \"#FECB52\"], \"font\": {\"color\": \"#2a3f5f\"}, \"geo\": {\"bgcolor\": \"white\", \"lakecolor\": \"white\", \"landcolor\": \"#E5ECF6\", \"showlakes\": true, \"showland\": true, \"subunitcolor\": \"white\"}, \"hoverlabel\": {\"align\": \"left\"}, \"hovermode\": \"closest\", \"mapbox\": {\"style\": \"light\"}, \"paper_bgcolor\": \"white\", \"plot_bgcolor\": \"#E5ECF6\", \"polar\": {\"angularaxis\": {\"gridcolor\": \"white\", \"linecolor\": \"white\", \"ticks\": \"\"}, \"bgcolor\": \"#E5ECF6\", \"radialaxis\": {\"gridcolor\": \"white\", \"linecolor\": \"white\", \"ticks\": \"\"}}, \"scene\": {\"xaxis\": {\"backgroundcolor\": \"#E5ECF6\", \"gridcolor\": \"white\", \"gridwidth\": 2, \"linecolor\": \"white\", \"showbackground\": true, \"ticks\": \"\", \"zerolinecolor\": \"white\"}, \"yaxis\": {\"backgroundcolor\": \"#E5ECF6\", \"gridcolor\": \"white\", \"gridwidth\": 2, \"linecolor\": \"white\", \"showbackground\": true, \"ticks\": \"\", \"zerolinecolor\": \"white\"}, \"zaxis\": {\"backgroundcolor\": \"#E5ECF6\", \"gridcolor\": \"white\", \"gridwidth\": 2, \"linecolor\": \"white\", \"showbackground\": true, \"ticks\": \"\", \"zerolinecolor\": \"white\"}}, \"shapedefaults\": {\"line\": {\"color\": \"#2a3f5f\"}}, \"ternary\": {\"aaxis\": {\"gridcolor\": \"white\", \"linecolor\": \"white\", \"ticks\": \"\"}, \"baxis\": {\"gridcolor\": \"white\", \"linecolor\": \"white\", \"ticks\": \"\"}, \"bgcolor\": \"#E5ECF6\", \"caxis\": {\"gridcolor\": \"white\", \"linecolor\": \"white\", \"ticks\": \"\"}}, \"title\": {\"x\": 0.05}, \"xaxis\": {\"automargin\": true, \"gridcolor\": \"white\", \"linecolor\": \"white\", \"ticks\": \"\", \"title\": {\"standoff\": 15}, \"zerolinecolor\": \"white\", \"zerolinewidth\": 2}, \"yaxis\": {\"automargin\": true, \"gridcolor\": \"white\", \"linecolor\": \"white\", \"ticks\": \"\", \"title\": {\"standoff\": 15}, \"zerolinecolor\": \"white\", \"zerolinewidth\": 2}}}},\n",
       "                        {\"responsive\": true}\n",
       "                    ).then(function(){\n",
       "                            \n",
       "var gd = document.getElementById('3fc44b59-004c-420e-97e4-58d7e53fe45a');\n",
       "var x = new MutationObserver(function (mutations, observer) {{\n",
       "        var display = window.getComputedStyle(gd).display;\n",
       "        if (!display || display === 'none') {{\n",
       "            console.log([gd, 'removed!']);\n",
       "            Plotly.purge(gd);\n",
       "            observer.disconnect();\n",
       "        }}\n",
       "}});\n",
       "\n",
       "// Listen for the removal of the full notebook cells\n",
       "var notebookContainer = gd.closest('#notebook-container');\n",
       "if (notebookContainer) {{\n",
       "    x.observe(notebookContainer, {childList: true});\n",
       "}}\n",
       "\n",
       "// Listen for the clearing of the current output cell\n",
       "var outputEl = gd.closest('.output');\n",
       "if (outputEl) {{\n",
       "    x.observe(outputEl, {childList: true});\n",
       "}}\n",
       "\n",
       "                        })\n",
       "                };\n",
       "                });\n",
       "            </script>\n",
       "        </div>"
      ]
     },
     "metadata": {},
     "output_type": "display_data"
    }
   ],
   "source": [
    "fig = px.scatter_3d(df, x= 0, y= 1, z= 2, \n",
    "                    color = 'Year', color_continuous_scale = 'Rainbow',\n",
    "                   hover_data = ['top words', 'Title'])\n",
    "fig.update_traces(marker = dict(size=3))\n",
    "fig"
   ]
  },
  {
   "cell_type": "code",
   "execution_count": null,
   "metadata": {},
   "outputs": [],
   "source": []
  }
 ],
 "metadata": {
  "kernelspec": {
   "display_name": "Python 3",
   "language": "python",
   "name": "python3"
  },
  "language_info": {
   "codemirror_mode": {
    "name": "ipython",
    "version": 3
   },
   "file_extension": ".py",
   "mimetype": "text/x-python",
   "name": "python",
   "nbconvert_exporter": "python",
   "pygments_lexer": "ipython3",
   "version": "3.7.3"
  }
 },
 "nbformat": 4,
 "nbformat_minor": 2
}
