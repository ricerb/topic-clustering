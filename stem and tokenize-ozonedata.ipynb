{
 "cells": [
  {
   "cell_type": "code",
   "execution_count": 70,
   "metadata": {},
   "outputs": [],
   "source": [
    "import pandas as pd\n",
    "import nltk"
   ]
  },
  {
   "cell_type": "code",
   "execution_count": 86,
   "metadata": {},
   "outputs": [
    {
     "data": {
      "text/html": [
       "<div>\n",
       "<style scoped>\n",
       "    .dataframe tbody tr th:only-of-type {\n",
       "        vertical-align: middle;\n",
       "    }\n",
       "\n",
       "    .dataframe tbody tr th {\n",
       "        vertical-align: top;\n",
       "    }\n",
       "\n",
       "    .dataframe thead th {\n",
       "        text-align: right;\n",
       "    }\n",
       "</style>\n",
       "<table border=\"1\" class=\"dataframe\">\n",
       "  <thead>\n",
       "    <tr style=\"text-align: right;\">\n",
       "      <th></th>\n",
       "      <th>REFERENCE_ID</th>\n",
       "      <th>YEAR</th>\n",
       "      <th>TITLE</th>\n",
       "      <th>ABSTRACT</th>\n",
       "      <th>included</th>\n",
       "    </tr>\n",
       "  </thead>\n",
       "  <tbody>\n",
       "    <tr>\n",
       "      <th>0</th>\n",
       "      <td>4310874</td>\n",
       "      <td>2018.0</td>\n",
       "      <td>A new framework of global sensitivity analysis...</td>\n",
       "      <td>Global sensitivity analysis is a tool that pri...</td>\n",
       "      <td>False</td>\n",
       "    </tr>\n",
       "    <tr>\n",
       "      <th>1</th>\n",
       "      <td>3399876</td>\n",
       "      <td>2013.0</td>\n",
       "      <td>Contrasting Physiological Responses of Jatroph...</td>\n",
       "      <td>None</td>\n",
       "      <td>False</td>\n",
       "    </tr>\n",
       "    <tr>\n",
       "      <th>2</th>\n",
       "      <td>3399878</td>\n",
       "      <td>2013.0</td>\n",
       "      <td>Gene Knockout Study Reveals That Cytosolic Asc...</td>\n",
       "      <td>Plant ascorbate peroxidases (APXs), enzymes ca...</td>\n",
       "      <td>False</td>\n",
       "    </tr>\n",
       "    <tr>\n",
       "      <th>3</th>\n",
       "      <td>3400890</td>\n",
       "      <td>2013.0</td>\n",
       "      <td>Ascorbate as seen through plant evolution: the...</td>\n",
       "      <td>None</td>\n",
       "      <td>False</td>\n",
       "    </tr>\n",
       "    <tr>\n",
       "      <th>4</th>\n",
       "      <td>3400893</td>\n",
       "      <td>2013.0</td>\n",
       "      <td>Real-Time Monitoring of (E)-beta-Farnesene Emi...</td>\n",
       "      <td>None</td>\n",
       "      <td>False</td>\n",
       "    </tr>\n",
       "  </tbody>\n",
       "</table>\n",
       "</div>"
      ],
      "text/plain": [
       "   REFERENCE_ID    YEAR                                              TITLE  \\\n",
       "0       4310874  2018.0  A new framework of global sensitivity analysis...   \n",
       "1       3399876  2013.0  Contrasting Physiological Responses of Jatroph...   \n",
       "2       3399878  2013.0  Gene Knockout Study Reveals That Cytosolic Asc...   \n",
       "3       3400890  2013.0  Ascorbate as seen through plant evolution: the...   \n",
       "4       3400893  2013.0  Real-Time Monitoring of (E)-beta-Farnesene Emi...   \n",
       "\n",
       "                                            ABSTRACT  included  \n",
       "0  Global sensitivity analysis is a tool that pri...     False  \n",
       "1                                               None     False  \n",
       "2  Plant ascorbate peroxidases (APXs), enzymes ca...     False  \n",
       "3                                               None     False  \n",
       "4                                               None     False  "
      ]
     },
     "execution_count": 86,
     "metadata": {},
     "output_type": "execute_result"
    }
   ],
   "source": [
    "import cx_Oracle\n",
    "\n",
    "def hero_to_df(Userid, Password, Host, Port, SID, query):\n",
    "\n",
    "    dsn_tns = cx_Oracle.makedsn(host=Host, port=Port, sid=sid_name)\n",
    "    conn = cx_Oracle.connect(user=Userid, password=Password, dsn=dsn_tns)\n",
    "\n",
    "    df = pd.read_sql_query(query, conn)\n",
    "    df.ABSTRACT = df.ABSTRACT.astype(str)\n",
    "    df.TITLE = df.TITLE.astype(str)\n",
    "    \n",
    "    conn.close()\n",
    "    \n",
    "    return(df)\n",
    "\n",
    "## HEROPRD\n",
    "Userid = \"rrice\"\n",
    "Password = \"Temp02122020\" \n",
    "Host = \"herodb.rtpnc.epa.gov\"\n",
    "Port = \"1521\"\n",
    "sid_name = \"heroprd\"\n",
    "\n",
    "def defaultquery(query):\n",
    "    return hero_to_df(Userid, Password, Host, Port, sid_name, query)\n",
    "\n",
    "o3litquery = '''select reference_id, year, title, abstract\n",
    "    from tbl_reference \n",
    "    where sdelete = 'No' \n",
    "    and reference_id in\n",
    "    (select reference_id from tbl_reference_usage where usage_id = 19134 and isdeleted = 0)'''\n",
    "\n",
    "o3includedquery = '''select reference_id, year, title, abstract\n",
    "    from tbl_reference \n",
    "    where sdelete = 'No' \n",
    "    and reference_id in\n",
    "    (select reference_id from tbl_reference_usage where usage_id = 19090 and isdeleted = 0)'''\n",
    "\n",
    "\n",
    "df = defaultquery(o3litquery)\n",
    "df2 = defaultquery(o3includedquery)\n",
    "\n",
    "df['included'] = df.REFERENCE_ID.isin(df2.REFERENCE_ID)\n",
    "df.head()\n",
    "\n",
    "#2755: Lead ISA 2013 Included\n",
    "#19134: Ozone ISA Lit search included\n",
    "#19090: Ozone ISA Included in first draft"
   ]
  },
  {
   "cell_type": "code",
   "execution_count": 87,
   "metadata": {},
   "outputs": [],
   "source": [
    "from nltk.stem import PorterStemmer\n",
    "from nltk.tokenize import word_tokenize\n",
    "from nltk.corpus import stopwords\n",
    "import re\n",
    "\n",
    "stop_words = set(stopwords.words('english'))\n",
    "ps = PorterStemmer()\n",
    "\n",
    "def nltk_process(words):\n",
    "\n",
    "    tokens = word_tokenize(words)\n",
    "    \n",
    "    stemmed_words = []\n",
    "    for word in tokens:\n",
    "        stemmed_words.append(ps.stem(word))\n",
    "    \n",
    "    stopword_filtered = [w for w in stemmed_words if w not in stop_words]\n",
    "    \n",
    "    #remove digits and punctuation   \n",
    "    pattern = re.compile(r'[a-zA-Z]+')\n",
    "    cleaned = [x for x in stopword_filtered if pattern.search(x)]\n",
    "    \n",
    "    return cleaned\n",
    "    \n",
    "nltkdf = pd.DataFrame()\n",
    "nltkdf['Text'] = df['TITLE']+df['ABSTRACT'].dropna()  ###########changed to abstract\n",
    "nltkdf['Text_Processed'] = nltkdf['Text'].apply(lambda x: nltk_process(x))"
   ]
  },
  {
   "cell_type": "code",
   "execution_count": 88,
   "metadata": {},
   "outputs": [],
   "source": [
    "nltkdf.join(df).iloc[:,:].to_pickle('nltk_stemmed.pkl')"
   ]
  },
  {
   "cell_type": "code",
   "execution_count": 83,
   "metadata": {},
   "outputs": [
    {
     "data": {
      "text/plain": [
       "0       [relationship, iron, statu, lead, absorpt, rat...\n",
       "1       [effect, lead, macrophag, functionlead, Pb, ha...\n",
       "2       [blood, lead, intellig, read, attain, behaviou...\n",
       "3       [rod, select, alter, lead, I., electrophysiolo...\n",
       "4       [rod, select, alter, lead, II, ultrastructur, ...\n",
       "                              ...                        \n",
       "3183    [evalu, icrp, lead, biokinet, model, empir, co...\n",
       "3184    [reactiv, pbso4, caco3, particl, relev, modif,...\n",
       "3185    [integr, scienc, assess, particul, matter, fir...\n",
       "3186    [lead, isotop, ratio, tree, bark, pocket, An, ...\n",
       "3187    [metal, sourc, exposur, home, young, children,...\n",
       "Name: Text_Processed, Length: 3188, dtype: object"
      ]
     },
     "execution_count": 83,
     "metadata": {},
     "output_type": "execute_result"
    }
   ],
   "source": [
    "nltkdf['Text_Processed']"
   ]
  },
  {
   "cell_type": "code",
   "execution_count": null,
   "metadata": {},
   "outputs": [],
   "source": []
  }
 ],
 "metadata": {
  "kernelspec": {
   "display_name": "Python 3",
   "language": "python",
   "name": "python3"
  },
  "language_info": {
   "codemirror_mode": {
    "name": "ipython",
    "version": 3
   },
   "file_extension": ".py",
   "mimetype": "text/x-python",
   "name": "python",
   "nbconvert_exporter": "python",
   "pygments_lexer": "ipython3",
   "version": "3.6.10"
  }
 },
 "nbformat": 4,
 "nbformat_minor": 2
}
