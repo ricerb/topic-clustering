{
 "cells": [
  {
   "cell_type": "code",
   "execution_count": 2,
   "metadata": {},
   "outputs": [],
   "source": [
    "import pandas as pd\n",
    "import nltk\n",
    "import getpass"
   ]
  },
  {
   "cell_type": "code",
   "execution_count": null,
   "metadata": {},
   "outputs": [],
   "source": [
    "import cx_Oracle\n",
    "\n",
    "def hero_to_df(Userid, Password, Host, Port, SID, query):\n",
    "\n",
    "    dsn_tns = cx_Oracle.makedsn(host=Host, port=Port, sid=sid_name)\n",
    "    conn = cx_Oracle.connect(user=Userid, password=Password, dsn=dsn_tns)\n",
    "\n",
    "    df = pd.read_sql_query(query, conn)\n",
    "    df.ABSTRACT = df.ABSTRACT.astype(str)\n",
    "    df.TITLE = df.TITLE.astype(str)\n",
    "    \n",
    "    conn.close()\n",
    "    \n",
    "    return(df)\n",
    "\n",
    "## HEROPRD\n",
    "Userid = \"rrice\"\n",
    "Password = getpass.getpass()\n",
    "Host = \"herodb.rtpnc.epa.gov\"\n",
    "Port = \"1521\"\n",
    "sid_name = \"heroprd\"\n",
    "\n",
    "def defaultquery(query):\n",
    "    return hero_to_df(Userid, Password, Host, Port, sid_name, query)\n",
    "\n",
    "o3litquery = '''select reference_id, year, title, abstract\n",
    "    from tbl_reference \n",
    "    where sdelete = 'No' \n",
    "    and reference_id in\n",
    "    (select reference_id from tbl_reference_usage where usage_id = 19134 and isdeleted = 0)'''\n",
    "\n",
    "o3includedquery = '''select reference_id, year, title, abstract\n",
    "    from tbl_reference \n",
    "    where sdelete = 'No' \n",
    "    and reference_id in\n",
    "    (select reference_id from tbl_reference_usage where usage_id = 19090 and isdeleted = 0)'''\n",
    "\n",
    "# check if reference is included in first draft ISA\n",
    "df = defaultquery(o3litquery)\n",
    "df2 = defaultquery(o3includedquery)\n",
    "\n",
    "df['included'] = df.REFERENCE_ID.isin(df2.REFERENCE_ID)\n",
    "df.head()\n",
    "\n",
    "#2755: Lead ISA 2013 Included\n",
    "#19134: Ozone ISA Lit search included\n",
    "#19090: Ozone ISA Included in first draft"
   ]
  },
  {
   "cell_type": "code",
   "execution_count": 3,
   "metadata": {},
   "outputs": [],
   "source": [
    "from nltk.stem import PorterStemmer\n",
    "from nltk.tokenize import word_tokenize\n",
    "from nltk.corpus import stopwords\n",
    "import re\n",
    "\n",
    "stop_words = set(stopwords.words('english'))\n",
    "ps = PorterStemmer()\n",
    "\n",
    "def nltk_process(words):\n",
    "\n",
    "    tokens = word_tokenize(words)\n",
    "    \n",
    "    stemmed_words = []\n",
    "    for word in tokens:\n",
    "        stemmed_words.append(ps.stem(word))\n",
    "    \n",
    "    stopword_filtered = [w for w in stemmed_words if w not in stop_words]\n",
    "    \n",
    "    #remove digits and punctuation   \n",
    "    pattern = re.compile(r'[a-zA-Z]+')\n",
    "    cleaned = [x for x in stopword_filtered if pattern.search(x)]\n",
    "    \n",
    "    return cleaned\n",
    "    \n",
    "nltkdf = pd.DataFrame()\n",
    "nltkdf['Text'] = df['TITLE']+df['ABSTRACT'].dropna()  ###########changed to abstract\n",
    "nltkdf['Text_Processed'] = nltkdf['Text'].apply(lambda x: nltk_process(x))"
   ]
  },
  {
   "cell_type": "code",
   "execution_count": 4,
   "metadata": {},
   "outputs": [],
   "source": [
    "nltkdf.join(df).iloc[:,:].to_pickle('ozone_nltk_stemmed.pkl')"
   ]
  },
  {
   "cell_type": "code",
   "execution_count": 5,
   "metadata": {},
   "outputs": [
    {
     "data": {
      "text/plain": [
       "0        [inbreed, depress, solanum, carolinens, solana...\n",
       "1        [effect, OF, mix, salin, alkalin, stress, ON, ...\n",
       "2        [metabolom, tool, investig, abiot, stress, tol...\n",
       "3        [manipul, ripen, via, antitranspir, cv, barber...\n",
       "4        [genotyp, x, environ, interact, wheat, grain, ...\n",
       "                               ...                        \n",
       "31901    [multiyear, applic, wrf/chem, continent, US, m...\n",
       "31902    [invers, structur, winter, ozon, distribut, ui...\n",
       "31903    [reaction, criege, intermedi, alken, ozon, car...\n",
       "31904    [develop, applic, next, gener, air, sensor, ne...\n",
       "31905    [applic, chemic, dispers, model, dure, high, o...\n",
       "Name: Text_Processed, Length: 31906, dtype: object"
      ]
     },
     "execution_count": 5,
     "metadata": {},
     "output_type": "execute_result"
    }
   ],
   "source": [
    "nltkdf['Text_Processed']"
   ]
  },
  {
   "cell_type": "code",
   "execution_count": 6,
   "metadata": {},
   "outputs": [],
   "source": [
    "df.to_pickle('ozone_data_fromhero.pkl')"
   ]
  },
  {
   "cell_type": "code",
   "execution_count": null,
   "metadata": {},
   "outputs": [],
   "source": []
  }
 ],
 "metadata": {
  "kernelspec": {
   "display_name": "Python 3",
   "language": "python",
   "name": "python3"
  },
  "language_info": {
   "codemirror_mode": {
    "name": "ipython",
    "version": 3
   },
   "file_extension": ".py",
   "mimetype": "text/x-python",
   "name": "python",
   "nbconvert_exporter": "python",
   "pygments_lexer": "ipython3",
   "version": "3.6.10"
  }
 },
 "nbformat": 4,
 "nbformat_minor": 2
}
