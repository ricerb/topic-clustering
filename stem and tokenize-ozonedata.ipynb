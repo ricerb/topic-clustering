{
 "cells": [
  {
   "cell_type": "code",
   "execution_count": 70,
   "metadata": {},
   "outputs": [],
   "source": [
    "import pandas as pd\n",
    "import nltk"
   ]
  },
  {
   "cell_type": "code",
   "execution_count": 63,
   "metadata": {},
   "outputs": [
    {
     "data": {
      "text/html": [
       "<div>\n",
       "<style scoped>\n",
       "    .dataframe tbody tr th:only-of-type {\n",
       "        vertical-align: middle;\n",
       "    }\n",
       "\n",
       "    .dataframe tbody tr th {\n",
       "        vertical-align: top;\n",
       "    }\n",
       "\n",
       "    .dataframe thead th {\n",
       "        text-align: right;\n",
       "    }\n",
       "</style>\n",
       "<table border=\"1\" class=\"dataframe\">\n",
       "  <thead>\n",
       "    <tr style=\"text-align: right;\">\n",
       "      <th></th>\n",
       "      <th>REFERENCE_ID</th>\n",
       "      <th>YEAR</th>\n",
       "      <th>TITLE</th>\n",
       "      <th>ABSTRACT</th>\n",
       "    </tr>\n",
       "  </thead>\n",
       "  <tbody>\n",
       "    <tr>\n",
       "      <th>0</th>\n",
       "      <td>57688</td>\n",
       "      <td>1987</td>\n",
       "      <td>The relationship between iron status and lead ...</td>\n",
       "      <td>The absorption of lead from loops of small int...</td>\n",
       "    </tr>\n",
       "    <tr>\n",
       "      <th>1</th>\n",
       "      <td>57722</td>\n",
       "      <td>1988</td>\n",
       "      <td>Effect of lead on macrophage function</td>\n",
       "      <td>Lead (Pb) has been shown to alter various para...</td>\n",
       "    </tr>\n",
       "    <tr>\n",
       "      <th>2</th>\n",
       "      <td>57748</td>\n",
       "      <td>1988</td>\n",
       "      <td>Blood lead, intelligence, reading attainment, ...</td>\n",
       "      <td>None</td>\n",
       "    </tr>\n",
       "    <tr>\n",
       "      <th>3</th>\n",
       "      <td>57781</td>\n",
       "      <td>1988</td>\n",
       "      <td>Rods are selectively altered by lead: I. Elect...</td>\n",
       "      <td>None</td>\n",
       "    </tr>\n",
       "    <tr>\n",
       "      <th>4</th>\n",
       "      <td>57782</td>\n",
       "      <td>1988</td>\n",
       "      <td>Rods are selectively altered by lead: II. Ultr...</td>\n",
       "      <td>None</td>\n",
       "    </tr>\n",
       "  </tbody>\n",
       "</table>\n",
       "</div>"
      ],
      "text/plain": [
       "   REFERENCE_ID  YEAR                                              TITLE  \\\n",
       "0         57688  1987  The relationship between iron status and lead ...   \n",
       "1         57722  1988              Effect of lead on macrophage function   \n",
       "2         57748  1988  Blood lead, intelligence, reading attainment, ...   \n",
       "3         57781  1988  Rods are selectively altered by lead: I. Elect...   \n",
       "4         57782  1988  Rods are selectively altered by lead: II. Ultr...   \n",
       "\n",
       "                                            ABSTRACT  \n",
       "0  The absorption of lead from loops of small int...  \n",
       "1  Lead (Pb) has been shown to alter various para...  \n",
       "2                                               None  \n",
       "3                                               None  \n",
       "4                                               None  "
      ]
     },
     "execution_count": 63,
     "metadata": {},
     "output_type": "execute_result"
    }
   ],
   "source": [
    "import cx_Oracle\n",
    "\n",
    "def hero_to_df(Userid, Password, Host, Port, SID, query):\n",
    "\n",
    "    dsn_tns = cx_Oracle.makedsn(host=Host, port=Port, sid=sid_name)\n",
    "    conn = cx_Oracle.connect(user=Userid, password=Password, dsn=dsn_tns)\n",
    "\n",
    "    df = pd.read_sql_query(query, conn)\n",
    "    df.ABSTRACT = df.ABSTRACT.astype(str)\n",
    "    df.TITLE = df.TITLE.astype(str)\n",
    "    \n",
    "    conn.close()\n",
    "    \n",
    "    return(df)\n",
    "\n",
    "## HEROPRD\n",
    "Userid = \"rrice\"\n",
    "Password = \"Temp02122020\" \n",
    "Host = \"herodb.rtpnc.epa.gov\"\n",
    "Port = \"1521\"\n",
    "sid_name = \"heroprd\"\n",
    "\n",
    "def defaultquery(query):\n",
    "    return hero_to_df(Userid, Password, Host, Port, sid_name, query)\n",
    "\n",
    "query = '''select reference_id, year, title, abstract\n",
    "    from tbl_reference \n",
    "    where sdelete = 'No' \n",
    "    and reference_id in\n",
    "    (select reference_id from tbl_reference_usage where usage_id = 2755 and isdeleted = 0)'''\n",
    "\n",
    "df = defaultquery(query)\n",
    "df.head()"
   ]
  },
  {
   "cell_type": "code",
   "execution_count": 82,
   "metadata": {},
   "outputs": [],
   "source": [
    "from nltk.stem import PorterStemmer\n",
    "from nltk.tokenize import word_tokenize\n",
    "from nltk.corpus import stopwords\n",
    "import re\n",
    "\n",
    "stop_words = set(stopwords.words('english'))\n",
    "ps = PorterStemmer()\n",
    "\n",
    "def nltk_process(words):\n",
    "\n",
    "    tokens = word_tokenize(words)\n",
    "    \n",
    "    stemmed_words = []\n",
    "    for word in tokens:\n",
    "        stemmed_words.append(ps.stem(word))\n",
    "    \n",
    "    stopword_filtered = [w for w in stemmed_words if w not in stop_words]\n",
    "    \n",
    "    #remove digits and punctuation   \n",
    "    pattern = re.compile(r'[a-zA-Z]+')\n",
    "    cleaned = [x for x in stopword_filtered if pattern.search(x)]\n",
    "    \n",
    "    return cleaned\n",
    "    \n",
    "nltkdf = pd.DataFrame()\n",
    "nltkdf['Text'] = df['TITLE']+df['ABSTRACT'].dropna()  ###########changed to abstract\n",
    "nltkdf['Text_Processed'] = nltkdf['Text'].apply(lambda x: nltk_process(x))"
   ]
  },
  {
   "cell_type": "code",
   "execution_count": 84,
   "metadata": {},
   "outputs": [],
   "source": [
    "nltkdf.join(df).iloc[:,:].to_pickle('nltk_stemmed.pkl')"
   ]
  },
  {
   "cell_type": "code",
   "execution_count": 83,
   "metadata": {},
   "outputs": [
    {
     "data": {
      "text/plain": [
       "0       [relationship, iron, statu, lead, absorpt, rat...\n",
       "1       [effect, lead, macrophag, functionlead, Pb, ha...\n",
       "2       [blood, lead, intellig, read, attain, behaviou...\n",
       "3       [rod, select, alter, lead, I., electrophysiolo...\n",
       "4       [rod, select, alter, lead, II, ultrastructur, ...\n",
       "                              ...                        \n",
       "3183    [evalu, icrp, lead, biokinet, model, empir, co...\n",
       "3184    [reactiv, pbso4, caco3, particl, relev, modif,...\n",
       "3185    [integr, scienc, assess, particul, matter, fir...\n",
       "3186    [lead, isotop, ratio, tree, bark, pocket, An, ...\n",
       "3187    [metal, sourc, exposur, home, young, children,...\n",
       "Name: Text_Processed, Length: 3188, dtype: object"
      ]
     },
     "execution_count": 83,
     "metadata": {},
     "output_type": "execute_result"
    }
   ],
   "source": [
    "nltkdf['Text_Processed']"
   ]
  },
  {
   "cell_type": "code",
   "execution_count": null,
   "metadata": {},
   "outputs": [],
   "source": []
  }
 ],
 "metadata": {
  "kernelspec": {
   "display_name": "Python 3",
   "language": "python",
   "name": "python3"
  },
  "language_info": {
   "codemirror_mode": {
    "name": "ipython",
    "version": 3
   },
   "file_extension": ".py",
   "mimetype": "text/x-python",
   "name": "python",
   "nbconvert_exporter": "python",
   "pygments_lexer": "ipython3",
   "version": "3.6.10"
  }
 },
 "nbformat": 4,
 "nbformat_minor": 2
}
