{
 "cells": [
  {
   "cell_type": "code",
   "execution_count": 1,
   "metadata": {},
   "outputs": [],
   "source": [
    "import pandas as pd\n",
    "import nltk"
   ]
  },
  {
   "cell_type": "code",
   "execution_count": 2,
   "metadata": {},
   "outputs": [
    {
     "data": {
      "text/html": [
       "<div>\n",
       "<style scoped>\n",
       "    .dataframe tbody tr th:only-of-type {\n",
       "        vertical-align: middle;\n",
       "    }\n",
       "\n",
       "    .dataframe tbody tr th {\n",
       "        vertical-align: top;\n",
       "    }\n",
       "\n",
       "    .dataframe thead th {\n",
       "        text-align: right;\n",
       "    }\n",
       "</style>\n",
       "<table border=\"1\" class=\"dataframe\">\n",
       "  <thead>\n",
       "    <tr style=\"text-align: right;\">\n",
       "      <th></th>\n",
       "      <th>REFERENCE_ID</th>\n",
       "      <th>YEAR</th>\n",
       "      <th>TITLE</th>\n",
       "      <th>ABSTRACT</th>\n",
       "      <th>included</th>\n",
       "    </tr>\n",
       "  </thead>\n",
       "  <tbody>\n",
       "    <tr>\n",
       "      <th>0</th>\n",
       "      <td>3399492</td>\n",
       "      <td>2015.0</td>\n",
       "      <td>Function of ABA in Stomatal Defense against Bi...</td>\n",
       "      <td>None</td>\n",
       "      <td>False</td>\n",
       "    </tr>\n",
       "    <tr>\n",
       "      <th>1</th>\n",
       "      <td>3399493</td>\n",
       "      <td>2015.0</td>\n",
       "      <td>Reactive oxygen species in cell wall metabolis...</td>\n",
       "      <td>Although reactive oxygen species (ROS) are hig...</td>\n",
       "      <td>False</td>\n",
       "    </tr>\n",
       "    <tr>\n",
       "      <th>2</th>\n",
       "      <td>3399494</td>\n",
       "      <td>2015.0</td>\n",
       "      <td>Mycorrhiza-induced lower oxidative burst is re...</td>\n",
       "      <td>Mechanisms of arbuscular mycorrhiza (AM)-induc...</td>\n",
       "      <td>False</td>\n",
       "    </tr>\n",
       "    <tr>\n",
       "      <th>3</th>\n",
       "      <td>4305685</td>\n",
       "      <td>2016.0</td>\n",
       "      <td>Osmotic and hydraulic adjustment of mangrove s...</td>\n",
       "      <td>Salinity tolerance in plant species varies wid...</td>\n",
       "      <td>False</td>\n",
       "    </tr>\n",
       "    <tr>\n",
       "      <th>4</th>\n",
       "      <td>4332492</td>\n",
       "      <td>2017.0</td>\n",
       "      <td>Cross-talk between high light stress and plant...</td>\n",
       "      <td>Little is known about how plants deal with art...</td>\n",
       "      <td>False</td>\n",
       "    </tr>\n",
       "  </tbody>\n",
       "</table>\n",
       "</div>"
      ],
      "text/plain": [
       "   REFERENCE_ID    YEAR                                              TITLE  \\\n",
       "0       3399492  2015.0  Function of ABA in Stomatal Defense against Bi...   \n",
       "1       3399493  2015.0  Reactive oxygen species in cell wall metabolis...   \n",
       "2       3399494  2015.0  Mycorrhiza-induced lower oxidative burst is re...   \n",
       "3       4305685  2016.0  Osmotic and hydraulic adjustment of mangrove s...   \n",
       "4       4332492  2017.0  Cross-talk between high light stress and plant...   \n",
       "\n",
       "                                            ABSTRACT  included  \n",
       "0                                               None     False  \n",
       "1  Although reactive oxygen species (ROS) are hig...     False  \n",
       "2  Mechanisms of arbuscular mycorrhiza (AM)-induc...     False  \n",
       "3  Salinity tolerance in plant species varies wid...     False  \n",
       "4  Little is known about how plants deal with art...     False  "
      ]
     },
     "execution_count": 2,
     "metadata": {},
     "output_type": "execute_result"
    }
   ],
   "source": [
    "import cx_Oracle\n",
    "\n",
    "def hero_to_df(Userid, Password, Host, Port, SID, query):\n",
    "\n",
    "    dsn_tns = cx_Oracle.makedsn(host=Host, port=Port, sid=sid_name)\n",
    "    conn = cx_Oracle.connect(user=Userid, password=Password, dsn=dsn_tns)\n",
    "\n",
    "    df = pd.read_sql_query(query, conn)\n",
    "    df.ABSTRACT = df.ABSTRACT.astype(str)\n",
    "    df.TITLE = df.TITLE.astype(str)\n",
    "    \n",
    "    conn.close()\n",
    "    \n",
    "    return(df)\n",
    "\n",
    "## HEROPRD\n",
    "Userid = \"rrice\"\n",
    "Password = \"Temp02122020\" \n",
    "Host = \"herodb.rtpnc.epa.gov\"\n",
    "Port = \"1521\"\n",
    "sid_name = \"heroprd\"\n",
    "\n",
    "def defaultquery(query):\n",
    "    return hero_to_df(Userid, Password, Host, Port, sid_name, query)\n",
    "\n",
    "o3litquery = '''select reference_id, year, title, abstract\n",
    "    from tbl_reference \n",
    "    where sdelete = 'No' \n",
    "    and reference_id in\n",
    "    (select reference_id from tbl_reference_usage where usage_id = 19134 and isdeleted = 0)'''\n",
    "\n",
    "o3includedquery = '''select reference_id, year, title, abstract\n",
    "    from tbl_reference \n",
    "    where sdelete = 'No' \n",
    "    and reference_id in\n",
    "    (select reference_id from tbl_reference_usage where usage_id = 19090 and isdeleted = 0)'''\n",
    "\n",
    "# check if reference is included in first draft ISA\n",
    "df = defaultquery(o3litquery)\n",
    "df2 = defaultquery(o3includedquery)\n",
    "\n",
    "df['included'] = df.REFERENCE_ID.isin(df2.REFERENCE_ID)\n",
    "df.head()\n",
    "\n",
    "#2755: Lead ISA 2013 Included\n",
    "#19134: Ozone ISA Lit search included\n",
    "#19090: Ozone ISA Included in first draft"
   ]
  },
  {
   "cell_type": "code",
   "execution_count": 3,
   "metadata": {},
   "outputs": [],
   "source": [
    "from nltk.stem import PorterStemmer\n",
    "from nltk.tokenize import word_tokenize\n",
    "from nltk.corpus import stopwords\n",
    "import re\n",
    "\n",
    "stop_words = set(stopwords.words('english'))\n",
    "ps = PorterStemmer()\n",
    "\n",
    "def nltk_process(words):\n",
    "\n",
    "    tokens = word_tokenize(words)\n",
    "    \n",
    "    stemmed_words = []\n",
    "    for word in tokens:\n",
    "        stemmed_words.append(ps.stem(word))\n",
    "    \n",
    "    stopword_filtered = [w for w in stemmed_words if w not in stop_words]\n",
    "    \n",
    "    #remove digits and punctuation   \n",
    "    pattern = re.compile(r'[a-zA-Z]+')\n",
    "    cleaned = [x for x in stopword_filtered if pattern.search(x)]\n",
    "    \n",
    "    return cleaned\n",
    "    \n",
    "nltkdf = pd.DataFrame()\n",
    "nltkdf['Text'] = df['TITLE']+df['ABSTRACT'].dropna()  ###########changed to abstract\n",
    "nltkdf['Text_Processed'] = nltkdf['Text'].apply(lambda x: nltk_process(x))"
   ]
  },
  {
   "cell_type": "code",
   "execution_count": 4,
   "metadata": {},
   "outputs": [],
   "source": [
    "nltkdf.join(df).iloc[:,:].to_pickle('nltk_stemmed.pkl')"
   ]
  },
  {
   "cell_type": "code",
   "execution_count": 5,
   "metadata": {},
   "outputs": [
    {
     "data": {
      "text/plain": [
       "0        [function, aba, stomat, defens, biotic, drough...\n",
       "1        [reactiv, oxygen, speci, cell, wall, metabol, ...\n",
       "2        [mycorrhiza-induc, lower, oxid, burst, relat, ...\n",
       "3        [osmot, hydraul, adjust, mangrov, sapl, extrem...\n",
       "4        [cross-talk, high, light, stress, plant, defen...\n",
       "                               ...                        \n",
       "31901    [multiyear, applic, wrf/chem, continent, US, m...\n",
       "31902    [invers, structur, winter, ozon, distribut, ui...\n",
       "31903    [develop, applic, next, gener, air, sensor, ne...\n",
       "31904    [applic, chemic, dispers, model, dure, high, o...\n",
       "31905    [continu, emiss, carbon, tetrachlorid, unit, s...\n",
       "Name: Text_Processed, Length: 31906, dtype: object"
      ]
     },
     "execution_count": 5,
     "metadata": {},
     "output_type": "execute_result"
    }
   ],
   "source": [
    "nltkdf['Text_Processed']"
   ]
  },
  {
   "cell_type": "code",
   "execution_count": null,
   "metadata": {},
   "outputs": [],
   "source": []
  }
 ],
 "metadata": {
  "kernelspec": {
   "display_name": "Python 3",
   "language": "python",
   "name": "python3"
  },
  "language_info": {
   "codemirror_mode": {
    "name": "ipython",
    "version": 3
   },
   "file_extension": ".py",
   "mimetype": "text/x-python",
   "name": "python",
   "nbconvert_exporter": "python",
   "pygments_lexer": "ipython3",
   "version": "3.6.10"
  }
 },
 "nbformat": 4,
 "nbformat_minor": 2
}
