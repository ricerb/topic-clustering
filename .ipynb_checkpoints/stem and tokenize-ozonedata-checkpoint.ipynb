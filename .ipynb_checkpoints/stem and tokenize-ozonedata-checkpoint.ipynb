{
 "cells": [
  {
   "cell_type": "code",
   "execution_count": 1,
   "metadata": {},
   "outputs": [],
   "source": [
    "import pandas as pd"
   ]
  },
  {
   "cell_type": "code",
   "execution_count": 2,
   "metadata": {},
   "outputs": [
    {
     "data": {
      "text/html": [
       "<div>\n",
       "<style scoped>\n",
       "    .dataframe tbody tr th:only-of-type {\n",
       "        vertical-align: middle;\n",
       "    }\n",
       "\n",
       "    .dataframe tbody tr th {\n",
       "        vertical-align: top;\n",
       "    }\n",
       "\n",
       "    .dataframe thead th {\n",
       "        text-align: right;\n",
       "    }\n",
       "</style>\n",
       "<table border=\"1\" class=\"dataframe\">\n",
       "  <thead>\n",
       "    <tr style=\"text-align: right;\">\n",
       "      <th></th>\n",
       "      <th>REFERENCE_ID</th>\n",
       "      <th>YEAR</th>\n",
       "      <th>TITLE</th>\n",
       "    </tr>\n",
       "  </thead>\n",
       "  <tbody>\n",
       "    <tr>\n",
       "      <th>0</th>\n",
       "      <td>4310874</td>\n",
       "      <td>2018.0</td>\n",
       "      <td>A new framework of global sensitivity analysis...</td>\n",
       "    </tr>\n",
       "    <tr>\n",
       "      <th>1</th>\n",
       "      <td>3399227</td>\n",
       "      <td>2015.0</td>\n",
       "      <td>Accumulation of secondary metabolites in healt...</td>\n",
       "    </tr>\n",
       "    <tr>\n",
       "      <th>2</th>\n",
       "      <td>3399876</td>\n",
       "      <td>2013.0</td>\n",
       "      <td>Contrasting Physiological Responses of Jatroph...</td>\n",
       "    </tr>\n",
       "    <tr>\n",
       "      <th>3</th>\n",
       "      <td>3399878</td>\n",
       "      <td>2013.0</td>\n",
       "      <td>Gene Knockout Study Reveals That Cytosolic Asc...</td>\n",
       "    </tr>\n",
       "    <tr>\n",
       "      <th>4</th>\n",
       "      <td>3400890</td>\n",
       "      <td>2013.0</td>\n",
       "      <td>Ascorbate as seen through plant evolution: the...</td>\n",
       "    </tr>\n",
       "  </tbody>\n",
       "</table>\n",
       "</div>"
      ],
      "text/plain": [
       "   REFERENCE_ID    YEAR                                              TITLE\n",
       "0       4310874  2018.0  A new framework of global sensitivity analysis...\n",
       "1       3399227  2015.0  Accumulation of secondary metabolites in healt...\n",
       "2       3399876  2013.0  Contrasting Physiological Responses of Jatroph...\n",
       "3       3399878  2013.0  Gene Knockout Study Reveals That Cytosolic Asc...\n",
       "4       3400890  2013.0  Ascorbate as seen through plant evolution: the..."
      ]
     },
     "execution_count": 2,
     "metadata": {},
     "output_type": "execute_result"
    }
   ],
   "source": [
    "import cx_Oracle\n",
    "\n",
    "def hero_to_df(Userid, Password, Host, Port, SID, query):\n",
    "\n",
    "    dsn_tns = cx_Oracle.makedsn(host=Host, port=Port, sid=sid_name)\n",
    "    conn = cx_Oracle.connect(user=Userid, password=Password, dsn=dsn_tns)\n",
    "\n",
    "    df = pd.read_sql_query(query, conn)\n",
    "    conn.close()\n",
    "    \n",
    "    return(df)\n",
    "\n",
    "## HEROPRD\n",
    "Userid = \"rrice\"\n",
    "Password = \"Temp02122020\" \n",
    "Host = \"herodb.rtpnc.epa.gov\"\n",
    "Port = \"1521\"\n",
    "sid_name = \"heroprd\"\n",
    "\n",
    "def defaultquery(query):\n",
    "    return hero_to_df(Userid, Password, Host, Port, sid_name, query)\n",
    "\n",
    "query = '''select reference_id, year, title \n",
    "    from tbl_reference \n",
    "    where sdelete = 'No' \n",
    "    and reference_id in\n",
    "    (select reference_id from tbl_reference_usage where usage_id = 19134 and isdeleted = 0)'''\n",
    "\n",
    "df = defaultquery(query)\n",
    "df.head()"
   ]
  },
  {
   "cell_type": "code",
   "execution_count": 3,
   "metadata": {},
   "outputs": [],
   "source": [
    "from nltk.stem import PorterStemmer\n",
    "from nltk.tokenize import word_tokenize\n",
    "from nltk.corpus import stopwords\n",
    "import re\n",
    "\n",
    "stop_words = set(stopwords.words('english'))\n",
    "ps = PorterStemmer()\n",
    "\n",
    "def nltk_process(words):\n",
    "\n",
    "    tokens = word_tokenize(words)\n",
    "    stopword_filtered = [w for w in tokens if not w in stop_words]\n",
    "    \n",
    "    stemmed_words = []\n",
    "    for word in stopword_filtered:\n",
    "        stemmed_words.append(ps.stem(word))\n",
    "    \n",
    "    #remove digits and punctuation   \n",
    "    pattern = re.compile(r'[a-zA-Z]+')\n",
    "    cleaned = [x for x in stemmed_words if pattern.search(x)]\n",
    "    \n",
    "    return cleaned\n",
    "    \n",
    "nltkdf = pd.DataFrame()\n",
    "nltkdf['Text'] = df['TITLE'].dropna()  ###########changed to abstract\n",
    "nltkdf['Text_Processed'] = nltkdf['Text'].apply(lambda x: nltk_process(x))"
   ]
  },
  {
   "cell_type": "code",
   "execution_count": 4,
   "metadata": {},
   "outputs": [],
   "source": [
    "nltkdf.join(df).iloc[:,:].to_pickle('nltk_stemmed.pkl')"
   ]
  },
  {
   "cell_type": "code",
   "execution_count": null,
   "metadata": {},
   "outputs": [],
   "source": []
  }
 ],
 "metadata": {
  "kernelspec": {
   "display_name": "Python 3",
   "language": "python",
   "name": "python3"
  },
  "language_info": {
   "codemirror_mode": {
    "name": "ipython",
    "version": 3
   },
   "file_extension": ".py",
   "mimetype": "text/x-python",
   "name": "python",
   "nbconvert_exporter": "python",
   "pygments_lexer": "ipython3",
   "version": "3.6.10"
  }
 },
 "nbformat": 4,
 "nbformat_minor": 2
}
