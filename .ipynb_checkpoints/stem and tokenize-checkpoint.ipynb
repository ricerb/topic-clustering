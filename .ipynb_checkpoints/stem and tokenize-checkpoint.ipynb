{
 "cells": [
  {
   "cell_type": "code",
   "execution_count": 6,
   "metadata": {},
   "outputs": [],
   "source": [
    "import pandas as pd\n",
    "import spacy"
   ]
  },
  {
   "cell_type": "code",
   "execution_count": 7,
   "metadata": {},
   "outputs": [],
   "source": [
    "df = pd.read_excel('Night Shift Work and Light at Night_ Human cancer and biomonitoring studies (2018)-refs.xlsx')\n",
    "ndf = pd.DataFrame()\n",
    "nltkdf = pd.DataFrame()"
   ]
  },
  {
   "cell_type": "code",
   "execution_count": 5,
   "metadata": {},
   "outputs": [],
   "source": [
    "sp = spacy.load('en_core_web_sm')\n",
    "\n",
    "ndf['Title'] = df['Title']\n",
    "ndf['Title_Doc'] = df['Title'].apply(lambda x: sp(x))"
   ]
  },
  {
   "cell_type": "code",
   "execution_count": 6,
   "metadata": {},
   "outputs": [],
   "source": [
    "def process(sentence):\n",
    "    f_sentence = []\n",
    "    for word in sentence:\n",
    "        if word.is_stop == False:\n",
    "            f_sentence.append(word)\n",
    "            \n",
    "    p_sentence = []\n",
    "    for word in f_sentence:\n",
    "        if word.is_punct == False:\n",
    "            p_sentence.append(word)\n",
    "            \n",
    "    lem = []\n",
    "    for word in p_sentence:\n",
    "        lem.append(word.lemma_)\n",
    "        \n",
    "    return lem\n",
    "\n",
    "ndf['Title_Processed'] = ndf['Title_Doc'].apply(lambda x: process(x))"
   ]
  },
  {
   "cell_type": "code",
   "execution_count": 55,
   "metadata": {},
   "outputs": [],
   "source": [
    "ndf.to_pickle('lemmatized.pkl')"
   ]
  },
  {
   "cell_type": "code",
   "execution_count": 8,
   "metadata": {},
   "outputs": [],
   "source": [
    "from nltk.stem import PorterStemmer\n",
    "from nltk.tokenize import word_tokenize\n",
    "from nltk.corpus import stopwords\n",
    "\n",
    "stop_words = set(stopwords.words('english'))\n",
    "ps = PorterStemmer()\n",
    "\n",
    "def nltk_process(words):\n",
    "    tokens = word_tokenize(words)\n",
    "    \n",
    "    stopword_filtered = [w for w in tokens if not w in stop_words]\n",
    "    \n",
    "    stemmed_words = []\n",
    "    for word in stopword_filtered:\n",
    "        stemmed_words.append(ps.stem(word))\n",
    "    \n",
    "    return stemmed_words\n",
    "    \n",
    "    \n",
    "nltkdf['Title'] = df['Title']\n",
    "nltkdf['Title_Processed'] = nltkdf['Title'].apply(lambda x: nltk_process(x))"
   ]
  },
  {
   "cell_type": "code",
   "execution_count": 10,
   "metadata": {},
   "outputs": [],
   "source": [
    "nltkdf.to_pickle('nltk_stemmed.pkl')"
   ]
  },
  {
   "cell_type": "code",
   "execution_count": null,
   "metadata": {},
   "outputs": [],
   "source": []
  }
 ],
 "metadata": {
  "kernelspec": {
   "display_name": "Python 3",
   "language": "python",
   "name": "python3"
  },
  "language_info": {
   "codemirror_mode": {
    "name": "ipython",
    "version": 3
   },
   "file_extension": ".py",
   "mimetype": "text/x-python",
   "name": "python",
   "nbconvert_exporter": "python",
   "pygments_lexer": "ipython3",
   "version": "3.7.3"
  }
 },
 "nbformat": 4,
 "nbformat_minor": 2
}
